{
 "cells": [
  {
   "cell_type": "code",
   "execution_count": 1,
   "metadata": {},
   "outputs": [],
   "source": [
    "tf_name = 'BHLHE40'\n",
    "file_name = 'Mus_musculus|M00251_1.94d|Badis09|Bhlhb2_1274.3=v2.txt'\n",
    "in_dir = 'data'\n",
    "gpu_id = 2"
   ]
  },
  {
   "cell_type": "code",
   "execution_count": 2,
   "metadata": {},
   "outputs": [],
   "source": [
    "import os\n",
    "import numpy as np\n",
    "import pandas as pd\n",
    "from dgutils.pandas import add_column, add_columns"
   ]
  },
  {
   "cell_type": "code",
   "execution_count": 3,
   "metadata": {},
   "outputs": [
    {
     "name": "stdout",
     "output_type": "stream",
     "text": [
      "Loading input data file: data/BHLHE40/Mus_musculus|M00251_1.94d|Badis09|Bhlhb2_1274.3=v2.txt\n"
     ]
    }
   ],
   "source": [
    "assert file_name.endswith('.txt')\n",
    "\n",
    "_file_name = os.path.join(in_dir, tf_name, file_name)\n",
    "print(\"Loading input data file: %s\" % _file_name)\n",
    "df = pd.read_csv(_file_name,\n",
    "                 names=['intensity', 'sequence'], delim_whitespace=True)"
   ]
  },
  {
   "cell_type": "code",
   "execution_count": 4,
   "metadata": {},
   "outputs": [
    {
     "name": "stdout",
     "output_type": "stream",
     "text": [
      "Drop NaN's in log intensity, before: 41834\n",
      "after 41721\n",
      "lengths: [36]\n",
      "median length: 36\n",
      "Drop non-median length rows, before: 41721\n",
      "After: 41721\n"
     ]
    },
    {
     "name": "stderr",
     "output_type": "stream",
     "text": [
      "/home/alice/anaconda2/envs/tf_gpu/lib/python2.7/site-packages/ipykernel_launcher.py:18: RuntimeWarning: divide by zero encountered in log\n",
      "/home/alice/anaconda2/envs/tf_gpu/lib/python2.7/site-packages/ipykernel_launcher.py:18: RuntimeWarning: invalid value encountered in log\n"
     ]
    }
   ],
   "source": [
    "def _process_seq(s):\n",
    "    if 'GTCTGTGTTCCGTTGTCCGTGCTG' in s:\n",
    "        return s.replace('GTCTGTGTTCCGTTGTCCGTGCTG', '')\n",
    "    else:\n",
    "        return None\n",
    "\n",
    "\n",
    "# if sequence length is 60, trim primer suffix\n",
    "if len(df.iloc[0]['sequence']) == 60:\n",
    "    df = add_column(df, 'sequence', ['sequence'], _process_seq)\n",
    "    # drop those entries where primer is not present\n",
    "    print(\"dropping %d rows\" % len(df[df['sequence'].isna()]))\n",
    "    print(\"before %d\" % len(df))\n",
    "    df = df.dropna(subset=['sequence'])\n",
    "    print(\"after %d\" % len(df))\n",
    "\n",
    "# log intensity\n",
    "df = add_column(df, 'log_intensity', ['intensity'], lambda x: np.log(x))\n",
    "# drop nan's\n",
    "# replace inf with nan\n",
    "df = df.replace([np.inf, -np.inf], np.nan)\n",
    "print(\"Drop NaN's in log intensity, before: %d\" % len(df))\n",
    "df = df.dropna(subset=['log_intensity'])\n",
    "print(\"after %d\" % len(df))\n",
    "\n",
    "# some sequence might be of different length, drop them\n",
    "print(\"lengths: %s\" % df.sequence.str.len().unique())\n",
    "print(\"median length: %d\" % df.sequence.str.len().median())\n",
    "print(\"Drop non-median length rows, before: %d\" % len(df))\n",
    "df = df[df.sequence.str.len() == df.sequence.str.len().median()]\n",
    "print(\"After: %d\" % len(df))"
   ]
  },
  {
   "cell_type": "code",
   "execution_count": 5,
   "metadata": {},
   "outputs": [],
   "source": [
    "# split training/validation + testing\n",
    "train_mask = np.random.rand(len(df)) < 0.8\n",
    "df_train = df[train_mask]\n",
    "df_test = df[~train_mask]"
   ]
  },
  {
   "cell_type": "code",
   "execution_count": 6,
   "metadata": {},
   "outputs": [],
   "source": [
    "# encode data\n",
    "IN_MAP = np.asarray([[0, 0, 0, 0],\n",
    "                     [1, 0, 0, 0],\n",
    "                     [0, 1, 0, 0],\n",
    "                     [0, 0, 1, 0],\n",
    "                     [0, 0, 0, 1]])\n",
    "_data_input = []\n",
    "_data_output = []\n",
    "for i, row in df_train.iterrows():\n",
    "    seq = row['sequence']\n",
    "    seq = seq.upper().replace('A', '1').replace('C', '2').replace('G', '3').replace('T', '4').replace('N', '0')\n",
    "    x = np.asarray(map(int, list(seq)))\n",
    "    x = IN_MAP[x.astype('int8')]\n",
    "    _data_input.append(x)\n",
    "\n",
    "    _val = [row['log_intensity']]\n",
    "    _data_output.append(_val)\n",
    "\n",
    "X_train = np.swapaxes(np.swapaxes(np.stack(_data_input, axis=2), 0, 2), 1, 2)\n",
    "Y_train = np.swapaxes(np.stack(_data_output, axis=1), 0, 1)"
   ]
  },
  {
   "cell_type": "code",
   "execution_count": null,
   "metadata": {},
   "outputs": [],
   "source": []
  },
  {
   "cell_type": "code",
   "execution_count": 7,
   "metadata": {},
   "outputs": [
    {
     "data": {
      "text/plain": [
       "array([], dtype=float64)"
      ]
     },
     "execution_count": 7,
     "metadata": {},
     "output_type": "execute_result"
    }
   ],
   "source": [
    "Y_train[np.where(np.isinf(Y_train))]"
   ]
  },
  {
   "cell_type": "code",
   "execution_count": null,
   "metadata": {},
   "outputs": [],
   "source": []
  }
 ],
 "metadata": {
  "kernelspec": {
   "display_name": "tf_gpu",
   "language": "python",
   "name": "tf_gpu"
  },
  "language_info": {
   "codemirror_mode": {
    "name": "ipython",
    "version": 2
   },
   "file_extension": ".py",
   "mimetype": "text/x-python",
   "name": "python",
   "nbconvert_exporter": "python",
   "pygments_lexer": "ipython2",
   "version": "2.7.15"
  }
 },
 "nbformat": 4,
 "nbformat_minor": 2
}
