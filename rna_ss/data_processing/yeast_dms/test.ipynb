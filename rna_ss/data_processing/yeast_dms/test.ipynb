{
 "cells": [
  {
   "cell_type": "code",
   "execution_count": 1,
   "metadata": {},
   "outputs": [],
   "source": [
    "import os\n",
    "import gzip\n",
    "import numpy as np\n",
    "import pandas as pd\n",
    "from Bio import SeqIO\n",
    "from Bio.Seq import Seq\n",
    "from utils import Interval, FastaGenome, WigTrack\n",
    "from dgutils.pandas import add_column\n",
    "# from bx.wiggle import IntervalReader"
   ]
  },
  {
   "cell_type": "code",
   "execution_count": 2,
   "metadata": {},
   "outputs": [],
   "source": [
    "df_anno = pd.read_csv('raw_data/annotation/ncbiRefSeqCurated.txt.gz', sep='\\t', header=None, \n",
    "                     names=['bin', 'name', 'chrom', 'strand', 'tx_start', 'tx_end',\n",
    "                          'cds_start', 'cds_end', 'exon_count', 'exon_starts', 'exon_ends',\n",
    "                          'score', 'name_2', 'cds_start_stat', 'cds_end_stat', 'exon_frames'])"
   ]
  },
  {
   "cell_type": "code",
   "execution_count": 3,
   "metadata": {},
   "outputs": [],
   "source": [
    "# debug\n",
    "df_anno = df_anno.head(100)"
   ]
  },
  {
   "cell_type": "code",
   "execution_count": 4,
   "metadata": {},
   "outputs": [
    {
     "data": {
      "text/html": [
       "<div>\n",
       "<style scoped>\n",
       "    .dataframe tbody tr th:only-of-type {\n",
       "        vertical-align: middle;\n",
       "    }\n",
       "\n",
       "    .dataframe tbody tr th {\n",
       "        vertical-align: top;\n",
       "    }\n",
       "\n",
       "    .dataframe thead th {\n",
       "        text-align: right;\n",
       "    }\n",
       "</style>\n",
       "<table border=\"1\" class=\"dataframe\">\n",
       "  <thead>\n",
       "    <tr style=\"text-align: right;\">\n",
       "      <th></th>\n",
       "      <th>bin</th>\n",
       "      <th>name</th>\n",
       "      <th>chrom</th>\n",
       "      <th>strand</th>\n",
       "      <th>tx_start</th>\n",
       "      <th>tx_end</th>\n",
       "      <th>cds_start</th>\n",
       "      <th>cds_end</th>\n",
       "      <th>exon_count</th>\n",
       "      <th>exon_starts</th>\n",
       "      <th>exon_ends</th>\n",
       "      <th>score</th>\n",
       "      <th>name_2</th>\n",
       "      <th>cds_start_stat</th>\n",
       "      <th>cds_end_stat</th>\n",
       "      <th>exon_frames</th>\n",
       "    </tr>\n",
       "  </thead>\n",
       "  <tbody>\n",
       "    <tr>\n",
       "      <th>0</th>\n",
       "      <td>585</td>\n",
       "      <td>NM_001180043.1</td>\n",
       "      <td>chrI</td>\n",
       "      <td>-</td>\n",
       "      <td>1806</td>\n",
       "      <td>2169</td>\n",
       "      <td>1806</td>\n",
       "      <td>2169</td>\n",
       "      <td>1</td>\n",
       "      <td>1806,</td>\n",
       "      <td>2169,</td>\n",
       "      <td>0</td>\n",
       "      <td>PAU8</td>\n",
       "      <td>cmpl</td>\n",
       "      <td>cmpl</td>\n",
       "      <td>0,</td>\n",
       "    </tr>\n",
       "    <tr>\n",
       "      <th>1</th>\n",
       "      <td>585</td>\n",
       "      <td>NM_001184582.1</td>\n",
       "      <td>chrI</td>\n",
       "      <td>+</td>\n",
       "      <td>2479</td>\n",
       "      <td>2707</td>\n",
       "      <td>2479</td>\n",
       "      <td>2707</td>\n",
       "      <td>1</td>\n",
       "      <td>2479,</td>\n",
       "      <td>2707,</td>\n",
       "      <td>0</td>\n",
       "      <td>YAL067W-A</td>\n",
       "      <td>cmpl</td>\n",
       "      <td>cmpl</td>\n",
       "      <td>0,</td>\n",
       "    </tr>\n",
       "    <tr>\n",
       "      <th>2</th>\n",
       "      <td>585</td>\n",
       "      <td>NM_001178208.1</td>\n",
       "      <td>chrI</td>\n",
       "      <td>-</td>\n",
       "      <td>7234</td>\n",
       "      <td>9016</td>\n",
       "      <td>7234</td>\n",
       "      <td>9016</td>\n",
       "      <td>1</td>\n",
       "      <td>7234,</td>\n",
       "      <td>9016,</td>\n",
       "      <td>0</td>\n",
       "      <td>SEO1</td>\n",
       "      <td>cmpl</td>\n",
       "      <td>cmpl</td>\n",
       "      <td>0,</td>\n",
       "    </tr>\n",
       "    <tr>\n",
       "      <th>3</th>\n",
       "      <td>585</td>\n",
       "      <td>NM_001179897.1</td>\n",
       "      <td>chrI</td>\n",
       "      <td>-</td>\n",
       "      <td>11564</td>\n",
       "      <td>11951</td>\n",
       "      <td>11564</td>\n",
       "      <td>11951</td>\n",
       "      <td>1</td>\n",
       "      <td>11564,</td>\n",
       "      <td>11951,</td>\n",
       "      <td>0</td>\n",
       "      <td>YAL065C</td>\n",
       "      <td>cmpl</td>\n",
       "      <td>cmpl</td>\n",
       "      <td>0,</td>\n",
       "    </tr>\n",
       "    <tr>\n",
       "      <th>4</th>\n",
       "      <td>585</td>\n",
       "      <td>NM_001180042.1</td>\n",
       "      <td>chrI</td>\n",
       "      <td>+</td>\n",
       "      <td>12045</td>\n",
       "      <td>12426</td>\n",
       "      <td>12045</td>\n",
       "      <td>12426</td>\n",
       "      <td>1</td>\n",
       "      <td>12045,</td>\n",
       "      <td>12426,</td>\n",
       "      <td>0</td>\n",
       "      <td>YAL064W-B</td>\n",
       "      <td>cmpl</td>\n",
       "      <td>cmpl</td>\n",
       "      <td>0,</td>\n",
       "    </tr>\n",
       "  </tbody>\n",
       "</table>\n",
       "</div>"
      ],
      "text/plain": [
       "   bin            name chrom strand  tx_start  tx_end  cds_start  cds_end  \\\n",
       "0  585  NM_001180043.1  chrI      -      1806    2169       1806     2169   \n",
       "1  585  NM_001184582.1  chrI      +      2479    2707       2479     2707   \n",
       "2  585  NM_001178208.1  chrI      -      7234    9016       7234     9016   \n",
       "3  585  NM_001179897.1  chrI      -     11564   11951      11564    11951   \n",
       "4  585  NM_001180042.1  chrI      +     12045   12426      12045    12426   \n",
       "\n",
       "   exon_count exon_starts exon_ends  score     name_2 cds_start_stat  \\\n",
       "0           1       1806,     2169,      0       PAU8           cmpl   \n",
       "1           1       2479,     2707,      0  YAL067W-A           cmpl   \n",
       "2           1       7234,     9016,      0       SEO1           cmpl   \n",
       "3           1      11564,    11951,      0    YAL065C           cmpl   \n",
       "4           1      12045,    12426,      0  YAL064W-B           cmpl   \n",
       "\n",
       "  cds_end_stat exon_frames  \n",
       "0         cmpl          0,  \n",
       "1         cmpl          0,  \n",
       "2         cmpl          0,  \n",
       "3         cmpl          0,  \n",
       "4         cmpl          0,  "
      ]
     },
     "execution_count": 4,
     "metadata": {},
     "output_type": "execute_result"
    }
   ],
   "source": [
    "df_anno.head()"
   ]
  },
  {
   "cell_type": "code",
   "execution_count": 11,
   "metadata": {},
   "outputs": [],
   "source": [
    "def get_transcript_ditv(chrom, strand, exon_starts, exon_ends):\n",
    "#     chrom = row['chrom']\n",
    "#     strand = row['strand']\n",
    "    exon_starts = [int(x) for x in exon_starts.rstrip(',').split(',')]\n",
    "    exon_ends = [int(x) for x in exon_ends.rstrip(',').split(',')]\n",
    "    return [Interval(chrom, strand, s, e) for s, e in zip(exon_starts, exon_ends)]"
   ]
  },
  {
   "cell_type": "code",
   "execution_count": 6,
   "metadata": {},
   "outputs": [],
   "source": [
    "genome = FastaGenome('raw_data/fasta/')"
   ]
  },
  {
   "cell_type": "code",
   "execution_count": null,
   "metadata": {},
   "outputs": [],
   "source": []
  },
  {
   "cell_type": "code",
   "execution_count": 7,
   "metadata": {},
   "outputs": [],
   "source": [
    "# select transcripts with complete cds status\n",
    "df_anno = df_anno[(df_anno['cds_start_stat'] == 'cmpl') & (df_anno['cds_end_stat'] == 'cmpl')]"
   ]
  },
  {
   "cell_type": "code",
   "execution_count": 8,
   "metadata": {},
   "outputs": [
    {
     "data": {
      "text/plain": [
       "98"
      ]
     },
     "execution_count": 8,
     "metadata": {},
     "output_type": "execute_result"
    }
   ],
   "source": [
    "len(df_anno)"
   ]
  },
  {
   "cell_type": "code",
   "execution_count": 9,
   "metadata": {},
   "outputs": [],
   "source": [
    "wig_track = WigTrack(genome.chrom_sizes,'raw_data/dms/GSE45803_Feb13_VivoAllextra_1_15_PLUS.wig.gz',\n",
    "                    'raw_data/dms/GSE45803_Feb13_VivoAllextra_1_15_Minus.wig.gz', np.nan)"
   ]
  },
  {
   "cell_type": "code",
   "execution_count": 12,
   "metadata": {},
   "outputs": [
    {
     "name": "stderr",
     "output_type": "stream",
     "text": [
      "Processing ditv: 100%|██████████| 98/98 [00:00<00:00, 12557.80it/s]\n"
     ]
    }
   ],
   "source": [
    "# get ditv\n",
    "df_anno = add_column(df_anno, 'ditv', ['chrom', 'strand', 'exon_starts', 'exon_ends'], get_transcript_ditv)"
   ]
  },
  {
   "cell_type": "code",
   "execution_count": 13,
   "metadata": {},
   "outputs": [
    {
     "name": "stderr",
     "output_type": "stream",
     "text": [
      "Processing sequence: 100%|██████████| 98/98 [00:00<00:00, 14308.55it/s]\n"
     ]
    }
   ],
   "source": [
    "# add sequence\n",
    "df_anno = add_column(df_anno, 'sequence', ['ditv'], lambda x: genome.dna(x))"
   ]
  },
  {
   "cell_type": "code",
   "execution_count": 14,
   "metadata": {},
   "outputs": [
    {
     "name": "stderr",
     "output_type": "stream",
     "text": [
      "Processing data: 100%|██████████| 98/98 [00:00<00:00, 15241.27it/s]\n"
     ]
    }
   ],
   "source": [
    "# add data\n",
    "df_anno = add_column(df_anno, 'data', ['ditv'], lambda x: wig_track[x])"
   ]
  },
  {
   "cell_type": "code",
   "execution_count": null,
   "metadata": {},
   "outputs": [],
   "source": []
  },
  {
   "cell_type": "code",
   "execution_count": null,
   "metadata": {},
   "outputs": [],
   "source": []
  },
  {
   "cell_type": "code",
   "execution_count": 27,
   "metadata": {
    "scrolled": false
   },
   "outputs": [],
   "source": [
    "# tmp = df_anno[['name', 'name_2', 'sequence', 'data', 'chrom', 'strand', 'tx_start', 'tx_end']].iloc[20]\n",
    "# print tmp\n",
    "# print tmp['sequence']\n",
    "# print tmp['data'].tolist()"
   ]
  },
  {
   "cell_type": "code",
   "execution_count": null,
   "metadata": {},
   "outputs": [],
   "source": []
  },
  {
   "cell_type": "code",
   "execution_count": null,
   "metadata": {},
   "outputs": [],
   "source": []
  },
  {
   "cell_type": "code",
   "execution_count": null,
   "metadata": {},
   "outputs": [],
   "source": [
    "wig_track[Interval('chrI', '+', 31155, 31180)]"
   ]
  },
  {
   "cell_type": "code",
   "execution_count": null,
   "metadata": {},
   "outputs": [],
   "source": [
    "wig_track[[Interval('chrI', '+', 31155, 31158), Interval('chrI', '+', 31176, 31180)]]"
   ]
  },
  {
   "cell_type": "code",
   "execution_count": null,
   "metadata": {},
   "outputs": [],
   "source": [
    "wig_track[Interval('chrI', '-', 7339, 7359)]"
   ]
  },
  {
   "cell_type": "code",
   "execution_count": null,
   "metadata": {},
   "outputs": [],
   "source": [
    "wig_track[[Interval('chrI', '-', 7339, 7342), Interval('chrI', '-', 7354, 7359)]]"
   ]
  },
  {
   "cell_type": "code",
   "execution_count": null,
   "metadata": {},
   "outputs": [],
   "source": []
  }
 ],
 "metadata": {
  "kernelspec": {
   "display_name": "Python 2",
   "language": "python",
   "name": "python2"
  },
  "language_info": {
   "codemirror_mode": {
    "name": "ipython",
    "version": 2
   },
   "file_extension": ".py",
   "mimetype": "text/x-python",
   "name": "python",
   "nbconvert_exporter": "python",
   "pygments_lexer": "ipython2",
   "version": "2.7.15"
  }
 },
 "nbformat": 4,
 "nbformat_minor": 1
}
