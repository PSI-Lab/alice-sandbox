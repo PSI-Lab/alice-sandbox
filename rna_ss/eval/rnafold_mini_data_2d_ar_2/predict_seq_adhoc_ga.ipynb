{
 "cells": [
  {
   "cell_type": "code",
   "execution_count": 1,
   "metadata": {},
   "outputs": [
    {
     "name": "stderr",
     "output_type": "stream",
     "text": [
      "Using TensorFlow backend.\n"
     ]
    }
   ],
   "source": [
    "from utils import PredictorSPlitModel, arr2db, forna_url, DataEncoder"
   ]
  },
  {
   "cell_type": "code",
   "execution_count": 2,
   "metadata": {},
   "outputs": [],
   "source": [
    "# running on CPU is extremely slow!"
   ]
  },
  {
   "cell_type": "code",
   "execution_count": 3,
   "metadata": {},
   "outputs": [],
   "source": [
    "import numpy as np"
   ]
  },
  {
   "cell_type": "code",
   "execution_count": 4,
   "metadata": {},
   "outputs": [],
   "source": [
    "from collections import Counter"
   ]
  },
  {
   "cell_type": "code",
   "execution_count": 5,
   "metadata": {},
   "outputs": [],
   "source": [
    "import keras"
   ]
  },
  {
   "cell_type": "code",
   "execution_count": 6,
   "metadata": {},
   "outputs": [
    {
     "name": "stdout",
     "output_type": "stream",
     "text": [
      "4\n"
     ]
    },
    {
     "name": "stderr",
     "output_type": "stream",
     "text": [
      "WARNING:root:Model missing names layers, will try to infer (unreliable!).\n",
      "utils.py:366: UserWarning: Update your `Model` call to the Keras 2 API: `Model(outputs=[<tf.Tenso..., inputs=[<tf.Tenso...)`\n",
      "  output=[layer_final_hidden.output, layer_fe.output])\n",
      "utils.py:376: UserWarning: Update your `Model` call to the Keras 2 API: `Model(outputs=Tensor(\"ar..., inputs=[<tf.Tenso...)`\n",
      "  output=new_output)\n"
     ]
    }
   ],
   "source": [
    "# model = Predictor('model/2019_09_08.1/model.hdf5')\n",
    "model = PredictorSPlitModel('model/2019_09_12.1/model.hdf5')"
   ]
  },
  {
   "cell_type": "code",
   "execution_count": 7,
   "metadata": {},
   "outputs": [
    {
     "name": "stderr",
     "output_type": "stream",
     "text": [
      " 46%|████▌     | 6/13 [00:00<00:01,  5.57it/s]utils.py:483: RuntimeWarning: divide by zero encountered in log\n",
      "  _lp = vals_sampled * np.log(_vals) + (1 - vals_sampled) * np.log(1 - _vals)\n",
      "100%|██████████| 13/13 [00:00<00:00, 24.00it/s]\n"
     ]
    }
   ],
   "source": [
    "# seq='GGCGCAGUGGGCUAGCGCCACUCAAAAGGCCCAU'\n",
    "\n",
    "# seq='GUUGUGAAAU'\n",
    "\n",
    "seq = 'GAUCACCUUUGGAUC'\n",
    "\n",
    "# y, logp, fe = model.predict_one_step_ar(seq=seq, \n",
    "#                                        n_sample=100, start_offset=2, p_clip=1e-12)\n",
    "\n",
    "y, logp, fe = model.predict_one_step_ar(seq=seq, \n",
    "                                       n_sample=10, start_offset=2, p_clip=1e-12)\n"
   ]
  },
  {
   "cell_type": "code",
   "execution_count": 8,
   "metadata": {},
   "outputs": [
    {
     "data": {
      "text/plain": [
       "(10, 15, 15, 1)"
      ]
     },
     "execution_count": 8,
     "metadata": {},
     "output_type": "execute_result"
    }
   ],
   "source": [
    "y.shape"
   ]
  },
  {
   "cell_type": "code",
   "execution_count": 9,
   "metadata": {},
   "outputs": [],
   "source": [
    "# idx_example = 0\n",
    "# idx1 = 3\n",
    "# idx2 = 6\n",
    "\n",
    "# idx_example = 0\n",
    "# idx1 = 4\n",
    "# idx2 = 13\n",
    "\n",
    "idx_example = 0\n",
    "idx1 = 4\n",
    "idx2 = 10\n",
    "\n",
    "# idx_example = 0\n",
    "# idx1 = 5\n",
    "# idx2 = 9\n",
    "\n",
    "# make sure to pick the index where the current val is 0 to do GA\n",
    "assert y[idx_example, idx1, idx2, 0] == 0"
   ]
  },
  {
   "cell_type": "code",
   "execution_count": 10,
   "metadata": {
    "scrolled": true
   },
   "outputs": [
    {
     "name": "stdout",
     "output_type": "stream",
     "text": [
      "0 5.326366e-07\n",
      "1 6.4237014e-07\n",
      "2 7.5124166e-07\n",
      "3 8.826979e-07\n",
      "4 1.0960549e-06\n",
      "5 1.6026122e-06\n",
      "6 2.2043012e-06\n",
      "7 2.79003e-06\n",
      "8 3.7805123e-06\n",
      "9 5.787541e-06\n",
      "10 4.762825e-05\n",
      "11 0.2417653\n",
      "12 0.9408141\n",
      "13 0.9829748\n",
      "14 0.98813546\n",
      "15 0.99117273\n",
      "16 0.99261624\n",
      "17 0.9919166\n",
      "18 0.99309134\n",
      "19 0.9924992\n",
      "20 0.99353796\n",
      "21 0.99321413\n",
      "22 0.9934662\n",
      "23 0.99515295\n",
      "24 0.9946128\n",
      "25 0.9959888\n",
      "26 0.99595046\n",
      "27 0.9956611\n",
      "28 0.9959726\n",
      "29 0.99616456\n",
      "30 0.99606436\n",
      "31 0.9963852\n",
      "32 0.9952944\n",
      "33 0.99637234\n",
      "34 0.9957436\n",
      "35 0.9964162\n",
      "36 0.99582666\n",
      "37 0.9963349\n",
      "38 0.9957444\n",
      "39 0.99617165\n",
      "40 0.9964629\n",
      "41 0.99645597\n",
      "42 0.9964604\n",
      "43 0.995996\n",
      "44 0.9969778\n",
      "45 0.9957314\n",
      "46 0.99710566\n",
      "47 0.99718696\n",
      "48 0.9977144\n",
      "49 0.99770457\n",
      "50 0.99795973\n",
      "51 0.9973303\n",
      "52 0.9980464\n",
      "53 0.9976763\n",
      "54 0.9981383\n",
      "55 0.99787545\n",
      "56 0.99826056\n",
      "57 0.99830806\n",
      "58 0.99856746\n",
      "59 0.9984861\n",
      "60 0.99883455\n",
      "61 0.99891984\n",
      "62 0.9990219\n",
      "63 0.9988638\n",
      "64 0.99904746\n",
      "65 0.99838686\n",
      "66 0.9989392\n",
      "67 0.9990815\n",
      "68 0.9987656\n",
      "69 0.99900705\n",
      "70 0.9986914\n",
      "71 0.99904555\n",
      "72 0.99861574\n",
      "73 0.9989837\n",
      "74 0.99887186\n",
      "75 0.99881554\n",
      "76 0.9989888\n",
      "77 0.9988104\n",
      "78 0.9988142\n",
      "79 0.99885035\n",
      "80 0.99892175\n",
      "81 0.99886864\n",
      "82 0.9989925\n",
      "83 0.99875176\n",
      "84 0.99895203\n",
      "85 0.9987791\n",
      "86 0.9990151\n",
      "87 0.9984212\n",
      "88 0.99873537\n",
      "89 0.9990596\n",
      "90 0.9985897\n",
      "91 0.99893945\n",
      "92 0.99846715\n",
      "93 0.99888486\n",
      "94 0.9988416\n",
      "95 0.99895465\n",
      "96 0.99855\n",
      "97 0.9989901\n",
      "98 0.99850994\n",
      "99 0.99866045\n"
     ]
    }
   ],
   "source": [
    "\n",
    "# x_ite, seq_new = model.gradient_ascent(seq=seq, y_prev=y[idx_example, :, :, 0], idx1=idx1, idx2=idx2, \n",
    "#                                        n_ite=1000, lr=0.1, verbose=True)\n",
    "\n",
    "x_ite, seq_new = model.gradient_ascent(seq=seq, y_prev=y[idx_example, :, :, 0], idx1=idx1, idx2=idx2, \n",
    "                                       n_ite=100, lr=0.1, verbose=True)\n"
   ]
  },
  {
   "cell_type": "code",
   "execution_count": null,
   "metadata": {},
   "outputs": [],
   "source": []
  },
  {
   "cell_type": "code",
   "execution_count": 11,
   "metadata": {},
   "outputs": [
    {
     "data": {
      "text/plain": [
       "'GAUCACCUUUGGAUC'"
      ]
     },
     "execution_count": 11,
     "metadata": {},
     "output_type": "execute_result"
    }
   ],
   "source": [
    "seq"
   ]
  },
  {
   "cell_type": "code",
   "execution_count": 12,
   "metadata": {},
   "outputs": [
    {
     "data": {
      "text/plain": [
       "'GAUCCGCUUGGGAUC'"
      ]
     },
     "execution_count": 12,
     "metadata": {},
     "output_type": "execute_result"
    }
   ],
   "source": [
    "seq_new"
   ]
  },
  {
   "cell_type": "code",
   "execution_count": 13,
   "metadata": {},
   "outputs": [
    {
     "data": {
      "text/plain": [
       "False"
      ]
     },
     "execution_count": 13,
     "metadata": {},
     "output_type": "execute_result"
    }
   ],
   "source": [
    "seq_new == seq"
   ]
  },
  {
   "cell_type": "code",
   "execution_count": null,
   "metadata": {},
   "outputs": [],
   "source": []
  },
  {
   "cell_type": "code",
   "execution_count": 14,
   "metadata": {},
   "outputs": [],
   "source": [
    "# x_ite"
   ]
  },
  {
   "cell_type": "code",
   "execution_count": null,
   "metadata": {},
   "outputs": [],
   "source": []
  }
 ],
 "metadata": {
  "kernelspec": {
   "display_name": "Python 2",
   "language": "python",
   "name": "python2"
  },
  "language_info": {
   "codemirror_mode": {
    "name": "ipython",
    "version": 2
   },
   "file_extension": ".py",
   "mimetype": "text/x-python",
   "name": "python",
   "nbconvert_exporter": "python",
   "pygments_lexer": "ipython2",
   "version": "2.7.16"
  }
 },
 "nbformat": 4,
 "nbformat_minor": 2
}
