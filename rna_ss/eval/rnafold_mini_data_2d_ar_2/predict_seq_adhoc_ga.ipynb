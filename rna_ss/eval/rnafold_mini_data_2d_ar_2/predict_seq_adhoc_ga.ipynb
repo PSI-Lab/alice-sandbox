{
 "cells": [
  {
   "cell_type": "code",
   "execution_count": 1,
   "metadata": {},
   "outputs": [
    {
     "name": "stderr",
     "output_type": "stream",
     "text": [
      "Using TensorFlow backend.\n"
     ]
    }
   ],
   "source": [
    "from utils import PredictorSPlitModel, arr2db, forna_url, DataEncoder"
   ]
  },
  {
   "cell_type": "code",
   "execution_count": 2,
   "metadata": {},
   "outputs": [],
   "source": [
    "# running on CPU is extremely slow!"
   ]
  },
  {
   "cell_type": "code",
   "execution_count": 3,
   "metadata": {},
   "outputs": [],
   "source": [
    "import numpy as np"
   ]
  },
  {
   "cell_type": "code",
   "execution_count": 4,
   "metadata": {},
   "outputs": [],
   "source": [
    "from collections import Counter"
   ]
  },
  {
   "cell_type": "code",
   "execution_count": 5,
   "metadata": {},
   "outputs": [],
   "source": [
    "import keras"
   ]
  },
  {
   "cell_type": "code",
   "execution_count": 6,
   "metadata": {},
   "outputs": [
    {
     "name": "stdout",
     "output_type": "stream",
     "text": [
      "4\n"
     ]
    },
    {
     "name": "stderr",
     "output_type": "stream",
     "text": [
      "WARNING:root:Model missing names layers, will try to infer (unreliable!).\n",
      "utils.py:366: UserWarning: Update your `Model` call to the Keras 2 API: `Model(outputs=[<tf.Tenso..., inputs=[<tf.Tenso...)`\n",
      "  output=[layer_final_hidden.output, layer_fe.output])\n",
      "utils.py:376: UserWarning: Update your `Model` call to the Keras 2 API: `Model(outputs=Tensor(\"ar..., inputs=[<tf.Tenso...)`\n",
      "  output=new_output)\n"
     ]
    }
   ],
   "source": [
    "# model = Predictor('model/2019_09_08.1/model.hdf5')\n",
    "model = PredictorSPlitModel('model/2019_09_12.1/model.hdf5')"
   ]
  },
  {
   "cell_type": "code",
   "execution_count": 7,
   "metadata": {},
   "outputs": [
    {
     "name": "stderr",
     "output_type": "stream",
     "text": [
      " 46%|████▌     | 6/13 [00:00<00:01,  5.70it/s]utils.py:483: RuntimeWarning: divide by zero encountered in log\n",
      "  _lp = vals_sampled * np.log(_vals) + (1 - vals_sampled) * np.log(1 - _vals)\n",
      "100%|██████████| 13/13 [00:00<00:00, 24.47it/s]\n"
     ]
    }
   ],
   "source": [
    "# seq='GGCGCAGUGGGCUAGCGCCACUCAAAAGGCCCAU'\n",
    "\n",
    "# seq='GUUGUGAAAU'\n",
    "\n",
    "seq = 'GAUCACCUUUGGAUC'\n",
    "\n",
    "# y, logp, fe = model.predict_one_step_ar(seq=seq, \n",
    "#                                        n_sample=100, start_offset=2, p_clip=1e-12)\n",
    "\n",
    "y, logp, fe = model.predict_one_step_ar(seq=seq, \n",
    "                                       n_sample=10, start_offset=2, p_clip=1e-12)\n"
   ]
  },
  {
   "cell_type": "code",
   "execution_count": 8,
   "metadata": {},
   "outputs": [
    {
     "data": {
      "text/plain": [
       "(10, 15, 15, 1)"
      ]
     },
     "execution_count": 8,
     "metadata": {},
     "output_type": "execute_result"
    }
   ],
   "source": [
    "y.shape"
   ]
  },
  {
   "cell_type": "code",
   "execution_count": 9,
   "metadata": {},
   "outputs": [],
   "source": [
    "# idx_example = 0\n",
    "# idx1 = 3\n",
    "# idx2 = 6\n",
    "\n",
    "# idx_example = 0\n",
    "# idx1 = 4\n",
    "# idx2 = 13\n",
    "\n",
    "# idx_example = 0\n",
    "# idx1 = 4\n",
    "# idx2 = 10\n",
    "\n",
    "idx_example = 0\n",
    "idx1 = 5\n",
    "idx2 = 9\n",
    "\n",
    "# make sure to pick the index where the current val is 0 to do GA\n",
    "assert y[idx_example, idx1, idx2, 0] == 0"
   ]
  },
  {
   "cell_type": "code",
   "execution_count": 10,
   "metadata": {
    "scrolled": true
   },
   "outputs": [
    {
     "name": "stdout",
     "output_type": "stream",
     "text": [
      "0 6.039298e-06\n",
      "1 7.897746e-06\n",
      "2 9.402829e-06\n",
      "3 9.221658e-06\n",
      "4 9.333875e-06\n",
      "5 9.671937e-06\n",
      "6 1.1464743e-05\n",
      "7 1.4563936e-05\n",
      "8 6.6072857e-06\n",
      "9 1.5994614e-05\n",
      "10 1.6831576e-05\n",
      "11 1.8463146e-05\n",
      "12 1.204771e-05\n",
      "13 5.986469e-05\n",
      "14 4.179408e-05\n",
      "15 0.00019361981\n",
      "16 0.43806225\n",
      "17 0.97206\n",
      "18 0.98994803\n",
      "19 0.99139553\n",
      "20 0.9908828\n",
      "21 0.9921272\n",
      "22 0.9931364\n",
      "23 0.9916638\n",
      "24 0.9928559\n",
      "25 0.9930288\n",
      "26 0.99309844\n",
      "27 0.99188024\n",
      "28 0.9932468\n",
      "29 0.98991907\n",
      "30 0.9926085\n",
      "31 0.99326116\n",
      "32 0.991731\n",
      "33 0.9926087\n",
      "34 0.99178654\n",
      "35 0.99312544\n",
      "36 0.99289566\n",
      "37 0.9931462\n",
      "38 0.99236214\n",
      "39 0.99083734\n",
      "40 0.9927521\n",
      "41 0.99252933\n",
      "42 0.99265563\n",
      "43 0.99198276\n",
      "44 0.9923563\n",
      "45 0.9922236\n",
      "46 0.993439\n",
      "47 0.9938257\n",
      "48 0.9923624\n",
      "49 0.99220675\n",
      "50 0.99216366\n",
      "51 0.9938106\n",
      "52 0.9929993\n",
      "53 0.9934869\n",
      "54 0.9908751\n",
      "55 0.99314344\n",
      "56 0.9937132\n",
      "57 0.99214727\n",
      "58 0.9935334\n",
      "59 0.99292856\n",
      "60 0.9928421\n",
      "61 0.99295807\n",
      "62 0.9931056\n",
      "63 0.99291235\n",
      "64 0.9934721\n",
      "65 0.9921767\n",
      "66 0.9934743\n",
      "67 0.9917259\n",
      "68 0.99290884\n",
      "69 0.99351174\n",
      "70 0.992592\n",
      "71 0.99344325\n",
      "72 0.99256366\n",
      "73 0.9929246\n",
      "74 0.99233043\n",
      "75 0.9931039\n",
      "76 0.9927691\n",
      "77 0.9929766\n",
      "78 0.9925384\n",
      "79 0.9931403\n",
      "80 0.9919511\n",
      "81 0.9931251\n",
      "82 0.99262404\n",
      "83 0.99302167\n",
      "84 0.99261004\n",
      "85 0.992466\n",
      "86 0.9922172\n",
      "87 0.99350584\n",
      "88 0.99254405\n",
      "89 0.99290425\n",
      "90 0.9921829\n",
      "91 0.9926219\n",
      "92 0.99282235\n",
      "93 0.9929912\n",
      "94 0.9926254\n",
      "95 0.99264127\n",
      "96 0.99231917\n",
      "97 0.99328107\n",
      "98 0.9905537\n",
      "99 0.99230826\n"
     ]
    }
   ],
   "source": [
    "\n",
    "# x_ite, seq_new = model.gradient_ascent(seq=seq, y_prev=y[idx_example, :, :, 0], idx1=idx1, idx2=idx2, \n",
    "#                                        n_ite=1000, lr=0.1, verbose=True)\n",
    "\n",
    "x_ite, seq_new = model.gradient_ascent(seq=seq, y_prev=y[idx_example, :, :, 0], idx1=idx1, idx2=idx2, \n",
    "                                       n_ite=100, lr=0.1, verbose=True)\n"
   ]
  },
  {
   "cell_type": "code",
   "execution_count": null,
   "metadata": {},
   "outputs": [],
   "source": []
  },
  {
   "cell_type": "code",
   "execution_count": 11,
   "metadata": {},
   "outputs": [
    {
     "data": {
      "text/plain": [
       "'GAUCACCUUUGGAUC'"
      ]
     },
     "execution_count": 11,
     "metadata": {},
     "output_type": "execute_result"
    }
   ],
   "source": [
    "seq"
   ]
  },
  {
   "cell_type": "code",
   "execution_count": 12,
   "metadata": {},
   "outputs": [
    {
     "data": {
      "text/plain": [
       "'GAUCGCCUAGCGAUC'"
      ]
     },
     "execution_count": 12,
     "metadata": {},
     "output_type": "execute_result"
    }
   ],
   "source": [
    "seq_new"
   ]
  },
  {
   "cell_type": "code",
   "execution_count": 13,
   "metadata": {},
   "outputs": [
    {
     "data": {
      "text/plain": [
       "False"
      ]
     },
     "execution_count": 13,
     "metadata": {},
     "output_type": "execute_result"
    }
   ],
   "source": [
    "seq_new == seq"
   ]
  },
  {
   "cell_type": "code",
   "execution_count": null,
   "metadata": {},
   "outputs": [],
   "source": []
  },
  {
   "cell_type": "code",
   "execution_count": 14,
   "metadata": {},
   "outputs": [],
   "source": [
    "# x_ite"
   ]
  },
  {
   "cell_type": "code",
   "execution_count": null,
   "metadata": {},
   "outputs": [],
   "source": []
  }
 ],
 "metadata": {
  "kernelspec": {
   "display_name": "Python 2",
   "language": "python",
   "name": "python2"
  },
  "language_info": {
   "codemirror_mode": {
    "name": "ipython",
    "version": 2
   },
   "file_extension": ".py",
   "mimetype": "text/x-python",
   "name": "python",
   "nbconvert_exporter": "python",
   "pygments_lexer": "ipython2",
   "version": "2.7.16"
  }
 },
 "nbformat": 4,
 "nbformat_minor": 2
}
