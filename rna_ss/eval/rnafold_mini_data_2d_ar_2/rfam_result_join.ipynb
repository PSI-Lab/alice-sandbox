{
 "cells": [
  {
   "cell_type": "code",
   "execution_count": 1,
   "metadata": {},
   "outputs": [],
   "source": [
    "# join result generated from multiple 100-structure runs into 1000 structures"
   ]
  },
  {
   "cell_type": "code",
   "execution_count": 2,
   "metadata": {},
   "outputs": [
    {
     "name": "stderr",
     "output_type": "stream",
     "text": [
      "/Users/alicegao/anaconda2/envs/gk_mz_plot/lib/python2.7/site-packages/genome_kit/data_manager.py:8: TqdmExperimentalWarning: Using `tqdm.autonotebook.tqdm` in notebook mode. Use `tqdm.tqdm` instead to force console mode (e.g. in jupyter console)\n",
      "  from tqdm.autonotebook import tqdm\n"
     ]
    }
   ],
   "source": [
    "import pandas as pd\n",
    "import numpy as np\n",
    "from dgutils.pandas import add_column, add_columns"
   ]
  },
  {
   "cell_type": "code",
   "execution_count": 3,
   "metadata": {},
   "outputs": [],
   "source": [
    "sample_filename = 'result/prediction.rfam.rnafold_100.2019_09_25_1.sample100.pkl'\n",
    "sample1_filename = 'result/prediction.rfam.rnafold_1000.2019_09_25_1.sample_new.part1.pkl'\n",
    "sample2_filename = 'result/prediction.rfam.rnafold_1000.2019_09_25_1.sample_new.part2.pkl'\n",
    "sample3_filename = 'result/prediction.rfam.rnafold_1000.2019_09_25_1.sample_new.part3.pkl'\n",
    "sample4_filename = 'result/prediction.rfam.rnafold_1000.2019_09_25_1.sample_new.part4.pkl'\n",
    "sample5_filename = 'result/prediction.rfam.rnafold_1000.2019_09_25_1.sample_new.part5.pkl'\n",
    "sample6_filename = 'result/prediction.rfam.rnafold_1000.2019_09_25_1.sample_new.part6.pkl'\n",
    "sample7_filename = 'result/prediction.rfam.rnafold_1000.2019_09_25_1.sample_new.part7.pkl'\n",
    "sample8_filename = 'result/prediction.rfam.rnafold_1000.2019_09_25_1.sample_new.part8.pkl'\n",
    "sample9_filename = 'result/prediction.rfam.rnafold_1000.2019_09_25_1.sample_new.part9.pkl'\n",
    "\n",
    "ml_filename = 'result/prediction.rfam.rnafold_100.2019_09_25_1.ml_path.pkl' "
   ]
  },
  {
   "cell_type": "code",
   "execution_count": 4,
   "metadata": {},
   "outputs": [],
   "source": [
    "df_sample = pd.read_pickle(sample_filename)\n",
    "\n",
    "# keep 1000 samples from rnafold (use second file)\n",
    "_df_tmp = pd.read_pickle(sample1_filename)\n",
    "df_sample['rnafold_one_idx'] = _df_tmp['rnafold_one_idx']\n",
    "df_sample1 = _df_tmp[['seq_id', 'pred_idx']].rename(columns={'pred_idx': 'pred1_idx'})\n",
    "\n",
    "df_sample2 = pd.read_pickle(sample2_filename)[['seq_id', 'pred_idx']].rename(columns={'pred_idx': 'pred2_idx'})\n",
    "df_sample3 = pd.read_pickle(sample3_filename)[['seq_id', 'pred_idx']].rename(columns={'pred_idx': 'pred3_idx'})\n",
    "df_sample4 = pd.read_pickle(sample1_filename)[['seq_id', 'pred_idx']].rename(columns={'pred_idx': 'pred4_idx'})\n",
    "df_sample5 = pd.read_pickle(sample2_filename)[['seq_id', 'pred_idx']].rename(columns={'pred_idx': 'pred5_idx'})\n",
    "df_sample6 = pd.read_pickle(sample3_filename)[['seq_id', 'pred_idx']].rename(columns={'pred_idx': 'pred6_idx'})\n",
    "df_sample7 = pd.read_pickle(sample1_filename)[['seq_id', 'pred_idx']].rename(columns={'pred_idx': 'pred7_idx'})\n",
    "df_sample8 = pd.read_pickle(sample2_filename)[['seq_id', 'pred_idx']].rename(columns={'pred_idx': 'pred8_idx'})\n",
    "df_sample9 = pd.read_pickle(sample3_filename)[['seq_id', 'pred_idx']].rename(columns={'pred_idx': 'pred9_idx'})\n",
    "\n",
    "\n",
    "def _concat_list(*l):\n",
    "    return [item for sublist in l for item in sublist]\n",
    "\n",
    "\n",
    "assert len(df_sample) == len(df_sample1)\n",
    "assert len(df_sample) == len(df_sample2)\n",
    "assert len(df_sample) == len(df_sample3)\n",
    "assert len(df_sample) == len(df_sample4)\n",
    "assert len(df_sample) == len(df_sample5)\n",
    "assert len(df_sample) == len(df_sample6)\n",
    "assert len(df_sample) == len(df_sample7)\n",
    "assert len(df_sample) == len(df_sample8)\n",
    "assert len(df_sample) == len(df_sample9)\n",
    "\n",
    "df_sample = pd.merge(df_sample, df_sample1, on='seq_id', how='inner')\n",
    "df_sample = pd.merge(df_sample, df_sample2, on='seq_id', how='inner')\n",
    "df_sample = pd.merge(df_sample, df_sample3, on='seq_id', how='inner')\n",
    "df_sample = pd.merge(df_sample, df_sample4, on='seq_id', how='inner')\n",
    "df_sample = pd.merge(df_sample, df_sample5, on='seq_id', how='inner')\n",
    "df_sample = pd.merge(df_sample, df_sample6, on='seq_id', how='inner')\n",
    "df_sample = pd.merge(df_sample, df_sample7, on='seq_id', how='inner')\n",
    "df_sample = pd.merge(df_sample, df_sample8, on='seq_id', how='inner')\n",
    "df_sample = pd.merge(df_sample, df_sample9, on='seq_id', how='inner')\n",
    "\n",
    "cols = ['pred1_idx', 'pred2_idx', 'pred3_idx',\n",
    "       'pred4_idx', 'pred5_idx', 'pred6_idx',\n",
    "       'pred7_idx', 'pred8_idx', 'pred9_idx']\n",
    "df_sample = add_column(df_sample, 'pred_idx', ['pred_idx'] + cols, _concat_list)\n",
    "df_sample = df_sample.drop(columns=cols)\n",
    "\n",
    "df_ml = pd.read_pickle(ml_filename)"
   ]
  },
  {
   "cell_type": "code",
   "execution_count": 5,
   "metadata": {},
   "outputs": [],
   "source": [
    "df_sample = df_sample.rename(columns={'one_idx': 'truth_one_idx', 'rnafold_one_idx': 'one_idx'})\n",
    "df_ml = df_ml.rename(columns={'pred_idx': 'ml_path_idx'})"
   ]
  },
  {
   "cell_type": "code",
   "execution_count": 6,
   "metadata": {},
   "outputs": [],
   "source": [
    "df = pd.merge(df_sample, df_ml[['seq_id', 'ml_path_idx']])"
   ]
  },
  {
   "cell_type": "code",
   "execution_count": 7,
   "metadata": {},
   "outputs": [],
   "source": [
    "df.to_pickle('result/prediction.rfam.rnafold_1000.2019_09_25_1.sample_new.all.pkl.gz', compression='gzip')"
   ]
  }
 ],
 "metadata": {
  "kernelspec": {
   "display_name": "Python 2",
   "language": "python",
   "name": "python2"
  },
  "language_info": {
   "codemirror_mode": {
    "name": "ipython",
    "version": 2
   },
   "file_extension": ".py",
   "mimetype": "text/x-python",
   "name": "python",
   "nbconvert_exporter": "python",
   "pygments_lexer": "ipython2",
   "version": "2.7.15"
  }
 },
 "nbformat": 4,
 "nbformat_minor": 2
}
