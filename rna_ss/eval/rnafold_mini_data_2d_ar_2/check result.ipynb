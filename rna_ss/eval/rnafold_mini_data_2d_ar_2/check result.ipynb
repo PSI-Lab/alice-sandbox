{
 "cells": [
  {
   "cell_type": "code",
   "execution_count": null,
   "metadata": {},
   "outputs": [
    {
     "name": "stderr",
     "output_type": "stream",
     "text": [
      "/Users/alicegao/anaconda2/envs/dg_work_py2/lib/python2.7/site-packages/tqdm/autonotebook/__init__.py:14: TqdmExperimentalWarning: Using `tqdm.autonotebook.tqdm` in notebook mode. Use `tqdm.tqdm` instead to force console mode (e.g. in jupyter console)\n",
      "  \" (e.g. in jupyter console)\", TqdmExperimentalWarning)\n"
     ]
    }
   ],
   "source": [
    "import numpy as np\n",
    "import pandas as pd\n",
    "from dgutils.pandas import add_column, add_columns"
   ]
  },
  {
   "cell_type": "code",
   "execution_count": 2,
   "metadata": {},
   "outputs": [],
   "source": [
    "df_new = pd.read_pickle('result/test.pkl')"
   ]
  },
  {
   "cell_type": "code",
   "execution_count": 3,
   "metadata": {},
   "outputs": [],
   "source": [
    "df_new_2 = pd.read_pickle('result/test_4.pkl')"
   ]
  },
  {
   "cell_type": "code",
   "execution_count": 4,
   "metadata": {},
   "outputs": [],
   "source": [
    "df_new_3 = pd.read_pickle('result/test_5.pkl')"
   ]
  },
  {
   "cell_type": "code",
   "execution_count": 5,
   "metadata": {},
   "outputs": [],
   "source": [
    "df_new_4 = pd.read_pickle('result/test_6.pkl')"
   ]
  },
  {
   "cell_type": "code",
   "execution_count": 6,
   "metadata": {},
   "outputs": [],
   "source": [
    "df_new_5 = pd.read_pickle('result/test_7.pkl')"
   ]
  },
  {
   "cell_type": "code",
   "execution_count": 7,
   "metadata": {},
   "outputs": [],
   "source": [
    "df_old = pd.read_pickle('result/test_2.pkl')"
   ]
  },
  {
   "cell_type": "code",
   "execution_count": 8,
   "metadata": {},
   "outputs": [],
   "source": [
    "df_old_50 = pd.read_pickle('result/test_3.pkl')"
   ]
  },
  {
   "cell_type": "code",
   "execution_count": 9,
   "metadata": {},
   "outputs": [],
   "source": [
    "def pick_metric(sensitivity, ppv, logps):\n",
    "    idx = np.argmax(logps)\n",
    "    return sensitivity[idx], ppv[idx]"
   ]
  },
  {
   "cell_type": "code",
   "execution_count": 10,
   "metadata": {},
   "outputs": [
    {
     "data": {
      "application/vnd.jupyter.widget-view+json": {
       "model_id": "4c6f07ce864f4edf97ccc2068f352e93",
       "version_major": 2,
       "version_minor": 0
      },
      "text/plain": [
       "HBox(children=(IntProgress(value=1, bar_style=u'info', max=1), HTML(value=u'')))"
      ]
     },
     "metadata": {},
     "output_type": "display_data"
    },
    {
     "name": "stdout",
     "output_type": "stream",
     "text": [
      "\n"
     ]
    },
    {
     "data": {
      "application/vnd.jupyter.widget-view+json": {
       "model_id": "eb913c9347aa461785c5c060fb9fde38",
       "version_major": 2,
       "version_minor": 0
      },
      "text/plain": [
       "HBox(children=(IntProgress(value=1, bar_style=u'info', max=1), HTML(value=u'')))"
      ]
     },
     "metadata": {},
     "output_type": "display_data"
    },
    {
     "name": "stdout",
     "output_type": "stream",
     "text": [
      "\n"
     ]
    },
    {
     "data": {
      "application/vnd.jupyter.widget-view+json": {
       "model_id": "6670a1dd97a54a10888d9cd90e33462c",
       "version_major": 2,
       "version_minor": 0
      },
      "text/plain": [
       "HBox(children=(IntProgress(value=1, bar_style=u'info', max=1), HTML(value=u'')))"
      ]
     },
     "metadata": {},
     "output_type": "display_data"
    },
    {
     "name": "stdout",
     "output_type": "stream",
     "text": [
      "\n"
     ]
    },
    {
     "data": {
      "application/vnd.jupyter.widget-view+json": {
       "model_id": "53236750ef5b4f0dad7e9645099625b6",
       "version_major": 2,
       "version_minor": 0
      },
      "text/plain": [
       "HBox(children=(IntProgress(value=1, bar_style=u'info', max=1), HTML(value=u'')))"
      ]
     },
     "metadata": {},
     "output_type": "display_data"
    },
    {
     "name": "stdout",
     "output_type": "stream",
     "text": [
      "\n"
     ]
    },
    {
     "data": {
      "application/vnd.jupyter.widget-view+json": {
       "model_id": "fa7d90d41a2c42158e136b2152549173",
       "version_major": 2,
       "version_minor": 0
      },
      "text/plain": [
       "HBox(children=(IntProgress(value=1, bar_style=u'info', max=1), HTML(value=u'')))"
      ]
     },
     "metadata": {},
     "output_type": "display_data"
    },
    {
     "name": "stdout",
     "output_type": "stream",
     "text": [
      "\n"
     ]
    },
    {
     "data": {
      "application/vnd.jupyter.widget-view+json": {
       "model_id": "e34cc38d6b2d457ebc344c5c064357cc",
       "version_major": 2,
       "version_minor": 0
      },
      "text/plain": [
       "HBox(children=(IntProgress(value=1, bar_style=u'info', max=1), HTML(value=u'')))"
      ]
     },
     "metadata": {},
     "output_type": "display_data"
    },
    {
     "name": "stdout",
     "output_type": "stream",
     "text": [
      "\n"
     ]
    },
    {
     "data": {
      "application/vnd.jupyter.widget-view+json": {
       "model_id": "5ee8c5fee1ed4cf08a912f4558b4bae8",
       "version_major": 2,
       "version_minor": 0
      },
      "text/plain": [
       "HBox(children=(IntProgress(value=1, bar_style=u'info', max=1), HTML(value=u'')))"
      ]
     },
     "metadata": {},
     "output_type": "display_data"
    },
    {
     "name": "stdout",
     "output_type": "stream",
     "text": [
      "\n"
     ]
    },
    {
     "data": {
      "application/vnd.jupyter.widget-view+json": {
       "model_id": "2b0f2bab7d7a40c6a1a346886027fe34",
       "version_major": 2,
       "version_minor": 0
      },
      "text/plain": [
       "HBox(children=(IntProgress(value=1, bar_style=u'info', max=1), HTML(value=u'')))"
      ]
     },
     "metadata": {},
     "output_type": "display_data"
    },
    {
     "name": "stdout",
     "output_type": "stream",
     "text": [
      "\n"
     ]
    },
    {
     "data": {
      "application/vnd.jupyter.widget-view+json": {
       "model_id": "5572059cbc564296ae8afcb180cf3d97",
       "version_major": 2,
       "version_minor": 0
      },
      "text/plain": [
       "HBox(children=(IntProgress(value=1, bar_style=u'info', max=1), HTML(value=u'')))"
      ]
     },
     "metadata": {},
     "output_type": "display_data"
    },
    {
     "name": "stdout",
     "output_type": "stream",
     "text": [
      "\n"
     ]
    },
    {
     "data": {
      "application/vnd.jupyter.widget-view+json": {
       "model_id": "66c5b0e700ef4f4a8d34501ac953cf24",
       "version_major": 2,
       "version_minor": 0
      },
      "text/plain": [
       "HBox(children=(IntProgress(value=1, bar_style=u'info', max=1), HTML(value=u'')))"
      ]
     },
     "metadata": {},
     "output_type": "display_data"
    },
    {
     "name": "stdout",
     "output_type": "stream",
     "text": [
      "\n"
     ]
    },
    {
     "data": {
      "application/vnd.jupyter.widget-view+json": {
       "model_id": "3f9f4130722c46649dd57f440c095550",
       "version_major": 2,
       "version_minor": 0
      },
      "text/plain": [
       "HBox(children=(IntProgress(value=1, bar_style=u'info', max=1), HTML(value=u'')))"
      ]
     },
     "metadata": {},
     "output_type": "display_data"
    },
    {
     "name": "stdout",
     "output_type": "stream",
     "text": [
      "\n"
     ]
    },
    {
     "data": {
      "application/vnd.jupyter.widget-view+json": {
       "model_id": "cfd88251cf5e483f84f26bd665416ff4",
       "version_major": 2,
       "version_minor": 0
      },
      "text/plain": [
       "HBox(children=(IntProgress(value=1, bar_style=u'info', max=1), HTML(value=u'')))"
      ]
     },
     "metadata": {},
     "output_type": "display_data"
    },
    {
     "name": "stdout",
     "output_type": "stream",
     "text": [
      "\n"
     ]
    },
    {
     "data": {
      "application/vnd.jupyter.widget-view+json": {
       "model_id": "1e1fb4cac0b44e20b874e80a2fd40df2",
       "version_major": 2,
       "version_minor": 0
      },
      "text/plain": [
       "HBox(children=(IntProgress(value=1, bar_style=u'info', max=1), HTML(value=u'')))"
      ]
     },
     "metadata": {},
     "output_type": "display_data"
    },
    {
     "name": "stdout",
     "output_type": "stream",
     "text": [
      "\n"
     ]
    },
    {
     "data": {
      "application/vnd.jupyter.widget-view+json": {
       "model_id": "5bfbd96d4d364dbb81ccd7a5711a6465",
       "version_major": 2,
       "version_minor": 0
      },
      "text/plain": [
       "HBox(children=(IntProgress(value=1, bar_style=u'info', max=1), HTML(value=u'')))"
      ]
     },
     "metadata": {},
     "output_type": "display_data"
    },
    {
     "name": "stdout",
     "output_type": "stream",
     "text": [
      "\n"
     ]
    },
    {
     "data": {
      "application/vnd.jupyter.widget-view+json": {
       "model_id": "e71fc6f542ef4b2da2d58222b44b8338",
       "version_major": 2,
       "version_minor": 0
      },
      "text/plain": [
       "HBox(children=(IntProgress(value=1, bar_style=u'info', max=1), HTML(value=u'')))"
      ]
     },
     "metadata": {},
     "output_type": "display_data"
    },
    {
     "name": "stdout",
     "output_type": "stream",
     "text": [
      "\n"
     ]
    },
    {
     "data": {
      "application/vnd.jupyter.widget-view+json": {
       "model_id": "f0f402e71ced4aec8814046b462651b4",
       "version_major": 2,
       "version_minor": 0
      },
      "text/plain": [
       "HBox(children=(IntProgress(value=1, bar_style=u'info', max=1), HTML(value=u'')))"
      ]
     },
     "metadata": {},
     "output_type": "display_data"
    },
    {
     "name": "stdout",
     "output_type": "stream",
     "text": [
      "\n"
     ]
    }
   ],
   "source": [
    "df_new = add_columns(df_new, ['sensitivity_max', 'sensitivity_median'], \n",
    "                     ['sensitivity'], lambda x: (np.nanmax(x), np.nanmedian(x)))\n",
    "df_new = add_columns(df_new, ['ppv_max', 'ppv_median'],\n",
    "                    ['ppv'], lambda x: (np.nanmax(x), np.nanmedian(x)))\n",
    "\n",
    "df_new_2 = add_columns(df_new_2, ['sensitivity_max', 'sensitivity_median'], \n",
    "                     ['sensitivity'], lambda x: (np.nanmax(x), np.nanmedian(x)))\n",
    "df_new_2 = add_columns(df_new_2, ['ppv_max', 'ppv_median'],\n",
    "                    ['ppv'], lambda x: (np.nanmax(x), np.nanmedian(x)))\n",
    "\n",
    "df_new_3 = add_columns(df_new_3, ['sensitivity_max', 'sensitivity_median'], \n",
    "                     ['sensitivity'], lambda x: (np.nanmax(x), np.nanmedian(x)))\n",
    "df_new_3 = add_columns(df_new_3, ['ppv_max', 'ppv_median'],\n",
    "                    ['ppv'], lambda x: (np.nanmax(x), np.nanmedian(x)))\n",
    "\n",
    "df_new_4 = add_columns(df_new_4, ['sensitivity_max', 'sensitivity_median'], \n",
    "                     ['sensitivity'], lambda x: (np.nanmax(x), np.nanmedian(x)))\n",
    "df_new_4 = add_columns(df_new_4, ['ppv_max', 'ppv_median'],\n",
    "                    ['ppv'], lambda x: (np.nanmax(x), np.nanmedian(x)))\n",
    "# logp\n",
    "df_new_4 = add_columns(df_new_4, ['sensitivity_mp', 'ppv_mp'], \n",
    "                       ['sensitivity', 'ppv', 'logp'], pick_metric)\n",
    "\n",
    "\n",
    "df_new_5 = add_columns(df_new_5, ['sensitivity_max', 'sensitivity_median'], \n",
    "                     ['sensitivity'], lambda x: (np.nanmax(x), np.nanmedian(x)))\n",
    "df_new_5 = add_columns(df_new_5, ['ppv_max', 'ppv_median'],\n",
    "                    ['ppv'], lambda x: (np.nanmax(x), np.nanmedian(x)))\n",
    "# logp\n",
    "df_new_5 = add_columns(df_new_5, ['sensitivity_mp', 'ppv_mp'], \n",
    "                       ['sensitivity', 'ppv', 'logp'], pick_metric)\n",
    "\n",
    "\n",
    "df_old = add_columns(df_old, ['sensitivity_max', 'sensitivity_median'], \n",
    "                     ['sensitivity'], lambda x: (np.nanmax(x), np.nanmedian(x)))\n",
    "df_old = add_columns(df_old, ['ppv_max', 'ppv_median'],\n",
    "                    ['ppv'], lambda x: (np.nanmax(x), np.nanmedian(x)))\n",
    "\n",
    "df_old_50 = add_columns(df_old_50, ['sensitivity_max', 'sensitivity_median'], \n",
    "                     ['sensitivity'], lambda x: (np.nanmax(x), np.nanmedian(x)))\n",
    "df_old_50 = add_columns(df_old_50, ['ppv_max', 'ppv_median'],\n",
    "                    ['ppv'], lambda x: (np.nanmax(x), np.nanmedian(x)))"
   ]
  },
  {
   "cell_type": "code",
   "execution_count": 11,
   "metadata": {},
   "outputs": [
    {
     "data": {
      "text/html": [
       "<div>\n",
       "<style scoped>\n",
       "    .dataframe tbody tr th:only-of-type {\n",
       "        vertical-align: middle;\n",
       "    }\n",
       "\n",
       "    .dataframe tbody tr th {\n",
       "        vertical-align: top;\n",
       "    }\n",
       "\n",
       "    .dataframe thead th {\n",
       "        text-align: right;\n",
       "    }\n",
       "</style>\n",
       "<table border=\"1\" class=\"dataframe\">\n",
       "  <thead>\n",
       "    <tr style=\"text-align: right;\">\n",
       "      <th></th>\n",
       "      <th>len</th>\n",
       "      <th>ppv_max</th>\n",
       "      <th>ppv_median</th>\n",
       "      <th>sensitivity_max</th>\n",
       "      <th>sensitivity_median</th>\n",
       "    </tr>\n",
       "  </thead>\n",
       "  <tbody>\n",
       "    <tr>\n",
       "      <th>count</th>\n",
       "      <td>151.000000</td>\n",
       "      <td>151.000000</td>\n",
       "      <td>151.000000</td>\n",
       "      <td>151.000000</td>\n",
       "      <td>151.000000</td>\n",
       "    </tr>\n",
       "    <tr>\n",
       "      <th>mean</th>\n",
       "      <td>136.298013</td>\n",
       "      <td>0.433703</td>\n",
       "      <td>0.178315</td>\n",
       "      <td>0.395971</td>\n",
       "      <td>0.166712</td>\n",
       "    </tr>\n",
       "    <tr>\n",
       "      <th>std</th>\n",
       "      <td>102.036451</td>\n",
       "      <td>0.268224</td>\n",
       "      <td>0.191523</td>\n",
       "      <td>0.279775</td>\n",
       "      <td>0.195466</td>\n",
       "    </tr>\n",
       "    <tr>\n",
       "      <th>min</th>\n",
       "      <td>23.000000</td>\n",
       "      <td>0.000000</td>\n",
       "      <td>0.000000</td>\n",
       "      <td>0.000000</td>\n",
       "      <td>0.000000</td>\n",
       "    </tr>\n",
       "    <tr>\n",
       "      <th>25%</th>\n",
       "      <td>67.000000</td>\n",
       "      <td>0.224747</td>\n",
       "      <td>0.000000</td>\n",
       "      <td>0.192651</td>\n",
       "      <td>0.000000</td>\n",
       "    </tr>\n",
       "    <tr>\n",
       "      <th>50%</th>\n",
       "      <td>104.000000</td>\n",
       "      <td>0.400000</td>\n",
       "      <td>0.111455</td>\n",
       "      <td>0.333333</td>\n",
       "      <td>0.096491</td>\n",
       "    </tr>\n",
       "    <tr>\n",
       "      <th>75%</th>\n",
       "      <td>158.500000</td>\n",
       "      <td>0.622024</td>\n",
       "      <td>0.290323</td>\n",
       "      <td>0.545455</td>\n",
       "      <td>0.259158</td>\n",
       "    </tr>\n",
       "    <tr>\n",
       "      <th>max</th>\n",
       "      <td>568.000000</td>\n",
       "      <td>1.000000</td>\n",
       "      <td>0.741667</td>\n",
       "      <td>1.000000</td>\n",
       "      <td>0.800000</td>\n",
       "    </tr>\n",
       "  </tbody>\n",
       "</table>\n",
       "</div>"
      ],
      "text/plain": [
       "              len     ppv_max  ppv_median  sensitivity_max  sensitivity_median\n",
       "count  151.000000  151.000000  151.000000       151.000000          151.000000\n",
       "mean   136.298013    0.433703    0.178315         0.395971            0.166712\n",
       "std    102.036451    0.268224    0.191523         0.279775            0.195466\n",
       "min     23.000000    0.000000    0.000000         0.000000            0.000000\n",
       "25%     67.000000    0.224747    0.000000         0.192651            0.000000\n",
       "50%    104.000000    0.400000    0.111455         0.333333            0.096491\n",
       "75%    158.500000    0.622024    0.290323         0.545455            0.259158\n",
       "max    568.000000    1.000000    0.741667         1.000000            0.800000"
      ]
     },
     "execution_count": 11,
     "metadata": {},
     "output_type": "execute_result"
    }
   ],
   "source": [
    "df_new.describe()"
   ]
  },
  {
   "cell_type": "code",
   "execution_count": 12,
   "metadata": {},
   "outputs": [
    {
     "data": {
      "text/html": [
       "<div>\n",
       "<style scoped>\n",
       "    .dataframe tbody tr th:only-of-type {\n",
       "        vertical-align: middle;\n",
       "    }\n",
       "\n",
       "    .dataframe tbody tr th {\n",
       "        vertical-align: top;\n",
       "    }\n",
       "\n",
       "    .dataframe thead th {\n",
       "        text-align: right;\n",
       "    }\n",
       "</style>\n",
       "<table border=\"1\" class=\"dataframe\">\n",
       "  <thead>\n",
       "    <tr style=\"text-align: right;\">\n",
       "      <th></th>\n",
       "      <th>len</th>\n",
       "      <th>ppv_max</th>\n",
       "      <th>ppv_median</th>\n",
       "      <th>sensitivity_max</th>\n",
       "      <th>sensitivity_median</th>\n",
       "    </tr>\n",
       "  </thead>\n",
       "  <tbody>\n",
       "    <tr>\n",
       "      <th>count</th>\n",
       "      <td>151.000000</td>\n",
       "      <td>151.000000</td>\n",
       "      <td>151.000000</td>\n",
       "      <td>151.000000</td>\n",
       "      <td>151.000000</td>\n",
       "    </tr>\n",
       "    <tr>\n",
       "      <th>mean</th>\n",
       "      <td>136.298013</td>\n",
       "      <td>0.405260</td>\n",
       "      <td>0.158243</td>\n",
       "      <td>0.162349</td>\n",
       "      <td>0.074856</td>\n",
       "    </tr>\n",
       "    <tr>\n",
       "      <th>std</th>\n",
       "      <td>102.036451</td>\n",
       "      <td>0.351052</td>\n",
       "      <td>0.241423</td>\n",
       "      <td>0.213790</td>\n",
       "      <td>0.151781</td>\n",
       "    </tr>\n",
       "    <tr>\n",
       "      <th>min</th>\n",
       "      <td>23.000000</td>\n",
       "      <td>0.000000</td>\n",
       "      <td>0.000000</td>\n",
       "      <td>0.000000</td>\n",
       "      <td>0.000000</td>\n",
       "    </tr>\n",
       "    <tr>\n",
       "      <th>25%</th>\n",
       "      <td>67.000000</td>\n",
       "      <td>0.116071</td>\n",
       "      <td>0.000000</td>\n",
       "      <td>0.026519</td>\n",
       "      <td>0.000000</td>\n",
       "    </tr>\n",
       "    <tr>\n",
       "      <th>50%</th>\n",
       "      <td>104.000000</td>\n",
       "      <td>0.333333</td>\n",
       "      <td>0.000000</td>\n",
       "      <td>0.071429</td>\n",
       "      <td>0.000000</td>\n",
       "    </tr>\n",
       "    <tr>\n",
       "      <th>75%</th>\n",
       "      <td>158.500000</td>\n",
       "      <td>0.666667</td>\n",
       "      <td>0.252904</td>\n",
       "      <td>0.219807</td>\n",
       "      <td>0.077677</td>\n",
       "    </tr>\n",
       "    <tr>\n",
       "      <th>max</th>\n",
       "      <td>568.000000</td>\n",
       "      <td>1.000000</td>\n",
       "      <td>1.000000</td>\n",
       "      <td>1.000000</td>\n",
       "      <td>1.000000</td>\n",
       "    </tr>\n",
       "  </tbody>\n",
       "</table>\n",
       "</div>"
      ],
      "text/plain": [
       "              len     ppv_max  ppv_median  sensitivity_max  sensitivity_median\n",
       "count  151.000000  151.000000  151.000000       151.000000          151.000000\n",
       "mean   136.298013    0.405260    0.158243         0.162349            0.074856\n",
       "std    102.036451    0.351052    0.241423         0.213790            0.151781\n",
       "min     23.000000    0.000000    0.000000         0.000000            0.000000\n",
       "25%     67.000000    0.116071    0.000000         0.026519            0.000000\n",
       "50%    104.000000    0.333333    0.000000         0.071429            0.000000\n",
       "75%    158.500000    0.666667    0.252904         0.219807            0.077677\n",
       "max    568.000000    1.000000    1.000000         1.000000            1.000000"
      ]
     },
     "execution_count": 12,
     "metadata": {},
     "output_type": "execute_result"
    }
   ],
   "source": [
    "df_new_2.describe()"
   ]
  },
  {
   "cell_type": "code",
   "execution_count": 13,
   "metadata": {},
   "outputs": [
    {
     "data": {
      "text/html": [
       "<div>\n",
       "<style scoped>\n",
       "    .dataframe tbody tr th:only-of-type {\n",
       "        vertical-align: middle;\n",
       "    }\n",
       "\n",
       "    .dataframe tbody tr th {\n",
       "        vertical-align: top;\n",
       "    }\n",
       "\n",
       "    .dataframe thead th {\n",
       "        text-align: right;\n",
       "    }\n",
       "</style>\n",
       "<table border=\"1\" class=\"dataframe\">\n",
       "  <thead>\n",
       "    <tr style=\"text-align: right;\">\n",
       "      <th></th>\n",
       "      <th>len</th>\n",
       "      <th>ppv_max</th>\n",
       "      <th>ppv_median</th>\n",
       "      <th>sensitivity_max</th>\n",
       "      <th>sensitivity_median</th>\n",
       "    </tr>\n",
       "  </thead>\n",
       "  <tbody>\n",
       "    <tr>\n",
       "      <th>count</th>\n",
       "      <td>151.000000</td>\n",
       "      <td>151.000000</td>\n",
       "      <td>151.000000</td>\n",
       "      <td>151.000000</td>\n",
       "      <td>151.000000</td>\n",
       "    </tr>\n",
       "    <tr>\n",
       "      <th>mean</th>\n",
       "      <td>136.298013</td>\n",
       "      <td>0.745432</td>\n",
       "      <td>0.529347</td>\n",
       "      <td>0.752480</td>\n",
       "      <td>0.550810</td>\n",
       "    </tr>\n",
       "    <tr>\n",
       "      <th>std</th>\n",
       "      <td>102.036451</td>\n",
       "      <td>0.261173</td>\n",
       "      <td>0.281805</td>\n",
       "      <td>0.243614</td>\n",
       "      <td>0.299787</td>\n",
       "    </tr>\n",
       "    <tr>\n",
       "      <th>min</th>\n",
       "      <td>23.000000</td>\n",
       "      <td>0.000000</td>\n",
       "      <td>0.000000</td>\n",
       "      <td>0.000000</td>\n",
       "      <td>0.000000</td>\n",
       "    </tr>\n",
       "    <tr>\n",
       "      <th>25%</th>\n",
       "      <td>67.000000</td>\n",
       "      <td>0.507895</td>\n",
       "      <td>0.325000</td>\n",
       "      <td>0.606602</td>\n",
       "      <td>0.326305</td>\n",
       "    </tr>\n",
       "    <tr>\n",
       "      <th>50%</th>\n",
       "      <td>104.000000</td>\n",
       "      <td>0.826087</td>\n",
       "      <td>0.551971</td>\n",
       "      <td>0.803571</td>\n",
       "      <td>0.551724</td>\n",
       "    </tr>\n",
       "    <tr>\n",
       "      <th>75%</th>\n",
       "      <td>158.500000</td>\n",
       "      <td>1.000000</td>\n",
       "      <td>0.738443</td>\n",
       "      <td>1.000000</td>\n",
       "      <td>0.800000</td>\n",
       "    </tr>\n",
       "    <tr>\n",
       "      <th>max</th>\n",
       "      <td>568.000000</td>\n",
       "      <td>1.000000</td>\n",
       "      <td>1.000000</td>\n",
       "      <td>1.000000</td>\n",
       "      <td>1.000000</td>\n",
       "    </tr>\n",
       "  </tbody>\n",
       "</table>\n",
       "</div>"
      ],
      "text/plain": [
       "              len     ppv_max  ppv_median  sensitivity_max  sensitivity_median\n",
       "count  151.000000  151.000000  151.000000       151.000000          151.000000\n",
       "mean   136.298013    0.745432    0.529347         0.752480            0.550810\n",
       "std    102.036451    0.261173    0.281805         0.243614            0.299787\n",
       "min     23.000000    0.000000    0.000000         0.000000            0.000000\n",
       "25%     67.000000    0.507895    0.325000         0.606602            0.326305\n",
       "50%    104.000000    0.826087    0.551971         0.803571            0.551724\n",
       "75%    158.500000    1.000000    0.738443         1.000000            0.800000\n",
       "max    568.000000    1.000000    1.000000         1.000000            1.000000"
      ]
     },
     "execution_count": 13,
     "metadata": {},
     "output_type": "execute_result"
    }
   ],
   "source": [
    "df_new_3.describe()"
   ]
  },
  {
   "cell_type": "code",
   "execution_count": 14,
   "metadata": {},
   "outputs": [
    {
     "data": {
      "text/html": [
       "<div>\n",
       "<style scoped>\n",
       "    .dataframe tbody tr th:only-of-type {\n",
       "        vertical-align: middle;\n",
       "    }\n",
       "\n",
       "    .dataframe tbody tr th {\n",
       "        vertical-align: top;\n",
       "    }\n",
       "\n",
       "    .dataframe thead th {\n",
       "        text-align: right;\n",
       "    }\n",
       "</style>\n",
       "<table border=\"1\" class=\"dataframe\">\n",
       "  <thead>\n",
       "    <tr style=\"text-align: right;\">\n",
       "      <th></th>\n",
       "      <th>len</th>\n",
       "      <th>ppv_max</th>\n",
       "      <th>ppv_median</th>\n",
       "      <th>ppv_mp</th>\n",
       "      <th>sensitivity_max</th>\n",
       "      <th>sensitivity_median</th>\n",
       "      <th>sensitivity_mp</th>\n",
       "    </tr>\n",
       "  </thead>\n",
       "  <tbody>\n",
       "    <tr>\n",
       "      <th>count</th>\n",
       "      <td>151.000000</td>\n",
       "      <td>151.000000</td>\n",
       "      <td>151.000000</td>\n",
       "      <td>150.000000</td>\n",
       "      <td>151.000000</td>\n",
       "      <td>151.000000</td>\n",
       "      <td>151.000000</td>\n",
       "    </tr>\n",
       "    <tr>\n",
       "      <th>mean</th>\n",
       "      <td>136.298013</td>\n",
       "      <td>0.656494</td>\n",
       "      <td>0.474530</td>\n",
       "      <td>0.501724</td>\n",
       "      <td>0.679035</td>\n",
       "      <td>0.512105</td>\n",
       "      <td>0.520630</td>\n",
       "    </tr>\n",
       "    <tr>\n",
       "      <th>std</th>\n",
       "      <td>102.036451</td>\n",
       "      <td>0.279839</td>\n",
       "      <td>0.281694</td>\n",
       "      <td>0.293526</td>\n",
       "      <td>0.266619</td>\n",
       "      <td>0.294955</td>\n",
       "      <td>0.310287</td>\n",
       "    </tr>\n",
       "    <tr>\n",
       "      <th>min</th>\n",
       "      <td>23.000000</td>\n",
       "      <td>0.000000</td>\n",
       "      <td>0.000000</td>\n",
       "      <td>0.000000</td>\n",
       "      <td>0.000000</td>\n",
       "      <td>0.000000</td>\n",
       "      <td>0.000000</td>\n",
       "    </tr>\n",
       "    <tr>\n",
       "      <th>25%</th>\n",
       "      <td>67.000000</td>\n",
       "      <td>0.422500</td>\n",
       "      <td>0.267377</td>\n",
       "      <td>0.290659</td>\n",
       "      <td>0.479924</td>\n",
       "      <td>0.308785</td>\n",
       "      <td>0.303117</td>\n",
       "    </tr>\n",
       "    <tr>\n",
       "      <th>50%</th>\n",
       "      <td>104.000000</td>\n",
       "      <td>0.682540</td>\n",
       "      <td>0.478261</td>\n",
       "      <td>0.506757</td>\n",
       "      <td>0.714286</td>\n",
       "      <td>0.500000</td>\n",
       "      <td>0.521739</td>\n",
       "    </tr>\n",
       "    <tr>\n",
       "      <th>75%</th>\n",
       "      <td>158.500000</td>\n",
       "      <td>0.928205</td>\n",
       "      <td>0.685227</td>\n",
       "      <td>0.729895</td>\n",
       "      <td>0.916667</td>\n",
       "      <td>0.727513</td>\n",
       "      <td>0.797059</td>\n",
       "    </tr>\n",
       "    <tr>\n",
       "      <th>max</th>\n",
       "      <td>568.000000</td>\n",
       "      <td>1.000000</td>\n",
       "      <td>1.000000</td>\n",
       "      <td>1.000000</td>\n",
       "      <td>1.000000</td>\n",
       "      <td>1.000000</td>\n",
       "      <td>1.000000</td>\n",
       "    </tr>\n",
       "  </tbody>\n",
       "</table>\n",
       "</div>"
      ],
      "text/plain": [
       "              len     ppv_max  ppv_median      ppv_mp  sensitivity_max  \\\n",
       "count  151.000000  151.000000  151.000000  150.000000       151.000000   \n",
       "mean   136.298013    0.656494    0.474530    0.501724         0.679035   \n",
       "std    102.036451    0.279839    0.281694    0.293526         0.266619   \n",
       "min     23.000000    0.000000    0.000000    0.000000         0.000000   \n",
       "25%     67.000000    0.422500    0.267377    0.290659         0.479924   \n",
       "50%    104.000000    0.682540    0.478261    0.506757         0.714286   \n",
       "75%    158.500000    0.928205    0.685227    0.729895         0.916667   \n",
       "max    568.000000    1.000000    1.000000    1.000000         1.000000   \n",
       "\n",
       "       sensitivity_median  sensitivity_mp  \n",
       "count          151.000000      151.000000  \n",
       "mean             0.512105        0.520630  \n",
       "std              0.294955        0.310287  \n",
       "min              0.000000        0.000000  \n",
       "25%              0.308785        0.303117  \n",
       "50%              0.500000        0.521739  \n",
       "75%              0.727513        0.797059  \n",
       "max              1.000000        1.000000  "
      ]
     },
     "execution_count": 14,
     "metadata": {},
     "output_type": "execute_result"
    }
   ],
   "source": [
    "df_new_4.describe()"
   ]
  },
  {
   "cell_type": "code",
   "execution_count": 15,
   "metadata": {},
   "outputs": [
    {
     "data": {
      "text/html": [
       "<div>\n",
       "<style scoped>\n",
       "    .dataframe tbody tr th:only-of-type {\n",
       "        vertical-align: middle;\n",
       "    }\n",
       "\n",
       "    .dataframe tbody tr th {\n",
       "        vertical-align: top;\n",
       "    }\n",
       "\n",
       "    .dataframe thead th {\n",
       "        text-align: right;\n",
       "    }\n",
       "</style>\n",
       "<table border=\"1\" class=\"dataframe\">\n",
       "  <thead>\n",
       "    <tr style=\"text-align: right;\">\n",
       "      <th></th>\n",
       "      <th>len</th>\n",
       "      <th>ppv_max</th>\n",
       "      <th>ppv_median</th>\n",
       "      <th>ppv_mp</th>\n",
       "      <th>sensitivity_max</th>\n",
       "      <th>sensitivity_median</th>\n",
       "      <th>sensitivity_mp</th>\n",
       "    </tr>\n",
       "  </thead>\n",
       "  <tbody>\n",
       "    <tr>\n",
       "      <th>count</th>\n",
       "      <td>151.000000</td>\n",
       "      <td>151.000000</td>\n",
       "      <td>151.000000</td>\n",
       "      <td>148.000000</td>\n",
       "      <td>151.000000</td>\n",
       "      <td>151.000000</td>\n",
       "      <td>151.000000</td>\n",
       "    </tr>\n",
       "    <tr>\n",
       "      <th>mean</th>\n",
       "      <td>136.298013</td>\n",
       "      <td>0.771741</td>\n",
       "      <td>0.513496</td>\n",
       "      <td>0.582523</td>\n",
       "      <td>0.817686</td>\n",
       "      <td>0.580768</td>\n",
       "      <td>0.611936</td>\n",
       "    </tr>\n",
       "    <tr>\n",
       "      <th>std</th>\n",
       "      <td>102.036451</td>\n",
       "      <td>0.250989</td>\n",
       "      <td>0.285795</td>\n",
       "      <td>0.289810</td>\n",
       "      <td>0.206392</td>\n",
       "      <td>0.299101</td>\n",
       "      <td>0.303749</td>\n",
       "    </tr>\n",
       "    <tr>\n",
       "      <th>min</th>\n",
       "      <td>23.000000</td>\n",
       "      <td>0.126087</td>\n",
       "      <td>0.000000</td>\n",
       "      <td>0.000000</td>\n",
       "      <td>0.250000</td>\n",
       "      <td>0.000000</td>\n",
       "      <td>0.000000</td>\n",
       "    </tr>\n",
       "    <tr>\n",
       "      <th>25%</th>\n",
       "      <td>67.000000</td>\n",
       "      <td>0.554412</td>\n",
       "      <td>0.269292</td>\n",
       "      <td>0.348949</td>\n",
       "      <td>0.666667</td>\n",
       "      <td>0.336996</td>\n",
       "      <td>0.371173</td>\n",
       "    </tr>\n",
       "    <tr>\n",
       "      <th>50%</th>\n",
       "      <td>104.000000</td>\n",
       "      <td>0.880000</td>\n",
       "      <td>0.533333</td>\n",
       "      <td>0.583591</td>\n",
       "      <td>0.910714</td>\n",
       "      <td>0.571429</td>\n",
       "      <td>0.625000</td>\n",
       "    </tr>\n",
       "    <tr>\n",
       "      <th>75%</th>\n",
       "      <td>158.500000</td>\n",
       "      <td>1.000000</td>\n",
       "      <td>0.727273</td>\n",
       "      <td>0.821970</td>\n",
       "      <td>1.000000</td>\n",
       "      <td>0.833333</td>\n",
       "      <td>0.866667</td>\n",
       "    </tr>\n",
       "    <tr>\n",
       "      <th>max</th>\n",
       "      <td>568.000000</td>\n",
       "      <td>1.000000</td>\n",
       "      <td>1.000000</td>\n",
       "      <td>1.000000</td>\n",
       "      <td>1.000000</td>\n",
       "      <td>1.000000</td>\n",
       "      <td>1.000000</td>\n",
       "    </tr>\n",
       "  </tbody>\n",
       "</table>\n",
       "</div>"
      ],
      "text/plain": [
       "              len     ppv_max  ppv_median      ppv_mp  sensitivity_max  \\\n",
       "count  151.000000  151.000000  151.000000  148.000000       151.000000   \n",
       "mean   136.298013    0.771741    0.513496    0.582523         0.817686   \n",
       "std    102.036451    0.250989    0.285795    0.289810         0.206392   \n",
       "min     23.000000    0.126087    0.000000    0.000000         0.250000   \n",
       "25%     67.000000    0.554412    0.269292    0.348949         0.666667   \n",
       "50%    104.000000    0.880000    0.533333    0.583591         0.910714   \n",
       "75%    158.500000    1.000000    0.727273    0.821970         1.000000   \n",
       "max    568.000000    1.000000    1.000000    1.000000         1.000000   \n",
       "\n",
       "       sensitivity_median  sensitivity_mp  \n",
       "count          151.000000      151.000000  \n",
       "mean             0.580768        0.611936  \n",
       "std              0.299101        0.303749  \n",
       "min              0.000000        0.000000  \n",
       "25%              0.336996        0.371173  \n",
       "50%              0.571429        0.625000  \n",
       "75%              0.833333        0.866667  \n",
       "max              1.000000        1.000000  "
      ]
     },
     "execution_count": 15,
     "metadata": {},
     "output_type": "execute_result"
    }
   ],
   "source": [
    "df_new_5.describe()"
   ]
  },
  {
   "cell_type": "code",
   "execution_count": 16,
   "metadata": {},
   "outputs": [
    {
     "data": {
      "text/html": [
       "<div>\n",
       "<style scoped>\n",
       "    .dataframe tbody tr th:only-of-type {\n",
       "        vertical-align: middle;\n",
       "    }\n",
       "\n",
       "    .dataframe tbody tr th {\n",
       "        vertical-align: top;\n",
       "    }\n",
       "\n",
       "    .dataframe thead th {\n",
       "        text-align: right;\n",
       "    }\n",
       "</style>\n",
       "<table border=\"1\" class=\"dataframe\">\n",
       "  <thead>\n",
       "    <tr style=\"text-align: right;\">\n",
       "      <th></th>\n",
       "      <th>len</th>\n",
       "      <th>ppv_max</th>\n",
       "      <th>ppv_median</th>\n",
       "      <th>sensitivity_max</th>\n",
       "      <th>sensitivity_median</th>\n",
       "    </tr>\n",
       "  </thead>\n",
       "  <tbody>\n",
       "    <tr>\n",
       "      <th>count</th>\n",
       "      <td>151.000000</td>\n",
       "      <td>151.000000</td>\n",
       "      <td>151.0</td>\n",
       "      <td>151.000000</td>\n",
       "      <td>151.0</td>\n",
       "    </tr>\n",
       "    <tr>\n",
       "      <th>mean</th>\n",
       "      <td>136.298013</td>\n",
       "      <td>0.092033</td>\n",
       "      <td>0.0</td>\n",
       "      <td>0.018652</td>\n",
       "      <td>0.0</td>\n",
       "    </tr>\n",
       "    <tr>\n",
       "      <th>std</th>\n",
       "      <td>102.036451</td>\n",
       "      <td>0.192132</td>\n",
       "      <td>0.0</td>\n",
       "      <td>0.030054</td>\n",
       "      <td>0.0</td>\n",
       "    </tr>\n",
       "    <tr>\n",
       "      <th>min</th>\n",
       "      <td>23.000000</td>\n",
       "      <td>0.000000</td>\n",
       "      <td>0.0</td>\n",
       "      <td>0.000000</td>\n",
       "      <td>0.0</td>\n",
       "    </tr>\n",
       "    <tr>\n",
       "      <th>25%</th>\n",
       "      <td>67.000000</td>\n",
       "      <td>0.000000</td>\n",
       "      <td>0.0</td>\n",
       "      <td>0.000000</td>\n",
       "      <td>0.0</td>\n",
       "    </tr>\n",
       "    <tr>\n",
       "      <th>50%</th>\n",
       "      <td>104.000000</td>\n",
       "      <td>0.000000</td>\n",
       "      <td>0.0</td>\n",
       "      <td>0.000000</td>\n",
       "      <td>0.0</td>\n",
       "    </tr>\n",
       "    <tr>\n",
       "      <th>75%</th>\n",
       "      <td>158.500000</td>\n",
       "      <td>0.090909</td>\n",
       "      <td>0.0</td>\n",
       "      <td>0.031250</td>\n",
       "      <td>0.0</td>\n",
       "    </tr>\n",
       "    <tr>\n",
       "      <th>max</th>\n",
       "      <td>568.000000</td>\n",
       "      <td>1.000000</td>\n",
       "      <td>0.0</td>\n",
       "      <td>0.250000</td>\n",
       "      <td>0.0</td>\n",
       "    </tr>\n",
       "  </tbody>\n",
       "</table>\n",
       "</div>"
      ],
      "text/plain": [
       "              len     ppv_max  ppv_median  sensitivity_max  sensitivity_median\n",
       "count  151.000000  151.000000       151.0       151.000000               151.0\n",
       "mean   136.298013    0.092033         0.0         0.018652                 0.0\n",
       "std    102.036451    0.192132         0.0         0.030054                 0.0\n",
       "min     23.000000    0.000000         0.0         0.000000                 0.0\n",
       "25%     67.000000    0.000000         0.0         0.000000                 0.0\n",
       "50%    104.000000    0.000000         0.0         0.000000                 0.0\n",
       "75%    158.500000    0.090909         0.0         0.031250                 0.0\n",
       "max    568.000000    1.000000         0.0         0.250000                 0.0"
      ]
     },
     "execution_count": 16,
     "metadata": {},
     "output_type": "execute_result"
    }
   ],
   "source": [
    "df_old.describe()"
   ]
  },
  {
   "cell_type": "code",
   "execution_count": 17,
   "metadata": {},
   "outputs": [
    {
     "data": {
      "text/html": [
       "<div>\n",
       "<style scoped>\n",
       "    .dataframe tbody tr th:only-of-type {\n",
       "        vertical-align: middle;\n",
       "    }\n",
       "\n",
       "    .dataframe tbody tr th {\n",
       "        vertical-align: top;\n",
       "    }\n",
       "\n",
       "    .dataframe thead th {\n",
       "        text-align: right;\n",
       "    }\n",
       "</style>\n",
       "<table border=\"1\" class=\"dataframe\">\n",
       "  <thead>\n",
       "    <tr style=\"text-align: right;\">\n",
       "      <th></th>\n",
       "      <th>len</th>\n",
       "      <th>ppv_max</th>\n",
       "      <th>ppv_median</th>\n",
       "      <th>sensitivity_max</th>\n",
       "      <th>sensitivity_median</th>\n",
       "    </tr>\n",
       "  </thead>\n",
       "  <tbody>\n",
       "    <tr>\n",
       "      <th>count</th>\n",
       "      <td>151.000000</td>\n",
       "      <td>151.000000</td>\n",
       "      <td>151.000000</td>\n",
       "      <td>151.000000</td>\n",
       "      <td>151.000000</td>\n",
       "    </tr>\n",
       "    <tr>\n",
       "      <th>mean</th>\n",
       "      <td>136.298013</td>\n",
       "      <td>0.512283</td>\n",
       "      <td>0.302487</td>\n",
       "      <td>0.634147</td>\n",
       "      <td>0.390545</td>\n",
       "    </tr>\n",
       "    <tr>\n",
       "      <th>std</th>\n",
       "      <td>102.036451</td>\n",
       "      <td>0.266845</td>\n",
       "      <td>0.221095</td>\n",
       "      <td>0.250554</td>\n",
       "      <td>0.242271</td>\n",
       "    </tr>\n",
       "    <tr>\n",
       "      <th>min</th>\n",
       "      <td>23.000000</td>\n",
       "      <td>0.000000</td>\n",
       "      <td>0.000000</td>\n",
       "      <td>0.000000</td>\n",
       "      <td>0.000000</td>\n",
       "    </tr>\n",
       "    <tr>\n",
       "      <th>25%</th>\n",
       "      <td>67.000000</td>\n",
       "      <td>0.283482</td>\n",
       "      <td>0.141881</td>\n",
       "      <td>0.423641</td>\n",
       "      <td>0.202410</td>\n",
       "    </tr>\n",
       "    <tr>\n",
       "      <th>50%</th>\n",
       "      <td>104.000000</td>\n",
       "      <td>0.500000</td>\n",
       "      <td>0.258333</td>\n",
       "      <td>0.652174</td>\n",
       "      <td>0.384615</td>\n",
       "    </tr>\n",
       "    <tr>\n",
       "      <th>75%</th>\n",
       "      <td>158.500000</td>\n",
       "      <td>0.671171</td>\n",
       "      <td>0.420347</td>\n",
       "      <td>0.857143</td>\n",
       "      <td>0.547727</td>\n",
       "    </tr>\n",
       "    <tr>\n",
       "      <th>max</th>\n",
       "      <td>568.000000</td>\n",
       "      <td>1.000000</td>\n",
       "      <td>1.000000</td>\n",
       "      <td>1.000000</td>\n",
       "      <td>1.000000</td>\n",
       "    </tr>\n",
       "  </tbody>\n",
       "</table>\n",
       "</div>"
      ],
      "text/plain": [
       "              len     ppv_max  ppv_median  sensitivity_max  sensitivity_median\n",
       "count  151.000000  151.000000  151.000000       151.000000          151.000000\n",
       "mean   136.298013    0.512283    0.302487         0.634147            0.390545\n",
       "std    102.036451    0.266845    0.221095         0.250554            0.242271\n",
       "min     23.000000    0.000000    0.000000         0.000000            0.000000\n",
       "25%     67.000000    0.283482    0.141881         0.423641            0.202410\n",
       "50%    104.000000    0.500000    0.258333         0.652174            0.384615\n",
       "75%    158.500000    0.671171    0.420347         0.857143            0.547727\n",
       "max    568.000000    1.000000    1.000000         1.000000            1.000000"
      ]
     },
     "execution_count": 17,
     "metadata": {},
     "output_type": "execute_result"
    }
   ],
   "source": [
    "df_old_50.describe()"
   ]
  },
  {
   "cell_type": "code",
   "execution_count": null,
   "metadata": {},
   "outputs": [],
   "source": []
  },
  {
   "cell_type": "code",
   "execution_count": 18,
   "metadata": {},
   "outputs": [
    {
     "data": {
      "text/plain": [
       "f_measure             [nan, 0.7499999999999999, 0.625, nan, 0.266666...\n",
       "len                                                                  26\n",
       "one_idx                 ([5, 6, 7, 8, 9, 10], [20, 19, 18, 17, 16, 15])\n",
       "ppv                   [0.0, 0.6, 0.5, 0.0, 0.222222222222, 0.4444444...\n",
       "ppv_max                                                             0.6\n",
       "ppv_median                                                     0.291667\n",
       "pred_idx              [([0, 1, 2, 3, 4, 5, 6, 7], [10, 9, 22, 21, 20...\n",
       "sensitivity           [0.0, 1.0, 0.8333333333333334, 0.0, 0.33333333...\n",
       "sensitivity_max                                                       1\n",
       "sensitivity_median                                             0.416667\n",
       "seq                                          AAAACGGUCCUUAUCAGGACCAAACA\n",
       "seq_id                                                        RF00032_B\n",
       "Name: 25, dtype: object"
      ]
     },
     "execution_count": 18,
     "metadata": {},
     "output_type": "execute_result"
    }
   ],
   "source": [
    "df_new[df_new.sensitivity_max > 0.9].iloc[0]"
   ]
  },
  {
   "cell_type": "code",
   "execution_count": 19,
   "metadata": {},
   "outputs": [
    {
     "data": {
      "text/plain": [
       "f_measure             [nan, nan, nan, nan, nan, nan, nan, nan, nan, ...\n",
       "len                                                                  26\n",
       "one_idx                 ([5, 6, 7, 8, 9, 10], [20, 19, 18, 17, 16, 15])\n",
       "ppv                   [nan, nan, nan, nan, nan, 0.0, nan, 0.0, 0.0, ...\n",
       "ppv_max                                                               0\n",
       "ppv_median                                                            0\n",
       "pred_idx              [([], []), ([], []), ([], []), ([], []), ([], ...\n",
       "sensitivity           [0.0, 0.0, 0.0, 0.0, 0.0, 0.0, 0.0, 0.0, 0.0, ...\n",
       "sensitivity_max                                                       0\n",
       "sensitivity_median                                                    0\n",
       "seq                                          AAAACGGUCCUUAUCAGGACCAAACA\n",
       "seq_id                                                        RF00032_B\n",
       "Name: 25, dtype: object"
      ]
     },
     "execution_count": 19,
     "metadata": {},
     "output_type": "execute_result"
    }
   ],
   "source": [
    "df_old[df_old.seq == 'AAAACGGUCCUUAUCAGGACCAAACA'].iloc[0]"
   ]
  },
  {
   "cell_type": "code",
   "execution_count": 20,
   "metadata": {},
   "outputs": [
    {
     "data": {
      "text/html": [
       "<div>\n",
       "<style scoped>\n",
       "    .dataframe tbody tr th:only-of-type {\n",
       "        vertical-align: middle;\n",
       "    }\n",
       "\n",
       "    .dataframe tbody tr th {\n",
       "        vertical-align: top;\n",
       "    }\n",
       "\n",
       "    .dataframe thead th {\n",
       "        text-align: right;\n",
       "    }\n",
       "</style>\n",
       "<table border=\"1\" class=\"dataframe\">\n",
       "  <thead>\n",
       "    <tr style=\"text-align: right;\">\n",
       "      <th></th>\n",
       "      <th>f_measure</th>\n",
       "      <th>len</th>\n",
       "      <th>one_idx</th>\n",
       "      <th>ppv</th>\n",
       "      <th>ppv_max</th>\n",
       "      <th>ppv_median</th>\n",
       "      <th>pred_idx</th>\n",
       "      <th>sensitivity</th>\n",
       "      <th>sensitivity_max</th>\n",
       "      <th>sensitivity_median</th>\n",
       "      <th>seq</th>\n",
       "      <th>seq_id</th>\n",
       "    </tr>\n",
       "  </thead>\n",
       "  <tbody>\n",
       "    <tr>\n",
       "      <th>0</th>\n",
       "      <td>[0.7714285714285715, 0.611111111111111, 0.7536...</td>\n",
       "      <td>117</td>\n",
       "      <td>([0, 1, 2, 3, 4, 5, 6, 7, 8, 13, 14, 16, 17, 1...</td>\n",
       "      <td>[0.72972972973, 0.564102564103, 0.722222222222...</td>\n",
       "      <td>0.781250</td>\n",
       "      <td>0.639319</td>\n",
       "      <td>[([0, 1, 2, 3, 4, 5, 6, 7, 8, 13, 14, 16, 17, ...</td>\n",
       "      <td>[0.8181818181818182, 0.6666666666666666, 0.787...</td>\n",
       "      <td>0.848485</td>\n",
       "      <td>0.696970</td>\n",
       "      <td>UUCGGUGGUUAUAGCGGUGGGGAAACACCCGGUCCCAUUCCGAACC...</td>\n",
       "      <td>RF00001_A</td>\n",
       "    </tr>\n",
       "    <tr>\n",
       "      <th>1</th>\n",
       "      <td>[0.2413793103448276, 0.3188405797101449, 0.327...</td>\n",
       "      <td>150</td>\n",
       "      <td>([32, 33, 35, 36, 43, 44, 45, 46, 47, 58, 59, ...</td>\n",
       "      <td>[0.21875, 0.255813953488, 0.285714285714, 0.28...</td>\n",
       "      <td>0.378378</td>\n",
       "      <td>0.241737</td>\n",
       "      <td>[([1, 5, 25, 26, 27, 28, 34, 36, 37, 38, 39, 4...</td>\n",
       "      <td>[0.2692307692307692, 0.4230769230769231, 0.384...</td>\n",
       "      <td>0.538462</td>\n",
       "      <td>0.365385</td>\n",
       "      <td>UAGCUUCAGCGAUGGAUCGGUUGCAUCGAGUAUCGAUGAAGAACGC...</td>\n",
       "      <td>RF00002_B</td>\n",
       "    </tr>\n",
       "    <tr>\n",
       "      <th>2</th>\n",
       "      <td>[0.024390243902439025, 0.03508771929824561, 0....</td>\n",
       "      <td>161</td>\n",
       "      <td>([11, 12, 13, 14, 15, 16, 17, 18, 19, 20, 22, ...</td>\n",
       "      <td>[0.0238095238095, 0.0588235294118, 0.048780487...</td>\n",
       "      <td>0.285714</td>\n",
       "      <td>0.000000</td>\n",
       "      <td>[([13, 16, 17, 18, 19, 27, 28, 29, 30, 33, 34,...</td>\n",
       "      <td>[0.025, 0.025, 0.05, 0.0, 0.0, 0.0, 0.0, 0.025...</td>\n",
       "      <td>0.200000</td>\n",
       "      <td>0.000000</td>\n",
       "      <td>AUACUUACCUGGACGGGGUCAAUGGAUGAUCUAUAAGGUCCAUGGC...</td>\n",
       "      <td>RF00003_B</td>\n",
       "    </tr>\n",
       "    <tr>\n",
       "      <th>3</th>\n",
       "      <td>[0.30769230769230765, nan, 0.06779661016949153...</td>\n",
       "      <td>145</td>\n",
       "      <td>([6, 7, 8, 10, 11, 12, 13, 46, 47, 48, 49, 50,...</td>\n",
       "      <td>[0.285714285714, 0.0, 0.0689655172414, 0.26923...</td>\n",
       "      <td>0.366667</td>\n",
       "      <td>0.133929</td>\n",
       "      <td>[([39, 40, 41, 42, 43, 44, 51, 52, 53, 68, 69,...</td>\n",
       "      <td>[0.3333333333333333, 0.0, 0.06666666666666667,...</td>\n",
       "      <td>0.366667</td>\n",
       "      <td>0.100000</td>\n",
       "      <td>AUAUCUUCUCGGCUAUUUAGCUAAGAUCAAGUUAUUAAACUGUUCU...</td>\n",
       "      <td>RF00004_A</td>\n",
       "    </tr>\n",
       "    <tr>\n",
       "      <th>4</th>\n",
       "      <td>[0.046511627906976744, 0.23529411764705882, na...</td>\n",
       "      <td>72</td>\n",
       "      <td>([0, 1, 2, 3, 4, 5, 6, 9, 10, 11, 12, 25, 26, ...</td>\n",
       "      <td>[0.0454545454545, 0.307692307692, 0.0, 0.4375,...</td>\n",
       "      <td>0.500000</td>\n",
       "      <td>0.242647</td>\n",
       "      <td>[([2, 3, 4, 5, 6, 7, 8, 9, 10, 11, 20, 21, 22,...</td>\n",
       "      <td>[0.047619047619047616, 0.19047619047619047, 0....</td>\n",
       "      <td>0.333333</td>\n",
       "      <td>0.261905</td>\n",
       "      <td>GGGCCCAUAGCUCAGUGGUAGAGUGCCUCCUUUGCAAGGAGGAUGC...</td>\n",
       "      <td>RF00005_A</td>\n",
       "    </tr>\n",
       "  </tbody>\n",
       "</table>\n",
       "</div>"
      ],
      "text/plain": [
       "                                           f_measure  len  \\\n",
       "0  [0.7714285714285715, 0.611111111111111, 0.7536...  117   \n",
       "1  [0.2413793103448276, 0.3188405797101449, 0.327...  150   \n",
       "2  [0.024390243902439025, 0.03508771929824561, 0....  161   \n",
       "3  [0.30769230769230765, nan, 0.06779661016949153...  145   \n",
       "4  [0.046511627906976744, 0.23529411764705882, na...   72   \n",
       "\n",
       "                                             one_idx  \\\n",
       "0  ([0, 1, 2, 3, 4, 5, 6, 7, 8, 13, 14, 16, 17, 1...   \n",
       "1  ([32, 33, 35, 36, 43, 44, 45, 46, 47, 58, 59, ...   \n",
       "2  ([11, 12, 13, 14, 15, 16, 17, 18, 19, 20, 22, ...   \n",
       "3  ([6, 7, 8, 10, 11, 12, 13, 46, 47, 48, 49, 50,...   \n",
       "4  ([0, 1, 2, 3, 4, 5, 6, 9, 10, 11, 12, 25, 26, ...   \n",
       "\n",
       "                                                 ppv   ppv_max  ppv_median  \\\n",
       "0  [0.72972972973, 0.564102564103, 0.722222222222...  0.781250    0.639319   \n",
       "1  [0.21875, 0.255813953488, 0.285714285714, 0.28...  0.378378    0.241737   \n",
       "2  [0.0238095238095, 0.0588235294118, 0.048780487...  0.285714    0.000000   \n",
       "3  [0.285714285714, 0.0, 0.0689655172414, 0.26923...  0.366667    0.133929   \n",
       "4  [0.0454545454545, 0.307692307692, 0.0, 0.4375,...  0.500000    0.242647   \n",
       "\n",
       "                                            pred_idx  \\\n",
       "0  [([0, 1, 2, 3, 4, 5, 6, 7, 8, 13, 14, 16, 17, ...   \n",
       "1  [([1, 5, 25, 26, 27, 28, 34, 36, 37, 38, 39, 4...   \n",
       "2  [([13, 16, 17, 18, 19, 27, 28, 29, 30, 33, 34,...   \n",
       "3  [([39, 40, 41, 42, 43, 44, 51, 52, 53, 68, 69,...   \n",
       "4  [([2, 3, 4, 5, 6, 7, 8, 9, 10, 11, 20, 21, 22,...   \n",
       "\n",
       "                                         sensitivity  sensitivity_max  \\\n",
       "0  [0.8181818181818182, 0.6666666666666666, 0.787...         0.848485   \n",
       "1  [0.2692307692307692, 0.4230769230769231, 0.384...         0.538462   \n",
       "2  [0.025, 0.025, 0.05, 0.0, 0.0, 0.0, 0.0, 0.025...         0.200000   \n",
       "3  [0.3333333333333333, 0.0, 0.06666666666666667,...         0.366667   \n",
       "4  [0.047619047619047616, 0.19047619047619047, 0....         0.333333   \n",
       "\n",
       "   sensitivity_median                                                seq  \\\n",
       "0            0.696970  UUCGGUGGUUAUAGCGGUGGGGAAACACCCGGUCCCAUUCCGAACC...   \n",
       "1            0.365385  UAGCUUCAGCGAUGGAUCGGUUGCAUCGAGUAUCGAUGAAGAACGC...   \n",
       "2            0.000000  AUACUUACCUGGACGGGGUCAAUGGAUGAUCUAUAAGGUCCAUGGC...   \n",
       "3            0.100000  AUAUCUUCUCGGCUAUUUAGCUAAGAUCAAGUUAUUAAACUGUUCU...   \n",
       "4            0.261905  GGGCCCAUAGCUCAGUGGUAGAGUGCCUCCUUUGCAAGGAGGAUGC...   \n",
       "\n",
       "      seq_id  \n",
       "0  RF00001_A  \n",
       "1  RF00002_B  \n",
       "2  RF00003_B  \n",
       "3  RF00004_A  \n",
       "4  RF00005_A  "
      ]
     },
     "execution_count": 20,
     "metadata": {},
     "output_type": "execute_result"
    }
   ],
   "source": [
    "df_new.head()"
   ]
  },
  {
   "cell_type": "code",
   "execution_count": 21,
   "metadata": {},
   "outputs": [
    {
     "data": {
      "text/html": [
       "<div>\n",
       "<style scoped>\n",
       "    .dataframe tbody tr th:only-of-type {\n",
       "        vertical-align: middle;\n",
       "    }\n",
       "\n",
       "    .dataframe tbody tr th {\n",
       "        vertical-align: top;\n",
       "    }\n",
       "\n",
       "    .dataframe thead th {\n",
       "        text-align: right;\n",
       "    }\n",
       "</style>\n",
       "<table border=\"1\" class=\"dataframe\">\n",
       "  <thead>\n",
       "    <tr style=\"text-align: right;\">\n",
       "      <th></th>\n",
       "      <th>f_measure</th>\n",
       "      <th>len</th>\n",
       "      <th>one_idx</th>\n",
       "      <th>ppv</th>\n",
       "      <th>ppv_max</th>\n",
       "      <th>ppv_median</th>\n",
       "      <th>pred_idx</th>\n",
       "      <th>sensitivity</th>\n",
       "      <th>sensitivity_max</th>\n",
       "      <th>sensitivity_median</th>\n",
       "      <th>seq</th>\n",
       "      <th>seq_id</th>\n",
       "    </tr>\n",
       "  </thead>\n",
       "  <tbody>\n",
       "    <tr>\n",
       "      <th>0</th>\n",
       "      <td>[nan, nan, nan, nan, nan, nan, nan, nan, nan, ...</td>\n",
       "      <td>117</td>\n",
       "      <td>([0, 1, 2, 3, 4, 5, 6, 7, 8, 13, 14, 16, 17, 1...</td>\n",
       "      <td>[0.0, 0.0, 0.0, 0.0, 0.0, 0.0, 0.0, 0.0, 0.0, ...</td>\n",
       "      <td>0.000000</td>\n",
       "      <td>0.0</td>\n",
       "      <td>[([12, 29, 40, 54, 66, 72, 93], [72, 107, 90, ...</td>\n",
       "      <td>[0.0, 0.0, 0.0, 0.0, 0.0, 0.0, 0.0, 0.0, 0.0, ...</td>\n",
       "      <td>0.000000</td>\n",
       "      <td>0.0</td>\n",
       "      <td>UUCGGUGGUUAUAGCGGUGGGGAAACACCCGGUCCCAUUCCGAACC...</td>\n",
       "      <td>RF00001_A</td>\n",
       "    </tr>\n",
       "    <tr>\n",
       "      <th>1</th>\n",
       "      <td>[nan, nan, nan, nan, nan, nan, nan, nan, nan, ...</td>\n",
       "      <td>150</td>\n",
       "      <td>([32, 33, 35, 36, 43, 44, 45, 46, 47, 58, 59, ...</td>\n",
       "      <td>[0.0, 0.0, 0.0, 0.0, 0.0, 0.0, 0.0, 0.0, 0.0, ...</td>\n",
       "      <td>0.090909</td>\n",
       "      <td>0.0</td>\n",
       "      <td>[([0, 3, 18, 19, 23, 25, 28, 34, 52, 77], [131...</td>\n",
       "      <td>[0.0, 0.0, 0.0, 0.0, 0.0, 0.0, 0.0, 0.0, 0.0, ...</td>\n",
       "      <td>0.038462</td>\n",
       "      <td>0.0</td>\n",
       "      <td>UAGCUUCAGCGAUGGAUCGGUUGCAUCGAGUAUCGAUGAAGAACGC...</td>\n",
       "      <td>RF00002_B</td>\n",
       "    </tr>\n",
       "    <tr>\n",
       "      <th>2</th>\n",
       "      <td>[nan, nan, nan, nan, nan, nan, nan, nan, 0.075...</td>\n",
       "      <td>161</td>\n",
       "      <td>([11, 12, 13, 14, 15, 16, 17, 18, 19, 20, 22, ...</td>\n",
       "      <td>[0.0, 0.0, 0.0, 0.0, 0.0, 0.0, 0.0, 0.0, 0.153...</td>\n",
       "      <td>0.153846</td>\n",
       "      <td>0.0</td>\n",
       "      <td>[([19, 30, 31, 35, 58, 78, 98, 124, 141], [70,...</td>\n",
       "      <td>[0.0, 0.0, 0.0, 0.0, 0.0, 0.0, 0.0, 0.0, 0.05,...</td>\n",
       "      <td>0.050000</td>\n",
       "      <td>0.0</td>\n",
       "      <td>AUACUUACCUGGACGGGGUCAAUGGAUGAUCUAUAAGGUCCAUGGC...</td>\n",
       "      <td>RF00003_B</td>\n",
       "    </tr>\n",
       "    <tr>\n",
       "      <th>3</th>\n",
       "      <td>[nan, nan, nan, nan, nan, nan, nan, nan, nan, ...</td>\n",
       "      <td>145</td>\n",
       "      <td>([6, 7, 8, 10, 11, 12, 13, 46, 47, 48, 49, 50,...</td>\n",
       "      <td>[0.0, 0.0, 0.0, 0.0, 0.0, 0.0, 0.0, 0.0, 0.0, ...</td>\n",
       "      <td>0.000000</td>\n",
       "      <td>0.0</td>\n",
       "      <td>[([21, 23, 30, 35, 41, 66, 85, 86, 96, 109, 11...</td>\n",
       "      <td>[0.0, 0.0, 0.0, 0.0, 0.0, 0.0, 0.0, 0.0, 0.0, ...</td>\n",
       "      <td>0.000000</td>\n",
       "      <td>0.0</td>\n",
       "      <td>AUAUCUUCUCGGCUAUUUAGCUAAGAUCAAGUUAUUAAACUGUUCU...</td>\n",
       "      <td>RF00004_A</td>\n",
       "    </tr>\n",
       "    <tr>\n",
       "      <th>4</th>\n",
       "      <td>[nan, nan, nan, nan, nan, nan, nan, nan, nan, ...</td>\n",
       "      <td>72</td>\n",
       "      <td>([0, 1, 2, 3, 4, 5, 6, 9, 10, 11, 12, 25, 26, ...</td>\n",
       "      <td>[0.0, 0.0, 0.0, 0.0, 0.0, 0.0, 0.0, 0.0, 0.0, ...</td>\n",
       "      <td>0.000000</td>\n",
       "      <td>0.0</td>\n",
       "      <td>[([0, 15, 21, 54], [16, 37, 32, 66]), ([10, 17...</td>\n",
       "      <td>[0.0, 0.0, 0.0, 0.0, 0.0, 0.0, 0.0, 0.0, 0.0, ...</td>\n",
       "      <td>0.000000</td>\n",
       "      <td>0.0</td>\n",
       "      <td>GGGCCCAUAGCUCAGUGGUAGAGUGCCUCCUUUGCAAGGAGGAUGC...</td>\n",
       "      <td>RF00005_A</td>\n",
       "    </tr>\n",
       "  </tbody>\n",
       "</table>\n",
       "</div>"
      ],
      "text/plain": [
       "                                           f_measure  len  \\\n",
       "0  [nan, nan, nan, nan, nan, nan, nan, nan, nan, ...  117   \n",
       "1  [nan, nan, nan, nan, nan, nan, nan, nan, nan, ...  150   \n",
       "2  [nan, nan, nan, nan, nan, nan, nan, nan, 0.075...  161   \n",
       "3  [nan, nan, nan, nan, nan, nan, nan, nan, nan, ...  145   \n",
       "4  [nan, nan, nan, nan, nan, nan, nan, nan, nan, ...   72   \n",
       "\n",
       "                                             one_idx  \\\n",
       "0  ([0, 1, 2, 3, 4, 5, 6, 7, 8, 13, 14, 16, 17, 1...   \n",
       "1  ([32, 33, 35, 36, 43, 44, 45, 46, 47, 58, 59, ...   \n",
       "2  ([11, 12, 13, 14, 15, 16, 17, 18, 19, 20, 22, ...   \n",
       "3  ([6, 7, 8, 10, 11, 12, 13, 46, 47, 48, 49, 50,...   \n",
       "4  ([0, 1, 2, 3, 4, 5, 6, 9, 10, 11, 12, 25, 26, ...   \n",
       "\n",
       "                                                 ppv   ppv_max  ppv_median  \\\n",
       "0  [0.0, 0.0, 0.0, 0.0, 0.0, 0.0, 0.0, 0.0, 0.0, ...  0.000000         0.0   \n",
       "1  [0.0, 0.0, 0.0, 0.0, 0.0, 0.0, 0.0, 0.0, 0.0, ...  0.090909         0.0   \n",
       "2  [0.0, 0.0, 0.0, 0.0, 0.0, 0.0, 0.0, 0.0, 0.153...  0.153846         0.0   \n",
       "3  [0.0, 0.0, 0.0, 0.0, 0.0, 0.0, 0.0, 0.0, 0.0, ...  0.000000         0.0   \n",
       "4  [0.0, 0.0, 0.0, 0.0, 0.0, 0.0, 0.0, 0.0, 0.0, ...  0.000000         0.0   \n",
       "\n",
       "                                            pred_idx  \\\n",
       "0  [([12, 29, 40, 54, 66, 72, 93], [72, 107, 90, ...   \n",
       "1  [([0, 3, 18, 19, 23, 25, 28, 34, 52, 77], [131...   \n",
       "2  [([19, 30, 31, 35, 58, 78, 98, 124, 141], [70,...   \n",
       "3  [([21, 23, 30, 35, 41, 66, 85, 86, 96, 109, 11...   \n",
       "4  [([0, 15, 21, 54], [16, 37, 32, 66]), ([10, 17...   \n",
       "\n",
       "                                         sensitivity  sensitivity_max  \\\n",
       "0  [0.0, 0.0, 0.0, 0.0, 0.0, 0.0, 0.0, 0.0, 0.0, ...         0.000000   \n",
       "1  [0.0, 0.0, 0.0, 0.0, 0.0, 0.0, 0.0, 0.0, 0.0, ...         0.038462   \n",
       "2  [0.0, 0.0, 0.0, 0.0, 0.0, 0.0, 0.0, 0.0, 0.05,...         0.050000   \n",
       "3  [0.0, 0.0, 0.0, 0.0, 0.0, 0.0, 0.0, 0.0, 0.0, ...         0.000000   \n",
       "4  [0.0, 0.0, 0.0, 0.0, 0.0, 0.0, 0.0, 0.0, 0.0, ...         0.000000   \n",
       "\n",
       "   sensitivity_median                                                seq  \\\n",
       "0                 0.0  UUCGGUGGUUAUAGCGGUGGGGAAACACCCGGUCCCAUUCCGAACC...   \n",
       "1                 0.0  UAGCUUCAGCGAUGGAUCGGUUGCAUCGAGUAUCGAUGAAGAACGC...   \n",
       "2                 0.0  AUACUUACCUGGACGGGGUCAAUGGAUGAUCUAUAAGGUCCAUGGC...   \n",
       "3                 0.0  AUAUCUUCUCGGCUAUUUAGCUAAGAUCAAGUUAUUAAACUGUUCU...   \n",
       "4                 0.0  GGGCCCAUAGCUCAGUGGUAGAGUGCCUCCUUUGCAAGGAGGAUGC...   \n",
       "\n",
       "      seq_id  \n",
       "0  RF00001_A  \n",
       "1  RF00002_B  \n",
       "2  RF00003_B  \n",
       "3  RF00004_A  \n",
       "4  RF00005_A  "
      ]
     },
     "execution_count": 21,
     "metadata": {},
     "output_type": "execute_result"
    }
   ],
   "source": [
    "df_old.head()"
   ]
  },
  {
   "cell_type": "code",
   "execution_count": null,
   "metadata": {},
   "outputs": [],
   "source": []
  }
 ],
 "metadata": {
  "kernelspec": {
   "display_name": "Python 2",
   "language": "python",
   "name": "python2"
  },
  "language_info": {
   "codemirror_mode": {
    "name": "ipython",
    "version": 2
   },
   "file_extension": ".py",
   "mimetype": "text/x-python",
   "name": "python",
   "nbconvert_exporter": "python",
   "pygments_lexer": "ipython2",
   "version": "2.7.16"
  }
 },
 "nbformat": 4,
 "nbformat_minor": 2
}
