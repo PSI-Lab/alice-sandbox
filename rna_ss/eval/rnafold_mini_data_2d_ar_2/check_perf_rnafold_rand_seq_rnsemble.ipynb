{
 "cells": [
  {
   "cell_type": "code",
   "execution_count": 1,
   "metadata": {},
   "outputs": [],
   "source": [
    "import pandas as pd\n",
    "import numpy as np"
   ]
  },
  {
   "cell_type": "code",
   "execution_count": 2,
   "metadata": {},
   "outputs": [],
   "source": [
    "from collections import Counter"
   ]
  },
  {
   "cell_type": "code",
   "execution_count": 3,
   "metadata": {},
   "outputs": [
    {
     "name": "stderr",
     "output_type": "stream",
     "text": [
      "Using TensorFlow backend.\n"
     ]
    }
   ],
   "source": [
    "from utils import EvalMetric"
   ]
  },
  {
   "cell_type": "code",
   "execution_count": 4,
   "metadata": {},
   "outputs": [
    {
     "data": {
      "text/html": [
       "<script type=\"text/javascript\">window.PlotlyConfig = {MathJaxConfig: 'local'};</script><script type=\"text/javascript\">if (window.MathJax) {MathJax.Hub.Config({SVG: {font: \"STIX-Web\"}});}</script><script>requirejs.config({paths: { 'plotly': ['https://cdn.plot.ly/plotly-latest.min']},});if(!window._Plotly) {require(['plotly'],function(plotly) {window._Plotly=plotly;});}</script>"
      ],
      "text/vnd.plotly.v1+html": [
       "<script type=\"text/javascript\">window.PlotlyConfig = {MathJaxConfig: 'local'};</script><script type=\"text/javascript\">if (window.MathJax) {MathJax.Hub.Config({SVG: {font: \"STIX-Web\"}});}</script><script>requirejs.config({paths: { 'plotly': ['https://cdn.plot.ly/plotly-latest.min']},});if(!window._Plotly) {require(['plotly'],function(plotly) {window._Plotly=plotly;});}</script>"
      ]
     },
     "metadata": {},
     "output_type": "display_data"
    }
   ],
   "source": [
    "import matplotlib.pyplot as plt \n",
    "# import seaborn as sns\n",
    "import pandas as pd\n",
    "# sns.set(color_codes=True)\n",
    "import cufflinks as cf\n",
    "cf.go_offline()\n",
    "cf.set_config_file(theme='ggplot')"
   ]
  },
  {
   "cell_type": "code",
   "execution_count": 5,
   "metadata": {},
   "outputs": [
    {
     "data": {
      "text/html": [
       "<script type=\"text/javascript\">window.PlotlyConfig = {MathJaxConfig: 'local'};</script><script type=\"text/javascript\">if (window.MathJax) {MathJax.Hub.Config({SVG: {font: \"STIX-Web\"}});}</script><script>requirejs.config({paths: { 'plotly': ['https://cdn.plot.ly/plotly-latest.min']},});if(!window._Plotly) {require(['plotly'],function(plotly) {window._Plotly=plotly;});}</script>"
      ],
      "text/vnd.plotly.v1+html": [
       "<script type=\"text/javascript\">window.PlotlyConfig = {MathJaxConfig: 'local'};</script><script type=\"text/javascript\">if (window.MathJax) {MathJax.Hub.Config({SVG: {font: \"STIX-Web\"}});}</script><script>requirejs.config({paths: { 'plotly': ['https://cdn.plot.ly/plotly-latest.min']},});if(!window._Plotly) {require(['plotly'],function(plotly) {window._Plotly=plotly;});}</script>"
      ]
     },
     "metadata": {},
     "output_type": "display_data"
    }
   ],
   "source": [
    "from plotly.offline import download_plotlyjs, init_notebook_mode, plot, iplot\n",
    "import plotly.tools as tls\n",
    "import plotly.graph_objs as go\n",
    "import plotly.figure_factory as ff\n",
    "init_notebook_mode(connected=True)"
   ]
  },
  {
   "cell_type": "code",
   "execution_count": null,
   "metadata": {},
   "outputs": [],
   "source": []
  },
  {
   "cell_type": "code",
   "execution_count": 6,
   "metadata": {},
   "outputs": [],
   "source": [
    "df = pd.read_pickle('result/prediction.rand_seqs_var_len_sample_ensemble_10_100_100.2019_09_12_1.sample100.pkl')"
   ]
  },
  {
   "cell_type": "code",
   "execution_count": 7,
   "metadata": {},
   "outputs": [
    {
     "data": {
      "text/html": [
       "<div>\n",
       "<style scoped>\n",
       "    .dataframe tbody tr th:only-of-type {\n",
       "        vertical-align: middle;\n",
       "    }\n",
       "\n",
       "    .dataframe tbody tr th {\n",
       "        vertical-align: top;\n",
       "    }\n",
       "\n",
       "    .dataframe thead th {\n",
       "        text-align: right;\n",
       "    }\n",
       "</style>\n",
       "<table border=\"1\" class=\"dataframe\">\n",
       "  <thead>\n",
       "    <tr style=\"text-align: right;\">\n",
       "      <th></th>\n",
       "      <th>one_idx</th>\n",
       "      <th>pred_idx</th>\n",
       "      <th>seq</th>\n",
       "    </tr>\n",
       "  </thead>\n",
       "  <tbody>\n",
       "    <tr>\n",
       "      <th>0</th>\n",
       "      <td>[([2, 3, 4], [17, 16, 15]), ([1, 2, 3, 4, 6], ...</td>\n",
       "      <td>[([1, 2, 3, 4, 6], [18, 17, 16, 15, 13]), ([1,...</td>\n",
       "      <td>AACCUAUGUACGAAAAGGU</td>\n",
       "    </tr>\n",
       "    <tr>\n",
       "      <th>1</th>\n",
       "      <td>[([7, 9, 10, 11, 12], [25, 23, 22, 21, 20]), (...</td>\n",
       "      <td>[([7, 9, 10, 11, 12], [25, 23, 22, 21, 20]), (...</td>\n",
       "      <td>GUGACGCUGGCAGUCGUACUCUGCGGAU</td>\n",
       "    </tr>\n",
       "    <tr>\n",
       "      <th>2</th>\n",
       "      <td>[([0, 1, 2, 3, 4, 5, 6, 11, 14, 15, 17, 18, 19...</td>\n",
       "      <td>[([0, 2, 4, 5, 6, 7, 8, 23, 25, 26, 29, 30, 33...</td>\n",
       "      <td>GUUGCGGACAUGCCGAGUCUGGGUCGAAGUUCUACCUCCAAGUACA...</td>\n",
       "    </tr>\n",
       "    <tr>\n",
       "      <th>3</th>\n",
       "      <td>[([4, 5, 7, 10, 11, 12, 13, 21, 22, 23, 24, 51...</td>\n",
       "      <td>[([4, 5, 12, 13, 14, 15, 16, 21, 22, 23, 24, 3...</td>\n",
       "      <td>AAUUGUGUGACCGGUAUUCCUGCACCCAGUGCUUCUACCCGGGAGG...</td>\n",
       "    </tr>\n",
       "    <tr>\n",
       "      <th>4</th>\n",
       "      <td>[([0, 3, 4, 6, 7, 8], [19, 17, 16, 15, 14, 13]...</td>\n",
       "      <td>[([2, 3, 4, 6, 7, 8], [18, 17, 16, 15, 14, 13]...</td>\n",
       "      <td>CGGACGUGCACAGGCAGUUGC</td>\n",
       "    </tr>\n",
       "  </tbody>\n",
       "</table>\n",
       "</div>"
      ],
      "text/plain": [
       "                                             one_idx  \\\n",
       "0  [([2, 3, 4], [17, 16, 15]), ([1, 2, 3, 4, 6], ...   \n",
       "1  [([7, 9, 10, 11, 12], [25, 23, 22, 21, 20]), (...   \n",
       "2  [([0, 1, 2, 3, 4, 5, 6, 11, 14, 15, 17, 18, 19...   \n",
       "3  [([4, 5, 7, 10, 11, 12, 13, 21, 22, 23, 24, 51...   \n",
       "4  [([0, 3, 4, 6, 7, 8], [19, 17, 16, 15, 14, 13]...   \n",
       "\n",
       "                                            pred_idx  \\\n",
       "0  [([1, 2, 3, 4, 6], [18, 17, 16, 15, 13]), ([1,...   \n",
       "1  [([7, 9, 10, 11, 12], [25, 23, 22, 21, 20]), (...   \n",
       "2  [([0, 2, 4, 5, 6, 7, 8, 23, 25, 26, 29, 30, 33...   \n",
       "3  [([4, 5, 12, 13, 14, 15, 16, 21, 22, 23, 24, 3...   \n",
       "4  [([2, 3, 4, 6, 7, 8], [18, 17, 16, 15, 14, 13]...   \n",
       "\n",
       "                                                 seq  \n",
       "0                                AACCUAUGUACGAAAAGGU  \n",
       "1                       GUGACGCUGGCAGUCGUACUCUGCGGAU  \n",
       "2  GUUGCGGACAUGCCGAGUCUGGGUCGAAGUUCUACCUCCAAGUACA...  \n",
       "3  AAUUGUGUGACCGGUAUUCCUGCACCCAGUGCUUCUACCCGGGAGG...  \n",
       "4                              CGGACGUGCACAGGCAGUUGC  "
      ]
     },
     "execution_count": 7,
     "metadata": {},
     "output_type": "execute_result"
    }
   ],
   "source": [
    "df.head()"
   ]
  },
  {
   "cell_type": "code",
   "execution_count": 8,
   "metadata": {},
   "outputs": [],
   "source": [
    "# convert to tuple so we can use set()\n",
    "def _to_tuple(idxes):\n",
    "    x = []\n",
    "    for _a in idxes:\n",
    "        a = []\n",
    "        for i, j in zip(_a[0], _a[1]):\n",
    "            a.append((i, j))\n",
    "        if len(a) > 0:\n",
    "            a = tuple(a)\n",
    "            x.append(a)\n",
    "    return x"
   ]
  },
  {
   "cell_type": "code",
   "execution_count": 9,
   "metadata": {},
   "outputs": [],
   "source": [
    "def _to_mat(x, l):\n",
    "    # x is tuple of tuple (2 elements)\n",
    "    # convert to list of 2 lists\n",
    "    y = [[a[0] for a in x], [a[1] for a in x]]\n",
    "    z = np.zeros((l, l))\n",
    "    z[y] = 1\n",
    "    return z"
   ]
  },
  {
   "cell_type": "code",
   "execution_count": 10,
   "metadata": {
    "scrolled": false
   },
   "outputs": [
    {
     "name": "stderr",
     "output_type": "stream",
     "text": [
      "/Users/alicegao/anaconda2/envs/dg_work_py2/lib/python2.7/site-packages/ipykernel_launcher.py:6: FutureWarning:\n",
      "\n",
      "Using a non-tuple sequence for multidimensional indexing is deprecated; use `arr[tuple(seq)]` instead of `arr[seq]`. In the future this will be interpreted as an array index, `arr[np.array(seq)]`, which will result either in an error or a different result.\n",
      "\n",
      "utils.py:325: RuntimeWarning:\n",
      "\n",
      "invalid value encountered in double_scalars\n",
      "\n"
     ]
    },
    {
     "name": "stdout",
     "output_type": "stream",
     "text": [
      "40\n"
     ]
    }
   ],
   "source": [
    "n_no_struct = 0\n",
    "df_metric = []\n",
    "\n",
    "for _, row in df.iterrows():\n",
    "    seq = row['seq']\n",
    "    rnafold_struct_count = Counter(_to_tuple(row['one_idx']))\n",
    "    model_struct_count = Counter(_to_tuple(row['pred_idx']))\n",
    "    # only keep structures that occurs more than 10 times (10% in sampled structures)\n",
    "    rnafold_struct_count = {k: v for k, v in rnafold_struct_count.iteritems() if v >=10}\n",
    "    model_struct_count = {k: v for k, v in model_struct_count.iteritems() if v >=10}\n",
    "    \n",
    "    # skip the case if RNAfold outputs no structure\n",
    "    if len(rnafold_struct_count) == 0:\n",
    "        n_no_struct += 1\n",
    "        continue\n",
    "    \n",
    "    # for each structure from RNAfold\n",
    "    # evaluate against all structures from the model, pick the closest one, record performance\n",
    "#     result = []\n",
    "    for rnafold_struct in rnafold_struct_count.keys():\n",
    "        r_s = _to_mat(rnafold_struct, len(seq))\n",
    "        sensitivity = 0\n",
    "        ppv = 0\n",
    "        f_measure = 0\n",
    "        best_m_s = None\n",
    "        for model_struct in model_struct_count.keys():\n",
    "            m_s = _to_mat(model_struct, len(seq))\n",
    "            _sensitivity = EvalMetric.sensitivity(m_s, r_s)\n",
    "            _ppv = EvalMetric.ppv(m_s, r_s)\n",
    "            _f_measure = EvalMetric.f_measure(_sensitivity, _ppv)\n",
    "            if _f_measure > f_measure:\n",
    "                sensitivity = _sensitivity + 0  # copy\n",
    "                ppv = _ppv + 0\n",
    "                f_measure = _f_measure + 0\n",
    "                best_m_s = list(model_struct)\n",
    "#         result.append((sensitivity, ppv, f_measure))\n",
    "        df_metric.append({\n",
    "            'seq': seq,\n",
    "            'rnafold_idx': list(rnafold_struct),\n",
    "            'closest_model_idx': best_m_s,\n",
    "            'sensitivity': sensitivity,\n",
    "            'ppv': ppv,\n",
    "            'f_measure': f_measure,\n",
    "        })\n",
    "    \n",
    "#     print rnafold_struct_count\n",
    "#     print model_struct_count\n",
    "#     print result\n",
    "#     print ''\n",
    "    \n",
    "    \n",
    "print n_no_struct\n",
    "df_metric = pd.DataFrame(df_metric)\n"
   ]
  },
  {
   "cell_type": "code",
   "execution_count": 11,
   "metadata": {},
   "outputs": [],
   "source": [
    "# fig = df_metric[['sensitivity', 'ppv','f_measure']].iplot(kind='histogram', bins=20,\n",
    "#                                                     histnorm='probability',\n",
    "#                                                      barmode='group', asFigure=True)\n",
    "fig = df_metric[['sensitivity', 'ppv']].iplot(kind='histogram', bins=20,\n",
    "                                                    histnorm='probability', opacity=1,\n",
    "                                                     barmode='group', asFigure=True)\n",
    "fig = fig.update(layout=dict(\n",
    "    paper_bgcolor='rgba(0,0,0,0)',\n",
    "    plot_bgcolor='rgba(0,0,0,0)',\n",
    "    xaxis=dict(showgrid=False, zeroline=False,\n",
    "               tickfont=dict(size=18, color='#000'),\n",
    "               titlefont=dict(size=24, color='#000'),\n",
    "               showline=True, mirror=True),\n",
    "    yaxis=dict(showgrid=True, gridwidth=1, gridcolor='darkgray',\n",
    "               tickfont=dict(size=18, color='#000'),\n",
    "               titlefont=dict(size=24, color='#000'),\n",
    "               title='Percentage', showline=True, mirror=True),\n",
    "    title='Performance on test dataset',\n",
    "    titlefont=dict(size=24, color='#000'),\n",
    "    legend=dict(orientation=\"h\",\n",
    "                font=dict(\n",
    "#             family='sans-serif',\n",
    "            size=24,\n",
    "            color='#000'\n",
    "        ),),\n",
    "))"
   ]
  },
  {
   "cell_type": "code",
   "execution_count": 12,
   "metadata": {},
   "outputs": [
    {
     "data": {
      "application/vnd.plotly.v1+json": {
       "config": {
        "linkText": "Export to plot.ly",
        "plotlyServerURL": "https://plot.ly",
        "showLink": false
       },
       "data": [
        {
         "histfunc": "count",
         "histnorm": "probability",
         "marker": {
          "color": "rgba(226, 74, 51, 1.0)",
          "line": {
           "color": "#D9D9D9",
           "width": 1.3
          }
         },
         "name": "sensitivity",
         "nbinsx": 20,
         "opacity": 1,
         "orientation": "v",
         "type": "histogram",
         "uid": "0e341328-4860-4908-a40d-e7869c802d7c",
         "x": [
          1,
          1,
          1,
          0.5,
          1,
          1,
          0.48148148148148145,
          0.4642857142857143,
          1,
          0.6,
          1,
          1,
          1,
          0.8125,
          1,
          0.2857142857142857,
          0.8333333333333334,
          1,
          1,
          1,
          0.5555555555555556,
          1,
          0.625,
          1,
          0.2777777777777778,
          0,
          1,
          1,
          0.75,
          0,
          1,
          1,
          1,
          1,
          1,
          0.3,
          0.2857142857142857,
          0.6,
          0.6666666666666666,
          0.75,
          1,
          1,
          1,
          1,
          0.9090909090909091,
          0.6666666666666666,
          1,
          1,
          0.3333333333333333,
          0,
          0,
          0.625,
          0,
          1,
          1,
          0,
          1,
          1,
          1,
          1,
          1,
          0,
          1,
          0,
          1,
          0.9615384615384616,
          0.8571428571428571,
          0.75,
          0.9090909090909091,
          0.9090909090909091,
          1,
          0.5555555555555556,
          0.7142857142857143,
          1,
          0,
          1,
          0.6,
          1,
          0.7272727272727273,
          0.9166666666666666,
          0.8,
          0.9090909090909091,
          1,
          1,
          0.6363636363636364,
          0,
          0,
          1,
          1,
          0.8571428571428571,
          1,
          1,
          1,
          1,
          0,
          0.1875,
          1,
          0.8125,
          0.875,
          1,
          0.8571428571428571,
          1,
          1,
          0.4,
          1,
          1,
          0.75,
          0.75,
          1,
          0.6666666666666666,
          0.8,
          1
         ]
        },
        {
         "histfunc": "count",
         "histnorm": "probability",
         "marker": {
          "color": "rgba(62, 111, 176, 1.0)",
          "line": {
           "color": "#D9D9D9",
           "width": 1.3
          }
         },
         "name": "ppv",
         "nbinsx": 20,
         "opacity": 1,
         "orientation": "v",
         "type": "histogram",
         "uid": "ee686339-562d-4f40-bd10-895a70875de2",
         "x": [
          1,
          0.8,
          1,
          0.75,
          1,
          1,
          0.5416666666666666,
          0.5416666666666666,
          1,
          1,
          1,
          1,
          1,
          0.7647058823529411,
          0.8571428571428571,
          0.2857142857142857,
          0.7142857142857143,
          1,
          0.8571428571428571,
          1,
          1,
          1,
          1,
          1,
          0.4166666666666667,
          0,
          1,
          1,
          0.8181818181818182,
          0,
          1,
          1,
          0.9523809523809523,
          1,
          0.5,
          0.375,
          0.375,
          0.6666666666666666,
          0.6666666666666666,
          0.8333333333333334,
          0.7,
          1,
          0.9,
          1,
          1,
          0.7692307692307693,
          1,
          1,
          1,
          0,
          0,
          1,
          0,
          1,
          1,
          0,
          0.8333333333333334,
          1,
          1,
          1,
          0.9444444444444444,
          0,
          1,
          0,
          1,
          0.9615384615384616,
          0.75,
          0.75,
          1,
          0.8695652173913043,
          1,
          1,
          1,
          1,
          0,
          1,
          1,
          1,
          0.7272727272727273,
          1,
          0.7272727272727273,
          1,
          1,
          1,
          0.5833333333333334,
          0,
          0,
          1,
          1,
          1,
          1,
          0.9285714285714286,
          1,
          1,
          0,
          0.6,
          1,
          0.9285714285714286,
          1,
          0.8571428571428571,
          0.8571428571428571,
          1,
          1,
          0.5714285714285714,
          1,
          1,
          1,
          1,
          1,
          0.6666666666666666,
          0.6666666666666666,
          0.6666666666666666
         ]
        }
       ],
       "layout": {
        "barmode": "group",
        "legend": {
         "bgcolor": "#FFFFFF",
         "font": {
          "color": "#000",
          "size": 24
         },
         "orientation": "h"
        },
        "paper_bgcolor": "rgba(0,0,0,0)",
        "plot_bgcolor": "rgba(0,0,0,0)",
        "title": {
         "font": {
          "color": "#000",
          "size": 24
         },
         "text": "Performance on test dataset"
        },
        "xaxis": {
         "gridcolor": "#F6F6F6",
         "mirror": true,
         "showgrid": false,
         "showline": true,
         "tickfont": {
          "color": "#000",
          "size": 18
         },
         "title": {
          "font": {
           "color": "#000",
           "size": 24
          },
          "text": ""
         },
         "zeroline": false,
         "zerolinecolor": "#F6F6F6"
        },
        "yaxis": {
         "gridcolor": "darkgray",
         "gridwidth": 1,
         "mirror": true,
         "showgrid": true,
         "showline": true,
         "tickfont": {
          "color": "#000",
          "size": 18
         },
         "title": {
          "font": {
           "color": "#000",
           "size": 24
          },
          "text": "Percentage"
         },
         "zerolinecolor": "#F6F6F6"
        }
       }
      },
      "text/html": [
       "<div id=\"e6e6f684-c4ff-4693-9113-be1ec3f274a1\" style=\"height: 525px; width: 100%;\" class=\"plotly-graph-div\"></div><script type=\"text/javascript\">require([\"plotly\"], function(Plotly) { window.PLOTLYENV=window.PLOTLYENV || {};window.PLOTLYENV.BASE_URL=\"https://plot.ly\";Plotly.newPlot(\"e6e6f684-c4ff-4693-9113-be1ec3f274a1\", [{\"opacity\": 1, \"name\": \"sensitivity\", \"orientation\": \"v\", \"histnorm\": \"probability\", \"nbinsx\": 20, \"histfunc\": \"count\", \"marker\": {\"color\": \"rgba(226, 74, 51, 1.0)\", \"line\": {\"color\": \"#D9D9D9\", \"width\": 1.3}}, \"x\": [1.0, 1.0, 1.0, 0.5, 1.0, 1.0, 0.48148148148148145, 0.4642857142857143, 1.0, 0.6, 1.0, 1.0, 1.0, 0.8125, 1.0, 0.2857142857142857, 0.8333333333333334, 1.0, 1.0, 1.0, 0.5555555555555556, 1.0, 0.625, 1.0, 0.2777777777777778, 0.0, 1.0, 1.0, 0.75, 0.0, 1.0, 1.0, 1.0, 1.0, 1.0, 0.3, 0.2857142857142857, 0.6, 0.6666666666666666, 0.75, 1.0, 1.0, 1.0, 1.0, 0.9090909090909091, 0.6666666666666666, 1.0, 1.0, 0.3333333333333333, 0.0, 0.0, 0.625, 0.0, 1.0, 1.0, 0.0, 1.0, 1.0, 1.0, 1.0, 1.0, 0.0, 1.0, 0.0, 1.0, 0.9615384615384616, 0.8571428571428571, 0.75, 0.9090909090909091, 0.9090909090909091, 1.0, 0.5555555555555556, 0.7142857142857143, 1.0, 0.0, 1.0, 0.6, 1.0, 0.7272727272727273, 0.9166666666666666, 0.8, 0.9090909090909091, 1.0, 1.0, 0.6363636363636364, 0.0, 0.0, 1.0, 1.0, 0.8571428571428571, 1.0, 1.0, 1.0, 1.0, 0.0, 0.1875, 1.0, 0.8125, 0.875, 1.0, 0.8571428571428571, 1.0, 1.0, 0.4, 1.0, 1.0, 0.75, 0.75, 1.0, 0.6666666666666666, 0.8, 1.0], \"type\": \"histogram\", \"uid\": \"0e341328-4860-4908-a40d-e7869c802d7c\"}, {\"opacity\": 1, \"name\": \"ppv\", \"orientation\": \"v\", \"histnorm\": \"probability\", \"nbinsx\": 20, \"histfunc\": \"count\", \"marker\": {\"color\": \"rgba(62, 111, 176, 1.0)\", \"line\": {\"color\": \"#D9D9D9\", \"width\": 1.3}}, \"x\": [1.0, 0.8, 1.0, 0.75, 1.0, 1.0, 0.5416666666666666, 0.5416666666666666, 1.0, 1.0, 1.0, 1.0, 1.0, 0.7647058823529411, 0.8571428571428571, 0.2857142857142857, 0.7142857142857143, 1.0, 0.8571428571428571, 1.0, 1.0, 1.0, 1.0, 1.0, 0.4166666666666667, 0.0, 1.0, 1.0, 0.8181818181818182, 0.0, 1.0, 1.0, 0.9523809523809523, 1.0, 0.5, 0.375, 0.375, 0.6666666666666666, 0.6666666666666666, 0.8333333333333334, 0.7, 1.0, 0.9, 1.0, 1.0, 0.7692307692307693, 1.0, 1.0, 1.0, 0.0, 0.0, 1.0, 0.0, 1.0, 1.0, 0.0, 0.8333333333333334, 1.0, 1.0, 1.0, 0.9444444444444444, 0.0, 1.0, 0.0, 1.0, 0.9615384615384616, 0.75, 0.75, 1.0, 0.8695652173913043, 1.0, 1.0, 1.0, 1.0, 0.0, 1.0, 1.0, 1.0, 0.7272727272727273, 1.0, 0.7272727272727273, 1.0, 1.0, 1.0, 0.5833333333333334, 0.0, 0.0, 1.0, 1.0, 1.0, 1.0, 0.9285714285714286, 1.0, 1.0, 0.0, 0.6, 1.0, 0.9285714285714286, 1.0, 0.8571428571428571, 0.8571428571428571, 1.0, 1.0, 0.5714285714285714, 1.0, 1.0, 1.0, 1.0, 1.0, 0.6666666666666666, 0.6666666666666666, 0.6666666666666666], \"type\": \"histogram\", \"uid\": \"ee686339-562d-4f40-bd10-895a70875de2\"}], {\"yaxis\": {\"tickfont\": {\"color\": \"#000\", \"size\": 18}, \"title\": {\"text\": \"Percentage\", \"font\": {\"color\": \"#000\", \"size\": 24}}, \"gridwidth\": 1, \"showgrid\": true, \"zerolinecolor\": \"#F6F6F6\", \"gridcolor\": \"darkgray\", \"mirror\": true, \"showline\": true}, \"paper_bgcolor\": \"rgba(0,0,0,0)\", \"plot_bgcolor\": \"rgba(0,0,0,0)\", \"title\": {\"text\": \"Performance on test dataset\", \"font\": {\"color\": \"#000\", \"size\": 24}}, \"barmode\": \"group\", \"xaxis\": {\"tickfont\": {\"color\": \"#000\", \"size\": 18}, \"title\": {\"text\": \"\", \"font\": {\"color\": \"#000\", \"size\": 24}}, \"showgrid\": false, \"zerolinecolor\": \"#F6F6F6\", \"gridcolor\": \"#F6F6F6\", \"mirror\": true, \"zeroline\": false, \"showline\": true}, \"legend\": {\"bgcolor\": \"#FFFFFF\", \"font\": {\"color\": \"#000\", \"size\": 24}, \"orientation\": \"h\"}}, {\"plotlyServerURL\": \"https://plot.ly\", \"linkText\": \"Export to plot.ly\", \"showLink\": false})});</script><script type=\"text/javascript\">window.addEventListener(\"resize\", function(){window._Plotly.Plots.resize(document.getElementById(\"e6e6f684-c4ff-4693-9113-be1ec3f274a1\"));});</script>"
      ],
      "text/vnd.plotly.v1+html": [
       "<div id=\"e6e6f684-c4ff-4693-9113-be1ec3f274a1\" style=\"height: 525px; width: 100%;\" class=\"plotly-graph-div\"></div><script type=\"text/javascript\">require([\"plotly\"], function(Plotly) { window.PLOTLYENV=window.PLOTLYENV || {};window.PLOTLYENV.BASE_URL=\"https://plot.ly\";Plotly.newPlot(\"e6e6f684-c4ff-4693-9113-be1ec3f274a1\", [{\"opacity\": 1, \"name\": \"sensitivity\", \"orientation\": \"v\", \"histnorm\": \"probability\", \"nbinsx\": 20, \"histfunc\": \"count\", \"marker\": {\"color\": \"rgba(226, 74, 51, 1.0)\", \"line\": {\"color\": \"#D9D9D9\", \"width\": 1.3}}, \"x\": [1.0, 1.0, 1.0, 0.5, 1.0, 1.0, 0.48148148148148145, 0.4642857142857143, 1.0, 0.6, 1.0, 1.0, 1.0, 0.8125, 1.0, 0.2857142857142857, 0.8333333333333334, 1.0, 1.0, 1.0, 0.5555555555555556, 1.0, 0.625, 1.0, 0.2777777777777778, 0.0, 1.0, 1.0, 0.75, 0.0, 1.0, 1.0, 1.0, 1.0, 1.0, 0.3, 0.2857142857142857, 0.6, 0.6666666666666666, 0.75, 1.0, 1.0, 1.0, 1.0, 0.9090909090909091, 0.6666666666666666, 1.0, 1.0, 0.3333333333333333, 0.0, 0.0, 0.625, 0.0, 1.0, 1.0, 0.0, 1.0, 1.0, 1.0, 1.0, 1.0, 0.0, 1.0, 0.0, 1.0, 0.9615384615384616, 0.8571428571428571, 0.75, 0.9090909090909091, 0.9090909090909091, 1.0, 0.5555555555555556, 0.7142857142857143, 1.0, 0.0, 1.0, 0.6, 1.0, 0.7272727272727273, 0.9166666666666666, 0.8, 0.9090909090909091, 1.0, 1.0, 0.6363636363636364, 0.0, 0.0, 1.0, 1.0, 0.8571428571428571, 1.0, 1.0, 1.0, 1.0, 0.0, 0.1875, 1.0, 0.8125, 0.875, 1.0, 0.8571428571428571, 1.0, 1.0, 0.4, 1.0, 1.0, 0.75, 0.75, 1.0, 0.6666666666666666, 0.8, 1.0], \"type\": \"histogram\", \"uid\": \"0e341328-4860-4908-a40d-e7869c802d7c\"}, {\"opacity\": 1, \"name\": \"ppv\", \"orientation\": \"v\", \"histnorm\": \"probability\", \"nbinsx\": 20, \"histfunc\": \"count\", \"marker\": {\"color\": \"rgba(62, 111, 176, 1.0)\", \"line\": {\"color\": \"#D9D9D9\", \"width\": 1.3}}, \"x\": [1.0, 0.8, 1.0, 0.75, 1.0, 1.0, 0.5416666666666666, 0.5416666666666666, 1.0, 1.0, 1.0, 1.0, 1.0, 0.7647058823529411, 0.8571428571428571, 0.2857142857142857, 0.7142857142857143, 1.0, 0.8571428571428571, 1.0, 1.0, 1.0, 1.0, 1.0, 0.4166666666666667, 0.0, 1.0, 1.0, 0.8181818181818182, 0.0, 1.0, 1.0, 0.9523809523809523, 1.0, 0.5, 0.375, 0.375, 0.6666666666666666, 0.6666666666666666, 0.8333333333333334, 0.7, 1.0, 0.9, 1.0, 1.0, 0.7692307692307693, 1.0, 1.0, 1.0, 0.0, 0.0, 1.0, 0.0, 1.0, 1.0, 0.0, 0.8333333333333334, 1.0, 1.0, 1.0, 0.9444444444444444, 0.0, 1.0, 0.0, 1.0, 0.9615384615384616, 0.75, 0.75, 1.0, 0.8695652173913043, 1.0, 1.0, 1.0, 1.0, 0.0, 1.0, 1.0, 1.0, 0.7272727272727273, 1.0, 0.7272727272727273, 1.0, 1.0, 1.0, 0.5833333333333334, 0.0, 0.0, 1.0, 1.0, 1.0, 1.0, 0.9285714285714286, 1.0, 1.0, 0.0, 0.6, 1.0, 0.9285714285714286, 1.0, 0.8571428571428571, 0.8571428571428571, 1.0, 1.0, 0.5714285714285714, 1.0, 1.0, 1.0, 1.0, 1.0, 0.6666666666666666, 0.6666666666666666, 0.6666666666666666], \"type\": \"histogram\", \"uid\": \"ee686339-562d-4f40-bd10-895a70875de2\"}], {\"yaxis\": {\"tickfont\": {\"color\": \"#000\", \"size\": 18}, \"title\": {\"text\": \"Percentage\", \"font\": {\"color\": \"#000\", \"size\": 24}}, \"gridwidth\": 1, \"showgrid\": true, \"zerolinecolor\": \"#F6F6F6\", \"gridcolor\": \"darkgray\", \"mirror\": true, \"showline\": true}, \"paper_bgcolor\": \"rgba(0,0,0,0)\", \"plot_bgcolor\": \"rgba(0,0,0,0)\", \"title\": {\"text\": \"Performance on test dataset\", \"font\": {\"color\": \"#000\", \"size\": 24}}, \"barmode\": \"group\", \"xaxis\": {\"tickfont\": {\"color\": \"#000\", \"size\": 18}, \"title\": {\"text\": \"\", \"font\": {\"color\": \"#000\", \"size\": 24}}, \"showgrid\": false, \"zerolinecolor\": \"#F6F6F6\", \"gridcolor\": \"#F6F6F6\", \"mirror\": true, \"zeroline\": false, \"showline\": true}, \"legend\": {\"bgcolor\": \"#FFFFFF\", \"font\": {\"color\": \"#000\", \"size\": 24}, \"orientation\": \"h\"}}, {\"plotlyServerURL\": \"https://plot.ly\", \"linkText\": \"Export to plot.ly\", \"showLink\": false})});</script><script type=\"text/javascript\">window.addEventListener(\"resize\", function(){window._Plotly.Plots.resize(document.getElementById(\"e6e6f684-c4ff-4693-9113-be1ec3f274a1\"));});</script>"
      ]
     },
     "metadata": {},
     "output_type": "display_data"
    }
   ],
   "source": [
    "iplot(fig)"
   ]
  },
  {
   "cell_type": "code",
   "execution_count": 13,
   "metadata": {},
   "outputs": [
    {
     "data": {
      "text/plain": [
       "'file:///Users/alicegao/work/psi-lab-sandbox/rna_ss/eval/rnafold_mini_data_2d_ar_2/temp-plot.html'"
      ]
     },
     "execution_count": 13,
     "metadata": {},
     "output_type": "execute_result"
    }
   ],
   "source": [
    "plot(fig)"
   ]
  },
  {
   "cell_type": "code",
   "execution_count": 14,
   "metadata": {},
   "outputs": [
    {
     "data": {
      "text/plain": [
       "112"
      ]
     },
     "execution_count": 14,
     "metadata": {},
     "output_type": "execute_result"
    }
   ],
   "source": [
    "len(df_metric)"
   ]
  },
  {
   "cell_type": "code",
   "execution_count": 15,
   "metadata": {},
   "outputs": [
    {
     "data": {
      "text/plain": [
       "0.6696428571428571"
      ]
     },
     "execution_count": 15,
     "metadata": {},
     "output_type": "execute_result"
    }
   ],
   "source": [
    "sum(df_metric['ppv']>0.8)/float(len(df_metric))"
   ]
  },
  {
   "cell_type": "code",
   "execution_count": null,
   "metadata": {},
   "outputs": [],
   "source": []
  },
  {
   "cell_type": "code",
   "execution_count": 16,
   "metadata": {},
   "outputs": [],
   "source": [
    "# for R plot\n",
    "df_metric[['seq', 'sensitivity', 'ppv', 'f_measure']].to_csv('/Users/alicegao/data/tmp/perf_rand_ensemble_metric.csv', index=False)"
   ]
  },
  {
   "cell_type": "code",
   "execution_count": null,
   "metadata": {},
   "outputs": [],
   "source": []
  },
  {
   "cell_type": "code",
   "execution_count": 17,
   "metadata": {},
   "outputs": [],
   "source": [
    "# # scatter plot\n",
    "\n",
    "# fig = df_metric[['sensitivity', 'ppv']].iplot(kind='scatter', x='sensitivity', y='ppv',\n",
    "#                                                     mode='markers', size=4,\n",
    "#                                               asFigure=True)\n",
    "# fig = fig.update(layout=dict(\n",
    "#     paper_bgcolor='rgba(0,0,0,0)',\n",
    "#     plot_bgcolor='rgba(0,0,0,0)',\n",
    "#     xaxis=dict(showgrid=False, title='Sensitivity', zeroline=False),\n",
    "#     yaxis=dict(showgrid=False, title='PPV'),\n",
    "#     title='Performance on test dataset',\n",
    "# ))"
   ]
  },
  {
   "cell_type": "code",
   "execution_count": 18,
   "metadata": {},
   "outputs": [],
   "source": [
    "# iplot(fig)"
   ]
  },
  {
   "cell_type": "code",
   "execution_count": null,
   "metadata": {},
   "outputs": [],
   "source": []
  }
 ],
 "metadata": {
  "kernelspec": {
   "display_name": "Python 2",
   "language": "python",
   "name": "python2"
  },
  "language_info": {
   "codemirror_mode": {
    "name": "ipython",
    "version": 2
   },
   "file_extension": ".py",
   "mimetype": "text/x-python",
   "name": "python",
   "nbconvert_exporter": "python",
   "pygments_lexer": "ipython2",
   "version": "2.7.16"
  }
 },
 "nbformat": 4,
 "nbformat_minor": 2
}
