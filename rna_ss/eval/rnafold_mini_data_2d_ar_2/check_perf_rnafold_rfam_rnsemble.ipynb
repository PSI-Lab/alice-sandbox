{
 "cells": [
  {
   "cell_type": "code",
   "execution_count": 1,
   "metadata": {},
   "outputs": [],
   "source": [
    "from _plotly_future_ import v4_subplots"
   ]
  },
  {
   "cell_type": "code",
   "execution_count": 2,
   "metadata": {},
   "outputs": [],
   "source": [
    "import pandas as pd\n",
    "import numpy as np"
   ]
  },
  {
   "cell_type": "code",
   "execution_count": 3,
   "metadata": {},
   "outputs": [],
   "source": [
    "from collections import Counter"
   ]
  },
  {
   "cell_type": "code",
   "execution_count": 4,
   "metadata": {},
   "outputs": [
    {
     "name": "stderr",
     "output_type": "stream",
     "text": [
      "Using TensorFlow backend.\n"
     ]
    }
   ],
   "source": [
    "from utils import EvalMetric"
   ]
  },
  {
   "cell_type": "code",
   "execution_count": 5,
   "metadata": {},
   "outputs": [
    {
     "data": {
      "text/html": [
       "        <script type=\"text/javascript\">\n",
       "        window.PlotlyConfig = {MathJaxConfig: 'local'};\n",
       "        if (window.MathJax) {MathJax.Hub.Config({SVG: {font: \"STIX-Web\"}});}\n",
       "        if (typeof require !== 'undefined') {\n",
       "        require.undef(\"plotly\");\n",
       "        requirejs.config({\n",
       "            paths: {\n",
       "                'plotly': ['https://cdn.plot.ly/plotly-latest.min']\n",
       "            }\n",
       "        });\n",
       "        require(['plotly'], function(Plotly) {\n",
       "            window._Plotly = Plotly;\n",
       "        });\n",
       "        }\n",
       "        </script>\n",
       "        "
      ]
     },
     "metadata": {},
     "output_type": "display_data"
    }
   ],
   "source": [
    "import matplotlib.pyplot as plt \n",
    "# import seaborn as sns\n",
    "import pandas as pd\n",
    "# sns.set(color_codes=True)\n",
    "import cufflinks as cf\n",
    "cf.go_offline()\n",
    "cf.set_config_file(theme='ggplot')"
   ]
  },
  {
   "cell_type": "code",
   "execution_count": 6,
   "metadata": {},
   "outputs": [
    {
     "data": {
      "text/html": [
       "        <script type=\"text/javascript\">\n",
       "        window.PlotlyConfig = {MathJaxConfig: 'local'};\n",
       "        if (window.MathJax) {MathJax.Hub.Config({SVG: {font: \"STIX-Web\"}});}\n",
       "        if (typeof require !== 'undefined') {\n",
       "        require.undef(\"plotly\");\n",
       "        requirejs.config({\n",
       "            paths: {\n",
       "                'plotly': ['https://cdn.plot.ly/plotly-latest.min']\n",
       "            }\n",
       "        });\n",
       "        require(['plotly'], function(Plotly) {\n",
       "            window._Plotly = Plotly;\n",
       "        });\n",
       "        }\n",
       "        </script>\n",
       "        "
      ]
     },
     "metadata": {},
     "output_type": "display_data"
    }
   ],
   "source": [
    "from plotly.offline import download_plotlyjs, init_notebook_mode, plot, iplot\n",
    "import plotly.tools as tls\n",
    "from plotly.subplots import make_subplots\n",
    "import plotly.graph_objs as go\n",
    "import plotly.figure_factory as ff\n",
    "init_notebook_mode(connected=True)"
   ]
  },
  {
   "cell_type": "code",
   "execution_count": 7,
   "metadata": {},
   "outputs": [],
   "source": [
    "result_filenmae = 'result/prediction.rfam.2019_09_25_1.sample100.pkl'"
   ]
  },
  {
   "cell_type": "code",
   "execution_count": 8,
   "metadata": {},
   "outputs": [],
   "source": [
    "df = pd.read_pickle(result_filenmae)\n"
   ]
  },
  {
   "cell_type": "code",
   "execution_count": 13,
   "metadata": {},
   "outputs": [],
   "source": [
    "# tmp load rnafold\n",
    "df_tmp = pd.read_pickle('result/rfam_rnafold_sample_100.pkl.gz')\n",
    "df_tmp = df_tmp[['seq_id', 'rnafold_one_idx']]\n",
    "df = pd.merge(df, df_tmp, on='seq_id', how='inner')\n",
    "df = df.rename(columns={'one_idx': 'truth_one_idx', 'rnafold_one_idx': 'one_idx'})"
   ]
  },
  {
   "cell_type": "code",
   "execution_count": 22,
   "metadata": {},
   "outputs": [
    {
     "data": {
      "text/plain": [
       "5"
      ]
     },
     "execution_count": 22,
     "metadata": {},
     "output_type": "execute_result"
    }
   ],
   "source": [
    "len(df.iloc[0]['pred_idx']"
   ]
  },
  {
   "cell_type": "code",
   "execution_count": 14,
   "metadata": {},
   "outputs": [
    {
     "data": {
      "text/html": [
       "<div>\n",
       "<style scoped>\n",
       "    .dataframe tbody tr th:only-of-type {\n",
       "        vertical-align: middle;\n",
       "    }\n",
       "\n",
       "    .dataframe tbody tr th {\n",
       "        vertical-align: top;\n",
       "    }\n",
       "\n",
       "    .dataframe thead th {\n",
       "        text-align: right;\n",
       "    }\n",
       "</style>\n",
       "<table border=\"1\" class=\"dataframe\">\n",
       "  <thead>\n",
       "    <tr style=\"text-align: right;\">\n",
       "      <th></th>\n",
       "      <th>len</th>\n",
       "      <th>truth_one_idx</th>\n",
       "      <th>pred_idx</th>\n",
       "      <th>seq</th>\n",
       "      <th>seq_id</th>\n",
       "      <th>one_idx</th>\n",
       "    </tr>\n",
       "  </thead>\n",
       "  <tbody>\n",
       "    <tr>\n",
       "      <th>0</th>\n",
       "      <td>117</td>\n",
       "      <td>([0, 1, 2, 3, 4, 5, 6, 7, 8, 13, 14, 16, 17, 1...</td>\n",
       "      <td>[[([ 0  1  2  3  4  5  6  7  8 28 30 31 32 34 ...</td>\n",
       "      <td>UUCGGUGGUUAUAGCGGUGGGGAAACACCCGGUCCCAUUCCGAACC...</td>\n",
       "      <td>RF00001_A</td>\n",
       "      <td>[([1, 2, 3, 4, 5, 6, 7, 8, 10, 11, 13, 14, 15,...</td>\n",
       "    </tr>\n",
       "    <tr>\n",
       "      <th>1</th>\n",
       "      <td>150</td>\n",
       "      <td>([32, 33, 35, 36, 43, 44, 45, 46, 47, 58, 59, ...</td>\n",
       "      <td>[[([  3   4   5   6   7   9  10  11  12  13  1...</td>\n",
       "      <td>UAGCUUCAGCGAUGGAUCGGUUGCAUCGAGUAUCGAUGAAGAACGC...</td>\n",
       "      <td>RF00002_B</td>\n",
       "      <td>[([3, 4, 5, 6, 7, 9, 10, 11, 12, 16, 17, 18, 1...</td>\n",
       "    </tr>\n",
       "    <tr>\n",
       "      <th>2</th>\n",
       "      <td>161</td>\n",
       "      <td>([11, 12, 13, 14, 15, 16, 17, 18, 19, 20, 22, ...</td>\n",
       "      <td>[[([  2   3   4  15  16  17  18  19  20  22  2...</td>\n",
       "      <td>AUACUUACCUGGACGGGGUCAAUGGAUGAUCUAUAAGGUCCAUGGC...</td>\n",
       "      <td>RF00003_B</td>\n",
       "      <td>[([2, 3, 5, 6, 7, 8, 9, 10, 11, 12, 13, 15, 16...</td>\n",
       "    </tr>\n",
       "    <tr>\n",
       "      <th>3</th>\n",
       "      <td>145</td>\n",
       "      <td>([6, 7, 8, 10, 11, 12, 13, 46, 47, 48, 49, 50,...</td>\n",
       "      <td>[[([ 10  11  12  13  29  30  31  32  49  50  5...</td>\n",
       "      <td>AUAUCUUCUCGGCUAUUUAGCUAAGAUCAAGUUAUUAAACUGUUCU...</td>\n",
       "      <td>RF00004_A</td>\n",
       "      <td>[([2, 3, 4, 5, 6, 10, 11, 12, 13, 27, 28, 29, ...</td>\n",
       "    </tr>\n",
       "    <tr>\n",
       "      <th>4</th>\n",
       "      <td>72</td>\n",
       "      <td>([0, 1, 2, 3, 4, 5, 6, 9, 10, 11, 12, 25, 26, ...</td>\n",
       "      <td>[[([ 0  1  2  3  4  5  6 14 16 17 18 19 25 26 ...</td>\n",
       "      <td>GGGCCCAUAGCUCAGUGGUAGAGUGCCUCCUUUGCAAGGAGGAUGC...</td>\n",
       "      <td>RF00005_A</td>\n",
       "      <td>[([0, 1, 2, 3, 4, 5, 6, 7, 8, 9, 10, 11, 12, 1...</td>\n",
       "    </tr>\n",
       "  </tbody>\n",
       "</table>\n",
       "</div>"
      ],
      "text/plain": [
       "   len                                      truth_one_idx  \\\n",
       "0  117  ([0, 1, 2, 3, 4, 5, 6, 7, 8, 13, 14, 16, 17, 1...   \n",
       "1  150  ([32, 33, 35, 36, 43, 44, 45, 46, 47, 58, 59, ...   \n",
       "2  161  ([11, 12, 13, 14, 15, 16, 17, 18, 19, 20, 22, ...   \n",
       "3  145  ([6, 7, 8, 10, 11, 12, 13, 46, 47, 48, 49, 50,...   \n",
       "4   72  ([0, 1, 2, 3, 4, 5, 6, 9, 10, 11, 12, 25, 26, ...   \n",
       "\n",
       "                                            pred_idx  \\\n",
       "0  [[([ 0  1  2  3  4  5  6  7  8 28 30 31 32 34 ...   \n",
       "1  [[([  3   4   5   6   7   9  10  11  12  13  1...   \n",
       "2  [[([  2   3   4  15  16  17  18  19  20  22  2...   \n",
       "3  [[([ 10  11  12  13  29  30  31  32  49  50  5...   \n",
       "4  [[([ 0  1  2  3  4  5  6 14 16 17 18 19 25 26 ...   \n",
       "\n",
       "                                                 seq     seq_id  \\\n",
       "0  UUCGGUGGUUAUAGCGGUGGGGAAACACCCGGUCCCAUUCCGAACC...  RF00001_A   \n",
       "1  UAGCUUCAGCGAUGGAUCGGUUGCAUCGAGUAUCGAUGAAGAACGC...  RF00002_B   \n",
       "2  AUACUUACCUGGACGGGGUCAAUGGAUGAUCUAUAAGGUCCAUGGC...  RF00003_B   \n",
       "3  AUAUCUUCUCGGCUAUUUAGCUAAGAUCAAGUUAUUAAACUGUUCU...  RF00004_A   \n",
       "4  GGGCCCAUAGCUCAGUGGUAGAGUGCCUCCUUUGCAAGGAGGAUGC...  RF00005_A   \n",
       "\n",
       "                                             one_idx  \n",
       "0  [([1, 2, 3, 4, 5, 6, 7, 8, 10, 11, 13, 14, 15,...  \n",
       "1  [([3, 4, 5, 6, 7, 9, 10, 11, 12, 16, 17, 18, 1...  \n",
       "2  [([2, 3, 5, 6, 7, 8, 9, 10, 11, 12, 13, 15, 16...  \n",
       "3  [([2, 3, 4, 5, 6, 10, 11, 12, 13, 27, 28, 29, ...  \n",
       "4  [([0, 1, 2, 3, 4, 5, 6, 7, 8, 9, 10, 11, 12, 1...  "
      ]
     },
     "execution_count": 14,
     "metadata": {},
     "output_type": "execute_result"
    }
   ],
   "source": [
    "df.head()"
   ]
  },
  {
   "cell_type": "code",
   "execution_count": null,
   "metadata": {},
   "outputs": [],
   "source": [
    "# convert to tuple so we can use set()\n",
    "def _to_tuple(idxes):\n",
    "    x = []\n",
    "    for _a in idxes:\n",
    "        a = []\n",
    "        for i, j in zip(_a[0], _a[1]):\n",
    "            a.append((i, j))\n",
    "        if len(a) > 0:\n",
    "            a = tuple(a)\n",
    "            x.append(a)\n",
    "    return x"
   ]
  },
  {
   "cell_type": "code",
   "execution_count": null,
   "metadata": {},
   "outputs": [],
   "source": [
    "def _to_mat(x, l):\n",
    "    # x is tuple of tuple (2 elements)\n",
    "    # convert to list of 2 lists\n",
    "    y = [[a[0] for a in x], [a[1] for a in x]]\n",
    "    z = np.zeros((l, l))\n",
    "    z[y] = 1\n",
    "    return z"
   ]
  },
  {
   "cell_type": "code",
   "execution_count": null,
   "metadata": {
    "scrolled": false
   },
   "outputs": [],
   "source": [
    "n_no_struct = 0\n",
    "df_metric = []\n",
    "\n",
    "for _, row in df.iterrows():\n",
    "    seq = row['seq']\n",
    "    rnafold_struct_count = Counter(_to_tuple(row['one_idx']))\n",
    "    model_struct_count = Counter(_to_tuple(row['pred_idx']))\n",
    "#     # only keep structures that occurs more than 2 times (2% in sampled structures)\n",
    "#     rnafold_struct_count = {k: v for k, v in rnafold_struct_count.iteritems() if v >=2}\n",
    "#     model_struct_count = {k: v for k, v in model_struct_count.iteritems() if v >=2}\n",
    "#     # only keep structures that occurs more than 5 times (5% in sampled structures)\n",
    "#     rnafold_struct_count = {k: v for k, v in rnafold_struct_count.iteritems() if v >=5}\n",
    "#     model_struct_count = {k: v for k, v in model_struct_count.iteritems() if v >=5}\n",
    "#     # only keep structures that occurs more than 10 times (10% in sampled structures)\n",
    "#     rnafold_struct_count = {k: v for k, v in rnafold_struct_count.iteritems() if v >=10}\n",
    "#     model_struct_count = {k: v for k, v in model_struct_count.iteritems() if v >=10}\n",
    "    \n",
    "    # skip the case if RNAfold outputs no structure\n",
    "    if len(rnafold_struct_count) == 0:\n",
    "        n_no_struct += 1\n",
    "        continue\n",
    "    \n",
    "    # for each structure from RNAfold\n",
    "    # evaluate against all structures from the model, pick the closest one, record performance\n",
    "#     result = []\n",
    "    for rnafold_struct, rnafold_count in rnafold_struct_count.iteritems():\n",
    "        r_s = _to_mat(rnafold_struct, len(seq))\n",
    "        sensitivity = 0\n",
    "        ppv = 0\n",
    "        f_measure = 0\n",
    "        best_m_s = None\n",
    "        for model_struct in model_struct_count.keys():\n",
    "            m_s = _to_mat(model_struct, len(seq))\n",
    "            _sensitivity = EvalMetric.sensitivity(m_s, r_s)\n",
    "            _ppv = EvalMetric.ppv(m_s, r_s)\n",
    "            _f_measure = EvalMetric.f_measure(_sensitivity, _ppv)\n",
    "            if _f_measure > f_measure:\n",
    "                sensitivity = _sensitivity + 0  # copy\n",
    "                ppv = _ppv + 0\n",
    "                f_measure = _f_measure + 0\n",
    "                best_m_s = list(model_struct)\n",
    "#         result.append((sensitivity, ppv, f_measure))\n",
    "        df_metric.append({\n",
    "            'seq': seq,\n",
    "            'rnafold_idx': list(rnafold_struct),\n",
    "            'closest_model_idx': best_m_s,\n",
    "            'sensitivity': sensitivity,\n",
    "            'ppv': ppv,\n",
    "            'f_measure': f_measure,\n",
    "            'rnafold_count': rnafold_count,\n",
    "        })\n",
    "    \n",
    "#     print rnafold_struct_count\n",
    "#     print model_struct_count\n",
    "#     print result\n",
    "#     print ''\n",
    "    \n",
    "    \n",
    "print n_no_struct\n",
    "df_metric = pd.DataFrame(df_metric)\n"
   ]
  },
  {
   "cell_type": "code",
   "execution_count": null,
   "metadata": {},
   "outputs": [],
   "source": [
    "df_metric.head()"
   ]
  },
  {
   "cell_type": "code",
   "execution_count": null,
   "metadata": {},
   "outputs": [],
   "source": []
  },
  {
   "cell_type": "code",
   "execution_count": null,
   "metadata": {},
   "outputs": [],
   "source": []
  },
  {
   "cell_type": "code",
   "execution_count": null,
   "metadata": {},
   "outputs": [],
   "source": [
    "fig = make_subplots(rows=1, cols=2, subplot_titles=['Sensitivity', 'PPV'])\n",
    "\n",
    "for col_idx, metric_name in enumerate(['sensitivity', 'ppv']):\n",
    "\n",
    "    col = col_idx + 1\n",
    "    fig.add_trace(go.Histogram(x=df_metric[df_metric['rnafold_count'] == 1][metric_name], \n",
    "                              nbinsx=20, histnorm='probability', \n",
    "                               name='1 ({})'.format(len(df_metric[df_metric['rnafold_count'] == 1])),\n",
    "                              marker_color='#ffffcc', showlegend=True if col_idx == 0 else False), \n",
    "                 row=1, col=col)\n",
    "    fig.add_trace(go.Histogram(x=df_metric[df_metric['rnafold_count'] == 2][metric_name], \n",
    "                              nbinsx=20, histnorm='probability', \n",
    "                               name='1 ({})'.format(len(df_metric[df_metric['rnafold_count'] == 2])),\n",
    "                              marker_color='#c7e9b4', showlegend=True if col_idx == 0 else False),\n",
    "                 row=1, col=col)\n",
    "    fig.add_trace(go.Histogram(x=df_metric[df_metric['rnafold_count'] == 3][metric_name], \n",
    "                              nbinsx=20, histnorm='probability', \n",
    "                               name='1 ({})'.format(len(df_metric[df_metric['rnafold_count'] == 3])),\n",
    "                              marker_color='#7fcdbb', showlegend=True if col_idx == 0 else False),\n",
    "                 row=1, col=col)\n",
    "    fig.add_trace(go.Histogram(x=df_metric[df_metric['rnafold_count'] == 4][metric_name], \n",
    "                              nbinsx=20, histnorm='probability', \n",
    "                               name='1 ({})'.format(len(df_metric[df_metric['rnafold_count'] == 4])),\n",
    "                              marker_color='#41b6c4', showlegend=True if col_idx == 0 else False),\n",
    "                 row=1, col=col)\n",
    "    fig.add_trace(go.Histogram(x=df_metric[df_metric['rnafold_count'] == 5][metric_name], \n",
    "                              nbinsx=20, histnorm='probability', \n",
    "                               name='1 ({})'.format(len(df_metric[df_metric['rnafold_count'] == 5])),\n",
    "                              marker_color='#1d91c0', showlegend=True if col_idx == 0 else False),\n",
    "                 row=1, col=col)\n",
    "    fig.add_trace(go.Histogram(x=df_metric[(df_metric['rnafold_count'] > 5) & (df_metric['rnafold_count'] <= 10)]['sensitivity'], \n",
    "                              nbinsx=20, histnorm='probability', \n",
    "                               name='(5, 10] ({})'.format(len(df_metric[(df_metric['rnafold_count'] > 5) & (df_metric['rnafold_count'] <= 10)])),\n",
    "                              marker_color='#225ea8', showlegend=True if col_idx == 0 else False),\n",
    "                 row=1, col=col)\n",
    "    fig.add_trace(go.Histogram(x=df_metric[df_metric['rnafold_count'] > 10][metric_name], \n",
    "                              nbinsx=20, histnorm='probability', \n",
    "                               name='>10 ({})'.format(len(df_metric[df_metric['rnafold_count'] > 10])),\n",
    "                              marker_color='#0c2c84', showlegend=True if col_idx == 0 else False), \n",
    "                 row=1, col=col)\n",
    "\n",
    "fig = fig.update(layout=dict(\n",
    "    paper_bgcolor='rgba(0,0,0,0)',\n",
    "    plot_bgcolor='rgba(0,0,0,0)',\n",
    "#     xaxis=dict(showgrid=False, zeroline=False,\n",
    "#                tickfont=dict(size=18, color='#000'),\n",
    "#                titlefont=dict(size=24, color='#000'),\n",
    "#                showline=True, mirror=True),\n",
    "#     yaxis=dict(showgrid=True, gridwidth=1, gridcolor='darkgray',\n",
    "#                tickfont=dict(size=18, color='#000'),\n",
    "#                titlefont=dict(size=24, color='#000'),\n",
    "#                title='Percentage', showline=True, mirror=True),\n",
    "    title=result_filenmae,\n",
    "#     title=metric_name,\n",
    "#     titlefont=dict(size=24, color='#000'),\n",
    "#     legend=dict(orientation=\"h\",\n",
    "#                 font=dict(\n",
    "# #             family='sans-serif',\n",
    "#             size=24,\n",
    "#             color='#000'\n",
    "#         ),),\n",
    "))\n",
    "iplot(fig)"
   ]
  },
  {
   "cell_type": "code",
   "execution_count": null,
   "metadata": {},
   "outputs": [],
   "source": []
  },
  {
   "cell_type": "code",
   "execution_count": null,
   "metadata": {},
   "outputs": [],
   "source": [
    "# for metric_name in ['sensitivity', 'ppv']:\n",
    "#     fig = go.Figure()\n",
    "#     # fig = df_metric[df_metric['rnafold_count'] > 5][['sensitivity', 'ppv']].iplot(kind='histogram', bins=20,\n",
    "#     #                                                     histnorm='probability', opacity=1,\n",
    "#     #                                                      barmode='group', asFigure=True)\n",
    "\n",
    "#     fig.add_trace(go.Histogram(x=df_metric[df_metric['rnafold_count'] == 1][metric_name], \n",
    "#                               nbinsx=20, histnorm='probability', name='1'))\n",
    "#     fig.add_trace(go.Histogram(x=df_metric[df_metric['rnafold_count'] == 2][metric_name], \n",
    "#                               nbinsx=20, histnorm='probability', name='2'))\n",
    "#     fig.add_trace(go.Histogram(x=df_metric[df_metric['rnafold_count'] == 3][metric_name], \n",
    "#                               nbinsx=20, histnorm='probability', name='3'))\n",
    "#     fig.add_trace(go.Histogram(x=df_metric[df_metric['rnafold_count'] == 4][metric_name], \n",
    "#                               nbinsx=20, histnorm='probability', name='4'))\n",
    "#     fig.add_trace(go.Histogram(x=df_metric[df_metric['rnafold_count'] == 5][metric_name], \n",
    "#                               nbinsx=20, histnorm='probability', name='5'))\n",
    "#     fig.add_trace(go.Histogram(x=df_metric[(df_metric['rnafold_count'] > 5) & (df_metric['rnafold_count'] <= 10)]['sensitivity'], \n",
    "#                               nbinsx=20, histnorm='probability', name='(5, 10]'))\n",
    "#     fig.add_trace(go.Histogram(x=df_metric[df_metric['rnafold_count'] > 10][metric_name], \n",
    "#                               nbinsx=20, histnorm='probability', name='>10'))\n",
    "\n",
    "#     fig = fig.update(layout=dict(\n",
    "#         paper_bgcolor='rgba(0,0,0,0)',\n",
    "#         plot_bgcolor='rgba(0,0,0,0)',\n",
    "#         xaxis=dict(showgrid=False, zeroline=False,\n",
    "#                    tickfont=dict(size=18, color='#000'),\n",
    "#                    titlefont=dict(size=24, color='#000'),\n",
    "#                    showline=True, mirror=True),\n",
    "#         yaxis=dict(showgrid=True, gridwidth=1, gridcolor='darkgray',\n",
    "#                    tickfont=dict(size=18, color='#000'),\n",
    "#                    titlefont=dict(size=24, color='#000'),\n",
    "#                    title='Percentage', showline=True, mirror=True),\n",
    "#     #     title='Performance on test dataset',\n",
    "#         title=metric_name,\n",
    "#         titlefont=dict(size=24, color='#000'),\n",
    "#     #     legend=dict(orientation=\"h\",\n",
    "#     #                 font=dict(\n",
    "#     # #             family='sans-serif',\n",
    "#     #             size=24,\n",
    "#     #             color='#000'\n",
    "#     #         ),),\n",
    "#     ))\n",
    "#     iplot(fig)"
   ]
  },
  {
   "cell_type": "code",
   "execution_count": null,
   "metadata": {},
   "outputs": [],
   "source": []
  },
  {
   "cell_type": "code",
   "execution_count": null,
   "metadata": {},
   "outputs": [],
   "source": [
    "# fig = df_metric[['sensitivity', 'ppv','f_measure']].iplot(kind='histogram', bins=20,\n",
    "#                                                     histnorm='probability',\n",
    "#                                                      barmode='group', asFigure=True)\n",
    "fig = df_metric[['sensitivity', 'ppv']].iplot(kind='histogram', bins=20,\n",
    "                                                    histnorm='probability', opacity=1,\n",
    "                                                     barmode='group', asFigure=True)\n",
    "fig = fig.update(layout=dict(\n",
    "    paper_bgcolor='rgba(0,0,0,0)',\n",
    "    plot_bgcolor='rgba(0,0,0,0)',\n",
    "    xaxis=dict(showgrid=False, zeroline=False,\n",
    "               tickfont=dict(size=18, color='#000'),\n",
    "               titlefont=dict(size=24, color='#000'),\n",
    "               showline=True, mirror=True),\n",
    "    yaxis=dict(showgrid=True, gridwidth=1, gridcolor='darkgray',\n",
    "               tickfont=dict(size=18, color='#000'),\n",
    "               titlefont=dict(size=24, color='#000'),\n",
    "               title='Percentage', showline=True, mirror=True),\n",
    "    title='Performance on test dataset',\n",
    "    titlefont=dict(size=24, color='#000'),\n",
    "    legend=dict(orientation=\"h\",\n",
    "                font=dict(\n",
    "#             family='sans-serif',\n",
    "            size=24,\n",
    "            color='#000'\n",
    "        ),),\n",
    "))"
   ]
  },
  {
   "cell_type": "code",
   "execution_count": null,
   "metadata": {},
   "outputs": [],
   "source": [
    "iplot(fig)"
   ]
  },
  {
   "cell_type": "code",
   "execution_count": null,
   "metadata": {},
   "outputs": [],
   "source": [
    "# # uncomment to show plot in new window\n",
    "# plot(fig)"
   ]
  },
  {
   "cell_type": "code",
   "execution_count": null,
   "metadata": {},
   "outputs": [],
   "source": [
    "len(df_metric)"
   ]
  },
  {
   "cell_type": "code",
   "execution_count": null,
   "metadata": {},
   "outputs": [],
   "source": [
    "sum(df_metric['ppv']>0.8)/float(len(df_metric))"
   ]
  },
  {
   "cell_type": "code",
   "execution_count": null,
   "metadata": {},
   "outputs": [],
   "source": []
  },
  {
   "cell_type": "code",
   "execution_count": null,
   "metadata": {},
   "outputs": [],
   "source": [
    "# # for R plot\n",
    "# df_metric[['seq', 'sensitivity', 'ppv', 'f_measure']].to_csv('/Users/alicegao/data/tmp/perf_rand_ensemble_metric.csv', index=False)"
   ]
  },
  {
   "cell_type": "code",
   "execution_count": null,
   "metadata": {},
   "outputs": [],
   "source": []
  },
  {
   "cell_type": "code",
   "execution_count": null,
   "metadata": {},
   "outputs": [],
   "source": [
    "# # scatter plot\n",
    "\n",
    "# fig = df_metric[['sensitivity', 'ppv']].iplot(kind='scatter', x='sensitivity', y='ppv',\n",
    "#                                                     mode='markers', size=4,\n",
    "#                                               asFigure=True)\n",
    "# fig = fig.update(layout=dict(\n",
    "#     paper_bgcolor='rgba(0,0,0,0)',\n",
    "#     plot_bgcolor='rgba(0,0,0,0)',\n",
    "#     xaxis=dict(showgrid=False, title='Sensitivity', zeroline=False),\n",
    "#     yaxis=dict(showgrid=False, title='PPV'),\n",
    "#     title='Performance on test dataset',\n",
    "# ))"
   ]
  },
  {
   "cell_type": "code",
   "execution_count": null,
   "metadata": {},
   "outputs": [],
   "source": [
    "# iplot(fig)"
   ]
  },
  {
   "cell_type": "code",
   "execution_count": null,
   "metadata": {},
   "outputs": [],
   "source": []
  }
 ],
 "metadata": {
  "kernelspec": {
   "display_name": "Python 2",
   "language": "python",
   "name": "python2"
  },
  "language_info": {
   "codemirror_mode": {
    "name": "ipython",
    "version": 2
   },
   "file_extension": ".py",
   "mimetype": "text/x-python",
   "name": "python",
   "nbconvert_exporter": "python",
   "pygments_lexer": "ipython2",
   "version": "2.7.16"
  }
 },
 "nbformat": 4,
 "nbformat_minor": 2
}
