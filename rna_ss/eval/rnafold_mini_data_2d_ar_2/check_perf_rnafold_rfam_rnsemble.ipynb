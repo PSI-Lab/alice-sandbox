{
 "cells": [
  {
   "cell_type": "code",
   "execution_count": 1,
   "metadata": {},
   "outputs": [],
   "source": [
    "from _plotly_future_ import v4_subplots"
   ]
  },
  {
   "cell_type": "code",
   "execution_count": 2,
   "metadata": {},
   "outputs": [],
   "source": [
    "from scipy import stats"
   ]
  },
  {
   "cell_type": "code",
   "execution_count": 3,
   "metadata": {},
   "outputs": [],
   "source": [
    "import pandas as pd\n",
    "import numpy as np"
   ]
  },
  {
   "cell_type": "code",
   "execution_count": 4,
   "metadata": {},
   "outputs": [
    {
     "name": "stderr",
     "output_type": "stream",
     "text": [
      "/Users/alicegao/anaconda2/envs/dg_work_old_tf/lib/python2.7/site-packages/tqdm/autonotebook.py:17: TqdmExperimentalWarning: Using `tqdm.autonotebook.tqdm` in notebook mode. Use `tqdm.tqdm` instead to force console mode (e.g. in jupyter console)\n",
      "  \" (e.g. in jupyter console)\", TqdmExperimentalWarning)\n"
     ]
    }
   ],
   "source": [
    "from dgutils.pandas import add_column, add_columns"
   ]
  },
  {
   "cell_type": "code",
   "execution_count": 5,
   "metadata": {},
   "outputs": [],
   "source": [
    "from collections import Counter"
   ]
  },
  {
   "cell_type": "code",
   "execution_count": 6,
   "metadata": {},
   "outputs": [
    {
     "name": "stderr",
     "output_type": "stream",
     "text": [
      "Using TensorFlow backend.\n",
      "/Users/alicegao/anaconda2/envs/dg_work_old_tf/lib/python2.7/site-packages/tensorflow/python/framework/tensor_util.py:32: RuntimeWarning: numpy.ufunc size changed, may indicate binary incompatibility. Expected 216, got 192\n",
      "  from tensorflow.python.framework import fast_tensor_util\n",
      "/Users/alicegao/anaconda2/envs/dg_work_old_tf/lib/python2.7/site-packages/scipy/ndimage/measurements.py:36: RuntimeWarning: numpy.ufunc size changed, may indicate binary incompatibility. Expected 192 from C header, got 216 from PyObject\n",
      "  from . import _ni_label\n"
     ]
    }
   ],
   "source": [
    "from utils import EvalMetric"
   ]
  },
  {
   "cell_type": "code",
   "execution_count": 7,
   "metadata": {},
   "outputs": [
    {
     "name": "stderr",
     "output_type": "stream",
     "text": [
      "/Users/alicegao/anaconda2/envs/dg_work_old_tf/lib/python2.7/site-packages/scipy/cluster/vq.py:77: RuntimeWarning:\n",
      "\n",
      "numpy.ufunc size changed, may indicate binary incompatibility. Expected 192 from C header, got 216 from PyObject\n",
      "\n",
      "/Users/alicegao/anaconda2/envs/dg_work_old_tf/lib/python2.7/site-packages/scipy/cluster/hierarchy.py:178: RuntimeWarning:\n",
      "\n",
      "numpy.ufunc size changed, may indicate binary incompatibility. Expected 192 from C header, got 216 from PyObject\n",
      "\n"
     ]
    },
    {
     "data": {
      "text/html": [
       "        <script type=\"text/javascript\">\n",
       "        window.PlotlyConfig = {MathJaxConfig: 'local'};\n",
       "        if (window.MathJax) {MathJax.Hub.Config({SVG: {font: \"STIX-Web\"}});}\n",
       "        if (typeof require !== 'undefined') {\n",
       "        require.undef(\"plotly\");\n",
       "        requirejs.config({\n",
       "            paths: {\n",
       "                'plotly': ['https://cdn.plot.ly/plotly-latest.min']\n",
       "            }\n",
       "        });\n",
       "        require(['plotly'], function(Plotly) {\n",
       "            window._Plotly = Plotly;\n",
       "        });\n",
       "        }\n",
       "        </script>\n",
       "        "
      ]
     },
     "metadata": {},
     "output_type": "display_data"
    }
   ],
   "source": [
    "import matplotlib.pyplot as plt \n",
    "# import seaborn as sns\n",
    "import pandas as pd\n",
    "# sns.set(color_codes=True)\n",
    "import cufflinks as cf\n",
    "cf.go_offline()\n",
    "cf.set_config_file(theme='ggplot')"
   ]
  },
  {
   "cell_type": "code",
   "execution_count": 8,
   "metadata": {},
   "outputs": [
    {
     "data": {
      "text/html": [
       "        <script type=\"text/javascript\">\n",
       "        window.PlotlyConfig = {MathJaxConfig: 'local'};\n",
       "        if (window.MathJax) {MathJax.Hub.Config({SVG: {font: \"STIX-Web\"}});}\n",
       "        if (typeof require !== 'undefined') {\n",
       "        require.undef(\"plotly\");\n",
       "        requirejs.config({\n",
       "            paths: {\n",
       "                'plotly': ['https://cdn.plot.ly/plotly-latest.min']\n",
       "            }\n",
       "        });\n",
       "        require(['plotly'], function(Plotly) {\n",
       "            window._Plotly = Plotly;\n",
       "        });\n",
       "        }\n",
       "        </script>\n",
       "        "
      ]
     },
     "metadata": {},
     "output_type": "display_data"
    }
   ],
   "source": [
    "from plotly.offline import download_plotlyjs, init_notebook_mode, plot, iplot\n",
    "import plotly.tools as tls\n",
    "from plotly.subplots import make_subplots\n",
    "import plotly.graph_objs as go\n",
    "import plotly.figure_factory as ff\n",
    "init_notebook_mode(connected=True)"
   ]
  },
  {
   "cell_type": "code",
   "execution_count": 9,
   "metadata": {},
   "outputs": [],
   "source": [
    "sample_filename = 'result/prediction.rfam.rnafold_100.2019_10_18_1_ep10.sample100.pkl'\n",
    "ml_filename = 'result/prediction.rfam.rnafold_100.2019_10_18_1_ep10.ml_path.pkl'"
   ]
  },
  {
   "cell_type": "code",
   "execution_count": 10,
   "metadata": {},
   "outputs": [],
   "source": [
    "df_sample = pd.read_pickle(sample_filename)\n",
    "df_ml = pd.read_pickle(ml_filename)"
   ]
  },
  {
   "cell_type": "code",
   "execution_count": 11,
   "metadata": {},
   "outputs": [],
   "source": [
    "df_sample = df_sample.rename(columns={'one_idx': 'truth_one_idx', 'rnafold_one_idx': 'one_idx'})\n",
    "df_ml = df_ml.rename(columns={'pred_idx': 'ml_path_idx'})"
   ]
  },
  {
   "cell_type": "code",
   "execution_count": 12,
   "metadata": {},
   "outputs": [],
   "source": [
    "df = pd.merge(df_sample, df_ml[['seq_id', 'ml_path_idx']])"
   ]
  },
  {
   "cell_type": "code",
   "execution_count": 13,
   "metadata": {},
   "outputs": [
    {
     "data": {
      "text/html": [
       "<div>\n",
       "<style scoped>\n",
       "    .dataframe tbody tr th:only-of-type {\n",
       "        vertical-align: middle;\n",
       "    }\n",
       "\n",
       "    .dataframe tbody tr th {\n",
       "        vertical-align: top;\n",
       "    }\n",
       "\n",
       "    .dataframe thead th {\n",
       "        text-align: right;\n",
       "    }\n",
       "</style>\n",
       "<table border=\"1\" class=\"dataframe\">\n",
       "  <thead>\n",
       "    <tr style=\"text-align: right;\">\n",
       "      <th></th>\n",
       "      <th>len</th>\n",
       "      <th>pred_idx</th>\n",
       "      <th>one_idx</th>\n",
       "      <th>seq</th>\n",
       "      <th>seq_id</th>\n",
       "      <th>truth_one_idx</th>\n",
       "      <th>ml_path_idx</th>\n",
       "    </tr>\n",
       "  </thead>\n",
       "  <tbody>\n",
       "    <tr>\n",
       "      <th>0</th>\n",
       "      <td>117</td>\n",
       "      <td>[([13, 15, 16, 17, 18, 30, 31, 76, 77, 78, 79,...</td>\n",
       "      <td>[([1, 2, 3, 4, 5, 6, 7, 8, 10, 11, 13, 14, 15,...</td>\n",
       "      <td>UUCGGUGGUUAUAGCGGUGGGGAAACACCCGGUCCCAUUCCGAACC...</td>\n",
       "      <td>RF00001_A</td>\n",
       "      <td>([0, 1, 2, 3, 4, 5, 6, 7, 8, 13, 14, 16, 17, 1...</td>\n",
       "      <td>([76, 77, 78, 79, 80, 81, 82, 83], [95, 94, 93...</td>\n",
       "    </tr>\n",
       "    <tr>\n",
       "      <th>1</th>\n",
       "      <td>150</td>\n",
       "      <td>[([6, 7, 8, 9, 12, 13, 14, 15, 16, 17, 18, 19,...</td>\n",
       "      <td>[([3, 4, 5, 6, 7, 9, 10, 11, 12, 16, 17, 18, 1...</td>\n",
       "      <td>UAGCUUCAGCGAUGGAUCGGUUGCAUCGAGUAUCGAUGAAGAACGC...</td>\n",
       "      <td>RF00002_B</td>\n",
       "      <td>([32, 33, 35, 36, 43, 44, 45, 46, 47, 58, 59, ...</td>\n",
       "      <td>([41, 42, 43, 44, 45, 46, 47, 61, 62, 63, 64, ...</td>\n",
       "    </tr>\n",
       "    <tr>\n",
       "      <th>2</th>\n",
       "      <td>161</td>\n",
       "      <td>[([13, 14, 35, 36, 37, 38, 39, 40, 41, 42, 44,...</td>\n",
       "      <td>[([2, 3, 5, 6, 7, 8, 9, 10, 11, 12, 13, 15, 16...</td>\n",
       "      <td>AUACUUACCUGGACGGGGUCAAUGGAUGAUCUAUAAGGUCCAUGGC...</td>\n",
       "      <td>RF00003_B</td>\n",
       "      <td>([11, 12, 13, 14, 15, 16, 17, 18, 19, 20, 22, ...</td>\n",
       "      <td>([35, 36, 37, 38, 39, 40, 41, 42, 44, 45, 50, ...</td>\n",
       "    </tr>\n",
       "    <tr>\n",
       "      <th>3</th>\n",
       "      <td>145</td>\n",
       "      <td>[([6, 7, 8, 10, 11, 12, 13, 26, 27, 28, 29, 30...</td>\n",
       "      <td>[([2, 3, 4, 5, 6, 10, 11, 12, 13, 27, 28, 29, ...</td>\n",
       "      <td>AUAUCUUCUCGGCUAUUUAGCUAAGAUCAAGUUAUUAAACUGUUCU...</td>\n",
       "      <td>RF00004_A</td>\n",
       "      <td>([6, 7, 8, 10, 11, 12, 13, 46, 47, 48, 49, 50,...</td>\n",
       "      <td>([7, 8, 10, 11, 12, 13, 25, 27, 28, 30, 31, 32...</td>\n",
       "    </tr>\n",
       "    <tr>\n",
       "      <th>4</th>\n",
       "      <td>72</td>\n",
       "      <td>[([0, 1, 2, 3, 4, 5, 6, 47, 48, 49, 50, 51], [...</td>\n",
       "      <td>[([0, 1, 2, 3, 4, 5, 6, 7, 8, 9, 10, 11, 12, 1...</td>\n",
       "      <td>GGGCCCAUAGCUCAGUGGUAGAGUGCCUCCUUUGCAAGGAGGAUGC...</td>\n",
       "      <td>RF00005_A</td>\n",
       "      <td>([0, 1, 2, 3, 4, 5, 6, 9, 10, 11, 12, 25, 26, ...</td>\n",
       "      <td>([0, 1, 2, 3, 4, 5, 6, 16, 17, 18, 19, 25, 26,...</td>\n",
       "    </tr>\n",
       "  </tbody>\n",
       "</table>\n",
       "</div>"
      ],
      "text/plain": [
       "   len                                           pred_idx  \\\n",
       "0  117  [([13, 15, 16, 17, 18, 30, 31, 76, 77, 78, 79,...   \n",
       "1  150  [([6, 7, 8, 9, 12, 13, 14, 15, 16, 17, 18, 19,...   \n",
       "2  161  [([13, 14, 35, 36, 37, 38, 39, 40, 41, 42, 44,...   \n",
       "3  145  [([6, 7, 8, 10, 11, 12, 13, 26, 27, 28, 29, 30...   \n",
       "4   72  [([0, 1, 2, 3, 4, 5, 6, 47, 48, 49, 50, 51], [...   \n",
       "\n",
       "                                             one_idx  \\\n",
       "0  [([1, 2, 3, 4, 5, 6, 7, 8, 10, 11, 13, 14, 15,...   \n",
       "1  [([3, 4, 5, 6, 7, 9, 10, 11, 12, 16, 17, 18, 1...   \n",
       "2  [([2, 3, 5, 6, 7, 8, 9, 10, 11, 12, 13, 15, 16...   \n",
       "3  [([2, 3, 4, 5, 6, 10, 11, 12, 13, 27, 28, 29, ...   \n",
       "4  [([0, 1, 2, 3, 4, 5, 6, 7, 8, 9, 10, 11, 12, 1...   \n",
       "\n",
       "                                                 seq     seq_id  \\\n",
       "0  UUCGGUGGUUAUAGCGGUGGGGAAACACCCGGUCCCAUUCCGAACC...  RF00001_A   \n",
       "1  UAGCUUCAGCGAUGGAUCGGUUGCAUCGAGUAUCGAUGAAGAACGC...  RF00002_B   \n",
       "2  AUACUUACCUGGACGGGGUCAAUGGAUGAUCUAUAAGGUCCAUGGC...  RF00003_B   \n",
       "3  AUAUCUUCUCGGCUAUUUAGCUAAGAUCAAGUUAUUAAACUGUUCU...  RF00004_A   \n",
       "4  GGGCCCAUAGCUCAGUGGUAGAGUGCCUCCUUUGCAAGGAGGAUGC...  RF00005_A   \n",
       "\n",
       "                                       truth_one_idx  \\\n",
       "0  ([0, 1, 2, 3, 4, 5, 6, 7, 8, 13, 14, 16, 17, 1...   \n",
       "1  ([32, 33, 35, 36, 43, 44, 45, 46, 47, 58, 59, ...   \n",
       "2  ([11, 12, 13, 14, 15, 16, 17, 18, 19, 20, 22, ...   \n",
       "3  ([6, 7, 8, 10, 11, 12, 13, 46, 47, 48, 49, 50,...   \n",
       "4  ([0, 1, 2, 3, 4, 5, 6, 9, 10, 11, 12, 25, 26, ...   \n",
       "\n",
       "                                         ml_path_idx  \n",
       "0  ([76, 77, 78, 79, 80, 81, 82, 83], [95, 94, 93...  \n",
       "1  ([41, 42, 43, 44, 45, 46, 47, 61, 62, 63, 64, ...  \n",
       "2  ([35, 36, 37, 38, 39, 40, 41, 42, 44, 45, 50, ...  \n",
       "3  ([7, 8, 10, 11, 12, 13, 25, 27, 28, 30, 31, 32...  \n",
       "4  ([0, 1, 2, 3, 4, 5, 6, 16, 17, 18, 19, 25, 26,...  "
      ]
     },
     "execution_count": 13,
     "metadata": {},
     "output_type": "execute_result"
    }
   ],
   "source": [
    "df.head()"
   ]
  },
  {
   "cell_type": "code",
   "execution_count": 14,
   "metadata": {},
   "outputs": [
    {
     "data": {
      "application/vnd.plotly.v1+json": {
       "config": {
        "linkText": "Export to plot.ly",
        "plotlyServerURL": "https://plot.ly",
        "showLink": true
       },
       "data": [
        {
         "histfunc": "count",
         "histnorm": "",
         "marker": {
          "color": "rgba(226, 74, 51, 1.0)",
          "line": {
           "color": "#D9D9D9",
           "width": 1.3
          }
         },
         "name": "len",
         "nbinsx": 100,
         "opacity": 0.8,
         "orientation": "v",
         "type": "histogram",
         "uid": "2b040dc1-a000-4fc8-8ee8-d0fe7437aa06",
         "x": [
          117,
          150,
          161,
          145,
          72,
          129,
          54,
          320,
          312,
          374,
          219,
          183,
          85,
          141,
          305,
          84,
          115,
          116,
          363,
          451,
          152,
          108,
          344,
          297,
          66,
          26,
          110,
          337,
          30,
          338,
          213,
          61,
          157,
          105,
          323,
          89,
          330,
          159,
          105,
          76,
          79,
          115,
          112,
          64,
          103,
          45,
          43,
          62,
          100,
          179,
          102,
          168,
          81,
          52,
          114,
          91,
          482,
          71,
          37,
          86,
          129,
          93,
          54,
          55,
          273,
          89,
          35,
          46,
          104,
          110,
          44,
          379,
          462,
          93,
          70,
          302,
          86,
          151,
          246,
          275,
          170,
          84,
          160,
          82,
          95,
          56,
          182,
          169,
          51,
          221,
          134,
          118,
          140,
          79,
          70,
          62,
          66,
          65,
          65,
          133,
          101,
          107,
          59,
          64,
          117,
          62,
          41,
          90,
          168,
          102,
          158,
          23,
          171,
          152,
          122,
          109,
          55,
          131,
          147,
          33,
          202,
          74,
          309,
          53,
          127,
          59,
          93,
          75,
          52,
          100,
          121,
          149,
          114,
          211,
          568,
          80,
          68,
          55,
          144,
          70,
          80,
          42,
          93,
          45,
          102,
          45,
          52,
          293,
          64,
          144,
          79
         ]
        }
       ],
       "layout": {
        "barmode": "overlay",
        "legend": {
         "bgcolor": "#FFFFFF",
         "font": {
          "color": "#666666"
         }
        },
        "paper_bgcolor": "#FFFFFF",
        "plot_bgcolor": "#E5E5E5",
        "title": {
         "font": {
          "color": "#151516"
         }
        },
        "xaxis": {
         "gridcolor": "#F6F6F6",
         "showgrid": true,
         "tickfont": {
          "color": "#666666"
         },
         "title": {
          "font": {
           "color": "#666666"
          },
          "text": ""
         },
         "zerolinecolor": "#F6F6F6"
        },
        "yaxis": {
         "gridcolor": "#F6F6F6",
         "showgrid": true,
         "tickfont": {
          "color": "#666666"
         },
         "title": {
          "font": {
           "color": "#666666"
          },
          "text": ""
         },
         "zerolinecolor": "#F6F6F6"
        }
       }
      },
      "text/html": [
       "<div>\n",
       "        \n",
       "        \n",
       "            <div id=\"0c38b1c9-a8aa-4a2f-bfda-5d13360706ef\" class=\"plotly-graph-div\" style=\"height:525px; width:100%;\"></div>\n",
       "            <script type=\"text/javascript\">\n",
       "                require([\"plotly\"], function(Plotly) {\n",
       "                    window.PLOTLYENV=window.PLOTLYENV || {};\n",
       "                    window.PLOTLYENV.BASE_URL='https://plot.ly';\n",
       "                    \n",
       "                if (document.getElementById(\"0c38b1c9-a8aa-4a2f-bfda-5d13360706ef\")) {\n",
       "                    Plotly.newPlot(\n",
       "                        '0c38b1c9-a8aa-4a2f-bfda-5d13360706ef',\n",
       "                        [{\"histfunc\": \"count\", \"histnorm\": \"\", \"marker\": {\"color\": \"rgba(226, 74, 51, 1.0)\", \"line\": {\"color\": \"#D9D9D9\", \"width\": 1.3}}, \"name\": \"len\", \"nbinsx\": 100, \"opacity\": 0.8, \"orientation\": \"v\", \"type\": \"histogram\", \"uid\": \"2b040dc1-a000-4fc8-8ee8-d0fe7437aa06\", \"x\": [117, 150, 161, 145, 72, 129, 54, 320, 312, 374, 219, 183, 85, 141, 305, 84, 115, 116, 363, 451, 152, 108, 344, 297, 66, 26, 110, 337, 30, 338, 213, 61, 157, 105, 323, 89, 330, 159, 105, 76, 79, 115, 112, 64, 103, 45, 43, 62, 100, 179, 102, 168, 81, 52, 114, 91, 482, 71, 37, 86, 129, 93, 54, 55, 273, 89, 35, 46, 104, 110, 44, 379, 462, 93, 70, 302, 86, 151, 246, 275, 170, 84, 160, 82, 95, 56, 182, 169, 51, 221, 134, 118, 140, 79, 70, 62, 66, 65, 65, 133, 101, 107, 59, 64, 117, 62, 41, 90, 168, 102, 158, 23, 171, 152, 122, 109, 55, 131, 147, 33, 202, 74, 309, 53, 127, 59, 93, 75, 52, 100, 121, 149, 114, 211, 568, 80, 68, 55, 144, 70, 80, 42, 93, 45, 102, 45, 52, 293, 64, 144, 79]}],\n",
       "                        {\"barmode\": \"overlay\", \"legend\": {\"bgcolor\": \"#FFFFFF\", \"font\": {\"color\": \"#666666\"}}, \"paper_bgcolor\": \"#FFFFFF\", \"plot_bgcolor\": \"#E5E5E5\", \"title\": {\"font\": {\"color\": \"#151516\"}}, \"xaxis\": {\"gridcolor\": \"#F6F6F6\", \"showgrid\": true, \"tickfont\": {\"color\": \"#666666\"}, \"title\": {\"font\": {\"color\": \"#666666\"}, \"text\": \"\"}, \"zerolinecolor\": \"#F6F6F6\"}, \"yaxis\": {\"gridcolor\": \"#F6F6F6\", \"showgrid\": true, \"tickfont\": {\"color\": \"#666666\"}, \"title\": {\"font\": {\"color\": \"#666666\"}, \"text\": \"\"}, \"zerolinecolor\": \"#F6F6F6\"}},\n",
       "                        {\"responsive\": true, \"plotlyServerURL\": \"https://plot.ly\", \"linkText\": \"Export to plot.ly\", \"showLink\": true}\n",
       "                    ).then(function(){\n",
       "                            \n",
       "var gd = document.getElementById('0c38b1c9-a8aa-4a2f-bfda-5d13360706ef');\n",
       "var x = new MutationObserver(function (mutations, observer) {{\n",
       "        var display = window.getComputedStyle(gd).display;\n",
       "        if (!display || display === 'none') {{\n",
       "            console.log([gd, 'removed!']);\n",
       "            Plotly.purge(gd);\n",
       "            observer.disconnect();\n",
       "        }}\n",
       "}});\n",
       "\n",
       "// Listen for the removal of the full notebook cells\n",
       "var notebookContainer = gd.closest('#notebook-container');\n",
       "if (notebookContainer) {{\n",
       "    x.observe(notebookContainer, {childList: true});\n",
       "}}\n",
       "\n",
       "// Listen for the clearing of the current output cell\n",
       "var outputEl = gd.closest('.output');\n",
       "if (outputEl) {{\n",
       "    x.observe(outputEl, {childList: true});\n",
       "}}\n",
       "\n",
       "                        })\n",
       "                };\n",
       "                });\n",
       "            </script>\n",
       "        </div>"
      ]
     },
     "metadata": {},
     "output_type": "display_data"
    }
   ],
   "source": [
    "df[['len']].iplot(kind='histogram', bins=100)"
   ]
  },
  {
   "cell_type": "code",
   "execution_count": 15,
   "metadata": {},
   "outputs": [],
   "source": [
    "# convert to tuple so we can use set()\n",
    "def _to_tuple(idxes):\n",
    "    x = []\n",
    "    for _a in idxes:\n",
    "        a = []\n",
    "        for i, j in zip(_a[0], _a[1]):\n",
    "            a.append((i, j))\n",
    "        if len(a) > 0:\n",
    "            a = tuple(a)\n",
    "            x.append(a)\n",
    "    return x"
   ]
  },
  {
   "cell_type": "code",
   "execution_count": 16,
   "metadata": {},
   "outputs": [],
   "source": [
    "def _to_tuple_single(idx):\n",
    "    a = []\n",
    "    for i, j in zip(idx[0], idx[1]):\n",
    "        a.append((i, j))\n",
    "    if len(a) > 0:\n",
    "        a = tuple(a)\n",
    "        return a\n",
    "    else:\n",
    "        return None"
   ]
  },
  {
   "cell_type": "code",
   "execution_count": 17,
   "metadata": {},
   "outputs": [],
   "source": [
    "def _to_mat(x, l):\n",
    "    # x is tuple of tuple (2 elements)\n",
    "    # convert to list of 2 lists\n",
    "    y = [[a[0] for a in x], [a[1] for a in x]]\n",
    "    z = np.zeros((l, l))\n",
    "    z[y] = 1\n",
    "    return z"
   ]
  },
  {
   "cell_type": "code",
   "execution_count": null,
   "metadata": {
    "scrolled": false
   },
   "outputs": [
    {
     "name": "stderr",
     "output_type": "stream",
     "text": [
      "/Users/alicegao/anaconda2/envs/dg_work_old_tf/lib/python2.7/site-packages/ipykernel_launcher.py:6: FutureWarning:\n",
      "\n",
      "Using a non-tuple sequence for multidimensional indexing is deprecated; use `arr[tuple(seq)]` instead of `arr[seq]`. In the future this will be interpreted as an array index, `arr[np.array(seq)]`, which will result either in an error or a different result.\n",
      "\n",
      "utils.py:325: RuntimeWarning:\n",
      "\n",
      "invalid value encountered in double_scalars\n",
      "\n"
     ]
    }
   ],
   "source": [
    "n_no_struct = 0\n",
    "df_metric = []\n",
    "\n",
    "for _, row in df.iterrows():\n",
    "    seq = row['seq']\n",
    "    rnafold_struct_count = Counter(_to_tuple(row['one_idx']))\n",
    "    model_struct_count = Counter(_to_tuple(row['pred_idx']))\n",
    "#     # only keep structures that occurs more than 2 times (2% in sampled structures)\n",
    "#     rnafold_struct_count = {k: v for k, v in rnafold_struct_count.iteritems() if v >=2}\n",
    "#     model_struct_count = {k: v for k, v in model_struct_count.iteritems() if v >=2}\n",
    "#     # only keep structures that occurs more than 5 times (5% in sampled structures)\n",
    "#     rnafold_struct_count = {k: v for k, v in rnafold_struct_count.iteritems() if v >=5}\n",
    "#     model_struct_count = {k: v for k, v in model_struct_count.iteritems() if v >=5}\n",
    "#     # only keep structures that occurs more than 10 times (10% in sampled structures)\n",
    "#     rnafold_struct_count = {k: v for k, v in rnafold_struct_count.iteritems() if v >=10}\n",
    "#     model_struct_count = {k: v for k, v in model_struct_count.iteritems() if v >=10}\n",
    "    \n",
    "    # skip the case if RNAfold outputs no structure\n",
    "    if len(rnafold_struct_count) == 0:\n",
    "        n_no_struct += 1\n",
    "        continue\n",
    "    \n",
    "    # for each structure from RNAfold\n",
    "    # evaluate against all structures from the model, pick the closest one, record performance\n",
    "#     result = []\n",
    "    for rnafold_struct, rnafold_count in rnafold_struct_count.iteritems():\n",
    "        r_s = _to_mat(rnafold_struct, len(seq))\n",
    "        sensitivity = 0\n",
    "        ppv = 0\n",
    "        f_measure = 0\n",
    "        best_m_s = None\n",
    "        for model_struct in model_struct_count.keys():\n",
    "            m_s = _to_mat(model_struct, len(seq))\n",
    "            _sensitivity = EvalMetric.sensitivity(m_s, r_s)\n",
    "            _ppv = EvalMetric.ppv(m_s, r_s)\n",
    "            _f_measure = EvalMetric.f_measure(_sensitivity, _ppv)\n",
    "            if _f_measure > f_measure:\n",
    "                sensitivity = _sensitivity + 0  # copy\n",
    "                ppv = _ppv + 0\n",
    "                f_measure = _f_measure + 0\n",
    "                best_m_s = list(model_struct)\n",
    "#         result.append((sensitivity, ppv, f_measure))\n",
    "        df_metric.append({\n",
    "            'seq_id': row['seq_id'],\n",
    "            'len': row['len'],\n",
    "            'seq': seq,\n",
    "            'rnafold_idx': list(rnafold_struct),\n",
    "            'closest_model_idx': best_m_s,\n",
    "            'sensitivity': sensitivity,\n",
    "            'ppv': ppv,\n",
    "            'f_measure': f_measure,\n",
    "            'rnafold_count': rnafold_count,\n",
    "        })\n",
    "    \n",
    "#     print rnafold_struct_count\n",
    "#     print model_struct_count\n",
    "#     print result\n",
    "#     print ''\n",
    "    \n",
    "    \n",
    "print n_no_struct\n",
    "df_metric = pd.DataFrame(df_metric)\n"
   ]
  },
  {
   "cell_type": "code",
   "execution_count": null,
   "metadata": {},
   "outputs": [],
   "source": [
    "# # TODO add seq_id in above code\n",
    "# df_metric = pd.merge(df_metric, df[['seq', 'len']], on='seq', how='left')"
   ]
  },
  {
   "cell_type": "code",
   "execution_count": null,
   "metadata": {},
   "outputs": [],
   "source": [
    "# df_metric.head()"
   ]
  },
  {
   "cell_type": "code",
   "execution_count": null,
   "metadata": {},
   "outputs": [],
   "source": []
  },
  {
   "cell_type": "code",
   "execution_count": null,
   "metadata": {},
   "outputs": [],
   "source": [
    "fig = make_subplots(rows=1, cols=2, subplot_titles=['Sensitivity', 'PPV'])\n",
    "\n",
    "for col_idx, metric_name in enumerate(['sensitivity', 'ppv']):\n",
    "\n",
    "    col = col_idx + 1\n",
    "    fig.add_trace(go.Histogram(x=df_metric[df_metric['rnafold_count'] == 1][metric_name], \n",
    "                              nbinsx=20, histnorm='probability', \n",
    "                               name='1 ({})'.format(len(df_metric[df_metric['rnafold_count'] == 1])),\n",
    "                              marker_color='#ffffcc', showlegend=True if col_idx == 0 else False), \n",
    "                 row=1, col=col)\n",
    "    fig.add_trace(go.Histogram(x=df_metric[df_metric['rnafold_count'] == 2][metric_name], \n",
    "                              nbinsx=20, histnorm='probability', \n",
    "                               name='2 ({})'.format(len(df_metric[df_metric['rnafold_count'] == 2])),\n",
    "                              marker_color='#c7e9b4', showlegend=True if col_idx == 0 else False),\n",
    "                 row=1, col=col)\n",
    "    fig.add_trace(go.Histogram(x=df_metric[df_metric['rnafold_count'] == 3][metric_name], \n",
    "                              nbinsx=20, histnorm='probability', \n",
    "                               name='3 ({})'.format(len(df_metric[df_metric['rnafold_count'] == 3])),\n",
    "                              marker_color='#7fcdbb', showlegend=True if col_idx == 0 else False),\n",
    "                 row=1, col=col)\n",
    "    fig.add_trace(go.Histogram(x=df_metric[df_metric['rnafold_count'] == 4][metric_name], \n",
    "                              nbinsx=20, histnorm='probability', \n",
    "                               name='4 ({})'.format(len(df_metric[df_metric['rnafold_count'] == 4])),\n",
    "                              marker_color='#41b6c4', showlegend=True if col_idx == 0 else False),\n",
    "                 row=1, col=col)\n",
    "    fig.add_trace(go.Histogram(x=df_metric[df_metric['rnafold_count'] == 5][metric_name], \n",
    "                              nbinsx=20, histnorm='probability', \n",
    "                               name='5 ({})'.format(len(df_metric[df_metric['rnafold_count'] == 5])),\n",
    "                              marker_color='#1d91c0', showlegend=True if col_idx == 0 else False),\n",
    "                 row=1, col=col)\n",
    "    fig.add_trace(go.Histogram(x=df_metric[(df_metric['rnafold_count'] > 5) & (df_metric['rnafold_count'] <= 10)]['sensitivity'], \n",
    "                              nbinsx=20, histnorm='probability', \n",
    "                               name='(5, 10] ({})'.format(len(df_metric[(df_metric['rnafold_count'] > 5) & (df_metric['rnafold_count'] <= 10)])),\n",
    "                              marker_color='#225ea8', showlegend=True if col_idx == 0 else False),\n",
    "                 row=1, col=col)\n",
    "    fig.add_trace(go.Histogram(x=df_metric[df_metric['rnafold_count'] > 10][metric_name], \n",
    "                              nbinsx=20, histnorm='probability', \n",
    "                               name='>10 ({})'.format(len(df_metric[df_metric['rnafold_count'] > 10])),\n",
    "                              marker_color='#0c2c84', showlegend=True if col_idx == 0 else False), \n",
    "                 row=1, col=col)\n",
    "\n",
    "fig = fig.update(layout=dict(\n",
    "    paper_bgcolor='rgba(0,0,0,0)',\n",
    "    plot_bgcolor='rgba(0,0,0,0)',\n",
    "#     xaxis=dict(showgrid=False, zeroline=False,\n",
    "#                tickfont=dict(size=18, color='#000'),\n",
    "#                titlefont=dict(size=24, color='#000'),\n",
    "#                showline=True, mirror=True),\n",
    "#     yaxis=dict(showgrid=True, gridwidth=1, gridcolor='darkgray',\n",
    "#                tickfont=dict(size=18, color='#000'),\n",
    "#                titlefont=dict(size=24, color='#000'),\n",
    "#                title='Percentage', showline=True, mirror=True),\n",
    "    title=result_filenmae,\n",
    "#     title=metric_name,\n",
    "#     titlefont=dict(size=24, color='#000'),\n",
    "#     legend=dict(orientation=\"h\",\n",
    "#                 font=dict(\n",
    "# #             family='sans-serif',\n",
    "#             size=24,\n",
    "#             color='#000'\n",
    "#         ),),\n",
    "))\n",
    "iplot(fig)"
   ]
  },
  {
   "cell_type": "code",
   "execution_count": null,
   "metadata": {},
   "outputs": [],
   "source": []
  },
  {
   "cell_type": "code",
   "execution_count": null,
   "metadata": {},
   "outputs": [],
   "source": [
    "# for metric_name in ['sensitivity', 'ppv']:\n",
    "#     fig = go.Figure()\n",
    "#     # fig = df_metric[df_metric['rnafold_count'] > 5][['sensitivity', 'ppv']].iplot(kind='histogram', bins=20,\n",
    "#     #                                                     histnorm='probability', opacity=1,\n",
    "#     #                                                      barmode='group', asFigure=True)\n",
    "\n",
    "#     fig.add_trace(go.Histogram(x=df_metric[df_metric['rnafold_count'] == 1][metric_name], \n",
    "#                               nbinsx=20, histnorm='probability', name='1'))\n",
    "#     fig.add_trace(go.Histogram(x=df_metric[df_metric['rnafold_count'] == 2][metric_name], \n",
    "#                               nbinsx=20, histnorm='probability', name='2'))\n",
    "#     fig.add_trace(go.Histogram(x=df_metric[df_metric['rnafold_count'] == 3][metric_name], \n",
    "#                               nbinsx=20, histnorm='probability', name='3'))\n",
    "#     fig.add_trace(go.Histogram(x=df_metric[df_metric['rnafold_count'] == 4][metric_name], \n",
    "#                               nbinsx=20, histnorm='probability', name='4'))\n",
    "#     fig.add_trace(go.Histogram(x=df_metric[df_metric['rnafold_count'] == 5][metric_name], \n",
    "#                               nbinsx=20, histnorm='probability', name='5'))\n",
    "#     fig.add_trace(go.Histogram(x=df_metric[(df_metric['rnafold_count'] > 5) & (df_metric['rnafold_count'] <= 10)]['sensitivity'], \n",
    "#                               nbinsx=20, histnorm='probability', name='(5, 10]'))\n",
    "#     fig.add_trace(go.Histogram(x=df_metric[df_metric['rnafold_count'] > 10][metric_name], \n",
    "#                               nbinsx=20, histnorm='probability', name='>10'))\n",
    "\n",
    "#     fig = fig.update(layout=dict(\n",
    "#         paper_bgcolor='rgba(0,0,0,0)',\n",
    "#         plot_bgcolor='rgba(0,0,0,0)',\n",
    "#         xaxis=dict(showgrid=False, zeroline=False,\n",
    "#                    tickfont=dict(size=18, color='#000'),\n",
    "#                    titlefont=dict(size=24, color='#000'),\n",
    "#                    showline=True, mirror=True),\n",
    "#         yaxis=dict(showgrid=True, gridwidth=1, gridcolor='darkgray',\n",
    "#                    tickfont=dict(size=18, color='#000'),\n",
    "#                    titlefont=dict(size=24, color='#000'),\n",
    "#                    title='Percentage', showline=True, mirror=True),\n",
    "#     #     title='Performance on test dataset',\n",
    "#         title=metric_name,\n",
    "#         titlefont=dict(size=24, color='#000'),\n",
    "#     #     legend=dict(orientation=\"h\",\n",
    "#     #                 font=dict(\n",
    "#     # #             family='sans-serif',\n",
    "#     #             size=24,\n",
    "#     #             color='#000'\n",
    "#     #         ),),\n",
    "#     ))\n",
    "#     iplot(fig)"
   ]
  },
  {
   "cell_type": "code",
   "execution_count": null,
   "metadata": {},
   "outputs": [],
   "source": [
    "def make_hist_2(df_plot, title):\n",
    "#     fig = df_plot[['sensitivity', 'ppv']].iplot(kind='histogram', bins=20,\n",
    "#                                                     histnorm='probability', opacity=1,\n",
    "#                                                      barmode='group', asFigure=True)\n",
    "#     fig = df_plot[['sensitivity', 'ppv']].iplot(kind='histogram', xbins=dict(\n",
    "#                                                                     start=0.0,\n",
    "#                                                                     end=1.0,\n",
    "#                                                                     size=0.05\n",
    "#                                                                 ),\n",
    "#                                                     histnorm='probability', opacity=1,\n",
    "#                                                      barmode='group', asFigure=True)\n",
    "    fig = go.Figure()\n",
    "    fig.add_trace(go.Histogram(\n",
    "    x=df_plot['sensitivity'],\n",
    "    histnorm='percent',\n",
    "    name='Sensitivity', # name used in legend and hover labels\n",
    "    xbins=dict( # bins used for histogram\n",
    "        start=0.0,\n",
    "        end=1.0,\n",
    "        size=0.05\n",
    "    ),\n",
    "    marker_color='#EB89B5',\n",
    "    opacity=0.75\n",
    "    ))\n",
    "    fig.add_trace(go.Histogram(\n",
    "    x=df_plot['ppv'],\n",
    "    histnorm='percent',\n",
    "    name='PPV',\n",
    "    xbins=dict( # bins used for histogram\n",
    "        start=0.0,\n",
    "        end=1.0,\n",
    "        size=0.05\n",
    "    ),\n",
    "    marker_color='#330C73',\n",
    "    opacity=0.75\n",
    "    ))\n",
    "\n",
    "    fig = fig.update(layout=dict(\n",
    "    paper_bgcolor='rgba(0,0,0,0)',\n",
    "    plot_bgcolor='rgba(0,0,0,0)',\n",
    "    xaxis=dict(showgrid=False, zeroline=False,\n",
    "               tickfont=dict(size=18, color='#000'),\n",
    "               titlefont=dict(size=24, color='#000'),\n",
    "               showline=True, mirror=True,\n",
    "              range=[0,1]),\n",
    "    yaxis=dict(showgrid=True, gridwidth=1, gridcolor='darkgray',\n",
    "               tickfont=dict(size=18, color='#000'),\n",
    "               titlefont=dict(size=24, color='#000'),\n",
    "               title='Percentage', showline=True, mirror=True),\n",
    "    title=title,\n",
    "    titlefont=dict(size=24, color='#000'),\n",
    "    legend=dict(orientation=\"h\",\n",
    "                font=dict(\n",
    "            size=24,\n",
    "            color='#000'\n",
    "        ),),\n",
    "    ))\n",
    "    return fig"
   ]
  },
  {
   "cell_type": "code",
   "execution_count": null,
   "metadata": {},
   "outputs": [],
   "source": [
    "fig = make_hist_2(df_metric[(df_metric['rnafold_count']>=5) & (df_metric['len'] <= 100)],\n",
    "                 'count>=5 & len<=100')\n",
    "iplot(fig)"
   ]
  },
  {
   "cell_type": "code",
   "execution_count": null,
   "metadata": {},
   "outputs": [],
   "source": [
    "fig = make_hist_2(df_metric[(df_metric['rnafold_count']>=5) & (df_metric['len'] > 100)],\n",
    "                 'count>=5 & len>100')\n",
    "iplot(fig)"
   ]
  },
  {
   "cell_type": "code",
   "execution_count": null,
   "metadata": {},
   "outputs": [],
   "source": [
    "# # uncomment to show plot in new window\n",
    "# plot(fig)"
   ]
  },
  {
   "cell_type": "code",
   "execution_count": null,
   "metadata": {},
   "outputs": [],
   "source": [
    "len(df_metric)"
   ]
  },
  {
   "cell_type": "code",
   "execution_count": null,
   "metadata": {},
   "outputs": [],
   "source": [
    "sum(df_metric['ppv']>0.8)/float(len(df_metric))"
   ]
  },
  {
   "cell_type": "code",
   "execution_count": null,
   "metadata": {},
   "outputs": [],
   "source": []
  },
  {
   "cell_type": "code",
   "execution_count": null,
   "metadata": {},
   "outputs": [],
   "source": [
    "# # for R plot\n",
    "# df_metric[['seq', 'sensitivity', 'ppv', 'f_measure']].to_csv('/Users/alicegao/data/tmp/perf_rand_ensemble_metric.csv', index=False)"
   ]
  },
  {
   "cell_type": "code",
   "execution_count": null,
   "metadata": {},
   "outputs": [],
   "source": []
  },
  {
   "cell_type": "code",
   "execution_count": null,
   "metadata": {},
   "outputs": [],
   "source": [
    "# # scatter plot\n",
    "\n",
    "# fig = df_metric[['sensitivity', 'ppv']].iplot(kind='scatter', x='sensitivity', y='ppv',\n",
    "#                                                     mode='markers', size=4,\n",
    "#                                               asFigure=True)\n",
    "# fig = fig.update(layout=dict(\n",
    "#     paper_bgcolor='rgba(0,0,0,0)',\n",
    "#     plot_bgcolor='rgba(0,0,0,0)',\n",
    "#     xaxis=dict(showgrid=False, title='Sensitivity', zeroline=False),\n",
    "#     yaxis=dict(showgrid=False, title='PPV'),\n",
    "#     title='Performance on test dataset',\n",
    "# ))"
   ]
  },
  {
   "cell_type": "code",
   "execution_count": null,
   "metadata": {},
   "outputs": [],
   "source": [
    "# iplot(fig)"
   ]
  },
  {
   "cell_type": "code",
   "execution_count": null,
   "metadata": {},
   "outputs": [],
   "source": [
    "df.head()"
   ]
  },
  {
   "cell_type": "code",
   "execution_count": null,
   "metadata": {},
   "outputs": [],
   "source": [
    "# check metrix against 'ground truth'\n",
    "df2 = df.copy()\n",
    "\n",
    "\n",
    "def _compute_metric_gt(true_idx, pred_idx, len_seq):\n",
    "    _true_idx = _to_tuple_single(true_idx)\n",
    "    if _true_idx:\n",
    "        m_true = _to_mat(_true_idx, len_seq)\n",
    "    else:\n",
    "        m_true = np.zeros((len_seq, len_seq))\n",
    "    s = []\n",
    "    p = []\n",
    "    f = []\n",
    "    for p_idx in _to_tuple(pred_idx):\n",
    "#         print p_idx\n",
    "        m_p = _to_mat(p_idx, len_seq)\n",
    "        _sensitivity = EvalMetric.sensitivity(m_true, m_p)\n",
    "        _ppv = EvalMetric.ppv(m_true, m_p)\n",
    "        _f_measure = EvalMetric.f_measure(_sensitivity, _ppv)\n",
    "        s.append(_sensitivity)\n",
    "        p.append(_ppv)\n",
    "        f.append(_f_measure)\n",
    "    return s, p, f\n",
    "\n",
    "\n",
    "def _compute_metric_gt_single(true_idx, pred_idx, len_seq):\n",
    "    _true_idx = _to_tuple_single(true_idx)\n",
    "    if _true_idx:\n",
    "        m_true = _to_mat(_true_idx, len_seq)\n",
    "    else:\n",
    "        m_true = np.zeros((len_seq, len_seq))\n",
    "    _pred_idx = _to_tuple_single(pred_idx)\n",
    "    if _pred_idx:\n",
    "        m_pred = _to_mat(_pred_idx, len_seq)\n",
    "    else:\n",
    "        m_pred = np.zeros((len_seq, len_seq))\n",
    "    sensitivity = EvalMetric.sensitivity(m_true, m_pred)\n",
    "    ppv = EvalMetric.ppv(m_true, m_pred)\n",
    "    f_measure = EvalMetric.f_measure(_sensitivity, _ppv)\n",
    "    return sensitivity, ppv, f_measure\n",
    "\n",
    "\n",
    "df2 = add_columns(df2, ['rnafold_sensitivity', 'rnafold_ppv', 'rnafold_f'],\n",
    "                 ['truth_one_idx', 'one_idx', 'len'], _compute_metric_gt)\n",
    "df2 = add_columns(df2, ['pred_sensitivity', 'pred_ppv', 'pred_f'],\n",
    "                 ['truth_one_idx', 'pred_idx', 'len'], _compute_metric_gt)\n",
    "df2 = add_columns(df2, ['ml_path_sensitivity', 'ml_path_ppv', 'ml_path_f'],\n",
    "                 ['truth_one_idx', 'ml_path_idx', 'len'], _compute_metric_gt_single)\n"
   ]
  },
  {
   "cell_type": "code",
   "execution_count": null,
   "metadata": {},
   "outputs": [],
   "source": [
    "df2.head()"
   ]
  },
  {
   "cell_type": "code",
   "execution_count": null,
   "metadata": {},
   "outputs": [],
   "source": [
    "# _row = df2.iloc[4]\n",
    "\n",
    "_idx = np.random.randint(len(df2))\n",
    "_row = df2.iloc[_idx]\n",
    "print _idx, _row['seq_id'], _row['len']\n",
    "\n",
    "# TODO plot these metrics\n",
    "print _row['ml_path_sensitivity'], _row['ml_path_ppv'], _row['ml_path_f']\n",
    "\n",
    "# fig = go.Figure()\n",
    "fig = make_subplots(rows=3, cols=1, subplot_titles=['Sensitivity', 'PPV', 'F'])\n",
    "\n",
    "fig.add_trace(go.Histogram(\n",
    "x=_row['rnafold_ppv'],\n",
    "histnorm='percent',\n",
    "name='rnafold_ppv', # name used in legend and hover labels\n",
    "xbins=dict( # bins used for histogram\n",
    "    start=0.0,\n",
    "    end=1.0,\n",
    "    size=0.05\n",
    "),\n",
    "marker_color='#0ea7b5',\n",
    "opacity=0.75\n",
    "), row=2, col=1)\n",
    "fig.add_trace(go.Histogram(\n",
    "x=_row['pred_ppv'],\n",
    "histnorm='percent',\n",
    "name='pred_ppv', # name used in legend and hover labels\n",
    "xbins=dict( # bins used for histogram\n",
    "    start=0.0,\n",
    "    end=1.0,\n",
    "    size=0.05\n",
    "),\n",
    "marker_color='#e8702a',\n",
    "opacity=0.75\n",
    "), row=2, col=1)\n",
    "\n",
    "fig.add_trace(go.Histogram(\n",
    "x=_row['rnafold_sensitivity'],\n",
    "histnorm='percent',\n",
    "name='rnafold_sensitivity', # name used in legend and hover labels\n",
    "xbins=dict( # bins used for histogram\n",
    "    start=0.0,\n",
    "    end=1.0,\n",
    "    size=0.05\n",
    "),\n",
    "marker_color='#6bd2db',\n",
    "opacity=0.75\n",
    "), row=1, col=1)\n",
    "fig.add_trace(go.Histogram(\n",
    "x=_row['pred_sensitivity'],\n",
    "histnorm='percent',\n",
    "name='pred_sensitivity', # name used in legend and hover labels\n",
    "xbins=dict( # bins used for histogram\n",
    "    start=0.0,\n",
    "    end=1.0,\n",
    "    size=0.05\n",
    "),\n",
    "marker_color='#ffbe4f',\n",
    "opacity=0.75\n",
    "), row=1, col=1)\n",
    "\n",
    "fig.add_trace(go.Histogram(\n",
    "x=_row['rnafold_f'],\n",
    "histnorm='percent',\n",
    "name='rnafold_f', # name used in legend and hover labels\n",
    "xbins=dict( # bins used for histogram\n",
    "    start=0.0,\n",
    "    end=1.0,\n",
    "    size=0.05\n",
    "),\n",
    "marker_color='#6bd2db',\n",
    "opacity=0.75\n",
    "), row=3, col=1)\n",
    "fig.add_trace(go.Histogram(\n",
    "x=_row['pred_f'],\n",
    "histnorm='percent',\n",
    "name='pred_f', # name used in legend and hover labels\n",
    "xbins=dict( # bins used for histogram\n",
    "    start=0.0,\n",
    "    end=1.0,\n",
    "    size=0.05\n",
    "),\n",
    "marker_color='#ffbe4f',\n",
    "opacity=0.75\n",
    "), row=3, col=1)\n",
    "iplot(fig)"
   ]
  },
  {
   "cell_type": "code",
   "execution_count": null,
   "metadata": {
    "scrolled": false
   },
   "outputs": [],
   "source": [
    "# TODO eval ml path performance\n",
    "\n",
    "n_better = 0\n",
    "n_worse = 0\n",
    "n_no_diff = 0\n",
    "for _, row in df2.iterrows():\n",
    "    print row['seq_id'], row['len']\n",
    "    pred_f = np.asarray(row['pred_f'])\n",
    "    rnafold_f = np.asarray(row['rnafold_f'])\n",
    "    pred_f = pred_f[~np.isnan(pred_f)]\n",
    "    rnafold_f = rnafold_f[~np.isnan(rnafold_f)]\n",
    "    \n",
    "    # tmp FIXME\n",
    "    if len(pred_f) == 0 or len(rnafold_f) == 0:\n",
    "        print(\"Skip (all NaNs?)\\n\")\n",
    "        continue\n",
    "    \n",
    "    print np.mean(pred_f), np.mean(rnafold_f)\n",
    "    ks, pval = stats.ks_2samp(pred_f, rnafold_f)\n",
    "    print ks, pval\n",
    "    print ''\n",
    "    \n",
    "    if pval >= 0.05:\n",
    "        n_no_diff += 1\n",
    "    elif np.mean(pred_f) >= np.mean(rnafold_f):\n",
    "        n_better += 1\n",
    "    else:\n",
    "        assert np.mean(pred_f) < np.mean(rnafold_f)\n",
    "        assert pval < 0.05\n",
    "        n_worse += 1\n",
    "    \n",
    "print \"n_better: {}, n_worse: {}, n_no_diff: {}\".format(n_better, n_worse, n_no_diff)"
   ]
  },
  {
   "cell_type": "code",
   "execution_count": null,
   "metadata": {},
   "outputs": [],
   "source": []
  },
  {
   "cell_type": "code",
   "execution_count": null,
   "metadata": {},
   "outputs": [],
   "source": [
    "# TODO use unique structures only?"
   ]
  },
  {
   "cell_type": "code",
   "execution_count": null,
   "metadata": {},
   "outputs": [],
   "source": [
    "# TODO calculate one statistics per row\n",
    "# that the two f_measure distribution is different\n",
    "# use the mean to determine direction\n",
    "# report number of rows where they are not significantly different, where A > B, where B > A"
   ]
  },
  {
   "cell_type": "code",
   "execution_count": null,
   "metadata": {},
   "outputs": [],
   "source": [
    "# generate 1000 structures"
   ]
  },
  {
   "cell_type": "code",
   "execution_count": null,
   "metadata": {},
   "outputs": [],
   "source": [
    "# most likely\n",
    "# compare distribution\n",
    "# test time: most likely path\n",
    "# every step: run 10 examples of probability matrix, sample 100 from the 10\n",
    "# then take the top-10 sampled paths, then proceed to next step\n"
   ]
  },
  {
   "cell_type": "code",
   "execution_count": null,
   "metadata": {},
   "outputs": [],
   "source": []
  },
  {
   "cell_type": "code",
   "execution_count": null,
   "metadata": {},
   "outputs": [],
   "source": []
  }
 ],
 "metadata": {
  "kernelspec": {
   "display_name": "Python 2",
   "language": "python",
   "name": "python2"
  },
  "language_info": {
   "codemirror_mode": {
    "name": "ipython",
    "version": 2
   },
   "file_extension": ".py",
   "mimetype": "text/x-python",
   "name": "python",
   "nbconvert_exporter": "python",
   "pygments_lexer": "ipython2",
   "version": "2.7.16"
  }
 },
 "nbformat": 4,
 "nbformat_minor": 2
}
