{
 "cells": [
  {
   "cell_type": "code",
   "execution_count": 1,
   "metadata": {},
   "outputs": [
    {
     "name": "stderr",
     "output_type": "stream",
     "text": [
      "Using TensorFlow backend.\n"
     ]
    }
   ],
   "source": [
    "from utils import Predictor, arr2db, forna_url, DataEncoder"
   ]
  },
  {
   "cell_type": "code",
   "execution_count": 2,
   "metadata": {},
   "outputs": [],
   "source": [
    "# running on CPU is extremely slow!"
   ]
  },
  {
   "cell_type": "code",
   "execution_count": 3,
   "metadata": {},
   "outputs": [],
   "source": [
    "import numpy as np"
   ]
  },
  {
   "cell_type": "code",
   "execution_count": 4,
   "metadata": {},
   "outputs": [],
   "source": [
    "import keras"
   ]
  },
  {
   "cell_type": "code",
   "execution_count": 5,
   "metadata": {},
   "outputs": [
    {
     "name": "stderr",
     "output_type": "stream",
     "text": [
      "WARNING: Logging before flag parsing goes to stderr.\n",
      "W0915 14:33:12.459345 4610217408 deprecation_wrapper.py:119] From /Users/alicegao/anaconda2/envs/dg_work_py2/lib/python2.7/site-packages/keras/backend/tensorflow_backend.py:517: The name tf.placeholder is deprecated. Please use tf.compat.v1.placeholder instead.\n",
      "\n",
      "W0915 14:33:12.544841 4610217408 deprecation_wrapper.py:119] From /Users/alicegao/anaconda2/envs/dg_work_py2/lib/python2.7/site-packages/keras/backend/tensorflow_backend.py:131: The name tf.get_default_graph is deprecated. Please use tf.compat.v1.get_default_graph instead.\n",
      "\n",
      "W0915 14:33:12.546308 4610217408 deprecation_wrapper.py:119] From /Users/alicegao/anaconda2/envs/dg_work_py2/lib/python2.7/site-packages/keras/backend/tensorflow_backend.py:133: The name tf.placeholder_with_default is deprecated. Please use tf.compat.v1.placeholder_with_default instead.\n",
      "\n",
      "W0915 14:33:12.622814 4610217408 deprecation_wrapper.py:119] From /Users/alicegao/anaconda2/envs/dg_work_py2/lib/python2.7/site-packages/keras/backend/tensorflow_backend.py:4138: The name tf.random_uniform is deprecated. Please use tf.random.uniform instead.\n",
      "\n",
      "W0915 14:33:13.556243 4610217408 deprecation_wrapper.py:119] From /home/alice/work/psi-lab-sandbox/rna_ss/model/rnafold_mini_data_2d_ar_2/model.py:133: The name tf.matrix_band_part is deprecated. Please use tf.linalg.band_part instead.\n",
      "\n"
     ]
    },
    {
     "name": "stdout",
     "output_type": "stream",
     "text": [
      "4\n"
     ]
    },
    {
     "name": "stderr",
     "output_type": "stream",
     "text": [
      "W0915 14:33:15.141752 4610217408 deprecation_wrapper.py:119] From /Users/alicegao/anaconda2/envs/dg_work_py2/lib/python2.7/site-packages/keras/optimizers.py:790: The name tf.train.Optimizer is deprecated. Please use tf.compat.v1.train.Optimizer instead.\n",
      "\n",
      "W0915 14:33:15.532440 4610217408 deprecation.py:323] From /Users/alicegao/anaconda2/envs/dg_work_py2/lib/python2.7/site-packages/tensorflow/python/ops/math_grad.py:1250: where (from tensorflow.python.ops.array_ops) is deprecated and will be removed in a future version.\n",
      "Instructions for updating:\n",
      "Use tf.where in 2.0, which has the same broadcast rule as np.where\n"
     ]
    }
   ],
   "source": [
    "# model = Predictor('model/2019_09_08.1/model.hdf5')\n",
    "model = Predictor('model/2019_09_12.1/model.hdf5')"
   ]
  },
  {
   "cell_type": "code",
   "execution_count": 6,
   "metadata": {},
   "outputs": [
    {
     "name": "stdout",
     "output_type": "stream",
     "text": [
      "input_org <keras.engine.input_layer.InputLayer object at 0x7fc0119a9350>\n",
      "batch_normalization_1 <keras.layers.normalization.BatchNormalization object at 0x7fc0119a9550>\n",
      "batch_normalization_2 <keras.layers.normalization.BatchNormalization object at 0x7fc0119a9490>\n",
      "activation_1 <keras.layers.core.Activation object at 0x7fc0119a9650>\n",
      "activation_2 <keras.layers.core.Activation object at 0x7fc0119a9850>\n",
      "conv1d_1 <keras.layers.convolutional.Conv1D object at 0x7fc0119a9890>\n",
      "conv1d_2 <keras.layers.convolutional.Conv1D object at 0x7fc0119a99d0>\n",
      "batch_normalization_3 <keras.layers.normalization.BatchNormalization object at 0x7fc0119a9b10>\n",
      "batch_normalization_4 <keras.layers.normalization.BatchNormalization object at 0x7fc0119a9b50>\n",
      "activation_3 <keras.layers.core.Activation object at 0x7fc0119a9c90>\n",
      "activation_4 <keras.layers.core.Activation object at 0x7fc0119a9dd0>\n",
      "conv1d_3 <keras.layers.convolutional.Conv1D object at 0x7fc0119a9e10>\n",
      "conv1d_4 <keras.layers.convolutional.Conv1D object at 0x7fc0119a9f50>\n",
      "batch_normalization_5 <keras.layers.normalization.BatchNormalization object at 0x7fbfe014d0d0>\n",
      "batch_normalization_6 <keras.layers.normalization.BatchNormalization object at 0x7fbfe014d110>\n",
      "activation_5 <keras.layers.core.Activation object at 0x7fbfe014d250>\n",
      "activation_6 <keras.layers.core.Activation object at 0x7fbfe014d390>\n",
      "conv1d_5 <keras.layers.convolutional.Conv1D object at 0x7fbfe014d3d0>\n",
      "conv1d_6 <keras.layers.convolutional.Conv1D object at 0x7fbfe014d510>\n",
      "batch_normalization_7 <keras.layers.normalization.BatchNormalization object at 0x7fbfe014d650>\n",
      "batch_normalization_8 <keras.layers.normalization.BatchNormalization object at 0x7fbfe014d690>\n",
      "activation_7 <keras.layers.core.Activation object at 0x7fbfe014d7d0>\n",
      "activation_8 <keras.layers.core.Activation object at 0x7fbfe014d910>\n",
      "conv1d_7 <keras.layers.convolutional.Conv1D object at 0x7fbfe014d950>\n",
      "conv1d_8 <keras.layers.convolutional.Conv1D object at 0x7fbfe014da90>\n",
      "batch_normalization_9 <keras.layers.normalization.BatchNormalization object at 0x7fbfe014dbd0>\n",
      "batch_normalization_10 <keras.layers.normalization.BatchNormalization object at 0x7fbfe014dc10>\n",
      "activation_9 <keras.layers.core.Activation object at 0x7fbfe014dd50>\n",
      "activation_10 <keras.layers.core.Activation object at 0x7fbfe014de90>\n",
      "conv1d_9 <keras.layers.convolutional.Conv1D object at 0x7fbfe014ded0>\n",
      "conv1d_10 <keras.layers.convolutional.Conv1D object at 0x7fbfe0155050>\n",
      "dot_1 <keras.layers.merge.Dot object at 0x7fbfe0155190>\n",
      "dot_2 <keras.layers.merge.Dot object at 0x7fbfe01551d0>\n",
      "dot_3 <keras.layers.merge.Dot object at 0x7fbfe0155210>\n",
      "dot_4 <keras.layers.merge.Dot object at 0x7fbfe0155250>\n",
      "dot_5 <keras.layers.merge.Dot object at 0x7fbfe0155290>\n",
      "lambda_3 <keras.layers.core.Lambda object at 0x7fc0119a9310>\n",
      "lambda_4 <keras.layers.core.Lambda object at 0x7fbfc0024450>\n",
      "lambda_5 <keras.layers.core.Lambda object at 0x7fbfc00245d0>\n",
      "lambda_6 <keras.layers.core.Lambda object at 0x7fbfe01552d0>\n",
      "lambda_7 <keras.layers.core.Lambda object at 0x7fbfe0155310>\n",
      "lambda_1 <keras.layers.core.Lambda object at 0x7fbfe0155350>\n",
      "lambda_2 <keras.layers.core.Lambda object at 0x7fbfe0155410>\n",
      "lambda_8 <keras.layers.core.Lambda object at 0x7fbfe0155450>\n",
      "concatenate_1 <keras.layers.merge.Concatenate object at 0x7fbfe01554d0>\n",
      "concatenate_2 <keras.layers.merge.Concatenate object at 0x7fbfe0155510>\n",
      "conv2d_1 <keras.layers.convolutional.Conv2D object at 0x7fbfe0155550>\n",
      "conv2d_2 <keras.layers.convolutional.Conv2D object at 0x7fbfe0155650>\n",
      "conv2d_3 <keras.layers.convolutional.Conv2D object at 0x7fbfe0155750>\n",
      "conv2d_4 <keras.layers.convolutional.Conv2D object at 0x7fbfe0155850>\n",
      "conv2d_5 <keras.layers.convolutional.Conv2D object at 0x7fbfe0155950>\n",
      "conv2d_6 <keras.layers.convolutional.Conv2D object at 0x7fbfe0155a50>\n",
      "target_prev <keras.engine.input_layer.InputLayer object at 0x7fbfe0155b50>\n",
      "concatenate_3 <keras.layers.merge.Concatenate object at 0x7fbfe0155c50>\n",
      "conv2d_7 <keras.layers.convolutional.Conv2D object at 0x7fbfe0155b90>\n",
      "triangular_convolution2d_1 <utils.TriangularConvolution2D object at 0x7fbfe0155d90>\n",
      "lambda_9 <keras.layers.core.Lambda object at 0x7fbfe0155e10>\n",
      "ar_label <keras.layers.convolutional.Conv2D object at 0x7fbfe0155f90>\n",
      "fe <keras.layers.pooling.GlobalAveragePooling2D object at 0x7fbfe01680d0>\n"
     ]
    }
   ],
   "source": [
    "for l in model.model.layers:\n",
    "    print l.name, l"
   ]
  },
  {
   "cell_type": "code",
   "execution_count": 7,
   "metadata": {
    "scrolled": false
   },
   "outputs": [
    {
     "name": "stdout",
     "output_type": "stream",
     "text": [
      "__________________________________________________________________________________________________\n",
      "Layer (type)                    Output Shape         Param #     Connected to                     \n",
      "==================================================================================================\n",
      "input_org (InputLayer)          (None, None, 4)      0                                            \n",
      "__________________________________________________________________________________________________\n",
      "batch_normalization_1 (BatchNor (None, None, 4)      16          input_org[0][0]                  \n",
      "__________________________________________________________________________________________________\n",
      "batch_normalization_2 (BatchNor (None, None, 4)      16          input_org[0][0]                  \n",
      "__________________________________________________________________________________________________\n",
      "activation_1 (Activation)       (None, None, 4)      0           batch_normalization_1[0][0]      \n",
      "__________________________________________________________________________________________________\n",
      "activation_2 (Activation)       (None, None, 4)      0           batch_normalization_2[0][0]      \n",
      "__________________________________________________________________________________________________\n",
      "conv1d_1 (Conv1D)               (None, None, 256)    7424        activation_1[0][0]               \n",
      "__________________________________________________________________________________________________\n",
      "conv1d_2 (Conv1D)               (None, None, 256)    7424        activation_2[0][0]               \n",
      "__________________________________________________________________________________________________\n",
      "batch_normalization_3 (BatchNor (None, None, 256)    1024        conv1d_1[0][0]                   \n",
      "__________________________________________________________________________________________________\n",
      "batch_normalization_4 (BatchNor (None, None, 256)    1024        conv1d_2[0][0]                   \n",
      "__________________________________________________________________________________________________\n",
      "activation_3 (Activation)       (None, None, 256)    0           batch_normalization_3[0][0]      \n",
      "__________________________________________________________________________________________________\n",
      "activation_4 (Activation)       (None, None, 256)    0           batch_normalization_4[0][0]      \n",
      "__________________________________________________________________________________________________\n",
      "conv1d_3 (Conv1D)               (None, None, 256)    327936      activation_3[0][0]               \n",
      "__________________________________________________________________________________________________\n",
      "conv1d_4 (Conv1D)               (None, None, 256)    327936      activation_4[0][0]               \n",
      "__________________________________________________________________________________________________\n",
      "batch_normalization_5 (BatchNor (None, None, 256)    1024        conv1d_3[0][0]                   \n",
      "__________________________________________________________________________________________________\n",
      "batch_normalization_6 (BatchNor (None, None, 256)    1024        conv1d_4[0][0]                   \n",
      "__________________________________________________________________________________________________\n",
      "activation_5 (Activation)       (None, None, 256)    0           batch_normalization_5[0][0]      \n",
      "__________________________________________________________________________________________________\n",
      "activation_6 (Activation)       (None, None, 256)    0           batch_normalization_6[0][0]      \n",
      "__________________________________________________________________________________________________\n",
      "conv1d_5 (Conv1D)               (None, None, 256)    327936      activation_5[0][0]               \n",
      "__________________________________________________________________________________________________\n",
      "conv1d_6 (Conv1D)               (None, None, 256)    327936      activation_6[0][0]               \n",
      "__________________________________________________________________________________________________\n",
      "batch_normalization_7 (BatchNor (None, None, 256)    1024        conv1d_5[0][0]                   \n",
      "__________________________________________________________________________________________________\n",
      "batch_normalization_8 (BatchNor (None, None, 256)    1024        conv1d_6[0][0]                   \n",
      "__________________________________________________________________________________________________\n",
      "activation_7 (Activation)       (None, None, 256)    0           batch_normalization_7[0][0]      \n",
      "__________________________________________________________________________________________________\n",
      "activation_8 (Activation)       (None, None, 256)    0           batch_normalization_8[0][0]      \n",
      "__________________________________________________________________________________________________\n",
      "conv1d_7 (Conv1D)               (None, None, 256)    327936      activation_7[0][0]               \n",
      "__________________________________________________________________________________________________\n",
      "conv1d_8 (Conv1D)               (None, None, 256)    327936      activation_8[0][0]               \n",
      "__________________________________________________________________________________________________\n",
      "batch_normalization_9 (BatchNor (None, None, 256)    1024        conv1d_7[0][0]                   \n",
      "__________________________________________________________________________________________________\n",
      "batch_normalization_10 (BatchNo (None, None, 256)    1024        conv1d_8[0][0]                   \n",
      "__________________________________________________________________________________________________\n",
      "activation_9 (Activation)       (None, None, 256)    0           batch_normalization_9[0][0]      \n",
      "__________________________________________________________________________________________________\n",
      "activation_10 (Activation)      (None, None, 256)    0           batch_normalization_10[0][0]     \n",
      "__________________________________________________________________________________________________\n",
      "conv1d_9 (Conv1D)               (None, None, 256)    327936      activation_9[0][0]               \n",
      "__________________________________________________________________________________________________\n",
      "conv1d_10 (Conv1D)              (None, None, 256)    327936      activation_10[0][0]              \n",
      "__________________________________________________________________________________________________\n",
      "dot_1 (Dot)                     (None, None, None)   0           conv1d_1[0][0]                   \n",
      "                                                                 conv1d_2[0][0]                   \n",
      "__________________________________________________________________________________________________\n",
      "dot_2 (Dot)                     (None, None, None)   0           conv1d_3[0][0]                   \n",
      "                                                                 conv1d_4[0][0]                   \n",
      "__________________________________________________________________________________________________\n",
      "dot_3 (Dot)                     (None, None, None)   0           conv1d_5[0][0]                   \n",
      "                                                                 conv1d_6[0][0]                   \n",
      "__________________________________________________________________________________________________\n",
      "dot_4 (Dot)                     (None, None, None)   0           conv1d_7[0][0]                   \n",
      "                                                                 conv1d_8[0][0]                   \n",
      "__________________________________________________________________________________________________\n",
      "dot_5 (Dot)                     (None, None, None)   0           conv1d_9[0][0]                   \n",
      "                                                                 conv1d_10[0][0]                  \n",
      "__________________________________________________________________________________________________\n",
      "lambda_3 (Lambda)               (None, None, None)   0           dot_1[0][0]                      \n",
      "__________________________________________________________________________________________________\n",
      "lambda_4 (Lambda)               (None, None, None)   0           dot_2[0][0]                      \n",
      "__________________________________________________________________________________________________\n",
      "lambda_5 (Lambda)               (None, None, None)   0           dot_3[0][0]                      \n",
      "__________________________________________________________________________________________________\n",
      "lambda_6 (Lambda)               (None, None, None)   0           dot_4[0][0]                      \n",
      "__________________________________________________________________________________________________\n",
      "lambda_7 (Lambda)               (None, None, None)   0           dot_5[0][0]                      \n",
      "__________________________________________________________________________________________________\n",
      "lambda_1 (Lambda)               (None, None, None, 4 0           input_org[0][0]                  \n",
      "__________________________________________________________________________________________________\n",
      "lambda_2 (Lambda)               (None, None, None, 4 0           input_org[0][0]                  \n",
      "__________________________________________________________________________________________________\n",
      "lambda_8 (Lambda)               (None, None, None, 5 0           lambda_3[0][0]                   \n",
      "                                                                 lambda_4[0][0]                   \n",
      "                                                                 lambda_5[0][0]                   \n",
      "                                                                 lambda_6[0][0]                   \n",
      "                                                                 lambda_7[0][0]                   \n",
      "__________________________________________________________________________________________________\n",
      "concatenate_1 (Concatenate)     (None, None, None, 8 0           lambda_1[0][0]                   \n",
      "                                                                 lambda_2[0][0]                   \n",
      "__________________________________________________________________________________________________\n",
      "concatenate_2 (Concatenate)     (None, None, None, 1 0           lambda_8[0][0]                   \n",
      "                                                                 concatenate_1[0][0]              \n",
      "__________________________________________________________________________________________________\n",
      "conv2d_1 (Conv2D)               (None, None, None, 5 5900        concatenate_2[0][0]              \n",
      "__________________________________________________________________________________________________\n",
      "conv2d_2 (Conv2D)               (None, None, None, 5 90050       conv2d_1[0][0]                   \n",
      "__________________________________________________________________________________________________\n",
      "conv2d_3 (Conv2D)               (None, None, None, 5 90050       conv2d_2[0][0]                   \n",
      "__________________________________________________________________________________________________\n",
      "conv2d_4 (Conv2D)               (None, None, None, 5 202550      conv2d_3[0][0]                   \n",
      "__________________________________________________________________________________________________\n",
      "conv2d_5 (Conv2D)               (None, None, None, 5 722550      conv2d_4[0][0]                   \n",
      "__________________________________________________________________________________________________\n",
      "conv2d_6 (Conv2D)               (None, None, None, 5 722550      conv2d_5[0][0]                   \n",
      "__________________________________________________________________________________________________\n",
      "target_prev (InputLayer)        (None, None, None, 1 0                                            \n",
      "__________________________________________________________________________________________________\n",
      "concatenate_3 (Concatenate)     (None, None, None, 5 0           conv2d_6[0][0]                   \n",
      "                                                                 target_prev[0][0]                \n",
      "__________________________________________________________________________________________________\n",
      "conv2d_7 (Conv2D)               (None, None, None, 1 1837        concatenate_3[0][0]              \n",
      "__________________________________________________________________________________________________\n",
      "triangular_convolution2d_1 (Tri (None, None, None, 2 82640       concatenate_3[0][0]              \n",
      "__________________________________________________________________________________________________\n",
      "lambda_9 (Lambda)               (None, None, None, 1 0           conv2d_7[0][0]                   \n",
      "                                                                 target_prev[0][0]                \n",
      "__________________________________________________________________________________________________\n",
      "ar_label (Conv2D)               (None, None, None, 1 21          triangular_convolution2d_1[0][0] \n",
      "__________________________________________________________________________________________________\n",
      "fe (GlobalAveragePooling2D)     (None, 1)            0           lambda_9[0][0]                   \n",
      "==================================================================================================\n",
      "Total params: 4,564,708\n",
      "Trainable params: 4,560,596\n",
      "Non-trainable params: 4,112\n",
      "__________________________________________________________________________________________________\n"
     ]
    }
   ],
   "source": [
    "# model.model.summary(line_length=150)\n",
    "model.model.summary()"
   ]
  },
  {
   "cell_type": "code",
   "execution_count": 8,
   "metadata": {},
   "outputs": [
    {
     "data": {
      "text/plain": [
       "u'lambda_9'"
      ]
     },
     "execution_count": 8,
     "metadata": {},
     "output_type": "execute_result"
    }
   ],
   "source": [
    "model.model.layers[-3].name"
   ]
  },
  {
   "cell_type": "code",
   "execution_count": 9,
   "metadata": {},
   "outputs": [],
   "source": [
    "layer_input_org = next(l for l in model.model.layers if l.name == 'input_org')\n",
    "layer_final_hidden = next(l for l in model.model.layers if l.name == 'conv2d_6')\n",
    "\n",
    "layer_target_prev = next(l for l in model.model.layers if l.name == 'target_prev')\n",
    "layer_concat = next(l for l in model.model.layers if l.name == 'concatenate_3')\n",
    "layer_tri_conv = next(l for l in model.model.layers if l.name == 'triangular_convolution2d_1')\n",
    "layer_ar_label = next(l for l in model.model.layers if l.name == 'ar_label')\n",
    "layer_conv_fe = next(l for l in model.model.layers if l.name == 'conv2d_7')\n",
    "layer_mask_fe = next(l for l in model.model.layers if l.name == 'lambda_9')\n",
    "layer_fe = next(l for l in model.model.layers if l.name == 'fe')"
   ]
  },
  {
   "cell_type": "code",
   "execution_count": 10,
   "metadata": {},
   "outputs": [],
   "source": [
    "# model1 = keras.models.Model(input=layer_input_org.input,\n",
    "#                            output=layer_final_hidden.output)\n"
   ]
  },
  {
   "cell_type": "code",
   "execution_count": 11,
   "metadata": {},
   "outputs": [],
   "source": [
    "# model1.summary()"
   ]
  },
  {
   "cell_type": "code",
   "execution_count": 12,
   "metadata": {},
   "outputs": [
    {
     "name": "stderr",
     "output_type": "stream",
     "text": [
      "/Users/alicegao/anaconda2/envs/dg_work_py2/lib/python2.7/site-packages/ipykernel_launcher.py:4: UserWarning: Update your `Model` call to the Keras 2 API: `Model(outputs=[<tf.Tenso..., inputs=[<tf.Tenso...)`\n",
      "  after removing the cwd from sys.path.\n",
      "/Users/alicegao/anaconda2/envs/dg_work_py2/lib/python2.7/site-packages/ipykernel_launcher.py:11: UserWarning: Update your `Model` call to the Keras 2 API: `Model(outputs=Tensor(\"ar..., inputs=[<tf.Tenso...)`\n",
      "  # This is added back by InteractiveShellApp.init_path()\n"
     ]
    }
   ],
   "source": [
    "\n",
    "\n",
    "model1 = keras.models.Model(input=[layer_input_org.input, layer_target_prev.input],\n",
    "                            output=[layer_final_hidden.output, layer_fe.output])\n",
    "\n",
    "new_input = keras.layers.Input(layer_final_hidden.input_shape[1:])\n",
    "new_hid = layer_concat([new_input, layer_target_prev.input])\n",
    "new_output = layer_tri_conv(new_hid)\n",
    "new_output = layer_ar_label(new_output)\n",
    "model2 = keras.models.Model(input=[new_input, layer_target_prev.input],\n",
    "                            output=new_output)"
   ]
  },
  {
   "cell_type": "code",
   "execution_count": 13,
   "metadata": {},
   "outputs": [
    {
     "name": "stdout",
     "output_type": "stream",
     "text": [
      "__________________________________________________________________________________________________\n",
      "Layer (type)                    Output Shape         Param #     Connected to                     \n",
      "==================================================================================================\n",
      "input_1 (InputLayer)            (None, None, None, 5 0                                            \n",
      "__________________________________________________________________________________________________\n",
      "target_prev (InputLayer)        (None, None, None, 1 0                                            \n",
      "__________________________________________________________________________________________________\n",
      "concatenate_3 (Concatenate)     (None, None, None, 5 0           input_1[0][0]                    \n",
      "                                                                 target_prev[0][0]                \n",
      "__________________________________________________________________________________________________\n",
      "triangular_convolution2d_1 (Tri (None, None, None, 2 82640       concatenate_3[1][0]              \n",
      "__________________________________________________________________________________________________\n",
      "ar_label (Conv2D)               (None, None, None, 1 21          triangular_convolution2d_1[1][0] \n",
      "==================================================================================================\n",
      "Total params: 82,661\n",
      "Trainable params: 82,661\n",
      "Non-trainable params: 0\n",
      "__________________________________________________________________________________________________\n"
     ]
    }
   ],
   "source": [
    "model2.summary()"
   ]
  },
  {
   "cell_type": "code",
   "execution_count": null,
   "metadata": {},
   "outputs": [],
   "source": [
    "\n",
    "\n"
   ]
  },
  {
   "cell_type": "code",
   "execution_count": null,
   "metadata": {},
   "outputs": [],
   "source": [
    "# new_input1 = keras.layers.Input(layer_final_hidden.input_shape[1:])\n",
    "# # new_input2 = keras.layers.Input(layer_target_prev.input_shape[1:])\n",
    "# new_hid = layer_concat([new_input1, layer_target_prev.input])\n",
    "# new_output1 = layer_tri_conv(new_hid)\n",
    "# new_output1 = layer_ar_label(new_output1)\n",
    "# new_output2 = layer_conv_fe(new_hid)\n",
    "# new_output2 = layer_mask_fe(new_output2)  # FIXME: TF not happy with this layer =() \n",
    "# new_output2 = layer_fe(new_output2)\n",
    "\n",
    "# model2 = keras.models.Model(input=[new_input1, new_input2],\n",
    "#                             output=[new_output1, new_output2])\n",
    "# # model2 = keras.models.Model(input=model.model.layers[-4].input,\n",
    "# #                             output=model.model.layers[-2].output)"
   ]
  },
  {
   "cell_type": "code",
   "execution_count": null,
   "metadata": {},
   "outputs": [],
   "source": []
  }
 ],
 "metadata": {
  "kernelspec": {
   "display_name": "Python 2",
   "language": "python",
   "name": "python2"
  },
  "language_info": {
   "codemirror_mode": {
    "name": "ipython",
    "version": 2
   },
   "file_extension": ".py",
   "mimetype": "text/x-python",
   "name": "python",
   "nbconvert_exporter": "python",
   "pygments_lexer": "ipython2",
   "version": "2.7.16"
  }
 },
 "nbformat": 4,
 "nbformat_minor": 2
}
