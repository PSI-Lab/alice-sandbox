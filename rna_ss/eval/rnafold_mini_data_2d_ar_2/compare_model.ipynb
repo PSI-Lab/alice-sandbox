{
 "cells": [
  {
   "cell_type": "code",
   "execution_count": 1,
   "metadata": {},
   "outputs": [],
   "source": [
    "import numpy as np\n",
    "import pandas as pd\n",
    "from dgutils.pandas import add_column, add_columns"
   ]
  },
  {
   "cell_type": "code",
   "execution_count": 2,
   "metadata": {},
   "outputs": [
    {
     "name": "stderr",
     "output_type": "stream",
     "text": [
      "Using TensorFlow backend.\n"
     ]
    }
   ],
   "source": [
    "from utils import forna_url"
   ]
  },
  {
   "cell_type": "code",
   "execution_count": 3,
   "metadata": {},
   "outputs": [],
   "source": [
    "df_rnafold = pd.read_pickle('result/prediction.rfam.rnafold.pkl')\n",
    "df_model = pd.read_pickle('result/prediction.rfam.2019_09_12_1.sample20.pkl')"
   ]
  },
  {
   "cell_type": "code",
   "execution_count": 4,
   "metadata": {},
   "outputs": [],
   "source": [
    "def pick_metric(sensitivity, ppv, logps):\n",
    "    idx = np.argmax(logps)\n",
    "    return sensitivity[idx], ppv[idx]"
   ]
  },
  {
   "cell_type": "code",
   "execution_count": 5,
   "metadata": {},
   "outputs": [],
   "source": [
    "def pick_metric_3(sensitivity, ppv, fe):\n",
    "    idx = np.argmin(fe)\n",
    "    return sensitivity[idx], ppv[idx]"
   ]
  },
  {
   "cell_type": "code",
   "execution_count": 7,
   "metadata": {},
   "outputs": [
    {
     "ename": "NameError",
     "evalue": "name 'add_columns' is not defined",
     "output_type": "error",
     "traceback": [
      "\u001b[0;31m---------------------------------------------------------------------------\u001b[0m",
      "\u001b[0;31mNameError\u001b[0m                                 Traceback (most recent call last)",
      "\u001b[0;32m<ipython-input-7-e2bd1a35fe07>\u001b[0m in \u001b[0;36m<module>\u001b[0;34m()\u001b[0m\n\u001b[0;32m----> 1\u001b[0;31m df_model = add_columns(df_model, ['sensitivity_max', 'sensitivity_median'], \n\u001b[0m\u001b[1;32m      2\u001b[0m                      ['sensitivity'], lambda x: (np.nanmax(x), np.nanmedian(x)))\n\u001b[1;32m      3\u001b[0m df_model = add_columns(df_model, ['ppv_max', 'ppv_median'],\n\u001b[1;32m      4\u001b[0m                     ['ppv'], lambda x: (np.nanmax(x), np.nanmedian(x)))\n\u001b[1;32m      5\u001b[0m \u001b[0;31m# logp\u001b[0m\u001b[0;34m\u001b[0m\u001b[0;34m\u001b[0m\u001b[0m\n",
      "\u001b[0;31mNameError\u001b[0m: name 'add_columns' is not defined"
     ]
    }
   ],
   "source": [
    "df_model = add_columns(df_model, ['sensitivity_max', 'sensitivity_median'], \n",
    "                     ['sensitivity'], lambda x: (np.nanmax(x), np.nanmedian(x)))\n",
    "df_model = add_columns(df_model, ['ppv_max', 'ppv_median'],\n",
    "                    ['ppv'], lambda x: (np.nanmax(x), np.nanmedian(x)))\n",
    "# logp\n",
    "df_model = add_columns(df_model, ['sensitivity_mp', 'ppv_mp'], \n",
    "                       ['sensitivity', 'ppv', 'logp'], pick_metric)\n",
    "\n",
    "# predicted fe\n",
    "df_model = add_columns(df_model, ['sensitivity_mfe', 'ppv_mfe'], \n",
    "                       ['sensitivity', 'ppv', 'fe'], pick_metric_3)"
   ]
  },
  {
   "cell_type": "code",
   "execution_count": null,
   "metadata": {},
   "outputs": [],
   "source": []
  },
  {
   "cell_type": "code",
   "execution_count": null,
   "metadata": {},
   "outputs": [],
   "source": [
    "df_rfam.describe()"
   ]
  }
 ],
 "metadata": {
  "kernelspec": {
   "display_name": "Python 2",
   "language": "python",
   "name": "python2"
  },
  "language_info": {
   "codemirror_mode": {
    "name": "ipython",
    "version": 2
   },
   "file_extension": ".py",
   "mimetype": "text/x-python",
   "name": "python",
   "nbconvert_exporter": "python",
   "pygments_lexer": "ipython2",
   "version": "2.7.16"
  }
 },
 "nbformat": 4,
 "nbformat_minor": 2
}
