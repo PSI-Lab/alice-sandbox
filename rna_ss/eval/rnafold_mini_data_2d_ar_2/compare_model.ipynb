{
 "cells": [
  {
   "cell_type": "code",
   "execution_count": 1,
   "metadata": {},
   "outputs": [
    {
     "data": {
      "text/html": [
       "<style>.container { width:100% !important; }</style>"
      ],
      "text/plain": [
       "<IPython.core.display.HTML object>"
      ]
     },
     "metadata": {},
     "output_type": "display_data"
    }
   ],
   "source": [
    "from IPython.core.display import display, HTML\n",
    "display(HTML(\"<style>.container { width:100% !important; }</style>\"))"
   ]
  },
  {
   "cell_type": "code",
   "execution_count": 2,
   "metadata": {},
   "outputs": [
    {
     "name": "stderr",
     "output_type": "stream",
     "text": [
      "/Users/alicegao/anaconda2/envs/dg_work_py2/lib/python2.7/site-packages/tqdm/autonotebook/__init__.py:14: TqdmExperimentalWarning: Using `tqdm.autonotebook.tqdm` in notebook mode. Use `tqdm.tqdm` instead to force console mode (e.g. in jupyter console)\n",
      "  \" (e.g. in jupyter console)\", TqdmExperimentalWarning)\n"
     ]
    }
   ],
   "source": [
    "import numpy as np\n",
    "import pandas as pd\n",
    "from dgutils.pandas import add_column, add_columns"
   ]
  },
  {
   "cell_type": "code",
   "execution_count": 4,
   "metadata": {},
   "outputs": [
    {
     "name": "stderr",
     "output_type": "stream",
     "text": [
      "/Users/alicegao/anaconda2/envs/dg_work_py2/lib/python2.7/site-packages/scipy/sparse/lil.py:19: RuntimeWarning:\n",
      "\n",
      "numpy.ufunc size changed, may indicate binary incompatibility. Expected 192 from C header, got 216 from PyObject\n",
      "\n",
      "/Users/alicegao/anaconda2/envs/dg_work_py2/lib/python2.7/site-packages/scipy/sparse/csgraph/__init__.py:182: RuntimeWarning:\n",
      "\n",
      "numpy.ufunc size changed, may indicate binary incompatibility. Expected 192 from C header, got 216 from PyObject\n",
      "\n",
      "/Users/alicegao/anaconda2/envs/dg_work_py2/lib/python2.7/site-packages/scipy/sparse/csgraph/_validation.py:5: RuntimeWarning:\n",
      "\n",
      "numpy.ufunc size changed, may indicate binary incompatibility. Expected 192 from C header, got 216 from PyObject\n",
      "\n",
      "/Users/alicegao/anaconda2/envs/dg_work_py2/lib/python2.7/site-packages/scipy/sparse/csgraph/__init__.py:184: RuntimeWarning:\n",
      "\n",
      "numpy.ufunc size changed, may indicate binary incompatibility. Expected 192 from C header, got 216 from PyObject\n",
      "\n",
      "/Users/alicegao/anaconda2/envs/dg_work_py2/lib/python2.7/site-packages/scipy/sparse/csgraph/__init__.py:186: RuntimeWarning:\n",
      "\n",
      "numpy.ufunc size changed, may indicate binary incompatibility. Expected 192 from C header, got 216 from PyObject\n",
      "\n",
      "/Users/alicegao/anaconda2/envs/dg_work_py2/lib/python2.7/site-packages/scipy/sparse/csgraph/__init__.py:187: RuntimeWarning:\n",
      "\n",
      "numpy.ufunc size changed, may indicate binary incompatibility. Expected 192 from C header, got 216 from PyObject\n",
      "\n",
      "/Users/alicegao/anaconda2/envs/dg_work_py2/lib/python2.7/site-packages/scipy/spatial/__init__.py:99: RuntimeWarning:\n",
      "\n",
      "numpy.ufunc size changed, may indicate binary incompatibility. Expected 192 from C header, got 216 from PyObject\n",
      "\n",
      "/Users/alicegao/anaconda2/envs/dg_work_py2/lib/python2.7/site-packages/scipy/spatial/__init__.py:100: RuntimeWarning:\n",
      "\n",
      "numpy.ufunc size changed, may indicate binary incompatibility. Expected 192 from C header, got 216 from PyObject\n",
      "\n",
      "/Users/alicegao/anaconda2/envs/dg_work_py2/lib/python2.7/site-packages/scipy/spatial/_spherical_voronoi.py:17: RuntimeWarning:\n",
      "\n",
      "numpy.ufunc size changed, may indicate binary incompatibility. Expected 192 from C header, got 216 from PyObject\n",
      "\n",
      "/Users/alicegao/anaconda2/envs/dg_work_py2/lib/python2.7/site-packages/scipy/spatial/distance.py:124: RuntimeWarning:\n",
      "\n",
      "numpy.ufunc size changed, may indicate binary incompatibility. Expected 192 from C header, got 216 from PyObject\n",
      "\n",
      "/Users/alicegao/anaconda2/envs/dg_work_py2/lib/python2.7/site-packages/scipy/linalg/basic.py:17: RuntimeWarning:\n",
      "\n",
      "numpy.ufunc size changed, may indicate binary incompatibility. Expected 192 from C header, got 216 from PyObject\n",
      "\n",
      "/Users/alicegao/anaconda2/envs/dg_work_py2/lib/python2.7/site-packages/scipy/linalg/__init__.py:207: RuntimeWarning:\n",
      "\n",
      "numpy.ufunc size changed, may indicate binary incompatibility. Expected 192 from C header, got 216 from PyObject\n",
      "\n",
      "/Users/alicegao/anaconda2/envs/dg_work_py2/lib/python2.7/site-packages/scipy/special/__init__.py:641: RuntimeWarning:\n",
      "\n",
      "numpy.ufunc size changed, may indicate binary incompatibility. Expected 192 from C header, got 216 from PyObject\n",
      "\n",
      "/Users/alicegao/anaconda2/envs/dg_work_py2/lib/python2.7/site-packages/scipy/special/_ellip_harm.py:6: RuntimeWarning:\n",
      "\n",
      "numpy.ufunc size changed, may indicate binary incompatibility. Expected 192 from C header, got 216 from PyObject\n",
      "\n",
      "/Users/alicegao/anaconda2/envs/dg_work_py2/lib/python2.7/site-packages/scipy/cluster/vq.py:77: RuntimeWarning:\n",
      "\n",
      "numpy.ufunc size changed, may indicate binary incompatibility. Expected 192 from C header, got 216 from PyObject\n",
      "\n",
      "/Users/alicegao/anaconda2/envs/dg_work_py2/lib/python2.7/site-packages/scipy/cluster/hierarchy.py:178: RuntimeWarning:\n",
      "\n",
      "numpy.ufunc size changed, may indicate binary incompatibility. Expected 192 from C header, got 216 from PyObject\n",
      "\n",
      "/Users/alicegao/anaconda2/envs/dg_work_py2/lib/python2.7/site-packages/scipy/interpolate/_bsplines.py:10: RuntimeWarning:\n",
      "\n",
      "numpy.ufunc size changed, may indicate binary incompatibility. Expected 192 from C header, got 216 from PyObject\n",
      "\n",
      "/Users/alicegao/anaconda2/envs/dg_work_py2/lib/python2.7/site-packages/scipy/optimize/_trlib/__init__.py:1: RuntimeWarning:\n",
      "\n",
      "numpy.ufunc size changed, may indicate binary incompatibility. Expected 192 from C header, got 216 from PyObject\n",
      "\n",
      "/Users/alicegao/anaconda2/envs/dg_work_py2/lib/python2.7/site-packages/scipy/optimize/_numdiff.py:10: RuntimeWarning:\n",
      "\n",
      "numpy.ufunc size changed, may indicate binary incompatibility. Expected 192 from C header, got 216 from PyObject\n",
      "\n",
      "/Users/alicegao/anaconda2/envs/dg_work_py2/lib/python2.7/site-packages/scipy/stats/_continuous_distns.py:22: RuntimeWarning:\n",
      "\n",
      "numpy.ufunc size changed, may indicate binary incompatibility. Expected 192 from C header, got 216 from PyObject\n",
      "\n"
     ]
    },
    {
     "data": {
      "text/html": [
       "<script type=\"text/javascript\">window.PlotlyConfig = {MathJaxConfig: 'local'};</script><script type=\"text/javascript\">if (window.MathJax) {MathJax.Hub.Config({SVG: {font: \"STIX-Web\"}});}</script><script>requirejs.config({paths: { 'plotly': ['https://cdn.plot.ly/plotly-latest.min']},});if(!window._Plotly) {require(['plotly'],function(plotly) {window._Plotly=plotly;});}</script>"
      ],
      "text/vnd.plotly.v1+html": [
       "<script type=\"text/javascript\">window.PlotlyConfig = {MathJaxConfig: 'local'};</script><script type=\"text/javascript\">if (window.MathJax) {MathJax.Hub.Config({SVG: {font: \"STIX-Web\"}});}</script><script>requirejs.config({paths: { 'plotly': ['https://cdn.plot.ly/plotly-latest.min']},});if(!window._Plotly) {require(['plotly'],function(plotly) {window._Plotly=plotly;});}</script>"
      ]
     },
     "metadata": {},
     "output_type": "display_data"
    },
    {
     "data": {
      "text/html": [
       "<script type=\"text/javascript\">window.PlotlyConfig = {MathJaxConfig: 'local'};</script><script type=\"text/javascript\">if (window.MathJax) {MathJax.Hub.Config({SVG: {font: \"STIX-Web\"}});}</script><script>requirejs.config({paths: { 'plotly': ['https://cdn.plot.ly/plotly-latest.min']},});if(!window._Plotly) {require(['plotly'],function(plotly) {window._Plotly=plotly;});}</script>"
      ],
      "text/vnd.plotly.v1+html": [
       "<script type=\"text/javascript\">window.PlotlyConfig = {MathJaxConfig: 'local'};</script><script type=\"text/javascript\">if (window.MathJax) {MathJax.Hub.Config({SVG: {font: \"STIX-Web\"}});}</script><script>requirejs.config({paths: { 'plotly': ['https://cdn.plot.ly/plotly-latest.min']},});if(!window._Plotly) {require(['plotly'],function(plotly) {window._Plotly=plotly;});}</script>"
      ]
     },
     "metadata": {},
     "output_type": "display_data"
    }
   ],
   "source": [
    "import matplotlib.pyplot as plt \n",
    "# import seaborn as sns\n",
    "import numpy as np\n",
    "import pandas as pd\n",
    "# sns.set(color_codes=True)\n",
    "import cufflinks as cf\n",
    "cf.go_offline()\n",
    "cf.set_config_file(theme='ggplot')\n",
    "import plotly\n",
    "from plotly.offline import download_plotlyjs, init_notebook_mode, plot, iplot\n",
    "import plotly.tools as tls\n",
    "import plotly.graph_objs as go\n",
    "import plotly.figure_factory as ff\n",
    "init_notebook_mode(connected=True)"
   ]
  },
  {
   "cell_type": "code",
   "execution_count": 5,
   "metadata": {},
   "outputs": [
    {
     "name": "stderr",
     "output_type": "stream",
     "text": [
      "Using TensorFlow backend.\n",
      "/Users/alicegao/anaconda2/envs/dg_work_py2/lib/python2.7/site-packages/tensorflow/python/framework/tensor_util.py:32: RuntimeWarning:\n",
      "\n",
      "numpy.ufunc size changed, may indicate binary incompatibility. Expected 216, got 192\n",
      "\n",
      "/Users/alicegao/anaconda2/envs/dg_work_py2/lib/python2.7/site-packages/scipy/ndimage/measurements.py:36: RuntimeWarning:\n",
      "\n",
      "numpy.ufunc size changed, may indicate binary incompatibility. Expected 192 from C header, got 216 from PyObject\n",
      "\n"
     ]
    }
   ],
   "source": [
    "from utils import forna_url, arr2db, EvalMetric, rna_eval_fe"
   ]
  },
  {
   "cell_type": "code",
   "execution_count": 6,
   "metadata": {},
   "outputs": [],
   "source": [
    "df_rnafold = pd.read_pickle('result/prediction.rfam.rnafold.pkl')\n",
    "df_model = pd.read_pickle('result/prediction.rfam.2019_09_12_1.sample20.pkl')  \n",
    "\n",
    "\n",
    "# df_rnafold = pd.read_pickle('result/prediction.s_test.rnafold.pkl')\n",
    "# df_model = pd.read_pickle('result/prediction.s_test.2019_09_12_1.sample20.pkl')  "
   ]
  },
  {
   "cell_type": "code",
   "execution_count": 7,
   "metadata": {},
   "outputs": [],
   "source": [
    "def pick_metric(sensitivity, ppv, logps):\n",
    "    idx = np.argmax(logps)\n",
    "    return sensitivity[idx], ppv[idx]"
   ]
  },
  {
   "cell_type": "code",
   "execution_count": 8,
   "metadata": {},
   "outputs": [],
   "source": [
    "def pick_metric_3(sensitivity, ppv, f_measure, fe):\n",
    "    idx = np.argmin(fe)\n",
    "    return sensitivity[idx], ppv[idx], f_measure[idx]"
   ]
  },
  {
   "cell_type": "code",
   "execution_count": 9,
   "metadata": {},
   "outputs": [],
   "source": [
    "def make_arr(l, one_idx):\n",
    "    x = np.zeros((l, l))\n",
    "    x[one_idx] = 1\n",
    "    return x"
   ]
  },
  {
   "cell_type": "code",
   "execution_count": null,
   "metadata": {},
   "outputs": [],
   "source": []
  },
  {
   "cell_type": "code",
   "execution_count": 10,
   "metadata": {},
   "outputs": [
    {
     "data": {
      "application/vnd.jupyter.widget-view+json": {
       "model_id": "dbd57f4e11134bfdb9c304b86afb4eb5",
       "version_major": 2,
       "version_minor": 0
      },
      "text/plain": [
       "HBox(children=(IntProgress(value=1, bar_style=u'info', max=1), HTML(value=u'')))"
      ]
     },
     "metadata": {},
     "output_type": "display_data"
    },
    {
     "name": "stdout",
     "output_type": "stream",
     "text": [
      "\n"
     ]
    },
    {
     "data": {
      "application/vnd.jupyter.widget-view+json": {
       "model_id": "a2d659f1f92b4ba28f59656506dd2d77",
       "version_major": 2,
       "version_minor": 0
      },
      "text/plain": [
       "HBox(children=(IntProgress(value=1, bar_style=u'info', max=1), HTML(value=u'')))"
      ]
     },
     "metadata": {},
     "output_type": "display_data"
    },
    {
     "name": "stdout",
     "output_type": "stream",
     "text": [
      "\n"
     ]
    },
    {
     "data": {
      "application/vnd.jupyter.widget-view+json": {
       "model_id": "dbfa63639944495eb7954e8ccbeb5356",
       "version_major": 2,
       "version_minor": 0
      },
      "text/plain": [
       "HBox(children=(IntProgress(value=1, bar_style=u'info', max=1), HTML(value=u'')))"
      ]
     },
     "metadata": {},
     "output_type": "display_data"
    },
    {
     "name": "stdout",
     "output_type": "stream",
     "text": [
      "\n"
     ]
    },
    {
     "name": "stderr",
     "output_type": "stream",
     "text": [
      "/Users/alicegao/anaconda2/envs/dg_work_py2/lib/python2.7/site-packages/ipykernel_launcher.py:6: RuntimeWarning:\n",
      "\n",
      "All-NaN axis encountered\n",
      "\n",
      "/Users/alicegao/anaconda2/envs/dg_work_py2/lib/python2.7/site-packages/numpy/lib/function_base.py:3405: RuntimeWarning:\n",
      "\n",
      "All-NaN slice encountered\n",
      "\n"
     ]
    },
    {
     "data": {
      "application/vnd.jupyter.widget-view+json": {
       "model_id": "60d65e57b5df4ff6a31434d32a0478a6",
       "version_major": 2,
       "version_minor": 0
      },
      "text/plain": [
       "HBox(children=(IntProgress(value=1, bar_style=u'info', max=1), HTML(value=u'')))"
      ]
     },
     "metadata": {},
     "output_type": "display_data"
    },
    {
     "name": "stdout",
     "output_type": "stream",
     "text": [
      "\n"
     ]
    },
    {
     "data": {
      "application/vnd.jupyter.widget-view+json": {
       "model_id": "ed57b75c89eb4919a5eef73bf565e7be",
       "version_major": 2,
       "version_minor": 0
      },
      "text/plain": [
       "HBox(children=(IntProgress(value=1, bar_style=u'info', max=1), HTML(value=u'')))"
      ]
     },
     "metadata": {},
     "output_type": "display_data"
    },
    {
     "name": "stdout",
     "output_type": "stream",
     "text": [
      "\n"
     ]
    }
   ],
   "source": [
    "df_model = add_columns(df_model, ['sensitivity_max', 'sensitivity_median'], \n",
    "                     ['sensitivity'], lambda x: (np.nanmax(x), np.nanmedian(x)))\n",
    "df_model = add_columns(df_model, ['ppv_max', 'ppv_median'],\n",
    "                    ['ppv'], lambda x: (np.nanmax(x), np.nanmedian(x)))\n",
    "df_model = add_columns(df_model, ['f_measure_max', 'f_measure_median'],\n",
    "                    ['f_measure'], lambda x: (np.nanmax(x), np.nanmedian(x)))\n",
    "# logp\n",
    "df_model = add_columns(df_model, ['sensitivity_mp', 'ppv_mp'], \n",
    "                       ['sensitivity', 'ppv', 'logp'], pick_metric)\n",
    "\n",
    "# predicted fe\n",
    "df_model = add_columns(df_model, ['sensitivity_mfe', 'ppv_mfe', 'f_measure_mfe'], \n",
    "                       ['sensitivity', 'ppv', 'f_measure', 'fe'], pick_metric_3)"
   ]
  },
  {
   "cell_type": "code",
   "execution_count": 11,
   "metadata": {},
   "outputs": [
    {
     "data": {
      "application/vnd.jupyter.widget-view+json": {
       "model_id": "8c1d4fd9a70d4fcdb2306cc0bba0cc9b",
       "version_major": 2,
       "version_minor": 0
      },
      "text/plain": [
       "HBox(children=(IntProgress(value=1, bar_style=u'info', max=1), HTML(value=u'')))"
      ]
     },
     "metadata": {},
     "output_type": "display_data"
    },
    {
     "name": "stdout",
     "output_type": "stream",
     "text": [
      "\n"
     ]
    },
    {
     "data": {
      "application/vnd.jupyter.widget-view+json": {
       "model_id": "8ada85b77b154c26a9cbc5df096ce400",
       "version_major": 2,
       "version_minor": 0
      },
      "text/plain": [
       "HBox(children=(IntProgress(value=1, bar_style=u'info', max=1), HTML(value=u'')))"
      ]
     },
     "metadata": {},
     "output_type": "display_data"
    },
    {
     "name": "stdout",
     "output_type": "stream",
     "text": [
      "\n"
     ]
    },
    {
     "data": {
      "application/vnd.jupyter.widget-view+json": {
       "model_id": "e106467af1574bbd8cc0533a4522c726",
       "version_major": 2,
       "version_minor": 0
      },
      "text/plain": [
       "HBox(children=(IntProgress(value=1, bar_style=u'info', max=1), HTML(value=u'')))"
      ]
     },
     "metadata": {},
     "output_type": "display_data"
    },
    {
     "name": "stdout",
     "output_type": "stream",
     "text": [
      "\n"
     ]
    },
    {
     "name": "stderr",
     "output_type": "stream",
     "text": [
      "/Users/alicegao/anaconda2/envs/dg_work_py2/lib/python2.7/site-packages/ipykernel_launcher.py:6: RuntimeWarning:\n",
      "\n",
      "All-NaN axis encountered\n",
      "\n"
     ]
    }
   ],
   "source": [
    "df_rnafold = add_columns(df_rnafold, ['sensitivity_max', 'sensitivity_median'], \n",
    "                     ['sensitivity'], lambda x: (np.nanmax(x), np.nanmedian(x)))\n",
    "df_rnafold = add_columns(df_rnafold, ['ppv_max', 'ppv_median'],\n",
    "                    ['ppv'], lambda x: (np.nanmax(x), np.nanmedian(x)))\n",
    "df_rnafold = add_columns(df_rnafold, ['f_measure_max', 'f_measure_median'],\n",
    "                    ['f_measure'], lambda x: (np.nanmax(x), np.nanmedian(x)))"
   ]
  },
  {
   "cell_type": "code",
   "execution_count": null,
   "metadata": {},
   "outputs": [],
   "source": []
  },
  {
   "cell_type": "code",
   "execution_count": 12,
   "metadata": {},
   "outputs": [
    {
     "data": {
      "text/html": [
       "<div>\n",
       "<style scoped>\n",
       "    .dataframe tbody tr th:only-of-type {\n",
       "        vertical-align: middle;\n",
       "    }\n",
       "\n",
       "    .dataframe tbody tr th {\n",
       "        vertical-align: top;\n",
       "    }\n",
       "\n",
       "    .dataframe thead th {\n",
       "        text-align: right;\n",
       "    }\n",
       "</style>\n",
       "<table border=\"1\" class=\"dataframe\">\n",
       "  <thead>\n",
       "    <tr style=\"text-align: right;\">\n",
       "      <th></th>\n",
       "      <th>ens_div</th>\n",
       "      <th>f_measure_max</th>\n",
       "      <th>f_measure_median</th>\n",
       "      <th>len</th>\n",
       "      <th>mfe_f_measure</th>\n",
       "      <th>mfe_fe</th>\n",
       "      <th>mfe_freq</th>\n",
       "      <th>mfe_ppv</th>\n",
       "      <th>mfe_sensitivity</th>\n",
       "      <th>ppv_max</th>\n",
       "      <th>ppv_median</th>\n",
       "      <th>sensitivity_max</th>\n",
       "      <th>sensitivity_median</th>\n",
       "    </tr>\n",
       "  </thead>\n",
       "  <tbody>\n",
       "    <tr>\n",
       "      <th>count</th>\n",
       "      <td>151.000000</td>\n",
       "      <td>150.000000</td>\n",
       "      <td>150.000000</td>\n",
       "      <td>151.000000</td>\n",
       "      <td>142.000000</td>\n",
       "      <td>151.000000</td>\n",
       "      <td>1.510000e+02</td>\n",
       "      <td>151.000000</td>\n",
       "      <td>151.000000</td>\n",
       "      <td>151.000000</td>\n",
       "      <td>151.000000</td>\n",
       "      <td>151.000000</td>\n",
       "      <td>151.000000</td>\n",
       "    </tr>\n",
       "    <tr>\n",
       "      <th>mean</th>\n",
       "      <td>21.908609</td>\n",
       "      <td>0.810554</td>\n",
       "      <td>0.635495</td>\n",
       "      <td>136.298013</td>\n",
       "      <td>0.659045</td>\n",
       "      <td>-47.071523</td>\n",
       "      <td>1.363256e-01</td>\n",
       "      <td>0.573774</td>\n",
       "      <td>0.695547</td>\n",
       "      <td>0.767486</td>\n",
       "      <td>0.566519</td>\n",
       "      <td>0.887596</td>\n",
       "      <td>0.688553</td>\n",
       "    </tr>\n",
       "    <tr>\n",
       "      <th>std</th>\n",
       "      <td>23.867984</td>\n",
       "      <td>0.198680</td>\n",
       "      <td>0.238374</td>\n",
       "      <td>102.036451</td>\n",
       "      <td>0.256173</td>\n",
       "      <td>41.805627</td>\n",
       "      <td>1.860683e-01</td>\n",
       "      <td>0.295790</td>\n",
       "      <td>0.302021</td>\n",
       "      <td>0.241757</td>\n",
       "      <td>0.269912</td>\n",
       "      <td>0.173274</td>\n",
       "      <td>0.272512</td>\n",
       "    </tr>\n",
       "    <tr>\n",
       "      <th>min</th>\n",
       "      <td>0.290000</td>\n",
       "      <td>0.215385</td>\n",
       "      <td>0.082192</td>\n",
       "      <td>23.000000</td>\n",
       "      <td>0.082192</td>\n",
       "      <td>-243.200000</td>\n",
       "      <td>6.975520e-09</td>\n",
       "      <td>0.000000</td>\n",
       "      <td>0.000000</td>\n",
       "      <td>0.000000</td>\n",
       "      <td>0.000000</td>\n",
       "      <td>0.000000</td>\n",
       "      <td>0.000000</td>\n",
       "    </tr>\n",
       "    <tr>\n",
       "      <th>25%</th>\n",
       "      <td>5.845000</td>\n",
       "      <td>0.693473</td>\n",
       "      <td>0.477381</td>\n",
       "      <td>67.000000</td>\n",
       "      <td>0.455164</td>\n",
       "      <td>-54.250000</td>\n",
       "      <td>8.352240e-03</td>\n",
       "      <td>0.348573</td>\n",
       "      <td>0.506250</td>\n",
       "      <td>0.604124</td>\n",
       "      <td>0.374447</td>\n",
       "      <td>0.818182</td>\n",
       "      <td>0.529195</td>\n",
       "    </tr>\n",
       "    <tr>\n",
       "      <th>50%</th>\n",
       "      <td>13.780000</td>\n",
       "      <td>0.865385</td>\n",
       "      <td>0.656972</td>\n",
       "      <td>104.000000</td>\n",
       "      <td>0.713164</td>\n",
       "      <td>-35.900000</td>\n",
       "      <td>6.153330e-02</td>\n",
       "      <td>0.574468</td>\n",
       "      <td>0.800000</td>\n",
       "      <td>0.823529</td>\n",
       "      <td>0.574468</td>\n",
       "      <td>0.973684</td>\n",
       "      <td>0.733333</td>\n",
       "    </tr>\n",
       "    <tr>\n",
       "      <th>75%</th>\n",
       "      <td>29.790000</td>\n",
       "      <td>0.979138</td>\n",
       "      <td>0.830011</td>\n",
       "      <td>158.500000</td>\n",
       "      <td>0.866460</td>\n",
       "      <td>-20.150000</td>\n",
       "      <td>1.572485e-01</td>\n",
       "      <td>0.792892</td>\n",
       "      <td>0.986726</td>\n",
       "      <td>1.000000</td>\n",
       "      <td>0.767667</td>\n",
       "      <td>1.000000</td>\n",
       "      <td>0.916667</td>\n",
       "    </tr>\n",
       "    <tr>\n",
       "      <th>max</th>\n",
       "      <td>137.480000</td>\n",
       "      <td>1.000000</td>\n",
       "      <td>1.000000</td>\n",
       "      <td>568.000000</td>\n",
       "      <td>1.000000</td>\n",
       "      <td>-1.800000</td>\n",
       "      <td>8.406150e-01</td>\n",
       "      <td>1.000000</td>\n",
       "      <td>1.000000</td>\n",
       "      <td>1.000000</td>\n",
       "      <td>1.000000</td>\n",
       "      <td>1.000000</td>\n",
       "      <td>1.000000</td>\n",
       "    </tr>\n",
       "  </tbody>\n",
       "</table>\n",
       "</div>"
      ],
      "text/plain": [
       "          ens_div  f_measure_max  f_measure_median         len  mfe_f_measure  \\\n",
       "count  151.000000     150.000000        150.000000  151.000000     142.000000   \n",
       "mean    21.908609       0.810554          0.635495  136.298013       0.659045   \n",
       "std     23.867984       0.198680          0.238374  102.036451       0.256173   \n",
       "min      0.290000       0.215385          0.082192   23.000000       0.082192   \n",
       "25%      5.845000       0.693473          0.477381   67.000000       0.455164   \n",
       "50%     13.780000       0.865385          0.656972  104.000000       0.713164   \n",
       "75%     29.790000       0.979138          0.830011  158.500000       0.866460   \n",
       "max    137.480000       1.000000          1.000000  568.000000       1.000000   \n",
       "\n",
       "           mfe_fe      mfe_freq     mfe_ppv  mfe_sensitivity     ppv_max  \\\n",
       "count  151.000000  1.510000e+02  151.000000       151.000000  151.000000   \n",
       "mean   -47.071523  1.363256e-01    0.573774         0.695547    0.767486   \n",
       "std     41.805627  1.860683e-01    0.295790         0.302021    0.241757   \n",
       "min   -243.200000  6.975520e-09    0.000000         0.000000    0.000000   \n",
       "25%    -54.250000  8.352240e-03    0.348573         0.506250    0.604124   \n",
       "50%    -35.900000  6.153330e-02    0.574468         0.800000    0.823529   \n",
       "75%    -20.150000  1.572485e-01    0.792892         0.986726    1.000000   \n",
       "max     -1.800000  8.406150e-01    1.000000         1.000000    1.000000   \n",
       "\n",
       "       ppv_median  sensitivity_max  sensitivity_median  \n",
       "count  151.000000       151.000000          151.000000  \n",
       "mean     0.566519         0.887596            0.688553  \n",
       "std      0.269912         0.173274            0.272512  \n",
       "min      0.000000         0.000000            0.000000  \n",
       "25%      0.374447         0.818182            0.529195  \n",
       "50%      0.574468         0.973684            0.733333  \n",
       "75%      0.767667         1.000000            0.916667  \n",
       "max      1.000000         1.000000            1.000000  "
      ]
     },
     "execution_count": 12,
     "metadata": {},
     "output_type": "execute_result"
    }
   ],
   "source": [
    "df_rnafold.describe()"
   ]
  },
  {
   "cell_type": "code",
   "execution_count": 13,
   "metadata": {},
   "outputs": [
    {
     "data": {
      "text/html": [
       "<div>\n",
       "<style scoped>\n",
       "    .dataframe tbody tr th:only-of-type {\n",
       "        vertical-align: middle;\n",
       "    }\n",
       "\n",
       "    .dataframe tbody tr th {\n",
       "        vertical-align: top;\n",
       "    }\n",
       "\n",
       "    .dataframe thead th {\n",
       "        text-align: right;\n",
       "    }\n",
       "</style>\n",
       "<table border=\"1\" class=\"dataframe\">\n",
       "  <thead>\n",
       "    <tr style=\"text-align: right;\">\n",
       "      <th></th>\n",
       "      <th>f_measure_max</th>\n",
       "      <th>f_measure_median</th>\n",
       "      <th>f_measure_mfe</th>\n",
       "      <th>len</th>\n",
       "      <th>ppv_max</th>\n",
       "      <th>ppv_median</th>\n",
       "      <th>ppv_mfe</th>\n",
       "      <th>ppv_mp</th>\n",
       "      <th>sensitivity_max</th>\n",
       "      <th>sensitivity_median</th>\n",
       "      <th>sensitivity_mfe</th>\n",
       "      <th>sensitivity_mp</th>\n",
       "    </tr>\n",
       "  </thead>\n",
       "  <tbody>\n",
       "    <tr>\n",
       "      <th>count</th>\n",
       "      <td>149.000000</td>\n",
       "      <td>149.000000</td>\n",
       "      <td>141.000000</td>\n",
       "      <td>151.000000</td>\n",
       "      <td>151.000000</td>\n",
       "      <td>151.000000</td>\n",
       "      <td>151.000000</td>\n",
       "      <td>148.000000</td>\n",
       "      <td>151.000000</td>\n",
       "      <td>151.000000</td>\n",
       "      <td>151.000000</td>\n",
       "      <td>151.000000</td>\n",
       "    </tr>\n",
       "    <tr>\n",
       "      <th>mean</th>\n",
       "      <td>0.708152</td>\n",
       "      <td>0.602027</td>\n",
       "      <td>0.629873</td>\n",
       "      <td>136.298013</td>\n",
       "      <td>0.695289</td>\n",
       "      <td>0.566198</td>\n",
       "      <td>0.544517</td>\n",
       "      <td>0.593153</td>\n",
       "      <td>0.742044</td>\n",
       "      <td>0.612097</td>\n",
       "      <td>0.659280</td>\n",
       "      <td>0.541226</td>\n",
       "    </tr>\n",
       "    <tr>\n",
       "      <th>std</th>\n",
       "      <td>0.232195</td>\n",
       "      <td>0.265842</td>\n",
       "      <td>0.248071</td>\n",
       "      <td>102.036451</td>\n",
       "      <td>0.254059</td>\n",
       "      <td>0.295567</td>\n",
       "      <td>0.283086</td>\n",
       "      <td>0.298769</td>\n",
       "      <td>0.255849</td>\n",
       "      <td>0.314994</td>\n",
       "      <td>0.305284</td>\n",
       "      <td>0.311485</td>\n",
       "    </tr>\n",
       "    <tr>\n",
       "      <th>min</th>\n",
       "      <td>0.175439</td>\n",
       "      <td>0.095238</td>\n",
       "      <td>0.078947</td>\n",
       "      <td>23.000000</td>\n",
       "      <td>0.000000</td>\n",
       "      <td>0.000000</td>\n",
       "      <td>0.000000</td>\n",
       "      <td>0.000000</td>\n",
       "      <td>0.000000</td>\n",
       "      <td>0.000000</td>\n",
       "      <td>0.000000</td>\n",
       "      <td>0.000000</td>\n",
       "    </tr>\n",
       "    <tr>\n",
       "      <th>25%</th>\n",
       "      <td>0.528302</td>\n",
       "      <td>0.371521</td>\n",
       "      <td>0.428571</td>\n",
       "      <td>67.000000</td>\n",
       "      <td>0.522417</td>\n",
       "      <td>0.339080</td>\n",
       "      <td>0.354487</td>\n",
       "      <td>0.373992</td>\n",
       "      <td>0.559028</td>\n",
       "      <td>0.360417</td>\n",
       "      <td>0.446023</td>\n",
       "      <td>0.288773</td>\n",
       "    </tr>\n",
       "    <tr>\n",
       "      <th>50%</th>\n",
       "      <td>0.750000</td>\n",
       "      <td>0.640000</td>\n",
       "      <td>0.645161</td>\n",
       "      <td>104.000000</td>\n",
       "      <td>0.735294</td>\n",
       "      <td>0.571429</td>\n",
       "      <td>0.542857</td>\n",
       "      <td>0.588235</td>\n",
       "      <td>0.826087</td>\n",
       "      <td>0.636364</td>\n",
       "      <td>0.700000</td>\n",
       "      <td>0.549180</td>\n",
       "    </tr>\n",
       "    <tr>\n",
       "      <th>75%</th>\n",
       "      <td>0.904762</td>\n",
       "      <td>0.805556</td>\n",
       "      <td>0.816327</td>\n",
       "      <td>158.500000</td>\n",
       "      <td>0.938447</td>\n",
       "      <td>0.801786</td>\n",
       "      <td>0.760952</td>\n",
       "      <td>0.847851</td>\n",
       "      <td>1.000000</td>\n",
       "      <td>0.900000</td>\n",
       "      <td>0.957428</td>\n",
       "      <td>0.809091</td>\n",
       "    </tr>\n",
       "    <tr>\n",
       "      <th>max</th>\n",
       "      <td>1.000000</td>\n",
       "      <td>1.000000</td>\n",
       "      <td>1.000000</td>\n",
       "      <td>568.000000</td>\n",
       "      <td>1.000000</td>\n",
       "      <td>1.000000</td>\n",
       "      <td>1.000000</td>\n",
       "      <td>1.000000</td>\n",
       "      <td>1.000000</td>\n",
       "      <td>1.000000</td>\n",
       "      <td>1.000000</td>\n",
       "      <td>1.000000</td>\n",
       "    </tr>\n",
       "  </tbody>\n",
       "</table>\n",
       "</div>"
      ],
      "text/plain": [
       "       f_measure_max  f_measure_median  f_measure_mfe         len     ppv_max  \\\n",
       "count     149.000000        149.000000     141.000000  151.000000  151.000000   \n",
       "mean        0.708152          0.602027       0.629873  136.298013    0.695289   \n",
       "std         0.232195          0.265842       0.248071  102.036451    0.254059   \n",
       "min         0.175439          0.095238       0.078947   23.000000    0.000000   \n",
       "25%         0.528302          0.371521       0.428571   67.000000    0.522417   \n",
       "50%         0.750000          0.640000       0.645161  104.000000    0.735294   \n",
       "75%         0.904762          0.805556       0.816327  158.500000    0.938447   \n",
       "max         1.000000          1.000000       1.000000  568.000000    1.000000   \n",
       "\n",
       "       ppv_median     ppv_mfe      ppv_mp  sensitivity_max  \\\n",
       "count  151.000000  151.000000  148.000000       151.000000   \n",
       "mean     0.566198    0.544517    0.593153         0.742044   \n",
       "std      0.295567    0.283086    0.298769         0.255849   \n",
       "min      0.000000    0.000000    0.000000         0.000000   \n",
       "25%      0.339080    0.354487    0.373992         0.559028   \n",
       "50%      0.571429    0.542857    0.588235         0.826087   \n",
       "75%      0.801786    0.760952    0.847851         1.000000   \n",
       "max      1.000000    1.000000    1.000000         1.000000   \n",
       "\n",
       "       sensitivity_median  sensitivity_mfe  sensitivity_mp  \n",
       "count          151.000000       151.000000      151.000000  \n",
       "mean             0.612097         0.659280        0.541226  \n",
       "std              0.314994         0.305284        0.311485  \n",
       "min              0.000000         0.000000        0.000000  \n",
       "25%              0.360417         0.446023        0.288773  \n",
       "50%              0.636364         0.700000        0.549180  \n",
       "75%              0.900000         0.957428        0.809091  \n",
       "max              1.000000         1.000000        1.000000  "
      ]
     },
     "execution_count": 13,
     "metadata": {},
     "output_type": "execute_result"
    }
   ],
   "source": [
    "df_model.describe()"
   ]
  },
  {
   "cell_type": "code",
   "execution_count": null,
   "metadata": {},
   "outputs": [],
   "source": []
  },
  {
   "cell_type": "code",
   "execution_count": 16,
   "metadata": {},
   "outputs": [
    {
     "data": {
      "text/html": [
       "<div>\n",
       "<style scoped>\n",
       "    .dataframe tbody tr th:only-of-type {\n",
       "        vertical-align: middle;\n",
       "    }\n",
       "\n",
       "    .dataframe tbody tr th {\n",
       "        vertical-align: top;\n",
       "    }\n",
       "\n",
       "    .dataframe thead th {\n",
       "        text-align: right;\n",
       "    }\n",
       "</style>\n",
       "<table border=\"1\" class=\"dataframe\">\n",
       "  <thead>\n",
       "    <tr style=\"text-align: right;\">\n",
       "      <th></th>\n",
       "      <th>ens_div</th>\n",
       "      <th>f_measure_max</th>\n",
       "      <th>f_measure_median</th>\n",
       "      <th>len</th>\n",
       "      <th>mfe_f_measure</th>\n",
       "      <th>mfe_fe</th>\n",
       "      <th>mfe_freq</th>\n",
       "      <th>mfe_ppv</th>\n",
       "      <th>mfe_sensitivity</th>\n",
       "      <th>ppv_max</th>\n",
       "      <th>ppv_median</th>\n",
       "      <th>sensitivity_max</th>\n",
       "      <th>sensitivity_median</th>\n",
       "    </tr>\n",
       "  </thead>\n",
       "  <tbody>\n",
       "    <tr>\n",
       "      <th>count</th>\n",
       "      <td>14.000000</td>\n",
       "      <td>14.000000</td>\n",
       "      <td>14.000000</td>\n",
       "      <td>14.000000</td>\n",
       "      <td>12.000000</td>\n",
       "      <td>14.000000</td>\n",
       "      <td>14.000000</td>\n",
       "      <td>14.000000</td>\n",
       "      <td>14.000000</td>\n",
       "      <td>14.000000</td>\n",
       "      <td>14.000000</td>\n",
       "      <td>14.000000</td>\n",
       "      <td>14.000000</td>\n",
       "    </tr>\n",
       "    <tr>\n",
       "      <th>mean</th>\n",
       "      <td>3.398571</td>\n",
       "      <td>0.979744</td>\n",
       "      <td>0.877335</td>\n",
       "      <td>38.214286</td>\n",
       "      <td>0.901752</td>\n",
       "      <td>-9.528571</td>\n",
       "      <td>0.343198</td>\n",
       "      <td>0.770742</td>\n",
       "      <td>0.778366</td>\n",
       "      <td>0.994505</td>\n",
       "      <td>0.793421</td>\n",
       "      <td>0.979592</td>\n",
       "      <td>0.801932</td>\n",
       "    </tr>\n",
       "    <tr>\n",
       "      <th>std</th>\n",
       "      <td>2.391346</td>\n",
       "      <td>0.047677</td>\n",
       "      <td>0.127460</td>\n",
       "      <td>7.667901</td>\n",
       "      <td>0.136610</td>\n",
       "      <td>4.941882</td>\n",
       "      <td>0.235974</td>\n",
       "      <td>0.353905</td>\n",
       "      <td>0.352369</td>\n",
       "      <td>0.020559</td>\n",
       "      <td>0.271100</td>\n",
       "      <td>0.076360</td>\n",
       "      <td>0.264350</td>\n",
       "    </tr>\n",
       "    <tr>\n",
       "      <th>min</th>\n",
       "      <td>0.290000</td>\n",
       "      <td>0.833333</td>\n",
       "      <td>0.640000</td>\n",
       "      <td>23.000000</td>\n",
       "      <td>0.615385</td>\n",
       "      <td>-18.600000</td>\n",
       "      <td>0.089100</td>\n",
       "      <td>0.000000</td>\n",
       "      <td>0.000000</td>\n",
       "      <td>0.923077</td>\n",
       "      <td>0.000000</td>\n",
       "      <td>0.714286</td>\n",
       "      <td>0.000000</td>\n",
       "    </tr>\n",
       "    <tr>\n",
       "      <th>25%</th>\n",
       "      <td>1.745000</td>\n",
       "      <td>1.000000</td>\n",
       "      <td>0.770833</td>\n",
       "      <td>33.500000</td>\n",
       "      <td>0.844211</td>\n",
       "      <td>-12.750000</td>\n",
       "      <td>0.166194</td>\n",
       "      <td>0.730159</td>\n",
       "      <td>0.703571</td>\n",
       "      <td>1.000000</td>\n",
       "      <td>0.750000</td>\n",
       "      <td>1.000000</td>\n",
       "      <td>0.703571</td>\n",
       "    </tr>\n",
       "    <tr>\n",
       "      <th>50%</th>\n",
       "      <td>3.005000</td>\n",
       "      <td>1.000000</td>\n",
       "      <td>0.937255</td>\n",
       "      <td>41.500000</td>\n",
       "      <td>0.970588</td>\n",
       "      <td>-9.150000</td>\n",
       "      <td>0.251433</td>\n",
       "      <td>0.970588</td>\n",
       "      <td>0.970588</td>\n",
       "      <td>1.000000</td>\n",
       "      <td>0.898990</td>\n",
       "      <td>1.000000</td>\n",
       "      <td>0.904545</td>\n",
       "    </tr>\n",
       "    <tr>\n",
       "      <th>75%</th>\n",
       "      <td>4.510000</td>\n",
       "      <td>1.000000</td>\n",
       "      <td>0.989130</td>\n",
       "      <td>44.750000</td>\n",
       "      <td>1.000000</td>\n",
       "      <td>-6.900000</td>\n",
       "      <td>0.477351</td>\n",
       "      <td>1.000000</td>\n",
       "      <td>1.000000</td>\n",
       "      <td>1.000000</td>\n",
       "      <td>0.985294</td>\n",
       "      <td>1.000000</td>\n",
       "      <td>0.985294</td>\n",
       "    </tr>\n",
       "    <tr>\n",
       "      <th>max</th>\n",
       "      <td>9.520000</td>\n",
       "      <td>1.000000</td>\n",
       "      <td>1.000000</td>\n",
       "      <td>46.000000</td>\n",
       "      <td>1.000000</td>\n",
       "      <td>-1.800000</td>\n",
       "      <td>0.831750</td>\n",
       "      <td>1.000000</td>\n",
       "      <td>1.000000</td>\n",
       "      <td>1.000000</td>\n",
       "      <td>1.000000</td>\n",
       "      <td>1.000000</td>\n",
       "      <td>1.000000</td>\n",
       "    </tr>\n",
       "  </tbody>\n",
       "</table>\n",
       "</div>"
      ],
      "text/plain": [
       "         ens_div  f_measure_max  f_measure_median        len  mfe_f_measure  \\\n",
       "count  14.000000      14.000000         14.000000  14.000000      12.000000   \n",
       "mean    3.398571       0.979744          0.877335  38.214286       0.901752   \n",
       "std     2.391346       0.047677          0.127460   7.667901       0.136610   \n",
       "min     0.290000       0.833333          0.640000  23.000000       0.615385   \n",
       "25%     1.745000       1.000000          0.770833  33.500000       0.844211   \n",
       "50%     3.005000       1.000000          0.937255  41.500000       0.970588   \n",
       "75%     4.510000       1.000000          0.989130  44.750000       1.000000   \n",
       "max     9.520000       1.000000          1.000000  46.000000       1.000000   \n",
       "\n",
       "          mfe_fe   mfe_freq    mfe_ppv  mfe_sensitivity    ppv_max  \\\n",
       "count  14.000000  14.000000  14.000000        14.000000  14.000000   \n",
       "mean   -9.528571   0.343198   0.770742         0.778366   0.994505   \n",
       "std     4.941882   0.235974   0.353905         0.352369   0.020559   \n",
       "min   -18.600000   0.089100   0.000000         0.000000   0.923077   \n",
       "25%   -12.750000   0.166194   0.730159         0.703571   1.000000   \n",
       "50%    -9.150000   0.251433   0.970588         0.970588   1.000000   \n",
       "75%    -6.900000   0.477351   1.000000         1.000000   1.000000   \n",
       "max    -1.800000   0.831750   1.000000         1.000000   1.000000   \n",
       "\n",
       "       ppv_median  sensitivity_max  sensitivity_median  \n",
       "count   14.000000        14.000000           14.000000  \n",
       "mean     0.793421         0.979592            0.801932  \n",
       "std      0.271100         0.076360            0.264350  \n",
       "min      0.000000         0.714286            0.000000  \n",
       "25%      0.750000         1.000000            0.703571  \n",
       "50%      0.898990         1.000000            0.904545  \n",
       "75%      0.985294         1.000000            0.985294  \n",
       "max      1.000000         1.000000            1.000000  "
      ]
     },
     "execution_count": 16,
     "metadata": {},
     "output_type": "execute_result"
    }
   ],
   "source": [
    "df_rnafold[df_rnafold.len < 50].describe()"
   ]
  },
  {
   "cell_type": "code",
   "execution_count": 17,
   "metadata": {},
   "outputs": [
    {
     "data": {
      "text/html": [
       "<div>\n",
       "<style scoped>\n",
       "    .dataframe tbody tr th:only-of-type {\n",
       "        vertical-align: middle;\n",
       "    }\n",
       "\n",
       "    .dataframe tbody tr th {\n",
       "        vertical-align: top;\n",
       "    }\n",
       "\n",
       "    .dataframe thead th {\n",
       "        text-align: right;\n",
       "    }\n",
       "</style>\n",
       "<table border=\"1\" class=\"dataframe\">\n",
       "  <thead>\n",
       "    <tr style=\"text-align: right;\">\n",
       "      <th></th>\n",
       "      <th>f_measure_max</th>\n",
       "      <th>f_measure_median</th>\n",
       "      <th>f_measure_mfe</th>\n",
       "      <th>len</th>\n",
       "      <th>ppv_max</th>\n",
       "      <th>ppv_median</th>\n",
       "      <th>ppv_mfe</th>\n",
       "      <th>ppv_mp</th>\n",
       "      <th>sensitivity_max</th>\n",
       "      <th>sensitivity_median</th>\n",
       "      <th>sensitivity_mfe</th>\n",
       "      <th>sensitivity_mp</th>\n",
       "    </tr>\n",
       "  </thead>\n",
       "  <tbody>\n",
       "    <tr>\n",
       "      <th>count</th>\n",
       "      <td>14.000000</td>\n",
       "      <td>14.000000</td>\n",
       "      <td>14.000000</td>\n",
       "      <td>14.000000</td>\n",
       "      <td>14.000000</td>\n",
       "      <td>14.000000</td>\n",
       "      <td>14.000000</td>\n",
       "      <td>12.000000</td>\n",
       "      <td>14.000000</td>\n",
       "      <td>14.000000</td>\n",
       "      <td>14.000000</td>\n",
       "      <td>14.000000</td>\n",
       "    </tr>\n",
       "    <tr>\n",
       "      <th>mean</th>\n",
       "      <td>0.931651</td>\n",
       "      <td>0.896245</td>\n",
       "      <td>0.844442</td>\n",
       "      <td>38.214286</td>\n",
       "      <td>0.930795</td>\n",
       "      <td>0.844902</td>\n",
       "      <td>0.807490</td>\n",
       "      <td>0.940972</td>\n",
       "      <td>0.946259</td>\n",
       "      <td>0.850688</td>\n",
       "      <td>0.900688</td>\n",
       "      <td>0.726108</td>\n",
       "    </tr>\n",
       "    <tr>\n",
       "      <th>std</th>\n",
       "      <td>0.103512</td>\n",
       "      <td>0.118164</td>\n",
       "      <td>0.143359</td>\n",
       "      <td>7.667901</td>\n",
       "      <td>0.129515</td>\n",
       "      <td>0.269522</td>\n",
       "      <td>0.173008</td>\n",
       "      <td>0.104293</td>\n",
       "      <td>0.110585</td>\n",
       "      <td>0.274632</td>\n",
       "      <td>0.140269</td>\n",
       "      <td>0.358789</td>\n",
       "    </tr>\n",
       "    <tr>\n",
       "      <th>min</th>\n",
       "      <td>0.727273</td>\n",
       "      <td>0.666667</td>\n",
       "      <td>0.592593</td>\n",
       "      <td>23.000000</td>\n",
       "      <td>0.571429</td>\n",
       "      <td>0.000000</td>\n",
       "      <td>0.533333</td>\n",
       "      <td>0.666667</td>\n",
       "      <td>0.700000</td>\n",
       "      <td>0.000000</td>\n",
       "      <td>0.666667</td>\n",
       "      <td>0.000000</td>\n",
       "    </tr>\n",
       "    <tr>\n",
       "      <th>25%</th>\n",
       "      <td>0.848416</td>\n",
       "      <td>0.837647</td>\n",
       "      <td>0.729665</td>\n",
       "      <td>33.500000</td>\n",
       "      <td>0.892857</td>\n",
       "      <td>0.803571</td>\n",
       "      <td>0.671875</td>\n",
       "      <td>0.906250</td>\n",
       "      <td>1.000000</td>\n",
       "      <td>0.770089</td>\n",
       "      <td>0.760714</td>\n",
       "      <td>0.651961</td>\n",
       "    </tr>\n",
       "    <tr>\n",
       "      <th>50%</th>\n",
       "      <td>1.000000</td>\n",
       "      <td>0.932127</td>\n",
       "      <td>0.868571</td>\n",
       "      <td>41.500000</td>\n",
       "      <td>1.000000</td>\n",
       "      <td>0.970588</td>\n",
       "      <td>0.801948</td>\n",
       "      <td>1.000000</td>\n",
       "      <td>1.000000</td>\n",
       "      <td>0.975000</td>\n",
       "      <td>1.000000</td>\n",
       "      <td>0.857143</td>\n",
       "    </tr>\n",
       "    <tr>\n",
       "      <th>75%</th>\n",
       "      <td>1.000000</td>\n",
       "      <td>1.000000</td>\n",
       "      <td>0.990000</td>\n",
       "      <td>44.750000</td>\n",
       "      <td>1.000000</td>\n",
       "      <td>1.000000</td>\n",
       "      <td>0.985294</td>\n",
       "      <td>1.000000</td>\n",
       "      <td>1.000000</td>\n",
       "      <td>1.000000</td>\n",
       "      <td>1.000000</td>\n",
       "      <td>1.000000</td>\n",
       "    </tr>\n",
       "    <tr>\n",
       "      <th>max</th>\n",
       "      <td>1.000000</td>\n",
       "      <td>1.000000</td>\n",
       "      <td>1.000000</td>\n",
       "      <td>46.000000</td>\n",
       "      <td>1.000000</td>\n",
       "      <td>1.000000</td>\n",
       "      <td>1.000000</td>\n",
       "      <td>1.000000</td>\n",
       "      <td>1.000000</td>\n",
       "      <td>1.000000</td>\n",
       "      <td>1.000000</td>\n",
       "      <td>1.000000</td>\n",
       "    </tr>\n",
       "  </tbody>\n",
       "</table>\n",
       "</div>"
      ],
      "text/plain": [
       "       f_measure_max  f_measure_median  f_measure_mfe        len    ppv_max  \\\n",
       "count      14.000000         14.000000      14.000000  14.000000  14.000000   \n",
       "mean        0.931651          0.896245       0.844442  38.214286   0.930795   \n",
       "std         0.103512          0.118164       0.143359   7.667901   0.129515   \n",
       "min         0.727273          0.666667       0.592593  23.000000   0.571429   \n",
       "25%         0.848416          0.837647       0.729665  33.500000   0.892857   \n",
       "50%         1.000000          0.932127       0.868571  41.500000   1.000000   \n",
       "75%         1.000000          1.000000       0.990000  44.750000   1.000000   \n",
       "max         1.000000          1.000000       1.000000  46.000000   1.000000   \n",
       "\n",
       "       ppv_median    ppv_mfe     ppv_mp  sensitivity_max  sensitivity_median  \\\n",
       "count   14.000000  14.000000  12.000000        14.000000           14.000000   \n",
       "mean     0.844902   0.807490   0.940972         0.946259            0.850688   \n",
       "std      0.269522   0.173008   0.104293         0.110585            0.274632   \n",
       "min      0.000000   0.533333   0.666667         0.700000            0.000000   \n",
       "25%      0.803571   0.671875   0.906250         1.000000            0.770089   \n",
       "50%      0.970588   0.801948   1.000000         1.000000            0.975000   \n",
       "75%      1.000000   0.985294   1.000000         1.000000            1.000000   \n",
       "max      1.000000   1.000000   1.000000         1.000000            1.000000   \n",
       "\n",
       "       sensitivity_mfe  sensitivity_mp  \n",
       "count        14.000000       14.000000  \n",
       "mean          0.900688        0.726108  \n",
       "std           0.140269        0.358789  \n",
       "min           0.666667        0.000000  \n",
       "25%           0.760714        0.651961  \n",
       "50%           1.000000        0.857143  \n",
       "75%           1.000000        1.000000  \n",
       "max           1.000000        1.000000  "
      ]
     },
     "execution_count": 17,
     "metadata": {},
     "output_type": "execute_result"
    }
   ],
   "source": [
    "df_model[df_model.len < 50].describe()"
   ]
  },
  {
   "cell_type": "code",
   "execution_count": null,
   "metadata": {},
   "outputs": [],
   "source": []
  },
  {
   "cell_type": "code",
   "execution_count": null,
   "metadata": {},
   "outputs": [],
   "source": [
    "idx = np.random.randint(0, len(df_model))\n",
    "row = df_model.iloc[idx]\n",
    "\n",
    "seq = row['seq']\n",
    "assert seq == df_rnafold.iloc[idx]['seq']\n",
    "target = make_arr(len(seq), row['one_idx'])\n",
    "pred_idxes = row['pred_idx']\n",
    "logp = row['logp']\n",
    "pfe = row['fe']\n",
    "\n",
    "print len(seq), seq"
   ]
  },
  {
   "cell_type": "code",
   "execution_count": null,
   "metadata": {},
   "outputs": [],
   "source": [
    "axis_label = [\"{}{}\".format(i+1, x) for i, x in enumerate(seq)]\n",
    "\n",
    "fig = go.Figure(data=[go.Heatmap(\n",
    "                   z=target,\n",
    "                   x=axis_label,\n",
    "                   y=axis_label,\n",
    "    reversescale=True,\n",
    "    colorscale='Greys')])\n",
    "\n",
    "layout = dict(\n",
    "    title='target',\n",
    "#     xaxis=dict(title='seq'),\n",
    "    yaxis=dict(autorange='reversed'),\n",
    "     height=800,\n",
    "    width=800,\n",
    "    )\n",
    "fig['layout'].update(layout)\n",
    "iplot(fig)"
   ]
  },
  {
   "cell_type": "code",
   "execution_count": null,
   "metadata": {},
   "outputs": [],
   "source": [
    "target_db_str = arr2db(target)\n",
    "print forna_url(seq, target_db_str)"
   ]
  },
  {
   "cell_type": "code",
   "execution_count": null,
   "metadata": {},
   "outputs": [],
   "source": [
    "axis_label = [\"{}{}\".format(i+1, x) for i, x in enumerate(seq)]\n",
    "\n",
    "_rnafold = make_arr(len(seq), df_rnafold.iloc[idx]['mfe_pred_idx'])\n",
    "rnafold_db_str = arr2db(_rnafold)\n",
    "\n",
    "fig = go.Figure(data=[go.Heatmap(\n",
    "                   z=_rnafold,\n",
    "                   x=axis_label,\n",
    "                   y=axis_label,\n",
    "    reversescale=True,\n",
    "    colorscale='Greys')])\n",
    "\n",
    "layout = dict(\n",
    "    title='RNAfold MFE',\n",
    "#     xaxis=dict(title='seq'),\n",
    "    yaxis=dict(autorange='reversed'),\n",
    "     height=800,\n",
    "    width=800,\n",
    "    )\n",
    "fig['layout'].update(layout)\n",
    "iplot(fig)\n",
    "\n",
    "print forna_url(seq, rnafold_db_str)\n",
    "\n",
    "sensitivity = EvalMetric.sensitivity(_rnafold, target)\n",
    "ppv = EvalMetric.ppv(_rnafold, target)\n",
    "f_measure = EvalMetric.f_measure(sensitivity, ppv)\n",
    "print \"sensitivity: {}, ppv: {}, f measure: {}\".format(sensitivity, ppv, f_measure)\n",
    "print \"FE computed by RNAeval: {}\".format(rna_eval_fe(seq, rnafold_db_str))"
   ]
  },
  {
   "cell_type": "code",
   "execution_count": null,
   "metadata": {},
   "outputs": [],
   "source": []
  },
  {
   "cell_type": "code",
   "execution_count": null,
   "metadata": {},
   "outputs": [],
   "source": []
  },
  {
   "cell_type": "code",
   "execution_count": null,
   "metadata": {
    "scrolled": false
   },
   "outputs": [],
   "source": [
    "n_sample = min(len(pred_idxes), 20)  # not plotting everything! in case there are too many\n",
    "\n",
    "\n",
    "axis_label = [\"{}{}\".format(i, x) for i, x in enumerate(seq)]\n",
    "\n",
    "n_rows = int(np.floor(np.sqrt(n_sample)))\n",
    "n_cols = int(np.ceil(n_sample/n_rows))\n",
    "fig = plotly.tools.make_subplots(rows=n_rows, cols=n_cols, subplot_titles=range(n_sample))\n",
    "\n",
    "# db_strs = []\n",
    "df_metric = []\n",
    "\n",
    "for idx_sample in range(n_sample):  \n",
    "    _pred = make_arr(len(seq), pred_idxes[idx_sample])\n",
    "    \n",
    "    # dot-bracket notation\n",
    "    db_str = arr2db(_pred)\n",
    "#     db_strs.append(db_str)\n",
    "#     print idx_sample, db_str\n",
    "    print idx_sample\n",
    "    print forna_url(seq, db_str)\n",
    "    \n",
    "    # metric\n",
    "    sensitivity = EvalMetric.sensitivity(_pred, target)\n",
    "    ppv = EvalMetric.ppv(_pred, target)\n",
    "    f_measure = EvalMetric.f_measure(sensitivity, ppv)\n",
    "    print \"sensitivity: {}, ppv: {}, f measure: {}\".format(sensitivity, ppv, f_measure)\n",
    "    print logp[idx_sample], pfe[idx_sample]*len(seq)\n",
    "    print \"FE computed by RNAeval: {}\".format(rna_eval_fe(seq, db_str))\n",
    "    print ''\n",
    "    \n",
    "    # set diagonal to 0.5, for visualization\n",
    "    _pred[np.diag_indices_from(_pred)] = 0.5\n",
    "    trace = go.Heatmap(\n",
    "                   z=_pred,\n",
    "                   x=axis_label,\n",
    "                   y=axis_label,\n",
    "    reversescale=True,\n",
    "    showscale=False,\n",
    "    colorscale='Greys')\n",
    "    fig.append_trace(trace, idx_sample//n_cols + 1, idx_sample%n_cols + 1)\n",
    "    \n",
    "\n",
    "layout = dict(\n",
    "#     title='prediction_1_step_ar',\n",
    "#     title='{} {}'.format(idx_sample, db_str),\n",
    "    xaxis=dict(showticklabels=False, showgrid=False),\n",
    "    yaxis=dict(autorange='reversed', showticklabels=False, showgrid=False),\n",
    "     height=1200,\n",
    "    width=1000,\n",
    "    )\n",
    "layout['annotations'] = []\n",
    "for idx_sample in range(1, n_sample):\n",
    "    layout[\"xaxis{}\".format(idx_sample+1)]=dict(showticklabels=False, showgrid=False)\n",
    "    layout[\"yaxis{}\".format(idx_sample+1)]=dict(autorange='reversed', showticklabels=False, showgrid=False)\n",
    "#     layout['annotations'].append({\"text\": db_strs[idx_sample]})\n",
    "fig['layout'].update(layout)\n",
    "iplot(fig)"
   ]
  },
  {
   "cell_type": "code",
   "execution_count": null,
   "metadata": {},
   "outputs": [],
   "source": []
  },
  {
   "cell_type": "code",
   "execution_count": null,
   "metadata": {},
   "outputs": [],
   "source": [
    "# proportion of examples where there exists a structure \n",
    "# sampled by the model that's the same as the MFE one from RNAfold\n",
    "df_fe = pd.merge(df_rnafold[['seq', 'one_idx', 'mfe_pred_idx', \n",
    "                             'pred_idx']].rename(columns={'mfe_pred_idx': 'pred_idx_rnafold_mfe', 'pred_idx': 'pred_idx_rnafold'}),\n",
    "                 df_model[['seq', 'pred_idx']].rename(columns={'pred_idx': 'pred_idx_model'}), on='seq')"
   ]
  },
  {
   "cell_type": "code",
   "execution_count": null,
   "metadata": {},
   "outputs": [],
   "source": []
  },
  {
   "cell_type": "code",
   "execution_count": null,
   "metadata": {
    "scrolled": false
   },
   "outputs": [],
   "source": [
    "n_total = 0\n",
    "n_better = 0\n",
    "for _, row in df_fe.iterrows():\n",
    "    seq = row['seq']\n",
    "    print(\"len={} {}\".format(len(seq), seq))\n",
    "    vrnafold = rna_eval_fe(seq, arr2db(make_arr(len(seq), row['pred_idx_rnafold_mfe'])), verbose=False)\n",
    "    print(\"RNAfold MFE: {}\".format(vrnafold))\n",
    "    rnafold_vals = [rna_eval_fe(seq, arr2db(make_arr(len(seq), x)), verbose=False) for x in row['pred_idx_rnafold']]\n",
    "    print(\"RNAfold sampled: {}\".format(sorted(rnafold_vals)))\n",
    "    model_vals = [rna_eval_fe(seq, arr2db(make_arr(len(seq), x)), verbose=False) for x in row['pred_idx_model']]\n",
    "    print(\"Model: {}\".format(sorted(model_vals)))\n",
    "    \n",
    "    \n",
    "    n_total += 1\n",
    "    if np.nanmin(model_vals) <= vrnafold:\n",
    "        n_better +=1\n",
    "    \n",
    "    # print the structures\n",
    "    target_db_str = arr2db(make_arr(len(seq), row['one_idx']))\n",
    "    rnafold_db_str = arr2db(make_arr(len(seq), row['pred_idx_rnafold_mfe']))\n",
    "    idx = np.nanargmin(model_vals)\n",
    "    model_db_str = arr2db(make_arr(len(seq), row['pred_idx_model'][idx]))\n",
    "    print(\"target ({}): {}\".format(rna_eval_fe(seq, target_db_str), forna_url(seq, target_db_str)))\n",
    "    print(\"rnafold MFE ({}): {}\".format(vrnafold, forna_url(seq, rnafold_db_str)))\n",
    "    print(\"model_db_str ({}): {}\".format(np.nanmin(model_vals), forna_url(seq, model_db_str)))\n",
    "    \n",
    "    print(\"\")\n",
    "\n",
    "print(\"Found bettern FE structure: {} out of {}\".format(n_better, n_total))"
   ]
  },
  {
   "cell_type": "code",
   "execution_count": null,
   "metadata": {},
   "outputs": [],
   "source": []
  },
  {
   "cell_type": "code",
   "execution_count": null,
   "metadata": {},
   "outputs": [],
   "source": [
    "df_tmp = pd.read_pickle('result/prediction.s_test.rnafold.pkl')"
   ]
  },
  {
   "cell_type": "code",
   "execution_count": null,
   "metadata": {},
   "outputs": [],
   "source": []
  },
  {
   "cell_type": "code",
   "execution_count": null,
   "metadata": {},
   "outputs": [],
   "source": [
    "row = df_fe[df_fe.seq == 'CUGCUUUGAGGACAAAGAGAAUAAAGACUUCAUGUUC'].iloc[0]"
   ]
  },
  {
   "cell_type": "code",
   "execution_count": null,
   "metadata": {},
   "outputs": [],
   "source": [
    "print row"
   ]
  },
  {
   "cell_type": "code",
   "execution_count": null,
   "metadata": {},
   "outputs": [],
   "source": [
    "for x in row['pred_idx_model']:\n",
    "    print arr2db(make_arr(len(row['seq']), x))"
   ]
  },
  {
   "cell_type": "code",
   "execution_count": null,
   "metadata": {},
   "outputs": [],
   "source": [
    "x"
   ]
  },
  {
   "cell_type": "code",
   "execution_count": null,
   "metadata": {},
   "outputs": [],
   "source": [
    "len(row['seq'])"
   ]
  },
  {
   "cell_type": "code",
   "execution_count": null,
   "metadata": {},
   "outputs": [],
   "source": []
  }
 ],
 "metadata": {
  "kernelspec": {
   "display_name": "Python 2",
   "language": "python",
   "name": "python2"
  },
  "language_info": {
   "codemirror_mode": {
    "name": "ipython",
    "version": 2
   },
   "file_extension": ".py",
   "mimetype": "text/x-python",
   "name": "python",
   "nbconvert_exporter": "python",
   "pygments_lexer": "ipython2",
   "version": "2.7.16"
  }
 },
 "nbformat": 4,
 "nbformat_minor": 2
}
