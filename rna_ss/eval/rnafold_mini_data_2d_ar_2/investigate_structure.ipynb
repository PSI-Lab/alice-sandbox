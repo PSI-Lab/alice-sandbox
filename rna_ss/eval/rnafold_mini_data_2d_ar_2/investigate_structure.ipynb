{
 "cells": [
  {
   "cell_type": "code",
   "execution_count": 5,
   "metadata": {},
   "outputs": [],
   "source": [
    "import numpy as np"
   ]
  },
  {
   "cell_type": "code",
   "execution_count": 1,
   "metadata": {},
   "outputs": [],
   "source": [
    "seq = 'CGAAUUUAAUUAAUGAUUAAUCAUUUUAUAAACAAAACCCGGCUUAAAAUUAAGUUCGUUUU'\n",
    "struct = '........((((((((....)))))...(((.(........(((((.)))))))).......'"
   ]
  },
  {
   "cell_type": "code",
   "execution_count": 2,
   "metadata": {},
   "outputs": [],
   "source": [
    "def forna_url(seq, struct):\n",
    "    url = \"http://nibiru.tbi.univie.ac.at/forna/forna.html?id=url/name&sequence={}&structure={}\".format(seq, struct)\n",
    "    return url"
   ]
  },
  {
   "cell_type": "code",
   "execution_count": 8,
   "metadata": {},
   "outputs": [],
   "source": [
    "def arr2db(arr):\n",
    "    # TODO debug this code!!\n",
    "    assert len(arr.shape) == 2\n",
    "    assert arr.shape[0] == arr.shape[1]\n",
    "    assert np.all((arr == 0) | (arr == 1))\n",
    "    assert np.max(np.sum(arr, axis=0)) <= 1\n",
    "    assert np.max(np.sum(arr, axis=1)) <= 1\n",
    "    idx_pairs = np.where(arr == 1)\n",
    "    idx_pairs = zip(idx_pairs[0], idx_pairs[1])\n",
    "\n",
    "    db_str = ['.' for _ in range(len(arr))]\n",
    "    for _i, _j in idx_pairs:\n",
    "        i = min(_i, _j)\n",
    "        j = max(_i, _j)\n",
    "        db_str[i] = '('\n",
    "        db_str[j] = ')'\n",
    "    return ''.join(db_str)"
   ]
  },
  {
   "cell_type": "code",
   "execution_count": 9,
   "metadata": {},
   "outputs": [],
   "source": [
    "def make_arr(l, one_idx):\n",
    "    x = np.zeros((l, l))\n",
    "    x[one_idx] = 1\n",
    "    return x"
   ]
  },
  {
   "cell_type": "code",
   "execution_count": 16,
   "metadata": {},
   "outputs": [],
   "source": [
    "# print forna_url(seq, struct)"
   ]
  },
  {
   "cell_type": "code",
   "execution_count": null,
   "metadata": {},
   "outputs": [],
   "source": []
  },
  {
   "cell_type": "code",
   "execution_count": 6,
   "metadata": {},
   "outputs": [],
   "source": [
    "seq = 'GGCCGACAGGAGUAAUUCCCGCCGAAACAGGGUUUUCACCCUUCCUUUCUUCGGGUGUCCUUCCUCGCGCCCGCAGGAC'\n",
    "# struct = '.......(((((..((.((((..((((.(((((....)))))...))))..(((((((..))))).)))))))......'"
   ]
  },
  {
   "cell_type": "code",
   "execution_count": 7,
   "metadata": {},
   "outputs": [],
   "source": [
    "pred_idx = (np.array([ 7,  8,  9, 10, 11, 14, 15, 17, 18, 19, 20, 23, 24, 25, 26, 28, 29,\n",
    "       30, 31, 32, 51, 52, 53, 54, 55, 56, 57]), np.array([64, 63, 62, 61, 60, 57, 56, 54, 53, 52, 51, 48, 47, 46, 45, 41, 40,\n",
    "       39, 38, 37, 72, 71, 70, 69, 68, 67, 66]))"
   ]
  },
  {
   "cell_type": "code",
   "execution_count": 10,
   "metadata": {},
   "outputs": [],
   "source": [
    "x = make_arr(len(seq), pred_idx)"
   ]
  },
  {
   "cell_type": "code",
   "execution_count": 18,
   "metadata": {},
   "outputs": [],
   "source": [
    "struct = arr2db(x)"
   ]
  },
  {
   "cell_type": "code",
   "execution_count": 26,
   "metadata": {},
   "outputs": [],
   "source": [
    "# for _i, _s in enumerate(struct):\n",
    "#     print _i, _s"
   ]
  },
  {
   "cell_type": "code",
   "execution_count": 32,
   "metadata": {},
   "outputs": [
    {
     "data": {
      "text/plain": [
       "64"
      ]
     },
     "execution_count": 32,
     "metadata": {},
     "output_type": "execute_result"
    }
   ],
   "source": [
    "pred_idx[1][np.where(pred_idx[0] == 7)][0]"
   ]
  },
  {
   "cell_type": "code",
   "execution_count": null,
   "metadata": {},
   "outputs": [],
   "source": [
    "76   ENERGY = 0.1  RA7680\n",
    "    1 G       0    2   72    1\n",
    "    2 G       1    3   71    2\n",
    "    3 G       2    4   70    3\n",
    "    4 G       3    5   69    4\n",
    "    5 G       4    6   68    5\n",
    "    6 C       5    7   67    6\n",
    "    7 G       6    8   66    7\n",
    "    8 U       7    9    0    8\n",
    "    9 A       8   10    0    9\n",
    "   10 G       9   11   25   10\n",
    "   11 C      10   12   24   11"
   ]
  },
  {
   "cell_type": "code",
   "execution_count": 49,
   "metadata": {},
   "outputs": [],
   "source": [
    "# create a tmp .ct file\n",
    "\n",
    "with open('/Users/alicegao/data/tmp/test_ct_file.ct', 'w') as f:\n",
    "    f.write(\"{}\\tENERGY = 0.1\\tTEST\\n\".format(len(seq)))\n",
    "    for i, a in enumerate(seq):\n",
    "        if len(np.where(pred_idx[0] == i)[0]) > 0:\n",
    "            pair_idx = pred_idx[1][np.where(pred_idx[0] == i)][0] + 1\n",
    "        elif len(np.where(pred_idx[1] == i)[0]) > 0:\n",
    "            pair_idx = pred_idx[0][np.where(pred_idx[1] == i)][0] + 1\n",
    "        else:\n",
    "            pair_idx = 0\n",
    "        f.write(\"{}\\t{}\\t{}\\t{}\\t{}\\t{}\\n\".format(i+1, a, i, i+2, pair_idx, i+1))"
   ]
  },
  {
   "cell_type": "code",
   "execution_count": 48,
   "metadata": {},
   "outputs": [
    {
     "name": "stdout",
     "output_type": "stream",
     "text": [
      "7 64\n",
      "8 63\n",
      "9 62\n",
      "10 61\n",
      "11 60\n",
      "14 57\n",
      "15 56\n",
      "17 54\n",
      "18 53\n",
      "19 52\n",
      "20 51\n",
      "23 48\n",
      "24 47\n",
      "25 46\n",
      "26 45\n",
      "28 41\n",
      "29 40\n",
      "30 39\n",
      "31 38\n",
      "32 37\n",
      "51 72\n",
      "52 71\n",
      "53 70\n",
      "54 69\n",
      "55 68\n",
      "56 67\n",
      "57 66\n"
     ]
    }
   ],
   "source": [
    "for a, b in zip(pred_idx[0], pred_idx[1]):\n",
    "    print a, b"
   ]
  },
  {
   "cell_type": "code",
   "execution_count": null,
   "metadata": {},
   "outputs": [],
   "source": []
  },
  {
   "cell_type": "code",
   "execution_count": null,
   "metadata": {},
   "outputs": [],
   "source": []
  },
  {
   "cell_type": "code",
   "execution_count": 19,
   "metadata": {},
   "outputs": [
    {
     "name": "stdout",
     "output_type": "stream",
     "text": [
      "http://nibiru.tbi.univie.ac.at/forna/forna.html?id=url/name&sequence=GGCCGACAGGAGUAAUUCCCGCCGAAACAGGGUUUUCACCCUUCCUUUCUUCGGGUGUCCUUCCUCGCGCCCGCAGGAC&structure=.......(((((..((.((((..((((.(((((....)))))...))))..(((((((..))))).)))))))......\n"
     ]
    }
   ],
   "source": [
    "print forna_url(seq, struct)"
   ]
  },
  {
   "cell_type": "code",
   "execution_count": 25,
   "metadata": {},
   "outputs": [
    {
     "name": "stdout",
     "output_type": "stream",
     "text": [
      "http://nibiru.tbi.univie.ac.at/forna/forna.html?id=url/name&sequence=GGCCGACAGGAGUAAUUCCCGCCGAAACAGGGUUUUCACCCUUCCUUUCUUCGGGUGUCCUUCCUCGCGCCCGCAGGAC&structure=.....(....(.........).........)................................................\n"
     ]
    }
   ],
   "source": [
    "# # can't reprent pesudoknow using dot-bracket notation???\n",
    "# tmp_struct = list('.' * len(seq))\n",
    "\n",
    "# tmp_struct[5] = '('\n",
    "# tmp_struct[20] = ')'\n",
    "# tmp_struct[10] = '('\n",
    "# tmp_struct[30] = ')'\n",
    "\n",
    "# tmp_struct = ''.join(tmp_struct)\n",
    "# print forna_url(seq, tmp_struct)"
   ]
  },
  {
   "cell_type": "code",
   "execution_count": null,
   "metadata": {},
   "outputs": [],
   "source": []
  }
 ],
 "metadata": {
  "kernelspec": {
   "display_name": "Python 2",
   "language": "python",
   "name": "python2"
  },
  "language_info": {
   "codemirror_mode": {
    "name": "ipython",
    "version": 2
   },
   "file_extension": ".py",
   "mimetype": "text/x-python",
   "name": "python",
   "nbconvert_exporter": "python",
   "pygments_lexer": "ipython2",
   "version": "2.7.15"
  }
 },
 "nbformat": 4,
 "nbformat_minor": 2
}
