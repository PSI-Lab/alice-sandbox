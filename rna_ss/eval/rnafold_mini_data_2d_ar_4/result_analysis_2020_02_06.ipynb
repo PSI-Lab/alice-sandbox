{
 "cells": [
  {
   "cell_type": "code",
   "execution_count": 1,
   "metadata": {},
   "outputs": [],
   "source": [
    "import pandas as pd\n",
    "import numpy as np"
   ]
  },
  {
   "cell_type": "code",
   "execution_count": 2,
   "metadata": {},
   "outputs": [
    {
     "name": "stderr",
     "output_type": "stream",
     "text": [
      "/Users/alicegao/anaconda2/envs/gk_mz_plot/lib/python2.7/site-packages/genome_kit/data_manager.py:8: TqdmExperimentalWarning: Using `tqdm.autonotebook.tqdm` in notebook mode. Use `tqdm.tqdm` instead to force console mode (e.g. in jupyter console)\n",
      "  from tqdm.autonotebook import tqdm\n"
     ]
    }
   ],
   "source": [
    "from dgutils.pandas import add_column, add_columns"
   ]
  },
  {
   "cell_type": "code",
   "execution_count": 3,
   "metadata": {},
   "outputs": [
    {
     "name": "stderr",
     "output_type": "stream",
     "text": [
      "Using TensorFlow backend.\n",
      "/Users/alicegao/anaconda2/envs/gk_mz_plot/lib/python2.7/site-packages/scipy/sparse/lil.py:19: RuntimeWarning: numpy.ufunc size changed, may indicate binary incompatibility. Expected 192 from C header, got 216 from PyObject\n",
      "  from . import _csparsetools\n",
      "/Users/alicegao/anaconda2/envs/gk_mz_plot/lib/python2.7/site-packages/scipy/sparse/csgraph/__init__.py:182: RuntimeWarning: numpy.ufunc size changed, may indicate binary incompatibility. Expected 192 from C header, got 216 from PyObject\n",
      "  from ._shortest_path import shortest_path, floyd_warshall, dijkstra,\\\n",
      "/Users/alicegao/anaconda2/envs/gk_mz_plot/lib/python2.7/site-packages/scipy/sparse/csgraph/_validation.py:5: RuntimeWarning: numpy.ufunc size changed, may indicate binary incompatibility. Expected 192 from C header, got 216 from PyObject\n",
      "  from ._tools import csgraph_to_dense, csgraph_from_dense,\\\n",
      "/Users/alicegao/anaconda2/envs/gk_mz_plot/lib/python2.7/site-packages/scipy/sparse/csgraph/__init__.py:184: RuntimeWarning: numpy.ufunc size changed, may indicate binary incompatibility. Expected 192 from C header, got 216 from PyObject\n",
      "  from ._traversal import breadth_first_order, depth_first_order, \\\n",
      "/Users/alicegao/anaconda2/envs/gk_mz_plot/lib/python2.7/site-packages/scipy/sparse/csgraph/__init__.py:186: RuntimeWarning: numpy.ufunc size changed, may indicate binary incompatibility. Expected 192 from C header, got 216 from PyObject\n",
      "  from ._min_spanning_tree import minimum_spanning_tree\n",
      "/Users/alicegao/anaconda2/envs/gk_mz_plot/lib/python2.7/site-packages/scipy/sparse/csgraph/__init__.py:187: RuntimeWarning: numpy.ufunc size changed, may indicate binary incompatibility. Expected 192 from C header, got 216 from PyObject\n",
      "  from ._reordering import reverse_cuthill_mckee, maximum_bipartite_matching, \\\n",
      "/Users/alicegao/anaconda2/envs/gk_mz_plot/lib/python2.7/site-packages/scipy/linalg/basic.py:17: RuntimeWarning: numpy.ufunc size changed, may indicate binary incompatibility. Expected 192 from C header, got 216 from PyObject\n",
      "  from ._solve_toeplitz import levinson\n",
      "/Users/alicegao/anaconda2/envs/gk_mz_plot/lib/python2.7/site-packages/scipy/linalg/__init__.py:207: RuntimeWarning: numpy.ufunc size changed, may indicate binary incompatibility. Expected 192 from C header, got 216 from PyObject\n",
      "  from ._decomp_update import *\n",
      "/Users/alicegao/anaconda2/envs/gk_mz_plot/lib/python2.7/site-packages/scipy/special/__init__.py:641: RuntimeWarning: numpy.ufunc size changed, may indicate binary incompatibility. Expected 192 from C header, got 216 from PyObject\n",
      "  from ._ufuncs import *\n",
      "/Users/alicegao/anaconda2/envs/gk_mz_plot/lib/python2.7/site-packages/scipy/special/_ellip_harm.py:6: RuntimeWarning: numpy.ufunc size changed, may indicate binary incompatibility. Expected 192 from C header, got 216 from PyObject\n",
      "  from ._ellip_harm_2 import _ellipsoid, _ellipsoid_norm\n",
      "/Users/alicegao/anaconda2/envs/gk_mz_plot/lib/python2.7/site-packages/scipy/interpolate/_bsplines.py:10: RuntimeWarning: numpy.ufunc size changed, may indicate binary incompatibility. Expected 192 from C header, got 216 from PyObject\n",
      "  from . import _bspl\n",
      "/Users/alicegao/anaconda2/envs/gk_mz_plot/lib/python2.7/site-packages/scipy/spatial/__init__.py:99: RuntimeWarning: numpy.ufunc size changed, may indicate binary incompatibility. Expected 192 from C header, got 216 from PyObject\n",
      "  from .ckdtree import *\n",
      "/Users/alicegao/anaconda2/envs/gk_mz_plot/lib/python2.7/site-packages/scipy/spatial/__init__.py:100: RuntimeWarning: numpy.ufunc size changed, may indicate binary incompatibility. Expected 192 from C header, got 216 from PyObject\n",
      "  from .qhull import *\n",
      "/Users/alicegao/anaconda2/envs/gk_mz_plot/lib/python2.7/site-packages/scipy/spatial/_spherical_voronoi.py:17: RuntimeWarning: numpy.ufunc size changed, may indicate binary incompatibility. Expected 192 from C header, got 216 from PyObject\n",
      "  from . import _voronoi\n",
      "/Users/alicegao/anaconda2/envs/gk_mz_plot/lib/python2.7/site-packages/scipy/spatial/distance.py:124: RuntimeWarning: numpy.ufunc size changed, may indicate binary incompatibility. Expected 192 from C header, got 216 from PyObject\n",
      "  from . import _hausdorff\n",
      "/Users/alicegao/anaconda2/envs/gk_mz_plot/lib/python2.7/site-packages/scipy/ndimage/measurements.py:36: RuntimeWarning: numpy.ufunc size changed, may indicate binary incompatibility. Expected 192 from C header, got 216 from PyObject\n",
      "  from . import _ni_label\n"
     ]
    }
   ],
   "source": [
    "from utils import arr2db, EvalMetric"
   ]
  },
  {
   "cell_type": "code",
   "execution_count": 4,
   "metadata": {},
   "outputs": [],
   "source": [
    "# df = pd.read_pickle('result/debug.2020_02_06_1.pkl')\n",
    "df = pd.read_pickle('result/debug.2020_02_06_2.pkl')"
   ]
  },
  {
   "cell_type": "code",
   "execution_count": 6,
   "metadata": {},
   "outputs": [],
   "source": [
    "# subset to TS1\n",
    "df = df[df['data_partition'] == 'TS1']"
   ]
  },
  {
   "cell_type": "code",
   "execution_count": 7,
   "metadata": {},
   "outputs": [
    {
     "data": {
      "text/html": [
       "<div>\n",
       "<style scoped>\n",
       "    .dataframe tbody tr th:only-of-type {\n",
       "        vertical-align: middle;\n",
       "    }\n",
       "\n",
       "    .dataframe tbody tr th {\n",
       "        vertical-align: top;\n",
       "    }\n",
       "\n",
       "    .dataframe thead th {\n",
       "        text-align: right;\n",
       "    }\n",
       "</style>\n",
       "<table border=\"1\" class=\"dataframe\">\n",
       "  <thead>\n",
       "    <tr style=\"text-align: right;\">\n",
       "      <th></th>\n",
       "      <th>data_partition</th>\n",
       "      <th>len</th>\n",
       "      <th>one_idx</th>\n",
       "      <th>pred_val</th>\n",
       "      <th>seq</th>\n",
       "      <th>seq_id</th>\n",
       "    </tr>\n",
       "  </thead>\n",
       "  <tbody>\n",
       "    <tr>\n",
       "      <th>2</th>\n",
       "      <td>TS1</td>\n",
       "      <td>78</td>\n",
       "      <td>[[0, 1, 2, 3, 3, 4, 5, 7, 7, 7, 10, 10, 11, 12...</td>\n",
       "      <td>[[0.0, 2.0861626e-07, 1.7881393e-07, 1.8179417...</td>\n",
       "      <td>GGGCCCUUAGCUUAGUCUGGUUAAAGCGAUCGGCUCAUAACCGAUU...</td>\n",
       "      <td>4v8n-1-AW</td>\n",
       "    </tr>\n",
       "    <tr>\n",
       "      <th>9</th>\n",
       "      <td>TS1</td>\n",
       "      <td>145</td>\n",
       "      <td>[[0, 1, 2, 3, 4, 5, 6, 7, 9, 10, 11, 12, 13, 1...</td>\n",
       "      <td>[[0.0, 2.026558e-06, 3.2484531e-06, 5.5134296e...</td>\n",
       "      <td>GGGUGUCCGCACUAAGUUCGGCAUCAAUAUGGUGACCUCCCGGGAG...</td>\n",
       "      <td>5m73-1-A</td>\n",
       "    </tr>\n",
       "    <tr>\n",
       "      <th>10</th>\n",
       "      <td>TS1</td>\n",
       "      <td>35</td>\n",
       "      <td>[[0, 1, 2, 3, 4, 5, 5, 6, 7, 8, 9, 10, 12], [3...</td>\n",
       "      <td>[[0.0, 5.066395e-07, 1.4901161e-07, 8.940697e-...</td>\n",
       "      <td>GAGCAAGAGCCAUUGCACUCCGGUUUGAUGACCUC</td>\n",
       "      <td>4c4w-1-D</td>\n",
       "    </tr>\n",
       "    <tr>\n",
       "      <th>12</th>\n",
       "      <td>TS1</td>\n",
       "      <td>122</td>\n",
       "      <td>[[1, 2, 3, 4, 5, 6, 7, 8, 9, 10, 11, 13, 16, 1...</td>\n",
       "      <td>[[0.0, 3.4868717e-06, 4.798174e-06, 2.115965e-...</td>\n",
       "      <td>CACCCCCGUGCCCAUAGCACUGUGGAACCACCCCACCCCAUGCCGA...</td>\n",
       "      <td>2zjq-1-Y</td>\n",
       "    </tr>\n",
       "    <tr>\n",
       "      <th>19</th>\n",
       "      <td>TS1</td>\n",
       "      <td>81</td>\n",
       "      <td>[[0, 1, 2, 3, 4, 5, 6, 7, 7, 8, 8, 9, 10, 11, ...</td>\n",
       "      <td>[[0.0, 4.172325e-07, 2.9802322e-07, 6.854534e-...</td>\n",
       "      <td>GCCCGCAUGGUGAAAUCGGUAAACACAUCGCACUAAUGCGCCGCCU...</td>\n",
       "      <td>5ah5-1-D</td>\n",
       "    </tr>\n",
       "  </tbody>\n",
       "</table>\n",
       "</div>"
      ],
      "text/plain": [
       "   data_partition  len                                            one_idx  \\\n",
       "2             TS1   78  [[0, 1, 2, 3, 3, 4, 5, 7, 7, 7, 10, 10, 11, 12...   \n",
       "9             TS1  145  [[0, 1, 2, 3, 4, 5, 6, 7, 9, 10, 11, 12, 13, 1...   \n",
       "10            TS1   35  [[0, 1, 2, 3, 4, 5, 5, 6, 7, 8, 9, 10, 12], [3...   \n",
       "12            TS1  122  [[1, 2, 3, 4, 5, 6, 7, 8, 9, 10, 11, 13, 16, 1...   \n",
       "19            TS1   81  [[0, 1, 2, 3, 4, 5, 6, 7, 7, 8, 8, 9, 10, 11, ...   \n",
       "\n",
       "                                             pred_val  \\\n",
       "2   [[0.0, 2.0861626e-07, 1.7881393e-07, 1.8179417...   \n",
       "9   [[0.0, 2.026558e-06, 3.2484531e-06, 5.5134296e...   \n",
       "10  [[0.0, 5.066395e-07, 1.4901161e-07, 8.940697e-...   \n",
       "12  [[0.0, 3.4868717e-06, 4.798174e-06, 2.115965e-...   \n",
       "19  [[0.0, 4.172325e-07, 2.9802322e-07, 6.854534e-...   \n",
       "\n",
       "                                                  seq     seq_id  \n",
       "2   GGGCCCUUAGCUUAGUCUGGUUAAAGCGAUCGGCUCAUAACCGAUU...  4v8n-1-AW  \n",
       "9   GGGUGUCCGCACUAAGUUCGGCAUCAAUAUGGUGACCUCCCGGGAG...   5m73-1-A  \n",
       "10                GAGCAAGAGCCAUUGCACUCCGGUUUGAUGACCUC   4c4w-1-D  \n",
       "12  CACCCCCGUGCCCAUAGCACUGUGGAACCACCCCACCCCAUGCCGA...   2zjq-1-Y  \n",
       "19  GCCCGCAUGGUGAAAUCGGUAAACACAUCGCACUAAUGCGCCGCCU...   5ah5-1-D  "
      ]
     },
     "execution_count": 7,
     "metadata": {},
     "output_type": "execute_result"
    }
   ],
   "source": [
    "df.head()"
   ]
  },
  {
   "cell_type": "code",
   "execution_count": 11,
   "metadata": {},
   "outputs": [],
   "source": [
    "def calculate_metric(one_idx, pred_idx, seq_len, e):\n",
    "    target = np.zeros((seq_len, seq_len))\n",
    "    pred = np.zeros((seq_len, seq_len))\n",
    "    target[one_idx] = 1\n",
    "    pred[pred_idx] = 1\n",
    "    sensitivity = e.sensitivity(pred, target)\n",
    "    ppv = e.ppv(pred, target)\n",
    "    return sensitivity, ppv, e.f_measure(sensitivity, ppv)"
   ]
  },
  {
   "cell_type": "code",
   "execution_count": 12,
   "metadata": {},
   "outputs": [
    {
     "name": "stderr",
     "output_type": "stream",
     "text": [
      "/Users/alicegao/anaconda2/envs/gk_mz_plot/lib/python2.7/site-packages/ipykernel_launcher.py:4: FutureWarning: Using a non-tuple sequence for multidimensional indexing is deprecated; use `arr[tuple(seq)]` instead of `arr[seq]`. In the future this will be interpreted as an array index, `arr[np.array(seq)]`, which will result either in an error or a different result.\n",
      "  after removing the cwd from sys.path.\n",
      "utils.py:327: RuntimeWarning: invalid value encountered in double_scalars\n",
      "  return (2 * sensitivity * ppv)/(sensitivity + ppv)\n",
      "utils.py:323: RuntimeWarning: invalid value encountered in double_scalars\n",
      "  return float(np.sum(target[idx_predicted_base_pair])/np.sum(pred))\n"
     ]
    }
   ],
   "source": [
    "df_metric = []\n",
    "\n",
    "eval_module = EvalMetric(bypass_pairing_check=True)\n",
    "# thresholds = [0.0001, 0.0005, 0.001, 0.005, 0.007, 0.01]\n",
    "thresholds = [0.0001, 0.001, 0.002, 0.003, 0.01]\n",
    "\n",
    "\n",
    "for _, row in df.iterrows():\n",
    "    seq_id = row['seq_id']\n",
    "    seq_len = row['len']\n",
    "    pred_val = row['pred_val']\n",
    "    one_idx = row['one_idx']\n",
    "#     print(seq_id, seq_len)\n",
    "    for t in thresholds:\n",
    "        _pred = (pred_val > t).astype(np.int)\n",
    "        assert np.all((_pred == 1) | (_pred == 0))\n",
    "        pred_idx = np.where(_pred == 1)\n",
    "#         print(t)\n",
    "#         print(calculate_metric(one_idx, pred_idx, seq_len, eval_module))\n",
    "        metric_s, metric_p, metric_f = calculate_metric(one_idx, pred_idx, seq_len, eval_module)\n",
    "        df_metric.append({\n",
    "            'seq_id': seq_id,\n",
    "            'len': seq_len,\n",
    "            'threshold': t,\n",
    "            'sensitivity': metric_s,\n",
    "            'ppv': metric_p,\n",
    "            'f_measure': metric_f,\n",
    "        })\n",
    "\n",
    "df_metric = pd.DataFrame(df_metric)\n"
   ]
  },
  {
   "cell_type": "code",
   "execution_count": 13,
   "metadata": {},
   "outputs": [
    {
     "name": "stdout",
     "output_type": "stream",
     "text": [
      "0.0001\n",
      "       f_measure  sensitivity        ppv\n",
      "count  67.000000    67.000000  67.000000\n",
      "mean    0.338536     0.668212   0.258302\n",
      "std     0.217691     0.146605   0.228819\n",
      "min     0.044444     0.076923   0.031250\n",
      "25%     0.188047     0.595491   0.111941\n",
      "50%     0.252492     0.678571   0.161905\n",
      "75%     0.378091     0.763932   0.272910\n",
      "max     1.000000     1.000000   1.000000\n",
      "\n",
      "0.001\n",
      "       f_measure  sensitivity        ppv\n",
      "count  66.000000    67.000000  67.000000\n",
      "mean    0.540414     0.574375   0.513128\n",
      "std     0.197109     0.194268   0.234144\n",
      "min     0.166667     0.000000   0.000000\n",
      "25%     0.422710     0.480792   0.357257\n",
      "50%     0.511370     0.575758   0.486486\n",
      "75%     0.673729     0.711688   0.653010\n",
      "max     1.000000     1.000000   1.000000\n",
      "\n",
      "0.002\n",
      "       f_measure  sensitivity        ppv\n",
      "count  66.000000    67.000000  67.000000\n",
      "mean    0.569079     0.502614   0.659169\n",
      "std     0.208150     0.217609   0.234258\n",
      "min     0.126582     0.000000   0.000000\n",
      "25%     0.412903     0.351247   0.536316\n",
      "50%     0.565385     0.472222   0.687500\n",
      "75%     0.726010     0.666667   0.819293\n",
      "max     1.000000     1.000000   1.000000\n",
      "\n",
      "0.003\n",
      "       f_measure  sensitivity        ppv\n",
      "count  64.000000    67.000000  67.000000\n",
      "mean    0.565600     0.451287   0.736797\n",
      "std     0.214047     0.239043   0.263311\n",
      "min     0.142857     0.000000   0.000000\n",
      "25%     0.400000     0.262366   0.666667\n",
      "50%     0.597619     0.444444   0.794872\n",
      "75%     0.727273     0.650000   0.922619\n",
      "max     1.000000     1.000000   1.000000\n",
      "\n",
      "0.01\n",
      "       f_measure  sensitivity       ppv\n",
      "count  54.000000    67.000000  57.00000\n",
      "mean    0.451037     0.276341   0.90143\n",
      "std     0.276704     0.276294   0.24982\n",
      "min     0.050000     0.000000   0.00000\n",
      "25%     0.249615     0.055357   1.00000\n",
      "50%     0.379281     0.176471   1.00000\n",
      "75%     0.727632     0.430769   1.00000\n",
      "max     1.000000     1.000000   1.00000\n",
      "\n"
     ]
    }
   ],
   "source": [
    "for threshold in thresholds:\n",
    "    print(threshold)\n",
    "    print(df_metric[df_metric['threshold'] == threshold][['f_measure', 'sensitivity', 'ppv']].describe())\n",
    "    print('')"
   ]
  },
  {
   "cell_type": "code",
   "execution_count": null,
   "metadata": {},
   "outputs": [],
   "source": []
  }
 ],
 "metadata": {
  "kernelspec": {
   "display_name": "Python 2",
   "language": "python",
   "name": "python2"
  },
  "language_info": {
   "codemirror_mode": {
    "name": "ipython",
    "version": 2
   },
   "file_extension": ".py",
   "mimetype": "text/x-python",
   "name": "python",
   "nbconvert_exporter": "python",
   "pygments_lexer": "ipython2",
   "version": "2.7.15"
  }
 },
 "nbformat": 4,
 "nbformat_minor": 2
}
