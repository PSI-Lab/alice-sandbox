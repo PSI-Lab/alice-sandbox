{
 "cells": [
  {
   "cell_type": "code",
   "execution_count": 11,
   "metadata": {},
   "outputs": [],
   "source": [
    "import pandas as pd\n",
    "import numpy as np"
   ]
  },
  {
   "cell_type": "code",
   "execution_count": 2,
   "metadata": {},
   "outputs": [
    {
     "name": "stderr",
     "output_type": "stream",
     "text": [
      "/Users/alicegao/anaconda2/envs/gk_mz_plot/lib/python2.7/site-packages/genome_kit/data_manager.py:8: TqdmExperimentalWarning: Using `tqdm.autonotebook.tqdm` in notebook mode. Use `tqdm.tqdm` instead to force console mode (e.g. in jupyter console)\n",
      "  from tqdm.autonotebook import tqdm\n"
     ]
    }
   ],
   "source": [
    "from dgutils.pandas import add_column, add_columns"
   ]
  },
  {
   "cell_type": "code",
   "execution_count": 3,
   "metadata": {},
   "outputs": [
    {
     "name": "stderr",
     "output_type": "stream",
     "text": [
      "Using TensorFlow backend.\n",
      "/Users/alicegao/anaconda2/envs/gk_mz_plot/lib/python2.7/site-packages/scipy/sparse/lil.py:19: RuntimeWarning: numpy.ufunc size changed, may indicate binary incompatibility. Expected 192 from C header, got 216 from PyObject\n",
      "  from . import _csparsetools\n",
      "/Users/alicegao/anaconda2/envs/gk_mz_plot/lib/python2.7/site-packages/scipy/sparse/csgraph/__init__.py:182: RuntimeWarning: numpy.ufunc size changed, may indicate binary incompatibility. Expected 192 from C header, got 216 from PyObject\n",
      "  from ._shortest_path import shortest_path, floyd_warshall, dijkstra,\\\n",
      "/Users/alicegao/anaconda2/envs/gk_mz_plot/lib/python2.7/site-packages/scipy/sparse/csgraph/_validation.py:5: RuntimeWarning: numpy.ufunc size changed, may indicate binary incompatibility. Expected 192 from C header, got 216 from PyObject\n",
      "  from ._tools import csgraph_to_dense, csgraph_from_dense,\\\n",
      "/Users/alicegao/anaconda2/envs/gk_mz_plot/lib/python2.7/site-packages/scipy/sparse/csgraph/__init__.py:184: RuntimeWarning: numpy.ufunc size changed, may indicate binary incompatibility. Expected 192 from C header, got 216 from PyObject\n",
      "  from ._traversal import breadth_first_order, depth_first_order, \\\n",
      "/Users/alicegao/anaconda2/envs/gk_mz_plot/lib/python2.7/site-packages/scipy/sparse/csgraph/__init__.py:186: RuntimeWarning: numpy.ufunc size changed, may indicate binary incompatibility. Expected 192 from C header, got 216 from PyObject\n",
      "  from ._min_spanning_tree import minimum_spanning_tree\n",
      "/Users/alicegao/anaconda2/envs/gk_mz_plot/lib/python2.7/site-packages/scipy/sparse/csgraph/__init__.py:187: RuntimeWarning: numpy.ufunc size changed, may indicate binary incompatibility. Expected 192 from C header, got 216 from PyObject\n",
      "  from ._reordering import reverse_cuthill_mckee, maximum_bipartite_matching, \\\n",
      "/Users/alicegao/anaconda2/envs/gk_mz_plot/lib/python2.7/site-packages/scipy/linalg/basic.py:17: RuntimeWarning: numpy.ufunc size changed, may indicate binary incompatibility. Expected 192 from C header, got 216 from PyObject\n",
      "  from ._solve_toeplitz import levinson\n",
      "/Users/alicegao/anaconda2/envs/gk_mz_plot/lib/python2.7/site-packages/scipy/linalg/__init__.py:207: RuntimeWarning: numpy.ufunc size changed, may indicate binary incompatibility. Expected 192 from C header, got 216 from PyObject\n",
      "  from ._decomp_update import *\n",
      "/Users/alicegao/anaconda2/envs/gk_mz_plot/lib/python2.7/site-packages/scipy/special/__init__.py:641: RuntimeWarning: numpy.ufunc size changed, may indicate binary incompatibility. Expected 192 from C header, got 216 from PyObject\n",
      "  from ._ufuncs import *\n",
      "/Users/alicegao/anaconda2/envs/gk_mz_plot/lib/python2.7/site-packages/scipy/special/_ellip_harm.py:6: RuntimeWarning: numpy.ufunc size changed, may indicate binary incompatibility. Expected 192 from C header, got 216 from PyObject\n",
      "  from ._ellip_harm_2 import _ellipsoid, _ellipsoid_norm\n",
      "/Users/alicegao/anaconda2/envs/gk_mz_plot/lib/python2.7/site-packages/scipy/interpolate/_bsplines.py:10: RuntimeWarning: numpy.ufunc size changed, may indicate binary incompatibility. Expected 192 from C header, got 216 from PyObject\n",
      "  from . import _bspl\n",
      "/Users/alicegao/anaconda2/envs/gk_mz_plot/lib/python2.7/site-packages/scipy/spatial/__init__.py:99: RuntimeWarning: numpy.ufunc size changed, may indicate binary incompatibility. Expected 192 from C header, got 216 from PyObject\n",
      "  from .ckdtree import *\n",
      "/Users/alicegao/anaconda2/envs/gk_mz_plot/lib/python2.7/site-packages/scipy/spatial/__init__.py:100: RuntimeWarning: numpy.ufunc size changed, may indicate binary incompatibility. Expected 192 from C header, got 216 from PyObject\n",
      "  from .qhull import *\n",
      "/Users/alicegao/anaconda2/envs/gk_mz_plot/lib/python2.7/site-packages/scipy/spatial/_spherical_voronoi.py:17: RuntimeWarning: numpy.ufunc size changed, may indicate binary incompatibility. Expected 192 from C header, got 216 from PyObject\n",
      "  from . import _voronoi\n",
      "/Users/alicegao/anaconda2/envs/gk_mz_plot/lib/python2.7/site-packages/scipy/spatial/distance.py:124: RuntimeWarning: numpy.ufunc size changed, may indicate binary incompatibility. Expected 192 from C header, got 216 from PyObject\n",
      "  from . import _hausdorff\n",
      "/Users/alicegao/anaconda2/envs/gk_mz_plot/lib/python2.7/site-packages/scipy/ndimage/measurements.py:36: RuntimeWarning: numpy.ufunc size changed, may indicate binary incompatibility. Expected 192 from C header, got 216 from PyObject\n",
      "  from . import _ni_label\n"
     ]
    }
   ],
   "source": [
    "from utils import arr2db, EvalMetric"
   ]
  },
  {
   "cell_type": "code",
   "execution_count": 4,
   "metadata": {},
   "outputs": [],
   "source": [
    "df = pd.read_pickle('result/debug.2020_02_06_1.pkl')"
   ]
  },
  {
   "cell_type": "code",
   "execution_count": 5,
   "metadata": {},
   "outputs": [
    {
     "data": {
      "text/html": [
       "<div>\n",
       "<style scoped>\n",
       "    .dataframe tbody tr th:only-of-type {\n",
       "        vertical-align: middle;\n",
       "    }\n",
       "\n",
       "    .dataframe tbody tr th {\n",
       "        vertical-align: top;\n",
       "    }\n",
       "\n",
       "    .dataframe thead th {\n",
       "        text-align: right;\n",
       "    }\n",
       "</style>\n",
       "<table border=\"1\" class=\"dataframe\">\n",
       "  <thead>\n",
       "    <tr style=\"text-align: right;\">\n",
       "      <th></th>\n",
       "      <th>len</th>\n",
       "      <th>one_idx</th>\n",
       "      <th>pred_val</th>\n",
       "      <th>seq</th>\n",
       "      <th>seq_id</th>\n",
       "    </tr>\n",
       "  </thead>\n",
       "  <tbody>\n",
       "    <tr>\n",
       "      <th>0</th>\n",
       "      <td>414</td>\n",
       "      <td>[[0, 1, 2, 3, 4, 5, 6, 7, 8, 9, 10, 11, 13, 14...</td>\n",
       "      <td>[[0.0, 5.066395e-07, 1.6093254e-06, 1.0728836e...</td>\n",
       "      <td>GUGUGCCCGGCAUGGGUGCAGUCUAUAGGGUGAGAGUCCCGAACUG...</td>\n",
       "      <td>5j01-1-A</td>\n",
       "    </tr>\n",
       "    <tr>\n",
       "      <th>1</th>\n",
       "      <td>75</td>\n",
       "      <td>[[0, 1, 2, 3, 4, 5, 6, 7, 7, 8, 9, 10, 11, 12,...</td>\n",
       "      <td>[[0.0, 1.013279e-06, 2.9802322e-07, 8.940697e-...</td>\n",
       "      <td>GGCGGCGUAGCUCAGCUGGUCAGAGCGGGGAUCUCAUAAGUCCCAG...</td>\n",
       "      <td>2csx-1-C</td>\n",
       "    </tr>\n",
       "    <tr>\n",
       "      <th>2</th>\n",
       "      <td>78</td>\n",
       "      <td>[[0, 1, 2, 3, 3, 4, 5, 7, 7, 7, 10, 10, 11, 12...</td>\n",
       "      <td>[[0.0, 2.0861626e-07, 1.7881393e-07, 1.8179417...</td>\n",
       "      <td>GGGCCCUUAGCUUAGUCUGGUUAAAGCGAUCGGCUCAUAACCGAUU...</td>\n",
       "      <td>4v8n-1-AW</td>\n",
       "    </tr>\n",
       "    <tr>\n",
       "      <th>3</th>\n",
       "      <td>108</td>\n",
       "      <td>[[0, 1, 2, 3, 4, 5, 6, 6, 7, 8, 9, 10, 11, 12,...</td>\n",
       "      <td>[[0.0, 1.3113022e-06, 1.9073486e-06, 3.5762787...</td>\n",
       "      <td>GAUUUGGGGAGUAGCCGAUUUCCGAAAGGAAAUGUACGUGUCAACA...</td>\n",
       "      <td>4y1m-1-B</td>\n",
       "    </tr>\n",
       "    <tr>\n",
       "      <th>4</th>\n",
       "      <td>77</td>\n",
       "      <td>[[0, 1, 2, 3, 4, 5, 6, 7, 8, 9, 9, 9, 10, 11, ...</td>\n",
       "      <td>[[0.0, 1.0728836e-06, 4.172325e-07, 8.6426735e...</td>\n",
       "      <td>GGGCCAGGUAGCUCAGUUGGUAGAGCACUGGACUGAAAAUCCAGGU...</td>\n",
       "      <td>4x0b-1-B</td>\n",
       "    </tr>\n",
       "  </tbody>\n",
       "</table>\n",
       "</div>"
      ],
      "text/plain": [
       "   len                                            one_idx  \\\n",
       "0  414  [[0, 1, 2, 3, 4, 5, 6, 7, 8, 9, 10, 11, 13, 14...   \n",
       "1   75  [[0, 1, 2, 3, 4, 5, 6, 7, 7, 8, 9, 10, 11, 12,...   \n",
       "2   78  [[0, 1, 2, 3, 3, 4, 5, 7, 7, 7, 10, 10, 11, 12...   \n",
       "3  108  [[0, 1, 2, 3, 4, 5, 6, 6, 7, 8, 9, 10, 11, 12,...   \n",
       "4   77  [[0, 1, 2, 3, 4, 5, 6, 7, 8, 9, 9, 9, 10, 11, ...   \n",
       "\n",
       "                                            pred_val  \\\n",
       "0  [[0.0, 5.066395e-07, 1.6093254e-06, 1.0728836e...   \n",
       "1  [[0.0, 1.013279e-06, 2.9802322e-07, 8.940697e-...   \n",
       "2  [[0.0, 2.0861626e-07, 1.7881393e-07, 1.8179417...   \n",
       "3  [[0.0, 1.3113022e-06, 1.9073486e-06, 3.5762787...   \n",
       "4  [[0.0, 1.0728836e-06, 4.172325e-07, 8.6426735e...   \n",
       "\n",
       "                                                 seq     seq_id  \n",
       "0  GUGUGCCCGGCAUGGGUGCAGUCUAUAGGGUGAGAGUCCCGAACUG...   5j01-1-A  \n",
       "1  GGCGGCGUAGCUCAGCUGGUCAGAGCGGGGAUCUCAUAAGUCCCAG...   2csx-1-C  \n",
       "2  GGGCCCUUAGCUUAGUCUGGUUAAAGCGAUCGGCUCAUAACCGAUU...  4v8n-1-AW  \n",
       "3  GAUUUGGGGAGUAGCCGAUUUCCGAAAGGAAAUGUACGUGUCAACA...   4y1m-1-B  \n",
       "4  GGGCCAGGUAGCUCAGUUGGUAGAGCACUGGACUGAAAAUCCAGGU...   4x0b-1-B  "
      ]
     },
     "execution_count": 5,
     "metadata": {},
     "output_type": "execute_result"
    }
   ],
   "source": [
    "df.head()"
   ]
  },
  {
   "cell_type": "code",
   "execution_count": 6,
   "metadata": {},
   "outputs": [
    {
     "data": {
      "text/plain": [
       "0.038452983"
      ]
     },
     "execution_count": 6,
     "metadata": {},
     "output_type": "execute_result"
    }
   ],
   "source": [
    "df.iloc[1].pred_val.max()"
   ]
  },
  {
   "cell_type": "code",
   "execution_count": 7,
   "metadata": {},
   "outputs": [
    {
     "data": {
      "text/plain": [
       "0.0"
      ]
     },
     "execution_count": 7,
     "metadata": {},
     "output_type": "execute_result"
    }
   ],
   "source": [
    "df.iloc[1].pred_val.min()"
   ]
  },
  {
   "cell_type": "code",
   "execution_count": 8,
   "metadata": {},
   "outputs": [
    {
     "data": {
      "text/plain": [
       "5.456474e-05"
      ]
     },
     "execution_count": 8,
     "metadata": {},
     "output_type": "execute_result"
    }
   ],
   "source": [
    "df.iloc[1].pred_val.mean()"
   ]
  },
  {
   "cell_type": "code",
   "execution_count": 10,
   "metadata": {},
   "outputs": [],
   "source": [
    "def calculate_metric(one_idx, pred_idx, seq_len, e):\n",
    "    target = np.zeros((seq_len, seq_len))\n",
    "    pred = np.zeros((seq_len, seq_len))\n",
    "    target[one_idx] = 1\n",
    "    pred[pred_idx] = 1\n",
    "    sensitivity = e.sensitivity(pred, target)\n",
    "    ppv = e.ppv(pred, target)\n",
    "    return sensitivity, ppv, e.f_measure(sensitivity, ppv)"
   ]
  },
  {
   "cell_type": "code",
   "execution_count": 27,
   "metadata": {},
   "outputs": [
    {
     "name": "stderr",
     "output_type": "stream",
     "text": [
      "/Users/alicegao/anaconda2/envs/gk_mz_plot/lib/python2.7/site-packages/ipykernel_launcher.py:4: FutureWarning: Using a non-tuple sequence for multidimensional indexing is deprecated; use `arr[tuple(seq)]` instead of `arr[seq]`. In the future this will be interpreted as an array index, `arr[np.array(seq)]`, which will result either in an error or a different result.\n",
      "  after removing the cwd from sys.path.\n"
     ]
    }
   ],
   "source": [
    "df_metric = []\n",
    "\n",
    "eval_module = EvalMetric(bypass_pairing_check=True)\n",
    "# thresholds = [0.0001, 0.0005, 0.001, 0.005, 0.007, 0.01]\n",
    "thresholds = [0.0001, 0.001, 0.002, 0.003, 0.01]\n",
    "\n",
    "\n",
    "for _, row in df.iterrows():\n",
    "    seq_id = row['seq_id']\n",
    "    seq_len = row['len']\n",
    "    pred_val = row['pred_val']\n",
    "    one_idx = row['one_idx']\n",
    "#     print(seq_id, seq_len)\n",
    "    for t in thresholds:\n",
    "        _pred = (pred_val > t).astype(np.int)\n",
    "        assert np.all((_pred == 1) | (_pred == 0))\n",
    "        pred_idx = np.where(_pred == 1)\n",
    "#         print(t)\n",
    "#         print(calculate_metric(one_idx, pred_idx, seq_len, eval_module))\n",
    "        metric_s, metric_p, metric_f = calculate_metric(one_idx, pred_idx, seq_len, eval_module)\n",
    "        df_metric.append({\n",
    "            'seq_id': seq_id,\n",
    "            'len': seq_len,\n",
    "            'threshold': t,\n",
    "            'sensitivity': metric_s,\n",
    "            'ppv': metric_p,\n",
    "            'f_measure': metric_f,\n",
    "        })\n",
    "\n",
    "df_metric = pd.DataFrame(df_metric)\n"
   ]
  },
  {
   "cell_type": "code",
   "execution_count": 28,
   "metadata": {},
   "outputs": [
    {
     "name": "stdout",
     "output_type": "stream",
     "text": [
      "0.0001\n",
      "        f_measure  sensitivity         ppv\n",
      "count  254.000000   255.000000  254.000000\n",
      "mean     0.370117     0.669688    0.299473\n",
      "std      0.221953     0.157230    0.250346\n",
      "min      0.044444     0.000000    0.031250\n",
      "25%      0.219678     0.600000    0.131511\n",
      "50%      0.281067     0.677419    0.180797\n",
      "75%      0.469380     0.769231    0.434783\n",
      "max      1.000000     1.000000    1.000000\n",
      "\n",
      "0.001\n",
      "        f_measure  sensitivity         ppv\n",
      "count  253.000000   255.000000  254.000000\n",
      "mean     0.554621     0.580502    0.554463\n",
      "std      0.192018     0.189334    0.239987\n",
      "min      0.036364     0.000000    0.000000\n",
      "25%      0.422222     0.479871    0.365385\n",
      "50%      0.545455     0.589744    0.509865\n",
      "75%      0.698413     0.707487    0.738171\n",
      "max      1.000000     1.000000    1.000000\n",
      "\n",
      "0.002\n",
      "        f_measure  sensitivity         ppv\n",
      "count  251.000000   255.000000  254.000000\n",
      "mean     0.584506     0.516184    0.681916\n",
      "std      0.199856     0.210456    0.234904\n",
      "min      0.018868     0.000000    0.000000\n",
      "25%      0.441919     0.370669    0.520682\n",
      "50%      0.590164     0.516129    0.705882\n",
      "75%      0.741799     0.651923    0.872917\n",
      "max      1.000000     1.000000    1.000000\n",
      "\n",
      "0.003\n",
      "        f_measure  sensitivity         ppv\n",
      "count  247.000000   255.000000  254.000000\n",
      "mean     0.576149     0.466650    0.747887\n",
      "std      0.203445     0.222036    0.242353\n",
      "min      0.034483     0.000000    0.000000\n",
      "25%      0.416667     0.300000    0.602174\n",
      "50%      0.585366     0.461538    0.800000\n",
      "75%      0.729490     0.625000    0.941176\n",
      "max      1.000000     1.000000    1.000000\n",
      "\n",
      "0.01\n",
      "        f_measure  sensitivity         ppv\n",
      "count  217.000000   255.000000  228.000000\n",
      "mean     0.457315     0.293038    0.892069\n",
      "std      0.259270     0.262099    0.242701\n",
      "min      0.029851     0.000000    0.000000\n",
      "25%      0.243902     0.085714    0.913690\n",
      "50%      0.413793     0.222222    1.000000\n",
      "75%      0.692308     0.466063    1.000000\n",
      "max      1.000000     1.000000    1.000000\n",
      "\n"
     ]
    }
   ],
   "source": [
    "for threshold in thresholds:\n",
    "    print(threshold)\n",
    "    print(df_metric[df_metric['threshold'] == threshold][['f_measure', 'sensitivity', 'ppv']].describe())\n",
    "    print('')"
   ]
  },
  {
   "cell_type": "code",
   "execution_count": null,
   "metadata": {},
   "outputs": [],
   "source": []
  }
 ],
 "metadata": {
  "kernelspec": {
   "display_name": "Python 2",
   "language": "python",
   "name": "python2"
  },
  "language_info": {
   "codemirror_mode": {
    "name": "ipython",
    "version": 2
   },
   "file_extension": ".py",
   "mimetype": "text/x-python",
   "name": "python",
   "nbconvert_exporter": "python",
   "pygments_lexer": "ipython2",
   "version": "2.7.15"
  }
 },
 "nbformat": 4,
 "nbformat_minor": 2
}
