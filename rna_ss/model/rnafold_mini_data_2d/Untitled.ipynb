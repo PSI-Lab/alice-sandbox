{
 "cells": [
  {
   "cell_type": "code",
   "execution_count": 1,
   "metadata": {},
   "outputs": [
    {
     "name": "stderr",
     "output_type": "stream",
     "text": [
      "Using TensorFlow backend.\n"
     ]
    }
   ],
   "source": [
    "from keras.models import Model\n",
    "from keras.layers import Input, Bidirectional, Concatenate, Dot, LSTM\n",
    "from keras.layers.core import Activation, Dense, Lambda\n",
    "from keras.layers.convolutional import Conv1D, Cropping1D, ZeroPadding1D\n",
    "from keras.layers.normalization import BatchNormalization\n",
    "from keras.layers.merge import add, multiply\n",
    "from keras import regularizers, initializers\n",
    "import keras.backend as kb\n",
    "from keras.losses import binary_crossentropy, mean_squared_error, categorical_crossentropy\n",
    "import tensorflow as tf\n",
    "from sklearn.metrics import roc_auc_score\n",
    "import numpy as np"
   ]
  },
  {
   "cell_type": "code",
   "execution_count": null,
   "metadata": {},
   "outputs": [],
   "source": []
  },
  {
   "cell_type": "code",
   "execution_count": 6,
   "metadata": {},
   "outputs": [
    {
     "name": "stderr",
     "output_type": "stream",
     "text": [
      "/Users/alicegao/anaconda2/envs/dg_work/lib/python2.7/site-packages/ipykernel_launcher.py:24: UserWarning: Update your `Model` call to the Keras 2 API: `Model(outputs=Tensor(\"la..., inputs=Tensor(\"in...)`\n"
     ]
    }
   ],
   "source": [
    "input_org = Input(shape=(50, 4), name='input_org')\n",
    "reverse_layer = Lambda(lambda x: kb.reverse(x, axes=-2))\n",
    "input_rev = reverse_layer(input_org)\n",
    "\n",
    "conv_or = input_org\n",
    "conv_rv = input_rev\n",
    "\n",
    "num_filter = 64\n",
    "kernel_size = 7\n",
    "\n",
    "conv_or = BatchNormalization()(conv_or)\n",
    "conv_or = Activation('relu')(conv_or)\n",
    "conv_or = Conv1D(filters=num_filter, kernel_size=kernel_size, padding='same', activation=None)(conv_or)\n",
    "\n",
    "conv_rv = BatchNormalization()(conv_rv)\n",
    "conv_rv = Activation('relu')(conv_rv)\n",
    "conv_rv = Conv1D(filters=num_filter, kernel_size=kernel_size, padding='same', activation=None)(conv_rv)\n",
    "\n",
    "conv_prod = Dot(axes=-1)([conv_or, conv_rv]) \n",
    "\n",
    "stack_layer = Lambda(lambda x: kb.stack(x, axis=-1))\n",
    "test_stack = stack_layer([conv_prod, conv_prod])\n",
    "\n",
    "model = Model(input=input_org, output=test_stack)"
   ]
  },
  {
   "cell_type": "code",
   "execution_count": 7,
   "metadata": {},
   "outputs": [
    {
     "name": "stdout",
     "output_type": "stream",
     "text": [
      "__________________________________________________________________________________________________\n",
      "Layer (type)                    Output Shape         Param #     Connected to                     \n",
      "==================================================================================================\n",
      "input_org (InputLayer)          (None, 50, 4)        0                                            \n",
      "__________________________________________________________________________________________________\n",
      "lambda_5 (Lambda)               (None, 50, 4)        0           input_org[0][0]                  \n",
      "__________________________________________________________________________________________________\n",
      "batch_normalization_7 (BatchNor (None, 50, 4)        16          input_org[0][0]                  \n",
      "__________________________________________________________________________________________________\n",
      "batch_normalization_8 (BatchNor (None, 50, 4)        16          lambda_5[0][0]                   \n",
      "__________________________________________________________________________________________________\n",
      "activation_7 (Activation)       (None, 50, 4)        0           batch_normalization_7[0][0]      \n",
      "__________________________________________________________________________________________________\n",
      "activation_8 (Activation)       (None, 50, 4)        0           batch_normalization_8[0][0]      \n",
      "__________________________________________________________________________________________________\n",
      "conv1d_7 (Conv1D)               (None, 50, 64)       1856        activation_7[0][0]               \n",
      "__________________________________________________________________________________________________\n",
      "conv1d_8 (Conv1D)               (None, 50, 64)       1856        activation_8[0][0]               \n",
      "__________________________________________________________________________________________________\n",
      "dot_4 (Dot)                     (None, 50, 50)       0           conv1d_7[0][0]                   \n",
      "                                                                 conv1d_8[0][0]                   \n",
      "__________________________________________________________________________________________________\n",
      "lambda_6 (Lambda)               (None, 50, 50, 2)    0           dot_4[0][0]                      \n",
      "                                                                 dot_4[0][0]                      \n",
      "==================================================================================================\n",
      "Total params: 3,744\n",
      "Trainable params: 3,728\n",
      "Non-trainable params: 16\n",
      "__________________________________________________________________________________________________\n"
     ]
    }
   ],
   "source": [
    "model.summary()"
   ]
  },
  {
   "cell_type": "code",
   "execution_count": null,
   "metadata": {},
   "outputs": [],
   "source": []
  },
  {
   "cell_type": "code",
   "execution_count": null,
   "metadata": {},
   "outputs": [],
   "source": []
  },
  {
   "cell_type": "code",
   "execution_count": null,
   "metadata": {},
   "outputs": [],
   "source": [
    "\n",
    "\n",
    "input_org = Input(shape=(50, 4), name='input_org')\n",
    "\n",
    "# input_rev = Input(shape=(51, 4), name='input_rev')  # can also use rev comp\n",
    "reverse_layer = Lambda(lambda x: kb.reverse(x, axes=-2))\n",
    "input_rev = reverse_layer(input_org)\n",
    "\n",
    "conv_prods = []\n",
    "num_filters = [64, 64, 64, 64, 64]\n",
    "kernel_sizes = [7, 3, 3, 5, 9]\n",
    "\n",
    "conv_or = input_org\n",
    "conv_rv = input_rev\n",
    "\n",
    "for num_filter, kernel_size in zip(num_filters, kernel_sizes):\n",
    "    conv_or = BatchNormalization()(conv_or)\n",
    "    conv_or = Activation('relu')(conv_or)\n",
    "    conv_or = Conv1D(filters=num_filter, kernel_size=kernel_size, padding='same', activation=None)(conv_or)\n",
    "\n",
    "    conv_rv = BatchNormalization()(conv_rv)\n",
    "    conv_rv = Activation('relu')(conv_rv)\n",
    "    conv_rv = Conv1D(filters=num_filter, kernel_size=kernel_size, padding='same', activation=None)(conv_rv)\n",
    "    # conv_rv_mid = Cropping1D(25)(conv_rv)\n",
    "\n",
    "    # # transformation matrix - general\n",
    "    # conv_or_transform = Conv1D(filters=64, kernel_size=1, activation=None)(conv_or)\n",
    "    # conv_prod = Dot(axes=-1)([conv_or_transform, conv_rv_mid])\n",
    "    # conv_prods.append(conv_prod)\n",
    "\n",
    "    # # replace dot product\n",
    "    # # by tiling the rev\n",
    "    # # stack on org\n",
    "    # # run a mini fully connected net\n",
    "    # conv_rd_mid_tiled = Lambda(kb.tile, arguments={'n': (1, 51, 1)})(conv_rv_mid)\n",
    "    # conv_fw_rd = Concatenate(axis=-1)([conv_or, conv_rd_mid_tiled])\n",
    "    # # TODO hard coded 2 filters\n",
    "    # # size=1, fully connected along all features at each position\n",
    "    # hid_fw_rd = Conv1D(filters=2, kernel_size=1, activation='tanh')(conv_fw_rd)\n",
    "    # conv_prods.append(hid_fw_rd)\n",
    "\n",
    "    # dot product\n",
    "    conv_prod = Dot(axes=-1)([conv_or, conv_rv])  # 2D map\n",
    "    conv_prods.append(conv_prod)\n",
    "conv_prod_concat = Concatenate(axis=-1)(conv_prods)\n",
    "\n",
    "# LSTM TODO hard-coded 100 hidden units\n",
    "hid = Bidirectional(LSTM(100, activation='tanh', recurrent_activation='hard_sigmoid',\n",
    "                         return_sequences=True))(conv_prod_concat)\n",
    "output = Conv1D(1, 1, padding='same', activation='sigmoid')(hid)\n",
    "\n",
    "# # fully connected along feature dimension\n",
    "# output = Conv1D(1, 1, padding='same', activation='sigmoid')(conv_prod_concat)\n",
    "\n",
    "# model = Model(input=[input_org, input_rev], output=output)\n",
    "model = Model(input=input_org, output=output)\n",
    "\n"
   ]
  }
 ],
 "metadata": {
  "kernelspec": {
   "display_name": "Python 2",
   "language": "python",
   "name": "python2"
  },
  "language_info": {
   "codemirror_mode": {
    "name": "ipython",
    "version": 2
   },
   "file_extension": ".py",
   "mimetype": "text/x-python",
   "name": "python",
   "nbconvert_exporter": "python",
   "pygments_lexer": "ipython2",
   "version": "2.7.15"
  }
 },
 "nbformat": 4,
 "nbformat_minor": 2
}
