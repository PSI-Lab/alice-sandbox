{
 "cells": [
  {
   "cell_type": "code",
   "execution_count": 1,
   "metadata": {},
   "outputs": [
    {
     "name": "stderr",
     "output_type": "stream",
     "text": [
      "Using TensorFlow backend.\n"
     ]
    }
   ],
   "source": [
    "from keras.models import Model\n",
    "from keras.layers import Input, Bidirectional, Concatenate, Dot\n",
    "from keras.layers.core import Activation, Dense, Lambda\n",
    "from keras.layers.convolutional import Conv1D, Cropping1D, ZeroPadding1D\n",
    "from keras.layers.normalization import BatchNormalization\n",
    "from keras.layers.merge import add, multiply\n",
    "from keras import regularizers, initializers\n",
    "import keras.backend as kb\n",
    "from keras.losses import binary_crossentropy, mean_squared_error, categorical_crossentropy\n",
    "import tensorflow as tf\n",
    "from sklearn.metrics import roc_auc_score\n",
    "import numpy as np\n"
   ]
  },
  {
   "cell_type": "code",
   "execution_count": 2,
   "metadata": {},
   "outputs": [],
   "source": [
    "# input_org = Input(shape=(51, 4), name='input_org')\n",
    "# input_rev = Input(shape=(51, 4), name='input_rev')\n",
    "\n",
    "# conv1 = Conv1D(filters=8, kernel_size=1, padding='same', activation=None)(input_org)\n",
    "# conv1_rv = Conv1D(filters=8, kernel_size=1, padding='same', activation=None)(input_rev)\n",
    "# conv1_rv_mid = Cropping1D(25)(conv1_rv)\n",
    "\n",
    "# def repeat_vector(args):\n",
    "#     layer_input = args[0]\n",
    "#     # hard-coded for now\n",
    "#     return kb.repeat_elements(kb.expand_dims(layer_input, 0), rep=51, axis=0)\n",
    "\n",
    "# conv1_rv_mid_tile = Lambda(repeat_vector)(conv1_rv_mid)\n",
    "\n",
    "# # def element_wise_multiply(x):\n",
    "# #     image,mask = x\n",
    "# #     mask = kb.expand_dims(mask, axis=-1) #could be K.stack([mask]*3, axis=-1) too \n",
    "# #     return mask*image\n",
    "\n",
    "# # conv1_prod = element_wise_multiply([conv1, conv1_rv_mid_tile])\n",
    "# conv1_prod = multiply([conv1, conv1_rv_mid_tile])\n",
    "\n",
    "# model = Model(input=[input_org, input_rev], output=conv1_prod)\n",
    "\n",
    "# model.compile(loss='binary_crossentropy', optimizer='adam')"
   ]
  },
  {
   "cell_type": "code",
   "execution_count": 3,
   "metadata": {},
   "outputs": [
    {
     "name": "stderr",
     "output_type": "stream",
     "text": [
      "/Users/alicegao/anaconda2/envs/dg_work/lib/python2.7/site-packages/ipykernel_launcher.py:23: UserWarning: Update your `Model` call to the Keras 2 API: `Model(outputs=Tensor(\"do..., inputs=[<tf.Tenso...)`\n"
     ]
    }
   ],
   "source": [
    "input_org = Input(shape=(51, 4), name='input_org')\n",
    "input_rev = Input(shape=(51, 4), name='input_rev')\n",
    "\n",
    "conv1 = Conv1D(filters=8, kernel_size=1, padding='same', activation=None)(input_org)\n",
    "conv1_rv = Conv1D(filters=8, kernel_size=1, padding='same', activation=None)(input_rev)\n",
    "conv1_rv_mid = Cropping1D(25)(conv1_rv)\n",
    "\n",
    "def swap_axes(args):\n",
    "    layer_input = args[0]\n",
    "    # hard-coded for now\n",
    "    return kb.permute_dimensions(layer_input, (1, 0))\n",
    "\n",
    "# conv1_rv_mid_swap = Lambda(swap_axes)(conv1_rv_mid)\n",
    "\n",
    "# def element_wise_multiply(x):\n",
    "#     image,mask = x\n",
    "#     mask = kb.expand_dims(mask, axis=-1) #could be K.stack([mask]*3, axis=-1) too \n",
    "#     return mask*image\n",
    "\n",
    "# conv1_prod = element_wise_multiply([conv1, conv1_rv_mid_tile])\n",
    "conv1_prod = Dot(axes=-1)([conv1, conv1_rv_mid])\n",
    "\n",
    "model = Model(input=[input_org, input_rev], output=conv1_prod)\n",
    "\n",
    "model.compile(loss='binary_crossentropy', optimizer='adam')"
   ]
  },
  {
   "cell_type": "code",
   "execution_count": null,
   "metadata": {},
   "outputs": [],
   "source": []
  },
  {
   "cell_type": "code",
   "execution_count": null,
   "metadata": {},
   "outputs": [],
   "source": []
  },
  {
   "cell_type": "code",
   "execution_count": 4,
   "metadata": {},
   "outputs": [
    {
     "name": "stdout",
     "output_type": "stream",
     "text": [
      "__________________________________________________________________________________________________\n",
      "Layer (type)                    Output Shape         Param #     Connected to                     \n",
      "==================================================================================================\n",
      "input_rev (InputLayer)          (None, 51, 4)        0                                            \n",
      "__________________________________________________________________________________________________\n",
      "input_org (InputLayer)          (None, 51, 4)        0                                            \n",
      "__________________________________________________________________________________________________\n",
      "conv1d_2 (Conv1D)               (None, 51, 8)        40          input_rev[0][0]                  \n",
      "__________________________________________________________________________________________________\n",
      "conv1d_1 (Conv1D)               (None, 51, 8)        40          input_org[0][0]                  \n",
      "__________________________________________________________________________________________________\n",
      "cropping1d_1 (Cropping1D)       (None, 1, 8)         0           conv1d_2[0][0]                   \n",
      "__________________________________________________________________________________________________\n",
      "dot_1 (Dot)                     (None, 51, 1)        0           conv1d_1[0][0]                   \n",
      "                                                                 cropping1d_1[0][0]               \n",
      "==================================================================================================\n",
      "Total params: 80\n",
      "Trainable params: 80\n",
      "Non-trainable params: 0\n",
      "__________________________________________________________________________________________________\n"
     ]
    }
   ],
   "source": [
    "model.summary()"
   ]
  },
  {
   "cell_type": "code",
   "execution_count": null,
   "metadata": {},
   "outputs": [],
   "source": []
  }
 ],
 "metadata": {
  "kernelspec": {
   "display_name": "Python 2",
   "language": "python",
   "name": "python2"
  },
  "language_info": {
   "codemirror_mode": {
    "name": "ipython",
    "version": 2
   },
   "file_extension": ".py",
   "mimetype": "text/x-python",
   "name": "python",
   "nbconvert_exporter": "python",
   "pygments_lexer": "ipython2",
   "version": "2.7.15"
  }
 },
 "nbformat": 4,
 "nbformat_minor": 2
}
