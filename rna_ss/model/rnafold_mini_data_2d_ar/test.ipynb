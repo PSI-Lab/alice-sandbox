{
 "cells": [
  {
   "cell_type": "code",
   "execution_count": 1,
   "metadata": {},
   "outputs": [
    {
     "name": "stderr",
     "output_type": "stream",
     "text": [
      "Using TensorFlow backend.\n"
     ]
    }
   ],
   "source": [
    "import math\n",
    "\n",
    "import numpy as np\n",
    "\n",
    "from keras import backend as K\n",
    "from keras.layers import Convolution2D, Input\n",
    "from keras.models import Model"
   ]
  },
  {
   "cell_type": "code",
   "execution_count": 2,
   "metadata": {},
   "outputs": [],
   "source": [
    "class TriangularConvolution2D(Convolution2D):\n",
    "    \n",
    "    def __init__(self, *args, **kwargs):\n",
    "        # TODO input filter size should reflet the triangle length L\n",
    "        # then we can initialize the base type using 2*L + 1 \n",
    "        super(TriangularConvolution2D, self).__init__(*args, **kwargs)\n",
    "\n",
    "        self.mask = None\n",
    "        \n",
    "    def build(self, input_shape):\n",
    "        super(TriangularConvolution2D, self).build(input_shape)\n",
    "\n",
    "        # Create a numpy array of ones in the shape of our convolution weights.\n",
    "        self.mask = np.ones(self.weights[0].shape)\n",
    "\n",
    "        # We assert the height and width of our convolution to be equal as they should.\n",
    "        assert self.mask.shape[0] == self.mask.shape[1]\n",
    "\n",
    "        # for now let's make sure the filter width is odd number\n",
    "        assert self.mask.shape[0] % 2 == 1\n",
    "        \n",
    "        # Since the height and width are equal, we can use either to represent the size of our convolution.\n",
    "        filter_size = self.mask.shape[0]\n",
    "        filter_center = filter_size // 2\n",
    "        print(filter_center)\n",
    "\n",
    "        # Zero out all weights above the center.\n",
    "        self.mask[:filter_center, :, :, :] = 0\n",
    "\n",
    "        # Zero out all weights to the right of the center.\n",
    "        self.mask[:, (filter_center+1):, :, :] = 0\n",
    "        \n",
    "        # zero out the little triangle to the left bottom\n",
    "        # TODO right now this is being done in a stupid way\n",
    "        for i in range(filter_center, self.mask.shape[0]):\n",
    "            self.mask[i, :(i-filter_center), :, :] = 0\n",
    "\n",
    "        # zero out the center weigths\n",
    "        self.mask[filter_center, filter_center, :, :] = 0\n",
    "\n",
    "        # Convert the numpy mask into a tensor mask.\n",
    "        self.mask = K.variable(self.mask)\n",
    "\n",
    "    def call(self, x, mask=None):\n",
    "        ''' I just copied the Keras Convolution2D call function so don't worry about all this code.\n",
    "            The only important piece is: self.W * self.mask.\n",
    "            Which multiplies the mask with the weights before calculating convolutions. '''\n",
    "        output = K.conv2d(x, self.weights[0] * self.mask,     strides=(1, 1),\n",
    "                        padding=self.padding, data_format=self.data_format,\n",
    "                        dilation_rate=self.dilation_rate)\n",
    "        \n",
    "        if self.use_bias:\n",
    "            output = K.bias_add(\n",
    "                output,\n",
    "                self.bias,\n",
    "                data_format=self.data_format)\n",
    "            \n",
    "        if self.activation is not None:\n",
    "            return self.activation(output)\n",
    "        \n",
    "#         if self.bias:\n",
    "#             if self.dim_ordering == 'th':\n",
    "#                 output += K.reshape(self.b, (1, self.nb_filter, 1, 1))\n",
    "#             elif self.dim_ordering == 'tf':\n",
    "#                 output += K.reshape(self.b, (1, 1, 1, self.nb_filter))\n",
    "#             else:\n",
    "#                 raise ValueError('Invalid dim_ordering:', self.dim_ordering)\n",
    "#         output = self.activation(output)\n",
    "        return output\n",
    "\n",
    "    def get_config(self):\n",
    "        # Add the mask type property to the config.\n",
    "        return dict(list(super().get_config().items()) + list({'mask': self.mask_type}.items()))"
   ]
  },
  {
   "cell_type": "code",
   "execution_count": 3,
   "metadata": {},
   "outputs": [
    {
     "name": "stdout",
     "output_type": "stream",
     "text": [
      "2\n"
     ]
    },
    {
     "name": "stderr",
     "output_type": "stream",
     "text": [
      "/Users/alicegao/anaconda2/envs/dg_work/lib/python2.7/site-packages/ipykernel_launcher.py:6: UserWarning: Update your `TriangularConvolution2D` call to the Keras 2 API: `TriangularConvolution2D(20, (5, 5), padding=\"same\")`\n",
      "  \n",
      "/Users/alicegao/anaconda2/envs/dg_work/lib/python2.7/site-packages/ipykernel_launcher.py:9: UserWarning: Update your `Model` call to the Keras 2 API: `Model(outputs=Tensor(\"tr..., inputs=Tensor(\"in...)`\n",
      "  if __name__ == '__main__':\n"
     ]
    }
   ],
   "source": [
    "shape = (50, 50, 1)\n",
    "filters = 20\n",
    "\n",
    "input_img = Input(shape)\n",
    "\n",
    "output = TriangularConvolution2D(filters, 5, 5, border_mode='same')(input_img)\n",
    "\n",
    "\n",
    "model = Model(input=input_img, output=output)"
   ]
  },
  {
   "cell_type": "code",
   "execution_count": 4,
   "metadata": {},
   "outputs": [
    {
     "name": "stdout",
     "output_type": "stream",
     "text": [
      "_________________________________________________________________\n",
      "Layer (type)                 Output Shape              Param #   \n",
      "=================================================================\n",
      "input_1 (InputLayer)         (None, 50, 50, 1)         0         \n",
      "_________________________________________________________________\n",
      "triangular_convolution2d_1 ( (None, 50, 50, 20)        520       \n",
      "=================================================================\n",
      "Total params: 520\n",
      "Trainable params: 520\n",
      "Non-trainable params: 0\n",
      "_________________________________________________________________\n"
     ]
    }
   ],
   "source": [
    "model.summary()"
   ]
  },
  {
   "cell_type": "code",
   "execution_count": null,
   "metadata": {},
   "outputs": [],
   "source": []
  }
 ],
 "metadata": {
  "kernelspec": {
   "display_name": "Python 2",
   "language": "python",
   "name": "python2"
  },
  "language_info": {
   "codemirror_mode": {
    "name": "ipython",
    "version": 2
   },
   "file_extension": ".py",
   "mimetype": "text/x-python",
   "name": "python",
   "nbconvert_exporter": "python",
   "pygments_lexer": "ipython2",
   "version": "2.7.15"
  }
 },
 "nbformat": 4,
 "nbformat_minor": 2
}
