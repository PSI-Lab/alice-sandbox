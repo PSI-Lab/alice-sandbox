{
 "cells": [
  {
   "cell_type": "code",
   "execution_count": null,
   "metadata": {},
   "outputs": [],
   "source": [
    "import pandas as pd\n",
    "import numpy as np"
   ]
  },
  {
   "cell_type": "code",
   "execution_count": null,
   "metadata": {},
   "outputs": [],
   "source": [
    "import plotly.express as px"
   ]
  },
  {
   "cell_type": "code",
   "execution_count": null,
   "metadata": {},
   "outputs": [],
   "source": [
    "from model_utils.utils_s2 import Predictor"
   ]
  },
  {
   "cell_type": "code",
   "execution_count": null,
   "metadata": {},
   "outputs": [],
   "source": [
    "import dgutils.pandas as dgp"
   ]
  },
  {
   "cell_type": "code",
   "execution_count": null,
   "metadata": {},
   "outputs": [],
   "source": [
    "from model_utils.utils_nn_s2 import add_bb_bottom_left, greedy_sample"
   ]
  },
  {
   "cell_type": "code",
   "execution_count": null,
   "metadata": {},
   "outputs": [],
   "source": [
    "predictor = Predictor('../2020_12_08/result/synthetic_s2_training_2/model_ckpt_ep_12.pth')"
   ]
  },
  {
   "cell_type": "code",
   "execution_count": null,
   "metadata": {},
   "outputs": [],
   "source": []
  },
  {
   "cell_type": "code",
   "execution_count": null,
   "metadata": {},
   "outputs": [],
   "source": [
    "def summarize_df(df, hloop=False):\n",
    "    # calculate median prob and n_proposal_norm\n",
    "    \n",
    "    def _tmp(siz_x, siz_y, prob):\n",
    "        prob_median = np.median(prob)\n",
    "        n_proposal_norm = len(prob)/float(siz_x * siz_y)\n",
    "        if hloop:\n",
    "            n_proposal_norm = 2 * n_proposal_norm\n",
    "        return prob_median, n_proposal_norm\n",
    "        \n",
    "    df = dgp.add_columns(df, ['prob_median', 'n_proposal_norm'],\n",
    "                        ['siz_x', 'siz_y', 'prob'], _tmp)\n",
    "    # subset columns\n",
    "    df = df[['bb_x', 'bb_y', 'siz_x', 'siz_y', 'prob_median', 'n_proposal_norm']]\n",
    "    return df"
   ]
  },
  {
   "cell_type": "code",
   "execution_count": null,
   "metadata": {},
   "outputs": [],
   "source": []
  },
  {
   "cell_type": "code",
   "execution_count": null,
   "metadata": {},
   "outputs": [],
   "source": [
    "def bb_df2arr(df, seq_len):\n",
    "    x = np.zeros((seq_len, seq_len))\n",
    "    # subset to stems\n",
    "    df = df[df['bb_type'] == 'stem']\n",
    "    for _, row in df.iterrows():\n",
    "        bb_x = row['bb_x']\n",
    "        bb_y = row['bb_y']\n",
    "        siz_x = row['siz_x']\n",
    "        siz_y = row['siz_y']\n",
    "        assert siz_x == siz_y\n",
    "        assert int(siz_x) == siz_x\n",
    "        siz_x = int(siz_x)\n",
    "        assert int(bb_x) == bb_x\n",
    "        bb_x = int(bb_x)\n",
    "        assert int(bb_y) == bb_y\n",
    "        bb_y = int(bb_y)\n",
    "        for offset in range(int(siz_x)):\n",
    "            idx_x = bb_x + offset\n",
    "            idx_y = bb_y - offset\n",
    "            x[idx_x, idx_y] = 1\n",
    "            x[idx_y, idx_x] = 1\n",
    "    return x"
   ]
  },
  {
   "cell_type": "code",
   "execution_count": null,
   "metadata": {},
   "outputs": [],
   "source": [
    "def tmp_eval(data):\n",
    "    # FIXME handle cases where some are None\n",
    "    df_stem = summarize_df(pd.DataFrame(data['bb_stem']))\n",
    "    df_iloop = summarize_df(pd.DataFrame(data['bb_iloop']))\n",
    "    df_hloop = summarize_df(pd.DataFrame(data['bb_hloop']), hloop=True)\n",
    "    # add bottom left coord\n",
    "    df_stem = add_bb_bottom_left(df_stem)\n",
    "    df_iloop = add_bb_bottom_left(df_iloop)\n",
    "    df_hloop = add_bb_bottom_left(df_hloop)\n",
    "    \n",
    "    picked_bb, df_data = greedy_sample(df_stem, df_iloop, df_hloop, predictor)\n",
    "    \n",
    "    df_picked = df_data[df_data['id_bb'].isin(picked_bb)][['bb_x', 'bb_y', 'siz_x', 'siz_y', 'pred', 'id_bb']]\n",
    "    # add bb type (using id, hacky)\n",
    "    df_picked = dgp.add_column(df_picked, 'bb_type', ['id_bb'], lambda x: x.split('_')[0])\n",
    "    \n",
    "    seq_len = data['len']\n",
    "    arr_pred = bb_df2arr(df_picked, seq_len)\n",
    "    arr_target = bb_df2arr(pd.DataFrame(data['df_target']), seq_len)\n",
    "    \n",
    "    \n",
    "    TP = np.sum(arr_pred * arr_target)   # pred = target = 1\n",
    "    FP = np.sum(arr_pred * (1 - arr_target))   # pred = 1, target = 0\n",
    "    TN = np.sum((1 - arr_pred) * (1 - arr_target))  # pred = target = 0\n",
    "    FN = np.sum((1 - arr_pred) * arr_target) # pred = 0, target = 1\n",
    "    # Sensitivity, hit rate, recall, or true positive rate\n",
    "    TPR = TP/(TP+FN)\n",
    "    # Specificity or true negative rate\n",
    "    TNR = TN/(TN+FP) \n",
    "    # Precision or positive predictive value\n",
    "    PPV = TP/(TP+FP)\n",
    "    \n",
    "    # whether S1 bb sensitivity is 100%\n",
    "    s1_ss = len(data['df_target']) == data['n_bb_found']\n",
    "    \n",
    "    return TPR, TNR, PPV, s1_ss"
   ]
  },
  {
   "cell_type": "code",
   "execution_count": null,
   "metadata": {},
   "outputs": [],
   "source": []
  },
  {
   "cell_type": "code",
   "execution_count": null,
   "metadata": {},
   "outputs": [],
   "source": [
    "df = pd.read_pickle('data/synthetic_s1_pruned.pkl.gz')"
   ]
  },
  {
   "cell_type": "code",
   "execution_count": null,
   "metadata": {},
   "outputs": [],
   "source": [
    "# randomly sample 1000 examples\n",
    "df_result = []\n",
    "\n",
    "df = df.sample(frac=1)  # shuffle\n",
    "\n",
    "for _, row in df.iterrows():\n",
    "    try:  # some corner cases need fix (no bb of certain type, out of bound, etc.)\n",
    "        TPR, TNR, PPV, s1_ss = tmp_eval(row)\n",
    "    except:\n",
    "        continue\n",
    "    df_result.append({\n",
    "        'tpr': TPR,\n",
    "        'tnr': TNR,\n",
    "        'ppv': PPV,\n",
    "        's1_ss': s1_ss,\n",
    "        'seq_len': row['len'],\n",
    "    })\n",
    "    if len(df_result) >= 1000:\n",
    "        break\n",
    "\n",
    "df_result = pd.DataFrame(df_result)"
   ]
  },
  {
   "cell_type": "code",
   "execution_count": null,
   "metadata": {},
   "outputs": [],
   "source": [
    "df_result"
   ]
  },
  {
   "cell_type": "code",
   "execution_count": null,
   "metadata": {},
   "outputs": [],
   "source": [
    "px.scatter(df_result[df_result['s1_ss']], x='tpr', y='ppv', hover_data=['seq_len'], marginal_x='violin', marginal_y='violin')"
   ]
  },
  {
   "cell_type": "code",
   "execution_count": null,
   "metadata": {},
   "outputs": [],
   "source": [
    "df_result[df_result['s1_ss']].describe()"
   ]
  },
  {
   "cell_type": "code",
   "execution_count": null,
   "metadata": {},
   "outputs": [],
   "source": [
    "px.scatter(df_result[~df_result['s1_ss']], x='tpr', y='ppv', hover_data=['seq_len'], marginal_x='violin', marginal_y='violin')"
   ]
  },
  {
   "cell_type": "code",
   "execution_count": null,
   "metadata": {},
   "outputs": [],
   "source": []
  },
  {
   "cell_type": "code",
   "execution_count": null,
   "metadata": {},
   "outputs": [],
   "source": []
  },
  {
   "cell_type": "code",
   "execution_count": null,
   "metadata": {},
   "outputs": [],
   "source": []
  },
  {
   "cell_type": "code",
   "execution_count": null,
   "metadata": {},
   "outputs": [],
   "source": [
    "# # synthetic\n",
    "# df = pd.read_pickle('data/synthetic_s1_pruned.pkl.gz')\n",
    "\n",
    "# data = df.iloc[0]"
   ]
  },
  {
   "cell_type": "code",
   "execution_count": null,
   "metadata": {},
   "outputs": [],
   "source": [
    "# data = df.iloc[111]"
   ]
  },
  {
   "cell_type": "code",
   "execution_count": null,
   "metadata": {},
   "outputs": [],
   "source": [
    "# # rfam\n",
    "# df = pd.read_pickle('../2020_11_24/data/rfam151_s1_pruned.pkl.gz')\n",
    "\n",
    "# data = df.iloc[4]\n",
    "# # data = df.iloc[6]\n",
    "\n",
    "# # data = df.iloc[26]\n",
    "\n",
    "# # data = df.iloc[55]\n"
   ]
  },
  {
   "cell_type": "code",
   "execution_count": null,
   "metadata": {},
   "outputs": [],
   "source": [
    "# # FIXME handle cases where some are None\n",
    "# df_stem = summarize_df(pd.DataFrame(data['bb_stem']))\n",
    "# df_iloop = summarize_df(pd.DataFrame(data['bb_iloop']))\n",
    "# df_hloop = summarize_df(pd.DataFrame(data['bb_hloop']), hloop=True)\n",
    "# # add bottom left coord\n",
    "# df_stem = add_bb_bottom_left(df_stem)\n",
    "# df_iloop = add_bb_bottom_left(df_iloop)\n",
    "# df_hloop = add_bb_bottom_left(df_hloop)"
   ]
  },
  {
   "cell_type": "code",
   "execution_count": null,
   "metadata": {},
   "outputs": [],
   "source": []
  },
  {
   "cell_type": "code",
   "execution_count": null,
   "metadata": {},
   "outputs": [],
   "source": [
    "# picked_bb, df_data = greedy_sample(df_stem, df_iloop, df_hloop, predictor)"
   ]
  },
  {
   "cell_type": "code",
   "execution_count": null,
   "metadata": {},
   "outputs": [],
   "source": []
  },
  {
   "cell_type": "code",
   "execution_count": null,
   "metadata": {},
   "outputs": [],
   "source": [
    "# picked_bb"
   ]
  },
  {
   "cell_type": "code",
   "execution_count": null,
   "metadata": {},
   "outputs": [],
   "source": []
  },
  {
   "cell_type": "code",
   "execution_count": null,
   "metadata": {},
   "outputs": [],
   "source": [
    "# df_picked = df_data[df_data['id_bb'].isin(picked_bb)][['bb_x', 'bb_y', 'siz_x', 'siz_y', 'pred', 'id_bb']]\n",
    "# # add bb type (using id, hacky)\n",
    "# df_picked = dgp.add_column(df_picked, 'bb_type', ['id_bb'], lambda x: x.split('_')[0])"
   ]
  },
  {
   "cell_type": "code",
   "execution_count": null,
   "metadata": {},
   "outputs": [],
   "source": [
    "# df_picked"
   ]
  },
  {
   "cell_type": "code",
   "execution_count": null,
   "metadata": {},
   "outputs": [],
   "source": [
    "# pd.DataFrame(data['df_target'])"
   ]
  },
  {
   "cell_type": "code",
   "execution_count": null,
   "metadata": {},
   "outputs": [],
   "source": [
    "# seq_len = data['len']"
   ]
  },
  {
   "cell_type": "code",
   "execution_count": null,
   "metadata": {},
   "outputs": [],
   "source": [
    "# arr_pred = bb_df2arr(df_picked, seq_len)\n",
    "# arr_target = bb_df2arr(pd.DataFrame(data['df_target']), seq_len)"
   ]
  },
  {
   "cell_type": "code",
   "execution_count": null,
   "metadata": {},
   "outputs": [],
   "source": []
  },
  {
   "cell_type": "code",
   "execution_count": null,
   "metadata": {},
   "outputs": [],
   "source": [
    "\n",
    "# TP = np.sum(arr_pred * arr_target)   # pred = target = 1\n",
    "# FP = np.sum(arr_pred * (1 - arr_target))   # pred = 1, target = 0\n",
    "# TN = np.sum((1 - arr_pred) * (1 - arr_target))  # pred = target = 0\n",
    "# FN = np.sum((1 - arr_pred) * arr_target) # pred = 0, target = 1\n",
    "        \n",
    "\n",
    "\n",
    "# # Sensitivity, hit rate, recall, or true positive rate\n",
    "# TPR = TP/(TP+FN)\n",
    "# # Specificity or true negative rate\n",
    "# TNR = TN/(TN+FP) \n",
    "# # Precision or positive predictive value\n",
    "# PPV = TP/(TP+FP)"
   ]
  },
  {
   "cell_type": "code",
   "execution_count": null,
   "metadata": {},
   "outputs": [],
   "source": [
    "# print(TPR, TNR, PPV)"
   ]
  },
  {
   "cell_type": "code",
   "execution_count": null,
   "metadata": {},
   "outputs": [],
   "source": [
    "# print(len(data['df_target']), data['n_bb_found'])"
   ]
  },
  {
   "cell_type": "code",
   "execution_count": null,
   "metadata": {},
   "outputs": [],
   "source": []
  },
  {
   "cell_type": "code",
   "execution_count": null,
   "metadata": {},
   "outputs": [],
   "source": []
  }
 ],
 "metadata": {
  "kernelspec": {
   "display_name": "Python 3",
   "language": "python",
   "name": "python3"
  },
  "language_info": {
   "codemirror_mode": {
    "name": "ipython",
    "version": 3
   },
   "file_extension": ".py",
   "mimetype": "text/x-python",
   "name": "python",
   "nbconvert_exporter": "python",
   "pygments_lexer": "ipython3",
   "version": "3.7.6"
  }
 },
 "nbformat": 4,
 "nbformat_minor": 4
}
