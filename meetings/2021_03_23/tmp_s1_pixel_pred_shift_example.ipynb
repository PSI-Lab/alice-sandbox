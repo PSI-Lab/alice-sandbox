{
 "cells": [
  {
   "cell_type": "code",
   "execution_count": null,
   "id": "continental-jimmy",
   "metadata": {},
   "outputs": [],
   "source": [
    "import pandas as pd\n",
    "from model_utils.utils_model import Predictor\n",
    "from model_utils.util_global_struct import process_bb_old_to_new"
   ]
  },
  {
   "cell_type": "code",
   "execution_count": null,
   "id": "compound-disorder",
   "metadata": {},
   "outputs": [],
   "source": [
    "import numpy as np\n",
    "import torch\n",
    "from model_utils.utils_model import DataEncoder"
   ]
  },
  {
   "cell_type": "code",
   "execution_count": null,
   "id": "horizontal-atlanta",
   "metadata": {},
   "outputs": [],
   "source": [
    "from scipy.special import softmax"
   ]
  },
  {
   "cell_type": "code",
   "execution_count": null,
   "id": "understanding-filename",
   "metadata": {},
   "outputs": [],
   "source": [
    "import plotly.express as px"
   ]
  },
  {
   "cell_type": "code",
   "execution_count": null,
   "id": "optional-rabbit",
   "metadata": {},
   "outputs": [],
   "source": [
    "df = pd.read_pickle('../2021_03_16/data/human_transcriptome_segment_high_mfe_freq_testing_len64_100.pkl.gz')"
   ]
  },
  {
   "cell_type": "code",
   "execution_count": null,
   "id": "olive-plane",
   "metadata": {},
   "outputs": [],
   "source": [
    "model_path = 's1_training/result/run_7/model_ckpt_ep_17.pth'  # best model\n",
    "\n",
    "predictor = Predictor(model_ckpt=model_path,\n",
    "                     num_filters=[32, 32, 64, 64, 64, 128, 128],\n",
    "                     filter_width=[9, 9, 9, 9, 9, 9, 9],\n",
    "                     dropout=0.0)\n"
   ]
  },
  {
   "cell_type": "code",
   "execution_count": null,
   "id": "regular-medicare",
   "metadata": {},
   "outputs": [],
   "source": [
    "idx = 99\n",
    "seq = df.iloc[idx]['seq']\n",
    "one_idx = df.iloc[idx]['one_idx']\n",
    "bounding_boxes = df.iloc[idx]['bounding_boxes']\n",
    "df_target = process_bb_old_to_new(bounding_boxes)"
   ]
  },
  {
   "cell_type": "code",
   "execution_count": null,
   "id": "included-contents",
   "metadata": {},
   "outputs": [],
   "source": [
    "seq"
   ]
  },
  {
   "cell_type": "code",
   "execution_count": null,
   "id": "center-murray",
   "metadata": {},
   "outputs": [],
   "source": [
    "df_target"
   ]
  },
  {
   "cell_type": "code",
   "execution_count": null,
   "id": "surprised-possibility",
   "metadata": {},
   "outputs": [],
   "source": [
    "de = DataEncoder(seq)\n",
    "yp = predictor.model(torch.tensor(de.x_torch))\n",
    "yp = {k: v.detach().cpu().numpy()[0, :, :, :] for k, v in yp.items()}"
   ]
  },
  {
   "cell_type": "code",
   "execution_count": null,
   "id": "jewish-taxation",
   "metadata": {},
   "outputs": [],
   "source": [
    "yp.keys()"
   ]
  },
  {
   "cell_type": "code",
   "execution_count": null,
   "id": "injured-proposal",
   "metadata": {},
   "outputs": [],
   "source": [
    "stem_on = yp['stem_on'][0, :, :]\n",
    "# hard-mask lower triangular part\n",
    "stem_on[np.tril_indices(len(seq))] = 0\n",
    "fig = px.imshow(stem_on)\n",
    "fig.update_layout(title='stem_on')"
   ]
  },
  {
   "cell_type": "code",
   "execution_count": null,
   "id": "historical-picnic",
   "metadata": {},
   "outputs": [],
   "source": [
    "yp['stem_sl_size'][0, 29:29+4, 55+1-4:55+1]"
   ]
  },
  {
   "cell_type": "code",
   "execution_count": null,
   "id": "northern-architect",
   "metadata": {},
   "outputs": [],
   "source": [
    "# px.imshow(yp['stem_sl_size'][0, 29-2:29+4+2, 55+1-4-2:55+1+2])\n",
    "# px.imshow(yp['stem_sl_size'][0, :, :])"
   ]
  },
  {
   "cell_type": "code",
   "execution_count": null,
   "id": "injured-liberty",
   "metadata": {},
   "outputs": [],
   "source": []
  },
  {
   "cell_type": "code",
   "execution_count": null,
   "id": "executed-bones",
   "metadata": {},
   "outputs": [],
   "source": [
    "def make_pixel_shift_plot(yp, pred_key, x_tr, y_tr,  bb_size, offset, direction):\n",
    "    df_plot = pd.DataFrame()\n",
    "    for offset in range(-offset, bb_size+offset):\n",
    "        if direction == 'x':\n",
    "            val = softmax(yp[pred_key][:, x_tr+offset, y_tr])\n",
    "            df_plot['location {}'.format(x_tr+offset)] = val\n",
    "        elif direction == 'y':\n",
    "            val = softmax(yp[pred_key][:, x_tr, y_tr-offset])\n",
    "            df_plot['location {}'.format(y_tr-offset)] = val\n",
    "\n",
    "    fig = px.line(df_plot)\n",
    "    return fig"
   ]
  },
  {
   "cell_type": "code",
   "execution_count": null,
   "id": "filled-bennett",
   "metadata": {},
   "outputs": [],
   "source": [
    "# x_tr, y_tr = 29, 55\n",
    "# print(yp['stem_on'][0, x_tr, y_tr])\n",
    "# bb_size = 4\n",
    "# direction = 'y'\n",
    "# pred_key = 'stem_location_y'\n",
    "\n",
    "pred_key = 'stem_location_y'\n",
    "fig = make_pixel_shift_plot(yp, pred_key=pred_key,\n",
    "                            x_tr=29, y_tr=55,  \n",
    "                            bb_size=4, offset=2, direction='y')\n",
    "fig.update_layout(title=pred_key, height=500, width=600)\n"
   ]
  },
  {
   "cell_type": "code",
   "execution_count": null,
   "id": "solid-style",
   "metadata": {},
   "outputs": [],
   "source": [
    "pred_key = 'stem_location_x'\n",
    "fig = make_pixel_shift_plot(yp, pred_key=pred_key,\n",
    "                            x_tr=29, y_tr=55,  \n",
    "                            bb_size=4, offset=2, direction='x')\n",
    "fig.update_layout(title=pred_key, height=500, width=600)\n"
   ]
  },
  {
   "cell_type": "code",
   "execution_count": null,
   "id": "primary-delicious",
   "metadata": {},
   "outputs": [],
   "source": []
  },
  {
   "cell_type": "code",
   "execution_count": null,
   "id": "biblical-hurricane",
   "metadata": {},
   "outputs": [],
   "source": []
  },
  {
   "cell_type": "code",
   "execution_count": null,
   "id": "general-night",
   "metadata": {},
   "outputs": [],
   "source": [
    "iloop_on = yp['iloop_on'][0, :, :]\n",
    "# hard-mask lower triangular part\n",
    "iloop_on[np.tril_indices(len(seq))] = 0\n",
    "fig = px.imshow(iloop_on)\n",
    "fig.update_layout(title='iloop_on')"
   ]
  },
  {
   "cell_type": "code",
   "execution_count": null,
   "id": "annoying-meaning",
   "metadata": {},
   "outputs": [],
   "source": [
    "pred_key = 'iloop_location_y'\n",
    "fig = make_pixel_shift_plot(yp, pred_key=pred_key,\n",
    "                            x_tr=18, y_tr=36,  \n",
    "                            bb_size=4,  offset=2, direction='y')\n",
    "fig.update_layout(title=pred_key, height=500, width=600)"
   ]
  },
  {
   "cell_type": "code",
   "execution_count": null,
   "id": "received-preservation",
   "metadata": {},
   "outputs": [],
   "source": [
    "pred_key = 'iloop_location_x'\n",
    "fig = make_pixel_shift_plot(yp, pred_key=pred_key,\n",
    "                            x_tr=18, y_tr=36,  \n",
    "                            bb_size=6,  offset=2, direction='x')\n",
    "fig.update_layout(title=pred_key, height=500, width=600)"
   ]
  },
  {
   "cell_type": "code",
   "execution_count": null,
   "id": "baking-bonus",
   "metadata": {},
   "outputs": [],
   "source": []
  },
  {
   "cell_type": "code",
   "execution_count": null,
   "id": "structural-bronze",
   "metadata": {},
   "outputs": [],
   "source": []
  },
  {
   "cell_type": "code",
   "execution_count": null,
   "id": "effective-staff",
   "metadata": {},
   "outputs": [],
   "source": [
    "iloop_on = yp['hloop_on'][0, :, :]\n",
    "# hard-mask lower triangular part\n",
    "iloop_on[np.tril_indices(len(seq))] = 0\n",
    "fig = px.imshow(iloop_on)\n",
    "fig.update_layout(title='hloop_on')"
   ]
  },
  {
   "cell_type": "code",
   "execution_count": null,
   "id": "universal-banks",
   "metadata": {},
   "outputs": [],
   "source": [
    "pred_key = 'hloop_location_y'\n",
    "fig = make_pixel_shift_plot(yp, pred_key=pred_key,\n",
    "                            x_tr=48, y_tr=52,  \n",
    "                            bb_size=4, offset=2, direction='y')\n",
    "fig.update_layout(title=pred_key, height=500, width=600)"
   ]
  },
  {
   "cell_type": "code",
   "execution_count": null,
   "id": "emotional-workplace",
   "metadata": {},
   "outputs": [],
   "source": [
    "pred_key = 'hloop_location_x'\n",
    "fig = make_pixel_shift_plot(yp, pred_key=pred_key,\n",
    "                            x_tr=48, y_tr=52,  \n",
    "                            bb_size=4, offset=2, direction='x')\n",
    "fig.update_layout(title=pred_key, height=500, width=600)"
   ]
  },
  {
   "cell_type": "code",
   "execution_count": null,
   "id": "concerned-dollar",
   "metadata": {},
   "outputs": [],
   "source": [
    "yp.keys()"
   ]
  },
  {
   "cell_type": "code",
   "execution_count": null,
   "id": "soviet-wholesale",
   "metadata": {},
   "outputs": [],
   "source": [
    "\n",
    "pred_key = 'hloop_sm_size'\n",
    "fig = make_pixel_shift_plot(yp, pred_key=pred_key,\n",
    "                            x_tr=48, y_tr=52,  \n",
    "                            bb_size=4, offset=2, direction='y')\n",
    "fig.update_layout(title=pred_key, height=500, width=600)"
   ]
  },
  {
   "cell_type": "code",
   "execution_count": null,
   "id": "chief-textbook",
   "metadata": {},
   "outputs": [],
   "source": []
  }
 ],
 "metadata": {
  "kernelspec": {
   "display_name": "Python 3",
   "language": "python",
   "name": "python3"
  },
  "language_info": {
   "codemirror_mode": {
    "name": "ipython",
    "version": 3
   },
   "file_extension": ".py",
   "mimetype": "text/x-python",
   "name": "python",
   "nbconvert_exporter": "python",
   "pygments_lexer": "ipython3",
   "version": "3.7.6"
  }
 },
 "nbformat": 4,
 "nbformat_minor": 5
}
