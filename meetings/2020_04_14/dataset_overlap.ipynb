{
 "cells": [
  {
   "cell_type": "code",
   "execution_count": 1,
   "metadata": {},
   "outputs": [],
   "source": [
    "import pandas as pd"
   ]
  },
  {
   "cell_type": "code",
   "execution_count": 2,
   "metadata": {},
   "outputs": [],
   "source": [
    "from functools import reduce"
   ]
  },
  {
   "cell_type": "code",
   "execution_count": 3,
   "metadata": {},
   "outputs": [],
   "source": [
    "df_rnastralign = pd.read_pickle('/Users/alicegao/work/psi-lab-sandbox/rna_ss/data_processing/e2efold/data/rnastralign.pkl.gz', compression='gzip')"
   ]
  },
  {
   "cell_type": "code",
   "execution_count": 4,
   "metadata": {},
   "outputs": [],
   "source": [
    "df_rfam = pd.read_pickle('/Users/alicegao/work/psi-lab-sandbox/rna_ss/data_processing/rna_cg/data/rfam.pkl')"
   ]
  },
  {
   "cell_type": "code",
   "execution_count": 5,
   "metadata": {},
   "outputs": [],
   "source": [
    "df_s_processed_1 = pd.read_pickle('/Users/alicegao/work/psi-lab-sandbox/rna_ss/data_processing/rna_cg/data/s_processed.pkl')\n",
    "df_s_processed_2 = pd.read_pickle('/Users/alicegao/work/psi-lab-sandbox/rna_ss/data_processing/rna_cg/data/s_processed_test.pkl')\n",
    "df_s_processed = pd.concat([df_s_processed_1, df_s_processed_2])\n",
    "\n"
   ]
  },
  {
   "cell_type": "code",
   "execution_count": 6,
   "metadata": {},
   "outputs": [],
   "source": [
    "df_pdb_250 = pd.read_pickle('/Users/alicegao/work/psi-lab-sandbox/rna_ss/data_processing/pdb_250/data/pdb_250.pkl')"
   ]
  },
  {
   "cell_type": "code",
   "execution_count": null,
   "metadata": {},
   "outputs": [],
   "source": []
  },
  {
   "cell_type": "code",
   "execution_count": null,
   "metadata": {},
   "outputs": [],
   "source": []
  },
  {
   "cell_type": "code",
   "execution_count": 7,
   "metadata": {},
   "outputs": [],
   "source": [
    "df_rfam = df_rfam.rename(columns={'seq_id': 'seq_id_rfam'})"
   ]
  },
  {
   "cell_type": "code",
   "execution_count": 8,
   "metadata": {},
   "outputs": [],
   "source": [
    "df_rnastralign = df_rnastralign.rename(columns={'seq_id': 'seq_id_rnastralign'})"
   ]
  },
  {
   "cell_type": "code",
   "execution_count": 9,
   "metadata": {},
   "outputs": [],
   "source": [
    "df_s_processed = df_s_processed.rename(columns={'seq_id': 'seq_id_sprocessed'})"
   ]
  },
  {
   "cell_type": "code",
   "execution_count": 10,
   "metadata": {},
   "outputs": [],
   "source": [
    "df_pdb_250 = df_pdb_250.rename(columns={'seq_id': 'seq_id_pdb250'})\n",
    " "
   ]
  },
  {
   "cell_type": "code",
   "execution_count": null,
   "metadata": {},
   "outputs": [],
   "source": []
  },
  {
   "cell_type": "code",
   "execution_count": null,
   "metadata": {},
   "outputs": [],
   "source": []
  },
  {
   "cell_type": "code",
   "execution_count": null,
   "metadata": {},
   "outputs": [],
   "source": []
  },
  {
   "cell_type": "code",
   "execution_count": 11,
   "metadata": {},
   "outputs": [
    {
     "data": {
      "text/plain": [
       "151"
      ]
     },
     "execution_count": 11,
     "metadata": {},
     "output_type": "execute_result"
    }
   ],
   "source": [
    "len(df_rfam)"
   ]
  },
  {
   "cell_type": "code",
   "execution_count": 12,
   "metadata": {},
   "outputs": [
    {
     "data": {
      "text/plain": [
       "37138"
      ]
     },
     "execution_count": 12,
     "metadata": {},
     "output_type": "execute_result"
    }
   ],
   "source": [
    "len(df_rnastralign)"
   ]
  },
  {
   "cell_type": "code",
   "execution_count": 13,
   "metadata": {},
   "outputs": [
    {
     "data": {
      "text/plain": [
       "6247"
      ]
     },
     "execution_count": 13,
     "metadata": {},
     "output_type": "execute_result"
    }
   ],
   "source": [
    "len(df_s_processed)"
   ]
  },
  {
   "cell_type": "code",
   "execution_count": 14,
   "metadata": {},
   "outputs": [
    {
     "data": {
      "text/plain": [
       "241"
      ]
     },
     "execution_count": 14,
     "metadata": {},
     "output_type": "execute_result"
    }
   ],
   "source": [
    "len(df_pdb_250)"
   ]
  },
  {
   "cell_type": "code",
   "execution_count": null,
   "metadata": {},
   "outputs": [],
   "source": []
  },
  {
   "cell_type": "code",
   "execution_count": null,
   "metadata": {},
   "outputs": [],
   "source": []
  },
  {
   "cell_type": "code",
   "execution_count": null,
   "metadata": {},
   "outputs": [],
   "source": []
  },
  {
   "cell_type": "code",
   "execution_count": 16,
   "metadata": {},
   "outputs": [],
   "source": [
    "# join on sequence\n",
    "# df = pd.merge(pd.merge(df_rfam, df_rnastralign, on='seq', how='outer'), df_s_processed, on='seq', how='outer')\n",
    "\n",
    "df = reduce(lambda left,right: pd.merge(left,right,on='seq',how='outer'), \n",
    "           [df_rfam, df_rnastralign, df_s_processed, df_pdb_250])\n"
   ]
  },
  {
   "cell_type": "code",
   "execution_count": 17,
   "metadata": {},
   "outputs": [
    {
     "data": {
      "text/html": [
       "<div>\n",
       "<style scoped>\n",
       "    .dataframe tbody tr th:only-of-type {\n",
       "        vertical-align: middle;\n",
       "    }\n",
       "\n",
       "    .dataframe tbody tr th {\n",
       "        vertical-align: top;\n",
       "    }\n",
       "\n",
       "    .dataframe thead th {\n",
       "        text-align: right;\n",
       "    }\n",
       "</style>\n",
       "<table border=\"1\" class=\"dataframe\">\n",
       "  <thead>\n",
       "    <tr style=\"text-align: right;\">\n",
       "      <th></th>\n",
       "      <th>len_x</th>\n",
       "      <th>one_idx_x</th>\n",
       "      <th>seq</th>\n",
       "      <th>seq_id_rfam</th>\n",
       "      <th>one_idx_y</th>\n",
       "      <th>seq_id_rnastralign</th>\n",
       "      <th>source_file</th>\n",
       "      <th>len_y</th>\n",
       "      <th>one_idx_x</th>\n",
       "      <th>seq_id_sprocessed</th>\n",
       "      <th>category</th>\n",
       "      <th>len</th>\n",
       "      <th>one_idx_y</th>\n",
       "      <th>seq_id_pdb250</th>\n",
       "    </tr>\n",
       "  </thead>\n",
       "  <tbody>\n",
       "    <tr>\n",
       "      <th>0</th>\n",
       "      <td>117.0</td>\n",
       "      <td>([0, 1, 2, 3, 4, 5, 6, 7, 8, 13, 14, 16, 17, 1...</td>\n",
       "      <td>UUCGGUGGUUAUAGCGGUGGGGAAACACCCGGUCCCAUUCCGAACC...</td>\n",
       "      <td>RF00001_A</td>\n",
       "      <td>([0, 1, 2, 3, 4, 5, 6, 7, 13, 14, 15, 16, 17, ...</td>\n",
       "      <td>./RNAStrAlign/5S_rRNA_database/Bacteria/B00855.ct</td>\n",
       "      <td>raw_data/rnastralign_all/train.pickle</td>\n",
       "      <td>NaN</td>\n",
       "      <td>NaN</td>\n",
       "      <td>NaN</td>\n",
       "      <td>NaN</td>\n",
       "      <td>NaN</td>\n",
       "      <td>NaN</td>\n",
       "      <td>NaN</td>\n",
       "    </tr>\n",
       "    <tr>\n",
       "      <th>1</th>\n",
       "      <td>150.0</td>\n",
       "      <td>([32, 33, 35, 36, 43, 44, 45, 46, 47, 58, 59, ...</td>\n",
       "      <td>UAGCUUCAGCGAUGGAUCGGUUGCAUCGAGUAUCGAUGAAGAACGC...</td>\n",
       "      <td>RF00002_B</td>\n",
       "      <td>NaN</td>\n",
       "      <td>NaN</td>\n",
       "      <td>NaN</td>\n",
       "      <td>NaN</td>\n",
       "      <td>NaN</td>\n",
       "      <td>NaN</td>\n",
       "      <td>NaN</td>\n",
       "      <td>NaN</td>\n",
       "      <td>NaN</td>\n",
       "      <td>NaN</td>\n",
       "    </tr>\n",
       "    <tr>\n",
       "      <th>2</th>\n",
       "      <td>161.0</td>\n",
       "      <td>([11, 12, 13, 14, 15, 16, 17, 18, 19, 20, 22, ...</td>\n",
       "      <td>AUACUUACCUGGACGGGGUCAAUGGAUGAUCUAUAAGGUCCAUGGC...</td>\n",
       "      <td>RF00003_B</td>\n",
       "      <td>NaN</td>\n",
       "      <td>NaN</td>\n",
       "      <td>NaN</td>\n",
       "      <td>NaN</td>\n",
       "      <td>NaN</td>\n",
       "      <td>NaN</td>\n",
       "      <td>NaN</td>\n",
       "      <td>NaN</td>\n",
       "      <td>NaN</td>\n",
       "      <td>NaN</td>\n",
       "    </tr>\n",
       "    <tr>\n",
       "      <th>3</th>\n",
       "      <td>145.0</td>\n",
       "      <td>([6, 7, 8, 10, 11, 12, 13, 46, 47, 48, 49, 50,...</td>\n",
       "      <td>AUAUCUUCUCGGCUAUUUAGCUAAGAUCAAGUUAUUAAACUGUUCU...</td>\n",
       "      <td>RF00004_A</td>\n",
       "      <td>NaN</td>\n",
       "      <td>NaN</td>\n",
       "      <td>NaN</td>\n",
       "      <td>NaN</td>\n",
       "      <td>NaN</td>\n",
       "      <td>NaN</td>\n",
       "      <td>NaN</td>\n",
       "      <td>NaN</td>\n",
       "      <td>NaN</td>\n",
       "      <td>NaN</td>\n",
       "    </tr>\n",
       "    <tr>\n",
       "      <th>4</th>\n",
       "      <td>72.0</td>\n",
       "      <td>([0, 1, 2, 3, 4, 5, 6, 9, 10, 11, 12, 25, 26, ...</td>\n",
       "      <td>GGGCCCAUAGCUCAGUGGUAGAGUGCCUCCUUUGCAAGGAGGAUGC...</td>\n",
       "      <td>RF00005_A</td>\n",
       "      <td>([0, 1, 2, 3, 4, 5, 6, 9, 10, 11, 12, 20, 21, ...</td>\n",
       "      <td>./RNAStrAlign/tRNA_database/tdbD00000012.ct</td>\n",
       "      <td>raw_data/rnastralign_all/train.pickle</td>\n",
       "      <td>NaN</td>\n",
       "      <td>NaN</td>\n",
       "      <td>NaN</td>\n",
       "      <td>NaN</td>\n",
       "      <td>NaN</td>\n",
       "      <td>NaN</td>\n",
       "      <td>NaN</td>\n",
       "    </tr>\n",
       "  </tbody>\n",
       "</table>\n",
       "</div>"
      ],
      "text/plain": [
       "   len_x                                          one_idx_x  \\\n",
       "0  117.0  ([0, 1, 2, 3, 4, 5, 6, 7, 8, 13, 14, 16, 17, 1...   \n",
       "1  150.0  ([32, 33, 35, 36, 43, 44, 45, 46, 47, 58, 59, ...   \n",
       "2  161.0  ([11, 12, 13, 14, 15, 16, 17, 18, 19, 20, 22, ...   \n",
       "3  145.0  ([6, 7, 8, 10, 11, 12, 13, 46, 47, 48, 49, 50,...   \n",
       "4   72.0  ([0, 1, 2, 3, 4, 5, 6, 9, 10, 11, 12, 25, 26, ...   \n",
       "\n",
       "                                                 seq seq_id_rfam  \\\n",
       "0  UUCGGUGGUUAUAGCGGUGGGGAAACACCCGGUCCCAUUCCGAACC...   RF00001_A   \n",
       "1  UAGCUUCAGCGAUGGAUCGGUUGCAUCGAGUAUCGAUGAAGAACGC...   RF00002_B   \n",
       "2  AUACUUACCUGGACGGGGUCAAUGGAUGAUCUAUAAGGUCCAUGGC...   RF00003_B   \n",
       "3  AUAUCUUCUCGGCUAUUUAGCUAAGAUCAAGUUAUUAAACUGUUCU...   RF00004_A   \n",
       "4  GGGCCCAUAGCUCAGUGGUAGAGUGCCUCCUUUGCAAGGAGGAUGC...   RF00005_A   \n",
       "\n",
       "                                           one_idx_y  \\\n",
       "0  ([0, 1, 2, 3, 4, 5, 6, 7, 13, 14, 15, 16, 17, ...   \n",
       "1                                                NaN   \n",
       "2                                                NaN   \n",
       "3                                                NaN   \n",
       "4  ([0, 1, 2, 3, 4, 5, 6, 9, 10, 11, 12, 20, 21, ...   \n",
       "\n",
       "                                  seq_id_rnastralign  \\\n",
       "0  ./RNAStrAlign/5S_rRNA_database/Bacteria/B00855.ct   \n",
       "1                                                NaN   \n",
       "2                                                NaN   \n",
       "3                                                NaN   \n",
       "4        ./RNAStrAlign/tRNA_database/tdbD00000012.ct   \n",
       "\n",
       "                             source_file  len_y one_idx_x seq_id_sprocessed  \\\n",
       "0  raw_data/rnastralign_all/train.pickle    NaN       NaN               NaN   \n",
       "1                                    NaN    NaN       NaN               NaN   \n",
       "2                                    NaN    NaN       NaN               NaN   \n",
       "3                                    NaN    NaN       NaN               NaN   \n",
       "4  raw_data/rnastralign_all/train.pickle    NaN       NaN               NaN   \n",
       "\n",
       "  category  len one_idx_y seq_id_pdb250  \n",
       "0      NaN  NaN       NaN           NaN  \n",
       "1      NaN  NaN       NaN           NaN  \n",
       "2      NaN  NaN       NaN           NaN  \n",
       "3      NaN  NaN       NaN           NaN  \n",
       "4      NaN  NaN       NaN           NaN  "
      ]
     },
     "execution_count": 17,
     "metadata": {},
     "output_type": "execute_result"
    }
   ],
   "source": [
    "df.head()"
   ]
  },
  {
   "cell_type": "code",
   "execution_count": 18,
   "metadata": {},
   "outputs": [],
   "source": [
    "# len(df[~df['seq_id_rfam'].isna() & ~df['seq_id_rnastralign'].isna()])"
   ]
  },
  {
   "cell_type": "code",
   "execution_count": 19,
   "metadata": {},
   "outputs": [],
   "source": [
    "# len(df[~df['seq_id_rfam'].isna() & ~df['seq_id_sprocessed'].isna()])"
   ]
  },
  {
   "cell_type": "code",
   "execution_count": 20,
   "metadata": {},
   "outputs": [],
   "source": [
    "# len(df[~df['seq_id_rnastralign'].isna() & ~df['seq_id_sprocessed'].isna()])"
   ]
  },
  {
   "cell_type": "code",
   "execution_count": null,
   "metadata": {},
   "outputs": [],
   "source": []
  },
  {
   "cell_type": "code",
   "execution_count": 21,
   "metadata": {},
   "outputs": [
    {
     "name": "stdout",
     "output_type": "stream",
     "text": [
      "rfam rnastralign 17\n",
      "rfam sprocessed 1\n",
      "rfam pdb250 0\n",
      "rnastralign sprocessed 878\n",
      "rnastralign pdb250 71\n",
      "sprocessed pdb250 69\n"
     ]
    }
   ],
   "source": [
    "names = ['rfam', 'rnastralign', 'sprocessed', 'pdb250']\n",
    "\n",
    "for i in range(len(names)):\n",
    "    for j in range(i+1, len(names)):\n",
    "        print(names[i], names[j], len(df[~df['seq_id_{}'.format(names[i])].isna() & ~df['seq_id_{}'.format(names[j])].isna()]))"
   ]
  },
  {
   "cell_type": "code",
   "execution_count": null,
   "metadata": {},
   "outputs": [],
   "source": []
  }
 ],
 "metadata": {
  "kernelspec": {
   "display_name": "Python 3",
   "language": "python",
   "name": "python3"
  },
  "language_info": {
   "codemirror_mode": {
    "name": "ipython",
    "version": 3
   },
   "file_extension": ".py",
   "mimetype": "text/x-python",
   "name": "python",
   "nbconvert_exporter": "python",
   "pygments_lexer": "ipython3",
   "version": "3.7.6"
  }
 },
 "nbformat": 4,
 "nbformat_minor": 2
}
