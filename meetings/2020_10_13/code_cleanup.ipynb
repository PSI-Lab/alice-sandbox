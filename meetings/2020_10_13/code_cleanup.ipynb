{
 "cells": [
  {
   "cell_type": "code",
   "execution_count": 1,
   "metadata": {},
   "outputs": [
    {
     "name": "stderr",
     "output_type": "stream",
     "text": [
      "/Users/alicegao/anaconda2/envs/plot_py3/lib/python3.7/site-packages/genome_kit/data_manager.py:8: TqdmExperimentalWarning: Using `tqdm.autonotebook.tqdm` in notebook mode. Use `tqdm.tqdm` instead to force console mode (e.g. in jupyter console)\n",
      "  from tqdm.autonotebook import tqdm\n"
     ]
    }
   ],
   "source": [
    "from util_global_struct import process_bb_old_to_new, add_bb_bottom_left, compatible_counts, LocalStructureBb, OneStepChain, GrowChain, GrowGlobalStruct, FullChain, chain_compatible, validate_global_struct"
   ]
  },
  {
   "cell_type": "code",
   "execution_count": 2,
   "metadata": {},
   "outputs": [],
   "source": [
    "import numpy as np\n",
    "import copy\n",
    "import pandas as pd\n",
    "import dgutils.pandas as dgp"
   ]
  },
  {
   "cell_type": "code",
   "execution_count": null,
   "metadata": {},
   "outputs": [],
   "source": [
    "df = pd.read_pickle('../2020_09_22/data/rand_s1_bb_0p1.pkl.gz')"
   ]
  },
  {
   "cell_type": "code",
   "execution_count": null,
   "metadata": {},
   "outputs": [],
   "source": [
    "row = df.iloc[20]\n",
    "row"
   ]
  },
  {
   "cell_type": "code",
   "execution_count": null,
   "metadata": {},
   "outputs": [],
   "source": [
    "df_target = process_bb_old_to_new(row['bounding_boxes'])\n",
    "df_target"
   ]
  },
  {
   "cell_type": "code",
   "execution_count": null,
   "metadata": {},
   "outputs": [],
   "source": [
    "def prune_bb(df_bb):\n",
    "    # prune initial bounding box prediction\n",
    "    # bounding box is kept if one if the follow conditions is satisfied:\n",
    "    # - num_proposal >= 3, or\n",
    "    # - max(prob) >= 0.5\n",
    "    df_bb = df_bb[(df_bb['prob'].apply(len) >= 3) | (df_bb['prob'].apply(max) >= 0.5)]\n",
    "    return df_bb"
   ]
  },
  {
   "cell_type": "code",
   "execution_count": null,
   "metadata": {},
   "outputs": [],
   "source": [
    "if isinstance(row['bb_stem'], list):  # missing val will be pd.NaN\n",
    "    df_stem = pd.DataFrame(row['bb_stem'])\n",
    "    df_stem = prune_bb(df_stem)\n",
    "    df_stem = add_bb_bottom_left(df_stem)\n",
    "else:\n",
    "    df_stem = pd.DataFrame([], columns=['bb_x', 'bb_y', 'siz_x', 'siz_y', 'prob', 'bl_x', 'bl_y'])\n",
    "\n",
    "if isinstance(row['bb_iloop'], list):  # missing val will be pd.NaN\n",
    "    df_iloop = pd.DataFrame(row['bb_iloop'])\n",
    "    df_iloop = prune_bb(df_iloop)\n",
    "    df_iloop = add_bb_bottom_left(df_iloop)\n",
    "else:\n",
    "    df_iloop = pd.DataFrame([], columns=['bb_x', 'bb_y', 'siz_x', 'siz_y', 'prob', 'bl_x', 'bl_y'])\n",
    "\n",
    "if isinstance(row['bb_hloop'], list):  # missing val will be pd.NaN\n",
    "    df_hloop = pd.DataFrame(row['bb_hloop'])\n",
    "    df_hloop = prune_bb(df_hloop)\n",
    "    df_hloop = add_bb_bottom_left(df_hloop)\n",
    "else:\n",
    "    df_hloop = pd.DataFrame([], columns=['bb_x', 'bb_y', 'siz_x', 'siz_y', 'prob', 'bl_x', 'bl_y'])"
   ]
  },
  {
   "cell_type": "code",
   "execution_count": null,
   "metadata": {},
   "outputs": [],
   "source": [
    "# as a reference, check bounding box sensitivity\n",
    "n_found = 0\n",
    "for _, target_bb in df_target.iterrows():\n",
    "    bb_x = target_bb['bb_x']\n",
    "    bb_y = target_bb['bb_y']\n",
    "    siz_x = target_bb['siz_x']\n",
    "    siz_y = target_bb['siz_y']\n",
    "    bb_type = target_bb['bb_type']\n",
    "    if bb_type == 'stem':\n",
    "        df_lookup = df_stem\n",
    "    elif bb_type == 'iloop':\n",
    "        df_lookup = df_iloop\n",
    "    elif bb_type == 'hloop':\n",
    "        df_lookup = df_hloop\n",
    "    else:\n",
    "        raise ValueError\n",
    "    # try to find bb\n",
    "    df_hit = df_lookup[(df_lookup['bb_x'] == bb_x) & (df_lookup['bb_y'] == bb_y) & (df_lookup['siz_x'] == siz_x) & (df_lookup['siz_y'] == siz_y)]\n",
    "    if len(df_hit) == 1:\n",
    "        n_found += 1\n",
    "    elif len(df_hit) == 0:\n",
    "        continue\n",
    "    else: \n",
    "        raise ValueError\n",
    "print(\"Bounding box sensitivity: {} out of {}\".format(n_found, len(df_target)))"
   ]
  },
  {
   "cell_type": "code",
   "execution_count": null,
   "metadata": {},
   "outputs": [],
   "source": []
  },
  {
   "cell_type": "code",
   "execution_count": null,
   "metadata": {},
   "outputs": [],
   "source": [
    "# for each iloop, check:\n",
    "# how many compatible outer stems (stem.bottom_left == iloop.top_right)\n",
    "df_iloop_cleanup = compatible_counts(df_iloop, df_stem, col1=['bb_x', 'bb_y'], col2=['bl_x', 'bl_y'], out_name='num_compatible_stem_outer')\n",
    "# how many compatible inner stems (stem.top_right == iloop.bottom_left)\n",
    "df_iloop_cleanup = compatible_counts(df_iloop_cleanup, df_stem, col1=['bl_x', 'bl_y'], col2=['bb_x', 'bb_y'], out_name='num_compatible_stem_inner')\n",
    "# drop those rows without compatible stems on both ends\n",
    "df_iloop_cleanup = df_iloop_cleanup[(df_iloop_cleanup['num_compatible_stem_inner'] > 0) & (df_iloop_cleanup['num_compatible_stem_outer'] > 0)]"
   ]
  },
  {
   "cell_type": "code",
   "execution_count": null,
   "metadata": {},
   "outputs": [],
   "source": [
    "# for each hloop, check:\n",
    "# how many compatible outer stems (stem.bottom_left == iloop.top_right)\n",
    "df_hloop_cleanup = compatible_counts(df_hloop, df_stem, col1=['bb_x', 'bb_y'], col2=['bl_x', 'bl_y'], out_name='num_compatible_stem_outer')\n",
    "# drop those rows without compatible stem\n",
    "df_hloop_cleanup = df_hloop_cleanup[df_hloop_cleanup['num_compatible_stem_outer'] > 0]\n",
    "# drop those not symmetric & across diagonal\n",
    "df_hloop_cleanup = df_hloop_cleanup[(df_hloop_cleanup['bb_x'] == df_hloop_cleanup['bl_y']) & (df_hloop_cleanup['bb_y'] == df_hloop_cleanup['bl_x']) & (df_hloop_cleanup['siz_x'] == df_hloop_cleanup['siz_y'])]"
   ]
  },
  {
   "cell_type": "code",
   "execution_count": null,
   "metadata": {},
   "outputs": [],
   "source": [
    "# bb objects\n",
    "# use enumerate on df since we want to contiguous ids, not the original df index\n",
    "stems = [LocalStructureBb(row['bb_x'], row['bb_y'], row['siz_x'], row['siz_y'], f'stem_{idx}', 'stem') for idx, (_, row) in enumerate(df_stem.iterrows())]\n",
    "iloops = [LocalStructureBb(row['bb_x'], row['bb_y'], row['siz_x'], row['siz_y'], f'iloop_{idx}', 'iloop') for idx, (_, row) in enumerate(df_iloop_cleanup.iterrows())]\n",
    "hloops = [LocalStructureBb(row['bb_x'], row['bb_y'], row['siz_x'], row['siz_y'], f'hloop_{idx}', 'hloop') for idx, (_, row) in enumerate(df_hloop_cleanup.iterrows())]\n"
   ]
  },
  {
   "cell_type": "code",
   "execution_count": null,
   "metadata": {},
   "outputs": [],
   "source": [
    "# find next compatible, start with iloop\n",
    "iloop_os_chain = []\n",
    "for iloop in iloops:\n",
    "    iloop_os = OneStepChain(iloop)\n",
    "    for stem in stems:\n",
    "        if iloop.share_top_right_corner(stem):\n",
    "            iloop_os.add_next_bb(stem)\n",
    "    iloop_os_chain.append(iloop_os)"
   ]
  },
  {
   "cell_type": "code",
   "execution_count": null,
   "metadata": {},
   "outputs": [],
   "source": [
    "# find next compatible, start with stem\n",
    "stem_os_chain = []\n",
    "for stem in stems:\n",
    "    stem_os = OneStepChain(stem)\n",
    "    for iloop in iloops:\n",
    "        if stem.share_top_right_corner(iloop):\n",
    "            stem_os.add_next_bb(iloop)\n",
    "    stem_os_chain.append(stem_os)"
   ]
  },
  {
   "cell_type": "code",
   "execution_count": null,
   "metadata": {},
   "outputs": [],
   "source": []
  },
  {
   "cell_type": "code",
   "execution_count": null,
   "metadata": {},
   "outputs": [],
   "source": [
    "# find next compatible, start with hloop\n",
    "hloop_os_chain = []\n",
    "for hloop in hloops:\n",
    "    hloop_os = OneStepChain(hloop)\n",
    "    for stem in stems:\n",
    "        if hloop.share_top_right_corner(stem):\n",
    "            hloop_os.add_next_bb(stem)\n",
    "    hloop_os_chain.append(hloop_os)"
   ]
  },
  {
   "cell_type": "code",
   "execution_count": null,
   "metadata": {},
   "outputs": [],
   "source": [
    "# for convenience\n",
    "os_chain = {x.bb.id: x for x in iloop_os_chain + stem_os_chain + hloop_os_chain}"
   ]
  },
  {
   "cell_type": "code",
   "execution_count": null,
   "metadata": {},
   "outputs": [],
   "source": [
    "grow_chain = GrowChain(os_chain)\n",
    "# start with stem or hloop\n",
    "grow_chain.run(stems+hloops)\n",
    "# for x in stems + hloops:\n",
    "# #     print(x)\n",
    "#     fc = FullChain(x)\n",
    "#     grow_chain.grow_chain(fc)"
   ]
  },
  {
   "cell_type": "code",
   "execution_count": null,
   "metadata": {},
   "outputs": [],
   "source": [
    "# all pairwise compatibility of stems\n",
    "distances = np.zeros((len(stems), len(stems)), dtype=object)\n",
    "for i in range(len(stems)):\n",
    "    for j in range(len(stems)):\n",
    "        d = stems[i].bp_conflict(stems[j])\n",
    "        distances[i, j] = d\n",
    "        distances[j, i] = d\n",
    "\n",
    "        \n",
    "stem_ids = [x.id for x in stems]\n",
    "df_stem_conflict = pd.DataFrame(distances, index=stem_ids, columns=stem_ids)"
   ]
  },
  {
   "cell_type": "code",
   "execution_count": null,
   "metadata": {},
   "outputs": [],
   "source": []
  },
  {
   "cell_type": "code",
   "execution_count": null,
   "metadata": {},
   "outputs": [],
   "source": [
    "# all pairwise compatibility of chains\n",
    "\n",
    "distances = np.zeros((len(grow_chain.full_chains), len(grow_chain.full_chains)), dtype=object)\n",
    "for i in range(len(grow_chain.full_chains)):\n",
    "    for j in range(len(grow_chain.full_chains)):\n",
    "        d = chain_compatible(grow_chain.full_chains[i], grow_chain.full_chains[j], df_stem_conflict)\n",
    "        distances[i, j] = d\n",
    "        distances[j, i] = d\n",
    "\n",
    "        \n",
    "chain_ids = [x.id for x in grow_chain.full_chains]\n",
    "df_chain_compatibility = pd.DataFrame(distances, index=chain_ids, columns=chain_ids)"
   ]
  },
  {
   "cell_type": "code",
   "execution_count": null,
   "metadata": {},
   "outputs": [],
   "source": []
  },
  {
   "cell_type": "code",
   "execution_count": null,
   "metadata": {},
   "outputs": [],
   "source": []
  },
  {
   "cell_type": "code",
   "execution_count": null,
   "metadata": {},
   "outputs": [],
   "source": [
    "grow_global = GrowGlobalStruct(df_chain_compatibility)\n",
    "\n",
    "# collect all 'subset strutucres'\n",
    "# grow_global.grow_global_struct([], copy.copy(grow_chain.full_chains))\n",
    "# greedy approach\n",
    "grow_global.grow_global_struct([], copy.copy(grow_chain.full_chains), exhausted_only=True)"
   ]
  },
  {
   "cell_type": "code",
   "execution_count": null,
   "metadata": {},
   "outputs": [],
   "source": [
    "valid_global_structs = [x for x in grow_global.global_structs if validate_global_struct(x)]"
   ]
  },
  {
   "cell_type": "code",
   "execution_count": null,
   "metadata": {},
   "outputs": [],
   "source": [
    "print(len(grow_global.global_structs), len(valid_global_structs))"
   ]
  },
  {
   "cell_type": "code",
   "execution_count": null,
   "metadata": {},
   "outputs": [],
   "source": []
  },
  {
   "cell_type": "code",
   "execution_count": null,
   "metadata": {},
   "outputs": [],
   "source": []
  },
  {
   "cell_type": "code",
   "execution_count": null,
   "metadata": {},
   "outputs": [],
   "source": [
    "# valid_global_structs"
   ]
  },
  {
   "cell_type": "code",
   "execution_count": null,
   "metadata": {},
   "outputs": [],
   "source": [
    "def format_global_structures(global_struct, df_stem, df_iloop, df_hloop):\n",
    "    # global_struct: list of chain\n",
    "    \n",
    "    def lookup_prob(bb, df_bb):\n",
    "        hit = df_bb[(df_bb['bb_x'] == bb.tr_x) & (df_bb['bb_y'] == bb.tr_y) & (df_bb['siz_x'] == bb.size_x) & (df_bb['siz_y'] == bb.size_y)]\n",
    "        assert len(hit) == 1\n",
    "        return hit.iloc[0]['prob']\n",
    "    \n",
    "    df = []\n",
    "    for chain in global_struct:\n",
    "        for bb in chain.chain:\n",
    "            data = {\n",
    "                'bb_x': int(bb.tr_x),\n",
    "                'bb_y': int(bb.tr_y),\n",
    "                'siz_x': int(bb.size_x),\n",
    "                'siz_y': int(bb.size_y),\n",
    "                'bb_type': bb.type,\n",
    "            }\n",
    "            if bb.type == 'stem':\n",
    "                prob = lookup_prob(bb, df_stem)\n",
    "            elif bb.type == 'iloop':\n",
    "                prob = lookup_prob(bb, df_iloop)\n",
    "            elif bb.type == 'hloop':\n",
    "                prob = lookup_prob(bb, df_hloop)\n",
    "            else:\n",
    "                raise ValueError\n",
    "            data['prob'] = prob\n",
    "            df.append(data)\n",
    "    df = pd.DataFrame(df)\n",
    "    return df"
   ]
  },
  {
   "cell_type": "code",
   "execution_count": null,
   "metadata": {
    "scrolled": false
   },
   "outputs": [],
   "source": [
    "# reformat data, add in probability\n",
    "for gs in valid_global_structs:\n",
    "    # skip empty\n",
    "    if len(gs) == 0:\n",
    "        continue\n",
    "    df_gs = format_global_structures(gs, df_stem, df_iloop, df_hloop)\n",
    "    # add in prob count, median\n",
    "    df_gs = dgp.add_columns(df_gs, ['n_proposal', 'prob_median'], ['prob'], lambda x: (len(x), np.median(x)))\n",
    "    # add normalized count (count/upper_bound)\n",
    "    df_gs = dgp.add_column(df_gs, 'n_proposal_norm', ['n_proposal', 'siz_x', 'siz_y'], lambda n, x, y: float(n)/(x*y))\n",
    "    # drop full prob for printing \n",
    "    print(df_gs.drop(columns=['prob']).to_string())\n",
    "    \n",
    "    # as a reference, check whether this is the ground truth\n",
    "    df_tmp = pd.merge(df_gs[['bb_x', 'bb_y', 'siz_x', 'siz_y', 'bb_type']], df_target, how='inner')\n",
    "    if len(df_tmp) == len(df_target):\n",
    "        print(\"Ground truth!\")\n",
    "    \n",
    "    print('')"
   ]
  },
  {
   "cell_type": "code",
   "execution_count": null,
   "metadata": {},
   "outputs": [],
   "source": [
    "print(len(row.seq), len(valid_global_structs))"
   ]
  },
  {
   "cell_type": "code",
   "execution_count": null,
   "metadata": {},
   "outputs": [],
   "source": [
    "df_target"
   ]
  },
  {
   "cell_type": "code",
   "execution_count": null,
   "metadata": {},
   "outputs": [],
   "source": [
    "# re-print this as reference\n",
    "print(\"Bounding box sensitivity: {} out of {}\".format(n_found, len(df_target)))"
   ]
  },
  {
   "cell_type": "code",
   "execution_count": null,
   "metadata": {},
   "outputs": [],
   "source": []
  }
 ],
 "metadata": {
  "kernelspec": {
   "display_name": "Python 3",
   "language": "python",
   "name": "python3"
  },
  "language_info": {
   "codemirror_mode": {
    "name": "ipython",
    "version": 3
   },
   "file_extension": ".py",
   "mimetype": "text/x-python",
   "name": "python",
   "nbconvert_exporter": "python",
   "pygments_lexer": "ipython3",
   "version": "3.7.6"
  }
 },
 "nbformat": 4,
 "nbformat_minor": 4
}
