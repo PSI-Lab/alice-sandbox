{
 "cells": [
  {
   "cell_type": "code",
   "execution_count": null,
   "id": "27a07c2b",
   "metadata": {},
   "outputs": [],
   "source": [
    "import numpy as np\n",
    "import pandas as pd\n",
    "from collections import namedtuple\n",
    "from utils.util_global_struct import process_bb_old_to_new\n",
    "from utils.rna_ss_utils import arr2db, one_idx2arr\n",
    "from utils.inference_s2 import Predictor, process_row_bb_combo\n",
    "from utils.misc import add_column\n",
    "import torch\n",
    "import torch.nn as nn"
   ]
  },
  {
   "cell_type": "code",
   "execution_count": null,
   "id": "2ec53953",
   "metadata": {},
   "outputs": [],
   "source": []
  },
  {
   "cell_type": "code",
   "execution_count": null,
   "id": "92080eaa",
   "metadata": {},
   "outputs": [],
   "source": [
    "df = pd.read_pickle('data/data_len60_test_1000_s1_stem_bb_combos.pkl.gz')"
   ]
  },
  {
   "cell_type": "code",
   "execution_count": null,
   "id": "f85091a1",
   "metadata": {},
   "outputs": [],
   "source": []
  },
  {
   "cell_type": "code",
   "execution_count": null,
   "id": "6b9ec029",
   "metadata": {},
   "outputs": [],
   "source": [
    "# sanity check if training objective is trivial\n",
    "# for those with s1 sensitivity 100% (similar to training set):  TODO use training set\n",
    "# check whether target is within topk"
   ]
  },
  {
   "cell_type": "code",
   "execution_count": null,
   "id": "d95c6e47",
   "metadata": {},
   "outputs": [],
   "source": [
    "TOPK = 50"
   ]
  },
  {
   "cell_type": "code",
   "execution_count": null,
   "id": "9f15358e",
   "metadata": {},
   "outputs": [],
   "source": [
    "n_target_in_combo = 0\n",
    "n_target_in_topk = 0\n",
    "for _, row in df.iterrows():\n",
    "    seq, df_valid_combos, bb_combos, target_bbs, target_bb_inc, target_in_combo, target_in_topk = process_row_bb_combo(row, TOPK)\n",
    "    if target_in_combo:\n",
    "        assert row['bb_identical'] == 1\n",
    "        n_target_in_combo += 1\n",
    "    if target_in_topk:\n",
    "        assert target_in_combo\n",
    "        n_target_in_topk += 1"
   ]
  },
  {
   "cell_type": "code",
   "execution_count": null,
   "id": "0ab8a669",
   "metadata": {},
   "outputs": [],
   "source": []
  },
  {
   "cell_type": "code",
   "execution_count": null,
   "id": "76e88f2c",
   "metadata": {},
   "outputs": [],
   "source": [
    "print(n_target_in_combo)"
   ]
  },
  {
   "cell_type": "code",
   "execution_count": null,
   "id": "ceb403bd",
   "metadata": {},
   "outputs": [],
   "source": [
    "print(n_target_in_topk)"
   ]
  },
  {
   "cell_type": "code",
   "execution_count": null,
   "id": "091b1b5d",
   "metadata": {},
   "outputs": [],
   "source": []
  }
 ],
 "metadata": {
  "kernelspec": {
   "display_name": "Python 3",
   "language": "python",
   "name": "python3"
  },
  "language_info": {
   "codemirror_mode": {
    "name": "ipython",
    "version": 3
   },
   "file_extension": ".py",
   "mimetype": "text/x-python",
   "name": "python",
   "nbconvert_exporter": "python",
   "pygments_lexer": "ipython3",
   "version": "3.7.6"
  }
 },
 "nbformat": 4,
 "nbformat_minor": 5
}
