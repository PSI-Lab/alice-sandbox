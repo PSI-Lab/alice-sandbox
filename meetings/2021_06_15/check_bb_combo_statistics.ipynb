{
 "cells": [
  {
   "cell_type": "code",
   "execution_count": null,
   "id": "11210865",
   "metadata": {},
   "outputs": [],
   "source": [
    "import pandas as pd"
   ]
  },
  {
   "cell_type": "code",
   "execution_count": null,
   "id": "d5ce7d16",
   "metadata": {},
   "outputs": [],
   "source": [
    "import plotly.express as px"
   ]
  },
  {
   "cell_type": "code",
   "execution_count": null,
   "id": "a0d2815a",
   "metadata": {},
   "outputs": [],
   "source": [
    "df = pd.read_pickle('data/data_len60_test_1000_s1_stem_bb_combos.pkl.gz')"
   ]
  },
  {
   "cell_type": "code",
   "execution_count": null,
   "id": "7726f0e3",
   "metadata": {},
   "outputs": [],
   "source": [
    "df.head()"
   ]
  },
  {
   "cell_type": "code",
   "execution_count": null,
   "id": "24709ccf",
   "metadata": {},
   "outputs": [],
   "source": [
    "df_plot = []\n",
    "for _, row in df.iterrows():\n",
    "    df_plot.append({\n",
    "        'num_bbs': len(row['pred_stem_bb']['bb_x']),\n",
    "        'num_bb_combos': row['num_bb_combos'],\n",
    "    })\n",
    "df_plot = pd.DataFrame(df_plot)"
   ]
  },
  {
   "cell_type": "code",
   "execution_count": null,
   "id": "6711717d",
   "metadata": {},
   "outputs": [],
   "source": [
    "px.scatter(df_plot, x='num_bbs', y='num_bb_combos')"
   ]
  },
  {
   "cell_type": "code",
   "execution_count": null,
   "id": "43048ae5",
   "metadata": {},
   "outputs": [],
   "source": []
  }
 ],
 "metadata": {
  "kernelspec": {
   "display_name": "Python 3",
   "language": "python",
   "name": "python3"
  },
  "language_info": {
   "codemirror_mode": {
    "name": "ipython",
    "version": 3
   },
   "file_extension": ".py",
   "mimetype": "text/x-python",
   "name": "python",
   "nbconvert_exporter": "python",
   "pygments_lexer": "ipython3",
   "version": "3.7.6"
  }
 },
 "nbformat": 4,
 "nbformat_minor": 5
}
