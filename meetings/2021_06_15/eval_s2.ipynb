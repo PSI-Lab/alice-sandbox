{
 "cells": [
  {
   "cell_type": "code",
   "execution_count": null,
   "id": "27a07c2b",
   "metadata": {},
   "outputs": [],
   "source": [
    "import numpy as np\n",
    "import pandas as pd\n",
    "from pprint import pprint\n",
    "from collections import namedtuple\n",
    "from sklearn.metrics import f1_score\n",
    "from utils.util_global_struct import process_bb_old_to_new\n",
    "from utils.rna_ss_utils import arr2db, one_idx2arr\n",
    "from utils.inference_s2 import Predictor, process_row_bb_combo, stem_bbs2arr\n",
    "from utils.misc import add_column\n",
    "import torch\n",
    "import torch.nn as nn"
   ]
  },
  {
   "cell_type": "code",
   "execution_count": null,
   "id": "2ec53953",
   "metadata": {},
   "outputs": [],
   "source": [
    "import plotly.express as px"
   ]
  },
  {
   "cell_type": "code",
   "execution_count": null,
   "id": "7de05be7",
   "metadata": {},
   "outputs": [],
   "source": [
    "df = pd.read_pickle('data/data_len60_test_1000_s1_stem_bb_combos.pkl.gz')"
   ]
  },
  {
   "cell_type": "code",
   "execution_count": null,
   "id": "5a281c59",
   "metadata": {},
   "outputs": [],
   "source": []
  },
  {
   "cell_type": "code",
   "execution_count": null,
   "id": "daeddf2d",
   "metadata": {},
   "outputs": [],
   "source": [
    "model = Predictor('result/run_1/model_ckpt_ep_49.pth', num_filters=[16, 16, 32, 32, 64],\n",
    "                     filter_width=[3, 3, 3, 3, 3],\n",
    "                     pooling_size=[1, 1, 2, 2, 2])"
   ]
  },
  {
   "cell_type": "code",
   "execution_count": null,
   "id": "97a9981a",
   "metadata": {},
   "outputs": [],
   "source": [
    "TOPK=50"
   ]
  },
  {
   "cell_type": "code",
   "execution_count": null,
   "id": "ece91bc9",
   "metadata": {},
   "outputs": [],
   "source": [
    "f1s_all = []\n",
    "for _, row in df.iterrows():\n",
    "    seq, df_valid_combos, bb_combos, target_bbs, target_bb_inc, target_in_combo, target_in_topk = process_row_bb_combo(row, TOPK)\n",
    "    \n",
    "    # for now only check those with target_in_topk == True\n",
    "    if target_in_topk:\n",
    "        yp = model.predict_bb_combos(seq, bb_combos)\n",
    "        idx_best_score = yp.argmax()\n",
    "        \n",
    "        print(\"target:\")\n",
    "        pprint(target_bbs)\n",
    "        print(\"prediction (best score):\")\n",
    "        pprint(bb_combos[idx_best_score])\n",
    "        \n",
    "        target_bps = stem_bbs2arr(target_bbs, len(seq))\n",
    "        pred_bps = stem_bbs2arr(bb_combos[idx_best_score], len(seq))\n",
    "        idx = np.triu_indices(len(seq))\n",
    "        f1s = f1_score(y_pred=pred_bps[idx], y_true=target_bps[idx])\n",
    "        \n",
    "        print(f\"f1 score: {f1s}\")\n",
    "        print('')\n",
    "        \n",
    "        f1s_all.append(f1s)\n",
    "        \n",
    "#         break\n",
    "        \n",
    "    \n",
    "    "
   ]
  },
  {
   "cell_type": "code",
   "execution_count": null,
   "id": "acd5f02b",
   "metadata": {},
   "outputs": [],
   "source": [
    "px.histogram(f1s_all)"
   ]
  },
  {
   "cell_type": "code",
   "execution_count": null,
   "id": "930a3640",
   "metadata": {},
   "outputs": [],
   "source": [
    "f1s_all = pd.DataFrame({'f1_score': f1s_all})"
   ]
  },
  {
   "cell_type": "code",
   "execution_count": null,
   "id": "8e1209ff",
   "metadata": {},
   "outputs": [],
   "source": [
    "f1s_all.describe()"
   ]
  },
  {
   "cell_type": "code",
   "execution_count": null,
   "id": "6cbdd867",
   "metadata": {},
   "outputs": [],
   "source": []
  },
  {
   "cell_type": "code",
   "execution_count": null,
   "id": "5ed6b958",
   "metadata": {},
   "outputs": [],
   "source": []
  },
  {
   "cell_type": "code",
   "execution_count": null,
   "id": "9c7d294b",
   "metadata": {},
   "outputs": [],
   "source": [
    "\n",
    "df_pred_max_tgt = []\n",
    "\n",
    "for _, row in df.iterrows():\n",
    "    seq, df_valid_combos, bb_combos, target_bbs, target_bb_inc, target_in_combo, target_in_topk = process_row_bb_combo(row, TOPK)\n",
    "    \n",
    "    # check those with target_in_topk == False but target_in_combo == True\n",
    "    if not target_in_topk and target_in_combo:\n",
    "        yp = model.predict_bb_combos(seq, bb_combos)\n",
    "        ypt = model.predict_bb_combos(seq, [target_bbs])\n",
    "        df_pred_max_tgt.append({\n",
    "            'yp_target': float(ypt),\n",
    "            'yp_topk_max': yp.max(),\n",
    "        })\n",
    "        \n",
    "        \n",
    "        # debug\n",
    "        if len(df_pred_max_tgt) > 200:\n",
    "            break"
   ]
  },
  {
   "cell_type": "code",
   "execution_count": null,
   "id": "a7f67e49",
   "metadata": {},
   "outputs": [],
   "source": [
    "df_pred_max_tgt = pd.DataFrame(df_pred_max_tgt)"
   ]
  },
  {
   "cell_type": "code",
   "execution_count": null,
   "id": "f55cf277",
   "metadata": {},
   "outputs": [],
   "source": [
    "df_pred_max_tgt = add_column(df_pred_max_tgt, 'target > topk_max', ['yp_target', 'yp_topk_max'],\n",
    "                            lambda a, b: a > b)"
   ]
  },
  {
   "cell_type": "code",
   "execution_count": null,
   "id": "d6a4a4ad",
   "metadata": {},
   "outputs": [],
   "source": [
    "px.scatter(df_pred_max_tgt, x='yp_target', y='yp_topk_max', color='target > topk_max')"
   ]
  },
  {
   "cell_type": "code",
   "execution_count": null,
   "id": "71cbe558",
   "metadata": {},
   "outputs": [],
   "source": []
  }
 ],
 "metadata": {
  "kernelspec": {
   "display_name": "Python 3",
   "language": "python",
   "name": "python3"
  },
  "language_info": {
   "codemirror_mode": {
    "name": "ipython",
    "version": 3
   },
   "file_extension": ".py",
   "mimetype": "text/x-python",
   "name": "python",
   "nbconvert_exporter": "python",
   "pygments_lexer": "ipython3",
   "version": "3.7.6"
  }
 },
 "nbformat": 4,
 "nbformat_minor": 5
}
