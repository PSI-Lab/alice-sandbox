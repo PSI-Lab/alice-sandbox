{
 "cells": [
  {
   "cell_type": "code",
   "execution_count": null,
   "metadata": {},
   "outputs": [],
   "source": [
    "import numpy as np\n",
    "import matplotlib.pyplot as plt\n",
    "import plotly.express as px"
   ]
  },
  {
   "cell_type": "code",
   "execution_count": null,
   "metadata": {},
   "outputs": [],
   "source": [
    "import pandas as pd"
   ]
  },
  {
   "cell_type": "code",
   "execution_count": null,
   "metadata": {},
   "outputs": [],
   "source": [
    "import sys\n",
    "sys.path.insert(0, '../../rna_ss/')\n",
    "from utils import db2pairs\n",
    "from local_struct_utils import one_idx2arr, sort_pairs, LocalStructureParser, make_target"
   ]
  },
  {
   "cell_type": "code",
   "execution_count": null,
   "metadata": {},
   "outputs": [],
   "source": [
    "import plotly.graph_objects as go"
   ]
  },
  {
   "cell_type": "code",
   "execution_count": null,
   "metadata": {},
   "outputs": [],
   "source": []
  },
  {
   "cell_type": "code",
   "execution_count": null,
   "metadata": {},
   "outputs": [],
   "source": [
    "df = pd.read_pickle('../../rna_ss/data_processing/spot_rna/bp_rna/data/bp_rna.pkl.gz')"
   ]
  },
  {
   "cell_type": "code",
   "execution_count": null,
   "metadata": {},
   "outputs": [],
   "source": [
    "stem_lengths = []\n",
    "for row_idx, row in df.iterrows():\n",
    "    pairs, structure_arr = one_idx2arr(row.one_idx, len(row.seq), remove_lower_triangular=True)\n",
    "    pairs = sort_pairs(pairs)\n",
    "    parser = LocalStructureParser(pairs)\n",
    "    \n",
    "    for ls in parser.local_structure_bounding_boxes:\n",
    "        (x0, y0), (wx, wy), name = ls\n",
    "        if name == 'stem':\n",
    "            assert wx == wy\n",
    "            stem_lengths.append(wx)"
   ]
  },
  {
   "cell_type": "code",
   "execution_count": null,
   "metadata": {
    "scrolled": false
   },
   "outputs": [],
   "source": [
    "df_stem = pd.DataFrame({'stem_length': stem_lengths})\n",
    "px.histogram(df_stem, log_x=True, x='stem_length',\n",
    "             opacity=0.3,\n",
    "             title='Stem length distribution in bpRNA')"
   ]
  },
  {
   "cell_type": "code",
   "execution_count": null,
   "metadata": {},
   "outputs": [],
   "source": []
  }
 ],
 "metadata": {
  "kernelspec": {
   "display_name": "Python 3",
   "language": "python",
   "name": "python3"
  },
  "language_info": {
   "codemirror_mode": {
    "name": "ipython",
    "version": 3
   },
   "file_extension": ".py",
   "mimetype": "text/x-python",
   "name": "python",
   "nbconvert_exporter": "python",
   "pygments_lexer": "ipython3",
   "version": "3.7.6"
  }
 },
 "nbformat": 4,
 "nbformat_minor": 2
}
