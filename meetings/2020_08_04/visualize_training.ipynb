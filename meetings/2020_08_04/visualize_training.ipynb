{
 "cells": [
  {
   "cell_type": "code",
   "execution_count": null,
   "metadata": {},
   "outputs": [],
   "source": [
    "import numpy as np\n",
    "import matplotlib.pyplot as plt\n",
    "import plotly.express as px\n",
    "import pandas as pd\n",
    "import plotly.graph_objects as go\n",
    "from plotly.subplots import make_subplots"
   ]
  },
  {
   "cell_type": "code",
   "execution_count": null,
   "metadata": {},
   "outputs": [],
   "source": [
    "def _make_mask(l):\n",
    "    m = np.ones((l, l))\n",
    "    m[np.tril_indices(l)] = 0\n",
    "    return m"
   ]
  },
  {
   "cell_type": "code",
   "execution_count": null,
   "metadata": {},
   "outputs": [],
   "source": [
    "df = pd.read_pickle('result/debug/pred_ep_49.pkl.gz')"
   ]
  },
  {
   "cell_type": "code",
   "execution_count": null,
   "metadata": {},
   "outputs": [],
   "source": [
    "df.head()"
   ]
  },
  {
   "cell_type": "code",
   "execution_count": null,
   "metadata": {},
   "outputs": [],
   "source": [
    "# row = df.iloc[-10]\n",
    "row = df.iloc[8]"
   ]
  },
  {
   "cell_type": "code",
   "execution_count": null,
   "metadata": {},
   "outputs": [],
   "source": [
    "# target = row['target']\n",
    "# pred = row['pred']\n",
    "\n",
    "# # apply 'hard-mask'  (lower triangle)\n",
    "# assert target.shape == pred.shape   # channel x h x w\n",
    "# assert target.shape[1] == target.shape[2]\n",
    "# m = _make_mask(target.shape[1])\n",
    "\n",
    "# # hacky way to infer padding mask location\n",
    "# # by finding out how many consecutive columns are all 0's in target channel 0\n",
    "# tmp = np.sum(target[0, :, :], axis=0)\n",
    "# first_nonzero_idx_from_right = next(i for i in range(len(tmp)) if tmp[-(i+1)] > 0)\n",
    "# m[:, -first_nonzero_idx_from_right:] = 0\n",
    "# m[-first_nonzero_idx_from_right:, :] = 0\n",
    "\n",
    "# # repeat mask on channel\n",
    "# m = m[np.newaxis, :, :]\n",
    "# m = np.repeat(m, target.shape[0], axis=0)\n",
    "\n",
    "# # apply mask\n",
    "# target = target * m\n",
    "# pred = pred * m\n",
    "\n",
    "# # TODO save mask from training, crop out masked area, also apply 'hard mask' (lower triangle) on prediction  "
   ]
  },
  {
   "cell_type": "code",
   "execution_count": null,
   "metadata": {},
   "outputs": [],
   "source": [
    "target = row['target']\n",
    "pred = row['pred']\n",
    "\n",
    "# hacky way to infer padding location\n",
    "# by finding out how many consecutive columns are all 0's in target channel 0\n",
    "tmp = np.sum(target[0, :, :], axis=0)\n",
    "first_nonzero_idx_from_right = next(i for i in range(len(tmp)) if tmp[-(i+1)] > 0)\n",
    "\n",
    "# crop\n",
    "target = target[:, :-first_nonzero_idx_from_right, :-first_nonzero_idx_from_right]\n",
    "pred = pred[:, :-first_nonzero_idx_from_right, :-first_nonzero_idx_from_right]\n",
    "\n",
    "# apply 'hard-mask'  (lower triangle)\n",
    "assert target.shape == pred.shape   # channel x h x w\n",
    "assert target.shape[1] == target.shape[2]\n",
    "m = _make_mask(target.shape[1])\n",
    "# repeat mask on channel\n",
    "m = m[np.newaxis, :, :]\n",
    "m = np.repeat(m, target.shape[0], axis=0)\n",
    "\n",
    "# apply mask\n",
    "target = target * m\n",
    "pred = pred * m\n",
    "\n",
    "# TODO save mask from training, crop out masked area, also apply 'hard mask' (lower triangle) on prediction  "
   ]
  },
  {
   "cell_type": "code",
   "execution_count": null,
   "metadata": {},
   "outputs": [],
   "source": []
  },
  {
   "cell_type": "code",
   "execution_count": null,
   "metadata": {},
   "outputs": [],
   "source": []
  },
  {
   "cell_type": "code",
   "execution_count": null,
   "metadata": {},
   "outputs": [],
   "source": [
    "print(target.shape)\n",
    "print(pred.shape)"
   ]
  },
  {
   "cell_type": "code",
   "execution_count": null,
   "metadata": {
    "scrolled": false
   },
   "outputs": [],
   "source": [
    "# this is known from data processing\n",
    "# not_local_structure, stem, internal_loop (include bulges), hairpin loop, is_corner\n",
    "target_names = ['not_ss', 'stem', 'i_loop', 'h_loop', 'corner']\n",
    "assert len(target_names) == target.shape[0]\n",
    "assert len(target_names) == pred.shape[0]\n",
    "\n",
    "fig = make_subplots(rows=len(target_names), cols=2 ,print_grid=False, shared_yaxes=True, shared_xaxes=True)\n",
    "\n",
    "\n",
    "for i in range(len(target_names)):\n",
    "    # target\n",
    "    tmp_fig = px.imshow(target[i, :, :])\n",
    "    fig.append_trace(tmp_fig.data[0], i+1, 1)\n",
    "    fig['layout']['xaxis{}'.format(2*i+1)].update(title=target_names[i])\n",
    "    fig['layout']['yaxis{}'.format(2*i+1)]['autorange'] = \"reversed\"\n",
    "    # pred\n",
    "    tmp_fig = px.imshow(pred[i, :, :])\n",
    "    fig.append_trace(tmp_fig.data[0], i+1, 2)\n",
    "    fig['layout']['xaxis{}'.format(2*i+2)].update(title=target_names[i])\n",
    "    fig['layout']['yaxis{}'.format(2*i+1)]['autorange'] = \"reversed\"\n",
    "    # TODO apply hard mask?\n",
    "\n",
    "\n",
    "# fig['layout']['yaxis1'].update(title='y-axis')\n",
    "fig['layout'].update(height=400*len(target_names), width=400*2, title='type: {}'.format(row.subset))\n",
    "\n",
    "fig['layout']['yaxis']['autorange'] = \"reversed\"\n",
    "fig.show()"
   ]
  },
  {
   "cell_type": "code",
   "execution_count": null,
   "metadata": {},
   "outputs": [],
   "source": []
  },
  {
   "cell_type": "code",
   "execution_count": null,
   "metadata": {},
   "outputs": [],
   "source": []
  }
 ],
 "metadata": {
  "kernelspec": {
   "display_name": "Python 3",
   "language": "python",
   "name": "python3"
  },
  "language_info": {
   "codemirror_mode": {
    "name": "ipython",
    "version": 3
   },
   "file_extension": ".py",
   "mimetype": "text/x-python",
   "name": "python",
   "nbconvert_exporter": "python",
   "pygments_lexer": "ipython3",
   "version": "3.7.6"
  }
 },
 "nbformat": 4,
 "nbformat_minor": 4
}
