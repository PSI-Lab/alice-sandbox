{
 "cells": [
  {
   "cell_type": "code",
   "execution_count": 1,
   "metadata": {},
   "outputs": [],
   "source": [
    "import pandas as pd"
   ]
  },
  {
   "cell_type": "code",
   "execution_count": 2,
   "metadata": {},
   "outputs": [],
   "source": [
    "import copy"
   ]
  },
  {
   "cell_type": "code",
   "execution_count": 3,
   "metadata": {},
   "outputs": [
    {
     "name": "stderr",
     "output_type": "stream",
     "text": [
      "/Users/alicegao/anaconda2/envs/plot_py3/lib/python3.7/site-packages/genome_kit/data_manager.py:8: TqdmExperimentalWarning: Using `tqdm.autonotebook.tqdm` in notebook mode. Use `tqdm.tqdm` instead to force console mode (e.g. in jupyter console)\n",
      "  from tqdm.autonotebook import tqdm\n"
     ]
    }
   ],
   "source": [
    "import dgutils.pandas as dgp"
   ]
  },
  {
   "cell_type": "code",
   "execution_count": 4,
   "metadata": {},
   "outputs": [],
   "source": [
    "df = pd.read_pickle('../2020_09_22/data/rand_s1_bb_0p1.pkl.gz')"
   ]
  },
  {
   "cell_type": "code",
   "execution_count": 5,
   "metadata": {},
   "outputs": [],
   "source": [
    "row = df.iloc[0]"
   ]
  },
  {
   "cell_type": "code",
   "execution_count": 6,
   "metadata": {},
   "outputs": [
    {
     "data": {
      "text/plain": [
       "ensemble_diversity                                                  9.7\n",
       "free_energy                                                        -8.5\n",
       "len                                                                  31\n",
       "mfe_frequency                                                  0.459552\n",
       "one_idx               ([0, 1, 2, 3, 4, 5, 9, 10, 11, 12, 19, 20, 21,...\n",
       "seq                                     CUCGACCCCCUUGACGUCGCAAGUGUUGGGG\n",
       "bounding_boxes        [((0, 24), (6, 6), stem), ((9, 19), (4, 4), st...\n",
       "bb_stem               [{'bb_x': 0, 'bb_y': 29, 'siz_x': 6, 'siz_y': ...\n",
       "bb_iloop              [{'bb_x': 5, 'bb_y': 22, 'siz_x': 5, 'siz_y': ...\n",
       "bb_hloop              [{'bb_x': 5, 'bb_y': 15, 'siz_x': 11, 'siz_y':...\n",
       "Name: 0, dtype: object"
      ]
     },
     "execution_count": 6,
     "metadata": {},
     "output_type": "execute_result"
    }
   ],
   "source": [
    "row"
   ]
  },
  {
   "cell_type": "code",
   "execution_count": 7,
   "metadata": {},
   "outputs": [],
   "source": [
    "def process_bb_old_to_new(old_bb):\n",
    "    # old_bb: list of:\n",
    "    # (top_left_x, top_left_y), (siz_x, siz_y), bb_type\n",
    "    df = []\n",
    "    for (top_left_x, top_left_y), (siz_x, siz_y), bb_type in old_bb:\n",
    "        bb_x = top_left_x\n",
    "        bb_y = top_left_y + siz_y - 1\n",
    "        df.append({\n",
    "            'bb_x': bb_x,\n",
    "            'bb_y': bb_y,\n",
    "            'siz_x': siz_x,\n",
    "            'siz_y': siz_y,\n",
    "            'bb_type': bb_type\n",
    "        })\n",
    "    return pd.DataFrame(df)"
   ]
  },
  {
   "cell_type": "code",
   "execution_count": 8,
   "metadata": {},
   "outputs": [],
   "source": [
    "df_target = process_bb_old_to_new(row['bounding_boxes'])"
   ]
  },
  {
   "cell_type": "code",
   "execution_count": 9,
   "metadata": {},
   "outputs": [
    {
     "data": {
      "text/html": [
       "<div>\n",
       "<style scoped>\n",
       "    .dataframe tbody tr th:only-of-type {\n",
       "        vertical-align: middle;\n",
       "    }\n",
       "\n",
       "    .dataframe tbody tr th {\n",
       "        vertical-align: top;\n",
       "    }\n",
       "\n",
       "    .dataframe thead th {\n",
       "        text-align: right;\n",
       "    }\n",
       "</style>\n",
       "<table border=\"1\" class=\"dataframe\">\n",
       "  <thead>\n",
       "    <tr style=\"text-align: right;\">\n",
       "      <th></th>\n",
       "      <th>bb_x</th>\n",
       "      <th>bb_y</th>\n",
       "      <th>siz_x</th>\n",
       "      <th>siz_y</th>\n",
       "      <th>bb_type</th>\n",
       "    </tr>\n",
       "  </thead>\n",
       "  <tbody>\n",
       "    <tr>\n",
       "      <th>0</th>\n",
       "      <td>0</td>\n",
       "      <td>29</td>\n",
       "      <td>6</td>\n",
       "      <td>6</td>\n",
       "      <td>stem</td>\n",
       "    </tr>\n",
       "    <tr>\n",
       "      <th>1</th>\n",
       "      <td>9</td>\n",
       "      <td>22</td>\n",
       "      <td>4</td>\n",
       "      <td>4</td>\n",
       "      <td>stem</td>\n",
       "    </tr>\n",
       "    <tr>\n",
       "      <th>2</th>\n",
       "      <td>5</td>\n",
       "      <td>24</td>\n",
       "      <td>5</td>\n",
       "      <td>3</td>\n",
       "      <td>internal_loop</td>\n",
       "    </tr>\n",
       "    <tr>\n",
       "      <th>3</th>\n",
       "      <td>12</td>\n",
       "      <td>19</td>\n",
       "      <td>8</td>\n",
       "      <td>8</td>\n",
       "      <td>hairpin_loop</td>\n",
       "    </tr>\n",
       "  </tbody>\n",
       "</table>\n",
       "</div>"
      ],
      "text/plain": [
       "   bb_x  bb_y  siz_x  siz_y        bb_type\n",
       "0     0    29      6      6           stem\n",
       "1     9    22      4      4           stem\n",
       "2     5    24      5      3  internal_loop\n",
       "3    12    19      8      8   hairpin_loop"
      ]
     },
     "execution_count": 9,
     "metadata": {},
     "output_type": "execute_result"
    }
   ],
   "source": [
    "df_target"
   ]
  },
  {
   "cell_type": "code",
   "execution_count": 10,
   "metadata": {},
   "outputs": [],
   "source": [
    "def add_bb_bottom_left(df):\n",
    "    # add bottom left reference point\n",
    "    # df: requires columns bb_x, bb_y, siz_x, siz_y\n",
    "    \n",
    "    def add_bl(bb_x, bb_y, siz_x, siz_y):\n",
    "        x = bb_x + siz_x - 1\n",
    "        y = bb_y - siz_y + 1\n",
    "        return x, y\n",
    "    \n",
    "    df = dgp.add_columns(df, ['bl_x', 'bl_y'], ['bb_x', 'bb_y', 'siz_x', 'siz_y'], add_bl)\n",
    "    return df"
   ]
  },
  {
   "cell_type": "code",
   "execution_count": 11,
   "metadata": {},
   "outputs": [],
   "source": [
    "df_stem = pd.DataFrame(row['bb_stem'])\n",
    "df_stem = add_bb_bottom_left(df_stem)\n",
    "\n",
    "df_iloop = pd.DataFrame(row['bb_iloop'])\n",
    "df_iloop = add_bb_bottom_left(df_iloop)\n",
    "\n",
    "df_hloop = pd.DataFrame(row['bb_hloop'])\n",
    "df_hloop = add_bb_bottom_left(df_hloop)"
   ]
  },
  {
   "cell_type": "code",
   "execution_count": 98,
   "metadata": {},
   "outputs": [
    {
     "data": {
      "text/html": [
       "<div>\n",
       "<style scoped>\n",
       "    .dataframe tbody tr th:only-of-type {\n",
       "        vertical-align: middle;\n",
       "    }\n",
       "\n",
       "    .dataframe tbody tr th {\n",
       "        vertical-align: top;\n",
       "    }\n",
       "\n",
       "    .dataframe thead th {\n",
       "        text-align: right;\n",
       "    }\n",
       "</style>\n",
       "<table border=\"1\" class=\"dataframe\">\n",
       "  <thead>\n",
       "    <tr style=\"text-align: right;\">\n",
       "      <th></th>\n",
       "      <th>bb_x</th>\n",
       "      <th>bb_y</th>\n",
       "      <th>siz_x</th>\n",
       "      <th>siz_y</th>\n",
       "      <th>prob</th>\n",
       "      <th>bl_x</th>\n",
       "      <th>bl_y</th>\n",
       "    </tr>\n",
       "  </thead>\n",
       "  <tbody>\n",
       "    <tr>\n",
       "      <th>0</th>\n",
       "      <td>0</td>\n",
       "      <td>29</td>\n",
       "      <td>6</td>\n",
       "      <td>6</td>\n",
       "      <td>[0.41025621353158326, 0.44290844275857927, 0.2...</td>\n",
       "      <td>5</td>\n",
       "      <td>24</td>\n",
       "    </tr>\n",
       "    <tr>\n",
       "      <th>1</th>\n",
       "      <td>5</td>\n",
       "      <td>30</td>\n",
       "      <td>4</td>\n",
       "      <td>4</td>\n",
       "      <td>[0.20544070627534108]</td>\n",
       "      <td>8</td>\n",
       "      <td>27</td>\n",
       "    </tr>\n",
       "    <tr>\n",
       "      <th>2</th>\n",
       "      <td>6</td>\n",
       "      <td>30</td>\n",
       "      <td>4</td>\n",
       "      <td>4</td>\n",
       "      <td>[0.4038486250672587, 0.27864132850155837, 0.27...</td>\n",
       "      <td>9</td>\n",
       "      <td>27</td>\n",
       "    </tr>\n",
       "    <tr>\n",
       "      <th>3</th>\n",
       "      <td>9</td>\n",
       "      <td>22</td>\n",
       "      <td>4</td>\n",
       "      <td>4</td>\n",
       "      <td>[0.6770828362027589, 0.573858923373826, 0.8764...</td>\n",
       "      <td>12</td>\n",
       "      <td>19</td>\n",
       "    </tr>\n",
       "    <tr>\n",
       "      <th>4</th>\n",
       "      <td>12</td>\n",
       "      <td>26</td>\n",
       "      <td>4</td>\n",
       "      <td>4</td>\n",
       "      <td>[0.09296749466427809]</td>\n",
       "      <td>15</td>\n",
       "      <td>23</td>\n",
       "    </tr>\n",
       "    <tr>\n",
       "      <th>5</th>\n",
       "      <td>13</td>\n",
       "      <td>23</td>\n",
       "      <td>2</td>\n",
       "      <td>2</td>\n",
       "      <td>[0.4102197996540831, 0.32933917103708865, 0.41...</td>\n",
       "      <td>14</td>\n",
       "      <td>22</td>\n",
       "    </tr>\n",
       "  </tbody>\n",
       "</table>\n",
       "</div>"
      ],
      "text/plain": [
       "   bb_x  bb_y  siz_x  siz_y  \\\n",
       "0     0    29      6      6   \n",
       "1     5    30      4      4   \n",
       "2     6    30      4      4   \n",
       "3     9    22      4      4   \n",
       "4    12    26      4      4   \n",
       "5    13    23      2      2   \n",
       "\n",
       "                                                prob  bl_x  bl_y  \n",
       "0  [0.41025621353158326, 0.44290844275857927, 0.2...     5    24  \n",
       "1                              [0.20544070627534108]     8    27  \n",
       "2  [0.4038486250672587, 0.27864132850155837, 0.27...     9    27  \n",
       "3  [0.6770828362027589, 0.573858923373826, 0.8764...    12    19  \n",
       "4                              [0.09296749466427809]    15    23  \n",
       "5  [0.4102197996540831, 0.32933917103708865, 0.41...    14    22  "
      ]
     },
     "execution_count": 98,
     "metadata": {},
     "output_type": "execute_result"
    }
   ],
   "source": [
    "df_stem"
   ]
  },
  {
   "cell_type": "code",
   "execution_count": 99,
   "metadata": {},
   "outputs": [
    {
     "data": {
      "text/html": [
       "<div>\n",
       "<style scoped>\n",
       "    .dataframe tbody tr th:only-of-type {\n",
       "        vertical-align: middle;\n",
       "    }\n",
       "\n",
       "    .dataframe tbody tr th {\n",
       "        vertical-align: top;\n",
       "    }\n",
       "\n",
       "    .dataframe thead th {\n",
       "        text-align: right;\n",
       "    }\n",
       "</style>\n",
       "<table border=\"1\" class=\"dataframe\">\n",
       "  <thead>\n",
       "    <tr style=\"text-align: right;\">\n",
       "      <th></th>\n",
       "      <th>bb_x</th>\n",
       "      <th>bb_y</th>\n",
       "      <th>siz_x</th>\n",
       "      <th>siz_y</th>\n",
       "      <th>prob</th>\n",
       "      <th>bl_x</th>\n",
       "      <th>bl_y</th>\n",
       "    </tr>\n",
       "  </thead>\n",
       "  <tbody>\n",
       "    <tr>\n",
       "      <th>0</th>\n",
       "      <td>5</td>\n",
       "      <td>22</td>\n",
       "      <td>5</td>\n",
       "      <td>3</td>\n",
       "      <td>[0.48002284303088494, 0.38280278817052693, 0.1...</td>\n",
       "      <td>9</td>\n",
       "      <td>20</td>\n",
       "    </tr>\n",
       "    <tr>\n",
       "      <th>1</th>\n",
       "      <td>5</td>\n",
       "      <td>23</td>\n",
       "      <td>5</td>\n",
       "      <td>3</td>\n",
       "      <td>[0.5652983093527412, 0.4536248120951613, 0.477...</td>\n",
       "      <td>9</td>\n",
       "      <td>21</td>\n",
       "    </tr>\n",
       "    <tr>\n",
       "      <th>2</th>\n",
       "      <td>5</td>\n",
       "      <td>24</td>\n",
       "      <td>5</td>\n",
       "      <td>3</td>\n",
       "      <td>[0.22653995386454878, 0.4762805845032449, 0.40...</td>\n",
       "      <td>9</td>\n",
       "      <td>22</td>\n",
       "    </tr>\n",
       "    <tr>\n",
       "      <th>3</th>\n",
       "      <td>8</td>\n",
       "      <td>24</td>\n",
       "      <td>4</td>\n",
       "      <td>5</td>\n",
       "      <td>[0.025440477807378965]</td>\n",
       "      <td>11</td>\n",
       "      <td>20</td>\n",
       "    </tr>\n",
       "    <tr>\n",
       "      <th>4</th>\n",
       "      <td>8</td>\n",
       "      <td>25</td>\n",
       "      <td>2</td>\n",
       "      <td>6</td>\n",
       "      <td>[0.237831903897844]</td>\n",
       "      <td>9</td>\n",
       "      <td>20</td>\n",
       "    </tr>\n",
       "    <tr>\n",
       "      <th>5</th>\n",
       "      <td>8</td>\n",
       "      <td>25</td>\n",
       "      <td>5</td>\n",
       "      <td>6</td>\n",
       "      <td>[0.26275034653646495]</td>\n",
       "      <td>12</td>\n",
       "      <td>20</td>\n",
       "    </tr>\n",
       "    <tr>\n",
       "      <th>6</th>\n",
       "      <td>8</td>\n",
       "      <td>26</td>\n",
       "      <td>2</td>\n",
       "      <td>6</td>\n",
       "      <td>[0.18583527858956853]</td>\n",
       "      <td>9</td>\n",
       "      <td>21</td>\n",
       "    </tr>\n",
       "    <tr>\n",
       "      <th>7</th>\n",
       "      <td>8</td>\n",
       "      <td>26</td>\n",
       "      <td>5</td>\n",
       "      <td>2</td>\n",
       "      <td>[0.1551192200380325]</td>\n",
       "      <td>12</td>\n",
       "      <td>25</td>\n",
       "    </tr>\n",
       "    <tr>\n",
       "      <th>8</th>\n",
       "      <td>8</td>\n",
       "      <td>26</td>\n",
       "      <td>5</td>\n",
       "      <td>6</td>\n",
       "      <td>[0.18746263337043842]</td>\n",
       "      <td>12</td>\n",
       "      <td>21</td>\n",
       "    </tr>\n",
       "    <tr>\n",
       "      <th>9</th>\n",
       "      <td>8</td>\n",
       "      <td>27</td>\n",
       "      <td>2</td>\n",
       "      <td>6</td>\n",
       "      <td>[0.21078391904750435]</td>\n",
       "      <td>9</td>\n",
       "      <td>22</td>\n",
       "    </tr>\n",
       "    <tr>\n",
       "      <th>10</th>\n",
       "      <td>8</td>\n",
       "      <td>27</td>\n",
       "      <td>5</td>\n",
       "      <td>2</td>\n",
       "      <td>[0.05582155712225877]</td>\n",
       "      <td>12</td>\n",
       "      <td>26</td>\n",
       "    </tr>\n",
       "    <tr>\n",
       "      <th>11</th>\n",
       "      <td>8</td>\n",
       "      <td>27</td>\n",
       "      <td>5</td>\n",
       "      <td>5</td>\n",
       "      <td>[0.056467641475443704]</td>\n",
       "      <td>12</td>\n",
       "      <td>23</td>\n",
       "    </tr>\n",
       "    <tr>\n",
       "      <th>12</th>\n",
       "      <td>9</td>\n",
       "      <td>23</td>\n",
       "      <td>4</td>\n",
       "      <td>5</td>\n",
       "      <td>[0.0478230461114061]</td>\n",
       "      <td>12</td>\n",
       "      <td>19</td>\n",
       "    </tr>\n",
       "    <tr>\n",
       "      <th>13</th>\n",
       "      <td>9</td>\n",
       "      <td>23</td>\n",
       "      <td>5</td>\n",
       "      <td>5</td>\n",
       "      <td>[0.11955240322948411, 0.08039921853203057]</td>\n",
       "      <td>13</td>\n",
       "      <td>19</td>\n",
       "    </tr>\n",
       "    <tr>\n",
       "      <th>14</th>\n",
       "      <td>9</td>\n",
       "      <td>24</td>\n",
       "      <td>5</td>\n",
       "      <td>5</td>\n",
       "      <td>[0.07948330412216542, 0.15422521712048937]</td>\n",
       "      <td>13</td>\n",
       "      <td>20</td>\n",
       "    </tr>\n",
       "    <tr>\n",
       "      <th>15</th>\n",
       "      <td>9</td>\n",
       "      <td>25</td>\n",
       "      <td>5</td>\n",
       "      <td>5</td>\n",
       "      <td>[0.10234975636986814, 0.08382047161092676, 0.1...</td>\n",
       "      <td>13</td>\n",
       "      <td>21</td>\n",
       "    </tr>\n",
       "    <tr>\n",
       "      <th>16</th>\n",
       "      <td>9</td>\n",
       "      <td>26</td>\n",
       "      <td>5</td>\n",
       "      <td>5</td>\n",
       "      <td>[0.08415818214657117, 0.17146585951217397, 0.1...</td>\n",
       "      <td>13</td>\n",
       "      <td>22</td>\n",
       "    </tr>\n",
       "    <tr>\n",
       "      <th>17</th>\n",
       "      <td>9</td>\n",
       "      <td>27</td>\n",
       "      <td>5</td>\n",
       "      <td>5</td>\n",
       "      <td>[0.10652713805518142, 0.0927118477820101]</td>\n",
       "      <td>13</td>\n",
       "      <td>23</td>\n",
       "    </tr>\n",
       "  </tbody>\n",
       "</table>\n",
       "</div>"
      ],
      "text/plain": [
       "    bb_x  bb_y  siz_x  siz_y  \\\n",
       "0      5    22      5      3   \n",
       "1      5    23      5      3   \n",
       "2      5    24      5      3   \n",
       "3      8    24      4      5   \n",
       "4      8    25      2      6   \n",
       "5      8    25      5      6   \n",
       "6      8    26      2      6   \n",
       "7      8    26      5      2   \n",
       "8      8    26      5      6   \n",
       "9      8    27      2      6   \n",
       "10     8    27      5      2   \n",
       "11     8    27      5      5   \n",
       "12     9    23      4      5   \n",
       "13     9    23      5      5   \n",
       "14     9    24      5      5   \n",
       "15     9    25      5      5   \n",
       "16     9    26      5      5   \n",
       "17     9    27      5      5   \n",
       "\n",
       "                                                 prob  bl_x  bl_y  \n",
       "0   [0.48002284303088494, 0.38280278817052693, 0.1...     9    20  \n",
       "1   [0.5652983093527412, 0.4536248120951613, 0.477...     9    21  \n",
       "2   [0.22653995386454878, 0.4762805845032449, 0.40...     9    22  \n",
       "3                              [0.025440477807378965]    11    20  \n",
       "4                                 [0.237831903897844]     9    20  \n",
       "5                               [0.26275034653646495]    12    20  \n",
       "6                               [0.18583527858956853]     9    21  \n",
       "7                                [0.1551192200380325]    12    25  \n",
       "8                               [0.18746263337043842]    12    21  \n",
       "9                               [0.21078391904750435]     9    22  \n",
       "10                              [0.05582155712225877]    12    26  \n",
       "11                             [0.056467641475443704]    12    23  \n",
       "12                               [0.0478230461114061]    12    19  \n",
       "13         [0.11955240322948411, 0.08039921853203057]    13    19  \n",
       "14         [0.07948330412216542, 0.15422521712048937]    13    20  \n",
       "15  [0.10234975636986814, 0.08382047161092676, 0.1...    13    21  \n",
       "16  [0.08415818214657117, 0.17146585951217397, 0.1...    13    22  \n",
       "17          [0.10652713805518142, 0.0927118477820101]    13    23  "
      ]
     },
     "execution_count": 99,
     "metadata": {},
     "output_type": "execute_result"
    }
   ],
   "source": [
    "df_iloop"
   ]
  },
  {
   "cell_type": "code",
   "execution_count": 100,
   "metadata": {},
   "outputs": [
    {
     "data": {
      "text/html": [
       "<div>\n",
       "<style scoped>\n",
       "    .dataframe tbody tr th:only-of-type {\n",
       "        vertical-align: middle;\n",
       "    }\n",
       "\n",
       "    .dataframe tbody tr th {\n",
       "        vertical-align: top;\n",
       "    }\n",
       "\n",
       "    .dataframe thead th {\n",
       "        text-align: right;\n",
       "    }\n",
       "</style>\n",
       "<table border=\"1\" class=\"dataframe\">\n",
       "  <thead>\n",
       "    <tr style=\"text-align: right;\">\n",
       "      <th></th>\n",
       "      <th>bb_x</th>\n",
       "      <th>bb_y</th>\n",
       "      <th>siz_x</th>\n",
       "      <th>siz_y</th>\n",
       "      <th>prob</th>\n",
       "      <th>bl_x</th>\n",
       "      <th>bl_y</th>\n",
       "    </tr>\n",
       "  </thead>\n",
       "  <tbody>\n",
       "    <tr>\n",
       "      <th>0</th>\n",
       "      <td>5</td>\n",
       "      <td>15</td>\n",
       "      <td>11</td>\n",
       "      <td>11</td>\n",
       "      <td>[0.5219362231427945, 0.21914758759218422, 0.24...</td>\n",
       "      <td>15</td>\n",
       "      <td>5</td>\n",
       "    </tr>\n",
       "    <tr>\n",
       "      <th>1</th>\n",
       "      <td>12</td>\n",
       "      <td>19</td>\n",
       "      <td>8</td>\n",
       "      <td>8</td>\n",
       "      <td>[0.5592991751604471, 0.6358038212924311, 0.709...</td>\n",
       "      <td>19</td>\n",
       "      <td>12</td>\n",
       "    </tr>\n",
       "    <tr>\n",
       "      <th>2</th>\n",
       "      <td>14</td>\n",
       "      <td>22</td>\n",
       "      <td>9</td>\n",
       "      <td>9</td>\n",
       "      <td>[0.5634663251435189, 0.2603944252215587, 0.666...</td>\n",
       "      <td>22</td>\n",
       "      <td>14</td>\n",
       "    </tr>\n",
       "  </tbody>\n",
       "</table>\n",
       "</div>"
      ],
      "text/plain": [
       "   bb_x  bb_y  siz_x  siz_y  \\\n",
       "0     5    15     11     11   \n",
       "1    12    19      8      8   \n",
       "2    14    22      9      9   \n",
       "\n",
       "                                                prob  bl_x  bl_y  \n",
       "0  [0.5219362231427945, 0.21914758759218422, 0.24...    15     5  \n",
       "1  [0.5592991751604471, 0.6358038212924311, 0.709...    19    12  \n",
       "2  [0.5634663251435189, 0.2603944252215587, 0.666...    22    14  "
      ]
     },
     "execution_count": 100,
     "metadata": {},
     "output_type": "execute_result"
    }
   ],
   "source": [
    "df_hloop"
   ]
  },
  {
   "cell_type": "code",
   "execution_count": null,
   "metadata": {},
   "outputs": [],
   "source": []
  },
  {
   "cell_type": "code",
   "execution_count": 15,
   "metadata": {},
   "outputs": [],
   "source": [
    "def compatible_counts(df1, df2, col1, col2, out_name):\n",
    "    # join df1 and df2 on col1/col2, count the number of compatible entries\n",
    "    # this is equivalent to:\n",
    "    # for each row of df1, find how many rows there are in df2 that's compatible\n",
    "    \n",
    "    if isinstance(col1, str):\n",
    "        col1 = [col1]\n",
    "    if isinstance(col2, str):\n",
    "        col2 = [col2]\n",
    "    \n",
    "    assert out_name not in col1 + col2\n",
    "    \n",
    "    # first aggregate count on df2 using col2\n",
    "    df2_ct = df2[col2].groupby(col2).size().reset_index(name=out_name)\n",
    "    # hack col name, to avoid duplication\n",
    "    df2_ct = df2_ct.rename(columns={a: b for a, b in zip(col2, col1)})\n",
    "    # join to df1\n",
    "    df = pd.merge(df1, df2_ct, left_on=col1, right_on=col1, how='outer')\n",
    "    # replace missing entry with 0 (count)\n",
    "    df = df.fillna(0)\n",
    "    \n",
    "    return df"
   ]
  },
  {
   "cell_type": "code",
   "execution_count": null,
   "metadata": {},
   "outputs": [],
   "source": []
  },
  {
   "cell_type": "code",
   "execution_count": 16,
   "metadata": {},
   "outputs": [],
   "source": [
    "# for each iloop, check:\n",
    "# how many compatible outer stems (stem.bottom_left == iloop.top_right)\n",
    "df_iloop_cleanup = compatible_counts(df_iloop, df_stem, col1=['bb_x', 'bb_y'], col2=['bl_x', 'bl_y'], out_name='num_compatible_stem_outer')\n",
    "# how many compatible inner stems (stem.top_right == iloop.bottom_left)\n",
    "df_iloop_cleanup = compatible_counts(df_iloop_cleanup, df_stem, col1=['bl_x', 'bl_y'], col2=['bb_x', 'bb_y'], out_name='num_compatible_stem_inner')\n",
    "# drop those rows without compatible stems on both ends\n",
    "df_iloop_cleanup = df_iloop_cleanup[(df_iloop_cleanup['num_compatible_stem_inner'] > 0) & (df_iloop_cleanup['num_compatible_stem_outer'] > 0)]"
   ]
  },
  {
   "cell_type": "code",
   "execution_count": 17,
   "metadata": {},
   "outputs": [
    {
     "data": {
      "text/html": [
       "<div>\n",
       "<style scoped>\n",
       "    .dataframe tbody tr th:only-of-type {\n",
       "        vertical-align: middle;\n",
       "    }\n",
       "\n",
       "    .dataframe tbody tr th {\n",
       "        vertical-align: top;\n",
       "    }\n",
       "\n",
       "    .dataframe thead th {\n",
       "        text-align: right;\n",
       "    }\n",
       "</style>\n",
       "<table border=\"1\" class=\"dataframe\">\n",
       "  <thead>\n",
       "    <tr style=\"text-align: right;\">\n",
       "      <th></th>\n",
       "      <th>bb_x</th>\n",
       "      <th>bb_y</th>\n",
       "      <th>siz_x</th>\n",
       "      <th>siz_y</th>\n",
       "      <th>prob</th>\n",
       "      <th>bl_x</th>\n",
       "      <th>bl_y</th>\n",
       "      <th>num_compatible_stem_outer</th>\n",
       "      <th>num_compatible_stem_inner</th>\n",
       "    </tr>\n",
       "  </thead>\n",
       "  <tbody>\n",
       "    <tr>\n",
       "      <th>4</th>\n",
       "      <td>5.0</td>\n",
       "      <td>24.0</td>\n",
       "      <td>5.0</td>\n",
       "      <td>3.0</td>\n",
       "      <td>[0.22653995386454878, 0.4762805845032449, 0.40...</td>\n",
       "      <td>9.0</td>\n",
       "      <td>22.0</td>\n",
       "      <td>1.0</td>\n",
       "      <td>1.0</td>\n",
       "    </tr>\n",
       "    <tr>\n",
       "      <th>5</th>\n",
       "      <td>8.0</td>\n",
       "      <td>27.0</td>\n",
       "      <td>2.0</td>\n",
       "      <td>6.0</td>\n",
       "      <td>[0.21078391904750435]</td>\n",
       "      <td>9.0</td>\n",
       "      <td>22.0</td>\n",
       "      <td>1.0</td>\n",
       "      <td>1.0</td>\n",
       "    </tr>\n",
       "    <tr>\n",
       "      <th>10</th>\n",
       "      <td>8.0</td>\n",
       "      <td>27.0</td>\n",
       "      <td>5.0</td>\n",
       "      <td>2.0</td>\n",
       "      <td>[0.05582155712225877]</td>\n",
       "      <td>12.0</td>\n",
       "      <td>26.0</td>\n",
       "      <td>1.0</td>\n",
       "      <td>1.0</td>\n",
       "    </tr>\n",
       "    <tr>\n",
       "      <th>17</th>\n",
       "      <td>9.0</td>\n",
       "      <td>27.0</td>\n",
       "      <td>5.0</td>\n",
       "      <td>5.0</td>\n",
       "      <td>[0.10652713805518142, 0.0927118477820101]</td>\n",
       "      <td>13.0</td>\n",
       "      <td>23.0</td>\n",
       "      <td>1.0</td>\n",
       "      <td>1.0</td>\n",
       "    </tr>\n",
       "  </tbody>\n",
       "</table>\n",
       "</div>"
      ],
      "text/plain": [
       "    bb_x  bb_y  siz_x  siz_y  \\\n",
       "4    5.0  24.0    5.0    3.0   \n",
       "5    8.0  27.0    2.0    6.0   \n",
       "10   8.0  27.0    5.0    2.0   \n",
       "17   9.0  27.0    5.0    5.0   \n",
       "\n",
       "                                                 prob  bl_x  bl_y  \\\n",
       "4   [0.22653995386454878, 0.4762805845032449, 0.40...   9.0  22.0   \n",
       "5                               [0.21078391904750435]   9.0  22.0   \n",
       "10                              [0.05582155712225877]  12.0  26.0   \n",
       "17          [0.10652713805518142, 0.0927118477820101]  13.0  23.0   \n",
       "\n",
       "    num_compatible_stem_outer  num_compatible_stem_inner  \n",
       "4                         1.0                        1.0  \n",
       "5                         1.0                        1.0  \n",
       "10                        1.0                        1.0  \n",
       "17                        1.0                        1.0  "
      ]
     },
     "execution_count": 17,
     "metadata": {},
     "output_type": "execute_result"
    }
   ],
   "source": [
    "df_iloop_cleanup"
   ]
  },
  {
   "cell_type": "code",
   "execution_count": 18,
   "metadata": {},
   "outputs": [],
   "source": [
    "# for each hloop, check:\n",
    "# how many compatible outer stems (stem.bottom_left == iloop.top_right)\n",
    "df_hloop_cleanup = compatible_counts(df_hloop, df_stem, col1=['bb_x', 'bb_y'], col2=['bl_x', 'bl_y'], out_name='num_compatible_stem_outer')\n",
    "# drop those rows without compatible stem\n",
    "df_hloop_cleanup = df_hloop_cleanup[df_hloop_cleanup['num_compatible_stem_outer'] > 0]\n",
    "# drop those not symmetric & across diagonal\n",
    "df_hloop_cleanup = df_hloop_cleanup[(df_hloop_cleanup['bb_x'] == df_hloop_cleanup['bl_y']) & (df_hloop_cleanup['bb_y'] == df_hloop_cleanup['bl_x']) & (df_hloop_cleanup['siz_x'] == df_hloop_cleanup['siz_y'])]"
   ]
  },
  {
   "cell_type": "code",
   "execution_count": 19,
   "metadata": {},
   "outputs": [
    {
     "data": {
      "text/html": [
       "<div>\n",
       "<style scoped>\n",
       "    .dataframe tbody tr th:only-of-type {\n",
       "        vertical-align: middle;\n",
       "    }\n",
       "\n",
       "    .dataframe tbody tr th {\n",
       "        vertical-align: top;\n",
       "    }\n",
       "\n",
       "    .dataframe thead th {\n",
       "        text-align: right;\n",
       "    }\n",
       "</style>\n",
       "<table border=\"1\" class=\"dataframe\">\n",
       "  <thead>\n",
       "    <tr style=\"text-align: right;\">\n",
       "      <th></th>\n",
       "      <th>bb_x</th>\n",
       "      <th>bb_y</th>\n",
       "      <th>siz_x</th>\n",
       "      <th>siz_y</th>\n",
       "      <th>prob</th>\n",
       "      <th>bl_x</th>\n",
       "      <th>bl_y</th>\n",
       "      <th>num_compatible_stem_outer</th>\n",
       "    </tr>\n",
       "  </thead>\n",
       "  <tbody>\n",
       "    <tr>\n",
       "      <th>1</th>\n",
       "      <td>12</td>\n",
       "      <td>19</td>\n",
       "      <td>8.0</td>\n",
       "      <td>8.0</td>\n",
       "      <td>[0.5592991751604471, 0.6358038212924311, 0.709...</td>\n",
       "      <td>19.0</td>\n",
       "      <td>12.0</td>\n",
       "      <td>1.0</td>\n",
       "    </tr>\n",
       "    <tr>\n",
       "      <th>2</th>\n",
       "      <td>14</td>\n",
       "      <td>22</td>\n",
       "      <td>9.0</td>\n",
       "      <td>9.0</td>\n",
       "      <td>[0.5634663251435189, 0.2603944252215587, 0.666...</td>\n",
       "      <td>22.0</td>\n",
       "      <td>14.0</td>\n",
       "      <td>1.0</td>\n",
       "    </tr>\n",
       "  </tbody>\n",
       "</table>\n",
       "</div>"
      ],
      "text/plain": [
       "   bb_x  bb_y  siz_x  siz_y  \\\n",
       "1    12    19    8.0    8.0   \n",
       "2    14    22    9.0    9.0   \n",
       "\n",
       "                                                prob  bl_x  bl_y  \\\n",
       "1  [0.5592991751604471, 0.6358038212924311, 0.709...  19.0  12.0   \n",
       "2  [0.5634663251435189, 0.2603944252215587, 0.666...  22.0  14.0   \n",
       "\n",
       "   num_compatible_stem_outer  \n",
       "1                        1.0  \n",
       "2                        1.0  "
      ]
     },
     "execution_count": 19,
     "metadata": {},
     "output_type": "execute_result"
    }
   ],
   "source": [
    "df_hloop_cleanup"
   ]
  },
  {
   "cell_type": "code",
   "execution_count": 20,
   "metadata": {},
   "outputs": [
    {
     "data": {
      "text/html": [
       "<div>\n",
       "<style scoped>\n",
       "    .dataframe tbody tr th:only-of-type {\n",
       "        vertical-align: middle;\n",
       "    }\n",
       "\n",
       "    .dataframe tbody tr th {\n",
       "        vertical-align: top;\n",
       "    }\n",
       "\n",
       "    .dataframe thead th {\n",
       "        text-align: right;\n",
       "    }\n",
       "</style>\n",
       "<table border=\"1\" class=\"dataframe\">\n",
       "  <thead>\n",
       "    <tr style=\"text-align: right;\">\n",
       "      <th></th>\n",
       "      <th>bb_x</th>\n",
       "      <th>bb_y</th>\n",
       "      <th>siz_x</th>\n",
       "      <th>siz_y</th>\n",
       "      <th>prob</th>\n",
       "      <th>bl_x</th>\n",
       "      <th>bl_y</th>\n",
       "    </tr>\n",
       "  </thead>\n",
       "  <tbody>\n",
       "    <tr>\n",
       "      <th>0</th>\n",
       "      <td>0</td>\n",
       "      <td>29</td>\n",
       "      <td>6</td>\n",
       "      <td>6</td>\n",
       "      <td>[0.41025621353158326, 0.44290844275857927, 0.2...</td>\n",
       "      <td>5</td>\n",
       "      <td>24</td>\n",
       "    </tr>\n",
       "    <tr>\n",
       "      <th>1</th>\n",
       "      <td>5</td>\n",
       "      <td>30</td>\n",
       "      <td>4</td>\n",
       "      <td>4</td>\n",
       "      <td>[0.20544070627534108]</td>\n",
       "      <td>8</td>\n",
       "      <td>27</td>\n",
       "    </tr>\n",
       "    <tr>\n",
       "      <th>2</th>\n",
       "      <td>6</td>\n",
       "      <td>30</td>\n",
       "      <td>4</td>\n",
       "      <td>4</td>\n",
       "      <td>[0.4038486250672587, 0.27864132850155837, 0.27...</td>\n",
       "      <td>9</td>\n",
       "      <td>27</td>\n",
       "    </tr>\n",
       "    <tr>\n",
       "      <th>3</th>\n",
       "      <td>9</td>\n",
       "      <td>22</td>\n",
       "      <td>4</td>\n",
       "      <td>4</td>\n",
       "      <td>[0.6770828362027589, 0.573858923373826, 0.8764...</td>\n",
       "      <td>12</td>\n",
       "      <td>19</td>\n",
       "    </tr>\n",
       "    <tr>\n",
       "      <th>4</th>\n",
       "      <td>12</td>\n",
       "      <td>26</td>\n",
       "      <td>4</td>\n",
       "      <td>4</td>\n",
       "      <td>[0.09296749466427809]</td>\n",
       "      <td>15</td>\n",
       "      <td>23</td>\n",
       "    </tr>\n",
       "    <tr>\n",
       "      <th>5</th>\n",
       "      <td>13</td>\n",
       "      <td>23</td>\n",
       "      <td>2</td>\n",
       "      <td>2</td>\n",
       "      <td>[0.4102197996540831, 0.32933917103708865, 0.41...</td>\n",
       "      <td>14</td>\n",
       "      <td>22</td>\n",
       "    </tr>\n",
       "  </tbody>\n",
       "</table>\n",
       "</div>"
      ],
      "text/plain": [
       "   bb_x  bb_y  siz_x  siz_y  \\\n",
       "0     0    29      6      6   \n",
       "1     5    30      4      4   \n",
       "2     6    30      4      4   \n",
       "3     9    22      4      4   \n",
       "4    12    26      4      4   \n",
       "5    13    23      2      2   \n",
       "\n",
       "                                                prob  bl_x  bl_y  \n",
       "0  [0.41025621353158326, 0.44290844275857927, 0.2...     5    24  \n",
       "1                              [0.20544070627534108]     8    27  \n",
       "2  [0.4038486250672587, 0.27864132850155837, 0.27...     9    27  \n",
       "3  [0.6770828362027589, 0.573858923373826, 0.8764...    12    19  \n",
       "4                              [0.09296749466427809]    15    23  \n",
       "5  [0.4102197996540831, 0.32933917103708865, 0.41...    14    22  "
      ]
     },
     "execution_count": 20,
     "metadata": {},
     "output_type": "execute_result"
    }
   ],
   "source": [
    "df_stem"
   ]
  },
  {
   "cell_type": "code",
   "execution_count": 21,
   "metadata": {},
   "outputs": [],
   "source": [
    "class LocalStructureBb(object):\n",
    "    \n",
    "    def __init__(self, top_right_x, top_right_y, size_x, size_y, bb_id, bb_type):\n",
    "        self.id = bb_id\n",
    "        assert bb_type in ['stem', 'iloop', 'hloop']\n",
    "        self.type = bb_type\n",
    "        self.tr_x = top_right_x\n",
    "        self.tr_y = top_right_y\n",
    "        self.size_x = size_x\n",
    "        self.size_y = size_y\n",
    "        # also store bottom left\n",
    "        self.bl_x = top_right_x + size_x - 1\n",
    "        self.bl_y = top_right_y - size_y + 1\n",
    "\n",
    "    def share_top_right_corner(self, another_bb):\n",
    "        # check if self.top_right == another_bb.bottom_left\n",
    "        if self.tr_x == another_bb.bl_x and self.tr_y == another_bb.bl_y:\n",
    "            return True\n",
    "        else:\n",
    "            return False\n",
    "        \n",
    "    def share_bottom_left_corner(self, another_bb):\n",
    "        # check if self.bottom_left == another_bb.top_right\n",
    "        if self.bl_x == another_bb.tr_x and self.bl_y == another_bb.tr_y:\n",
    "            return True\n",
    "        else:\n",
    "            return False\n",
    "        \n",
    "    def overlaps(self, another_bb):\n",
    "        raise NotImplementedError\n",
    "        \n",
    "    def bp_conflict(self, another_bb):\n",
    "        # only makes sense for stem bb comparison\n",
    "        # where the base pair ranges are in conflict with each other\n",
    "        # i.e. if another_bb cannot be included if self is included in global structure\n",
    "        # x range\n",
    "        x1_1, x1_2 = self.tr_x, self.bl_x\n",
    "        x2_1, x2_2 = another_bb.tr_x, another_bb.bl_x\n",
    "        x_range_conflict = (x1_1 <= x2_1 <= x1_2) or (x2_1 <= x1_1 <= x2_2)\n",
    "        # y range\n",
    "        y1_1, y1_2 = self.bl_y, self.tr_y\n",
    "        y2_1, y2_2 = another_bb.bl_y, another_bb.tr_y\n",
    "        y_range_conflict = (y1_1 <= y2_1 <= y1_2) or (y2_1 <= y1_1 <= y2_2)\n",
    "        return x_range_conflict or y_range_conflict\n",
    "    \n",
    "    def __repr__(self):\n",
    "        return f\"{self.type} {self.id} top right ({self.tr_x}, {self.tr_y}), bottom left ({self.bl_x}, {self.bl_y})\""
   ]
  },
  {
   "cell_type": "code",
   "execution_count": null,
   "metadata": {},
   "outputs": [],
   "source": []
  },
  {
   "cell_type": "code",
   "execution_count": 22,
   "metadata": {},
   "outputs": [],
   "source": [
    "# bb objects\n",
    "# use enumerate on df since we want to contiguous ids, not the original df index\n",
    "stems = [LocalStructureBb(row['bb_x'], row['bb_y'], row['siz_x'], row['siz_y'], f'stem_{idx}', 'stem') for idx, (_, row) in enumerate(df_stem.iterrows())]\n",
    "iloops = [LocalStructureBb(row['bb_x'], row['bb_y'], row['siz_x'], row['siz_y'], f'iloop_{idx}', 'iloop') for idx, (_, row) in enumerate(df_iloop_cleanup.iterrows())]\n",
    "hloops = [LocalStructureBb(row['bb_x'], row['bb_y'], row['siz_x'], row['siz_y'], f'hloop_{idx}', 'hloop') for idx, (_, row) in enumerate(df_hloop_cleanup.iterrows())]\n"
   ]
  },
  {
   "cell_type": "code",
   "execution_count": 23,
   "metadata": {},
   "outputs": [
    {
     "data": {
      "text/plain": [
       "[stem stem_0 top right (0, 29), bottom left (5, 24),\n",
       " stem stem_1 top right (5, 30), bottom left (8, 27),\n",
       " stem stem_2 top right (6, 30), bottom left (9, 27),\n",
       " stem stem_3 top right (9, 22), bottom left (12, 19),\n",
       " stem stem_4 top right (12, 26), bottom left (15, 23),\n",
       " stem stem_5 top right (13, 23), bottom left (14, 22)]"
      ]
     },
     "execution_count": 23,
     "metadata": {},
     "output_type": "execute_result"
    }
   ],
   "source": [
    "stems"
   ]
  },
  {
   "cell_type": "code",
   "execution_count": 24,
   "metadata": {},
   "outputs": [
    {
     "data": {
      "text/plain": [
       "True"
      ]
     },
     "execution_count": 24,
     "metadata": {},
     "output_type": "execute_result"
    }
   ],
   "source": [
    "stems[0].bp_conflict(stems[4])"
   ]
  },
  {
   "cell_type": "code",
   "execution_count": 25,
   "metadata": {},
   "outputs": [
    {
     "data": {
      "text/plain": [
       "[iloop iloop_0 top right (5.0, 24.0), bottom left (9.0, 22.0),\n",
       " iloop iloop_1 top right (8.0, 27.0), bottom left (9.0, 22.0),\n",
       " iloop iloop_2 top right (8.0, 27.0), bottom left (12.0, 26.0),\n",
       " iloop iloop_3 top right (9.0, 27.0), bottom left (13.0, 23.0)]"
      ]
     },
     "execution_count": 25,
     "metadata": {},
     "output_type": "execute_result"
    }
   ],
   "source": [
    "iloops"
   ]
  },
  {
   "cell_type": "code",
   "execution_count": 26,
   "metadata": {},
   "outputs": [
    {
     "data": {
      "text/plain": [
       "[hloop hloop_0 top right (12, 19), bottom left (19.0, 12.0),\n",
       " hloop hloop_1 top right (14, 22), bottom left (22.0, 14.0)]"
      ]
     },
     "execution_count": 26,
     "metadata": {},
     "output_type": "execute_result"
    }
   ],
   "source": [
    "hloops"
   ]
  },
  {
   "cell_type": "code",
   "execution_count": null,
   "metadata": {},
   "outputs": [],
   "source": []
  },
  {
   "cell_type": "code",
   "execution_count": 27,
   "metadata": {},
   "outputs": [],
   "source": [
    "class OneStepChain(object):\n",
    "    \n",
    "    def __init__(self, bb, next_bb=None):\n",
    "        self.bb = bb\n",
    "        self.next_bb = next_bb\n",
    "        \n",
    "    def clear_next_bb(self):\n",
    "        self.next_bb = None\n",
    "    \n",
    "    def add_next_bb(self, next_bb, validate=True):\n",
    "        if validate:\n",
    "            assert self.bb.share_top_right_corner(next_bb)\n",
    "        if self.next_bb is None:\n",
    "            self.next_bb = []\n",
    "        self.next_bb.append(next_bb)\n",
    "        \n",
    "    def __repr__(self):\n",
    "        if self.next_bb:\n",
    "            tmp = [x.id for x in self.next_bb]\n",
    "        else:\n",
    "            tmp = 'N/A'\n",
    "        return f\"{self.bb}. Next: {tmp}\""
   ]
  },
  {
   "cell_type": "code",
   "execution_count": 28,
   "metadata": {},
   "outputs": [],
   "source": [
    "class GlobalConstraint(object):\n",
    "    \n",
    "    def __init__(self, stems, iloops, hloops):\n",
    "        raise NotImplementedError\n",
    "    \n",
    "    def conflict(self, bb1, bb2):\n",
    "        # check bb1 and bb2 are in the known bb's\n",
    "        # same type?\n",
    "        # check overlap and bp conflict\n",
    "        raise NotImplementedError"
   ]
  },
  {
   "cell_type": "code",
   "execution_count": null,
   "metadata": {},
   "outputs": [],
   "source": []
  },
  {
   "cell_type": "code",
   "execution_count": 29,
   "metadata": {},
   "outputs": [],
   "source": [
    "# find next compatible, start with iloop\n",
    "iloop_os_chain = []\n",
    "for iloop in iloops:\n",
    "    iloop_os = OneStepChain(iloop)\n",
    "    for stem in stems:\n",
    "        if iloop.share_top_right_corner(stem):\n",
    "            iloop_os.add_next_bb(stem)\n",
    "    iloop_os_chain.append(iloop_os)"
   ]
  },
  {
   "cell_type": "code",
   "execution_count": 30,
   "metadata": {},
   "outputs": [],
   "source": [
    "# find next compatible, start with stem\n",
    "stem_os_chain = []\n",
    "for stem in stems:\n",
    "    stem_os = OneStepChain(stem)\n",
    "    for iloop in iloops:\n",
    "        if stem.share_top_right_corner(iloop):\n",
    "            stem_os.add_next_bb(iloop)\n",
    "    stem_os_chain.append(stem_os)"
   ]
  },
  {
   "cell_type": "code",
   "execution_count": 31,
   "metadata": {},
   "outputs": [],
   "source": [
    "# find next compatible, start with hloop\n",
    "hloop_os_chain = []\n",
    "for hloop in hloops:\n",
    "    hloop_os = OneStepChain(hloop)\n",
    "    for stem in stems:\n",
    "        if hloop.share_top_right_corner(stem):\n",
    "            hloop_os.add_next_bb(stem)\n",
    "    hloop_os_chain.append(hloop_os)"
   ]
  },
  {
   "cell_type": "code",
   "execution_count": 32,
   "metadata": {},
   "outputs": [
    {
     "data": {
      "text/plain": [
       "[iloop iloop_0 top right (5.0, 24.0), bottom left (9.0, 22.0). Next: ['stem_0'],\n",
       " iloop iloop_1 top right (8.0, 27.0), bottom left (9.0, 22.0). Next: ['stem_1'],\n",
       " iloop iloop_2 top right (8.0, 27.0), bottom left (12.0, 26.0). Next: ['stem_1'],\n",
       " iloop iloop_3 top right (9.0, 27.0), bottom left (13.0, 23.0). Next: ['stem_2']]"
      ]
     },
     "execution_count": 32,
     "metadata": {},
     "output_type": "execute_result"
    }
   ],
   "source": [
    "iloop_os_chain"
   ]
  },
  {
   "cell_type": "code",
   "execution_count": 33,
   "metadata": {},
   "outputs": [
    {
     "data": {
      "text/plain": [
       "[stem stem_0 top right (0, 29), bottom left (5, 24). Next: N/A,\n",
       " stem stem_1 top right (5, 30), bottom left (8, 27). Next: N/A,\n",
       " stem stem_2 top right (6, 30), bottom left (9, 27). Next: N/A,\n",
       " stem stem_3 top right (9, 22), bottom left (12, 19). Next: ['iloop_0', 'iloop_1'],\n",
       " stem stem_4 top right (12, 26), bottom left (15, 23). Next: ['iloop_2'],\n",
       " stem stem_5 top right (13, 23), bottom left (14, 22). Next: ['iloop_3']]"
      ]
     },
     "execution_count": 33,
     "metadata": {},
     "output_type": "execute_result"
    }
   ],
   "source": [
    "stem_os_chain"
   ]
  },
  {
   "cell_type": "code",
   "execution_count": 34,
   "metadata": {},
   "outputs": [
    {
     "data": {
      "text/plain": [
       "[hloop hloop_0 top right (12, 19), bottom left (19.0, 12.0). Next: ['stem_3'],\n",
       " hloop hloop_1 top right (14, 22), bottom left (22.0, 14.0). Next: ['stem_5']]"
      ]
     },
     "execution_count": 34,
     "metadata": {},
     "output_type": "execute_result"
    }
   ],
   "source": [
    "hloop_os_chain"
   ]
  },
  {
   "cell_type": "code",
   "execution_count": 35,
   "metadata": {},
   "outputs": [],
   "source": [
    "# for convenience\n",
    "os_chain = {x.bb.id: x for x in iloop_os_chain + stem_os_chain + hloop_os_chain}"
   ]
  },
  {
   "cell_type": "code",
   "execution_count": 36,
   "metadata": {},
   "outputs": [
    {
     "data": {
      "text/plain": [
       "{'iloop_0': iloop iloop_0 top right (5.0, 24.0), bottom left (9.0, 22.0). Next: ['stem_0'],\n",
       " 'iloop_1': iloop iloop_1 top right (8.0, 27.0), bottom left (9.0, 22.0). Next: ['stem_1'],\n",
       " 'iloop_2': iloop iloop_2 top right (8.0, 27.0), bottom left (12.0, 26.0). Next: ['stem_1'],\n",
       " 'iloop_3': iloop iloop_3 top right (9.0, 27.0), bottom left (13.0, 23.0). Next: ['stem_2'],\n",
       " 'stem_0': stem stem_0 top right (0, 29), bottom left (5, 24). Next: N/A,\n",
       " 'stem_1': stem stem_1 top right (5, 30), bottom left (8, 27). Next: N/A,\n",
       " 'stem_2': stem stem_2 top right (6, 30), bottom left (9, 27). Next: N/A,\n",
       " 'stem_3': stem stem_3 top right (9, 22), bottom left (12, 19). Next: ['iloop_0', 'iloop_1'],\n",
       " 'stem_4': stem stem_4 top right (12, 26), bottom left (15, 23). Next: ['iloop_2'],\n",
       " 'stem_5': stem stem_5 top right (13, 23), bottom left (14, 22). Next: ['iloop_3'],\n",
       " 'hloop_0': hloop hloop_0 top right (12, 19), bottom left (19.0, 12.0). Next: ['stem_3'],\n",
       " 'hloop_1': hloop hloop_1 top right (14, 22), bottom left (22.0, 14.0). Next: ['stem_5']}"
      ]
     },
     "execution_count": 36,
     "metadata": {},
     "output_type": "execute_result"
    }
   ],
   "source": [
    "os_chain"
   ]
  },
  {
   "cell_type": "code",
   "execution_count": null,
   "metadata": {},
   "outputs": [],
   "source": []
  },
  {
   "cell_type": "code",
   "execution_count": 104,
   "metadata": {},
   "outputs": [],
   "source": [
    "class FullChain(object):\n",
    "    \n",
    "    def __init__(self, start):\n",
    "        # make sure start is either stem or hloop\n",
    "        assert start.type in ['stem', 'hloop']\n",
    "        self.chain = (start, )\n",
    "        self.start = start\n",
    "        self.completed = False\n",
    "    \n",
    "    def add_bb(self, bb):\n",
    "        last_bb = self.chain[-1]\n",
    "        assert last_bb.share_top_right_corner(bb), f\"{last_bb} {bb}\"\n",
    "        self.chain = self.chain + (bb,)\n",
    "    \n",
    "    def complete(self, validate=True):\n",
    "        if validate:\n",
    "            end = self.chain[-1]\n",
    "            assert end.type == 'stem'\n",
    "        self.end = end\n",
    "        self.completed = True\n",
    "    \n",
    "    def merge_chain(self, another_chain):\n",
    "        # merge another (completed) chain\n",
    "        assert another_chain.completed\n",
    "        # make sure they share the same bb\n",
    "        assert self.chain[-1] == another_chain.chain[0]\n",
    "        self.chain = self.chain + another_chain.chain[1:]\n",
    "        self.end = another_chain.end\n",
    "        self.completed == True\n",
    "        \n",
    "    def __repr__(self):\n",
    "        status = \"Completed\" if self.completed else \"Incomplete\"\n",
    "        return f\"FullChain {self.chain} {status}\"\n",
    "#         return f\"FullChain {[x.id for x in self.chain]} {status}\""
   ]
  },
  {
   "cell_type": "code",
   "execution_count": null,
   "metadata": {},
   "outputs": [],
   "source": [
    "\n"
   ]
  },
  {
   "cell_type": "code",
   "execution_count": 105,
   "metadata": {
    "scrolled": false
   },
   "outputs": [],
   "source": [
    "# for convenience, keep track of chains starting with each bb\n",
    "# not used for now, will need this to improve efficiency\n",
    "bb2chain = {bb: [] for bb in stems + iloops + hloops} \n",
    "# all chains (some might be subset of others)\n",
    "full_chains = []\n",
    "\n",
    "\n",
    "def grow_chain(chain):        \n",
    "    # look up last item in chain\n",
    "    this_bb = chain.chain[-1]\n",
    "    # check its next compatible elements\n",
    "    next_bbs = os_chain[this_bb.id].next_bb\n",
    "    # finish if empty\n",
    "    # otherwise add next item & recursion\n",
    "    if next_bbs is None:\n",
    "        tmp = copy.copy(chain)\n",
    "        tmp.complete()\n",
    "        full_chains.append(tmp)\n",
    "        return\n",
    "    else:\n",
    "#         print(next_bbs, '\\n')\n",
    "        # if end with stem, make a copy, add to full chain list\n",
    "        if chain.chain[-1].type == 'stem':\n",
    "            tmp = copy.copy(chain)\n",
    "            tmp.complete()\n",
    "            full_chains.append(tmp)\n",
    "        \n",
    "#         for i in range(len(os_chain[chain.chain[-1].id].next_bb)):\n",
    "        for i in range(len(next_bbs)):\n",
    "            # operate on copy before 'branching out' to avoid messing up with a global 'chain'\n",
    "            tmp = copy.copy(chain)\n",
    "            tmp.add_bb(next_bbs[i])\n",
    "            grow_chain(tmp)\n",
    "\n",
    "\n",
    "# start with stem or hloop\n",
    "for x in stems + hloops:\n",
    "#     print(x)\n",
    "    fc = FullChain(x)\n",
    "    grow_chain(fc)\n",
    "\n",
    "\n"
   ]
  },
  {
   "cell_type": "code",
   "execution_count": null,
   "metadata": {},
   "outputs": [],
   "source": []
  },
  {
   "cell_type": "code",
   "execution_count": 106,
   "metadata": {},
   "outputs": [
    {
     "data": {
      "text/plain": [
       "[FullChain (stem stem_0 top right (0, 29), bottom left (5, 24),) Completed,\n",
       " FullChain (stem stem_1 top right (5, 30), bottom left (8, 27),) Completed,\n",
       " FullChain (stem stem_2 top right (6, 30), bottom left (9, 27),) Completed,\n",
       " FullChain (stem stem_3 top right (9, 22), bottom left (12, 19),) Completed,\n",
       " FullChain (stem stem_3 top right (9, 22), bottom left (12, 19), iloop iloop_0 top right (5.0, 24.0), bottom left (9.0, 22.0), stem stem_0 top right (0, 29), bottom left (5, 24)) Completed,\n",
       " FullChain (stem stem_3 top right (9, 22), bottom left (12, 19), iloop iloop_1 top right (8.0, 27.0), bottom left (9.0, 22.0), stem stem_1 top right (5, 30), bottom left (8, 27)) Completed,\n",
       " FullChain (stem stem_4 top right (12, 26), bottom left (15, 23),) Completed,\n",
       " FullChain (stem stem_4 top right (12, 26), bottom left (15, 23), iloop iloop_2 top right (8.0, 27.0), bottom left (12.0, 26.0), stem stem_1 top right (5, 30), bottom left (8, 27)) Completed,\n",
       " FullChain (stem stem_5 top right (13, 23), bottom left (14, 22),) Completed,\n",
       " FullChain (stem stem_5 top right (13, 23), bottom left (14, 22), iloop iloop_3 top right (9.0, 27.0), bottom left (13.0, 23.0), stem stem_2 top right (6, 30), bottom left (9, 27)) Completed,\n",
       " FullChain (hloop hloop_0 top right (12, 19), bottom left (19.0, 12.0), stem stem_3 top right (9, 22), bottom left (12, 19)) Completed,\n",
       " FullChain (hloop hloop_0 top right (12, 19), bottom left (19.0, 12.0), stem stem_3 top right (9, 22), bottom left (12, 19), iloop iloop_0 top right (5.0, 24.0), bottom left (9.0, 22.0), stem stem_0 top right (0, 29), bottom left (5, 24)) Completed,\n",
       " FullChain (hloop hloop_0 top right (12, 19), bottom left (19.0, 12.0), stem stem_3 top right (9, 22), bottom left (12, 19), iloop iloop_1 top right (8.0, 27.0), bottom left (9.0, 22.0), stem stem_1 top right (5, 30), bottom left (8, 27)) Completed,\n",
       " FullChain (hloop hloop_1 top right (14, 22), bottom left (22.0, 14.0), stem stem_5 top right (13, 23), bottom left (14, 22)) Completed,\n",
       " FullChain (hloop hloop_1 top right (14, 22), bottom left (22.0, 14.0), stem stem_5 top right (13, 23), bottom left (14, 22), iloop iloop_3 top right (9.0, 27.0), bottom left (13.0, 23.0), stem stem_2 top right (6, 30), bottom left (9, 27)) Completed]"
      ]
     },
     "execution_count": 106,
     "metadata": {},
     "output_type": "execute_result"
    }
   ],
   "source": [
    "full_chains"
   ]
  },
  {
   "cell_type": "code",
   "execution_count": 96,
   "metadata": {},
   "outputs": [
    {
     "data": {
      "text/plain": [
       "15"
      ]
     },
     "execution_count": 96,
     "metadata": {},
     "output_type": "execute_result"
    }
   ],
   "source": [
    "len(full_chains)"
   ]
  },
  {
   "cell_type": "code",
   "execution_count": 115,
   "metadata": {},
   "outputs": [],
   "source": [
    "import numpy as np"
   ]
  },
  {
   "cell_type": "code",
   "execution_count": 108,
   "metadata": {},
   "outputs": [],
   "source": [
    "# from scipy.spatial.distance import pdist"
   ]
  },
  {
   "cell_type": "code",
   "execution_count": 120,
   "metadata": {},
   "outputs": [],
   "source": [
    "# all pairwise compatibility of stems\n",
    "# dm = pdist(pd.DataFrame({'stem': stems}).values, lambda x, y: x.bp_conflict(y))\n",
    "\n",
    "distances = np.zeros((len(stems), len(stems)), dtype=object)\n",
    "for i in range(len(stems)):\n",
    "    for j in range(len(stems)):\n",
    "        d = stems[i].bp_conflict(stems[j])\n",
    "        distances[i, j] = d\n",
    "        distances[j, i] = d\n",
    "\n",
    "        \n",
    "stem_ids = [x.id for x in stems]\n",
    "df_stem_conflict = pd.DataFrame(distances, index=stem_ids, columns=stem_ids)\n",
    "        "
   ]
  },
  {
   "cell_type": "code",
   "execution_count": 121,
   "metadata": {},
   "outputs": [
    {
     "data": {
      "text/html": [
       "<div>\n",
       "<style scoped>\n",
       "    .dataframe tbody tr th:only-of-type {\n",
       "        vertical-align: middle;\n",
       "    }\n",
       "\n",
       "    .dataframe tbody tr th {\n",
       "        vertical-align: top;\n",
       "    }\n",
       "\n",
       "    .dataframe thead th {\n",
       "        text-align: right;\n",
       "    }\n",
       "</style>\n",
       "<table border=\"1\" class=\"dataframe\">\n",
       "  <thead>\n",
       "    <tr style=\"text-align: right;\">\n",
       "      <th></th>\n",
       "      <th>stem_0</th>\n",
       "      <th>stem_1</th>\n",
       "      <th>stem_2</th>\n",
       "      <th>stem_3</th>\n",
       "      <th>stem_4</th>\n",
       "      <th>stem_5</th>\n",
       "    </tr>\n",
       "  </thead>\n",
       "  <tbody>\n",
       "    <tr>\n",
       "      <th>stem_0</th>\n",
       "      <td>True</td>\n",
       "      <td>True</td>\n",
       "      <td>True</td>\n",
       "      <td>False</td>\n",
       "      <td>True</td>\n",
       "      <td>False</td>\n",
       "    </tr>\n",
       "    <tr>\n",
       "      <th>stem_1</th>\n",
       "      <td>True</td>\n",
       "      <td>True</td>\n",
       "      <td>True</td>\n",
       "      <td>False</td>\n",
       "      <td>False</td>\n",
       "      <td>False</td>\n",
       "    </tr>\n",
       "    <tr>\n",
       "      <th>stem_2</th>\n",
       "      <td>True</td>\n",
       "      <td>True</td>\n",
       "      <td>True</td>\n",
       "      <td>True</td>\n",
       "      <td>False</td>\n",
       "      <td>False</td>\n",
       "    </tr>\n",
       "    <tr>\n",
       "      <th>stem_3</th>\n",
       "      <td>False</td>\n",
       "      <td>False</td>\n",
       "      <td>True</td>\n",
       "      <td>True</td>\n",
       "      <td>True</td>\n",
       "      <td>True</td>\n",
       "    </tr>\n",
       "    <tr>\n",
       "      <th>stem_4</th>\n",
       "      <td>True</td>\n",
       "      <td>False</td>\n",
       "      <td>False</td>\n",
       "      <td>True</td>\n",
       "      <td>True</td>\n",
       "      <td>True</td>\n",
       "    </tr>\n",
       "    <tr>\n",
       "      <th>stem_5</th>\n",
       "      <td>False</td>\n",
       "      <td>False</td>\n",
       "      <td>False</td>\n",
       "      <td>True</td>\n",
       "      <td>True</td>\n",
       "      <td>True</td>\n",
       "    </tr>\n",
       "  </tbody>\n",
       "</table>\n",
       "</div>"
      ],
      "text/plain": [
       "       stem_0 stem_1 stem_2 stem_3 stem_4 stem_5\n",
       "stem_0   True   True   True  False   True  False\n",
       "stem_1   True   True   True  False  False  False\n",
       "stem_2   True   True   True   True  False  False\n",
       "stem_3  False  False   True   True   True   True\n",
       "stem_4   True  False  False   True   True   True\n",
       "stem_5  False  False  False   True   True   True"
      ]
     },
     "execution_count": 121,
     "metadata": {},
     "output_type": "execute_result"
    }
   ],
   "source": [
    "df_stem_conflict"
   ]
  },
  {
   "cell_type": "code",
   "execution_count": null,
   "metadata": {},
   "outputs": [],
   "source": []
  },
  {
   "cell_type": "code",
   "execution_count": null,
   "metadata": {},
   "outputs": [],
   "source": [
    "# each 'chain' can start with stem or hloop (although there will be further implication if starting with stem),\n",
    "# and can only end with stem\n",
    "# to combine multiple chains in the same global structure, global constraints need to be satisfied (no overlapping OS, no bp conflict between stems)\n",
    "\n"
   ]
  },
  {
   "cell_type": "code",
   "execution_count": null,
   "metadata": {},
   "outputs": [],
   "source": []
  },
  {
   "cell_type": "code",
   "execution_count": null,
   "metadata": {},
   "outputs": [],
   "source": []
  },
  {
   "cell_type": "code",
   "execution_count": null,
   "metadata": {},
   "outputs": [],
   "source": [
    "# DP on growing the 'chain'\n",
    "# e.g. if we already know the tree 'growing' from stem_a we don't need to recompute it"
   ]
  },
  {
   "cell_type": "code",
   "execution_count": null,
   "metadata": {},
   "outputs": [],
   "source": []
  },
  {
   "cell_type": "code",
   "execution_count": null,
   "metadata": {},
   "outputs": [],
   "source": []
  },
  {
   "cell_type": "code",
   "execution_count": null,
   "metadata": {},
   "outputs": [],
   "source": [
    "# incompatible stems (local constraints)\n",
    "\n"
   ]
  },
  {
   "cell_type": "code",
   "execution_count": null,
   "metadata": {},
   "outputs": [],
   "source": [
    "# 'implied' loops:\n",
    "# once we put together a 'global structure', any implicit loop (from choice of stems)\n",
    "# should also be included\n",
    "# this can be done by naively:\n",
    "# apply stems -> binary array -> run script to find local bb -> check it's the same"
   ]
  },
  {
   "cell_type": "code",
   "execution_count": null,
   "metadata": {},
   "outputs": [],
   "source": []
  },
  {
   "cell_type": "code",
   "execution_count": null,
   "metadata": {},
   "outputs": [],
   "source": [
    "# assembly of 'stretches':\n",
    "# can start with stem or hloop (starting with stem implies it's connected to non-local structure <- to be verified later?)"
   ]
  },
  {
   "cell_type": "code",
   "execution_count": null,
   "metadata": {},
   "outputs": [],
   "source": []
  },
  {
   "cell_type": "code",
   "execution_count": null,
   "metadata": {},
   "outputs": [],
   "source": [
    "# clean up\n",
    "\n",
    "# add bottom left corner (1-index) for easy comparison\n",
    "\n",
    "# any bb out of range\n",
    "\n",
    "\n",
    "\n",
    "# rank by: number of proposals, probabilities"
   ]
  }
 ],
 "metadata": {
  "kernelspec": {
   "display_name": "Python 3",
   "language": "python",
   "name": "python3"
  },
  "language_info": {
   "codemirror_mode": {
    "name": "ipython",
    "version": 3
   },
   "file_extension": ".py",
   "mimetype": "text/x-python",
   "name": "python",
   "nbconvert_exporter": "python",
   "pygments_lexer": "ipython3",
   "version": "3.7.6"
  }
 },
 "nbformat": 4,
 "nbformat_minor": 4
}
