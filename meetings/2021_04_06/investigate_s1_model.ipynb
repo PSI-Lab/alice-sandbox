{
 "cells": [
  {
   "cell_type": "code",
   "execution_count": null,
   "id": "thorough-block",
   "metadata": {},
   "outputs": [],
   "source": [
    "import pandas as pd\n",
    "from utils.rna_ss_utils import one_idx2arr, sort_pairs, LocalStructureParser, make_target_pixel_bb, one_idx2arr, arr2db\n",
    "from utils.inference_s1 import Predictor, Evaluator\n",
    "from utils.util_global_struct import process_bb_old_to_new"
   ]
  },
  {
   "cell_type": "code",
   "execution_count": null,
   "id": "dietary-bahamas",
   "metadata": {},
   "outputs": [],
   "source": [
    "import numpy as np\n",
    "import torch\n",
    "from utils.inference_s1 import DataEncoder"
   ]
  },
  {
   "cell_type": "code",
   "execution_count": null,
   "id": "intermediate-roommate",
   "metadata": {},
   "outputs": [],
   "source": [
    "import dgutils.pandas as dgp"
   ]
  },
  {
   "cell_type": "code",
   "execution_count": null,
   "id": "level-excess",
   "metadata": {},
   "outputs": [],
   "source": [
    "from scipy.special import softmax\n",
    "from scipy.stats import entropy"
   ]
  },
  {
   "cell_type": "code",
   "execution_count": null,
   "id": "smoking-response",
   "metadata": {},
   "outputs": [],
   "source": [
    "import plotly.express as px\n",
    "from plotly.subplots import make_subplots\n",
    "import plotly.graph_objects as go"
   ]
  },
  {
   "cell_type": "code",
   "execution_count": null,
   "id": "acting-notebook",
   "metadata": {},
   "outputs": [],
   "source": []
  },
  {
   "cell_type": "code",
   "execution_count": null,
   "id": "smoking-counter",
   "metadata": {},
   "outputs": [],
   "source": [
    "def filter_by_n_proposal(df_bb, threshold):\n",
    "    \n",
    "    if len(df_bb) == 0:\n",
    "        return df_bb\n",
    "    else:\n",
    "        # handle cases where there's only softmax predicted or scalar predicted\n",
    "        if 'prob_other_sm' not in df_bb.columns:\n",
    "            df_bb = dgp.add_column(df_bb, 'prob_sm', ['siz_x'], lambda a: [])  # hacky way to create a column of empty lists\n",
    "        if 'prob_other_sl' not in df_bb.columns:\n",
    "            df_bb = dgp.add_column(df_bb, 'prob_sl', ['siz_x'],\n",
    "                                   lambda a: [])  # hacky way to create a column of empty lists\n",
    "        df_bb = dgp.add_column(df_bb, 'n_proposal_norm_sm', ['prob_other_sm', 'siz_x', 'siz_y'],\n",
    "                          lambda a, b, c: len(a)/float(b * c))\n",
    "        df_bb = dgp.add_column(df_bb, 'n_proposal_norm_sl', ['prob_other_sl', 'siz_x', 'siz_y'],\n",
    "                          lambda a, b, c: len(a)/float(b * c))\n",
    "        return df_bb[(df_bb['n_proposal_norm_sm'] > threshold) | (df_bb['n_proposal_norm_sl'] > threshold)]\n"
   ]
  },
  {
   "cell_type": "code",
   "execution_count": null,
   "id": "abstract-journalism",
   "metadata": {},
   "outputs": [],
   "source": [
    "def pred_threshold_on_n_proposal(seq, predictor, threshold):\n",
    "    stems, iloops, hloops = predictor.predict_bb(seq, threshold=0, topk=1, perc_cutoff=0)\n",
    "    stems = pd.DataFrame(stems)\n",
    "    iloops = pd.DataFrame(iloops)\n",
    "    hloops = pd.DataFrame(hloops)\n",
    "\n",
    "    stems = filter_by_n_proposal(stems, threshold)\n",
    "    iloops = filter_by_n_proposal(iloops, threshold)\n",
    "    hloops = filter_by_n_proposal(hloops, threshold / 2)  # /2 threshold due to /2 upper bound\n",
    "    return stems, iloops, hloops"
   ]
  },
  {
   "cell_type": "code",
   "execution_count": null,
   "id": "possible-juice",
   "metadata": {},
   "outputs": [],
   "source": []
  },
  {
   "cell_type": "code",
   "execution_count": null,
   "id": "processed-panama",
   "metadata": {},
   "outputs": [],
   "source": [
    "df = pd.read_pickle('../2021_03_16/data/human_transcriptome_segment_high_mfe_freq_testing_len64_100.pkl.gz')"
   ]
  },
  {
   "cell_type": "code",
   "execution_count": null,
   "id": "furnished-international",
   "metadata": {},
   "outputs": [],
   "source": [
    "model_path = '../2021_03_23/s1_training/result/run_7/model_ckpt_ep_17.pth'  # best model\n",
    "\n",
    "predictor = Predictor(model_ckpt=model_path,\n",
    "                     num_filters=[32, 32, 64, 64, 64, 128, 128],\n",
    "                     filter_width=[9, 9, 9, 9, 9, 9, 9],\n",
    "                     dropout=0.0)"
   ]
  },
  {
   "cell_type": "code",
   "execution_count": null,
   "id": "persistent-chancellor",
   "metadata": {},
   "outputs": [],
   "source": [
    "# idx = 70  # \"bad\" example, even combined didn't work well\n",
    "\n",
    "# idx = 1  # another one?\n",
    "\n",
    "# idx = 2\n",
    "\n",
    "# idx = 13\n",
    "\n",
    "# idx = 14\n",
    "\n",
    "idx = 15\n",
    "\n",
    "seq = df.iloc[idx]['seq']\n",
    "one_idx = df.iloc[idx]['one_idx']\n",
    "bounding_boxes = df.iloc[idx]['bounding_boxes']\n",
    "df_target = process_bb_old_to_new(bounding_boxes)"
   ]
  },
  {
   "cell_type": "code",
   "execution_count": null,
   "id": "wanted-cache",
   "metadata": {},
   "outputs": [],
   "source": [
    "pairs, structure_arr = one_idx2arr(one_idx, len(seq), remove_lower_triangular=True)\n",
    "target_stem_on, target_iloop_on, target_hloop_on, \\\n",
    "mask_stem_on, mask_iloop_on, mask_hloop_on, \\\n",
    "target_stem_location_x, target_stem_location_y, target_iloop_location_x, target_iloop_location_y, \\\n",
    "target_hloop_location_x, target_hloop_location_y, \\\n",
    "target_stem_sm_size, target_iloop_sm_size_x, target_iloop_sm_size_y, target_hloop_sm_size, \\\n",
    "target_stem_sl_size, target_iloop_sl_size_x, target_iloop_sl_size_y, target_hloop_sl_size, \\\n",
    "mask_stem_location_size, mask_iloop_location_size, \\\n",
    "mask_hloop_location_size = make_target_pixel_bb(structure_arr, bounding_boxes)"
   ]
  },
  {
   "cell_type": "code",
   "execution_count": null,
   "id": "quantitative-costume",
   "metadata": {},
   "outputs": [],
   "source": [
    "df_target"
   ]
  },
  {
   "cell_type": "code",
   "execution_count": null,
   "id": "ethical-planning",
   "metadata": {},
   "outputs": [],
   "source": [
    "de = DataEncoder(seq)\n",
    "yp = predictor.model(torch.tensor(de.x_torch))\n",
    "yp = {k: v.detach().cpu().numpy()[0, :, :, :] for k, v in yp.items()}"
   ]
  },
  {
   "cell_type": "code",
   "execution_count": null,
   "id": "ranking-burning",
   "metadata": {},
   "outputs": [],
   "source": [
    "yp.keys()"
   ]
  },
  {
   "cell_type": "code",
   "execution_count": null,
   "id": "bizarre-isolation",
   "metadata": {},
   "outputs": [],
   "source": [
    "hard_mask = np.zeros((len(seq), len(seq)))\n",
    "hard_mask[np.triu_indices(len(seq))] = 1"
   ]
  },
  {
   "cell_type": "code",
   "execution_count": null,
   "id": "systematic-doctor",
   "metadata": {},
   "outputs": [],
   "source": [
    "fig = make_subplots(\n",
    "    rows=1, cols=2, shared_yaxes=True)\n",
    "fig.add_trace(px.imshow(target_stem_on).data[0], 1, 1)\n",
    "fig.add_trace(px.imshow(hard_mask * yp['stem_on'][0, :, :]).data[0], 1, 2)\n",
    "fig.update_yaxes(autorange=\"reversed\")\n",
    "fig.update_layout(title='stem_on')\n",
    "fig.show()"
   ]
  },
  {
   "cell_type": "code",
   "execution_count": null,
   "id": "crazy-personality",
   "metadata": {},
   "outputs": [],
   "source": [
    "fig = make_subplots(\n",
    "    rows=1, cols=2, shared_yaxes=True, shared_xaxes=True)\n",
    "fig.add_trace(px.imshow(target_stem_location_x).data[0], 1, 1)\n",
    "fig.add_trace(px.imshow(hard_mask * yp['stem_location_x'].argmax(axis=0)).data[0], 1, 2)\n",
    "fig.update_yaxes(autorange=\"reversed\")\n",
    "fig.update_layout(title='stem_location_x')\n",
    "fig.show()"
   ]
  },
  {
   "cell_type": "code",
   "execution_count": null,
   "id": "compatible-begin",
   "metadata": {},
   "outputs": [],
   "source": []
  },
  {
   "cell_type": "code",
   "execution_count": null,
   "id": "mature-services",
   "metadata": {},
   "outputs": [],
   "source": [
    "# softmax(yp['stem_location_x'][:, 41, 58])"
   ]
  },
  {
   "cell_type": "code",
   "execution_count": null,
   "id": "literary-suicide",
   "metadata": {},
   "outputs": [],
   "source": [
    "# softmax(yp['stem_location_x'][:, 40, 58])"
   ]
  },
  {
   "cell_type": "code",
   "execution_count": null,
   "id": "local-sewing",
   "metadata": {},
   "outputs": [],
   "source": []
  },
  {
   "cell_type": "code",
   "execution_count": null,
   "id": "subtle-marker",
   "metadata": {},
   "outputs": [],
   "source": []
  },
  {
   "cell_type": "code",
   "execution_count": null,
   "id": "intensive-check",
   "metadata": {},
   "outputs": [],
   "source": [
    "fig = make_subplots(\n",
    "    rows=1, cols=2, shared_yaxes=True, shared_xaxes=True)\n",
    "fig.add_trace(px.imshow(target_stem_location_y).data[0], 1, 1)\n",
    "fig.add_trace(px.imshow(hard_mask * yp['stem_location_y'].argmax(axis=0)).data[0], 1, 2)\n",
    "fig.update_yaxes(autorange=\"reversed\")\n",
    "fig.update_layout(title='stem_location_y')\n",
    "fig.show()"
   ]
  },
  {
   "cell_type": "code",
   "execution_count": null,
   "id": "hidden-investor",
   "metadata": {},
   "outputs": [],
   "source": [
    "fig = make_subplots(\n",
    "    rows=1, cols=2, shared_yaxes=True, shared_xaxes=True)\n",
    "fig.add_trace(px.imshow(target_stem_sm_size).data[0], 1, 1)\n",
    "fig.add_trace(px.imshow(hard_mask * yp['stem_sm_size'].argmax(axis=0)).data[0], 1, 2)\n",
    "fig.update_yaxes(autorange=\"reversed\")\n",
    "fig.update_layout(title='stem_sm_size')\n",
    "fig.show()"
   ]
  },
  {
   "cell_type": "code",
   "execution_count": null,
   "id": "separated-necklace",
   "metadata": {},
   "outputs": [],
   "source": []
  },
  {
   "cell_type": "code",
   "execution_count": null,
   "id": "smooth-guitar",
   "metadata": {},
   "outputs": [],
   "source": []
  },
  {
   "cell_type": "code",
   "execution_count": null,
   "id": "stretch-father",
   "metadata": {},
   "outputs": [],
   "source": []
  },
  {
   "cell_type": "code",
   "execution_count": null,
   "id": "regulation-cooperation",
   "metadata": {},
   "outputs": [],
   "source": [
    "fig = make_subplots(\n",
    "    rows=1, cols=2, shared_yaxes=True)\n",
    "fig.add_trace(px.imshow(target_iloop_on).data[0], 1, 1)\n",
    "fig.add_trace(px.imshow(hard_mask * yp['iloop_on'][0, :, :]).data[0], 1, 2)\n",
    "fig.update_yaxes(autorange=\"reversed\")\n",
    "fig.update_layout(title='iloop_on')\n",
    "fig.show()"
   ]
  },
  {
   "cell_type": "code",
   "execution_count": null,
   "id": "eleven-arkansas",
   "metadata": {},
   "outputs": [],
   "source": [
    "fig = make_subplots(\n",
    "    rows=1, cols=2, shared_yaxes=True, shared_xaxes=True)\n",
    "fig.add_trace(px.imshow(target_iloop_location_x).data[0], 1, 1)\n",
    "fig.add_trace(px.imshow(hard_mask * yp['iloop_location_x'].argmax(axis=0)).data[0], 1, 2)\n",
    "fig.update_yaxes(autorange=\"reversed\")\n",
    "fig.update_layout(title='iloop_location_x')\n",
    "fig.show()"
   ]
  },
  {
   "cell_type": "code",
   "execution_count": null,
   "id": "contrary-alignment",
   "metadata": {},
   "outputs": [],
   "source": []
  },
  {
   "cell_type": "code",
   "execution_count": null,
   "id": "noticed-input",
   "metadata": {},
   "outputs": [],
   "source": []
  },
  {
   "cell_type": "code",
   "execution_count": null,
   "id": "gothic-fifth",
   "metadata": {},
   "outputs": [],
   "source": [
    "fig = make_subplots(\n",
    "    rows=1, cols=2, shared_yaxes=True)\n",
    "fig.add_trace(px.imshow(hard_mask * target_hloop_on).data[0], 1, 1)\n",
    "fig.add_trace(px.imshow(hard_mask * yp['hloop_on'][0, :, :]).data[0], 1, 2)\n",
    "fig.update_yaxes(autorange=\"reversed\")\n",
    "fig.update_layout(title='hloop_on')\n",
    "fig.show()"
   ]
  },
  {
   "cell_type": "code",
   "execution_count": null,
   "id": "political-sending",
   "metadata": {},
   "outputs": [],
   "source": [
    "fig = make_subplots(\n",
    "    rows=1, cols=2, shared_yaxes=True)\n",
    "fig.add_trace(px.imshow(hard_mask * target_hloop_location_x).data[0], 1, 1)\n",
    "fig.add_trace(px.imshow(hard_mask * entropy(softmax(yp['hloop_location_x'], axis=0))).data[0], 1, 2)\n",
    "fig.update_yaxes(autorange=\"reversed\")\n",
    "fig.update_layout(title='hloop_location_x (left) entropy (right)')\n",
    "fig.show()"
   ]
  },
  {
   "cell_type": "code",
   "execution_count": null,
   "id": "concerned-community",
   "metadata": {},
   "outputs": [],
   "source": []
  },
  {
   "cell_type": "code",
   "execution_count": null,
   "id": "closed-interference",
   "metadata": {},
   "outputs": [],
   "source": []
  },
  {
   "cell_type": "code",
   "execution_count": null,
   "id": "general-orchestra",
   "metadata": {},
   "outputs": [],
   "source": []
  },
  {
   "cell_type": "code",
   "execution_count": null,
   "id": "young-determination",
   "metadata": {},
   "outputs": [],
   "source": [
    "pred_bb_stem, pred_bb_iloop, pred_bb_hloop = predictor.predict_bb(seq=seq, threshold=0.1, topk=1, perc_cutoff=0)\n",
    "pred_bb_stem = pd.DataFrame(pred_bb_stem)\n",
    "pred_bb_iloop = pd.DataFrame(pred_bb_iloop)\n",
    "pred_bb_hloop = pd.DataFrame(pred_bb_hloop)"
   ]
  },
  {
   "cell_type": "code",
   "execution_count": null,
   "id": "statewide-return",
   "metadata": {},
   "outputs": [],
   "source": []
  },
  {
   "cell_type": "code",
   "execution_count": null,
   "id": "inclusive-style",
   "metadata": {},
   "outputs": [],
   "source": [
    "# predict bb by thresholding on n_proposal\n",
    "pred_bb_stem_2, pred_bb_iloop_2, pred_bb_hloop_2 = pred_threshold_on_n_proposal(seq, predictor, threshold=0.5)"
   ]
  },
  {
   "cell_type": "code",
   "execution_count": null,
   "id": "worst-alcohol",
   "metadata": {},
   "outputs": [],
   "source": [
    "pd.set_option('display.max_rows', 100)"
   ]
  },
  {
   "cell_type": "code",
   "execution_count": null,
   "id": "forced-luxembourg",
   "metadata": {},
   "outputs": [],
   "source": [
    "pred_bb_hloop"
   ]
  },
  {
   "cell_type": "code",
   "execution_count": null,
   "id": "diagnostic-matthew",
   "metadata": {
    "scrolled": false
   },
   "outputs": [],
   "source": [
    "pred_bb_hloop_2"
   ]
  },
  {
   "cell_type": "code",
   "execution_count": null,
   "id": "manual-shopping",
   "metadata": {},
   "outputs": [],
   "source": []
  },
  {
   "cell_type": "code",
   "execution_count": null,
   "id": "decreased-carolina",
   "metadata": {},
   "outputs": [],
   "source": []
  },
  {
   "cell_type": "code",
   "execution_count": null,
   "id": "japanese-venue",
   "metadata": {},
   "outputs": [],
   "source": [
    "pairs, bp_arr = one_idx2arr(one_idx, len(seq), remove_lower_triangular=True)\n",
    "db_str, amb = arr2db(bp_arr)\n",
    "print(amb)"
   ]
  },
  {
   "cell_type": "code",
   "execution_count": null,
   "id": "destroyed-protein",
   "metadata": {},
   "outputs": [],
   "source": [
    "print(\">test_seq\\n{}\\n{}\".format(seq, db_str))"
   ]
  },
  {
   "cell_type": "code",
   "execution_count": null,
   "id": "academic-alias",
   "metadata": {},
   "outputs": [],
   "source": []
  },
  {
   "cell_type": "code",
   "execution_count": null,
   "id": "rocky-format",
   "metadata": {},
   "outputs": [],
   "source": []
  },
  {
   "cell_type": "code",
   "execution_count": null,
   "id": "breathing-paint",
   "metadata": {},
   "outputs": [],
   "source": [
    "# find bbs that are missed by both methods\n",
    "\n",
    "df_tmp = pd.concat([pred_bb_stem[['bb_x', 'bb_y', 'siz_x', 'siz_y']], \n",
    "           pred_bb_stem_2[['bb_x', 'bb_y', 'siz_x', 'siz_y']]]).drop_duplicates()\n",
    "df_tmp['pred'] = 1\n",
    "df_tmp = pd.merge(df_target[df_target['bb_type'] == 'stem'], df_tmp, how='left')\n",
    "print(df_tmp[df_tmp['pred'].isna()])"
   ]
  },
  {
   "cell_type": "code",
   "execution_count": null,
   "id": "golden-findings",
   "metadata": {},
   "outputs": [],
   "source": [
    "df_tmp = pd.concat([pred_bb_iloop[['bb_x', 'bb_y', 'siz_x', 'siz_y']], \n",
    "           pred_bb_iloop_2[['bb_x', 'bb_y', 'siz_x', 'siz_y']]]).drop_duplicates()\n",
    "df_tmp['pred'] = 1\n",
    "df_tmp = pd.merge(df_target[df_target['bb_type'] == 'iloop'], df_tmp, how='left')\n",
    "print(df_tmp[df_tmp['pred'].isna()])"
   ]
  },
  {
   "cell_type": "code",
   "execution_count": null,
   "id": "particular-associate",
   "metadata": {},
   "outputs": [],
   "source": [
    "df_tmp = pd.concat([pred_bb_hloop[['bb_x', 'bb_y', 'siz_x', 'siz_y']], \n",
    "           pred_bb_hloop_2[['bb_x', 'bb_y', 'siz_x', 'siz_y']]]).drop_duplicates()\n",
    "df_tmp['pred'] = 1\n",
    "df_tmp = pd.merge(df_target[df_target['bb_type'] == 'hloop'], df_tmp, how='left')\n",
    "print(df_tmp[df_tmp['pred'].isna()])"
   ]
  },
  {
   "cell_type": "code",
   "execution_count": null,
   "id": "current-trailer",
   "metadata": {},
   "outputs": [],
   "source": []
  }
 ],
 "metadata": {
  "kernelspec": {
   "display_name": "Python 3",
   "language": "python",
   "name": "python3"
  },
  "language_info": {
   "codemirror_mode": {
    "name": "ipython",
    "version": 3
   },
   "file_extension": ".py",
   "mimetype": "text/x-python",
   "name": "python",
   "nbconvert_exporter": "python",
   "pygments_lexer": "ipython3",
   "version": "3.7.6"
  }
 },
 "nbformat": 4,
 "nbformat_minor": 5
}
