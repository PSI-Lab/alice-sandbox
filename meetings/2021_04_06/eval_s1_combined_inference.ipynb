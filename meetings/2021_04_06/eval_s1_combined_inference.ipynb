{
 "cells": [
  {
   "cell_type": "code",
   "execution_count": null,
   "id": "latter-indie",
   "metadata": {},
   "outputs": [],
   "source": [
    "import pandas as pd\n",
    "from utils.rna_ss_utils import one_idx2arr, sort_pairs, LocalStructureParser, make_target_pixel_bb\n",
    "from utils.inference_s1 import Predictor, Evaluator\n",
    "from utils.util_global_struct import process_bb_old_to_new"
   ]
  },
  {
   "cell_type": "code",
   "execution_count": null,
   "id": "diverse-empire",
   "metadata": {},
   "outputs": [],
   "source": [
    "import numpy as np\n",
    "from utils.inference_s1 import DataEncoder"
   ]
  },
  {
   "cell_type": "code",
   "execution_count": null,
   "id": "smoking-detection",
   "metadata": {},
   "outputs": [],
   "source": [
    "import dgutils.pandas as dgp"
   ]
  },
  {
   "cell_type": "code",
   "execution_count": null,
   "id": "north-supplier",
   "metadata": {},
   "outputs": [],
   "source": [
    "def filter_by_n_proposal(df_bb, threshold):\n",
    "    \n",
    "    if len(df_bb) == 0:\n",
    "        return df_bb\n",
    "    else:\n",
    "        # handle cases where there's only softmax predicted or scalar predicted\n",
    "        if 'prob_other_sm' not in df_bb.columns:\n",
    "            df_bb = dgp.add_column(df_bb, 'prob_sm', ['siz_x'], lambda a: [])  # hacky way to create a column of empty lists\n",
    "        if 'prob_other_sl' not in df_bb.columns:\n",
    "            df_bb = dgp.add_column(df_bb, 'prob_sl', ['siz_x'],\n",
    "                                   lambda a: [])  # hacky way to create a column of empty lists\n",
    "        df_bb = dgp.add_column(df_bb, 'n_proposal_norm_sm', ['prob_other_sm', 'siz_x', 'siz_y'],\n",
    "                          lambda a, b, c: len(a)/float(b * c))\n",
    "        df_bb = dgp.add_column(df_bb, 'n_proposal_norm_sl', ['prob_other_sl', 'siz_x', 'siz_y'],\n",
    "                          lambda a, b, c: len(a)/float(b * c))\n",
    "        return df_bb[(df_bb['n_proposal_norm_sm'] > threshold) | (df_bb['n_proposal_norm_sl'] > threshold)]\n"
   ]
  },
  {
   "cell_type": "code",
   "execution_count": null,
   "id": "unusual-puzzle",
   "metadata": {},
   "outputs": [],
   "source": [
    "def pred_threshold_on_n_proposal(seq, predictor, threshold):\n",
    "    stems, iloops, hloops = predictor.predict_bb(seq, threshold=0, topk=1, perc_cutoff=0)\n",
    "    stems = pd.DataFrame(stems)\n",
    "    iloops = pd.DataFrame(iloops)\n",
    "    hloops = pd.DataFrame(hloops)\n",
    "\n",
    "    stems = filter_by_n_proposal(stems, threshold)\n",
    "    iloops = filter_by_n_proposal(iloops, threshold)\n",
    "    hloops = filter_by_n_proposal(hloops, threshold / 2)  # /2 threshold due to /2 upper bound\n",
    "    return stems, iloops, hloops"
   ]
  },
  {
   "cell_type": "code",
   "execution_count": null,
   "id": "treated-atlanta",
   "metadata": {},
   "outputs": [],
   "source": [
    "def compute_sensitivities(df_target, pred_bb_stem, pred_bb_iloop, pred_bb_hloop):\n",
    "    metric_stem = evaluator.calculate_bb_metrics(df_target=df_target[df_target['bb_type'] == 'stem'][['bb_x', 'bb_y', 'siz_x', 'siz_y']], \n",
    "                              df_pred=pd.DataFrame(pred_bb_stem)[['bb_x', 'bb_y', 'siz_x', 'siz_y']])\n",
    "    metric_iloop = evaluator.calculate_bb_metrics(df_target=df_target[df_target['bb_type'] == 'iloop'][['bb_x', 'bb_y', 'siz_x', 'siz_y']], \n",
    "                              df_pred=pd.DataFrame(pred_bb_iloop)[['bb_x', 'bb_y', 'siz_x', 'siz_y']])\n",
    "    metric_hloop = evaluator.calculate_bb_metrics(df_target=df_target[df_target['bb_type'] == 'hloop'][['bb_x', 'bb_y', 'siz_x', 'siz_y']], \n",
    "                              df_pred=pd.DataFrame(pred_bb_hloop)[['bb_x', 'bb_y', 'siz_x', 'siz_y']])\n",
    "    \n",
    "    if metric_stem['n_target_total'] != 0:\n",
    "        sensitivity_stem = metric_stem['n_target_identical']/float(metric_stem['n_target_total'])\n",
    "    else:\n",
    "        sensitivity_stem = float('nan')\n",
    "        \n",
    "    if metric_iloop['n_target_total'] != 0:\n",
    "        sensitivity_iloop = metric_iloop['n_target_identical']/float(metric_iloop['n_target_total'])\n",
    "    else:\n",
    "        sensitivity_iloop = float('nan')\n",
    "        \n",
    "    if metric_hloop['n_target_total'] != 0:\n",
    "        sensitivity_hloop = metric_hloop['n_target_identical']/float(metric_hloop['n_target_total'])\n",
    "    else:\n",
    "        sensitivity_hloop = float('nan')\n",
    "        \n",
    "    return sensitivity_stem, sensitivity_iloop, sensitivity_hloop"
   ]
  },
  {
   "cell_type": "code",
   "execution_count": null,
   "id": "rolled-bones",
   "metadata": {},
   "outputs": [],
   "source": []
  },
  {
   "cell_type": "code",
   "execution_count": null,
   "id": "streaming-preparation",
   "metadata": {},
   "outputs": [],
   "source": [
    "df = pd.read_pickle('../2021_03_16/data/human_transcriptome_segment_high_mfe_freq_testing_len64_100.pkl.gz')"
   ]
  },
  {
   "cell_type": "code",
   "execution_count": null,
   "id": "baking-median",
   "metadata": {},
   "outputs": [],
   "source": [
    "model_path = '../2021_03_23/s1_training/result/run_7/model_ckpt_ep_17.pth'  # best model\n",
    "\n",
    "predictor = Predictor(model_ckpt=model_path,\n",
    "                     num_filters=[32, 32, 64, 64, 64, 128, 128],\n",
    "                     filter_width=[9, 9, 9, 9, 9, 9, 9],\n",
    "                     dropout=0.0)"
   ]
  },
  {
   "cell_type": "code",
   "execution_count": null,
   "id": "sharing-museum",
   "metadata": {},
   "outputs": [],
   "source": [
    "evaluator = Evaluator(predictor=None)"
   ]
  },
  {
   "cell_type": "code",
   "execution_count": null,
   "id": "cognitive-engine",
   "metadata": {},
   "outputs": [],
   "source": [
    "# metrics for each example\n",
    "df_metric = []\n",
    "\n",
    "# number of bb by the two methods\n",
    "df_n_bbs = []\n",
    "\n",
    "for _, row in df.iterrows():\n",
    "    seq = row['seq']\n",
    "    one_idx = row['one_idx']\n",
    "    bounding_boxes = row['bounding_boxes']\n",
    "    df_target = process_bb_old_to_new(bounding_boxes)\n",
    "    \n",
    "    # threshold on p_on\n",
    "    pred_bb_stem, pred_bb_iloop, pred_bb_hloop = predictor.predict_bb(seq=seq, threshold=0.1, topk=1, perc_cutoff=0)\n",
    "    pred_bb_stem = pd.DataFrame(pred_bb_stem)\n",
    "    pred_bb_iloop = pd.DataFrame(pred_bb_iloop)\n",
    "    pred_bb_hloop = pd.DataFrame(pred_bb_hloop)\n",
    "    stem_s1, iloop_s1, hloop_s1 = compute_sensitivities(df_target, pred_bb_stem, pred_bb_iloop, pred_bb_hloop)\n",
    "    \n",
    "    # threshold on n_proposal\n",
    "    pred_bb_stem_2, pred_bb_iloop_2, pred_bb_hloop_2 = pred_threshold_on_n_proposal(seq, predictor, threshold=0.5)\n",
    "    stem_s2, iloop_s2, hloop_s2 = compute_sensitivities(df_target, pred_bb_stem_2, pred_bb_iloop_2, pred_bb_hloop_2)\n",
    "    \n",
    "    # combined\n",
    "    pred_bb_stem_combined = pd.concat([pred_bb_stem, pred_bb_stem_2]).drop_duplicates(subset=['bb_x', 'bb_y', 'siz_x', 'siz_y'])\n",
    "    pred_bb_iloop_combined = pd.concat([pred_bb_iloop, pred_bb_iloop_2]).drop_duplicates(subset=['bb_x', 'bb_y', 'siz_x', 'siz_y'])\n",
    "    pred_bb_hloop_combined = pd.concat([pred_bb_hloop, pred_bb_hloop_2]).drop_duplicates(subset=['bb_x', 'bb_y', 'siz_x', 'siz_y'])\n",
    "    stem_s3, iloop_s3, hloop_s3 = compute_sensitivities(df_target, pred_bb_stem_combined, pred_bb_iloop_combined, pred_bb_hloop_combined)\n",
    "    \n",
    "    # intersection (just for plotting)\n",
    "    pred_bb_stem_int = pd.merge(pred_bb_stem[['bb_x', 'bb_y', 'siz_x', 'siz_y']],\n",
    "                                 pred_bb_stem_2[['bb_x', 'bb_y', 'siz_x', 'siz_y']], how='inner')\n",
    "    pred_bb_iloop_int = pd.merge(pred_bb_iloop[['bb_x', 'bb_y', 'siz_x', 'siz_y']],\n",
    "                                  pred_bb_iloop_2[['bb_x', 'bb_y', 'siz_x', 'siz_y']], how='inner')\n",
    "    pred_bb_hloop_int = pd.merge(pred_bb_hloop[['bb_x', 'bb_y', 'siz_x', 'siz_y']],\n",
    "                                  pred_bb_hloop_2[['bb_x', 'bb_y', 'siz_x', 'siz_y']], how='inner')\n",
    "    \n",
    "    df_metric.append({\n",
    "        'stem_1': stem_s1,\n",
    "        'stem_2': stem_s2,\n",
    "        'stem_c': stem_s3,\n",
    "        'iloop_1': iloop_s1,\n",
    "        'iloop_2': iloop_s2,\n",
    "        'iloop_c': iloop_s3,\n",
    "        'hloop_1': hloop_s1,\n",
    "        'hloop_2': hloop_s2,\n",
    "        'hloop_c': hloop_s3,\n",
    "        'mfe_freq': row['mfe_freq'],\n",
    "    })\n",
    "    \n",
    "    df_n_bbs.append({\n",
    "        'n_stem_1': len(pred_bb_stem),\n",
    "        'n_stem_2': len(pred_bb_stem_2),\n",
    "        'n_stem_i': len(pred_bb_stem_int),\n",
    "        'n_stem_c': len(pred_bb_stem_combined),\n",
    "        'n_iloop_1': len(pred_bb_iloop),\n",
    "        'n_iloop_2': len(pred_bb_iloop_2),\n",
    "        'n_iloop_i': len(pred_bb_iloop_int),\n",
    "        'n_iloop_c': len(pred_bb_iloop_combined),\n",
    "        'n_hloop_1': len(pred_bb_hloop),\n",
    "        'n_hloop_2': len(pred_bb_hloop_2),\n",
    "        'n_hloop_i': len(pred_bb_hloop_int),\n",
    "        'n_hloop_c': len(pred_bb_hloop_combined),\n",
    "    })\n",
    "    \n",
    "df_metric = pd.DataFrame(df_metric)\n",
    "df_n_bbs = pd.DataFrame(df_n_bbs)"
   ]
  },
  {
   "cell_type": "code",
   "execution_count": null,
   "id": "italian-economy",
   "metadata": {},
   "outputs": [],
   "source": [
    "df_metric"
   ]
  },
  {
   "cell_type": "code",
   "execution_count": null,
   "id": "cellular-london",
   "metadata": {},
   "outputs": [],
   "source": [
    "import plotly.express as px"
   ]
  },
  {
   "cell_type": "code",
   "execution_count": null,
   "id": "suburban-fiber",
   "metadata": {},
   "outputs": [],
   "source": [
    "fig = px.histogram(df_metric[['stem_1', 'iloop_1', 'hloop_1']], barmode='group')\n",
    "fig.update_layout(yaxis_range=[0, 100],\n",
    "                 xaxis_range=[-0.1, 1.1],\n",
    "                  height=400,\n",
    "                 title='threshold by p_on>=0.1')"
   ]
  },
  {
   "cell_type": "code",
   "execution_count": null,
   "id": "occasional-prophet",
   "metadata": {},
   "outputs": [],
   "source": [
    "fig = px.histogram(df_metric[['stem_2', 'iloop_2', 'hloop_2']], barmode='group')\n",
    "fig.update_layout(yaxis_range=[0, 100],\n",
    "                 xaxis_range=[-0.1, 1.1],\n",
    "                  height=400,\n",
    "                 title='threshold by n_proposal>=0.5')"
   ]
  },
  {
   "cell_type": "code",
   "execution_count": null,
   "id": "structured-aspect",
   "metadata": {},
   "outputs": [],
   "source": [
    "fig = px.histogram(df_metric[['stem_c', 'iloop_c', 'hloop_c']], barmode='group')\n",
    "fig.update_layout(yaxis_range=[0, 100],\n",
    "                 xaxis_range=[-0.1, 1.1],\n",
    "                  height=400,\n",
    "                 title='union of two methods')"
   ]
  },
  {
   "cell_type": "code",
   "execution_count": null,
   "id": "settled-house",
   "metadata": {},
   "outputs": [],
   "source": [
    "# fig = px.scatter(df_n_bbs, x=\"n_stem_1\", y=\"n_stem_2\",\n",
    "#          size=\"n_stem_i\", \n",
    "# #                  color=\"continent\",\n",
    "#                  hover_name=\"n_stem_c\", \n",
    "#                  log_x=True, log_y=True)\n",
    "# fig.show()\n",
    "fig = px.scatter(df_n_bbs, x=\"n_stem_1\", y=\"n_stem_2\",\n",
    "                 hover_name=\"n_stem_c\", \n",
    "                 log_x=True, log_y=True)\n",
    "fig.update_layout(shapes = [{'type': 'line', 'yref': 'paper', 'xref': 'paper', \n",
    "                             'y0': 0, 'y1': 1, 'x0': 0, 'x1': 1}])  # y=x line\n",
    "fig.update_layout(title='Number of bb proposal (stem) by two methods',\n",
    "                 height=500, width=500)\n",
    "fig.show()"
   ]
  },
  {
   "cell_type": "code",
   "execution_count": null,
   "id": "charged-bridge",
   "metadata": {},
   "outputs": [],
   "source": [
    "# fig = px.scatter(df_n_bbs, x=\"n_iloop_1\", y=\"n_iloop_2\",\n",
    "#          size=\"n_iloop_i\", \n",
    "#                  hover_name=\"n_iloop_c\", \n",
    "#                  log_x=True, log_y=True)\n",
    "fig = px.scatter(df_n_bbs, x=\"n_iloop_1\", y=\"n_iloop_2\",\n",
    "                 hover_name=\"n_iloop_c\", \n",
    "                 log_x=True, log_y=True)\n",
    "fig.update_layout(shapes = [{'type': 'line', 'yref': 'paper', 'xref': 'paper', \n",
    "                             'y0': 0, 'y1': 1, 'x0': 0, 'x1': 1}])  # y=x line\n",
    "fig.update_layout(title='Number of bb proposal (iloop) by two methods',\n",
    "                 height=500, width=500)\n",
    "fig.show()"
   ]
  },
  {
   "cell_type": "code",
   "execution_count": null,
   "id": "bound-database",
   "metadata": {},
   "outputs": [],
   "source": [
    "# fig = px.scatter(df_n_bbs, x=\"n_hloop_1\", y=\"n_hloop_2\",\n",
    "#          size=\"n_hloop_i\", \n",
    "#                  hover_name=\"n_hloop_c\", \n",
    "#                  log_x=True, log_y=True)\n",
    "fig = px.scatter(df_n_bbs, x=\"n_hloop_1\", y=\"n_hloop_2\",\n",
    "                 hover_name=\"n_hloop_c\", \n",
    "                 log_x=True, log_y=True)\n",
    "fig.update_layout(shapes = [{'type': 'line', 'yref': 'paper', 'xref': 'paper', \n",
    "                             'y0': 0, 'y1': 1, 'x0': 0, 'x1': 1}])  # y=x line\n",
    "fig.update_layout(title='Number of bb proposal (hloop) by two methods',\n",
    "                 height=500, width=500)\n",
    "fig.show()"
   ]
  },
  {
   "cell_type": "code",
   "execution_count": null,
   "id": "still-divide",
   "metadata": {},
   "outputs": [],
   "source": [
    "fig = px.scatter(df_metric, x=\"stem_c\", y=\"mfe_freq\")\n",
    "fig.update_layout(title='Stem sensitivity v.s. MFE frequency',\n",
    "                 height=400)\n",
    "fig.show()"
   ]
  },
  {
   "cell_type": "code",
   "execution_count": null,
   "id": "settled-developer",
   "metadata": {},
   "outputs": [],
   "source": [
    "fig = px.scatter(df_metric, x=\"iloop_c\", y=\"mfe_freq\")\n",
    "fig.update_layout(title='iloop sensitivity v.s. MFE frequency',\n",
    "                 height=400)\n",
    "fig.show()"
   ]
  },
  {
   "cell_type": "code",
   "execution_count": null,
   "id": "unlimited-lying",
   "metadata": {},
   "outputs": [],
   "source": [
    "fig = px.scatter(df_metric, x=\"hloop_c\", y=\"mfe_freq\")\n",
    "fig.update_layout(title='hloop sensitivity v.s. MFE frequency',\n",
    "                 height=400)\n",
    "fig.show()"
   ]
  },
  {
   "cell_type": "code",
   "execution_count": null,
   "id": "surgical-spirit",
   "metadata": {},
   "outputs": [],
   "source": []
  }
 ],
 "metadata": {
  "kernelspec": {
   "display_name": "Python 3",
   "language": "python",
   "name": "python3"
  },
  "language_info": {
   "codemirror_mode": {
    "name": "ipython",
    "version": 3
   },
   "file_extension": ".py",
   "mimetype": "text/x-python",
   "name": "python",
   "nbconvert_exporter": "python",
   "pygments_lexer": "ipython3",
   "version": "3.7.6"
  }
 },
 "nbformat": 4,
 "nbformat_minor": 5
}
