{
 "cells": [
  {
   "cell_type": "code",
   "execution_count": null,
   "id": "patent-height",
   "metadata": {},
   "outputs": [],
   "source": [
    "import torch"
   ]
  },
  {
   "cell_type": "code",
   "execution_count": null,
   "id": "killing-party",
   "metadata": {},
   "outputs": [],
   "source": [
    "import plotly.express as px"
   ]
  },
  {
   "cell_type": "code",
   "execution_count": null,
   "id": "collaborative-alberta",
   "metadata": {},
   "outputs": [],
   "source": [
    "from s2_training.train_lstm_self_attention import MyModel"
   ]
  },
  {
   "cell_type": "code",
   "execution_count": null,
   "id": "solid-gabriel",
   "metadata": {},
   "outputs": [],
   "source": [
    "lstm_hid = 20\n",
    "lstm_layer = 4\n",
    "n_dim = 100\n",
    "n_attn_layer = 5\n",
    "n_heads = 5\n",
    "n_hid = 20"
   ]
  },
  {
   "cell_type": "code",
   "execution_count": null,
   "id": "serious-linux",
   "metadata": {},
   "outputs": [],
   "source": [
    "model_file = 'data/s2_model_lstm_attn_1.pth'"
   ]
  },
  {
   "cell_type": "code",
   "execution_count": null,
   "id": "bizarre-trail",
   "metadata": {},
   "outputs": [],
   "source": [
    "model = MyModel(lstm_hid, lstm_layer, n_dim, n_attn_layer, n_heads, n_hid)\n",
    "model.load_state_dict(torch.load(model_file, map_location=torch.device('cpu')))\n",
    "# set to be in inference mode\n",
    "model.eval()"
   ]
  },
  {
   "cell_type": "code",
   "execution_count": null,
   "id": "shared-timeline",
   "metadata": {},
   "outputs": [],
   "source": [
    "# model.lstm_stem.weight_ih_l0\n",
    "# model.layers[0].attn.q_linear"
   ]
  },
  {
   "cell_type": "code",
   "execution_count": null,
   "id": "athletic-evolution",
   "metadata": {},
   "outputs": [],
   "source": [
    "model.embed"
   ]
  },
  {
   "cell_type": "code",
   "execution_count": null,
   "id": "exclusive-florida",
   "metadata": {},
   "outputs": [],
   "source": [
    "model.embed.weight"
   ]
  },
  {
   "cell_type": "code",
   "execution_count": null,
   "id": "atomic-therapist",
   "metadata": {},
   "outputs": [],
   "source": [
    "px.imshow(model.embed.weight.detach().numpy())"
   ]
  },
  {
   "cell_type": "code",
   "execution_count": null,
   "id": "blond-kenya",
   "metadata": {},
   "outputs": [],
   "source": []
  }
 ],
 "metadata": {
  "kernelspec": {
   "display_name": "Python 3",
   "language": "python",
   "name": "python3"
  },
  "language_info": {
   "codemirror_mode": {
    "name": "ipython",
    "version": 3
   },
   "file_extension": ".py",
   "mimetype": "text/x-python",
   "name": "python",
   "nbconvert_exporter": "python",
   "pygments_lexer": "ipython3",
   "version": "3.7.6"
  }
 },
 "nbformat": 4,
 "nbformat_minor": 5
}
