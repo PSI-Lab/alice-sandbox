{
 "cells": [
  {
   "cell_type": "code",
   "execution_count": null,
   "id": "little-village",
   "metadata": {},
   "outputs": [],
   "source": [
    "import model_utils.utils_s2 as us2\n",
    "from model_utils.utils_nn_s2 import predict_wrapper, filter_non_standard_stem, summarize_df, add_bb_bottom_left"
   ]
  },
  {
   "cell_type": "code",
   "execution_count": null,
   "id": "daily-bloom",
   "metadata": {},
   "outputs": [],
   "source": [
    "import numpy as np\n",
    "import pandas as pd\n",
    "\n",
    "import dgutils.pandas as dgp"
   ]
  },
  {
   "cell_type": "code",
   "execution_count": null,
   "id": "heavy-emission",
   "metadata": {},
   "outputs": [],
   "source": [
    "import plotly.express as px"
   ]
  },
  {
   "cell_type": "code",
   "execution_count": null,
   "id": "hungarian-density",
   "metadata": {},
   "outputs": [],
   "source": [
    "import torch"
   ]
  },
  {
   "cell_type": "code",
   "execution_count": null,
   "id": "presidential-mother",
   "metadata": {},
   "outputs": [],
   "source": [
    "\n",
    "def pred_row(seq, bb_stem, bb_iloop, bb_hloop):\n",
    "    uniq_stem = pd.DataFrame(bb_stem)\n",
    "    uniq_iloop = pd.DataFrame(bb_iloop)\n",
    "    uniq_hloop = pd.DataFrame(bb_hloop)\n",
    "    df_pred = predict_wrapper(uniq_stem, uniq_iloop, uniq_hloop, \n",
    "                              discard_ns_stem=True, min_hloop_size=2, \n",
    "                              seq=seq, m_factor=1, predictor=predictor_s2)\n",
    "    return df_pred"
   ]
  },
  {
   "cell_type": "code",
   "execution_count": null,
   "id": "activated-republic",
   "metadata": {},
   "outputs": [],
   "source": []
  },
  {
   "cell_type": "code",
   "execution_count": null,
   "id": "suburban-rescue",
   "metadata": {},
   "outputs": [],
   "source": [
    "predictor_s2 = us2.Predictor('v0.3')"
   ]
  },
  {
   "cell_type": "code",
   "execution_count": null,
   "id": "confidential-nelson",
   "metadata": {},
   "outputs": [],
   "source": [
    "df = pd.read_pickle('../2021_01_12/data/synthetic_s1_pred_1000_t0p1_k1.pkl.gz')"
   ]
  },
  {
   "cell_type": "code",
   "execution_count": null,
   "id": "common-checkout",
   "metadata": {},
   "outputs": [],
   "source": [
    "# row = df.iloc[0]\n",
    "\n",
    "row = df.iloc[11]\n"
   ]
  },
  {
   "cell_type": "code",
   "execution_count": null,
   "id": "colonial-approach",
   "metadata": {},
   "outputs": [],
   "source": [
    "row"
   ]
  },
  {
   "cell_type": "code",
   "execution_count": null,
   "id": "durable-instruction",
   "metadata": {},
   "outputs": [],
   "source": [
    "# stems = pd.DataFrame(row['bb_stem'])\n",
    "# iloops = pd.DataFrame(row['bb_iloop'])\n",
    "# hloops = pd.DataFrame(row['bb_hloop'])"
   ]
  },
  {
   "cell_type": "code",
   "execution_count": null,
   "id": "rolled-strain",
   "metadata": {
    "scrolled": false
   },
   "outputs": [],
   "source": [
    "\n",
    "uniq_stem = pd.DataFrame(row['bb_stem'])\n",
    "uniq_iloop = pd.DataFrame(row['bb_iloop'])\n",
    "uniq_hloop = pd.DataFrame(row['bb_hloop'])\n",
    "df_pred = predict_wrapper(uniq_stem, uniq_iloop, uniq_hloop, \n",
    "                          discard_ns_stem=True, min_hloop_size=2, \n",
    "                          seq=row['seq'], m_factor=1, predictor=predictor_s2)"
   ]
  },
  {
   "cell_type": "code",
   "execution_count": null,
   "id": "intermediate-escape",
   "metadata": {},
   "outputs": [],
   "source": [
    "# copy over last layer attention weights\n",
    "# for 5 heads\n",
    "attn_0 = [[0.0835, 0.1337, 0.5896, 0.1102, 0.0830],\n",
    "        [0.0463, 0.0913, 0.6988, 0.0730, 0.0906],\n",
    "        [0.0443, 0.2005, 0.2129, 0.0729, 0.4694],\n",
    "        [0.0698, 0.1261, 0.6145, 0.0961, 0.0935],\n",
    "        [0.0220, 0.0651, 0.7307, 0.0402, 0.1420]]\n",
    "attn_1 = [[3.0272e-01, 4.1047e-01, 3.5817e-04, 1.6281e-01, 1.2364e-01],\n",
    "        [1.2890e-01, 3.1235e-01, 2.3361e-03, 8.1839e-02, 4.7457e-01],\n",
    "        [3.1970e-02, 1.7995e-01, 1.2077e-02, 3.8519e-02, 7.3749e-01],\n",
    "        [1.6127e-01, 4.1633e-01, 3.9726e-04, 1.1125e-01, 3.1076e-01],\n",
    "        [5.6011e-03, 4.5625e-02, 3.2272e-03, 5.0916e-03, 9.4045e-01]]\n",
    "attn_2 = [[0.1345, 0.2078, 0.2850, 0.2558, 0.1169],\n",
    "        [0.1065, 0.1238, 0.4491, 0.2025, 0.1181],\n",
    "        [0.0505, 0.1291, 0.2903, 0.0252, 0.5048],\n",
    "        [0.1079, 0.1563, 0.4480, 0.1699, 0.1178],\n",
    "        [0.1582, 0.1551, 0.3344, 0.1328, 0.2195]]\n",
    "attn_3 = [[0.0556, 0.0893, 0.6441, 0.0571, 0.1539],\n",
    "        [0.0729, 0.1256, 0.4604, 0.0774, 0.2637],\n",
    "        [0.1359, 0.1051, 0.5230, 0.1435, 0.0926],\n",
    "        [0.0449, 0.0607, 0.7399, 0.0400, 0.1145],\n",
    "        [0.1315, 0.2210, 0.1462, 0.1585, 0.3429]]\n",
    "attn_4 = [[0.4567, 0.2400, 0.0354, 0.2270, 0.0409],\n",
    "        [0.1547, 0.3771, 0.0343, 0.1033, 0.3304],\n",
    "        [0.3032, 0.3205, 0.0209, 0.1859, 0.1695],\n",
    "        [0.2812, 0.3457, 0.0627, 0.1627, 0.1477],\n",
    "        [0.0219, 0.2143, 0.0050, 0.0168, 0.7420]]"
   ]
  },
  {
   "cell_type": "code",
   "execution_count": null,
   "id": "incorporate-surgery",
   "metadata": {
    "scrolled": false
   },
   "outputs": [],
   "source": [
    "# df_plot = pd.DataFrame(attn_0, index=['stem_0', 'stem_1', 'stem_2', 'iloop_0', 'hloop_0'],\n",
    "#                       columns=['stem_0', 'stem_1', 'stem_2', 'iloop_0', 'hloop_0'])\n",
    "\n",
    "# px.imshow(df_plot)\n",
    "\n",
    "for head_idx, attn in enumerate([attn_0, attn_1, attn_2, attn_3, attn_4]):\n",
    "\n",
    "    fig = px.imshow(attn,\n",
    "                    labels=dict(x=\"Bounding box\", y=\"Bounding box\", color=\"Attention softmax weight\"),\n",
    "                    x=['stem_0', 'stem_1', 'stem_2', 'iloop_0', 'hloop_0'],\n",
    "                    y=['stem_0', 'stem_1', 'stem_2', 'iloop_0', 'hloop_0']\n",
    "                   )\n",
    "    fig.update_xaxes(side=\"top\")\n",
    "    fig.update_layout(height=600, width=600, title=\"Attn head {} of last layer\".format(head_idx))\n",
    "    fig.show()"
   ]
  },
  {
   "cell_type": "code",
   "execution_count": null,
   "id": "excess-romantic",
   "metadata": {},
   "outputs": [],
   "source": []
  },
  {
   "cell_type": "code",
   "execution_count": null,
   "id": "favorite-roller",
   "metadata": {},
   "outputs": [],
   "source": []
  },
  {
   "cell_type": "code",
   "execution_count": null,
   "id": "cathedral-touch",
   "metadata": {},
   "outputs": [],
   "source": []
  }
 ],
 "metadata": {
  "kernelspec": {
   "display_name": "Python 3",
   "language": "python",
   "name": "python3"
  },
  "language_info": {
   "codemirror_mode": {
    "name": "ipython",
    "version": 3
   },
   "file_extension": ".py",
   "mimetype": "text/x-python",
   "name": "python",
   "nbconvert_exporter": "python",
   "pygments_lexer": "ipython3",
   "version": "3.7.6"
  }
 },
 "nbformat": 4,
 "nbformat_minor": 5
}
