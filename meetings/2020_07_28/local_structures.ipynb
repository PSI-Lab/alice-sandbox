{
 "cells": [
  {
   "cell_type": "code",
   "execution_count": null,
   "metadata": {},
   "outputs": [],
   "source": [
    "import numpy as np\n",
    "import matplotlib.pyplot as plt\n",
    "import plotly.express as px"
   ]
  },
  {
   "cell_type": "code",
   "execution_count": null,
   "metadata": {},
   "outputs": [],
   "source": [
    "import pandas as pd"
   ]
  },
  {
   "cell_type": "code",
   "execution_count": null,
   "metadata": {},
   "outputs": [],
   "source": [
    "import sys\n",
    "sys.path.insert(0, '../../rna_ss/')\n",
    "from utils import db2pairs"
   ]
  },
  {
   "cell_type": "code",
   "execution_count": null,
   "metadata": {},
   "outputs": [],
   "source": [
    "import plotly.graph_objects as go"
   ]
  },
  {
   "cell_type": "code",
   "execution_count": null,
   "metadata": {},
   "outputs": [],
   "source": [
    "from tmp_utils import one_idx2arr, sort_pairs, LocalStructureParser"
   ]
  },
  {
   "cell_type": "code",
   "execution_count": null,
   "metadata": {},
   "outputs": [],
   "source": [
    "# df = pd.read_pickle('../../rna_ss/data_processing/rna_cg/data/rfam.pkl')  # verified\n",
    "df = pd.read_pickle('../../rna_ss/data_processing/e2efold/data/rnastralign.pkl.gz')  # verified\n",
    "# df = pd.read_pickle('../../rna_ss/data_processing/e2efold/data/archiveII.pkl.gz')  # verified"
   ]
  },
  {
   "cell_type": "code",
   "execution_count": null,
   "metadata": {},
   "outputs": [],
   "source": [
    "df.head(20)"
   ]
  },
  {
   "cell_type": "code",
   "execution_count": null,
   "metadata": {},
   "outputs": [],
   "source": [
    "idx = 9\n",
    "# idx = 286\n",
    "# idx = 18\n",
    "pairs, structure_arr = one_idx2arr(df.iloc[idx].one_idx, len(df.iloc[idx].seq), remove_lower_triangular=True)\n",
    "pairs = sort_pairs(pairs)\n",
    "parser = LocalStructureParser(pairs)"
   ]
  },
  {
   "cell_type": "code",
   "execution_count": null,
   "metadata": {},
   "outputs": [],
   "source": []
  },
  {
   "cell_type": "code",
   "execution_count": null,
   "metadata": {},
   "outputs": [],
   "source": []
  },
  {
   "cell_type": "code",
   "execution_count": null,
   "metadata": {},
   "outputs": [],
   "source": [
    "df.iloc[idx].seq_id"
   ]
  },
  {
   "cell_type": "code",
   "execution_count": null,
   "metadata": {},
   "outputs": [],
   "source": []
  },
  {
   "cell_type": "code",
   "execution_count": null,
   "metadata": {},
   "outputs": [],
   "source": [
    "# def validate_one_idx(one_idx, l):\n",
    "#     idxes = list(one_idx[0]) + list(one_idx[1])\n",
    "#     if any([x >= l for x in idxes]):\n",
    "#         return False\n",
    "#     return True\n",
    "#\n",
    "# # debug - sanity check\n",
    "# for row_idx, row in df.iterrows():\n",
    "#     if not validate_one_idx(row.one_idx, len(row.seq)):\n",
    "#         print(row_idx, row.seq_id, len(row.seq), 'Raw data error. Some idx out of range. Skipping.')\n",
    "#     else:\n",
    "#         pairs, structure_arr = one_idx2arr(row.one_idx, len(row.seq), remove_lower_triangular=True)\n",
    "#         pairs = sort_pairs(pairs)\n",
    "#         parser = LocalStructureParser(pairs)\n",
    "#         print(row_idx, row.seq_id, len(row.seq), len(parser.local_structure_bounding_boxes))\n"
   ]
  },
  {
   "cell_type": "code",
   "execution_count": null,
   "metadata": {},
   "outputs": [],
   "source": []
  },
  {
   "cell_type": "code",
   "execution_count": null,
   "metadata": {},
   "outputs": [],
   "source": [
    "# # debug - sanity check\n",
    "# for row_idx, row in df.iterrows():\n",
    "#     pairs, structure_arr = one_idx2arr(row.one_idx, len(row.seq), remove_lower_triangular=True)\n",
    "#     pairs = sort_pairs(pairs)\n",
    "#     parser = LocalStructureParser(pairs)\n",
    "#     print(row_idx, row.seq_id, len(row.seq), len(parser.local_structure_bounding_boxes))"
   ]
  },
  {
   "cell_type": "code",
   "execution_count": null,
   "metadata": {},
   "outputs": [],
   "source": []
  },
  {
   "cell_type": "code",
   "execution_count": null,
   "metadata": {},
   "outputs": [],
   "source": [
    "# bounding boxes\n",
    "# note that the value used for visualization is 0.5 pixel shifted (and expanded) so that it surrounds the pixels\n",
    "\n",
    "\n",
    "fig = px.imshow(structure_arr)\n",
    "\n",
    "name2color = {\n",
    "    'stem': 'red',\n",
    "    'bulge': 'cyan',\n",
    "    'internal_loop': 'purple',\n",
    "    'pesudo_knot': 'magenta',\n",
    "    'hairpin_loop': 'white',\n",
    "    \n",
    "}\n",
    "\n",
    "for ls in parser.local_structure_bounding_boxes:\n",
    "    (x0, y0), (wx, wy), name = ls\n",
    "    fig.add_shape(\n",
    "        type='rect',\n",
    "        y0=x0-0.5, y1=x0+wx-0.5, x0=y0-0.5, x1=y0+wy-0.5,   # image plot axis is swaped\n",
    "        xref='x', yref='y',\n",
    "        line_color=name2color[name]\n",
    "    )\n",
    "\n",
    "\n",
    "print(df.iloc[idx].seq)\n",
    "\n",
    "fig.update_layout(\n",
    "    title=df.iloc[idx].seq_id,\n",
    "    font=dict(\n",
    "        size=12,\n",
    "    )\n",
    ")\n",
    "\n",
    "fig.show()\n"
   ]
  },
  {
   "cell_type": "code",
   "execution_count": null,
   "metadata": {
    "scrolled": false
   },
   "outputs": [],
   "source": [
    "# todo debug - validate local structure?\n",
    "for ls in parser.local_structure_bounding_boxes:\n",
    "    (x0, y0), (wx, wy), name = ls\n",
    "    print(*ls)\n",
    "    tmp_data = structure_arr[x0:x0+wx, y0:y0+wy]\n",
    "    print(tmp_data)\n",
    "    print('')"
   ]
  },
  {
   "cell_type": "code",
   "execution_count": null,
   "metadata": {},
   "outputs": [],
   "source": []
  },
  {
   "cell_type": "code",
   "execution_count": null,
   "metadata": {},
   "outputs": [],
   "source": []
  },
  {
   "cell_type": "code",
   "execution_count": null,
   "metadata": {},
   "outputs": [],
   "source": []
  },
  {
   "cell_type": "code",
   "execution_count": null,
   "metadata": {},
   "outputs": [],
   "source": [
    "# fig = px.imshow(x)\n",
    "# # fig.add_trace(go.Scatter(x=[20], y=[10], marker=dict(color='red', size=6)))\n",
    "# fig.add_shape(\n",
    "#     type='rect',\n",
    "# #     x0=0, x1=9, y0=98, y1=107,\n",
    "#     y0=0, y1=9, x0=107, x1=116,\n",
    "#     xref='x', yref='y',\n",
    "#     line_color='red'\n",
    "# )\n",
    "# fig.show()"
   ]
  },
  {
   "cell_type": "code",
   "execution_count": null,
   "metadata": {},
   "outputs": [],
   "source": []
  },
  {
   "cell_type": "code",
   "execution_count": null,
   "metadata": {},
   "outputs": [],
   "source": []
  }
 ],
 "metadata": {
  "kernelspec": {
   "display_name": "Python 3",
   "language": "python",
   "name": "python3"
  },
  "language_info": {
   "codemirror_mode": {
    "name": "ipython",
    "version": 3
   },
   "file_extension": ".py",
   "mimetype": "text/x-python",
   "name": "python",
   "nbconvert_exporter": "python",
   "pygments_lexer": "ipython3",
   "version": "3.7.6"
  }
 },
 "nbformat": 4,
 "nbformat_minor": 2
}
