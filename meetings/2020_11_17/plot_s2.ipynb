{
 "cells": [
  {
   "cell_type": "code",
   "execution_count": null,
   "metadata": {},
   "outputs": [],
   "source": [
    "from collections import namedtuple\n",
    "import pandas as pd\n",
    "import plotly.express as px\n",
    "import dgutils.pandas as dgp"
   ]
  },
  {
   "cell_type": "code",
   "execution_count": null,
   "metadata": {},
   "outputs": [],
   "source": [
    "import sys\n",
    "sys.path.insert(0, '../../rna_ss/')\n",
    "from utils import compute_fe"
   ]
  },
  {
   "cell_type": "code",
   "execution_count": null,
   "metadata": {},
   "outputs": [],
   "source": [
    "def stem_bb_to_db_str(stem_bbs, seq_len):\n",
    "    # conert stem bounding boxes to dot-bracket\n",
    "    # hacky implementation, no pseudoknot support!\n",
    "\n",
    "    # # find all stems, collect all base pairs\n",
    "    # all_stems = []\n",
    "    # for chain in global_struct:\n",
    "    #     all_stems.extend([x for x in chain.chain if x.type == 'stem'])\n",
    "    # bps = []  # list of (i, j) tuple\n",
    "    db_str = list('.' * seq_len)\n",
    "    for s in stem_bbs:\n",
    "        for i, j in zip(range(s.tr_x, s.bl_x + 1), range(s.bl_y, s.tr_y + 1)[::-1]):\n",
    "            # handle corner case, if (i, j) is out of bound, skip\n",
    "            # this can happen in rare cases (which should have been cleaned up after stage 1 <- to be fixed)\n",
    "            if i >= seq_len or j >= seq_len:\n",
    "                continue\n",
    "            db_str[i] = '('\n",
    "            db_str[j] = ')'\n",
    "            # bps.append((i, j))\n",
    "    # bps = sorted(bps)\n",
    "    return ''.join(db_str)\n",
    "\n",
    "\n",
    "def struct_df_to_db_str(df_struct, seq_len):\n",
    "    # structure: a df, no structure: None\n",
    "    if not isinstance(df_struct, pd.DataFrame):\n",
    "        assert df_struct is None\n",
    "        return '.' * seq_len\n",
    "\n",
    "    BoundingBox = namedtuple('BoundingBox', ['tr_x', 'tr_y', 'bl_x', 'bl_y'])\n",
    "\n",
    "    df_struct = df_struct[df_struct['bb_type'] == 'stem']\n",
    "    stems = []\n",
    "    for _, row in df_struct.iterrows():\n",
    "        bb_x = row['bb_x']\n",
    "        bb_y = row['bb_y']\n",
    "        siz_x = row['siz_x']\n",
    "        siz_y = row['siz_y']\n",
    "        bl_x = bb_x + siz_x - 1\n",
    "        bl_y = bb_y - siz_y + 1\n",
    "        stems.append(BoundingBox(tr_x=bb_x, tr_y=bb_y, bl_x=bl_x, bl_y=bl_y))\n",
    "\n",
    "    db_str = stem_bb_to_db_str(stems, seq_len)\n",
    "    return db_str\n",
    "\n",
    "\n",
    "def ad_hoc_score(df_pred):\n",
    "    df_stem = df_pred[df_pred['bb_type'] == 'stem']\n",
    "    df_stem = dgp.add_column(df_stem, 'score', ['siz_x', 'prob_median', 'n_proposal_norm'],\n",
    "                            lambda a, b, c: a * b * c)\n",
    "    return df_stem['score'].sum()\n",
    "\n",
    "\n",
    "def pick_best_ss(global_struct_dfs):\n",
    "    if len(global_struct_dfs) == 0:\n",
    "        return None\n",
    "    else:\n",
    "        scores = [ad_hoc_score(df_pred) for df_pred in global_struct_dfs]\n",
    "        idx = np.argmax(scores)\n",
    "        df_pred = global_struct_dfs[idx]\n",
    "        return df_pred"
   ]
  },
  {
   "cell_type": "code",
   "execution_count": null,
   "metadata": {},
   "outputs": [],
   "source": []
  },
  {
   "cell_type": "code",
   "execution_count": null,
   "metadata": {},
   "outputs": [],
   "source": [
    "df = pd.read_pickle('data/rfam151_s2_3_0p5.pkl.gz')"
   ]
  },
  {
   "cell_type": "code",
   "execution_count": null,
   "metadata": {},
   "outputs": [],
   "source": []
  },
  {
   "cell_type": "code",
   "execution_count": null,
   "metadata": {},
   "outputs": [],
   "source": [
    "# compute fe's\n",
    "df_fe = []\n",
    "df_all_scores = []\n",
    "for idx, row in df.iterrows():\n",
    "    print(idx, len(row.global_struct_dfs))\n",
    "    target_db_str = struct_df_to_db_str(row['df_target'], row['len'])\n",
    "    target_fe = compute_fe(row['seq'], target_db_str)\n",
    "    \n",
    "    best_score = -1000\n",
    "    best_fe = 1000\n",
    "    for x in row.global_struct_dfs:\n",
    "        x = pd.DataFrame(x)\n",
    "        score = ad_hoc_score(x)\n",
    "        db_str = struct_df_to_db_str(x, row['len'])\n",
    "        fe = compute_fe(row['seq'], db_str)\n",
    "        df_all_scores.append({\n",
    "            'score': score,\n",
    "            'fe': fe,\n",
    "        })\n",
    "        if score > best_score:\n",
    "            best_score = score\n",
    "        if fe < best_fe:\n",
    "            best_fe = fe\n",
    "    \n",
    "    df_fe.append({\n",
    "        'seq_id': row['seq_id'],\n",
    "        'target_fe': target_fe,\n",
    "        'best_score': best_score,\n",
    "        'best_fe': best_fe,\n",
    "    })\n",
    "    \n",
    "\n",
    "df_fe = pd.DataFrame(df_fe)\n",
    "df_all_scores = pd.DataFrame(df_all_scores)"
   ]
  },
  {
   "cell_type": "code",
   "execution_count": null,
   "metadata": {},
   "outputs": [],
   "source": [
    "df_fe.head()"
   ]
  },
  {
   "cell_type": "code",
   "execution_count": null,
   "metadata": {},
   "outputs": [],
   "source": [
    "px.scatter(df_fe[(df_fe['target_fe'] < 0) & (df_fe['best_fe'] < 0)], x='target_fe', y='best_fe')"
   ]
  },
  {
   "cell_type": "code",
   "execution_count": null,
   "metadata": {},
   "outputs": [],
   "source": []
  },
  {
   "cell_type": "code",
   "execution_count": null,
   "metadata": {},
   "outputs": [],
   "source": [
    "df_all_scores.head()"
   ]
  },
  {
   "cell_type": "code",
   "execution_count": null,
   "metadata": {},
   "outputs": [],
   "source": [
    "px.scatter(df_all_scores[df_all_scores['fe'] < 0], x='score', y='fe', opacity=0.3)"
   ]
  },
  {
   "cell_type": "code",
   "execution_count": null,
   "metadata": {},
   "outputs": [],
   "source": [
    "len(df_all_scores)"
   ]
  },
  {
   "cell_type": "code",
   "execution_count": null,
   "metadata": {},
   "outputs": [],
   "source": []
  },
  {
   "cell_type": "code",
   "execution_count": null,
   "metadata": {},
   "outputs": [],
   "source": [
    "# target_db_str = struct_df_to_db_str(row['df_target'], row['len'])\n",
    "# target_fe = compute_fe(row['seq'], target_db_str)\n",
    "# print(target_db_str, target_fe)"
   ]
  },
  {
   "cell_type": "code",
   "execution_count": null,
   "metadata": {},
   "outputs": [],
   "source": [
    "# for x in row.global_struct_dfs:\n",
    "#     x = pd.DataFrame(x)\n",
    "#     print(x)\n",
    "#     score = ad_hoc_score(x)\n",
    "#     db_str = struct_df_to_db_str(x, row['len'])\n",
    "#     fe = compute_fe(row['seq'], db_str)\n",
    "#     print(db_str, score, fe)"
   ]
  },
  {
   "cell_type": "code",
   "execution_count": null,
   "metadata": {},
   "outputs": [],
   "source": [
    "# pd.DataFrame(row['bb_stem'])"
   ]
  },
  {
   "cell_type": "code",
   "execution_count": null,
   "metadata": {},
   "outputs": [],
   "source": [
    "# pd.DataFrame(row['bb_iloop'])"
   ]
  },
  {
   "cell_type": "code",
   "execution_count": null,
   "metadata": {},
   "outputs": [],
   "source": [
    "# pd.DataFrame(row['bb_hloop'])"
   ]
  },
  {
   "cell_type": "code",
   "execution_count": null,
   "metadata": {},
   "outputs": [],
   "source": []
  },
  {
   "cell_type": "code",
   "execution_count": null,
   "metadata": {},
   "outputs": [],
   "source": []
  },
  {
   "cell_type": "code",
   "execution_count": null,
   "metadata": {},
   "outputs": [],
   "source": []
  }
 ],
 "metadata": {
  "kernelspec": {
   "display_name": "Python 3",
   "language": "python",
   "name": "python3"
  },
  "language_info": {
   "codemirror_mode": {
    "name": "ipython",
    "version": 3
   },
   "file_extension": ".py",
   "mimetype": "text/x-python",
   "name": "python",
   "nbconvert_exporter": "python",
   "pygments_lexer": "ipython3",
   "version": "3.7.6"
  }
 },
 "nbformat": 4,
 "nbformat_minor": 4
}
