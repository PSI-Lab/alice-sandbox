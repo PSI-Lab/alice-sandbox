{
 "cells": [
  {
   "cell_type": "code",
   "execution_count": null,
   "metadata": {},
   "outputs": [],
   "source": [
    "import numpy as np\n",
    "import pandas as pd\n",
    "import plotly.express as px\n",
    "import plotly.figure_factory as ff"
   ]
  },
  {
   "cell_type": "code",
   "execution_count": null,
   "metadata": {},
   "outputs": [],
   "source": [
    "from functools import reduce"
   ]
  },
  {
   "cell_type": "code",
   "execution_count": null,
   "metadata": {},
   "outputs": [],
   "source": [
    "from model_utils.utils_model import Evaluator"
   ]
  },
  {
   "cell_type": "code",
   "execution_count": null,
   "metadata": {},
   "outputs": [],
   "source": [
    "df1 = pd.read_pickle('../2021_01_12/data/synthetic_s1_pred_1000_t0p1_k1.pkl.gz')\n",
    "df1 = df1[['seq', 'len', 'bounding_boxes', 'bb_stem', 'bb_iloop', 'bb_hloop']]\n",
    "df1 = df1.rename(columns={'bb_stem': 'stem_1', 'bb_iloop': 'iloop_1', 'bb_hloop': 'hloop_1'})\n",
    "\n",
    "df2 = pd.read_pickle('../2021_01_12/data/synthetic_s1_pred_1000_t0p1_k10_c0p9.pkl.gz')\n",
    "df2 = df2[['seq', 'bb_stem', 'bb_iloop', 'bb_hloop']]\n",
    "df2 = df2.rename(columns={'bb_stem': 'stem_2', 'bb_iloop': 'iloop_2', 'bb_hloop': 'hloop_2'})\n",
    "\n",
    "df3 = pd.read_pickle('../2021_01_12/data/synthetic_s1_pred_1000_t0p1_k10_c0p5.pkl.gz')\n",
    "df3 = df3[['seq', 'bb_stem', 'bb_iloop', 'bb_hloop']]\n",
    "df3 = df3.rename(columns={'bb_stem': 'stem_3', 'bb_iloop': 'iloop_3', 'bb_hloop': 'hloop_3'})\n",
    "\n",
    "df4 = pd.read_pickle('../2021_01_12/data/synthetic_s1_pred_1000_t0p1_k50_c0p9.pkl.gz')\n",
    "df4 = df4[['seq', 'bb_stem', 'bb_iloop', 'bb_hloop']]\n",
    "df4 = df4.rename(columns={'bb_stem': 'stem_4', 'bb_iloop': 'iloop_4', 'bb_hloop': 'hloop_4'})\n",
    "\n",
    "df5 = pd.read_pickle('../2021_01_12/data/synthetic_s1_pred_1000_t0p02_k10_c0p9.pkl.gz')\n",
    "df5 = df5[['seq', 'bb_stem', 'bb_iloop', 'bb_hloop']]\n",
    "df5 = df5.rename(columns={'bb_stem': 'stem_5', 'bb_iloop': 'iloop_5', 'bb_hloop': 'hloop_5'})"
   ]
  },
  {
   "cell_type": "code",
   "execution_count": null,
   "metadata": {},
   "outputs": [],
   "source": [
    "evaluator = Evaluator(predictor=None) "
   ]
  },
  {
   "cell_type": "code",
   "execution_count": null,
   "metadata": {},
   "outputs": [],
   "source": []
  },
  {
   "cell_type": "code",
   "execution_count": null,
   "metadata": {},
   "outputs": [],
   "source": [
    "len(df1)"
   ]
  },
  {
   "cell_type": "code",
   "execution_count": null,
   "metadata": {},
   "outputs": [],
   "source": [
    "df = reduce(lambda x, y: pd.merge(x, y, on='seq'), [df1, df2, df3, df4, df5])\n",
    "\n"
   ]
  },
  {
   "cell_type": "code",
   "execution_count": null,
   "metadata": {},
   "outputs": [],
   "source": [
    "len(df)"
   ]
  },
  {
   "cell_type": "code",
   "execution_count": null,
   "metadata": {},
   "outputs": [],
   "source": [
    "for i in range(1, 5+1):\n",
    "    df['n_stem_{}'.format(i)] = df['stem_{}'.format(i)].apply(lambda x: 0 if x is None else len(x))\n",
    "    df['n_iloop_{}'.format(i)] = df['iloop_{}'.format(i)].apply(lambda x: 0 if x is None else len(x))\n",
    "    df['n_hloop_{}'.format(i)] = df['hloop_{}'.format(i)].apply(lambda x: 0 if x is None else len(x))"
   ]
  },
  {
   "cell_type": "code",
   "execution_count": null,
   "metadata": {},
   "outputs": [],
   "source": [
    "df.head(1)"
   ]
  },
  {
   "cell_type": "code",
   "execution_count": null,
   "metadata": {},
   "outputs": [],
   "source": [
    "fig = px.scatter_matrix(df[['n_stem_1', 'n_stem_2', 'n_stem_3', 'n_stem_4', 'n_stem_5']],\n",
    "                       labels={'n_stem_1': 't=0.1,k=1',\n",
    "                               'n_stem_2': 't=0.1,k=10,c=0.9', \n",
    "                               'n_stem_3': 't=0.1,k=10,c=0.5',\n",
    "                               'n_stem_4': 't=0.1,k=50,c=0.9', \n",
    "                               'n_stem_5': 't=0.02,k=10,c=0.9'})\n",
    "fig.update_traces(diagonal_visible=False)\n",
    "fig.update_layout(\n",
    "    title='Number of predicted stems',\n",
    "    width=1000,\n",
    "    height=1000,\n",
    ")\n",
    "fig.show()"
   ]
  },
  {
   "cell_type": "code",
   "execution_count": null,
   "metadata": {},
   "outputs": [],
   "source": []
  },
  {
   "cell_type": "code",
   "execution_count": null,
   "metadata": {
    "scrolled": true
   },
   "outputs": [],
   "source": [
    "df_stem_sensitivity = []\n",
    "for _, row in df.iterrows():\n",
    "    data = {'seq': row['seq'], 'len': row['len']}\n",
    "    # convert old data format to new\n",
    "    df_target_stem, df_target_iloop, df_target_hloop = evaluator.make_target_bb_df(row['bounding_boxes'], \n",
    "                                                                                   convert_tl_to_tr=True)\n",
    "    for i in range(1, 5+1):\n",
    "        df_stem = pd.DataFrame(row['stem_{}'.format(i)])\n",
    "        m = evaluator.calculate_bb_metrics(df_target=df_target_stem, df_pred=df_stem[['bb_x', 'bb_y', 'siz_x', 'siz_y']])\n",
    "        data['s_identical_{}'.format(i)] = float(m['n_target_identical'])/m['n_target_total']\n",
    "        # union\n",
    "        data['s_overlap_{}'.format(i)] = float(m['n_target_identical'] + m['n_target_overlap'])/m['n_target_total']\n",
    "    df_stem_sensitivity.append(data)\n",
    "df_stem_sensitivity = pd.DataFrame(df_stem_sensitivity)\n",
    "        "
   ]
  },
  {
   "cell_type": "code",
   "execution_count": null,
   "metadata": {},
   "outputs": [],
   "source": []
  },
  {
   "cell_type": "code",
   "execution_count": null,
   "metadata": {},
   "outputs": [],
   "source": []
  },
  {
   "cell_type": "code",
   "execution_count": null,
   "metadata": {},
   "outputs": [],
   "source": []
  },
  {
   "cell_type": "code",
   "execution_count": null,
   "metadata": {},
   "outputs": [],
   "source": [
    "# marginal\n",
    "# fig = px.histogram(df_stem_sensitivity, \n",
    "#              x='s_identical_1')\n",
    "# fig.add_trace(px.histogram(df_stem_sensitivity, \n",
    "#              x='s_identical_2').data[0])\n",
    "\n",
    "x1 = df_stem_sensitivity['s_identical_1'].to_numpy()\n",
    "x2 = df_stem_sensitivity['s_identical_2'].to_numpy()\n",
    "x3 = df_stem_sensitivity['s_identical_3'].to_numpy()\n",
    "x4 = df_stem_sensitivity['s_identical_4'].to_numpy()\n",
    "x5 = df_stem_sensitivity['s_identical_5'].to_numpy()\n",
    "\n",
    "df_plot = pd.DataFrame(dict(\n",
    "    parameter=np.concatenate((['t=0.1,k=1']*len(x1), \n",
    "                           ['t=0.1,k=10,c=0.9']*len(x2),\n",
    "                          ['t=0.1,k=10,c=0.5']*len(x3),\n",
    "                          ['t=0.1,k=50,c=0.9']*len(x4),\n",
    "                          ['t=0.02,k=10,c=0.9']*len(x5))), \n",
    "    sensitivity=np.concatenate((x1,x2,x3,x4,x5))\n",
    "))\n",
    "\n",
    "px.histogram(df_plot, x=\"sensitivity\", color=\"parameter\", marginal=\"rug\", histnorm='percent',\n",
    "             barmode=\"group\", nbins=50)\n",
    "\n",
    "# fig = ff.create_distplot([df_stem_sensitivity['s_identical_1'], df_stem_sensitivity['s_identical_2']], \n",
    "#                          ['s_identical_1', 's_identical_2'])\n",
    "# fig.show()"
   ]
  },
  {
   "cell_type": "code",
   "execution_count": null,
   "metadata": {
    "scrolled": false
   },
   "outputs": [],
   "source": [
    "fig = px.scatter_matrix(df_stem_sensitivity[['s_identical_1', 's_identical_2', 's_identical_3', 's_identical_4', 's_identical_5']],\n",
    "                       labels={'s_identical_1': 't=0.1,k=1',\n",
    "                               's_identical_2': 't=0.1,k=10,c=0.9', \n",
    "                               's_identical_3': 't=0.1,k=10,c=0.5',\n",
    "                               's_identical_4': 't=0.1,k=50,c=0.9', \n",
    "                               's_identical_5': 't=0.02,k=10,c=0.9'})\n",
    "fig.update_traces(diagonal_visible=False)\n",
    "fig.update_layout(\n",
    "    title='Sensitivity (identical stem bb)',\n",
    "    width=1000,\n",
    "    height=1000,\n",
    "#     xaxis={\n",
    "#       \"range\": [0, 1]},\n",
    "#     yaxis={\n",
    "#       \"range\": [0, 1]}\n",
    ")\n",
    "fig.update_xaxes(range=[0, 1])\n",
    "fig.update_yaxes(range=[0, 1])\n",
    "fig.show()"
   ]
  },
  {
   "cell_type": "code",
   "execution_count": null,
   "metadata": {},
   "outputs": [],
   "source": [
    "fig = px.scatter_matrix(df_stem_sensitivity[['s_overlap_1', 's_overlap_2', 's_overlap_3', 's_overlap_4', 's_overlap_5']],\n",
    "                       labels={'s_overlap_1': 't=0.1,k=1',\n",
    "                               's_overlap_2': 't=0.1,k=10,c=0.9', \n",
    "                               's_overlap_3': 't=0.1,k=10,c=0.5',\n",
    "                               's_overlap_4': 't=0.1,k=50,c=0.9', \n",
    "                               's_overlap_5': 't=0.02,k=10,c=0.9'})\n",
    "fig.update_traces(diagonal_visible=False)\n",
    "fig.update_layout(\n",
    "    title='Sensitivity (overlap stem bb)',\n",
    "    width=1000,\n",
    "    height=1000,\n",
    "    xaxis={\n",
    "      \"range\": [0, 1]},\n",
    "    yaxis={\n",
    "      \"range\": [0, 1]}\n",
    ")\n",
    "fig.show()"
   ]
  },
  {
   "cell_type": "code",
   "execution_count": null,
   "metadata": {},
   "outputs": [],
   "source": []
  },
  {
   "cell_type": "code",
   "execution_count": null,
   "metadata": {},
   "outputs": [],
   "source": []
  },
  {
   "cell_type": "code",
   "execution_count": null,
   "metadata": {},
   "outputs": [],
   "source": []
  }
 ],
 "metadata": {
  "kernelspec": {
   "display_name": "Python 3",
   "language": "python",
   "name": "python3"
  },
  "language_info": {
   "codemirror_mode": {
    "name": "ipython",
    "version": 3
   },
   "file_extension": ".py",
   "mimetype": "text/x-python",
   "name": "python",
   "nbconvert_exporter": "python",
   "pygments_lexer": "ipython3",
   "version": "3.7.6"
  }
 },
 "nbformat": 4,
 "nbformat_minor": 4
}
