{
 "cells": [
  {
   "cell_type": "code",
   "execution_count": 2,
   "id": "27050bf3",
   "metadata": {},
   "outputs": [
    {
     "name": "stderr",
     "output_type": "stream",
     "text": [
      "/Users/alicegao/work/psi-lab-sandbox/meetings/2021_07_14/utils/misc.py:2: TqdmExperimentalWarning: Using `tqdm.autonotebook.tqdm` in notebook mode. Use `tqdm.tqdm` instead to force console mode (e.g. in jupyter console)\n",
      "  from tqdm.autonotebook import tqdm\n"
     ]
    }
   ],
   "source": [
    "import numpy as np\n",
    "import pandas as pd\n",
    "from pprint import pprint\n",
    "from collections import namedtuple\n",
    "from sklearn.metrics import f1_score\n",
    "from utils.util_global_struct import process_bb_old_to_new\n",
    "from utils.rna_ss_utils import arr2db, one_idx2arr, compute_fe\n",
    "from utils.inference_s2 import Predictor, process_row_bb_combo, stem_bbs2arr\n",
    "from utils.misc import add_column\n",
    "import torch\n",
    "import torch.nn as nn"
   ]
  },
  {
   "cell_type": "code",
   "execution_count": 3,
   "id": "fbffde4e",
   "metadata": {},
   "outputs": [],
   "source": [
    "import plotly.express as px"
   ]
  },
  {
   "cell_type": "code",
   "execution_count": 4,
   "id": "b84b9375",
   "metadata": {},
   "outputs": [],
   "source": [
    "df = pd.read_pickle('../2021_06_15/data/data_len60_test_1000_s1_stem_bb_combos.pkl.gz')"
   ]
  },
  {
   "cell_type": "code",
   "execution_count": 6,
   "id": "8df0ee5d",
   "metadata": {},
   "outputs": [],
   "source": [
    "TOPK=100  # debug!"
   ]
  },
  {
   "cell_type": "code",
   "execution_count": 7,
   "id": "ca0873b2",
   "metadata": {
    "scrolled": false
   },
   "outputs": [
    {
     "name": "stdout",
     "output_type": "stream",
     "text": [
      "Target FE -16.4, best in topk FE -16.4, f1=1.0\n",
      "\n",
      "FE equal but structure differ:\n",
      "target:\n",
      "[BoundingBox(bb_x=4, bb_y=48, siz_x=3, siz_y=3),\n",
      " BoundingBox(bb_x=9, bb_y=43, siz_x=7, siz_y=7),\n",
      " BoundingBox(bb_x=21, bb_y=36, siz_x=3, siz_y=3)]\n",
      "predicted:\n",
      "[BoundingBox(bb_x=2, bb_y=9, siz_x=2, siz_y=2),\n",
      " BoundingBox(bb_x=4, bb_y=48, siz_x=3, siz_y=3),\n",
      " BoundingBox(bb_x=9, bb_y=43, siz_x=7, siz_y=7),\n",
      " BoundingBox(bb_x=21, bb_y=36, siz_x=3, siz_y=3)]\n"
     ]
    }
   ],
   "source": [
    "f1s_all = []\n",
    "for _, row in df.iterrows():\n",
    "    seq, df_valid_combos, bb_combos, target_bbs, target_bb_inc, target_in_combo, target_in_topk = process_row_bb_combo(row, TOPK)\n",
    "    \n",
    "    # for now only check those with target_in_topk == True,\n",
    "    # debug: sanity check this result in f1=1\n",
    "    if target_in_topk:\n",
    "\n",
    "        # extract prediction of target (won't error out since target_in_topk == True)\n",
    "        idx_tgt = next(i for i, bb_combo in enumerate(bb_combos) if set(bb_combo) == set(target_bbs))\n",
    "        \n",
    "        # use RNAfold to compute FE\n",
    "        db_str_tgt, _ = arr2db(stem_bbs2arr(bb_combos[idx_tgt], len(seq)))\n",
    "        db_str_all = [arr2db(stem_bbs2arr(bb_combo, len(seq)))[0] for bb_combo in bb_combos]\n",
    "        fe_tgt = compute_fe(seq, db_str_tgt)\n",
    "        fe_all = [compute_fe(seq, db_str) for db_str in db_str_all]\n",
    "        \n",
    "        idx_best = np.nanargmin(fe_all)\n",
    "        \n",
    "        # sanity check for this particular case, FE should equal\n",
    "        assert fe_tgt == fe_all[idx_best]\n",
    "        # but structure might not!\n",
    "        if idx_tgt != idx_best:\n",
    "            print(\"FE equal but structure differ:\")\n",
    "            print(\"target:\")\n",
    "            pprint(target_bbs)\n",
    "            print(\"predicted:\")\n",
    "            pprint(bb_combos[idx_best])\n",
    "            break\n",
    "        \n",
    "        target_bps = stem_bbs2arr(target_bbs, len(seq))\n",
    "        pred_bps = stem_bbs2arr(bb_combos[idx_best], len(seq))\n",
    "        idx = np.triu_indices(len(seq))\n",
    "        f1s = f1_score(y_pred=pred_bps[idx], y_true=target_bps[idx])\n",
    "        print(f\"Target FE {fe_tgt}, best in topk FE {fe_all[idx_best]}, f1={f1s}\")\n",
    "        print(\"\")\n",
    "   \n",
    "    \n",
    "    "
   ]
  },
  {
   "cell_type": "code",
   "execution_count": 8,
   "id": "2ee292cb",
   "metadata": {},
   "outputs": [
    {
     "data": {
      "text/plain": [
       "85"
      ]
     },
     "execution_count": 8,
     "metadata": {},
     "output_type": "execute_result"
    }
   ],
   "source": [
    "idx_tgt"
   ]
  },
  {
   "cell_type": "code",
   "execution_count": 9,
   "id": "763dfd43",
   "metadata": {},
   "outputs": [
    {
     "data": {
      "text/plain": [
       "12"
      ]
     },
     "execution_count": 9,
     "metadata": {},
     "output_type": "execute_result"
    }
   ],
   "source": [
    "idx_best"
   ]
  },
  {
   "cell_type": "code",
   "execution_count": 10,
   "id": "fc5adce3",
   "metadata": {},
   "outputs": [
    {
     "data": {
      "text/plain": [
       "[BoundingBox(bb_x=4, bb_y=48, siz_x=3, siz_y=3),\n",
       " BoundingBox(bb_x=9, bb_y=43, siz_x=7, siz_y=7),\n",
       " BoundingBox(bb_x=21, bb_y=36, siz_x=3, siz_y=3)]"
      ]
     },
     "execution_count": 10,
     "metadata": {},
     "output_type": "execute_result"
    }
   ],
   "source": [
    "target_bbs"
   ]
  },
  {
   "cell_type": "code",
   "execution_count": 11,
   "id": "87b698ff",
   "metadata": {},
   "outputs": [
    {
     "data": {
      "text/plain": [
       "[BoundingBox(bb_x=4, bb_y=48, siz_x=3, siz_y=3),\n",
       " BoundingBox(bb_x=9, bb_y=43, siz_x=7, siz_y=7),\n",
       " BoundingBox(bb_x=21, bb_y=36, siz_x=3, siz_y=3)]"
      ]
     },
     "execution_count": 11,
     "metadata": {},
     "output_type": "execute_result"
    }
   ],
   "source": [
    "bb_combos[idx_tgt]"
   ]
  },
  {
   "cell_type": "code",
   "execution_count": 12,
   "id": "0325934a",
   "metadata": {},
   "outputs": [
    {
     "data": {
      "text/plain": [
       "[BoundingBox(bb_x=2, bb_y=9, siz_x=2, siz_y=2),\n",
       " BoundingBox(bb_x=4, bb_y=48, siz_x=3, siz_y=3),\n",
       " BoundingBox(bb_x=9, bb_y=43, siz_x=7, siz_y=7),\n",
       " BoundingBox(bb_x=21, bb_y=36, siz_x=3, siz_y=3)]"
      ]
     },
     "execution_count": 12,
     "metadata": {},
     "output_type": "execute_result"
    }
   ],
   "source": [
    "bb_combos[idx_best]"
   ]
  },
  {
   "cell_type": "code",
   "execution_count": 15,
   "id": "fdda670b",
   "metadata": {},
   "outputs": [
    {
     "name": "stdout",
     "output_type": "stream",
     "text": [
      "....(((..(((((((.....(((..........))))))))))..)))...........\n"
     ]
    }
   ],
   "source": [
    "db_str_tgt, _ = arr2db(stem_bbs2arr(bb_combos[idx_tgt], len(seq)))\n",
    "print(db_str_tgt)"
   ]
  },
  {
   "cell_type": "code",
   "execution_count": 16,
   "id": "cbab41bb",
   "metadata": {},
   "outputs": [
    {
     "name": "stdout",
     "output_type": "stream",
     "text": [
      "..[[(((.](((((((.....(((..........))))))))))..)))...........\n"
     ]
    }
   ],
   "source": [
    "db_str_pred, _ = arr2db(stem_bbs2arr(bb_combos[idx_best], len(seq)))\n",
    "print(db_str_pred)"
   ]
  },
  {
   "cell_type": "code",
   "execution_count": 17,
   "id": "e83854de",
   "metadata": {},
   "outputs": [
    {
     "data": {
      "text/plain": [
       "-7.7"
      ]
     },
     "execution_count": 17,
     "metadata": {},
     "output_type": "execute_result"
    }
   ],
   "source": [
    "compute_fe(seq, db_str_tgt)"
   ]
  },
  {
   "cell_type": "code",
   "execution_count": 18,
   "id": "6dec87a2",
   "metadata": {},
   "outputs": [
    {
     "data": {
      "text/plain": [
       "-7.7"
      ]
     },
     "execution_count": 18,
     "metadata": {},
     "output_type": "execute_result"
    }
   ],
   "source": [
    "compute_fe(seq, db_str_pred)"
   ]
  },
  {
   "cell_type": "code",
   "execution_count": 19,
   "id": "481b709e",
   "metadata": {},
   "outputs": [
    {
     "data": {
      "text/plain": [
       "'CCCAAGGATGATTGTACCCTCAGCACTCAAGACCGCTTGCGGTTCCCCTACACACTTTTT'"
      ]
     },
     "execution_count": 19,
     "metadata": {},
     "output_type": "execute_result"
    }
   ],
   "source": [
    "seq"
   ]
  },
  {
   "cell_type": "code",
   "execution_count": null,
   "id": "b5bd8d39",
   "metadata": {},
   "outputs": [],
   "source": []
  },
  {
   "cell_type": "code",
   "execution_count": 21,
   "id": "0612598f",
   "metadata": {},
   "outputs": [],
   "source": [
    "bb_combo_debug = bb_combos[idx_best]"
   ]
  },
  {
   "cell_type": "code",
   "execution_count": 22,
   "id": "6943d47b",
   "metadata": {},
   "outputs": [
    {
     "data": {
      "text/plain": [
       "[BoundingBox(bb_x=2, bb_y=9, siz_x=2, siz_y=2),\n",
       " BoundingBox(bb_x=4, bb_y=48, siz_x=3, siz_y=3),\n",
       " BoundingBox(bb_x=9, bb_y=43, siz_x=7, siz_y=7),\n",
       " BoundingBox(bb_x=21, bb_y=36, siz_x=3, siz_y=3)]"
      ]
     },
     "execution_count": 22,
     "metadata": {},
     "output_type": "execute_result"
    }
   ],
   "source": [
    "bb_combo_debug"
   ]
  },
  {
   "cell_type": "code",
   "execution_count": 28,
   "id": "a3bbb0ea",
   "metadata": {},
   "outputs": [
    {
     "data": {
      "text/plain": [
       "BoundingBox(bb_x=2, bb_y=9, siz_x=2, siz_y=2)"
      ]
     },
     "execution_count": 28,
     "metadata": {},
     "output_type": "execute_result"
    }
   ],
   "source": [
    "bb_combo_debug[0]"
   ]
  },
  {
   "cell_type": "code",
   "execution_count": 29,
   "id": "34884d42",
   "metadata": {},
   "outputs": [
    {
     "data": {
      "text/plain": [
       "BoundingBox(bb_x=9, bb_y=43, siz_x=7, siz_y=7)"
      ]
     },
     "execution_count": 29,
     "metadata": {},
     "output_type": "execute_result"
    }
   ],
   "source": [
    "bb_combo_debug[2]"
   ]
  },
  {
   "cell_type": "code",
   "execution_count": null,
   "id": "fe623d8a",
   "metadata": {},
   "outputs": [],
   "source": []
  },
  {
   "cell_type": "code",
   "execution_count": 26,
   "id": "f7dcdc4b",
   "metadata": {},
   "outputs": [],
   "source": [
    "# old implementation, from https://github.com/PSI-Lab/alice-sandbox/blob/cb56ce55d65db772375aa3e8d5304afcf9aaefbe/meetings/2021_06_15/utils_s2_tree_search.py#L17\n",
    "\n",
    "def range_overlap(r1, r2):\n",
    "    if r2[0] < r1[1] <= r2[1] or r1[0] < r2[1] <= r1[1]:\n",
    "        return True\n",
    "    else:\n",
    "        return False\n",
    "\n",
    "def bb_conflict_old(bb1, bb2):\n",
    "    r11 = (bb1.bb_x, bb1.bb_x + bb1.siz_x)\n",
    "    r12 = (bb1.bb_y - bb1.siz_y, bb1.bb_y)\n",
    "    r21 = (bb2.bb_x, bb2.bb_x + bb2.siz_x)\n",
    "    r22 = (bb2.bb_y - bb2.siz_y, bb2.bb_y)\n",
    "    print(r11, r12, r21, r22)\n",
    "    if range_overlap(r11, r21) or range_overlap(r11, r22) or range_overlap(r12, r21) or range_overlap(r12, r22):\n",
    "        return True\n",
    "    else:\n",
    "        return False"
   ]
  },
  {
   "cell_type": "code",
   "execution_count": 30,
   "id": "5b17fe39",
   "metadata": {},
   "outputs": [],
   "source": [
    "def bb_conflict_new(bb1, bb2):\n",
    "    r11 = (bb1.bb_x, bb1.bb_x + bb1.siz_x)\n",
    "    r12 = (bb1.bb_y - bb1.siz_y + 1, bb1.bb_y + 1)\n",
    "    r21 = (bb2.bb_x, bb2.bb_x + bb2.siz_x)\n",
    "    r22 = (bb2.bb_y - bb2.siz_y + 1, bb2.bb_y + 1)\n",
    "    print(r11, r12, r21, r22)\n",
    "    if range_overlap(r11, r21) or range_overlap(r11, r22) or range_overlap(r12, r21) or range_overlap(r12, r22):\n",
    "        return True\n",
    "    else:\n",
    "        return False"
   ]
  },
  {
   "cell_type": "code",
   "execution_count": 27,
   "id": "f4080069",
   "metadata": {},
   "outputs": [
    {
     "name": "stdout",
     "output_type": "stream",
     "text": [
      "(2, 4) (7, 9) (9, 16) (36, 43)\n"
     ]
    },
    {
     "data": {
      "text/plain": [
       "False"
      ]
     },
     "execution_count": 27,
     "metadata": {},
     "output_type": "execute_result"
    }
   ],
   "source": [
    "bb_conflict_old(bb_combo_debug[0], bb_combo_debug[2])"
   ]
  },
  {
   "cell_type": "code",
   "execution_count": 31,
   "id": "6b967c9b",
   "metadata": {},
   "outputs": [
    {
     "name": "stdout",
     "output_type": "stream",
     "text": [
      "(2, 4) (8, 10) (9, 16) (37, 44)\n"
     ]
    },
    {
     "data": {
      "text/plain": [
       "True"
      ]
     },
     "execution_count": 31,
     "metadata": {},
     "output_type": "execute_result"
    }
   ],
   "source": [
    "bb_conflict_new(bb_combo_debug[0], bb_combo_debug[2])"
   ]
  },
  {
   "cell_type": "code",
   "execution_count": null,
   "id": "342abdac",
   "metadata": {},
   "outputs": [],
   "source": []
  }
 ],
 "metadata": {
  "kernelspec": {
   "display_name": "Python 3",
   "language": "python",
   "name": "python3"
  },
  "language_info": {
   "codemirror_mode": {
    "name": "ipython",
    "version": 3
   },
   "file_extension": ".py",
   "mimetype": "text/x-python",
   "name": "python",
   "nbconvert_exporter": "python",
   "pygments_lexer": "ipython3",
   "version": "3.7.6"
  }
 },
 "nbformat": 4,
 "nbformat_minor": 5
}
