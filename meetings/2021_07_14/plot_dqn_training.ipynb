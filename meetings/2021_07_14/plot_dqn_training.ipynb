{
 "cells": [
  {
   "cell_type": "code",
   "execution_count": null,
   "id": "42724610",
   "metadata": {},
   "outputs": [],
   "source": [
    "import pandas as pd\n",
    "from utils.misc import add_column\n",
    "import plotly.express as px"
   ]
  },
  {
   "cell_type": "code",
   "execution_count": null,
   "id": "8be0ff13",
   "metadata": {},
   "outputs": [],
   "source": [
    "df_loss = pd.read_csv('result/dqn_2_5/losses.csv')\n",
    "df_reward = pd.read_csv('result/dqn_2_5/reward_history.csv')"
   ]
  },
  {
   "cell_type": "code",
   "execution_count": null,
   "id": "2130b4f6",
   "metadata": {},
   "outputs": [],
   "source": [
    "px.line(df_loss, x='episode', y=['loss_final_state', 'loss_other'], hover_data=['step'])"
   ]
  },
  {
   "cell_type": "code",
   "execution_count": null,
   "id": "69b78163",
   "metadata": {},
   "outputs": [],
   "source": []
  },
  {
   "cell_type": "code",
   "execution_count": null,
   "id": "0ac4ef54",
   "metadata": {},
   "outputs": [],
   "source": []
  },
  {
   "cell_type": "code",
   "execution_count": null,
   "id": "004a7497",
   "metadata": {},
   "outputs": [],
   "source": [
    "# to make a meaningful plot (before we set up validation data and evaluate after every-n epochs),\n",
    "# subset to example IDs that have at least one evaluation point <=ep_100 and one >=ep_700\n",
    "df_tmp_min = df_reward[['example_id', 'episode']].groupby('example_id', as_index=False).agg('min')\n",
    "df_tmp_max = df_reward[['example_id', 'episode']].groupby('example_id', as_index=False).agg('max')\n",
    "example_id_satisfying_condition = set(df_tmp_min[df_tmp_min['episode'] <= 100]['example_id']).intersection(set(df_tmp_max[df_tmp_max['episode'] >= 700]['example_id']))\n",
    "df_reward = df_reward[df_reward['example_id'].isin(example_id_satisfying_condition)]\n"
   ]
  },
  {
   "cell_type": "code",
   "execution_count": null,
   "id": "f2a38c65",
   "metadata": {},
   "outputs": [],
   "source": [
    "# # reward of different examples have different dynamic scale, to make the plot more readable,\n",
    "# # we normalize everything to be within [0, 1]\n",
    "# df_r_min = df_reward[['example_id', 'reward']].groupby('example_id', as_index=False).agg('min')\n",
    "# df_r_max = df_reward[['example_id', 'reward']].groupby('example_id', as_index=False).agg('max')\n",
    "# df_tmp = pd.merge(df_reward, df_r_min.rename(columns={'reward': 'r_min'}), \n",
    "#                   on='example_id', how='left')\n",
    "# df_tmp = pd.merge(df_tmp, df_r_max.rename(columns={'reward': 'r_max'}), \n",
    "#                   on='example_id', how='left')\n",
    "# # linear transformation so that r_min -> 0, r_max -> 1\n",
    "# # y = a * x + b, where a = 1/(r_max - r_min), and b = r_min/(r_min - r_max)\n",
    "# # for the special case where r_min == r_max, return 0.5\n",
    "\n",
    "# def reward_transform(reward, r_min, r_max):\n",
    "#     # special case:\n",
    "#     if r_min == r_max:\n",
    "#         return 0.5\n",
    "#     a = 1/(r_max - r_min)\n",
    "#     b = r_min/(r_min - r_max)\n",
    "#     return reward * a + b\n",
    "\n",
    "# df_tmp = add_column(df_tmp, 'reward_normalized', ['reward', 'r_min', 'r_max'],\n",
    "#                    reward_transform)"
   ]
  },
  {
   "cell_type": "code",
   "execution_count": null,
   "id": "a152dcce",
   "metadata": {},
   "outputs": [],
   "source": [
    "# df_tmp['reward_normalized'].describe()"
   ]
  },
  {
   "cell_type": "code",
   "execution_count": null,
   "id": "cbf748ae",
   "metadata": {},
   "outputs": [],
   "source": [
    "df_reward_diff = []\n",
    "\n",
    "for example_id in df_reward['example_id'].unique():\n",
    "#     print(example_id)\n",
    "    df_tmp = df_reward[df_reward['example_id'] == example_id]\n",
    "    episode_min = df_tmp['episode'].min()\n",
    "    episode_max = df_tmp['episode'].max()\n",
    "    reward_at_ep_min = df_tmp[df_tmp['episode'] == episode_min].iloc[0]['reward']\n",
    "    reward_at_ep_max = df_tmp[df_tmp['episode'] == episode_max].iloc[0]['reward']\n",
    "#     print(episode_min, reward_at_ep_min)\n",
    "#     print(episode_max, reward_at_ep_max)\n",
    "    df_reward_diff.append({\n",
    "        'example_id': example_id,\n",
    "        'episode_min': episode_min,\n",
    "        'episode_max': episode_max,\n",
    "        'reward_at_ep_min': reward_at_ep_min,\n",
    "        'reward_at_ep_max': reward_at_ep_max,\n",
    "        'reward_increase': reward_at_ep_max - reward_at_ep_min,\n",
    "    })\n",
    "df_reward_diff = pd.DataFrame(df_reward_diff)"
   ]
  },
  {
   "cell_type": "code",
   "execution_count": null,
   "id": "e80774d5",
   "metadata": {},
   "outputs": [],
   "source": []
  },
  {
   "cell_type": "code",
   "execution_count": null,
   "id": "82bc5a7a",
   "metadata": {},
   "outputs": [],
   "source": [
    "px.line(df_reward,\n",
    "        x='episode', y='reward', color='example_id')"
   ]
  },
  {
   "cell_type": "code",
   "execution_count": null,
   "id": "65f95edd",
   "metadata": {},
   "outputs": [],
   "source": [
    "df_reward_diff"
   ]
  },
  {
   "cell_type": "code",
   "execution_count": null,
   "id": "8c6cc1aa",
   "metadata": {},
   "outputs": [],
   "source": [
    "px.bar(df_reward_diff.sort_values(by=['reward_increase']).reset_index(drop=True),\n",
    "       y='reward_increase', hover_data=['example_id', 'episode_min', 'episode_max',\n",
    "                                                       'reward_at_ep_min', 'reward_at_ep_max'])"
   ]
  },
  {
   "cell_type": "code",
   "execution_count": null,
   "id": "9104f8e8",
   "metadata": {},
   "outputs": [],
   "source": []
  }
 ],
 "metadata": {
  "kernelspec": {
   "display_name": "Python 3",
   "language": "python",
   "name": "python3"
  },
  "language_info": {
   "codemirror_mode": {
    "name": "ipython",
    "version": 3
   },
   "file_extension": ".py",
   "mimetype": "text/x-python",
   "name": "python",
   "nbconvert_exporter": "python",
   "pygments_lexer": "ipython3",
   "version": "3.7.6"
  }
 },
 "nbformat": 4,
 "nbformat_minor": 5
}
