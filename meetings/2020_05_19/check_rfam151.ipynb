{
 "cells": [
  {
   "cell_type": "code",
   "execution_count": 21,
   "metadata": {},
   "outputs": [],
   "source": [
    "import pandas as pd\n",
    "import numpy as np\n",
    "from dgutils.pandas import add_columns"
   ]
  },
  {
   "cell_type": "code",
   "execution_count": 2,
   "metadata": {},
   "outputs": [],
   "source": [
    "df_dataset = pd.read_pickle('/Users/alicegao/work/psi-lab-sandbox/rna_ss/data_processing/rna_cg/data/rfam.pkl')\n",
    "df_pred = pd.read_pickle('/Users/alicegao/work/psi-lab-sandbox/rna_ss/tools/e2efold_2/e2efold_productive/tmp/rfam151.pkl')"
   ]
  },
  {
   "cell_type": "code",
   "execution_count": 5,
   "metadata": {},
   "outputs": [],
   "source": [
    "df = pd.merge(df_dataset, df_pred, on='seq')"
   ]
  },
  {
   "cell_type": "code",
   "execution_count": 9,
   "metadata": {},
   "outputs": [
    {
     "data": {
      "text/html": [
       "<div>\n",
       "<style scoped>\n",
       "    .dataframe tbody tr th:only-of-type {\n",
       "        vertical-align: middle;\n",
       "    }\n",
       "\n",
       "    .dataframe tbody tr th {\n",
       "        vertical-align: top;\n",
       "    }\n",
       "\n",
       "    .dataframe thead th {\n",
       "        text-align: right;\n",
       "    }\n",
       "</style>\n",
       "<table border=\"1\" class=\"dataframe\">\n",
       "  <thead>\n",
       "    <tr style=\"text-align: right;\">\n",
       "      <th></th>\n",
       "      <th>len</th>\n",
       "      <th>one_idx</th>\n",
       "      <th>seq</th>\n",
       "      <th>seq_id</th>\n",
       "      <th>pred_idx</th>\n",
       "    </tr>\n",
       "  </thead>\n",
       "  <tbody>\n",
       "    <tr>\n",
       "      <th>0</th>\n",
       "      <td>117</td>\n",
       "      <td>([0, 1, 2, 3, 4, 5, 6, 7, 8, 13, 14, 16, 17, 1...</td>\n",
       "      <td>UUCGGUGGUUAUAGCGGUGGGGAAACACCCGGUCCCAUUCCGAACC...</td>\n",
       "      <td>RF00001_A</td>\n",
       "      <td>[[0, 1, 2, 3, 4, 5, 6, 7, 13, 14, 15, 16, 17, ...</td>\n",
       "    </tr>\n",
       "    <tr>\n",
       "      <th>1</th>\n",
       "      <td>150</td>\n",
       "      <td>([32, 33, 35, 36, 43, 44, 45, 46, 47, 58, 59, ...</td>\n",
       "      <td>UAGCUUCAGCGAUGGAUCGGUUGCAUCGAGUAUCGAUGAAGAACGC...</td>\n",
       "      <td>RF00002_B</td>\n",
       "      <td>[[2, 4, 13, 14, 17, 21, 22, 26, 29, 30, 33, 35...</td>\n",
       "    </tr>\n",
       "    <tr>\n",
       "      <th>2</th>\n",
       "      <td>161</td>\n",
       "      <td>([11, 12, 13, 14, 15, 16, 17, 18, 19, 20, 22, ...</td>\n",
       "      <td>AUACUUACCUGGACGGGGUCAAUGGAUGAUCUAUAAGGUCCAUGGC...</td>\n",
       "      <td>RF00003_B</td>\n",
       "      <td>[[5, 14, 22, 35, 48, 49, 70, 75, 101, 119, 143...</td>\n",
       "    </tr>\n",
       "    <tr>\n",
       "      <th>3</th>\n",
       "      <td>145</td>\n",
       "      <td>([6, 7, 8, 10, 11, 12, 13, 46, 47, 48, 49, 50,...</td>\n",
       "      <td>AUAUCUUCUCGGCUAUUUAGCUAAGAUCAAGUUAUUAAACUGUUCU...</td>\n",
       "      <td>RF00004_A</td>\n",
       "      <td>[[9, 12, 13, 19, 19, 19, 19, 19, 19, 19, 19, 1...</td>\n",
       "    </tr>\n",
       "    <tr>\n",
       "      <th>4</th>\n",
       "      <td>72</td>\n",
       "      <td>([0, 1, 2, 3, 4, 5, 6, 9, 10, 11, 12, 25, 26, ...</td>\n",
       "      <td>GGGCCCAUAGCUCAGUGGUAGAGUGCCUCCUUUGCAAGGAGGAUGC...</td>\n",
       "      <td>RF00005_A</td>\n",
       "      <td>[[0, 1, 2, 3, 4, 5, 6, 9, 10, 11, 12, 25, 26, ...</td>\n",
       "    </tr>\n",
       "  </tbody>\n",
       "</table>\n",
       "</div>"
      ],
      "text/plain": [
       "   len                                            one_idx  \\\n",
       "0  117  ([0, 1, 2, 3, 4, 5, 6, 7, 8, 13, 14, 16, 17, 1...   \n",
       "1  150  ([32, 33, 35, 36, 43, 44, 45, 46, 47, 58, 59, ...   \n",
       "2  161  ([11, 12, 13, 14, 15, 16, 17, 18, 19, 20, 22, ...   \n",
       "3  145  ([6, 7, 8, 10, 11, 12, 13, 46, 47, 48, 49, 50,...   \n",
       "4   72  ([0, 1, 2, 3, 4, 5, 6, 9, 10, 11, 12, 25, 26, ...   \n",
       "\n",
       "                                                 seq     seq_id  \\\n",
       "0  UUCGGUGGUUAUAGCGGUGGGGAAACACCCGGUCCCAUUCCGAACC...  RF00001_A   \n",
       "1  UAGCUUCAGCGAUGGAUCGGUUGCAUCGAGUAUCGAUGAAGAACGC...  RF00002_B   \n",
       "2  AUACUUACCUGGACGGGGUCAAUGGAUGAUCUAUAAGGUCCAUGGC...  RF00003_B   \n",
       "3  AUAUCUUCUCGGCUAUUUAGCUAAGAUCAAGUUAUUAAACUGUUCU...  RF00004_A   \n",
       "4  GGGCCCAUAGCUCAGUGGUAGAGUGCCUCCUUUGCAAGGAGGAUGC...  RF00005_A   \n",
       "\n",
       "                                            pred_idx  \n",
       "0  [[0, 1, 2, 3, 4, 5, 6, 7, 13, 14, 15, 16, 17, ...  \n",
       "1  [[2, 4, 13, 14, 17, 21, 22, 26, 29, 30, 33, 35...  \n",
       "2  [[5, 14, 22, 35, 48, 49, 70, 75, 101, 119, 143...  \n",
       "3  [[9, 12, 13, 19, 19, 19, 19, 19, 19, 19, 19, 1...  \n",
       "4  [[0, 1, 2, 3, 4, 5, 6, 9, 10, 11, 12, 25, 26, ...  "
      ]
     },
     "execution_count": 9,
     "metadata": {},
     "output_type": "execute_result"
    }
   ],
   "source": [
    "df.head()"
   ]
  },
  {
   "cell_type": "code",
   "execution_count": null,
   "metadata": {},
   "outputs": [],
   "source": []
  },
  {
   "cell_type": "code",
   "execution_count": null,
   "metadata": {},
   "outputs": [],
   "source": []
  },
  {
   "cell_type": "code",
   "execution_count": 18,
   "metadata": {},
   "outputs": [],
   "source": [
    "class EvalMetric(object):\n",
    "\n",
    "#     @staticmethod\n",
    "#     def _check_arr(arr):\n",
    "#         assert len(arr.shape) == 2\n",
    "#         assert arr.shape[0] == arr.shape[1]\n",
    "#         assert np.all((arr == 0) | (arr == 1))\n",
    "#         assert np.max(np.sum(arr, axis=0)) <= 1\n",
    "#         assert np.max(np.sum(arr, axis=1)) <= 1\n",
    "\n",
    "    @staticmethod\n",
    "    def sensitivity(_pred, _target):\n",
    "        # numerator: number of correct predicted base pairs\n",
    "        # denominator: number of true base pairs\n",
    "        assert _pred.shape[0] == _target.shape[0]\n",
    "        n = _pred.shape[0]\n",
    "        # set lower triangular to be all 0's\n",
    "        pred = _pred.copy()\n",
    "        target = _target.copy()\n",
    "        pred[np.tril_indices(n)] = 0\n",
    "        target[np.tril_indices(n)] = 0\n",
    "        # checks\n",
    "#         EvalMetric._check_arr(pred)\n",
    "#         EvalMetric._check_arr(target)\n",
    "        # metric\n",
    "        idx_true_base_pair = np.where(target == 1)\n",
    "        return float(np.sum(pred[idx_true_base_pair]))/np.sum(target)\n",
    "\n",
    "    @staticmethod\n",
    "    def ppv(_pred, _target):\n",
    "        # numerator: number of correct predicted base pairs\n",
    "        # denominator: number of predicted base pairs\n",
    "        assert _pred.shape[0] == _target.shape[0]\n",
    "        n = _pred.shape[0]\n",
    "        # set lower triangular to be all 0's\n",
    "        pred = _pred.copy()\n",
    "        target = _target.copy()\n",
    "        pred[np.tril_indices(n)] = 0\n",
    "        target[np.tril_indices(n)] = 0\n",
    "        # checks\n",
    "#         EvalMetric._check_arr(pred)\n",
    "#         EvalMetric._check_arr(target)\n",
    "        # metric\n",
    "        idx_predicted_base_pair = np.where(pred == 1)\n",
    "        return float(np.sum(target[idx_predicted_base_pair])/np.sum(pred))\n",
    "\n",
    "    @staticmethod\n",
    "    def f_measure(sensitivity, ppv):\n",
    "        return (2 * sensitivity * ppv)/(sensitivity + ppv)"
   ]
  },
  {
   "cell_type": "code",
   "execution_count": 19,
   "metadata": {},
   "outputs": [],
   "source": [
    "eval_metric = EvalMetric()"
   ]
  },
  {
   "cell_type": "code",
   "execution_count": null,
   "metadata": {},
   "outputs": [],
   "source": []
  },
  {
   "cell_type": "code",
   "execution_count": 22,
   "metadata": {},
   "outputs": [],
   "source": [
    "def add_metrics(seq_len, one_idx, pred_idx):\n",
    "    arr_target = np.zeros((seq_len, seq_len))\n",
    "    arr_target[one_idx] = 1\n",
    "    arr_pred = np.zeros((seq_len, seq_len))\n",
    "    arr_pred[pred_idx] = 1\n",
    "\n",
    "    sensitivity = eval_metric.sensitivity(arr_pred, arr_target)\n",
    "    ppv = eval_metric.ppv(arr_pred, arr_target)\n",
    "    f_measure = eval_metric.f_measure(sensitivity, ppv)\n",
    "    \n",
    "    return sensitivity, ppv, f_measure"
   ]
  },
  {
   "cell_type": "code",
   "execution_count": 23,
   "metadata": {},
   "outputs": [
    {
     "name": "stderr",
     "output_type": "stream",
     "text": [
      "/Users/alicegao/anaconda2/envs/gk_mz_plot/lib/python2.7/site-packages/ipykernel_launcher.py:5: FutureWarning: Using a non-tuple sequence for multidimensional indexing is deprecated; use `arr[tuple(seq)]` instead of `arr[seq]`. In the future this will be interpreted as an array index, `arr[np.array(seq)]`, which will result either in an error or a different result.\n",
      "  \"\"\"\n",
      "/Users/alicegao/anaconda2/envs/gk_mz_plot/lib/python2.7/site-packages/ipykernel_launcher.py:49: RuntimeWarning: invalid value encountered in double_scalars\n"
     ]
    }
   ],
   "source": [
    "df = add_columns(df, ['sensitivity', 'ppv', 'f_measure'], ['len', 'one_idx', 'pred_idx'], add_metrics)"
   ]
  },
  {
   "cell_type": "code",
   "execution_count": 24,
   "metadata": {
    "scrolled": false
   },
   "outputs": [],
   "source": [
    "# for _, row in df.iterrows():\n",
    "    \n",
    "#     seq_len = row['len']\n",
    "#     one_idx = row['one_idx']\n",
    "#     pred_idx = row['pred_idx']\n",
    "\n",
    "#     print(row['seq'])\n",
    "    \n",
    "#     arr_target = np.zeros((seq_len, seq_len))\n",
    "#     arr_target[one_idx] = 1\n",
    "#     arr_pred = np.zeros((seq_len, seq_len))\n",
    "#     arr_pred[pred_idx] = 1\n",
    "\n",
    "#     sensitivity = eval_metric.sensitivity(arr_pred, arr_target)\n",
    "#     ppv = eval_metric.ppv(arr_pred, arr_target)\n",
    "#     f_measure = eval_metric.f_measure(sensitivity, ppv)\n",
    "\n",
    "#     print(sensitivity, ppv, f_measure)"
   ]
  },
  {
   "cell_type": "code",
   "execution_count": 27,
   "metadata": {
    "scrolled": false
   },
   "outputs": [],
   "source": [
    "# df[['seq_id', 'len', 'sensitivity', 'ppv', 'f_measure', 'seq']]"
   ]
  },
  {
   "cell_type": "code",
   "execution_count": 28,
   "metadata": {},
   "outputs": [
    {
     "data": {
      "text/html": [
       "<div>\n",
       "<style scoped>\n",
       "    .dataframe tbody tr th:only-of-type {\n",
       "        vertical-align: middle;\n",
       "    }\n",
       "\n",
       "    .dataframe tbody tr th {\n",
       "        vertical-align: top;\n",
       "    }\n",
       "\n",
       "    .dataframe thead th {\n",
       "        text-align: right;\n",
       "    }\n",
       "</style>\n",
       "<table border=\"1\" class=\"dataframe\">\n",
       "  <thead>\n",
       "    <tr style=\"text-align: right;\">\n",
       "      <th></th>\n",
       "      <th>f_measure</th>\n",
       "      <th>len</th>\n",
       "      <th>ppv</th>\n",
       "      <th>sensitivity</th>\n",
       "    </tr>\n",
       "  </thead>\n",
       "  <tbody>\n",
       "    <tr>\n",
       "      <th>count</th>\n",
       "      <td>75.000000</td>\n",
       "      <td>151.000000</td>\n",
       "      <td>151.000000</td>\n",
       "      <td>151.000000</td>\n",
       "    </tr>\n",
       "    <tr>\n",
       "      <th>mean</th>\n",
       "      <td>0.132609</td>\n",
       "      <td>136.298013</td>\n",
       "      <td>0.088511</td>\n",
       "      <td>0.059149</td>\n",
       "    </tr>\n",
       "    <tr>\n",
       "      <th>std</th>\n",
       "      <td>0.169848</td>\n",
       "      <td>102.036451</td>\n",
       "      <td>0.164590</td>\n",
       "      <td>0.136486</td>\n",
       "    </tr>\n",
       "    <tr>\n",
       "      <th>min</th>\n",
       "      <td>0.012158</td>\n",
       "      <td>23.000000</td>\n",
       "      <td>0.000000</td>\n",
       "      <td>0.000000</td>\n",
       "    </tr>\n",
       "    <tr>\n",
       "      <th>25%</th>\n",
       "      <td>0.041241</td>\n",
       "      <td>67.000000</td>\n",
       "      <td>0.000000</td>\n",
       "      <td>0.000000</td>\n",
       "    </tr>\n",
       "    <tr>\n",
       "      <th>50%</th>\n",
       "      <td>0.066667</td>\n",
       "      <td>104.000000</td>\n",
       "      <td>0.000000</td>\n",
       "      <td>0.000000</td>\n",
       "    </tr>\n",
       "    <tr>\n",
       "      <th>75%</th>\n",
       "      <td>0.147099</td>\n",
       "      <td>158.500000</td>\n",
       "      <td>0.102632</td>\n",
       "      <td>0.053813</td>\n",
       "    </tr>\n",
       "    <tr>\n",
       "      <th>max</th>\n",
       "      <td>1.000000</td>\n",
       "      <td>568.000000</td>\n",
       "      <td>1.000000</td>\n",
       "      <td>1.000000</td>\n",
       "    </tr>\n",
       "  </tbody>\n",
       "</table>\n",
       "</div>"
      ],
      "text/plain": [
       "       f_measure         len         ppv  sensitivity\n",
       "count  75.000000  151.000000  151.000000   151.000000\n",
       "mean    0.132609  136.298013    0.088511     0.059149\n",
       "std     0.169848  102.036451    0.164590     0.136486\n",
       "min     0.012158   23.000000    0.000000     0.000000\n",
       "25%     0.041241   67.000000    0.000000     0.000000\n",
       "50%     0.066667  104.000000    0.000000     0.000000\n",
       "75%     0.147099  158.500000    0.102632     0.053813\n",
       "max     1.000000  568.000000    1.000000     1.000000"
      ]
     },
     "execution_count": 28,
     "metadata": {},
     "output_type": "execute_result"
    }
   ],
   "source": [
    "df.describe()"
   ]
  },
  {
   "cell_type": "code",
   "execution_count": null,
   "metadata": {},
   "outputs": [],
   "source": []
  },
  {
   "cell_type": "code",
   "execution_count": 29,
   "metadata": {},
   "outputs": [],
   "source": [
    "# df.iloc[3].pred_idx  # suspicious?"
   ]
  },
  {
   "cell_type": "code",
   "execution_count": null,
   "metadata": {},
   "outputs": [],
   "source": []
  }
 ],
 "metadata": {
  "kernelspec": {
   "display_name": "Python 2",
   "language": "python",
   "name": "python2"
  },
  "language_info": {
   "codemirror_mode": {
    "name": "ipython",
    "version": 2
   },
   "file_extension": ".py",
   "mimetype": "text/x-python",
   "name": "python",
   "nbconvert_exporter": "python",
   "pygments_lexer": "ipython2",
   "version": "2.7.15"
  }
 },
 "nbformat": 4,
 "nbformat_minor": 2
}
