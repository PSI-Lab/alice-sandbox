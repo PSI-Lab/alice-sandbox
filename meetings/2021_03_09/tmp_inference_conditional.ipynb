{
 "cells": [
  {
   "cell_type": "code",
   "execution_count": null,
   "id": "scheduled-winter",
   "metadata": {},
   "outputs": [],
   "source": [
    "from tqdm import tqdm"
   ]
  },
  {
   "cell_type": "code",
   "execution_count": null,
   "id": "accurate-order",
   "metadata": {},
   "outputs": [],
   "source": [
    "import pandas as pd"
   ]
  },
  {
   "cell_type": "code",
   "execution_count": null,
   "id": "overhead-repeat",
   "metadata": {},
   "outputs": [],
   "source": [
    "import plotly.express as px"
   ]
  },
  {
   "cell_type": "code",
   "execution_count": null,
   "id": "alpha-manufacturer",
   "metadata": {},
   "outputs": [],
   "source": [
    "from model_utils.util_global_struct import process_bb_old_to_new"
   ]
  },
  {
   "cell_type": "code",
   "execution_count": null,
   "id": "paperback-duration",
   "metadata": {},
   "outputs": [],
   "source": [
    "from model_utils.utils_model_s1_cvae_conditional_prior import Predictor"
   ]
  },
  {
   "cell_type": "code",
   "execution_count": null,
   "id": "featured-happiness",
   "metadata": {},
   "outputs": [],
   "source": [
    "# model_path = 's1_training/result/run_6/model_ckpt_ep_99.pth'\n",
    "\n",
    "# model_path = 's1_training/result/run_5/model_ckpt_ep_99.pth'\n",
    "\n",
    "# model_path = 's1_training/result/run_3/model_ckpt_ep_49.pth'\n",
    "\n",
    "# model_path = 's1_training/result/run_4/model_ckpt_ep_99.pth'\n",
    "# predictor = Predictor(model_path)\n",
    "\n",
    "model_path = 's1_training/result/run_8/model_ckpt_ep_160.pth'\n",
    "predictor = Predictor(model_path, latent_dim=50)\n",
    "\n",
    "\n"
   ]
  },
  {
   "cell_type": "code",
   "execution_count": null,
   "id": "latter-strength",
   "metadata": {},
   "outputs": [],
   "source": []
  },
  {
   "cell_type": "code",
   "execution_count": null,
   "id": "rental-algorithm",
   "metadata": {},
   "outputs": [],
   "source": [
    "df = pd.read_pickle('data/synthetic_bb_dist.len10_100.num100.sample100.pkl.gz')"
   ]
  },
  {
   "cell_type": "code",
   "execution_count": null,
   "id": "remarkable-dryer",
   "metadata": {},
   "outputs": [],
   "source": [
    "# df = df[df['seq_id'] == 80]\n",
    "\n",
    "# df = df[df['seq_id'] == 90]\n",
    "\n",
    "# df = df[df['seq_id'] == 30]\n",
    "\n",
    "df = df[df['seq_id'] == 44]\n",
    "\n",
    "assert df['seq'].nunique() == 1\n",
    "seq = df.iloc[0]['seq']\n",
    "print(len(seq))"
   ]
  },
  {
   "cell_type": "code",
   "execution_count": null,
   "id": "pediatric-cherry",
   "metadata": {},
   "outputs": [],
   "source": [
    "df"
   ]
  },
  {
   "cell_type": "code",
   "execution_count": null,
   "id": "naked-permit",
   "metadata": {},
   "outputs": [],
   "source": [
    "# find out unique bounding boxes and their frequencies\n",
    "df_ground_truth_dist = []\n",
    "for _, row in df.iterrows():\n",
    "    tmp = process_bb_old_to_new(row['bounding_boxes'])\n",
    "    df_ground_truth_dist.append(tmp)\n",
    "df_ground_truth_dist = pd.concat(df_ground_truth_dist)\n",
    "\n",
    "# reduce to unique ones, and count\n",
    "df_ground_truth_dist = df_ground_truth_dist.groupby(by=['bb_x', 'bb_y', 'siz_x', 'siz_y', 'bb_type']).size().reset_index(name='count')\n",
    "\n",
    "# sort by bb_type, then loc and size, just for easy visualization\n",
    "df_ground_truth_dist = df_ground_truth_dist.sort_values(by=['bb_type', 'bb_x', 'bb_y', 'siz_x', 'siz_y'])"
   ]
  },
  {
   "cell_type": "code",
   "execution_count": null,
   "id": "similar-banner",
   "metadata": {},
   "outputs": [],
   "source": [
    "# df_ground_truth_dist"
   ]
  },
  {
   "cell_type": "code",
   "execution_count": null,
   "id": "entitled-shaft",
   "metadata": {},
   "outputs": [],
   "source": [
    "len(df)"
   ]
  },
  {
   "cell_type": "code",
   "execution_count": null,
   "id": "efficient-interference",
   "metadata": {},
   "outputs": [],
   "source": []
  },
  {
   "cell_type": "code",
   "execution_count": null,
   "id": "forward-taiwan",
   "metadata": {},
   "outputs": [],
   "source": [
    "# sample z len(df) times \n",
    "# find unique bb and their count\n",
    "\n",
    "df_pred_dist = []\n",
    "\n",
    "for _ in tqdm(range(len(df))):\n",
    "    uniq_stem, uniq_iloop, uniq_hloop = predictor.predict_bb(seq, threshold=0.1, topk=1, perc_cutoff=0, seq2=None, mask=None)\n",
    "    if uniq_stem:\n",
    "        tmp = pd.DataFrame(uniq_stem)[['bb_x', 'bb_y', 'siz_x', 'siz_y']]\n",
    "        tmp['bb_type'] = 'stem'\n",
    "        df_pred_dist.append(tmp)\n",
    "    if uniq_iloop:\n",
    "        tmp = pd.DataFrame(uniq_iloop)[['bb_x', 'bb_y', 'siz_x', 'siz_y']]\n",
    "        tmp['bb_type'] = 'iloop'\n",
    "        df_pred_dist.append(tmp)\n",
    "    if uniq_hloop:\n",
    "        tmp = pd.DataFrame(uniq_hloop)[['bb_x', 'bb_y', 'siz_x', 'siz_y']]\n",
    "        tmp['bb_type'] = 'hloop'\n",
    "        df_pred_dist.append(tmp)\n",
    "        \n",
    "df_pred_dist = pd.concat(df_pred_dist)\n",
    "        \n",
    "# reduce to unique ones, and count\n",
    "df_pred_dist = df_pred_dist.groupby(by=['bb_x', 'bb_y', 'siz_x', 'siz_y', 'bb_type']).size().reset_index(name='count')\n",
    "\n",
    "# sort by bb_type, then loc and size, just for easy visualization\n",
    "df_pred_dist = df_pred_dist.sort_values(by=['bb_type', 'bb_x', 'bb_y', 'siz_x', 'siz_y'])"
   ]
  },
  {
   "cell_type": "code",
   "execution_count": null,
   "id": "alpha-planner",
   "metadata": {},
   "outputs": [],
   "source": [
    "# df_pred_dist"
   ]
  },
  {
   "cell_type": "code",
   "execution_count": null,
   "id": "choice-cattle",
   "metadata": {},
   "outputs": [],
   "source": []
  },
  {
   "cell_type": "code",
   "execution_count": null,
   "id": "labeled-winning",
   "metadata": {},
   "outputs": [],
   "source": [
    "# join the two dfs\n",
    "# outer join\n",
    "tmp = pd.merge(df_ground_truth_dist, df_pred_dist, \n",
    "               on=['bb_type', 'bb_x', 'bb_y', 'siz_x', 'siz_y'],\n",
    "               suffixes=('_tgt', '_pred'),\n",
    "              how='outer')"
   ]
  },
  {
   "cell_type": "code",
   "execution_count": null,
   "id": "expired-fleet",
   "metadata": {},
   "outputs": [],
   "source": [
    "tmp.head(50)"
   ]
  },
  {
   "cell_type": "code",
   "execution_count": null,
   "id": "usual-biology",
   "metadata": {},
   "outputs": [],
   "source": [
    "# plot\n",
    "# color/shape: bb_type\n",
    "# x axis: tgt count\n",
    "# y axis: pred count\n",
    "# each point is a unique bb\n",
    "\n",
    "# replace NaN count with 0 \n",
    "df_plot = tmp.fillna(0)\n",
    "\n",
    "fig = px.scatter(df_plot, x='count_tgt', y='count_pred', color='bb_type', hover_data=['bb_type', 'bb_x', 'bb_y', 'siz_x', 'siz_y'])\n",
    "fig.update_layout(title=\"seq_id {} len {} {}<br>model: {}\".format(row['seq_id'], len(row['seq']), row['seq'], model_path))"
   ]
  },
  {
   "cell_type": "code",
   "execution_count": null,
   "id": "arranged-spectacular",
   "metadata": {},
   "outputs": [],
   "source": []
  },
  {
   "cell_type": "code",
   "execution_count": null,
   "id": "unauthorized-taiwan",
   "metadata": {},
   "outputs": [],
   "source": []
  },
  {
   "cell_type": "code",
   "execution_count": null,
   "id": "competent-booth",
   "metadata": {},
   "outputs": [],
   "source": []
  },
  {
   "cell_type": "code",
   "execution_count": null,
   "id": "naked-parks",
   "metadata": {},
   "outputs": [],
   "source": [
    "# TODO focus on one pixel (construct a toy example sequence)"
   ]
  },
  {
   "cell_type": "code",
   "execution_count": null,
   "id": "north-headset",
   "metadata": {},
   "outputs": [],
   "source": []
  }
 ],
 "metadata": {
  "kernelspec": {
   "display_name": "Python 3",
   "language": "python",
   "name": "python3"
  },
  "language_info": {
   "codemirror_mode": {
    "name": "ipython",
    "version": 3
   },
   "file_extension": ".py",
   "mimetype": "text/x-python",
   "name": "python",
   "nbconvert_exporter": "python",
   "pygments_lexer": "ipython3",
   "version": "3.7.6"
  }
 },
 "nbformat": 4,
 "nbformat_minor": 5
}
