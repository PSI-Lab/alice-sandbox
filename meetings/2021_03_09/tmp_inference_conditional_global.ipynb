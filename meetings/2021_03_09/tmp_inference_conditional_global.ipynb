{
 "cells": [
  {
   "cell_type": "code",
   "execution_count": null,
   "id": "scheduled-winter",
   "metadata": {},
   "outputs": [],
   "source": [
    "from tqdm import tqdm"
   ]
  },
  {
   "cell_type": "code",
   "execution_count": null,
   "id": "accurate-order",
   "metadata": {},
   "outputs": [],
   "source": [
    "import numpy as np\n",
    "import pandas as pd"
   ]
  },
  {
   "cell_type": "code",
   "execution_count": null,
   "id": "overhead-repeat",
   "metadata": {},
   "outputs": [],
   "source": [
    "import plotly.express as px\n",
    "from plotly.subplots import make_subplots\n",
    "import plotly.graph_objects as go"
   ]
  },
  {
   "cell_type": "code",
   "execution_count": null,
   "id": "pediatric-flush",
   "metadata": {},
   "outputs": [],
   "source": [
    "from sklearn.metrics import roc_auc_score"
   ]
  },
  {
   "cell_type": "code",
   "execution_count": null,
   "id": "alpha-manufacturer",
   "metadata": {},
   "outputs": [],
   "source": [
    "# from model_utils.util_global_struct import process_bb_old_to_new"
   ]
  },
  {
   "cell_type": "code",
   "execution_count": null,
   "id": "paperback-duration",
   "metadata": {},
   "outputs": [],
   "source": [
    "from model_utils.utils_model_s1_cvae_global_z_bp_matrix import Predictor"
   ]
  },
  {
   "cell_type": "code",
   "execution_count": null,
   "id": "featured-happiness",
   "metadata": {},
   "outputs": [],
   "source": [
    "\n",
    "\n",
    "model_path = 's1_training/result/run_7/model_ckpt_ep_99.pth'\n",
    "\n",
    "\n",
    "predictor = Predictor(model_path, latent_dim=50)\n"
   ]
  },
  {
   "cell_type": "code",
   "execution_count": null,
   "id": "latter-strength",
   "metadata": {},
   "outputs": [],
   "source": []
  },
  {
   "cell_type": "code",
   "execution_count": null,
   "id": "rental-algorithm",
   "metadata": {},
   "outputs": [],
   "source": [
    "df = pd.read_pickle('data/synthetic_bb_dist.len50.num100.sample10.pkl.gz')"
   ]
  },
  {
   "cell_type": "code",
   "execution_count": null,
   "id": "remarkable-dryer",
   "metadata": {},
   "outputs": [],
   "source": [
    "\n",
    "df = df[df['seq_id'] == 1]\n",
    "\n",
    "assert df['seq'].nunique() == 1\n",
    "seq = df.iloc[0]['seq']\n",
    "one_idxs = df['one_idx'].tolist()\n",
    "print(len(seq))"
   ]
  },
  {
   "cell_type": "code",
   "execution_count": null,
   "id": "boolean-nickel",
   "metadata": {},
   "outputs": [],
   "source": [
    "df"
   ]
  },
  {
   "cell_type": "code",
   "execution_count": null,
   "id": "harmful-device",
   "metadata": {},
   "outputs": [],
   "source": []
  },
  {
   "cell_type": "code",
   "execution_count": null,
   "id": "running-lounge",
   "metadata": {},
   "outputs": [],
   "source": [
    "y_pred, mu_p, logvar_p, z = predictor.predict_matrix(seq)\n",
    "px.imshow(y_pred)"
   ]
  },
  {
   "cell_type": "code",
   "execution_count": null,
   "id": "north-headset",
   "metadata": {},
   "outputs": [],
   "source": [
    "print(z)"
   ]
  },
  {
   "cell_type": "code",
   "execution_count": null,
   "id": "necessary-header",
   "metadata": {},
   "outputs": [],
   "source": [
    "print(mu_p)"
   ]
  },
  {
   "cell_type": "code",
   "execution_count": null,
   "id": "beautiful-story",
   "metadata": {},
   "outputs": [],
   "source": [
    "print(logvar_p)"
   ]
  },
  {
   "cell_type": "code",
   "execution_count": null,
   "id": "architectural-blair",
   "metadata": {},
   "outputs": [],
   "source": [
    "# ground truth bp matrix\n",
    "\n",
    "# lazy way to get all unique bp matrices\n",
    "y_target_all = []\n",
    "for one_idx in one_idxs:\n",
    "    tmp = np.zeros((len(seq), len(seq)))\n",
    "    tmp[one_idx] = 1\n",
    "    if any([np.array_equal(a, tmp) for a in y_target_all]):\n",
    "        continue\n",
    "    y_target_all.append(tmp)"
   ]
  },
  {
   "cell_type": "code",
   "execution_count": null,
   "id": "impressive-listing",
   "metadata": {},
   "outputs": [],
   "source": [
    "print(len(y_target_all))"
   ]
  },
  {
   "cell_type": "code",
   "execution_count": null,
   "id": "connected-magazine",
   "metadata": {},
   "outputs": [],
   "source": [
    "\n",
    "\n",
    "\n",
    "fig = make_subplots(rows=2, cols=5)\n",
    "\n",
    "for i, y_target in enumerate(y_target_all):\n",
    "    idx_row = i // 5\n",
    "    idx_col = i % 5\n",
    "    fig.add_trace(\n",
    "        px.imshow(y_target_all[i][::-1,:]).data[0],  # hacky, flip vertically so subplot is un-flipped\n",
    "        row=idx_row+1, col=idx_col+1\n",
    "    )\n",
    "\n",
    "# fig.update_layout(yaxis=dict(autorange=\"reversed\"))\n",
    "# fig.update_layout(height=600, width=800, title_text=\"Side By Side Subplots\")\n",
    "fig.show()"
   ]
  },
  {
   "cell_type": "code",
   "execution_count": null,
   "id": "dependent-clinic",
   "metadata": {},
   "outputs": [],
   "source": [
    "for i, y_target in enumerate(y_target_all):\n",
    "    print(roc_auc_score(y_score=y_pred.flatten(), y_true=y_target.flatten()))"
   ]
  },
  {
   "cell_type": "code",
   "execution_count": null,
   "id": "changed-relation",
   "metadata": {},
   "outputs": [],
   "source": [
    "# px.histogram(y_pred[y_target_all[0]==1])\n",
    "sorted(y_pred[y_target_all[0]==1], reverse=True)"
   ]
  },
  {
   "cell_type": "code",
   "execution_count": null,
   "id": "demanding-designer",
   "metadata": {},
   "outputs": [],
   "source": [
    "# px.histogram(y_pred[y_target_all[0]==0])\n",
    "sorted(y_pred[y_target_all[0]==0], reverse=True)"
   ]
  },
  {
   "cell_type": "code",
   "execution_count": null,
   "id": "speaking-consumer",
   "metadata": {},
   "outputs": [],
   "source": []
  }
 ],
 "metadata": {
  "kernelspec": {
   "display_name": "Python 3",
   "language": "python",
   "name": "python3"
  },
  "language_info": {
   "codemirror_mode": {
    "name": "ipython",
    "version": 3
   },
   "file_extension": ".py",
   "mimetype": "text/x-python",
   "name": "python",
   "nbconvert_exporter": "python",
   "pygments_lexer": "ipython3",
   "version": "3.7.6"
  }
 },
 "nbformat": 4,
 "nbformat_minor": 5
}
