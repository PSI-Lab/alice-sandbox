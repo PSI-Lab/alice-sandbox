{
 "cells": [
  {
   "cell_type": "code",
   "execution_count": 1,
   "id": "neural-singer",
   "metadata": {},
   "outputs": [],
   "source": [
    "import random\n",
    "from tqdm import tqdm"
   ]
  },
  {
   "cell_type": "code",
   "execution_count": 2,
   "id": "average-kruger",
   "metadata": {},
   "outputs": [],
   "source": [
    "from scipy.stats import entropy\n",
    "import numpy as np"
   ]
  },
  {
   "cell_type": "code",
   "execution_count": 3,
   "id": "elect-diabetes",
   "metadata": {},
   "outputs": [],
   "source": [
    "import torch\n",
    "import torch.nn as nn\n",
    "import torch.nn.functional as F\n",
    "import torch.optim as optim\n",
    "from torchvision import datasets, transforms\n",
    "from torch.autograd import Variable"
   ]
  },
  {
   "cell_type": "code",
   "execution_count": 4,
   "id": "crude-mitchell",
   "metadata": {},
   "outputs": [],
   "source": [
    "import matplotlib.pyplot as plt"
   ]
  },
  {
   "cell_type": "code",
   "execution_count": 5,
   "id": "enormous-methodology",
   "metadata": {},
   "outputs": [],
   "source": [
    "bs=20\n",
    "# MNIST Dataset\n",
    "train_dataset = datasets.MNIST(root='./mnist_data/', train=True, transform=transforms.ToTensor(), download=True)\n",
    "test_dataset = datasets.MNIST(root='./mnist_data/', train=False, transform=transforms.ToTensor(), download=False)\n",
    "\n",
    "# Data Loader (Input Pipeline)\n",
    "train_loader = torch.utils.data.DataLoader(dataset=train_dataset, batch_size=bs, shuffle=True)\n",
    "test_loader = torch.utils.data.DataLoader(dataset=test_dataset, batch_size=bs, shuffle=False)"
   ]
  },
  {
   "cell_type": "code",
   "execution_count": null,
   "id": "forced-conservation",
   "metadata": {},
   "outputs": [],
   "source": []
  },
  {
   "cell_type": "code",
   "execution_count": null,
   "id": "sporting-merchant",
   "metadata": {},
   "outputs": [],
   "source": []
  },
  {
   "cell_type": "code",
   "execution_count": 6,
   "id": "vocal-protection",
   "metadata": {},
   "outputs": [],
   "source": [
    "# class CVAE(nn.Module):\n",
    "#     def __init__(self, x_dim, h_dim, z_dim, y_dim):\n",
    "#         super(CVAE, self).__init__()\n",
    "        \n",
    "#         # encoder part\n",
    "#         self.fc1 = nn.Linear(x_dim + y_dim, h_dim)\n",
    "#         self.fc21 = nn.Linear(h_dim, z_dim)\n",
    "#         self.fc22 = nn.Linear(h_dim, z_dim)\n",
    "#         # decoder part\n",
    "#         self.fc3 = nn.Linear(z_dim + x_dim, h_dim)\n",
    "#         self.fc4 = nn.Linear(h_dim, y_dim)\n",
    "    \n",
    "#     def encoder(self, x, y):\n",
    "#         concat_input = torch.cat([x, y], 1)\n",
    "#         h = F.relu(self.fc1(concat_input))\n",
    "#         return self.fc21(h), self.fc22(h)\n",
    "    \n",
    "#     def sampling(self, mu, log_var):\n",
    "#         std = torch.exp(0.5*log_var)\n",
    "#         eps = torch.randn_like(std)\n",
    "#         return eps.mul(std).add(mu) # return z sample\n",
    "    \n",
    "#     def decoder(self, z, x):\n",
    "#         concat_input = torch.cat([z, x.view(-1, 784)], 1)\n",
    "#         h = F.relu(self.fc3(concat_input))\n",
    "#         return F.log_softmax(self.fc4(h))\n",
    "    \n",
    "#     def forward(self, x, y):\n",
    "#         mu, log_var = self.encoder(x.view(-1, 784), y)\n",
    "#         z = self.sampling(mu, log_var)\n",
    "#         return self.decoder(z, x), mu, log_var"
   ]
  },
  {
   "cell_type": "code",
   "execution_count": 7,
   "id": "empirical-karaoke",
   "metadata": {},
   "outputs": [],
   "source": [
    "# # condition after convolution\n",
    "\n",
    "# class CVAE(nn.Module):\n",
    "#     def __init__(self, x_dim, h1_dim, h2_dim, z_dim, y_dim):\n",
    "#         super(CVAE, self).__init__()\n",
    "        \n",
    "#         # encoder part\n",
    "#         self.fc1 = nn.Linear(x_dim, h1_dim)\n",
    "#         self.fc2 = nn.Linear(h1_dim + y_dim, h2_dim)\n",
    "#         self.fc31 = nn.Linear(h2_dim, z_dim)\n",
    "#         self.fc32 = nn.Linear(h2_dim, z_dim)\n",
    "#         # decoder part\n",
    "#         self.fc4 = nn.Linear(x_dim, h1_dim)\n",
    "#         self.fc5 = nn.Linear(h1_dim + y_dim, h2_dim)\n",
    "#         self.fc6 = nn.Linear(h2_dim, y_dim)\n",
    "    \n",
    "#     def encoder(self, x, y):\n",
    "# #         concat_input = torch.cat([x, y], 1)\n",
    "#         h1 = F.relu(self.fc1(x))\n",
    "#         h2 = F.relu(self.fc2(torch.cat([h1, y], 1)))\n",
    "#         return self.fc31(h2), self.fc32(h2)\n",
    "    \n",
    "#     def sampling(self, mu, log_var):\n",
    "#         std = torch.exp(0.5*log_var)\n",
    "#         eps = torch.randn_like(std)\n",
    "#         return eps.mul(std).add(mu) # return z sample\n",
    "    \n",
    "#     def decoder(self, z, x):\n",
    "#         h1 = F.relu(self.fc4(x.view(-1, 784)))\n",
    "#         h2 = F.relu(self.fc5(torch.cat([h1, z], 1)))\n",
    "#         return F.log_softmax(self.fc6(h2))\n",
    "    \n",
    "#     def forward(self, x, y):\n",
    "#         mu, log_var = self.encoder(x.view(-1, 784), y)\n",
    "#         z = self.sampling(mu, log_var)\n",
    "#         return self.decoder(z, x), mu, log_var"
   ]
  },
  {
   "cell_type": "code",
   "execution_count": 8,
   "id": "dated-tourism",
   "metadata": {},
   "outputs": [],
   "source": [
    "# condition after convolution\n",
    "# more hidden layers\n",
    "\n",
    "class CVAE(nn.Module):\n",
    "    def __init__(self, x_dim, hs_dim, z_dim, y_dim, tie_weights=False):\n",
    "        super(CVAE, self).__init__()\n",
    "        \n",
    "        assert len(hs_dim) >= 2\n",
    "        self.tie_weights = tie_weights\n",
    "        \n",
    "        # encoder part for x\n",
    "        self.encode_x = []\n",
    "        for i, h_dim in enumerate(hs_dim[:-1]):\n",
    "            if i == 0:\n",
    "                self.encode_x.append(nn.Linear(x_dim, h_dim))\n",
    "            else:\n",
    "                self.encode_x.append(nn.Linear(hs_dim[i-1], h_dim))\n",
    "        # last layer of encoder combines x and y\n",
    "        self.encode_xy = nn.Linear(hs_dim[-2] + y_dim, hs_dim[-1])\n",
    "        # compute posterior distribution parameters\n",
    "        self.posterior_mean = nn.Linear(hs_dim[-1], z_dim)\n",
    "        self.posterior_logvar = nn.Linear(hs_dim[-1], z_dim)\n",
    "        \n",
    "        # prior network\n",
    "        if not self.tie_weights:\n",
    "            self.prior_x = []\n",
    "            for i, h_dim in enumerate(hs_dim[:-1]):\n",
    "                if i == 0:\n",
    "                    self.prior_x.append(nn.Linear(x_dim, h_dim))\n",
    "                else:\n",
    "                    self.prior_x.append(nn.Linear(hs_dim[i-1], h_dim))\n",
    "        else:\n",
    "            self.prior_x = self.encode_x\n",
    "        self.prior_mean = nn.Linear(hs_dim[-2], z_dim)\n",
    "        self.prior_logvar = nn.Linear(hs_dim[-2], z_dim)\n",
    "        \n",
    "        if not self.tie_weights:\n",
    "            # decoder part for x\n",
    "            self.decode_x = []\n",
    "            for i, h_dim in enumerate(hs_dim[:-1]):\n",
    "                if i == 0:\n",
    "                    self.decode_x.append(nn.Linear(x_dim, h_dim))\n",
    "                else:\n",
    "                    self.decode_x.append(nn.Linear(hs_dim[i-1], h_dim))\n",
    "        else:\n",
    "            self.decode_x = self.encode_x\n",
    "        # last layer of decoder combines x and z\n",
    "        self.decode_xz = nn.Linear(hs_dim[-2] + z_dim, hs_dim[-1])\n",
    "        # compute y\n",
    "        self.output = nn.Linear(hs_dim[-1], y_dim)\n",
    "    \n",
    "    def prior(self, x):\n",
    "        for layer in self.prior_x:\n",
    "            x = F.relu(layer(x))\n",
    "        return self.prior_mean(x), self.prior_logvar(x)\n",
    "    \n",
    "    def encoder(self, x, y):\n",
    "        for layer in self.encode_x:\n",
    "            x = F.relu(layer(x))\n",
    "        h = F.relu(self.encode_xy(torch.cat([x, y], 1)))\n",
    "        return self.posterior_mean(h), self.posterior_logvar(h)\n",
    "    \n",
    "    def sampling(self, mu, log_var):\n",
    "        std = torch.exp(0.5*log_var)\n",
    "        eps = torch.randn_like(std)\n",
    "        return eps.mul(std).add(mu) # return z sample\n",
    "    \n",
    "    def decoder(self, z, x):\n",
    "        for layer in self.decode_x:\n",
    "            x = F.relu(layer(x))\n",
    "        h = F.relu(self.decode_xz(torch.cat([x, z], 1)))\n",
    "        return F.log_softmax(self.output(h))\n",
    "    \n",
    "    def forward(self, x, y):\n",
    "        x = x.view(-1, 784)\n",
    "        mu_q, log_var_q = self.encoder(x, y)\n",
    "        mu_p, log_var_p = self.prior(x)\n",
    "        z = self.sampling(mu_q, log_var_q)\n",
    "        return self.decoder(z, x), mu_q, log_var_q, mu_p, log_var_p\n",
    "    \n",
    "    def inference(self, x):\n",
    "        # not efficient for multiple samples since the common part to encode x will be run multiple times!\n",
    "        x = x.view(-1, 784)\n",
    "        mu_p, log_var_p = self.prior(x)\n",
    "        z = self.sampling(mu_p, log_var_p )\n",
    "        return self.decoder(z, x), mu_p, log_var_p"
   ]
  },
  {
   "cell_type": "code",
   "execution_count": null,
   "id": "quantitative-spice",
   "metadata": {},
   "outputs": [],
   "source": []
  },
  {
   "cell_type": "code",
   "execution_count": 9,
   "id": "pressing-cooperation",
   "metadata": {},
   "outputs": [],
   "source": [
    "\n",
    "# z_dim = 10\n",
    "z_dim = 2\n",
    "\n",
    "# cvae = CVAE(x_dim=784, h1_dim=50, h2_dim=10, z_dim=z_dim, y_dim=10)\n",
    "\n",
    "# cvae = CVAE(x_dim=784, hs_dim=[20, 10, 10], z_dim=z_dim, y_dim=10)\n",
    "# cvae = CVAE(x_dim=784, hs_dim=[20, 10, 5], z_dim=z_dim, y_dim=10)\n",
    "# cvae = CVAE(x_dim=784, hs_dim=[50, 10, 5], z_dim=z_dim, y_dim=10)\n",
    "# cvae = CVAE(x_dim=784, hs_dim=[50, 10, 10], z_dim=z_dim, y_dim=10)\n",
    "# cvae = CVAE(x_dim=784, hs_dim=[50, 10], z_dim=z_dim, y_dim=10)\n",
    "# cvae = CVAE(x_dim=784, hs_dim=[50, 10, 5, 10], z_dim=z_dim, y_dim=10)\n",
    "\n",
    "cvae = CVAE(x_dim=784, hs_dim=[20, 10, 10], z_dim=z_dim, y_dim=10, tie_weights=True)"
   ]
  },
  {
   "cell_type": "code",
   "execution_count": null,
   "id": "golden-housing",
   "metadata": {},
   "outputs": [],
   "source": []
  },
  {
   "cell_type": "code",
   "execution_count": 10,
   "id": "considerable-certificate",
   "metadata": {},
   "outputs": [
    {
     "data": {
      "text/plain": [
       "CVAE(\n",
       "  (encode_xy): Linear(in_features=20, out_features=10, bias=True)\n",
       "  (posterior_mean): Linear(in_features=10, out_features=2, bias=True)\n",
       "  (posterior_logvar): Linear(in_features=10, out_features=2, bias=True)\n",
       "  (prior_mean): Linear(in_features=10, out_features=2, bias=True)\n",
       "  (prior_logvar): Linear(in_features=10, out_features=2, bias=True)\n",
       "  (decode_xz): Linear(in_features=12, out_features=10, bias=True)\n",
       "  (output): Linear(in_features=10, out_features=10, bias=True)\n",
       ")"
      ]
     },
     "execution_count": 10,
     "metadata": {},
     "output_type": "execute_result"
    }
   ],
   "source": [
    "cvae"
   ]
  },
  {
   "cell_type": "code",
   "execution_count": null,
   "id": "brown-deviation",
   "metadata": {},
   "outputs": [],
   "source": []
  },
  {
   "cell_type": "code",
   "execution_count": 11,
   "id": "documentary-village",
   "metadata": {},
   "outputs": [],
   "source": [
    "optimizer = optim.Adam(cvae.parameters())"
   ]
  },
  {
   "cell_type": "code",
   "execution_count": 12,
   "id": "gross-lodge",
   "metadata": {},
   "outputs": [],
   "source": [
    "log_softmax_loss = nn.NLLLoss(reduction='sum')  \n",
    "\n",
    "# # return reconstruction error + KL divergence losses\n",
    "# def loss_function(y_pred, y, mu, log_var):\n",
    "#     sm_loss = log_softmax_loss(y_pred, y)\n",
    "#     KLD = -0.5 * torch.sum(1 + log_var - mu.pow(2) - log_var.exp())\n",
    "#     return sm_loss, KLD\n",
    "\n",
    "def loss_function(y_pred, y, mu_q, log_var_q, mu_p, log_var_p):\n",
    "    sm_loss = log_softmax_loss(y_pred, y)\n",
    "    KLD = 0.5 * torch.sum(log_var_q.exp()/log_var_p.exp() + \\\n",
    "                          (mu_p - mu_q).pow(2)/log_var_p.exp() - 1 + \\\n",
    "                          log_var_p - log_var_q)\n",
    "    return sm_loss, KLD\n",
    "\n",
    "# one-hot encoding\n",
    "def one_hot(labels, class_size): \n",
    "    targets = torch.zeros(labels.size(0), class_size)\n",
    "    for i, label in enumerate(labels):\n",
    "        targets[i, label] = 1\n",
    "    return Variable(targets)"
   ]
  },
  {
   "cell_type": "code",
   "execution_count": 13,
   "id": "little-arctic",
   "metadata": {},
   "outputs": [],
   "source": [
    "def train(epoch):\n",
    "    cvae.train()\n",
    "    train_loss = 0\n",
    "    for batch_idx, (x_batch, y_batch) in enumerate(train_loader):\n",
    "        x_batch = torch.cat([x_batch, x_batch], 0)\n",
    "        \n",
    "        # make toy data\n",
    "        y_batch_p1 = y_batch + 1\n",
    "        y_batch_p1[y_batch_p1==10] = 0\n",
    "        y_batch = torch.cat([y_batch, y_batch_p1], 0)\n",
    "\n",
    "        y_oh_batch = one_hot(y_batch, class_size=10)\n",
    "        optimizer.zero_grad()\n",
    "        \n",
    "        y_pred, mu_q, log_var_q, mu_p, log_var_p = cvae(x_batch, y_oh_batch)\n",
    "        sm_loss, KLD = loss_function(y_pred, y_batch, mu_q, log_var_q, mu_p, log_var_p)\n",
    "        loss = sm_loss + KLD\n",
    "        \n",
    "        loss.backward()\n",
    "        train_loss += loss.item()\n",
    "        optimizer.step()\n",
    "        \n",
    "        if batch_idx % 100 == 0:\n",
    "            print('Train Epoch: {} [{}/{} ({:.0f}%)]\\tLoss: {:.6f} = {:.6f} + {:.6f}'.format(\n",
    "                epoch, batch_idx * len(x_batch), len(train_loader.dataset),\n",
    "                100. * batch_idx / len(train_loader), loss.item(),\n",
    "            sm_loss.item(), KLD.item()))"
   ]
  },
  {
   "cell_type": "code",
   "execution_count": null,
   "id": "worthy-bachelor",
   "metadata": {},
   "outputs": [],
   "source": []
  },
  {
   "cell_type": "code",
   "execution_count": 14,
   "id": "blocked-tragedy",
   "metadata": {},
   "outputs": [],
   "source": [
    "def test():\n",
    "    cvae.eval()\n",
    "    test_loss= 0\n",
    "    with torch.no_grad():\n",
    "        for x_batch, y_batch in test_loader:\n",
    "            y_oh_batch = one_hot(y_batch, class_size=10)\n",
    "            y_pred, mu_q, log_var_q, mu_p, log_var_p = cvae(x_batch, y_oh_batch)\n",
    "            # sum up batch loss\n",
    "            sm_loss, KLD = loss_function(y_pred, y_batch, mu_q, log_var_q, mu_p, log_var_p)\n",
    "            test_loss += (sm_loss.item() + KLD.item())\n",
    "        \n",
    "    test_loss /= (len(test_loader.dataset)/test_loader.batch_size)\n",
    "    print('====> Test set loss: {:.4f}'.format(test_loss))"
   ]
  },
  {
   "cell_type": "code",
   "execution_count": null,
   "id": "duplicate-crazy",
   "metadata": {},
   "outputs": [],
   "source": []
  },
  {
   "cell_type": "code",
   "execution_count": 15,
   "id": "outer-battle",
   "metadata": {
    "scrolled": false
   },
   "outputs": [
    {
     "name": "stderr",
     "output_type": "stream",
     "text": [
      "/Users/alicegao/anaconda2/envs/yeast_d_cell/lib/python3.7/site-packages/ipykernel_launcher.py:72: UserWarning: Implicit dimension choice for log_softmax has been deprecated. Change the call to include dim=X as an argument.\n"
     ]
    },
    {
     "name": "stdout",
     "output_type": "stream",
     "text": [
      "Train Epoch: 0 [0/60000 (0%)]\tLoss: 94.002426 = 92.867424 + 1.135002\n",
      "Train Epoch: 0 [4000/60000 (3%)]\tLoss: 91.394218 = 91.320541 + 0.073676\n",
      "Train Epoch: 0 [8000/60000 (7%)]\tLoss: 92.241623 = 92.183289 + 0.058338\n",
      "Train Epoch: 0 [12000/60000 (10%)]\tLoss: 92.224869 = 92.157936 + 0.066933\n",
      "Train Epoch: 0 [16000/60000 (13%)]\tLoss: 91.377235 = 91.308296 + 0.068942\n",
      "Train Epoch: 0 [20000/60000 (17%)]\tLoss: 93.038116 = 92.976807 + 0.061309\n",
      "Train Epoch: 0 [24000/60000 (20%)]\tLoss: 92.349525 = 92.255096 + 0.094428\n",
      "Train Epoch: 0 [28000/60000 (23%)]\tLoss: 91.850868 = 91.782982 + 0.067885\n",
      "Train Epoch: 0 [32000/60000 (27%)]\tLoss: 92.420036 = 92.321617 + 0.098419\n",
      "Train Epoch: 0 [36000/60000 (30%)]\tLoss: 91.731323 = 91.632942 + 0.098385\n",
      "Train Epoch: 0 [40000/60000 (33%)]\tLoss: 91.868729 = 91.773781 + 0.094947\n",
      "Train Epoch: 0 [44000/60000 (37%)]\tLoss: 91.580704 = 91.490250 + 0.090455\n",
      "Train Epoch: 0 [48000/60000 (40%)]\tLoss: 91.187706 = 91.098366 + 0.089339\n",
      "Train Epoch: 0 [52000/60000 (43%)]\tLoss: 91.802887 = 91.706390 + 0.096500\n",
      "Train Epoch: 0 [56000/60000 (47%)]\tLoss: 91.395226 = 91.285919 + 0.109305\n",
      "Train Epoch: 0 [60000/60000 (50%)]\tLoss: 90.072762 = 89.943268 + 0.129492\n",
      "Train Epoch: 0 [64000/60000 (53%)]\tLoss: 91.897491 = 91.798676 + 0.098812\n",
      "Train Epoch: 0 [68000/60000 (57%)]\tLoss: 91.323463 = 91.191895 + 0.131566\n",
      "Train Epoch: 0 [72000/60000 (60%)]\tLoss: 90.313293 = 90.181740 + 0.131556\n",
      "Train Epoch: 0 [76000/60000 (63%)]\tLoss: 92.840637 = 92.707497 + 0.133140\n",
      "Train Epoch: 0 [80000/60000 (67%)]\tLoss: 89.908554 = 89.749603 + 0.158949\n",
      "Train Epoch: 0 [84000/60000 (70%)]\tLoss: 91.113480 = 90.910446 + 0.203032\n",
      "Train Epoch: 0 [88000/60000 (73%)]\tLoss: 88.834816 = 88.674049 + 0.160769\n",
      "Train Epoch: 0 [92000/60000 (77%)]\tLoss: 89.580658 = 89.413895 + 0.166763\n",
      "Train Epoch: 0 [96000/60000 (80%)]\tLoss: 91.203583 = 91.002617 + 0.200965\n",
      "Train Epoch: 0 [100000/60000 (83%)]\tLoss: 91.564758 = 91.355392 + 0.209368\n",
      "Train Epoch: 0 [104000/60000 (87%)]\tLoss: 87.042572 = 86.893021 + 0.149555\n",
      "Train Epoch: 0 [108000/60000 (90%)]\tLoss: 86.776443 = 86.560791 + 0.215653\n",
      "Train Epoch: 0 [112000/60000 (93%)]\tLoss: 86.071831 = 85.900871 + 0.170962\n",
      "Train Epoch: 0 [116000/60000 (97%)]\tLoss: 92.487206 = 92.331161 + 0.156044\n",
      "====> Test set loss: 44.0118\n",
      "Train Epoch: 1 [0/60000 (0%)]\tLoss: 92.629837 = 92.457123 + 0.172716\n",
      "Train Epoch: 1 [4000/60000 (3%)]\tLoss: 90.680618 = 90.460175 + 0.220444\n",
      "Train Epoch: 1 [8000/60000 (7%)]\tLoss: 84.349136 = 84.175125 + 0.174011\n",
      "Train Epoch: 1 [12000/60000 (10%)]\tLoss: 88.221519 = 87.975533 + 0.245990\n",
      "Train Epoch: 1 [16000/60000 (13%)]\tLoss: 85.132912 = 84.785683 + 0.347225\n",
      "Train Epoch: 1 [20000/60000 (17%)]\tLoss: 87.076172 = 86.825226 + 0.250944\n",
      "Train Epoch: 1 [24000/60000 (20%)]\tLoss: 86.896759 = 86.635277 + 0.261479\n",
      "Train Epoch: 1 [28000/60000 (23%)]\tLoss: 88.156303 = 87.863937 + 0.292364\n",
      "Train Epoch: 1 [32000/60000 (27%)]\tLoss: 87.152351 = 86.906914 + 0.245437\n",
      "Train Epoch: 1 [36000/60000 (30%)]\tLoss: 88.308914 = 87.958618 + 0.350295\n",
      "Train Epoch: 1 [40000/60000 (33%)]\tLoss: 89.695732 = 89.374825 + 0.320906\n",
      "Train Epoch: 1 [44000/60000 (37%)]\tLoss: 88.899956 = 88.559166 + 0.340792\n",
      "Train Epoch: 1 [48000/60000 (40%)]\tLoss: 85.044029 = 84.717293 + 0.326739\n",
      "Train Epoch: 1 [52000/60000 (43%)]\tLoss: 87.598778 = 87.203011 + 0.395768\n",
      "Train Epoch: 1 [56000/60000 (47%)]\tLoss: 89.945717 = 89.579033 + 0.366686\n",
      "Train Epoch: 1 [60000/60000 (50%)]\tLoss: 89.068336 = 88.720573 + 0.347766\n",
      "Train Epoch: 1 [64000/60000 (53%)]\tLoss: 87.582771 = 87.285919 + 0.296853\n",
      "Train Epoch: 1 [68000/60000 (57%)]\tLoss: 89.249283 = 88.735497 + 0.513786\n",
      "Train Epoch: 1 [72000/60000 (60%)]\tLoss: 86.105766 = 85.399879 + 0.705883\n",
      "Train Epoch: 1 [76000/60000 (63%)]\tLoss: 84.479919 = 83.805588 + 0.674330\n",
      "Train Epoch: 1 [80000/60000 (67%)]\tLoss: 87.865013 = 87.181335 + 0.683676\n",
      "Train Epoch: 1 [84000/60000 (70%)]\tLoss: 88.115448 = 87.453690 + 0.661757\n",
      "Train Epoch: 1 [88000/60000 (73%)]\tLoss: 81.474373 = 80.914001 + 0.560374\n",
      "Train Epoch: 1 [92000/60000 (77%)]\tLoss: 89.000237 = 88.171791 + 0.828449\n",
      "Train Epoch: 1 [96000/60000 (80%)]\tLoss: 81.765724 = 81.039627 + 0.726100\n",
      "Train Epoch: 1 [100000/60000 (83%)]\tLoss: 82.251564 = 81.536270 + 0.715293\n",
      "Train Epoch: 1 [104000/60000 (87%)]\tLoss: 83.587303 = 82.901985 + 0.685316\n",
      "Train Epoch: 1 [108000/60000 (90%)]\tLoss: 80.638527 = 79.925659 + 0.712869\n",
      "Train Epoch: 1 [112000/60000 (93%)]\tLoss: 82.639328 = 81.979370 + 0.659954\n",
      "Train Epoch: 1 [116000/60000 (97%)]\tLoss: 81.162560 = 80.321892 + 0.840668\n",
      "====> Test set loss: 42.6718\n",
      "Train Epoch: 2 [0/60000 (0%)]\tLoss: 86.165848 = 85.482162 + 0.683687\n",
      "Train Epoch: 2 [4000/60000 (3%)]\tLoss: 81.076958 = 80.325516 + 0.751445\n",
      "Train Epoch: 2 [8000/60000 (7%)]\tLoss: 91.443672 = 90.617081 + 0.826588\n",
      "Train Epoch: 2 [12000/60000 (10%)]\tLoss: 77.806847 = 76.886086 + 0.920759\n",
      "Train Epoch: 2 [16000/60000 (13%)]\tLoss: 83.831253 = 82.934883 + 0.896370\n",
      "Train Epoch: 2 [20000/60000 (17%)]\tLoss: 85.332436 = 84.695404 + 0.637033\n",
      "Train Epoch: 2 [24000/60000 (20%)]\tLoss: 85.008698 = 84.102280 + 0.906414\n",
      "Train Epoch: 2 [28000/60000 (23%)]\tLoss: 84.088257 = 83.343872 + 0.744388\n",
      "Train Epoch: 2 [32000/60000 (27%)]\tLoss: 83.319290 = 82.572311 + 0.746975\n",
      "Train Epoch: 2 [36000/60000 (30%)]\tLoss: 85.094864 = 84.375534 + 0.719331\n",
      "Train Epoch: 2 [40000/60000 (33%)]\tLoss: 80.543259 = 79.723946 + 0.819310\n",
      "Train Epoch: 2 [44000/60000 (37%)]\tLoss: 85.108727 = 84.334686 + 0.774040\n",
      "Train Epoch: 2 [48000/60000 (40%)]\tLoss: 83.499908 = 82.764458 + 0.735450\n",
      "Train Epoch: 2 [52000/60000 (43%)]\tLoss: 87.105164 = 86.285156 + 0.820010\n",
      "Train Epoch: 2 [56000/60000 (47%)]\tLoss: 90.720352 = 89.806076 + 0.914276\n",
      "Train Epoch: 2 [60000/60000 (50%)]\tLoss: 80.450920 = 79.684135 + 0.766784\n",
      "Train Epoch: 2 [64000/60000 (53%)]\tLoss: 84.314453 = 83.402077 + 0.912376\n",
      "Train Epoch: 2 [68000/60000 (57%)]\tLoss: 84.897247 = 83.939270 + 0.957977\n",
      "Train Epoch: 2 [72000/60000 (60%)]\tLoss: 84.041992 = 83.029510 + 1.012483\n",
      "Train Epoch: 2 [76000/60000 (63%)]\tLoss: 91.854874 = 91.186028 + 0.668843\n",
      "Train Epoch: 2 [80000/60000 (67%)]\tLoss: 79.521523 = 78.949402 + 0.572122\n",
      "Train Epoch: 2 [84000/60000 (70%)]\tLoss: 82.197853 = 81.610489 + 0.587361\n",
      "Train Epoch: 2 [88000/60000 (73%)]\tLoss: 84.290276 = 83.442383 + 0.847890\n",
      "Train Epoch: 2 [92000/60000 (77%)]\tLoss: 92.431274 = 91.442764 + 0.988514\n",
      "Train Epoch: 2 [96000/60000 (80%)]\tLoss: 80.276596 = 79.439026 + 0.837571\n",
      "Train Epoch: 2 [100000/60000 (83%)]\tLoss: 81.903481 = 80.795250 + 1.108234\n",
      "Train Epoch: 2 [104000/60000 (87%)]\tLoss: 85.029877 = 84.021690 + 1.008187\n",
      "Train Epoch: 2 [108000/60000 (90%)]\tLoss: 88.903732 = 87.993492 + 0.910241\n",
      "Train Epoch: 2 [112000/60000 (93%)]\tLoss: 84.669151 = 83.564468 + 1.104680\n",
      "Train Epoch: 2 [116000/60000 (97%)]\tLoss: 85.000366 = 83.902878 + 1.097492\n",
      "====> Test set loss: 42.0075\n",
      "Train Epoch: 3 [0/60000 (0%)]\tLoss: 82.120667 = 81.056084 + 1.064579\n",
      "Train Epoch: 3 [4000/60000 (3%)]\tLoss: 85.558334 = 84.491356 + 1.066982\n",
      "Train Epoch: 3 [8000/60000 (7%)]\tLoss: 84.415977 = 83.576561 + 0.839416\n",
      "Train Epoch: 3 [12000/60000 (10%)]\tLoss: 87.826561 = 86.934166 + 0.892393\n",
      "Train Epoch: 3 [16000/60000 (13%)]\tLoss: 81.892471 = 81.147209 + 0.745264\n",
      "Train Epoch: 3 [20000/60000 (17%)]\tLoss: 89.177376 = 88.095619 + 1.081754\n",
      "Train Epoch: 3 [24000/60000 (20%)]\tLoss: 86.898186 = 85.930504 + 0.967679\n",
      "Train Epoch: 3 [28000/60000 (23%)]\tLoss: 83.172104 = 82.396713 + 0.775390\n",
      "Train Epoch: 3 [32000/60000 (27%)]\tLoss: 84.725693 = 83.794678 + 0.931018\n",
      "Train Epoch: 3 [36000/60000 (30%)]\tLoss: 85.938591 = 85.115158 + 0.823429\n",
      "Train Epoch: 3 [40000/60000 (33%)]\tLoss: 82.748528 = 82.019058 + 0.729473\n",
      "Train Epoch: 3 [44000/60000 (37%)]\tLoss: 96.112793 = 95.254913 + 0.857878\n",
      "Train Epoch: 3 [48000/60000 (40%)]\tLoss: 81.443359 = 80.668839 + 0.774518\n",
      "Train Epoch: 3 [52000/60000 (43%)]\tLoss: 84.302467 = 83.427155 + 0.875315\n",
      "Train Epoch: 3 [56000/60000 (47%)]\tLoss: 83.384239 = 82.563240 + 0.820999\n",
      "Train Epoch: 3 [60000/60000 (50%)]\tLoss: 85.518219 = 84.796982 + 0.721241\n",
      "Train Epoch: 3 [64000/60000 (53%)]\tLoss: 85.796791 = 85.110756 + 0.686036\n",
      "Train Epoch: 3 [68000/60000 (57%)]\tLoss: 79.927399 = 79.203621 + 0.723780\n",
      "Train Epoch: 3 [72000/60000 (60%)]\tLoss: 80.549141 = 79.965965 + 0.583174\n",
      "Train Epoch: 3 [76000/60000 (63%)]\tLoss: 81.485054 = 80.760521 + 0.724531\n"
     ]
    },
    {
     "name": "stdout",
     "output_type": "stream",
     "text": [
      "Train Epoch: 3 [80000/60000 (67%)]\tLoss: 82.504440 = 81.686958 + 0.817480\n",
      "Train Epoch: 3 [84000/60000 (70%)]\tLoss: 85.784752 = 84.953217 + 0.831534\n",
      "Train Epoch: 3 [88000/60000 (73%)]\tLoss: 83.300102 = 82.557289 + 0.742814\n",
      "Train Epoch: 3 [92000/60000 (77%)]\tLoss: 80.533394 = 79.711380 + 0.822011\n",
      "Train Epoch: 3 [96000/60000 (80%)]\tLoss: 87.246643 = 86.545555 + 0.701087\n",
      "Train Epoch: 3 [100000/60000 (83%)]\tLoss: 83.874985 = 82.922119 + 0.952869\n",
      "Train Epoch: 3 [104000/60000 (87%)]\tLoss: 84.142288 = 83.206787 + 0.935499\n",
      "Train Epoch: 3 [108000/60000 (90%)]\tLoss: 84.657822 = 83.505867 + 1.151955\n",
      "Train Epoch: 3 [112000/60000 (93%)]\tLoss: 84.446526 = 83.441254 + 1.005269\n",
      "Train Epoch: 3 [116000/60000 (97%)]\tLoss: 84.505043 = 83.498192 + 1.006850\n",
      "====> Test set loss: 41.8416\n"
     ]
    }
   ],
   "source": [
    "for epoch in range(4):  # TODO more epochs?\n",
    "    train(epoch)\n",
    "    test()"
   ]
  },
  {
   "cell_type": "code",
   "execution_count": 16,
   "id": "fancy-tumor",
   "metadata": {},
   "outputs": [],
   "source": [
    "# # random image\n",
    "\n",
    "# num_row = 4\n",
    "# num_col = 5\n",
    "# num = num_row * num_col\n",
    "\n",
    "# fig, axes = plt.subplots(num_row, num_col, figsize=(1.5*num_col,2*num_row))\n",
    "# for i in range(num):\n",
    "#     ax = axes[i//num_col, i%num_col]\n",
    "#     idx = random.randint(a=0, b=10000)\n",
    "#     tmp = test_dataset[idx][0]\n",
    "#     ax.imshow(tmp.numpy()[0, :, :], cmap='gray', interpolation='none')\n",
    "#     ax.set_title('i:{} l:{}'.format(idx, test_dataset[idx][1]))\n",
    "# plt.tight_layout()\n",
    "# plt.show()\n"
   ]
  },
  {
   "cell_type": "code",
   "execution_count": null,
   "id": "aging-explosion",
   "metadata": {},
   "outputs": [],
   "source": []
  },
  {
   "cell_type": "code",
   "execution_count": null,
   "id": "prescription-exchange",
   "metadata": {},
   "outputs": [],
   "source": []
  },
  {
   "cell_type": "code",
   "execution_count": 17,
   "id": "funny-stream",
   "metadata": {},
   "outputs": [],
   "source": [
    "# demonstrate prediction\n",
    "# only running 'decoder', i.e. x, z -> y\n"
   ]
  },
  {
   "cell_type": "code",
   "execution_count": 18,
   "id": "constant-commercial",
   "metadata": {},
   "outputs": [
    {
     "data": {
      "text/plain": [
       "<matplotlib.image.AxesImage at 0x7fcbb8ee88d0>"
      ]
     },
     "execution_count": 18,
     "metadata": {},
     "output_type": "execute_result"
    },
    {
     "data": {
      "image/png": "[encoded data removed]",
      "text/plain": [
       "<Figure size 432x288 with 1 Axes>"
      ]
     },
     "metadata": {
      "needs_background": "light"
     },
     "output_type": "display_data"
    }
   ],
   "source": [
    "# x_debug, y_debug = train_dataset[500]\n",
    "\n",
    "\n",
    "\n",
    "x_debug, y_debug = test_dataset[5]\n",
    "\n",
    "# x_debug, y_debug = test_dataset[7]\n",
    "\n",
    "# x_debug, y_debug = test_dataset[10]\n",
    "\n",
    "# x_debug, y_debug = test_dataset[500]\n",
    "\n",
    "\n",
    "# plot x\n",
    "plt.imshow(x_debug.numpy()[0, :, :], cmap='gray', interpolation='none')"
   ]
  },
  {
   "cell_type": "code",
   "execution_count": 19,
   "id": "regulation-prague",
   "metadata": {},
   "outputs": [
    {
     "data": {
      "text/plain": [
       "1"
      ]
     },
     "execution_count": 19,
     "metadata": {},
     "output_type": "execute_result"
    }
   ],
   "source": [
    "y_debug"
   ]
  },
  {
   "cell_type": "code",
   "execution_count": null,
   "id": "defensive-repository",
   "metadata": {},
   "outputs": [],
   "source": []
  },
  {
   "cell_type": "code",
   "execution_count": 20,
   "id": "immune-birthday",
   "metadata": {},
   "outputs": [
    {
     "name": "stderr",
     "output_type": "stream",
     "text": [
      "/Users/alicegao/anaconda2/envs/yeast_d_cell/lib/python3.7/site-packages/ipykernel_launcher.py:72: UserWarning: Implicit dimension choice for log_softmax has been deprecated. Change the call to include dim=X as an argument.\n"
     ]
    }
   ],
   "source": [
    "yp_all = []\n",
    "for _ in range(1000):\n",
    "#     z_debug = cvae.sampling(torch.Tensor([[0] * z_dim]), torch.Tensor([[0] * z_dim]))  # from prior, z dim = 2\n",
    "#     # print(z_debug)\n",
    "#     yp_debug = cvae.decoder(x=x_debug.view(-1, 784), z=z_debug)\n",
    "    # print(yp_debug.exp())\n",
    "    yp_debug, mu_p, log_var_p = cvae.inference(x=x_debug.view(-1, 784))\n",
    "    yp_all.append(yp_debug.argmax().item())"
   ]
  },
  {
   "cell_type": "code",
   "execution_count": 21,
   "id": "accessible-weight",
   "metadata": {},
   "outputs": [
    {
     "name": "stdout",
     "output_type": "stream",
     "text": [
      "Class 0, count 0/1000\n",
      "Class 1, count 0/1000\n",
      "Class 2, count 836/1000\n",
      "Class 3, count 160/1000\n",
      "Class 4, count 4/1000\n",
      "Class 5, count 0/1000\n",
      "Class 6, count 0/1000\n",
      "Class 7, count 0/1000\n",
      "Class 8, count 0/1000\n",
      "Class 9, count 0/1000\n"
     ]
    }
   ],
   "source": [
    "for class_label in range(10):\n",
    "    print(\"Class {}, count {}/{}\".format(class_label, yp_all.count(class_label), len(yp_all)))"
   ]
  },
  {
   "cell_type": "code",
   "execution_count": 22,
   "id": "polish-letter",
   "metadata": {},
   "outputs": [
    {
     "data": {
      "text/plain": [
       "tensor([[0.0331, 0.1042, 0.2068, 0.1577, 0.1473, 0.0580, 0.0567, 0.1025, 0.0791,\n",
       "         0.0547]], grad_fn=<ExpBackward>)"
      ]
     },
     "execution_count": 22,
     "metadata": {},
     "output_type": "execute_result"
    }
   ],
   "source": [
    "yp_debug.exp()"
   ]
  },
  {
   "cell_type": "code",
   "execution_count": null,
   "id": "czech-cover",
   "metadata": {},
   "outputs": [],
   "source": []
  },
  {
   "cell_type": "code",
   "execution_count": 23,
   "id": "painful-reading",
   "metadata": {},
   "outputs": [
    {
     "name": "stderr",
     "output_type": "stream",
     "text": [
      "  0%|          | 0/1000 [00:00<?, ?it/s]/Users/alicegao/anaconda2/envs/yeast_d_cell/lib/python3.7/site-packages/ipykernel_launcher.py:72: UserWarning: Implicit dimension choice for log_softmax has been deprecated. Change the call to include dim=X as an argument.\n",
      "100%|██████████| 1000/1000 [00:27<00:00, 35.72it/s]\n"
     ]
    }
   ],
   "source": [
    "# check how many example predicts bimodal distribution\n",
    "# training\n",
    "\n",
    "n_sample = 100\n",
    "n_datapoint = 1000\n",
    "\n",
    "p_all = []\n",
    "\n",
    "for _ in tqdm(range(n_datapoint)):\n",
    "    idx = random.randint(a=0, b=len(train_dataset)-1)\n",
    "    x_debug, y_debug = train_dataset[idx]\n",
    "\n",
    "    yp_all = []\n",
    "    for _ in range(n_sample):\n",
    "#         z_debug = cvae.sampling(torch.Tensor([[0] * z_dim]), torch.Tensor([[0] * z_dim]))  # from prior, z dim = 2\n",
    "#         # print(z_debug)\n",
    "#         yp_debug = cvae.decoder(x=x_debug.view(-1, 784), z=z_debug)\n",
    "        # print(yp_debug.exp())\n",
    "        yp_debug, mu_p, log_var_p = cvae.inference(x=x_debug.view(-1, 784))\n",
    "        yp_all.append(yp_debug.argmax().item())\n",
    "    # calculation percent times the top hit class was predicted\n",
    "    class_count = [yp_all.count(class_label) for class_label in range(10)]\n",
    "    # entropy\n",
    "    p_all.append(entropy(np.asarray(class_count)/n_sample))\n",
    "\n"
   ]
  },
  {
   "cell_type": "code",
   "execution_count": 24,
   "id": "wireless-psychology",
   "metadata": {},
   "outputs": [
    {
     "data": {
      "text/plain": [
       "(array([ 98.,  94., 122., 231., 170., 143., 100.,  26.,  12.,   4.]),\n",
       " array([0.        , 0.1718072 , 0.3436144 , 0.51542159, 0.68722879,\n",
       "        0.85903599, 1.03084319, 1.20265038, 1.37445758, 1.54626478,\n",
       "        1.71807198]),\n",
       " <a list of 10 Patch objects>)"
      ]
     },
     "execution_count": 24,
     "metadata": {},
     "output_type": "execute_result"
    },
    {
     "data": {
      "image/png": "[encoded data removed]",
      "text/plain": [
       "<Figure size 432x288 with 1 Axes>"
      ]
     },
     "metadata": {
      "needs_background": "light"
     },
     "output_type": "display_data"
    }
   ],
   "source": [
    "plt.hist(p_all)"
   ]
  },
  {
   "cell_type": "code",
   "execution_count": 25,
   "id": "valuable-winter",
   "metadata": {},
   "outputs": [
    {
     "name": "stderr",
     "output_type": "stream",
     "text": [
      "  0%|          | 0/1000 [00:00<?, ?it/s]/Users/alicegao/anaconda2/envs/yeast_d_cell/lib/python3.7/site-packages/ipykernel_launcher.py:72: UserWarning: Implicit dimension choice for log_softmax has been deprecated. Change the call to include dim=X as an argument.\n",
      "100%|██████████| 1000/1000 [00:27<00:00, 36.37it/s]\n"
     ]
    }
   ],
   "source": [
    "# check how many example predicts bimodal distribution\n",
    "# testing\n",
    "\n",
    "n_sample = 100\n",
    "n_datapoint = 1000\n",
    "\n",
    "p_all = []\n",
    "\n",
    "for _ in tqdm(range(n_datapoint)):\n",
    "    idx = random.randint(a=0, b=len(test_dataset)-1)\n",
    "    x_debug, y_debug = test_dataset[idx]\n",
    "\n",
    "    yp_all = []\n",
    "    for _ in range(n_sample):\n",
    "#         z_debug = cvae.sampling(torch.Tensor([[0] * z_dim]), torch.Tensor([[0] * z_dim]))  # from prior, z dim = 2\n",
    "#         # print(z_debug)\n",
    "#         yp_debug = cvae.decoder(x=x_debug.view(-1, 784), z=z_debug)\n",
    "        # print(yp_debug.exp())\n",
    "        yp_debug, mu_p, log_var_p = cvae.inference(x=x_debug.view(-1, 784))\n",
    "        yp_all.append(yp_debug.argmax().item())\n",
    "    # calculation percent times the top hit class was predicted\n",
    "    class_count = [yp_all.count(class_label) for class_label in range(10)]\n",
    "    # entropy\n",
    "    p_all.append(entropy(np.asarray(class_count)/n_sample))\n",
    "\n"
   ]
  },
  {
   "cell_type": "code",
   "execution_count": 26,
   "id": "flexible-posting",
   "metadata": {},
   "outputs": [
    {
     "data": {
      "text/plain": [
       "(array([ 78.,  93., 130., 202., 185., 146., 114.,  39.,  10.,   3.]),\n",
       " array([0.        , 0.16682787, 0.33365575, 0.50048362, 0.6673115 ,\n",
       "        0.83413937, 1.00096725, 1.16779512, 1.33462299, 1.50145087,\n",
       "        1.66827874]),\n",
       " <a list of 10 Patch objects>)"
      ]
     },
     "execution_count": 26,
     "metadata": {},
     "output_type": "execute_result"
    },
    {
     "data": {
      "image/png": "[encoded data removed]",
      "text/plain": [
       "<Figure size 432x288 with 1 Axes>"
      ]
     },
     "metadata": {
      "needs_background": "light"
     },
     "output_type": "display_data"
    }
   ],
   "source": [
    "plt.hist(p_all)"
   ]
  },
  {
   "cell_type": "code",
   "execution_count": 27,
   "id": "beautiful-heather",
   "metadata": {},
   "outputs": [
    {
     "data": {
      "text/plain": [
       "0.6931471805599453"
      ]
     },
     "execution_count": 27,
     "metadata": {},
     "output_type": "execute_result"
    }
   ],
   "source": [
    "entropy([0.5, 0.5, 0, 0, 0, 0, 0, 0, 0, 0])  # this is what we want"
   ]
  },
  {
   "cell_type": "code",
   "execution_count": null,
   "id": "peaceful-response",
   "metadata": {},
   "outputs": [],
   "source": []
  },
  {
   "cell_type": "code",
   "execution_count": null,
   "id": "meaningful-ultimate",
   "metadata": {},
   "outputs": [],
   "source": []
  },
  {
   "cell_type": "code",
   "execution_count": null,
   "id": "radio-sussex",
   "metadata": {},
   "outputs": [],
   "source": []
  },
  {
   "cell_type": "code",
   "execution_count": 35,
   "id": "emerging-baseline",
   "metadata": {},
   "outputs": [],
   "source": [
    "target = torch.randint(0, 10, (10,)).reshape([2, 5])\n",
    "one_hot = torch.nn.functional.one_hot(target, num_classes=10)"
   ]
  },
  {
   "cell_type": "code",
   "execution_count": 36,
   "id": "removable-enemy",
   "metadata": {},
   "outputs": [
    {
     "data": {
      "text/plain": [
       "tensor([[2, 8, 1, 9, 0],\n",
       "        [4, 4, 4, 0, 7]])"
      ]
     },
     "execution_count": 36,
     "metadata": {},
     "output_type": "execute_result"
    }
   ],
   "source": [
    "target"
   ]
  },
  {
   "cell_type": "code",
   "execution_count": 37,
   "id": "global-aerospace",
   "metadata": {},
   "outputs": [
    {
     "data": {
      "text/plain": [
       "tensor([[[0, 0, 1, 0, 0, 0, 0, 0, 0, 0],\n",
       "         [0, 0, 0, 0, 0, 0, 0, 0, 1, 0],\n",
       "         [0, 1, 0, 0, 0, 0, 0, 0, 0, 0],\n",
       "         [0, 0, 0, 0, 0, 0, 0, 0, 0, 1],\n",
       "         [1, 0, 0, 0, 0, 0, 0, 0, 0, 0]],\n",
       "\n",
       "        [[0, 0, 0, 0, 1, 0, 0, 0, 0, 0],\n",
       "         [0, 0, 0, 0, 1, 0, 0, 0, 0, 0],\n",
       "         [0, 0, 0, 0, 1, 0, 0, 0, 0, 0],\n",
       "         [1, 0, 0, 0, 0, 0, 0, 0, 0, 0],\n",
       "         [0, 0, 0, 0, 0, 0, 0, 1, 0, 0]]])"
      ]
     },
     "execution_count": 37,
     "metadata": {},
     "output_type": "execute_result"
    }
   ],
   "source": [
    "one_hot"
   ]
  },
  {
   "cell_type": "code",
   "execution_count": 38,
   "id": "progressive-pasta",
   "metadata": {},
   "outputs": [
    {
     "data": {
      "text/plain": [
       "torch.Size([2, 5, 10])"
      ]
     },
     "execution_count": 38,
     "metadata": {},
     "output_type": "execute_result"
    }
   ],
   "source": [
    "one_hot.shape"
   ]
  },
  {
   "cell_type": "code",
   "execution_count": 39,
   "id": "responsible-orange",
   "metadata": {},
   "outputs": [
    {
     "data": {
      "text/plain": [
       "5"
      ]
     },
     "execution_count": 39,
     "metadata": {},
     "output_type": "execute_result"
    }
   ],
   "source": [
    "one_hot.shape[1]"
   ]
  },
  {
   "cell_type": "code",
   "execution_count": null,
   "id": "moderate-yield",
   "metadata": {},
   "outputs": [],
   "source": []
  }
 ],
 "metadata": {
  "kernelspec": {
   "display_name": "Python 3",
   "language": "python",
   "name": "python3"
  },
  "language_info": {
   "codemirror_mode": {
    "name": "ipython",
    "version": 3
   },
   "file_extension": ".py",
   "mimetype": "text/x-python",
   "name": "python",
   "nbconvert_exporter": "python",
   "pygments_lexer": "ipython3",
   "version": "3.7.6"
  }
 },
 "nbformat": 4,
 "nbformat_minor": 5
}
