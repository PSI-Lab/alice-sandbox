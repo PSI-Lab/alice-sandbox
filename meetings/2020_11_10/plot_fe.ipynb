{
 "cells": [
  {
   "cell_type": "code",
   "execution_count": null,
   "metadata": {},
   "outputs": [],
   "source": [
    "import pandas as pd\n",
    "import plotly.express as px\n",
    "import plotly.graph_objects as go"
   ]
  },
  {
   "cell_type": "code",
   "execution_count": null,
   "metadata": {},
   "outputs": [],
   "source": [
    "from collections import namedtuple"
   ]
  },
  {
   "cell_type": "code",
   "execution_count": null,
   "metadata": {},
   "outputs": [],
   "source": [
    "from scipy.stats import pearsonr"
   ]
  },
  {
   "cell_type": "code",
   "execution_count": null,
   "metadata": {},
   "outputs": [],
   "source": [
    "import sys\n",
    "sys.path.insert(0, '../../rna_ss/')\n",
    "from utils import pairs2idx, idx2arr, arr2db"
   ]
  },
  {
   "cell_type": "code",
   "execution_count": null,
   "metadata": {},
   "outputs": [],
   "source": []
  },
  {
   "cell_type": "code",
   "execution_count": null,
   "metadata": {},
   "outputs": [],
   "source": [
    "def stem_bb_to_db_str(stem_bbs, seq_len):\n",
    "    # conert stem bounding boxes to dot-bracket\n",
    "    # hacky implementation, no pseudoknot support!\n",
    "\n",
    "    # # find all stems, collect all base pairs\n",
    "    # all_stems = []\n",
    "    # for chain in global_struct:\n",
    "    #     all_stems.extend([x for x in chain.chain if x.type == 'stem'])\n",
    "    # bps = []  # list of (i, j) tuple\n",
    "    db_str = list('.' * seq_len)\n",
    "    for s in stem_bbs:\n",
    "        for i, j in zip(range(s.tr_x, s.bl_x + 1), range(s.bl_y, s.tr_y + 1)[::-1]):\n",
    "            # handle corner case, if (i, j) is out of bound, skip\n",
    "            # this can happen in rare cases (which should have been cleaned up after stage 1 <- to be fixed)\n",
    "            if i >= seq_len or j >= seq_len:\n",
    "                continue\n",
    "            db_str[i] = '('\n",
    "            db_str[j] = ')'\n",
    "            # bps.append((i, j))\n",
    "    # bps = sorted(bps)\n",
    "    return ''.join(db_str)\n",
    "\n",
    "\n",
    "def struct_df_to_db_str(df_struct, seq_len):\n",
    "    # structure: a df, no structure: None\n",
    "    if not isinstance(df_struct, pd.DataFrame):\n",
    "        assert df_struct is None\n",
    "        return '.' * seq_len\n",
    "\n",
    "    BoundingBox = namedtuple('BoundingBox', ['tr_x', 'tr_y', 'bl_x', 'bl_y'])\n",
    "\n",
    "    df_struct = df_struct[df_struct['bb_type'] == 'stem']\n",
    "    stems = []\n",
    "    for _, row in df_struct.iterrows():\n",
    "        bb_x = row['bb_x']\n",
    "        bb_y = row['bb_y']\n",
    "        siz_x = row['siz_x']\n",
    "        siz_y = row['siz_y']\n",
    "        bl_x = bb_x + siz_x - 1\n",
    "        bl_y = bb_y - siz_y + 1\n",
    "        stems.append(BoundingBox(tr_x=bb_x, tr_y=bb_y, bl_x=bl_x, bl_y=bl_y))\n",
    "\n",
    "    db_str = stem_bb_to_db_str(stems, seq_len)\n",
    "    return db_str"
   ]
  },
  {
   "cell_type": "code",
   "execution_count": null,
   "metadata": {},
   "outputs": [],
   "source": []
  },
  {
   "cell_type": "code",
   "execution_count": null,
   "metadata": {},
   "outputs": [],
   "source": [
    "df = pd.read_pickle('data/rand_s1_bb_0p1_global_structs_60_fe.pkl.gz')"
   ]
  },
  {
   "cell_type": "code",
   "execution_count": null,
   "metadata": {},
   "outputs": [],
   "source": [
    "print(\"Total: {}\\nWith negative free energy (as defined by RNAfold): {}\".format(len(df), (df['pred_fe']<0).sum()))"
   ]
  },
  {
   "cell_type": "code",
   "execution_count": null,
   "metadata": {},
   "outputs": [],
   "source": []
  },
  {
   "cell_type": "code",
   "execution_count": null,
   "metadata": {},
   "outputs": [],
   "source": [
    "# correlation between free energy of predicted and RNAfold-generated structure\n",
    "# where free energy is computed using RNAfold (so in theory predicted should always be >= RNAfold)\n",
    "df_plot = df[df['pred_fe'] < 0]\n",
    "corr, pval = pearsonr(df_plot['free_energy'], df_plot['pred_fe'])\n",
    "\n",
    "\n",
    "fig = px.scatter(df_plot, x='free_energy', y='pred_fe', \n",
    "                 title=\"Pearson corr: {:.2f} ({:.2e})\".format(corr, pval),\n",
    "                width=600, height=600)\n",
    "fig.update_traces(mode='markers', marker_size=2)\n",
    "fig.show()"
   ]
  },
  {
   "cell_type": "code",
   "execution_count": null,
   "metadata": {},
   "outputs": [],
   "source": [
    "# same plot, with perfect predicted cases removed\n",
    "df_plot = df[(df['pred_fe'] < 0) & (df['pred_fe'] != df['free_energy'])]\n",
    "corr, pval = pearsonr(df_plot['free_energy'], df_plot['pred_fe'])\n",
    "\n",
    "\n",
    "fig = px.scatter(df_plot, x='free_energy', y='pred_fe', \n",
    "                 title=\"[without perfect hits] Pearson corr: {:.2f} ({:.2e})\".format(corr, pval),\n",
    "                width=600, height=600)\n",
    "fig.update_traces(mode='markers', marker_size=2)\n",
    "fig.show()"
   ]
  },
  {
   "cell_type": "code",
   "execution_count": null,
   "metadata": {},
   "outputs": [],
   "source": [
    "# percentage difference distribution\n",
    "df_plot = df[df['pred_fe'] < 0]\n",
    "df_plot['perc_diff'] = df_plot['free_energy'] - df_plot['pred_fe']\n",
    "df_plot['perc_diff'] = df_plot['perc_diff']/df_plot['free_energy']\n",
    "\n",
    "px.histogram(df_plot, x='perc_diff', \n",
    "             histnorm='probability density',\n",
    "            width=600, height=600)"
   ]
  },
  {
   "cell_type": "code",
   "execution_count": null,
   "metadata": {},
   "outputs": [],
   "source": [
    "# same plot, with perfect predicted cases removed\n",
    "df_plot = df[(df['pred_fe'] < 0) & (df['pred_fe'] != df['free_energy'])]\n",
    "df_plot['perc_diff'] = df_plot['free_energy'] - df_plot['pred_fe']\n",
    "df_plot['perc_diff'] = df_plot['perc_diff']/df_plot['free_energy']\n",
    "\n",
    "px.histogram(df_plot, x='perc_diff', \n",
    "             histnorm='probability density',\n",
    "             title='[without perfect hits]',\n",
    "            width=600, height=600)"
   ]
  },
  {
   "cell_type": "code",
   "execution_count": null,
   "metadata": {},
   "outputs": [],
   "source": []
  },
  {
   "cell_type": "code",
   "execution_count": null,
   "metadata": {},
   "outputs": [],
   "source": []
  },
  {
   "cell_type": "code",
   "execution_count": null,
   "metadata": {},
   "outputs": [],
   "source": []
  },
  {
   "cell_type": "code",
   "execution_count": null,
   "metadata": {},
   "outputs": [],
   "source": [
    "# print those examples where predicted fe < RNAfold\n",
    "# these should not happen?\n",
    "for _, row in df[df['pred_fe'] < df['free_energy']].iterrows():\n",
    "    fe_rnafold = row['free_energy']\n",
    "    fe_pred = row['pred_fe']\n",
    "    seq = row['seq']\n",
    "    seq_len = row['len']\n",
    "    one_idx = row['one_idx']\n",
    "    pred_struct = row['best_struct']\n",
    "    \n",
    "    print(\"FE: rnafold {}, pred {}\".format(fe_rnafold, fe_pred))\n",
    "    print(\"{} length {}\".format(seq, seq_len))\n",
    "    db_str_rnafold, pk_exist = arr2db(idx2arr(one_idx, seq_len))\n",
    "    db_str_pred = struct_df_to_db_str(pred_struct, seq_len)\n",
    "    print(\"{} [RNAfold]\".format(db_str_rnafold))\n",
    "    print(\"{} [pred]\".format(db_str_pred))\n",
    "    print('')"
   ]
  },
  {
   "cell_type": "code",
   "execution_count": null,
   "metadata": {},
   "outputs": [],
   "source": []
  },
  {
   "cell_type": "code",
   "execution_count": null,
   "metadata": {},
   "outputs": [],
   "source": []
  },
  {
   "cell_type": "code",
   "execution_count": null,
   "metadata": {},
   "outputs": [],
   "source": [
    "df.iloc[0]"
   ]
  },
  {
   "cell_type": "code",
   "execution_count": null,
   "metadata": {},
   "outputs": [],
   "source": []
  }
 ],
 "metadata": {
  "kernelspec": {
   "display_name": "Python 3",
   "language": "python",
   "name": "python3"
  },
  "language_info": {
   "codemirror_mode": {
    "name": "ipython",
    "version": 3
   },
   "file_extension": ".py",
   "mimetype": "text/x-python",
   "name": "python",
   "nbconvert_exporter": "python",
   "pygments_lexer": "ipython3",
   "version": "3.7.6"
  }
 },
 "nbformat": 4,
 "nbformat_minor": 4
}
