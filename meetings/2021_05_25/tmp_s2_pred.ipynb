{
 "cells": [
  {
   "cell_type": "code",
   "execution_count": null,
   "id": "c243c927",
   "metadata": {},
   "outputs": [],
   "source": [
    "import pickle\n",
    "import pandas as pd\n",
    "from collections import namedtuple"
   ]
  },
  {
   "cell_type": "code",
   "execution_count": null,
   "id": "13628917",
   "metadata": {},
   "outputs": [],
   "source": [
    "from util_s2_gnn import make_dataset, roc_prc"
   ]
  },
  {
   "cell_type": "code",
   "execution_count": null,
   "id": "00be7a2e",
   "metadata": {},
   "outputs": [],
   "source": [
    "from sklearn.metrics import roc_auc_score, f1_score, average_precision_score"
   ]
  },
  {
   "cell_type": "code",
   "execution_count": null,
   "id": "8d789c27",
   "metadata": {},
   "outputs": [],
   "source": [
    "\n",
    "from s2_train_gnn_10 import Net, make_target, kmer_int"
   ]
  },
  {
   "cell_type": "code",
   "execution_count": null,
   "id": "1a2f12fb",
   "metadata": {},
   "outputs": [],
   "source": [
    "import torch\n",
    "import numpy as np"
   ]
  },
  {
   "cell_type": "code",
   "execution_count": null,
   "id": "290de7b1",
   "metadata": {},
   "outputs": [],
   "source": [
    "import plotly.express as px"
   ]
  },
  {
   "cell_type": "code",
   "execution_count": null,
   "id": "e102d745",
   "metadata": {},
   "outputs": [],
   "source": []
  },
  {
   "cell_type": "code",
   "execution_count": null,
   "id": "30d3bb1e",
   "metadata": {},
   "outputs": [],
   "source": [
    "model = Net([20, 20, 40, 40, 40, 40, 40, 50, 50, 50, 50, 50, 50, 50, 100, 100, 100, 100, 100],\n",
    "            k=3, embed_dim=50)\n",
    "model.load_state_dict(torch.load('result/s2_gnn_run_21.model_ckpt_ep_59.pth', \n",
    "                                 map_location=torch.device('cpu')))\n",
    "model.eval()"
   ]
  },
  {
   "cell_type": "code",
   "execution_count": null,
   "id": "a38808b9",
   "metadata": {},
   "outputs": [],
   "source": [
    "df = pd.read_pickle('data/s2_test_len20_200_1000_pred_stem.pkl.gz')"
   ]
  },
  {
   "cell_type": "code",
   "execution_count": null,
   "id": "a06e9d7f",
   "metadata": {},
   "outputs": [],
   "source": [
    "df.head(1)"
   ]
  },
  {
   "cell_type": "code",
   "execution_count": null,
   "id": "cc0396df",
   "metadata": {},
   "outputs": [],
   "source": [
    "data_test = make_dataset(df, make_target,\n",
    "                                lambda x: kmer_int(x, k=3),\n",
    "                                include_s1_feature=True, s1_feature_dim=6)"
   ]
  },
  {
   "cell_type": "code",
   "execution_count": null,
   "id": "d067c9e1",
   "metadata": {},
   "outputs": [],
   "source": []
  },
  {
   "cell_type": "code",
   "execution_count": null,
   "id": "215c1fff",
   "metadata": {},
   "outputs": [],
   "source": [
    "aurocs = []\n",
    "auprcs = []\n",
    "\n",
    "thresholds = np.linspace(0, 1, 50)\n",
    "f1_scores = {x: [] for x in thresholds}\n",
    "\n",
    "for data_idx, data in enumerate(data_test):\n",
    "    print(data_idx)\n",
    "    pred = model(data)\n",
    "    seq = df.iloc[data_idx].seq\n",
    "    \n",
    "    idx_triu = np.triu_indices(len(seq))\n",
    "    yp_triu = pred.detach().numpy() * data['m']\n",
    "    yp_triu = yp_triu[idx_triu]\n",
    "    yt_triu = data['y'] * data['m']\n",
    "    yt_triu = yt_triu[idx_triu]\n",
    "    \n",
    "    aurocs.append(roc_auc_score(y_score=yp_triu, y_true=yt_triu))\n",
    "    auprcs.append(average_precision_score(y_score=yp_triu, y_true=yt_triu))\n",
    "    \n",
    "    for threshold in thresholds:\n",
    "        f1s = f1_score(y_pred=(yp_triu > threshold), y_true=yt_triu)\n",
    "        f1_scores[threshold].append(f1s)\n",
    "    "
   ]
  },
  {
   "cell_type": "code",
   "execution_count": null,
   "id": "4053cf12",
   "metadata": {},
   "outputs": [],
   "source": [
    "fig = px.scatter(x=aurocs, y=auprcs)\n",
    "fig.update_layout(\n",
    "    xaxis_title=\"auroc_overall\",\n",
    "    yaxis_title=\"auprc_overall\",\n",
    ")"
   ]
  },
  {
   "cell_type": "code",
   "execution_count": null,
   "id": "efcb354c",
   "metadata": {},
   "outputs": [],
   "source": [
    "df_f1_scores = []\n",
    "for k, v in f1_scores.items():\n",
    "    df_f1_scores.append({\n",
    "        'threshold': k,\n",
    "        'mean': np.mean(v),\n",
    "        'std': np.std(v)\n",
    "    })\n",
    "df_f1_scores = pd.DataFrame(df_f1_scores)"
   ]
  },
  {
   "cell_type": "code",
   "execution_count": null,
   "id": "1f6fc408",
   "metadata": {},
   "outputs": [],
   "source": [
    "fig = px.scatter(df_f1_scores, x=\"threshold\", y=\"mean\", error_y=\"std\")\n",
    "fig.update_layout(\n",
    "    yaxis_title=\"F1 score\",\n",
    ")\n",
    "fig.show()"
   ]
  },
  {
   "cell_type": "code",
   "execution_count": null,
   "id": "82f3b041",
   "metadata": {},
   "outputs": [],
   "source": []
  },
  {
   "cell_type": "code",
   "execution_count": null,
   "id": "81b32e3a",
   "metadata": {},
   "outputs": [],
   "source": []
  },
  {
   "cell_type": "code",
   "execution_count": null,
   "id": "e3426378",
   "metadata": {},
   "outputs": [],
   "source": [
    "data_idx = 456\n",
    "data = data_test[data_idx]"
   ]
  },
  {
   "cell_type": "code",
   "execution_count": null,
   "id": "8bbc717d",
   "metadata": {},
   "outputs": [],
   "source": [
    "# data"
   ]
  },
  {
   "cell_type": "code",
   "execution_count": null,
   "id": "56c1aee2",
   "metadata": {},
   "outputs": [],
   "source": [
    "# TmpData = namedtuple(\"TmpData\", [\"x\", \"edge_index\", \"edge_attr\"])\n",
    "\n",
    "# tmp_data = TmpData(x=torch.LongTensor(data['x']),\n",
    "#                   edge_index=torch.from_numpy(data['edge_index']).long(),\n",
    "#                   edge_attr=torch.from_numpy(data['edge_attr']).float())\n",
    "pred = model(data)"
   ]
  },
  {
   "cell_type": "code",
   "execution_count": null,
   "id": "2c763b10",
   "metadata": {},
   "outputs": [],
   "source": [
    "px.imshow(pred.detach().numpy() * data['m'])"
   ]
  },
  {
   "cell_type": "code",
   "execution_count": null,
   "id": "9e23c711",
   "metadata": {},
   "outputs": [],
   "source": [
    "px.imshow(data['y'] * data['m'])"
   ]
  },
  {
   "cell_type": "code",
   "execution_count": null,
   "id": "4fcfb6da",
   "metadata": {},
   "outputs": [],
   "source": [
    "seq = df.iloc[data_idx].seq"
   ]
  },
  {
   "cell_type": "code",
   "execution_count": null,
   "id": "7d4a743c",
   "metadata": {},
   "outputs": [],
   "source": [
    "idx_triu = np.triu_indices(len(seq))\n",
    "yp_triu = pred.detach().numpy() * data['m']\n",
    "yp_triu = yp_triu[idx_triu]\n",
    "yt_triu = data['y'] * data['m']\n",
    "yt_triu = yt_triu[idx_triu]"
   ]
  },
  {
   "cell_type": "code",
   "execution_count": null,
   "id": "d3d78797",
   "metadata": {},
   "outputs": [],
   "source": [
    "roc_auc_score(y_score=yp_triu, y_true=yt_triu)"
   ]
  },
  {
   "cell_type": "code",
   "execution_count": null,
   "id": "e54f08d4",
   "metadata": {},
   "outputs": [],
   "source": [
    "for threhold in np.linspace(0, 1, 50):\n",
    "    f1s = f1_score(y_pred=(yp_triu > threhold), y_true=yt_triu)\n",
    "    print(threhold, f1s)"
   ]
  },
  {
   "cell_type": "code",
   "execution_count": null,
   "id": "e76a2e85",
   "metadata": {},
   "outputs": [],
   "source": []
  },
  {
   "cell_type": "code",
   "execution_count": null,
   "id": "c46a0673",
   "metadata": {},
   "outputs": [],
   "source": []
  }
 ],
 "metadata": {
  "kernelspec": {
   "display_name": "Python 3",
   "language": "python",
   "name": "python3"
  },
  "language_info": {
   "codemirror_mode": {
    "name": "ipython",
    "version": 3
   },
   "file_extension": ".py",
   "mimetype": "text/x-python",
   "name": "python",
   "nbconvert_exporter": "python",
   "pygments_lexer": "ipython3",
   "version": "3.9.2"
  }
 },
 "nbformat": 4,
 "nbformat_minor": 5
}
