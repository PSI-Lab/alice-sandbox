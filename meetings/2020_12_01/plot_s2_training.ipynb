{
 "cells": [
  {
   "cell_type": "code",
   "execution_count": null,
   "metadata": {},
   "outputs": [],
   "source": [
    "import re\n",
    "import dgutils.pandas as dgp\n",
    "import pandas as pd\n",
    "import plotly.express as px"
   ]
  },
  {
   "cell_type": "code",
   "execution_count": null,
   "metadata": {},
   "outputs": [],
   "source": [
    "p_t = 'End of epoch ([0-9]+), training: mean loss ([0-9.]+)$'\n",
    "p_v = 'validation mean loss ([0-9.]+)$'\n",
    "\n",
    "epochs = []\n",
    "loss_tr = []\n",
    "loss_va = []\n",
    "\n",
    "with open('data/log_tmp.txt', 'r') as f:\n",
    "    for line in f:\n",
    "        match_t = re.search(p_t, line)\n",
    "        match_v = re.search(p_v, line)\n",
    "        assert not (match_t and match_v)\n",
    "        \n",
    "        if match_t:\n",
    "            epochs.append(int(match_t.group(1)))\n",
    "            loss_tr.append(float(match_t.group(2)))\n",
    "        \n",
    "        if match_v:\n",
    "            loss_va.append(float(match_v.group(1)))\n"
   ]
  },
  {
   "cell_type": "code",
   "execution_count": null,
   "metadata": {},
   "outputs": [],
   "source": [
    "assert len(epochs) == len(loss_tr)\n",
    "assert len(epochs) == len(loss_va)"
   ]
  },
  {
   "cell_type": "code",
   "execution_count": null,
   "metadata": {},
   "outputs": [],
   "source": [
    "df = pd.concat([pd.DataFrame({'epoch': epochs, 'loss': loss_tr, 'type': 'training'}),\n",
    "               pd.DataFrame({'epoch': epochs, 'loss': loss_va, 'type': 'validation'})])\n",
    "\n"
   ]
  },
  {
   "cell_type": "code",
   "execution_count": null,
   "metadata": {},
   "outputs": [],
   "source": [
    "px.line(df, x='epoch', y='loss', color='type')"
   ]
  },
  {
   "cell_type": "code",
   "execution_count": null,
   "metadata": {},
   "outputs": [],
   "source": [
    "# visualize a few prediction v.s. target\n",
    "\n",
    "'''\n",
    "2020-11-26 20:26:18 End of epoch 40, training: mean loss 0.19676669695488555\n",
    "2020-11-26 20:26:18 Training dataset idx 8156\n",
    "y: [1 0 1 1 0 0 0 1 1 0 1]\n",
    "pred: tensor([9.7940e-01, 4.4464e-04, 9.9897e-01, 9.9989e-01, 4.7954e-05, 4.7222e-05,\n",
    "        2.0860e-04, 9.9899e-01, 9.9779e-01, 1.0926e-04, 9.9989e-01],\n",
    "       grad_fn=<SqueezeBackward0>)\n",
    "2020-11-26 20:27:07 validation mean loss 0.21962793093857888\n",
    "2020-11-26 20:27:07 Validation dataset idx 1751\n",
    "y: [1 0 1 0 0 0 0 0 0 0 0 1 1 1 0 1 0 0 0 0 0 1 1 1 0 0 0 0 1 0]\n",
    "pred: tensor([6.6941e-01, 8.0559e-02, 8.1271e-01, 4.9087e-04, 7.8985e-02, 4.2739e-03,\n",
    "        4.7315e-03, 1.8142e-03, 2.0005e-02, 1.1256e-01, 2.4809e-03, 8.9429e-01,\n",
    "        9.8439e-01, 9.9459e-01, 2.0874e-02, 5.4990e-01, 7.1298e-02, 2.6588e-03,\n",
    "        5.3415e-04, 1.3568e-03, 3.2593e-02, 9.4240e-01, 9.8141e-01, 5.2696e-01,\n",
    "        6.2156e-02, 1.1095e-01, 4.4847e-04, 2.1328e-04, 9.9268e-01, 1.0539e-02],\n",
    "       grad_fn=<SqueezeBackward0>)\n",
    "'''\n",
    "\n",
    "target = [1, 0, 1, 1, 0, 0, 0, 1, 1, 0, 1]\n",
    "prediction = [9.7940e-01, 4.4464e-04, 9.9897e-01, 9.9989e-01, 4.7954e-05, 4.7222e-05,\n",
    "        2.0860e-04, 9.9899e-01, 9.9779e-01, 1.0926e-04, 9.9989e-01]\n",
    "df = pd.DataFrame({'target': target, 'prediction': prediction})\n",
    "# to be consistent use same color for 0 and 1\n",
    "df =df.sort_values(by='target')\n",
    "\n",
    "px.violin(df, y=\"prediction\", color=\"target\", points='all')\n"
   ]
  },
  {
   "cell_type": "code",
   "execution_count": null,
   "metadata": {},
   "outputs": [],
   "source": [
    "target = [1, 0, 1, 0, 0, 0, 0, 0, 0, 0, 0, 1, 1, 1, 0, 1, 0, 0, 0, 0, 0, 1, 1, 1, 0, 0, 0, 0, 1, 0]\n",
    "prediction = [6.6941e-01, 8.0559e-02, 8.1271e-01, 4.9087e-04, 7.8985e-02, 4.2739e-03,\n",
    "        4.7315e-03, 1.8142e-03, 2.0005e-02, 1.1256e-01, 2.4809e-03, 8.9429e-01,\n",
    "        9.8439e-01, 9.9459e-01, 2.0874e-02, 5.4990e-01, 7.1298e-02, 2.6588e-03,\n",
    "        5.3415e-04, 1.3568e-03, 3.2593e-02, 9.4240e-01, 9.8141e-01, 5.2696e-01,\n",
    "        6.2156e-02, 1.1095e-01, 4.4847e-04, 2.1328e-04, 9.9268e-01, 1.0539e-02]\n",
    "\n",
    "df = pd.DataFrame({'target': target, 'prediction': prediction})\n",
    "# to be consistent use same color for 0 and 1\n",
    "df =df.sort_values(by='target')\n",
    "\n",
    "px.violin(df, y=\"prediction\", color=\"target\", points='all')\n"
   ]
  },
  {
   "cell_type": "code",
   "execution_count": null,
   "metadata": {},
   "outputs": [],
   "source": [
    "'''\n",
    "2020-11-26 21:20:29 End of epoch 43, training: mean loss 0.196003219532167\n",
    "2020-11-26 21:20:29 Training dataset idx 15552\n",
    "y: [0 0 1 0 0 1 0 0 1 0 0 0 0 0 1 0 1 0 0 0 0 0 0 0 0 0 0 0 0 0 0 0 0 1 0 0 0\n",
    " 0 0 0 1 0 0 0 1 0 0 0 1 0]\n",
    "pred: tensor([0.4260, 0.3538, 0.0980, 0.1453, 0.3521, 0.5263, 0.0701, 0.0548, 0.7405,\n",
    "        0.1161, 0.0145, 0.0855, 0.5095, 0.2327, 0.8186, 0.0122, 0.4952, 0.0045,\n",
    "        0.2514, 0.0362, 0.0213, 0.0270, 0.1019, 0.0574, 0.0676, 0.0938, 0.0020,\n",
    "        0.0023, 0.0015, 0.0017, 0.0023, 0.0017, 0.0013, 0.5988, 0.0642, 0.0060,\n",
    "        0.0636, 0.0153, 0.0045, 0.7117, 0.9024, 0.0066, 0.0344, 0.3475, 0.6825,\n",
    "        0.1900, 0.0094, 0.0038, 0.2097, 0.2063], grad_fn=<SqueezeBackward0>)\n",
    "2020-11-26 21:21:20 validation mean loss 0.2124134750018768\n",
    "2020-11-26 21:21:20 Validation dataset idx 2461\n",
    "y: [0 0 0 0 0 0 1 0 0 1 1 0 0 0 1 0 1 1 0 1 0 0 0 0 0 0 0 0 0 0 1 0 1 0 0 1 0\n",
    " 1 1 0 0 1 0 0 0 0 1 0]\n",
    "pred: tensor([6.8381e-03, 3.7121e-03, 1.2933e-02, 7.7717e-04, 4.2872e-04, 8.5214e-03,\n",
    "        3.9045e-01, 1.8314e-01, 4.3169e-01, 9.7192e-01, 9.8162e-01, 2.1084e-02,\n",
    "        4.2321e-02, 3.7866e-01, 9.6460e-01, 2.3235e-01, 8.6031e-01, 7.0295e-01,\n",
    "        5.2629e-01, 5.6520e-01, 1.7688e-04, 6.7823e-04, 2.8738e-02, 7.6379e-03,\n",
    "        5.9625e-03, 2.5476e-04, 1.0962e-04, 8.1830e-05, 1.5222e-04, 2.5575e-04,\n",
    "        9.6569e-01, 1.2347e-01, 9.7072e-01, 1.1605e-02, 2.2324e-02, 9.7317e-01,\n",
    "        1.2125e-01, 8.9032e-01, 8.8223e-01, 5.2670e-01, 1.5477e-04, 8.6169e-01,\n",
    "        3.8139e-02, 4.0593e-02, 3.8640e-02, 6.7475e-01, 2.7346e-01, 1.3997e-03],\n",
    "       grad_fn=<SqueezeBackward0>)\n",
    "'''\n",
    "\n",
    "target = [0, 0, 1, 0, 0, 1, 0, 0, 1, 0, 0, 0, 0, 0, 1, 0, 1, 0, 0, 0, 0, 0, 0, 0, 0, 0, 0, 0, 0, 0, 0, 0, 0, 1, 0, 0, 0,\n",
    " 0, 0, 0, 1, 0, 0, 0, 1, 0, 0, 0, 1, 0]\n",
    "prediction = [0.4260, 0.3538, 0.0980, 0.1453, 0.3521, 0.5263, 0.0701, 0.0548, 0.7405,\n",
    "        0.1161, 0.0145, 0.0855, 0.5095, 0.2327, 0.8186, 0.0122, 0.4952, 0.0045,\n",
    "        0.2514, 0.0362, 0.0213, 0.0270, 0.1019, 0.0574, 0.0676, 0.0938, 0.0020,\n",
    "        0.0023, 0.0015, 0.0017, 0.0023, 0.0017, 0.0013, 0.5988, 0.0642, 0.0060,\n",
    "        0.0636, 0.0153, 0.0045, 0.7117, 0.9024, 0.0066, 0.0344, 0.3475, 0.6825,\n",
    "        0.1900, 0.0094, 0.0038, 0.2097, 0.2063]\n",
    "df = pd.DataFrame({'target': target, 'prediction': prediction})\n",
    "# to be consistent use same color for 0 and 1\n",
    "df =df.sort_values(by='target')\n",
    "\n",
    "px.violin(df, y=\"prediction\", color=\"target\", points='all')\n"
   ]
  },
  {
   "cell_type": "code",
   "execution_count": null,
   "metadata": {},
   "outputs": [],
   "source": [
    "target = [0, 0, 0, 0, 0, 0, 1, 0, 0, 1, 1, 0, 0, 0, 1, 0, 1, 1, 0, 1, 0, 0, 0, 0, 0, 0, 0, 0, 0, 0, 1, 0, 1, 0, 0, 1, 0,\n",
    " 1, 1, 0, 0, 1, 0, 0, 0, 0, 1, 0]\n",
    "prediction = [6.8381e-03, 3.7121e-03, 1.2933e-02, 7.7717e-04, 4.2872e-04, 8.5214e-03,\n",
    "        3.9045e-01, 1.8314e-01, 4.3169e-01, 9.7192e-01, 9.8162e-01, 2.1084e-02,\n",
    "        4.2321e-02, 3.7866e-01, 9.6460e-01, 2.3235e-01, 8.6031e-01, 7.0295e-01,\n",
    "        5.2629e-01, 5.6520e-01, 1.7688e-04, 6.7823e-04, 2.8738e-02, 7.6379e-03,\n",
    "        5.9625e-03, 2.5476e-04, 1.0962e-04, 8.1830e-05, 1.5222e-04, 2.5575e-04,\n",
    "        9.6569e-01, 1.2347e-01, 9.7072e-01, 1.1605e-02, 2.2324e-02, 9.7317e-01,\n",
    "        1.2125e-01, 8.9032e-01, 8.8223e-01, 5.2670e-01, 1.5477e-04, 8.6169e-01,\n",
    "        3.8139e-02, 4.0593e-02, 3.8640e-02, 6.7475e-01, 2.7346e-01, 1.3997e-03]\n",
    "\n",
    "df = pd.DataFrame({'target': target, 'prediction': prediction})\n",
    "# to be consistent use same color for 0 and 1\n",
    "df =df.sort_values(by='target')\n",
    "\n",
    "px.violin(df, y=\"prediction\", color=\"target\", points='all')"
   ]
  },
  {
   "cell_type": "code",
   "execution_count": null,
   "metadata": {},
   "outputs": [],
   "source": []
  }
 ],
 "metadata": {
  "kernelspec": {
   "display_name": "Python 3",
   "language": "python",
   "name": "python3"
  },
  "language_info": {
   "codemirror_mode": {
    "name": "ipython",
    "version": 3
   },
   "file_extension": ".py",
   "mimetype": "text/x-python",
   "name": "python",
   "nbconvert_exporter": "python",
   "pygments_lexer": "ipython3",
   "version": "3.7.6"
  }
 },
 "nbformat": 4,
 "nbformat_minor": 4
}
