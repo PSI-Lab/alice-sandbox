{
 "cells": [
  {
   "cell_type": "code",
   "execution_count": null,
   "metadata": {},
   "outputs": [],
   "source": [
    "import pandas as pd\n",
    "import numpy as np"
   ]
  },
  {
   "cell_type": "code",
   "execution_count": null,
   "metadata": {},
   "outputs": [],
   "source": [
    "import datacorral as dc"
   ]
  },
  {
   "cell_type": "code",
   "execution_count": null,
   "metadata": {},
   "outputs": [],
   "source": [
    "import plotly.graph_objects as go\n",
    "from plotly.subplots import make_subplots\n",
    "import plotly.express as px"
   ]
  },
  {
   "cell_type": "code",
   "execution_count": null,
   "metadata": {},
   "outputs": [],
   "source": [
    "dc_client = dc.Client()"
   ]
  },
  {
   "cell_type": "code",
   "execution_count": null,
   "metadata": {},
   "outputs": [],
   "source": [
    "def make_plot(df_dataset):\n",
    "    # compute sizes\n",
    "    # proportion of bounding boxes whose size <= 10 <- which also implies some pixels will have their location offset > 10\n",
    "    df_target_bb_size = []\n",
    "    for _, row in df_dataset.iterrows():\n",
    "        bounding_boxes = row['bounding_boxes']\n",
    "        sizes = {'stem': [], 'internal_loop': [], 'hairpin_loop': []}\n",
    "        for _, (siz_x, siz_y), struct_type in bounding_boxes:\n",
    "            if struct_type in sizes:\n",
    "                sizes[struct_type].append(max(siz_x, siz_y))\n",
    "        # summary\n",
    "        df_target_bb_size.append({k: np.sum(np.asarray(v) <= 10)/float(len(v)) for k, v in sizes.items()})\n",
    "\n",
    "    df_target_bb_size = pd.DataFrame(df_target_bb_size)\n",
    "    # make plot\n",
    "    fig = make_subplots(rows=1, cols=1)\n",
    "    bb2color = {\n",
    "        'stem': px.colors.qualitative.Plotly[0],\n",
    "        'internal_loop': px.colors.qualitative.Plotly[1],\n",
    "        'hairpin_loop': px.colors.qualitative.Plotly[2],\n",
    "    }\n",
    "\n",
    "    for bb_type in ['stem', 'internal_loop', 'hairpin_loop']:\n",
    "        fig.append_trace(go.Histogram(x=df_target_bb_size[bb_type],\n",
    "                                      name=bb_type, nbinsx=20, marker_color=bb2color[bb_type],\n",
    "                                      histnorm='percent'), 1, 1)\n",
    "\n",
    "    fig.update_layout(\n",
    "        autosize=False,\n",
    "        width=600,\n",
    "        height=400,\n",
    "        title='target: proportion of boxes with size <= 10',\n",
    "    )        \n",
    "    return fig"
   ]
  },
  {
   "cell_type": "code",
   "execution_count": null,
   "metadata": {},
   "outputs": [],
   "source": []
  },
  {
   "cell_type": "code",
   "execution_count": null,
   "metadata": {},
   "outputs": [],
   "source": [
    "df_bprna = pd.read_pickle(dc_client.get_path('DmNgdP'), compression='gzip')\n",
    "df_rand = pd.read_pickle(dc_client.get_path('ZQi8RT'), compression='gzip')"
   ]
  },
  {
   "cell_type": "code",
   "execution_count": null,
   "metadata": {},
   "outputs": [],
   "source": [
    "fig_bprna = make_plot(df_bprna)\n",
    "fig_bprna.update_layout(\n",
    "    title=\"bprna {}\".format(fig_bprna.layout['title']['text']),\n",
    ")   "
   ]
  },
  {
   "cell_type": "code",
   "execution_count": null,
   "metadata": {},
   "outputs": [],
   "source": [
    "fig_rand = make_plot(df_rand)\n",
    "fig_rand.update_layout(\n",
    "    title=\"rand seq {}\".format(fig_bprna.layout['title']['text']),\n",
    ")   "
   ]
  },
  {
   "cell_type": "code",
   "execution_count": null,
   "metadata": {},
   "outputs": [],
   "source": []
  }
 ],
 "metadata": {
  "kernelspec": {
   "display_name": "Python 3",
   "language": "python",
   "name": "python3"
  },
  "language_info": {
   "codemirror_mode": {
    "name": "ipython",
    "version": 3
   },
   "file_extension": ".py",
   "mimetype": "text/x-python",
   "name": "python",
   "nbconvert_exporter": "python",
   "pygments_lexer": "ipython3",
   "version": "3.7.6"
  }
 },
 "nbformat": 4,
 "nbformat_minor": 4
}
