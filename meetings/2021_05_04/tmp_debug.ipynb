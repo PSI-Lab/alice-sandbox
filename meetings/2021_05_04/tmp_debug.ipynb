{
 "cells": [
  {
   "cell_type": "code",
   "execution_count": null,
   "id": "a05034e5",
   "metadata": {},
   "outputs": [],
   "source": [
    "import pickle\n",
    "import pandas as pd\n",
    "from collections import namedtuple"
   ]
  },
  {
   "cell_type": "code",
   "execution_count": null,
   "id": "231643c8",
   "metadata": {},
   "outputs": [],
   "source": [
    "from util_s2_gnn import make_dataset, roc_prc"
   ]
  },
  {
   "cell_type": "code",
   "execution_count": null,
   "id": "55b9e906",
   "metadata": {},
   "outputs": [],
   "source": [
    "from s2_train_gnn_10 import Net, make_target, kmer_int"
   ]
  },
  {
   "cell_type": "code",
   "execution_count": null,
   "id": "de03fa89",
   "metadata": {},
   "outputs": [],
   "source": [
    "import torch\n",
    "import numpy as np"
   ]
  },
  {
   "cell_type": "code",
   "execution_count": null,
   "id": "b09ca8e9",
   "metadata": {},
   "outputs": [],
   "source": [
    "import plotly.express as px"
   ]
  },
  {
   "cell_type": "code",
   "execution_count": null,
   "id": "1ec82c5c",
   "metadata": {},
   "outputs": [],
   "source": []
  },
  {
   "cell_type": "code",
   "execution_count": null,
   "id": "474afa2d",
   "metadata": {},
   "outputs": [],
   "source": [
    "with open('result/s2_gnn_run_10_10.pred_va_ep_99.pkl', 'rb') as f:\n",
    "    data_debug = pickle.load(f)"
   ]
  },
  {
   "cell_type": "code",
   "execution_count": null,
   "id": "74c6c027",
   "metadata": {},
   "outputs": [],
   "source": [
    "len(data_debug)"
   ]
  },
  {
   "cell_type": "code",
   "execution_count": null,
   "id": "0e10965a",
   "metadata": {
    "scrolled": false
   },
   "outputs": [],
   "source": [
    "auroc_all = []\n",
    "auprc_all = []\n",
    "\n",
    "for data in data_debug:\n",
    "    auroc, auprc = roc_prc(torch.from_numpy(data['y']).float(), \n",
    "        torch.from_numpy(data['yp']).float(), \n",
    "        torch.from_numpy(data['m']).float())\n",
    "    auroc_all.append(auroc)\n",
    "    auprc_all.append(auprc)"
   ]
  },
  {
   "cell_type": "code",
   "execution_count": null,
   "id": "87628f01",
   "metadata": {},
   "outputs": [],
   "source": [
    "px.histogram(pd.DataFrame({'auROC': auroc_all}))"
   ]
  },
  {
   "cell_type": "code",
   "execution_count": null,
   "id": "969826d8",
   "metadata": {},
   "outputs": [],
   "source": [
    "px.histogram(pd.DataFrame({'auPRC': auprc_all}))"
   ]
  },
  {
   "cell_type": "code",
   "execution_count": null,
   "id": "66f3893d",
   "metadata": {},
   "outputs": [],
   "source": [
    "px.scatter(pd.DataFrame({'auROC': auroc_all,\n",
    "                         'auPRC': auprc_all}),\n",
    "          x='auROC', y='auPRC')"
   ]
  },
  {
   "cell_type": "code",
   "execution_count": null,
   "id": "b4ff185c",
   "metadata": {},
   "outputs": [],
   "source": []
  },
  {
   "cell_type": "code",
   "execution_count": null,
   "id": "11b61693",
   "metadata": {},
   "outputs": [],
   "source": [
    "data = data_debug[0]"
   ]
  },
  {
   "cell_type": "code",
   "execution_count": null,
   "id": "35b83752",
   "metadata": {},
   "outputs": [],
   "source": []
  },
  {
   "cell_type": "code",
   "execution_count": null,
   "id": "8b60c545",
   "metadata": {},
   "outputs": [],
   "source": [
    "roc_prc(torch.from_numpy(data['y']).float(), \n",
    "        torch.from_numpy(data['yp']).float(), \n",
    "        torch.from_numpy(data['m']).float())"
   ]
  },
  {
   "cell_type": "code",
   "execution_count": null,
   "id": "5b89a18c",
   "metadata": {},
   "outputs": [],
   "source": [
    "px.imshow(data['yp'] * data['m'])"
   ]
  },
  {
   "cell_type": "code",
   "execution_count": null,
   "id": "ed6e71b8",
   "metadata": {},
   "outputs": [],
   "source": [
    "px.imshow(data['y'])"
   ]
  },
  {
   "cell_type": "code",
   "execution_count": null,
   "id": "b7d8c022",
   "metadata": {},
   "outputs": [],
   "source": [
    "model = Net([20, 20, 40, 40, 40, 50, 50, 50, 50, 100, 100, 100],\n",
    "            k=3, embed_dim=50)\n",
    "model.load_state_dict(torch.load('result/s2_gnn_run_10_10.model_ckpt_ep_99.pth', \n",
    "                                 map_location=torch.device('cpu')))\n",
    "model.eval()"
   ]
  },
  {
   "cell_type": "code",
   "execution_count": null,
   "id": "a4b4c24b",
   "metadata": {},
   "outputs": [],
   "source": [
    "TmpData = namedtuple(\"TmpData\", [\"x\", \"edge_index\", \"edge_attr\"])\n",
    "\n",
    "tmp_data = TmpData(x=torch.LongTensor(data['x']),\n",
    "                  edge_index=torch.from_numpy(data['edge_index']).long(),\n",
    "                  edge_attr=torch.from_numpy(data['edge_attr']).float())\n",
    "tmp_pred = model(tmp_data)"
   ]
  },
  {
   "cell_type": "code",
   "execution_count": null,
   "id": "6fd49c4c",
   "metadata": {},
   "outputs": [],
   "source": [
    "tmp_pred[:2, :2].detach().numpy()"
   ]
  },
  {
   "cell_type": "code",
   "execution_count": null,
   "id": "7855a78f",
   "metadata": {},
   "outputs": [],
   "source": [
    "data['yp'][:2, :2]"
   ]
  },
  {
   "cell_type": "code",
   "execution_count": null,
   "id": "c85602e2",
   "metadata": {},
   "outputs": [],
   "source": []
  },
  {
   "cell_type": "code",
   "execution_count": null,
   "id": "866d16f5",
   "metadata": {},
   "outputs": [],
   "source": [
    "np.testing.assert_almost_equal(tmp_pred.detach().numpy(), data['yp'], decimal=5)"
   ]
  },
  {
   "cell_type": "code",
   "execution_count": null,
   "id": "5852ce6c",
   "metadata": {},
   "outputs": [],
   "source": []
  },
  {
   "cell_type": "code",
   "execution_count": null,
   "id": "1923872e",
   "metadata": {},
   "outputs": [],
   "source": [
    "roc_prc(torch.from_numpy(data['y']).float(), \n",
    "        torch.from_numpy(data['yp']).float(), \n",
    "        torch.from_numpy(data['m']).float())"
   ]
  },
  {
   "cell_type": "code",
   "execution_count": null,
   "id": "09860ac3",
   "metadata": {},
   "outputs": [],
   "source": [
    "roc_prc(torch.from_numpy(data['y']).float(), \n",
    "        tmp_pred, \n",
    "        torch.from_numpy(data['m']).float())"
   ]
  },
  {
   "cell_type": "code",
   "execution_count": null,
   "id": "2fd02ad9",
   "metadata": {},
   "outputs": [],
   "source": []
  }
 ],
 "metadata": {
  "kernelspec": {
   "display_name": "Python 3",
   "language": "python",
   "name": "python3"
  },
  "language_info": {
   "codemirror_mode": {
    "name": "ipython",
    "version": 3
   },
   "file_extension": ".py",
   "mimetype": "text/x-python",
   "name": "python",
   "nbconvert_exporter": "python",
   "pygments_lexer": "ipython3",
   "version": "3.9.2"
  }
 },
 "nbformat": 4,
 "nbformat_minor": 5
}
