{
 "cells": [
  {
   "cell_type": "code",
   "execution_count": null,
   "id": "reflected-things",
   "metadata": {},
   "outputs": [],
   "source": [
    "import pandas as pd"
   ]
  },
  {
   "cell_type": "code",
   "execution_count": null,
   "id": "heated-cincinnati",
   "metadata": {},
   "outputs": [],
   "source": [
    "from model_utils.util_global_struct import process_bb_old_to_new\n",
    "import model_utils.utils_s2 as us2 # TODO merge s2 util\n",
    "from model_utils.utils_nn_s2 import predict_wrapper, stem2db_str"
   ]
  },
  {
   "cell_type": "code",
   "execution_count": null,
   "id": "focal-invasion",
   "metadata": {},
   "outputs": [],
   "source": [
    "predictor_s2 = us2.Predictor('v0.2')"
   ]
  },
  {
   "cell_type": "code",
   "execution_count": null,
   "id": "statutory-religious",
   "metadata": {},
   "outputs": [],
   "source": [
    "# df = pd.read_pickle('data/rfam_t0p01_k1.pkl.gz')\n",
    "df = pd.read_pickle('data/rfam_t0p1_k1.pkl.gz')"
   ]
  },
  {
   "cell_type": "code",
   "execution_count": null,
   "id": "legitimate-substance",
   "metadata": {},
   "outputs": [],
   "source": [
    "len(df)"
   ]
  },
  {
   "cell_type": "code",
   "execution_count": null,
   "id": "practical-liverpool",
   "metadata": {},
   "outputs": [],
   "source": [
    "len(df[df['len'] <= 100])"
   ]
  },
  {
   "cell_type": "code",
   "execution_count": null,
   "id": "liquid-combining",
   "metadata": {
    "scrolled": false
   },
   "outputs": [],
   "source": [
    "# df.sort_values(by='len')[140:]"
   ]
  },
  {
   "cell_type": "code",
   "execution_count": null,
   "id": "matched-country",
   "metadata": {},
   "outputs": [],
   "source": [
    "# row = df.iloc[134]\n",
    "row = df[df['seq_id'] == 'RF00488_B'].iloc[0]"
   ]
  },
  {
   "cell_type": "code",
   "execution_count": null,
   "id": "compliant-darwin",
   "metadata": {},
   "outputs": [],
   "source": [
    "row"
   ]
  },
  {
   "cell_type": "code",
   "execution_count": null,
   "id": "average-clear",
   "metadata": {},
   "outputs": [],
   "source": [
    "df_target = process_bb_old_to_new(row['bounding_boxes'])\n",
    "df_target"
   ]
  },
  {
   "cell_type": "code",
   "execution_count": null,
   "id": "mighty-rachel",
   "metadata": {},
   "outputs": [],
   "source": [
    "df_pred_stem = pd.DataFrame(row['bb_stem'])\n",
    "len(df_pred_stem)"
   ]
  },
  {
   "cell_type": "code",
   "execution_count": null,
   "id": "surprising-hundred",
   "metadata": {},
   "outputs": [],
   "source": [
    "df_pred_iloop = pd.DataFrame(row['bb_iloop'])\n",
    "len(df_pred_iloop)"
   ]
  },
  {
   "cell_type": "code",
   "execution_count": null,
   "id": "outer-crowd",
   "metadata": {},
   "outputs": [],
   "source": [
    "df_pred_hloop = pd.DataFrame(row['bb_hloop'])\n",
    "len(df_pred_hloop)"
   ]
  },
  {
   "cell_type": "code",
   "execution_count": null,
   "id": "valid-damage",
   "metadata": {},
   "outputs": [],
   "source": []
  },
  {
   "cell_type": "code",
   "execution_count": null,
   "id": "answering-riverside",
   "metadata": {},
   "outputs": [],
   "source": [
    "df_target.columns"
   ]
  },
  {
   "cell_type": "code",
   "execution_count": null,
   "id": "macro-liechtenstein",
   "metadata": {},
   "outputs": [],
   "source": [
    "pd.merge(df_target[df_target['bb_type'] == 'stem'], df_pred_stem, \n",
    "         on=['bb_x', 'bb_y', 'siz_x', 'siz_y'], how='left')"
   ]
  },
  {
   "cell_type": "code",
   "execution_count": null,
   "id": "chronic-interim",
   "metadata": {},
   "outputs": [],
   "source": [
    "pd.merge(df_target[df_target['bb_type'] == 'iloop'], df_pred_iloop, \n",
    "         on=['bb_x', 'bb_y', 'siz_x', 'siz_y'], how='left')"
   ]
  },
  {
   "cell_type": "code",
   "execution_count": null,
   "id": "greek-administration",
   "metadata": {},
   "outputs": [],
   "source": [
    "pd.merge(df_target[df_target['bb_type'] == 'hloop'], df_pred_hloop, \n",
    "         on=['bb_x', 'bb_y', 'siz_x', 'siz_y'], how='left')"
   ]
  },
  {
   "cell_type": "code",
   "execution_count": null,
   "id": "collectible-uruguay",
   "metadata": {},
   "outputs": [],
   "source": []
  },
  {
   "cell_type": "code",
   "execution_count": null,
   "id": "cellular-utility",
   "metadata": {},
   "outputs": [],
   "source": [
    "df_pred"
   ]
  },
  {
   "cell_type": "code",
   "execution_count": null,
   "id": "compound-survey",
   "metadata": {},
   "outputs": [],
   "source": [
    "print(\"s1 bounding boxes (before pruning): {} stems, {} iloops, {} hloops\".format(len(df_pred_stem), len(df_pred_iloop), len(df_pred_hloop)))"
   ]
  },
  {
   "cell_type": "code",
   "execution_count": null,
   "id": "rational-caribbean",
   "metadata": {},
   "outputs": [],
   "source": [
    "%%time\n",
    "# s2 prediction\n",
    "df_pred = predict_wrapper(df_pred_stem, df_pred_iloop, df_pred_hloop, \n",
    "                          discard_ns_stem=True, min_hloop_size=2, \n",
    "                          seq=row['seq'], m_factor=1, predictor=predictor_s2)"
   ]
  },
  {
   "cell_type": "code",
   "execution_count": null,
   "id": "affected-hands",
   "metadata": {},
   "outputs": [],
   "source": [
    "# for forna display\n",
    "db_str_target = stem2db_str(df_stem=df_target[df_target['bb_type'] == 'stem'], seq_len=row['len'])\n",
    "db_str_pred = stem2db_str(df_stem=df_pred[df_pred['bb_type'] == 'stem'], seq_len=row['len'])\n",
    "print(row['seq_id'])\n",
    "print(\">s1\\n{}\\n{}\\n\\n>s2\\n{}\\n{}\".format(row['seq'], db_str_target, row['seq'], db_str_pred))"
   ]
  },
  {
   "cell_type": "code",
   "execution_count": null,
   "id": "fallen-thinking",
   "metadata": {},
   "outputs": [],
   "source": []
  },
  {
   "cell_type": "code",
   "execution_count": null,
   "id": "instrumental-empty",
   "metadata": {},
   "outputs": [],
   "source": []
  },
  {
   "cell_type": "code",
   "execution_count": null,
   "id": "annoying-chase",
   "metadata": {},
   "outputs": [],
   "source": [
    "# RL?"
   ]
  }
 ],
 "metadata": {
  "kernelspec": {
   "display_name": "Python 3",
   "language": "python",
   "name": "python3"
  },
  "language_info": {
   "codemirror_mode": {
    "name": "ipython",
    "version": 3
   },
   "file_extension": ".py",
   "mimetype": "text/x-python",
   "name": "python",
   "nbconvert_exporter": "python",
   "pygments_lexer": "ipython3",
   "version": "3.7.6"
  }
 },
 "nbformat": 4,
 "nbformat_minor": 5
}
