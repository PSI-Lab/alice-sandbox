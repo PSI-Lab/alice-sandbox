{
 "cells": [
  {
   "cell_type": "code",
   "execution_count": null,
   "id": "devoted-harvest",
   "metadata": {},
   "outputs": [],
   "source": [
    "import pandas as pd\n",
    "import dgutils.pandas as dgp\n",
    "import plotly.express as px"
   ]
  },
  {
   "cell_type": "code",
   "execution_count": null,
   "id": "ecological-parade",
   "metadata": {},
   "outputs": [],
   "source": [
    "# df = pd.read_pickle('data/rfam_t0p01_k1.pkl.gz')\n",
    "# df = pd.read_pickle('data/s_processed_t0p01_k1.pkl.gz')\n",
    "df = pd.read_pickle('../2021_01_19/data/synthetic_s1_pred_1000_t0p001_k1.pkl.gz')"
   ]
  },
  {
   "cell_type": "code",
   "execution_count": null,
   "id": "clinical-freight",
   "metadata": {},
   "outputs": [],
   "source": [
    "df = dgp.add_column(df, 'num_stem', ['bb_stem'], lambda x: None if x is None else len(x))\n",
    "df = dgp.add_column(df, 'num_iloop', ['bb_iloop'], lambda x: None if x is None else len(x))\n",
    "df = dgp.add_column(df, 'num_hloop', ['bb_hloop'], lambda x: None if x is None else len(x))"
   ]
  },
  {
   "cell_type": "code",
   "execution_count": null,
   "id": "auburn-condition",
   "metadata": {},
   "outputs": [],
   "source": [
    "px.scatter(df, x='len', y=['num_stem', 'num_iloop', 'num_hloop'], log_y=True)"
   ]
  },
  {
   "cell_type": "code",
   "execution_count": null,
   "id": "incoming-stocks",
   "metadata": {},
   "outputs": [],
   "source": []
  }
 ],
 "metadata": {
  "kernelspec": {
   "display_name": "Python 3",
   "language": "python",
   "name": "python3"
  },
  "language_info": {
   "codemirror_mode": {
    "name": "ipython",
    "version": 3
   },
   "file_extension": ".py",
   "mimetype": "text/x-python",
   "name": "python",
   "nbconvert_exporter": "python",
   "pygments_lexer": "ipython3",
   "version": "3.7.6"
  }
 },
 "nbformat": 4,
 "nbformat_minor": 5
}
