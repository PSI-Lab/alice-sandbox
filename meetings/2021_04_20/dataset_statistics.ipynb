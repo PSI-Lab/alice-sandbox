{
 "cells": [
  {
   "cell_type": "code",
   "execution_count": null,
   "id": "85b437b0",
   "metadata": {},
   "outputs": [],
   "source": [
    "import pandas as pd\n",
    "import plotly.express as px"
   ]
  },
  {
   "cell_type": "code",
   "execution_count": null,
   "id": "aab8ae24",
   "metadata": {},
   "outputs": [],
   "source": [
    "import numpy as np"
   ]
  },
  {
   "cell_type": "code",
   "execution_count": null,
   "id": "b4b7108b",
   "metadata": {},
   "outputs": [],
   "source": [
    "from collections import defaultdict"
   ]
  },
  {
   "cell_type": "code",
   "execution_count": null,
   "id": "034231ab",
   "metadata": {},
   "outputs": [],
   "source": [
    "df = pd.read_pickle('data/human_transcriptome_segment_high_mfe_freq_training_len20_200_5000_pred_stem_bps.pkl.gz')"
   ]
  },
  {
   "cell_type": "code",
   "execution_count": null,
   "id": "c5462e56",
   "metadata": {},
   "outputs": [],
   "source": [
    "row = df.iloc[0]"
   ]
  },
  {
   "cell_type": "code",
   "execution_count": null,
   "id": "9ed911bd",
   "metadata": {},
   "outputs": [],
   "source": [
    "seq = row['seq']"
   ]
  },
  {
   "cell_type": "code",
   "execution_count": null,
   "id": "57876310",
   "metadata": {},
   "outputs": [],
   "source": [
    "x = np.zeros((len(seq), len(seq)))"
   ]
  },
  {
   "cell_type": "code",
   "execution_count": null,
   "id": "7ef245f4",
   "metadata": {},
   "outputs": [],
   "source": [
    "for idx in row['stem_bb_bps']:\n",
    "    x[idx] = 1"
   ]
  },
  {
   "cell_type": "code",
   "execution_count": null,
   "id": "0ce9b0d8",
   "metadata": {},
   "outputs": [],
   "source": [
    "for idx in row['target_bps']:\n",
    "    x[idx] = 2"
   ]
  },
  {
   "cell_type": "code",
   "execution_count": null,
   "id": "697ba8c2",
   "metadata": {},
   "outputs": [],
   "source": [
    "px.imshow(x)"
   ]
  },
  {
   "cell_type": "code",
   "execution_count": null,
   "id": "1ff11cdc",
   "metadata": {},
   "outputs": [],
   "source": []
  },
  {
   "cell_type": "code",
   "execution_count": null,
   "id": "7201151e",
   "metadata": {},
   "outputs": [],
   "source": [
    "df_stats = []\n",
    "for _, row in df.iterrows():\n",
    "    seq = row['seq']\n",
    "    \n",
    "    # number of edges per node (for node with at least 1 edge)\n",
    "    idx2ct = defaultdict(lambda: 0)\n",
    "    for bp in row.stem_bb_bps:\n",
    "        idx2ct[bp[0]] += 1\n",
    "        idx2ct[bp[1]] += 1\n",
    "        \n",
    "    # number of base without any proposed bp\n",
    "    n_wo_bp = len(seq) - len(idx2ct)\n",
    "\n",
    "    # connection density\n",
    "    tmp = np.zeros((len(seq), len(seq)))\n",
    "    for idx in row['stem_bb_bps']:\n",
    "        tmp[idx] = 1\n",
    "    bp_density = np.sum(tmp)/((len(seq)**2 - len(seq))/2)  # denominator: number of entris in upper triangular (exclude diagonal)\n",
    "\n",
    "    df_stats.append({\n",
    "        'len': len(seq),\n",
    "        'idx2ct': idx2ct,\n",
    "        'n_wo_bp': n_wo_bp,\n",
    "        'bp_density': bp_density,\n",
    "    })\n",
    "    \n",
    "df_stats = pd.DataFrame(df_stats)"
   ]
  },
  {
   "cell_type": "code",
   "execution_count": null,
   "id": "3453c1c7",
   "metadata": {},
   "outputs": [],
   "source": [
    "px.histogram(df_stats['bp_density'])"
   ]
  },
  {
   "cell_type": "code",
   "execution_count": null,
   "id": "a64f04d1",
   "metadata": {},
   "outputs": [],
   "source": [
    "px.scatter(df_stats, x='len', y='bp_density')"
   ]
  },
  {
   "cell_type": "code",
   "execution_count": null,
   "id": "0d1877d4",
   "metadata": {},
   "outputs": [],
   "source": [
    "px.histogram(df_stats['n_wo_bp'])"
   ]
  },
  {
   "cell_type": "code",
   "execution_count": null,
   "id": "ca069ddb",
   "metadata": {},
   "outputs": [],
   "source": [
    "n_edge_per_node = []\n",
    "for _, row in df_stats.iterrows():\n",
    "    n_edge_per_node.extend(list(row['idx2ct'].values()))\n",
    "fig = px.histogram(n_edge_per_node)\n",
    "fig.update_layout(width=800, height=300, title='all')"
   ]
  },
  {
   "cell_type": "code",
   "execution_count": null,
   "id": "c82fc500",
   "metadata": {},
   "outputs": [],
   "source": [
    "n_edge_per_node = []\n",
    "for _, row in df_stats.iterrows():\n",
    "    if 20 <= row['len'] < 50:\n",
    "        n_edge_per_node.extend(list(row['idx2ct'].values()))\n",
    "fig = px.histogram(n_edge_per_node)\n",
    "fig.update_layout(width=800, height=300, title='len in [20, 50)')"
   ]
  },
  {
   "cell_type": "code",
   "execution_count": null,
   "id": "47d5b026",
   "metadata": {},
   "outputs": [],
   "source": [
    "n_edge_per_node = []\n",
    "for _, row in df_stats.iterrows():\n",
    "    if 50 <= row['len'] < 100:\n",
    "        n_edge_per_node.extend(list(row['idx2ct'].values()))\n",
    "fig = px.histogram(n_edge_per_node)\n",
    "fig.update_layout(width=800, height=300, title='len in [50, 100)')"
   ]
  },
  {
   "cell_type": "code",
   "execution_count": null,
   "id": "4a69fd6f",
   "metadata": {},
   "outputs": [],
   "source": [
    "n_edge_per_node = []\n",
    "for _, row in df_stats.iterrows():\n",
    "    if 100 <= row['len'] <= 200:\n",
    "        n_edge_per_node.extend(list(row['idx2ct'].values()))\n",
    "fig = px.histogram(n_edge_per_node)\n",
    "fig.update_layout(width=800, height=300, title='len in [100, 200]')"
   ]
  },
  {
   "cell_type": "code",
   "execution_count": null,
   "id": "c0ab3505",
   "metadata": {},
   "outputs": [],
   "source": []
  },
  {
   "cell_type": "code",
   "execution_count": null,
   "id": "c9ebc21a",
   "metadata": {},
   "outputs": [],
   "source": []
  },
  {
   "cell_type": "code",
   "execution_count": null,
   "id": "192c2182",
   "metadata": {},
   "outputs": [],
   "source": []
  }
 ],
 "metadata": {
  "kernelspec": {
   "display_name": "Python 3",
   "language": "python",
   "name": "python3"
  },
  "language_info": {
   "codemirror_mode": {
    "name": "ipython",
    "version": 3
   },
   "file_extension": ".py",
   "mimetype": "text/x-python",
   "name": "python",
   "nbconvert_exporter": "python",
   "pygments_lexer": "ipython3",
   "version": "3.9.2"
  }
 },
 "nbformat": 4,
 "nbformat_minor": 5
}
