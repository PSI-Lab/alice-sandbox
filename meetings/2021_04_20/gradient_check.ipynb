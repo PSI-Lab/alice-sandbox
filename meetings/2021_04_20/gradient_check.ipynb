{
 "cells": [
  {
   "cell_type": "code",
   "execution_count": 1,
   "id": "36de2fd2",
   "metadata": {},
   "outputs": [],
   "source": [
    "import torch"
   ]
  },
  {
   "cell_type": "code",
   "execution_count": null,
   "id": "bc81607e",
   "metadata": {},
   "outputs": [],
   "source": []
  },
  {
   "cell_type": "code",
   "execution_count": 2,
   "id": "a3887983",
   "metadata": {},
   "outputs": [],
   "source": [
    "a = torch.tensor([1.], requires_grad=True)"
   ]
  },
  {
   "cell_type": "code",
   "execution_count": 3,
   "id": "27a57615",
   "metadata": {},
   "outputs": [],
   "source": [
    "x1 = 2\n",
    "y1 = 5\n",
    "yp1 = x1 * a\n",
    "loss1 = (yp1 - y1)**2"
   ]
  },
  {
   "cell_type": "code",
   "execution_count": 4,
   "id": "33903604",
   "metadata": {},
   "outputs": [
    {
     "name": "stdout",
     "output_type": "stream",
     "text": [
      "tensor([-12.])\n"
     ]
    }
   ],
   "source": [
    "loss1.backward()\n",
    "print(a.grad)  # 2 * (1 * 2 - 5) * 2 = -12"
   ]
  },
  {
   "cell_type": "code",
   "execution_count": 5,
   "id": "b5382ea4",
   "metadata": {},
   "outputs": [],
   "source": [
    "a.grad = None  # clear grad"
   ]
  },
  {
   "cell_type": "code",
   "execution_count": 6,
   "id": "e8f0d9c6",
   "metadata": {},
   "outputs": [],
   "source": [
    "x2 = 6\n",
    "y2 = 5\n",
    "yp2 = x2 * a\n",
    "loss2 = (yp2 - y2)**2"
   ]
  },
  {
   "cell_type": "code",
   "execution_count": 7,
   "id": "c9b36659",
   "metadata": {},
   "outputs": [
    {
     "name": "stdout",
     "output_type": "stream",
     "text": [
      "tensor([12.])\n"
     ]
    }
   ],
   "source": [
    "loss2.backward()\n",
    "print(a.grad)  # 2 * (1 * 6 - 5) * 6 = 12"
   ]
  },
  {
   "cell_type": "code",
   "execution_count": 8,
   "id": "5197e5c2",
   "metadata": {},
   "outputs": [],
   "source": [
    "a.grad = None  # clear grad"
   ]
  },
  {
   "cell_type": "code",
   "execution_count": null,
   "id": "ed443c56",
   "metadata": {},
   "outputs": [],
   "source": []
  },
  {
   "cell_type": "code",
   "execution_count": 9,
   "id": "630a0081",
   "metadata": {},
   "outputs": [],
   "source": [
    "x1 = 2\n",
    "y1 = 5\n",
    "yp1 = x1 * a\n",
    "loss1 = (yp1 - y1)**2\n",
    "x2 = 6\n",
    "y2 = 5\n",
    "yp2 = x2 * a\n",
    "loss2 = (yp2 - y2)**2\n",
    "loss = loss1 + loss2"
   ]
  },
  {
   "cell_type": "code",
   "execution_count": 10,
   "id": "736f8690",
   "metadata": {},
   "outputs": [
    {
     "name": "stdout",
     "output_type": "stream",
     "text": [
      "tensor([0.])\n"
     ]
    }
   ],
   "source": [
    "loss.backward()\n",
    "print(a.grad)  # (-12) + 12 = 0"
   ]
  }
 ],
 "metadata": {
  "kernelspec": {
   "display_name": "Python 3",
   "language": "python",
   "name": "python3"
  },
  "language_info": {
   "codemirror_mode": {
    "name": "ipython",
    "version": 3
   },
   "file_extension": ".py",
   "mimetype": "text/x-python",
   "name": "python",
   "nbconvert_exporter": "python",
   "pygments_lexer": "ipython3",
   "version": "3.9.2"
  }
 },
 "nbformat": 4,
 "nbformat_minor": 5
}
