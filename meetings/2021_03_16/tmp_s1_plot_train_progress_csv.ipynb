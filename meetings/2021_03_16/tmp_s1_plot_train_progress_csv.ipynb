{
 "cells": [
  {
   "cell_type": "code",
   "execution_count": null,
   "id": "lightweight-document",
   "metadata": {},
   "outputs": [],
   "source": [
    "import pandas as pd\n",
    "import plotly.express as px"
   ]
  },
  {
   "cell_type": "code",
   "execution_count": null,
   "id": "cosmetic-grove",
   "metadata": {},
   "outputs": [],
   "source": [
    "df = pd.read_csv('s1_training/result/run_6/metrics.partial.csv')"
   ]
  },
  {
   "cell_type": "code",
   "execution_count": null,
   "id": "sunrise-sperm",
   "metadata": {},
   "outputs": [],
   "source": []
  },
  {
   "cell_type": "code",
   "execution_count": null,
   "id": "pediatric-investor",
   "metadata": {},
   "outputs": [],
   "source": [
    "bb_type = 'stem'\n",
    "cols = [x for x in df.columns if x.startswith(bb_type)]\n",
    "df_plot = df[cols + ['tv', 'epoch']]\n",
    "fig = px.line(df_plot, x='epoch', y=cols, color='tv')\n",
    "fig.update_layout(title=bb_type)"
   ]
  },
  {
   "cell_type": "code",
   "execution_count": null,
   "id": "advance-lobby",
   "metadata": {},
   "outputs": [],
   "source": [
    "bb_type = 'iloop'\n",
    "cols = [x for x in df.columns if x.startswith(bb_type)]\n",
    "df_plot = df[cols + ['tv', 'epoch']]\n",
    "fig = px.line(df_plot, x='epoch', y=cols, color='tv')\n",
    "fig.update_layout(title=bb_type)"
   ]
  },
  {
   "cell_type": "code",
   "execution_count": null,
   "id": "photographic-grain",
   "metadata": {},
   "outputs": [],
   "source": [
    "bb_type = 'hloop'\n",
    "cols = [x for x in df.columns if x.startswith(bb_type)]\n",
    "df_plot = df[cols + ['tv', 'epoch']]\n",
    "fig = px.line(df_plot, x='epoch', y=cols, color='tv')\n",
    "fig.update_layout(title=bb_type)"
   ]
  },
  {
   "cell_type": "code",
   "execution_count": null,
   "id": "express-fetish",
   "metadata": {},
   "outputs": [],
   "source": []
  }
 ],
 "metadata": {
  "kernelspec": {
   "display_name": "Python 3",
   "language": "python",
   "name": "python3"
  },
  "language_info": {
   "codemirror_mode": {
    "name": "ipython",
    "version": 3
   },
   "file_extension": ".py",
   "mimetype": "text/x-python",
   "name": "python",
   "nbconvert_exporter": "python",
   "pygments_lexer": "ipython3",
   "version": "3.7.6"
  }
 },
 "nbformat": 4,
 "nbformat_minor": 5
}
