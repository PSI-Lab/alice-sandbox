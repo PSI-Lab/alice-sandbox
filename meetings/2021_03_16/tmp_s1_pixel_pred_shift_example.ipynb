{
 "cells": [
  {
   "cell_type": "code",
   "execution_count": null,
   "id": "continental-jimmy",
   "metadata": {},
   "outputs": [],
   "source": [
    "import pandas as pd\n",
    "from model_utils.utils_model import Predictor\n",
    "from model_utils.util_global_struct import process_bb_old_to_new"
   ]
  },
  {
   "cell_type": "code",
   "execution_count": null,
   "id": "compound-disorder",
   "metadata": {},
   "outputs": [],
   "source": [
    "import numpy as np\n",
    "import torch\n",
    "from model_utils.utils_model import DataEncoder"
   ]
  },
  {
   "cell_type": "code",
   "execution_count": null,
   "id": "horizontal-atlanta",
   "metadata": {},
   "outputs": [],
   "source": [
    "from scipy.special import softmax"
   ]
  },
  {
   "cell_type": "code",
   "execution_count": null,
   "id": "understanding-filename",
   "metadata": {},
   "outputs": [],
   "source": [
    "import plotly.express as px"
   ]
  },
  {
   "cell_type": "code",
   "execution_count": null,
   "id": "optional-rabbit",
   "metadata": {},
   "outputs": [],
   "source": [
    "df = pd.read_pickle('data/human_transcriptome_segment_high_mfe_freq_testing_len64_100.pkl.gz')"
   ]
  },
  {
   "cell_type": "code",
   "execution_count": null,
   "id": "olive-plane",
   "metadata": {},
   "outputs": [],
   "source": [
    "model_path = 's1_training/result/run_6/model_ckpt_ep_25.pth'  # still running\n",
    "\n",
    "predictor = Predictor(model_ckpt=model_path,\n",
    "                     num_filters=[32, 32, 64, 64, 64, 128, 128],\n",
    "                     filter_width=[9, 9, 9, 9, 9, 9, 9],\n",
    "                     dropout=0.0)\n"
   ]
  },
  {
   "cell_type": "code",
   "execution_count": null,
   "id": "regular-medicare",
   "metadata": {},
   "outputs": [],
   "source": [
    "idx = 99\n",
    "seq = df.iloc[idx]['seq']\n",
    "one_idx = df.iloc[idx]['one_idx']\n",
    "bounding_boxes = df.iloc[idx]['bounding_boxes']\n",
    "df_target = process_bb_old_to_new(bounding_boxes)"
   ]
  },
  {
   "cell_type": "code",
   "execution_count": null,
   "id": "included-contents",
   "metadata": {},
   "outputs": [],
   "source": [
    "seq"
   ]
  },
  {
   "cell_type": "code",
   "execution_count": null,
   "id": "center-murray",
   "metadata": {},
   "outputs": [],
   "source": [
    "df_target"
   ]
  },
  {
   "cell_type": "code",
   "execution_count": null,
   "id": "surprised-possibility",
   "metadata": {},
   "outputs": [],
   "source": [
    "de = DataEncoder(seq)\n",
    "yp = predictor.model(torch.tensor(de.x_torch))\n",
    "yp = {k: v.detach().cpu().numpy()[0, :, :, :] for k, v in yp.items()}"
   ]
  },
  {
   "cell_type": "code",
   "execution_count": null,
   "id": "jewish-taxation",
   "metadata": {},
   "outputs": [],
   "source": [
    "yp.keys()"
   ]
  },
  {
   "cell_type": "code",
   "execution_count": null,
   "id": "injured-proposal",
   "metadata": {},
   "outputs": [],
   "source": [
    "stem_on = yp['stem_on'][0, :, :]\n",
    "# hard-mask lower triangular part\n",
    "stem_on[np.tril_indices(len(seq))] = 0\n",
    "fig = px.imshow(stem_on)\n",
    "fig.update_layout(title='stem_on')"
   ]
  },
  {
   "cell_type": "code",
   "execution_count": null,
   "id": "executed-bones",
   "metadata": {},
   "outputs": [],
   "source": [
    "yp['stem_on'][0, 29, 52]"
   ]
  },
  {
   "cell_type": "code",
   "execution_count": null,
   "id": "filled-bennett",
   "metadata": {},
   "outputs": [],
   "source": [
    "df_plot = pd.DataFrame()\n",
    "for offset in range(-1, 4+1):  # bb size=4, we'll try offset -1, 0, 1, ...., 3, 4\n",
    "    print(yp['stem_on'][0, 29, 55-offset])\n",
    "    val = softmax(yp['stem_location_y'][:, 29, 55-offset])\n",
    "    print(val)\n",
    "    df_plot['location {}'.format(55-offset)] = val\n",
    "    print(softmax(yp['stem_sm_size'][:, 29, 55-offset]))\n",
    "    print(yp['stem_sl_size'][0, 29, 52-offset])\n",
    "    print('')\n",
    "fig = px.line(df_plot)\n",
    "fig.update_layout(title='location_y', height=500, width=600)"
   ]
  },
  {
   "cell_type": "code",
   "execution_count": null,
   "id": "solid-style",
   "metadata": {},
   "outputs": [],
   "source": [
    "df_plot = pd.DataFrame()\n",
    "for offset in range(-1, 4+1):  # bb size=4, we'll try offset -1, 0, 1, ...., 3, 4\n",
    "    print(yp['stem_on'][0, 29+offset, 55])\n",
    "    val = softmax(yp['stem_location_x'][:, 29+offset, 55])\n",
    "    print(val)\n",
    "    df_plot['location {}'.format(29+offset)] = val\n",
    "#     print(softmax(yp['stem_sm_size'][:, 29, 55-offset]))\n",
    "#     print(yp['stem_sl_size'][0, 29, 52-offset])\n",
    "    print('')\n",
    "fig = px.line(df_plot)\n",
    "fig.update_layout(title='location_x', height=500, width=600)"
   ]
  },
  {
   "cell_type": "code",
   "execution_count": null,
   "id": "primary-delicious",
   "metadata": {},
   "outputs": [],
   "source": []
  },
  {
   "cell_type": "code",
   "execution_count": null,
   "id": "biblical-hurricane",
   "metadata": {},
   "outputs": [],
   "source": []
  },
  {
   "cell_type": "code",
   "execution_count": null,
   "id": "general-night",
   "metadata": {},
   "outputs": [],
   "source": []
  }
 ],
 "metadata": {
  "kernelspec": {
   "display_name": "Python 3",
   "language": "python",
   "name": "python3"
  },
  "language_info": {
   "codemirror_mode": {
    "name": "ipython",
    "version": 3
   },
   "file_extension": ".py",
   "mimetype": "text/x-python",
   "name": "python",
   "nbconvert_exporter": "python",
   "pygments_lexer": "ipython3",
   "version": "3.7.6"
  }
 },
 "nbformat": 4,
 "nbformat_minor": 5
}
