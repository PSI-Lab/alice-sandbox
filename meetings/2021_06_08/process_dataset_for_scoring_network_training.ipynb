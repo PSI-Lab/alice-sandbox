{
 "cells": [
  {
   "cell_type": "code",
   "execution_count": null,
   "id": "f534607b",
   "metadata": {},
   "outputs": [],
   "source": [
    "import numpy as np\n",
    "import pandas as pd"
   ]
  },
  {
   "cell_type": "code",
   "execution_count": null,
   "id": "fc1db450",
   "metadata": {},
   "outputs": [],
   "source": [
    "import itertools"
   ]
  },
  {
   "cell_type": "code",
   "execution_count": null,
   "id": "720c4c45",
   "metadata": {},
   "outputs": [],
   "source": [
    "from collections import namedtuple"
   ]
  },
  {
   "cell_type": "code",
   "execution_count": null,
   "id": "209ce7b7",
   "metadata": {},
   "outputs": [],
   "source": [
    "from utils.inference_s1_stem_bb import Predictor"
   ]
  },
  {
   "cell_type": "code",
   "execution_count": null,
   "id": "ff76c223",
   "metadata": {},
   "outputs": [],
   "source": [
    "from utils.util_global_struct import process_bb_old_to_new"
   ]
  },
  {
   "cell_type": "code",
   "execution_count": null,
   "id": "a80f1a75",
   "metadata": {},
   "outputs": [],
   "source": [
    "predictor = Predictor(model_ckpt='../2021_05_18/s1_training/result/run_32/model_ckpt_ep_79.pth',\n",
    "                      num_filters=[128, 128, 256, 256, 512, 512],\n",
    "                      filter_width=[3, 3, 5, 5, 7, 7],\n",
    "                      hid_shared=[128, 128, 128, 256, 256, 256],\n",
    "                      hid_output=[64], dropout=0)"
   ]
  },
  {
   "cell_type": "code",
   "execution_count": null,
   "id": "d3ee2829",
   "metadata": {},
   "outputs": [],
   "source": [
    "df_data = pd.read_pickle('data/s2_train_len20_200_2000_pred_stem_0p5.pkl.gz')"
   ]
  },
  {
   "cell_type": "code",
   "execution_count": null,
   "id": "641c7cc2",
   "metadata": {},
   "outputs": [],
   "source": [
    "for idx, data_row in df_data.iterrows():\n",
    "    if len(data_row.seq) <= 40:\n",
    "        print(idx, len(data_row.bounding_boxes))"
   ]
  },
  {
   "cell_type": "code",
   "execution_count": null,
   "id": "f91e8c76",
   "metadata": {},
   "outputs": [],
   "source": [
    "# data_row = df_data.iloc[55]\n",
    "\n",
    "# data_row = df_data.iloc[60]\n",
    "\n",
    "data_row = df_data.iloc[230]\n"
   ]
  },
  {
   "cell_type": "code",
   "execution_count": null,
   "id": "ee132b4e",
   "metadata": {},
   "outputs": [],
   "source": []
  },
  {
   "cell_type": "code",
   "execution_count": null,
   "id": "b2c18793",
   "metadata": {},
   "outputs": [],
   "source": []
  },
  {
   "cell_type": "code",
   "execution_count": null,
   "id": "2e2440ff",
   "metadata": {},
   "outputs": [],
   "source": []
  },
  {
   "cell_type": "code",
   "execution_count": null,
   "id": "7826ed61",
   "metadata": {},
   "outputs": [],
   "source": [
    "# seq = 'TGAAAAGGGAGGAATCTGTTTGCCCTCAGATATTTAGTTA'\n",
    "seq = data_row.seq"
   ]
  },
  {
   "cell_type": "code",
   "execution_count": null,
   "id": "92bea55a",
   "metadata": {},
   "outputs": [],
   "source": [
    "seq"
   ]
  },
  {
   "cell_type": "code",
   "execution_count": null,
   "id": "08d2d26f",
   "metadata": {},
   "outputs": [],
   "source": [
    "process_bb_old_to_new(data_row.bounding_boxes)"
   ]
  },
  {
   "cell_type": "code",
   "execution_count": null,
   "id": "2877bc5d",
   "metadata": {},
   "outputs": [],
   "source": []
  },
  {
   "cell_type": "code",
   "execution_count": null,
   "id": "15d60561",
   "metadata": {},
   "outputs": [],
   "source": []
  },
  {
   "cell_type": "code",
   "execution_count": null,
   "id": "518c0a61",
   "metadata": {},
   "outputs": [],
   "source": []
  },
  {
   "cell_type": "code",
   "execution_count": null,
   "id": "7e5e53c3",
   "metadata": {},
   "outputs": [],
   "source": []
  },
  {
   "cell_type": "code",
   "execution_count": null,
   "id": "b8eb65b5",
   "metadata": {},
   "outputs": [],
   "source": [
    "df_stem = predictor.predict_bb(seq=seq, threshold=0.5)"
   ]
  },
  {
   "cell_type": "code",
   "execution_count": null,
   "id": "12ce8b1e",
   "metadata": {},
   "outputs": [],
   "source": []
  },
  {
   "cell_type": "code",
   "execution_count": null,
   "id": "2a2744e2",
   "metadata": {},
   "outputs": [],
   "source": []
  },
  {
   "cell_type": "code",
   "execution_count": null,
   "id": "aa19bd78",
   "metadata": {},
   "outputs": [],
   "source": [
    "df_stem = df_stem.reset_index(drop=True)"
   ]
  },
  {
   "cell_type": "code",
   "execution_count": null,
   "id": "28b031f0",
   "metadata": {},
   "outputs": [],
   "source": [
    "df_stem"
   ]
  },
  {
   "cell_type": "code",
   "execution_count": null,
   "id": "6c25bc97",
   "metadata": {},
   "outputs": [],
   "source": []
  },
  {
   "cell_type": "code",
   "execution_count": null,
   "id": "52b88a39",
   "metadata": {},
   "outputs": [],
   "source": []
  },
  {
   "cell_type": "code",
   "execution_count": null,
   "id": "330ce5f1",
   "metadata": {},
   "outputs": [],
   "source": []
  },
  {
   "cell_type": "code",
   "execution_count": null,
   "id": "27a6012d",
   "metadata": {},
   "outputs": [],
   "source": []
  },
  {
   "cell_type": "code",
   "execution_count": null,
   "id": "faa8bd6e",
   "metadata": {},
   "outputs": [],
   "source": []
  },
  {
   "cell_type": "code",
   "execution_count": null,
   "id": "5ab8cdbf",
   "metadata": {},
   "outputs": [],
   "source": [
    "# compute pairwise bb conflict\n",
    "\n",
    "BoundingBox = namedtuple(\"BoundingBox\", ['bb_x', 'bb_y', 'siz_x', 'siz_y'])\n",
    "\n",
    "# we use df index, make sure it's contiguous\n",
    "assert df_stem.iloc[-1].name == len(df_stem) - 1\n",
    "bbs = {}\n",
    "for idx, row in df_stem.iterrows():\n",
    "    bbs[idx] = BoundingBox(bb_x=row['bb_x'],\n",
    "                          bb_y=row['bb_y'],\n",
    "                          siz_x=row['siz_x'],\n",
    "                          siz_y=row['siz_y'])\n",
    "    \n",
    "def range_overlap(r1, r2):\n",
    "    if r2[0] < r1[1] <= r2[1] or r1[0] < r2[1] <= r1[1]:\n",
    "        return True\n",
    "    else:\n",
    "        return False\n",
    "    \n",
    "\n",
    "def bb_conflict(bb1, bb2):\n",
    "    r11 = (bb1.bb_x, bb1.bb_x+bb1.siz_x)\n",
    "    r12 = (bb1.bb_y-bb1.siz_y, bb1.bb_y)\n",
    "    r21 = (bb2.bb_x, bb2.bb_x+bb2.siz_x)\n",
    "    r22 = (bb2.bb_y-bb2.siz_y, bb2.bb_y)\n",
    "    if range_overlap(r11, r21) or range_overlap(r11, r22) or range_overlap(r12, r21) or range_overlap(r12, r22):\n",
    "        return True\n",
    "    else:\n",
    "        return False\n"
   ]
  },
  {
   "cell_type": "code",
   "execution_count": null,
   "id": "ddffd0a2",
   "metadata": {},
   "outputs": [],
   "source": [
    "bb_conf_arr = np.zeros((len(bbs), len(bbs)))\n",
    "\n",
    "for i in bbs.keys():\n",
    "    bb1 = bbs[i]\n",
    "    for j in bbs.keys():\n",
    "        bb2 = bbs[j]\n",
    "        # TODO only need to compute half\n",
    "        bb_conf_arr[i, j] = bb_conflict(bb1, bb2)\n"
   ]
  },
  {
   "cell_type": "code",
   "execution_count": null,
   "id": "9c5ee044",
   "metadata": {},
   "outputs": [],
   "source": [
    "df_stem"
   ]
  },
  {
   "cell_type": "code",
   "execution_count": null,
   "id": "2f8394e3",
   "metadata": {},
   "outputs": [],
   "source": [
    "bb_conf_arr.astype(int)"
   ]
  },
  {
   "cell_type": "code",
   "execution_count": null,
   "id": "1a5e14dd",
   "metadata": {},
   "outputs": [],
   "source": [
    "assert np.all(bb_conf_arr.T == bb_conf_arr)"
   ]
  },
  {
   "cell_type": "code",
   "execution_count": null,
   "id": "6c228a5e",
   "metadata": {},
   "outputs": [],
   "source": [
    "# brute force way\n",
    "n_bbs = len(bbs)\n",
    "all_combos = list(itertools.product([0, 1], repeat=n_bbs))\n",
    "\n",
    "valid_combos = []\n",
    "for c in all_combos:\n",
    "    # find elements being included\n",
    "    bb_inc = np.where(c)[0]\n",
    "    # all pairs of elements\n",
    "    bb_pairs = list(itertools.combinations(bb_inc, 2))\n",
    "    # check if any pair violate constraint\n",
    "    is_valid = True\n",
    "    for bb_pair in bb_pairs:\n",
    "        if bb_conf_arr[bb_pair[0], bb_pair[1]]:  # only checking one-way since it's symmetric\n",
    "            is_valid = False\n",
    "            break\n",
    "    # check if this is valid\n",
    "    if is_valid:\n",
    "        valid_combos.append(c)\n",
    "    else:\n",
    "        continue\n",
    "    \n"
   ]
  },
  {
   "cell_type": "code",
   "execution_count": null,
   "id": "2e81543f",
   "metadata": {},
   "outputs": [],
   "source": [
    "df_valid_combo = pd.DataFrame({'combo': valid_combos})"
   ]
  },
  {
   "cell_type": "code",
   "execution_count": null,
   "id": "83e175c4",
   "metadata": {},
   "outputs": [],
   "source": [
    "def get_total_bp(c):\n",
    "    # find elements being included\n",
    "    bb_inc = np.where(c)[0]\n",
    "    # get size\n",
    "    sizes = [bbs[x].siz_x for x in bb_inc]\n",
    "    return sum(sizes)\n",
    "\n",
    "# add in bb idx\n",
    "df_valid_combo['bb_inc'] = df_valid_combo['combo'].apply(lambda c: list(np.where(c)[0]))\n",
    "\n",
    "df_valid_combo['total_bps'] = df_valid_combo['combo'].apply(get_total_bp)"
   ]
  },
  {
   "cell_type": "code",
   "execution_count": null,
   "id": "ab901ab4",
   "metadata": {},
   "outputs": [],
   "source": []
  },
  {
   "cell_type": "code",
   "execution_count": null,
   "id": "3f999404",
   "metadata": {},
   "outputs": [],
   "source": [
    "df_valid_combo = df_valid_combo.sort_values(by=['total_bps'], ascending=False)"
   ]
  },
  {
   "cell_type": "code",
   "execution_count": null,
   "id": "98392bde",
   "metadata": {},
   "outputs": [],
   "source": [
    "len(df_valid_combo)"
   ]
  },
  {
   "cell_type": "code",
   "execution_count": null,
   "id": "7dcae3b6",
   "metadata": {},
   "outputs": [],
   "source": [
    "df_valid_combo"
   ]
  },
  {
   "cell_type": "code",
   "execution_count": null,
   "id": "8b5957a7",
   "metadata": {},
   "outputs": [],
   "source": []
  },
  {
   "cell_type": "code",
   "execution_count": null,
   "id": "9f5cedeb",
   "metadata": {},
   "outputs": [],
   "source": []
  },
  {
   "cell_type": "code",
   "execution_count": null,
   "id": "72c001b5",
   "metadata": {},
   "outputs": [],
   "source": []
  },
  {
   "cell_type": "code",
   "execution_count": null,
   "id": "3265f88e",
   "metadata": {},
   "outputs": [],
   "source": [
    "# def check_validity(current_combo, to_add):\n",
    "#     for i in current_combo:\n",
    "#         if bb_conf_arr[i, to_add] == 1 or bb_conf_arr[to_add, i] == 1:  # TODO no need to check both, should be symmetric\n",
    "#             return False\n",
    "#     return True"
   ]
  },
  {
   "cell_type": "code",
   "execution_count": null,
   "id": "bf14eeb1",
   "metadata": {},
   "outputs": [],
   "source": [
    "# # enumerate valid stem bb combinations\n",
    "# # FIXME hard-coded for one case for experimenting with ideas\n",
    "# assert len(df_stem) == 7\n",
    "\n",
    "# valid_stem_combos = []\n",
    "# current_combo = []\n",
    "\n",
    "# for x0 in [0, 1]:\n",
    "#     if x0 == 1:\n",
    "#         if check_validity(current_combo, 0):\n",
    "#             current_combo.append(0)\n",
    "#         else:\n",
    "#             valid_stem_combos.append(current_combo)\n",
    "#             current_combo = []\n",
    "#             break\n",
    "#     else:\n",
    "#         pass\n",
    "    \n",
    "#     for x1 in [0, 1]:\n",
    "#         if x1 == 1:\n",
    "#             if check_validity(current_combo, 1):\n",
    "#                 current_combo.append(1)\n",
    "#             else:\n",
    "#                 valid_stem_combos.append(current_combo)\n",
    "#                 current_combo = []\n",
    "#                 break\n",
    "#         else:\n",
    "#             pass\n",
    "    \n",
    "#         for x2 in [0, 1]:\n",
    "#             if x2 == 1:\n",
    "#                 if check_validity(current_combo, 2):\n",
    "#                     current_combo.append(2)\n",
    "#                 else:\n",
    "#                     valid_stem_combos.append(current_combo)\n",
    "#                     current_combo = []\n",
    "#                     break\n",
    "#             else:\n",
    "#                 pass\n",
    "\n",
    "#             for x3 in [0, 1]:\n",
    "#                 if x3 == 1:\n",
    "#                     if check_validity(current_combo, 3):\n",
    "#                         current_combo.append(3)\n",
    "#                     else:\n",
    "#                         valid_stem_combos.append(current_combo)\n",
    "#                         current_combo = []\n",
    "#                         break\n",
    "#                 else:\n",
    "#                     pass\n",
    "                \n",
    "#                 for x4 in [0, 1]:\n",
    "#                     if x4 == 1:\n",
    "#                         if check_validity(current_combo, 4):\n",
    "#                             current_combo.append(4)\n",
    "#                         else:\n",
    "#                             valid_stem_combos.append(current_combo)\n",
    "#                             current_combo = []\n",
    "#                             break\n",
    "#                     else:\n",
    "#                         pass\n",
    "                    \n",
    "#                     for x5 in [0, 1]:\n",
    "#                         if x5 == 1:\n",
    "#                             if check_validity(current_combo, 5):\n",
    "#                                 current_combo.append(5)\n",
    "#                             else:\n",
    "#                                 valid_stem_combos.append(current_combo)\n",
    "#                                 current_combo = []\n",
    "#                                 break\n",
    "#                         else:\n",
    "#                             pass\n",
    "                        \n",
    "#                         for x6 in [0, 1]:\n",
    "#                             if x6 == 1:\n",
    "#                                 if check_validity(current_combo, 6):\n",
    "#                                     current_combo.append(6)\n",
    "#                                 else:\n",
    "#                                     valid_stem_combos.append(current_combo)\n",
    "#                                     current_combo = []\n",
    "#                                     break\n",
    "#                             else:\n",
    "#                                 pass"
   ]
  },
  {
   "cell_type": "code",
   "execution_count": null,
   "id": "f138b80b",
   "metadata": {},
   "outputs": [],
   "source": [
    "# check_validity(current_combo, 0)"
   ]
  },
  {
   "cell_type": "code",
   "execution_count": null,
   "id": "daea4581",
   "metadata": {},
   "outputs": [],
   "source": []
  },
  {
   "cell_type": "code",
   "execution_count": null,
   "id": "6bde5d98",
   "metadata": {},
   "outputs": [],
   "source": []
  },
  {
   "cell_type": "code",
   "execution_count": null,
   "id": "00f75209",
   "metadata": {},
   "outputs": [],
   "source": []
  },
  {
   "cell_type": "code",
   "execution_count": null,
   "id": "077c3e40",
   "metadata": {},
   "outputs": [],
   "source": [
    "# x = Bool(\"x\")\n",
    "# y = Bool(\"y\")\n",
    "# x_or_y = Or([x,y]) # disjunction\n",
    "# s = Solver() # create a solver s\n",
    "# s.add(x_or_y) # add the clause: x or y\n",
    "# z = Bool(\"z\")\n",
    "# s.add(Or([x,y,Not(z)])) # add another clause: x or y or !z"
   ]
  },
  {
   "cell_type": "code",
   "execution_count": null,
   "id": "3156e3c4",
   "metadata": {},
   "outputs": [],
   "source": [
    "# s.check()"
   ]
  },
  {
   "cell_type": "code",
   "execution_count": null,
   "id": "9680f989",
   "metadata": {},
   "outputs": [],
   "source": [
    "# s.model()"
   ]
  },
  {
   "cell_type": "code",
   "execution_count": null,
   "id": "2b2b435f",
   "metadata": {},
   "outputs": [],
   "source": []
  }
 ],
 "metadata": {
  "kernelspec": {
   "display_name": "Python 3",
   "language": "python",
   "name": "python3"
  },
  "language_info": {
   "codemirror_mode": {
    "name": "ipython",
    "version": 3
   },
   "file_extension": ".py",
   "mimetype": "text/x-python",
   "name": "python",
   "nbconvert_exporter": "python",
   "pygments_lexer": "ipython3",
   "version": "3.9.2"
  }
 },
 "nbformat": 4,
 "nbformat_minor": 5
}
