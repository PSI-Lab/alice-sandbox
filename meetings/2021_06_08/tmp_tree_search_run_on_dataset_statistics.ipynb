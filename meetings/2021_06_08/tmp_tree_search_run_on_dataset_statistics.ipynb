{
 "cells": [
  {
   "cell_type": "code",
   "execution_count": null,
   "id": "cb558d0f",
   "metadata": {},
   "outputs": [],
   "source": [
    "import numpy as np\n",
    "import pandas as pd"
   ]
  },
  {
   "cell_type": "code",
   "execution_count": null,
   "id": "e2ff3572",
   "metadata": {},
   "outputs": [],
   "source": [
    "import plotly.express as px"
   ]
  },
  {
   "cell_type": "code",
   "execution_count": null,
   "id": "3ab1ba4e",
   "metadata": {},
   "outputs": [],
   "source": [
    "from utils_s2_tree_search import StemBbTree, BoundingBox, bb_conflict"
   ]
  },
  {
   "cell_type": "code",
   "execution_count": null,
   "id": "13d5f57a",
   "metadata": {},
   "outputs": [],
   "source": [
    "df = pd.read_pickle('data/data_len40_1000_s1_stem_bb.pkl.gz')\n"
   ]
  },
  {
   "cell_type": "code",
   "execution_count": null,
   "id": "2411ac60",
   "metadata": {},
   "outputs": [],
   "source": [
    "# # subset to example with bb sensitivity = 100%\n",
    "# df = df[df['bb_identical'] == 1]\n",
    "\n",
    "data = []\n",
    "\n",
    "for _, row in df.iterrows():\n",
    "\n",
    "    df_stem = pd.DataFrame(row.pred_stem_bb)\n",
    "\n",
    "    # we use df index, make sure it's contiguous\n",
    "    assert df_stem.iloc[-1].name == len(df_stem) - 1\n",
    "\n",
    "    bbs = {}\n",
    "    for idx, r in df_stem.iterrows():\n",
    "        bbs[idx] = BoundingBox(bb_x=r['bb_x'],\n",
    "                               bb_y=r['bb_y'],\n",
    "                               siz_x=r['siz_x'],\n",
    "                               siz_y=r['siz_y'])\n",
    "\n",
    "    bb_conf_arr = np.zeros((len(bbs), len(bbs)))\n",
    "    for i in bbs.keys():\n",
    "        bb1 = bbs[i]\n",
    "        for j in bbs.keys():\n",
    "            bb2 = bbs[j]\n",
    "            # TODO only need to compute half\n",
    "            bb_conf_arr[i, j] = bb_conflict(bb1, bb2)\n",
    "    assert np.all(bb_conf_arr.T == bb_conf_arr)\n",
    "    \n",
    "    bb_tree = StemBbTree(bbs, bb_conf_arr)\n",
    "    \n",
    "    data.append({\n",
    "        'n_bbs': len(bbs),\n",
    "        'n_valid_combos': len(bb_tree.leaves),\n",
    "    })"
   ]
  },
  {
   "cell_type": "code",
   "execution_count": null,
   "id": "207261b9",
   "metadata": {},
   "outputs": [],
   "source": [
    "data = pd.DataFrame(data)"
   ]
  },
  {
   "cell_type": "code",
   "execution_count": null,
   "id": "c1b2999a",
   "metadata": {},
   "outputs": [],
   "source": [
    "px.scatter(data, x='n_bbs', y='n_valid_combos')"
   ]
  },
  {
   "cell_type": "code",
   "execution_count": null,
   "id": "c446fe78",
   "metadata": {},
   "outputs": [],
   "source": [
    "len(df)"
   ]
  },
  {
   "cell_type": "code",
   "execution_count": null,
   "id": "98f94fe6",
   "metadata": {},
   "outputs": [],
   "source": []
  }
 ],
 "metadata": {
  "kernelspec": {
   "display_name": "Python 3",
   "language": "python",
   "name": "python3"
  },
  "language_info": {
   "codemirror_mode": {
    "name": "ipython",
    "version": 3
   },
   "file_extension": ".py",
   "mimetype": "text/x-python",
   "name": "python",
   "nbconvert_exporter": "python",
   "pygments_lexer": "ipython3",
   "version": "3.9.2"
  }
 },
 "nbformat": 4,
 "nbformat_minor": 5
}
