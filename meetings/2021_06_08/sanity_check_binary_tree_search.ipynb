{
 "cells": [
  {
   "cell_type": "code",
   "execution_count": 1,
   "id": "072c733e",
   "metadata": {},
   "outputs": [],
   "source": [
    "import numpy as np\n",
    "import pandas as pd\n",
    "import itertools\n",
    "from collections import namedtuple"
   ]
  },
  {
   "cell_type": "code",
   "execution_count": 2,
   "id": "bca9d4b1",
   "metadata": {},
   "outputs": [],
   "source": [
    "from utils_s2_tree_search import StemBbTree, BoundingBox, bb_conflict"
   ]
  },
  {
   "cell_type": "code",
   "execution_count": 3,
   "id": "f3b0f0ae",
   "metadata": {},
   "outputs": [],
   "source": [
    "df = pd.read_pickle('data/data_len40_1000_s1_stem_bb.pkl.gz')\n"
   ]
  },
  {
   "cell_type": "code",
   "execution_count": 4,
   "id": "95c69d6f",
   "metadata": {},
   "outputs": [],
   "source": [
    "# sanity check with combination computed from brute-force\n",
    "df_debug = pd.read_pickle('data/data_len40_1000_s1_stem_bb_le10_combos.pkl.gz')"
   ]
  },
  {
   "cell_type": "code",
   "execution_count": 5,
   "id": "3f7804d1",
   "metadata": {},
   "outputs": [],
   "source": [
    "example_id = 0   # ID 0 is the same in both dataset, others are not (second dataset only has those with num_bbs <= 15)"
   ]
  },
  {
   "cell_type": "code",
   "execution_count": 6,
   "id": "51b8caec",
   "metadata": {},
   "outputs": [],
   "source": [
    "# subset to example with bb sensitivity = 100%\n",
    "df = df[df['bb_identical'] == 1]\n",
    "\n",
    "row = df.iloc[example_id]\n",
    "df_stem = pd.DataFrame(row.pred_stem_bb)\n",
    "\n",
    "# we use df index, make sure it's contiguous\n",
    "assert df_stem.iloc[-1].name == len(df_stem) - 1\n",
    "\n",
    "bbs = {}\n",
    "for idx, r in df_stem.iterrows():\n",
    "    bbs[idx] = BoundingBox(bb_x=r['bb_x'],\n",
    "                           bb_y=r['bb_y'],\n",
    "                           siz_x=r['siz_x'],\n",
    "                           siz_y=r['siz_y'])\n",
    "\n",
    "bb_conf_arr = np.zeros((len(bbs), len(bbs)))\n",
    "for i in bbs.keys():\n",
    "    bb1 = bbs[i]\n",
    "    for j in bbs.keys():\n",
    "        bb2 = bbs[j]\n",
    "        # TODO only need to compute half\n",
    "        bb_conf_arr[i, j] = bb_conflict(bb1, bb2)\n",
    "assert np.all(bb_conf_arr.T == bb_conf_arr)\n"
   ]
  },
  {
   "cell_type": "code",
   "execution_count": 7,
   "id": "01849575",
   "metadata": {},
   "outputs": [
    {
     "data": {
      "text/plain": [
       "9"
      ]
     },
     "execution_count": 7,
     "metadata": {},
     "output_type": "execute_result"
    }
   ],
   "source": [
    "len(bbs)"
   ]
  },
  {
   "cell_type": "code",
   "execution_count": 8,
   "id": "52941ed1",
   "metadata": {},
   "outputs": [],
   "source": [
    "bb_tree = StemBbTree(bbs, bb_conf_arr)"
   ]
  },
  {
   "cell_type": "code",
   "execution_count": 9,
   "id": "7ee7472b",
   "metadata": {},
   "outputs": [
    {
     "data": {
      "text/plain": [
       "52"
      ]
     },
     "execution_count": 9,
     "metadata": {},
     "output_type": "execute_result"
    }
   ],
   "source": [
    "len(bb_tree.leaves)"
   ]
  },
  {
   "cell_type": "code",
   "execution_count": 10,
   "id": "bfb26ef3",
   "metadata": {},
   "outputs": [],
   "source": [
    "combo_ids_tree = []\n",
    "for x in bb_tree.leaves:\n",
    "    # convert base2 to base10\n",
    "    bba_b2 = x.bb_assignment\n",
    "    bba_b10 = int(''.join([str(int(a)) for a in bba_b2]), 2)\n",
    "    combo_ids_tree.append(bba_b10)"
   ]
  },
  {
   "cell_type": "code",
   "execution_count": 11,
   "id": "172f81ef",
   "metadata": {},
   "outputs": [],
   "source": [
    "combo_ids_brute_force = []\n",
    "for bbi in pd.DataFrame(df_debug.iloc[example_id].valid_combos).bb_inc:\n",
    "    bba_b2 = np.zeros(len(bbs))\n",
    "    bba_b2[bbi] = 1\n",
    "    bba_b10 = int(''.join([str(int(a)) for a in bba_b2]), 2)\n",
    "    combo_ids_brute_force.append(bba_b10)"
   ]
  },
  {
   "cell_type": "code",
   "execution_count": 12,
   "id": "ab00459e",
   "metadata": {},
   "outputs": [],
   "source": [
    "assert set(combo_ids_tree) == set(combo_ids_brute_force)"
   ]
  },
  {
   "cell_type": "code",
   "execution_count": null,
   "id": "d47d958f",
   "metadata": {},
   "outputs": [],
   "source": []
  }
 ],
 "metadata": {
  "kernelspec": {
   "display_name": "Python 3",
   "language": "python",
   "name": "python3"
  },
  "language_info": {
   "codemirror_mode": {
    "name": "ipython",
    "version": 3
   },
   "file_extension": ".py",
   "mimetype": "text/x-python",
   "name": "python",
   "nbconvert_exporter": "python",
   "pygments_lexer": "ipython3",
   "version": "3.9.2"
  }
 },
 "nbformat": 4,
 "nbformat_minor": 5
}
