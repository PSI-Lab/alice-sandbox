{
 "cells": [
  {
   "cell_type": "code",
   "execution_count": null,
   "id": "37104abf",
   "metadata": {},
   "outputs": [],
   "source": [
    "import numpy as np\n",
    "import pandas as pd"
   ]
  },
  {
   "cell_type": "code",
   "execution_count": null,
   "id": "42232577",
   "metadata": {},
   "outputs": [],
   "source": [
    "from collections import namedtuple"
   ]
  },
  {
   "cell_type": "code",
   "execution_count": null,
   "id": "31b39281",
   "metadata": {},
   "outputs": [],
   "source": [
    "from utils.util_global_struct import process_bb_old_to_new\n",
    "from utils.rna_ss_utils import arr2db, one_idx2arr, compute_fe"
   ]
  },
  {
   "cell_type": "code",
   "execution_count": null,
   "id": "0d0548d8",
   "metadata": {},
   "outputs": [],
   "source": [
    "from utils.misc import add_column"
   ]
  },
  {
   "cell_type": "code",
   "execution_count": null,
   "id": "f03b01ee",
   "metadata": {},
   "outputs": [],
   "source": [
    "import plotly.express as px"
   ]
  },
  {
   "cell_type": "code",
   "execution_count": null,
   "id": "9dff0682",
   "metadata": {},
   "outputs": [],
   "source": []
  },
  {
   "cell_type": "code",
   "execution_count": null,
   "id": "bceb2cb0",
   "metadata": {},
   "outputs": [],
   "source": [
    "def stem_bbs2db(bbs, seq_len):  # TODO move to utils\n",
    "    # TODO validate there's no conflict!\n",
    "    one_idx = []\n",
    "    for bb in bbs:\n",
    "        for offset in range(bb.siz_x):\n",
    "            x = bb.bb_x + offset\n",
    "            y = bb.bb_y - offset\n",
    "            one_idx.append((x, y))\n",
    "    # convert to list of 2 tuples\n",
    "    one_idx = list(zip(*one_idx))\n",
    "    \n",
    "    # convert to arr\n",
    "    pairs, arr = one_idx2arr(one_idx, seq_len)\n",
    "    \n",
    "    # db str\n",
    "    db_str, is_ambuguious = arr2db(arr)\n",
    "    \n",
    "    # TODO check is_ambuguious\n",
    "    if is_ambuguious:\n",
    "        print(f'ambuguious db_str: {db_str}')\n",
    "    \n",
    "    return db_str"
   ]
  },
  {
   "cell_type": "code",
   "execution_count": null,
   "id": "fdae5f7d",
   "metadata": {},
   "outputs": [],
   "source": [
    "BoundingBox = namedtuple(\"BoundingBox\", ['bb_x', 'bb_y', 'siz_x', 'siz_y'])"
   ]
  },
  {
   "cell_type": "code",
   "execution_count": null,
   "id": "93bb414d",
   "metadata": {},
   "outputs": [],
   "source": []
  },
  {
   "cell_type": "code",
   "execution_count": null,
   "id": "846bca49",
   "metadata": {},
   "outputs": [],
   "source": [
    "df = pd.read_pickle('data/data_len40_1000_s1_stem_bb_le10_combos.pkl.gz')"
   ]
  },
  {
   "cell_type": "code",
   "execution_count": null,
   "id": "ea4bfc5b",
   "metadata": {},
   "outputs": [],
   "source": [
    "# df"
   ]
  },
  {
   "cell_type": "code",
   "execution_count": null,
   "id": "2184cb24",
   "metadata": {},
   "outputs": [],
   "source": [
    "def get_bps_fe(row):\n",
    "    seq = row.seq\n",
    "    df_target = process_bb_old_to_new(row.bounding_boxes)\n",
    "    df_target = df_target[df_target['bb_type'] == 'stem']\n",
    "    \n",
    "    df_stem = pd.DataFrame(row.pred_stem_bb)\n",
    "    # we use df index, make sure it's contiguous\n",
    "    assert df_stem.iloc[-1].name == len(df_stem) - 1\n",
    "\n",
    "    bbs = {}\n",
    "    for idx, r in df_stem.iterrows():\n",
    "        bbs[idx] = BoundingBox(bb_x=r['bb_x'],\n",
    "                               bb_y=r['bb_y'],\n",
    "                               siz_x=r['siz_x'],\n",
    "                               siz_y=r['siz_y'])\n",
    "        \n",
    "    df_valid_combos = pd.DataFrame(row.valid_combos)\n",
    "    # get rid of no structure\n",
    "    df_valid_combos = df_valid_combos[df_valid_combos['total_bps'] > 0]\n",
    "    \n",
    "    df_valid_combos = add_column(df_valid_combos, 'db_str', ['bb_inc'],\n",
    "                                lambda bb_idx: stem_bbs2db([bbs[i] for i in bb_idx], len(seq)))\n",
    "    df_valid_combos = add_column(df_valid_combos, 'fe', ['db_str'],\n",
    "                            lambda db_str: compute_fe(seq, db_str))\n",
    "    \n",
    "    return df_valid_combos[['bb_inc', 'db_str', 'total_bps', 'fe']]  # TODO add in seq len?"
   ]
  },
  {
   "cell_type": "code",
   "execution_count": null,
   "id": "158b62e2",
   "metadata": {},
   "outputs": [],
   "source": [
    "def get_combo_fe_and_rank(row):\n",
    "    df_fe = get_bps_fe(row)\n",
    "    # sort by num bps, descending\n",
    "    df_fe = df_fe.sort_values(by='total_bps', ascending=False)\n",
    "    # reset index (so index will be rank-0)\n",
    "    df_fe = df_fe.reset_index(drop=True)\n",
    "\n",
    "    # ranking of ground truth\n",
    "    df_target = process_bb_old_to_new(row['bounding_boxes'])\n",
    "    df_target = df_target[df_target['bb_type'] == 'stem']\n",
    "    df_stem = pd.DataFrame(row.pred_stem_bb)\n",
    "    # we use df index, make sure it's contiguous\n",
    "    assert df_stem.iloc[-1].name == len(df_stem) - 1\n",
    "    bbs = {}\n",
    "    for idx, r in df_stem.iterrows():\n",
    "        bbs[idx] = BoundingBox(bb_x=r['bb_x'],\n",
    "                               bb_y=r['bb_y'],\n",
    "                               siz_x=r['siz_x'],\n",
    "                               siz_y=r['siz_y'])\n",
    "    # inefficient way\n",
    "    bb_idx_tgt = []\n",
    "    for _, r in df_target.iterrows():\n",
    "        tgt_bb = BoundingBox(bb_x=r['bb_x'],\n",
    "                               bb_y=r['bb_y'],\n",
    "                               siz_x=r['siz_x'],\n",
    "                               siz_y=r['siz_y'])\n",
    "        tgt_idx = next(i for i, bb in bbs.items() if bb == tgt_bb)\n",
    "        bb_idx_tgt.append(tgt_idx)\n",
    "    # get rank (index + 1)\n",
    "    rank = next(i for i, r in df_fe.iterrows() if r['bb_inc'] == bb_idx_tgt) + 1\n",
    "    \n",
    "    return df_fe, rank"
   ]
  },
  {
   "cell_type": "code",
   "execution_count": null,
   "id": "3221af81",
   "metadata": {},
   "outputs": [],
   "source": []
  },
  {
   "cell_type": "code",
   "execution_count": null,
   "id": "b12777b9",
   "metadata": {},
   "outputs": [],
   "source": [
    "example_id = df.index[256]\n",
    "row = df.iloc[example_id]\n",
    "\n",
    "df_fe, rank = get_combo_fe_and_rank(row)\n",
    "\n",
    "fig = px.scatter(df_fe, \n",
    "           x='total_bps', y='fe')\n",
    "num_bbs = len(df.iloc[example_id]['pred_stem_bb']['bb_x'])\n",
    "num_combo_all = len(df_fe)\n",
    "# num_combo_neg_fe = len(df_fe[df_fe['fe'] < 0])\n",
    "min_fe = df_fe['fe'].min()\n",
    "max_bp_fe = sorted(df_fe[df_fe['total_bps'] == df_fe.iloc[0]['total_bps']]['fe'].tolist())\n",
    "top_10_fe = df_fe[:10]['fe'].min()\n",
    "fig.update_layout(title=f\"idx {example_id}, #bbs {num_bbs}, #combos {num_combo_all}. Min FE {min_fe}, rank {rank}. Max bp FE {max_bp_fe}. Best FE in top 10: {top_10_fe}\")"
   ]
  },
  {
   "cell_type": "code",
   "execution_count": null,
   "id": "d746a387",
   "metadata": {},
   "outputs": [],
   "source": []
  },
  {
   "cell_type": "code",
   "execution_count": null,
   "id": "0c96095c",
   "metadata": {},
   "outputs": [],
   "source": [
    "data_fe_vs_top10 = []\n",
    "for example_id, row in df.iterrows():\n",
    "    df_fe, rank = get_combo_fe_and_rank(row)\n",
    "    min_fe = df_fe['fe'].min()\n",
    "    max_bp_fe = sorted(df_fe[df_fe['total_bps'] == df_fe.iloc[0]['total_bps']]['fe'].tolist())\n",
    "    top_10_fe = df_fe[:10]['fe'].min()\n",
    "    data_fe_vs_top10.append({\n",
    "        'example_id': example_id,\n",
    "        'min_fe': min_fe,\n",
    "        'max_bp_fe': max_bp_fe,\n",
    "        'top_10_fe': top_10_fe,\n",
    "    })\n",
    "data_fe_vs_top10 = pd.DataFrame(data_fe_vs_top10)"
   ]
  },
  {
   "cell_type": "code",
   "execution_count": null,
   "id": "b063d3a4",
   "metadata": {},
   "outputs": [],
   "source": [
    "px.scatter(data_fe_vs_top10, x='min_fe', y='top_10_fe')"
   ]
  },
  {
   "cell_type": "code",
   "execution_count": null,
   "id": "9ac09463",
   "metadata": {},
   "outputs": [],
   "source": []
  },
  {
   "cell_type": "code",
   "execution_count": null,
   "id": "9e74f493",
   "metadata": {},
   "outputs": [],
   "source": []
  },
  {
   "cell_type": "code",
   "execution_count": null,
   "id": "5d20fcdf",
   "metadata": {},
   "outputs": [],
   "source": []
  },
  {
   "cell_type": "code",
   "execution_count": null,
   "id": "dbb67cbc",
   "metadata": {},
   "outputs": [],
   "source": []
  },
  {
   "cell_type": "code",
   "execution_count": null,
   "id": "ff145485",
   "metadata": {},
   "outputs": [],
   "source": [
    "df.iloc[example_id].seq"
   ]
  },
  {
   "cell_type": "code",
   "execution_count": null,
   "id": "30337f06",
   "metadata": {},
   "outputs": [],
   "source": [
    "df_fe"
   ]
  },
  {
   "cell_type": "code",
   "execution_count": null,
   "id": "da6653a8",
   "metadata": {},
   "outputs": [],
   "source": []
  },
  {
   "cell_type": "code",
   "execution_count": null,
   "id": "dbc8da6a",
   "metadata": {},
   "outputs": [],
   "source": []
  },
  {
   "cell_type": "code",
   "execution_count": null,
   "id": "832b246e",
   "metadata": {},
   "outputs": [],
   "source": []
  }
 ],
 "metadata": {
  "kernelspec": {
   "display_name": "Python 3",
   "language": "python",
   "name": "python3"
  },
  "language_info": {
   "codemirror_mode": {
    "name": "ipython",
    "version": 3
   },
   "file_extension": ".py",
   "mimetype": "text/x-python",
   "name": "python",
   "nbconvert_exporter": "python",
   "pygments_lexer": "ipython3",
   "version": "3.9.2"
  }
 },
 "nbformat": 4,
 "nbformat_minor": 5
}
