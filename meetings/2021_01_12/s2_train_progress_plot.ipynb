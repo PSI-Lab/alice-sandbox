{
 "cells": [
  {
   "cell_type": "code",
   "execution_count": null,
   "metadata": {},
   "outputs": [],
   "source": [
    "import pandas as pd\n",
    "import plotly.express as px\n",
    "from plotly.subplots import make_subplots\n",
    "import re"
   ]
  },
  {
   "cell_type": "code",
   "execution_count": null,
   "metadata": {},
   "outputs": [],
   "source": [
    "logs = {\n",
    "    't=0.1,k=1': 'tmp/log_s2.synthetic_s1_pred_1000_t0p1_k1.txt',\n",
    "    't=0.02,k=10,c=0.9': 'tmp/log_s2.synthetic_s1_pred_1000_t0p02_k10_c0p9.txt',\n",
    "    't=0.01,k=10,c=0.5': 'tmp/log_s2.synthetic_s1_pred_1000_t0p1_k10_c0p5.txt',\n",
    "    't=0.1,k=10,c=0.9': 'tmp/log_s2.synthetic_s1_pred_1000_t0p1_k10_c0p9.txt',\n",
    "    't=0.1,k=50,c=0.9': 'tmp/log_s2.synthetic_s1_pred_1000_t0p1_k50_c0p9.txt',\n",
    "}"
   ]
  },
  {
   "cell_type": "code",
   "execution_count": null,
   "metadata": {},
   "outputs": [],
   "source": [
    "p_t = 'End of epoch ([0-9]+), training: mean loss ([0-9.]+), mean au-ROC ([0-9.]+)'\n",
    "p_v = 'End of epoch ([0-9]+), validation mean loss ([0-9.]+), mean au-ROC ([0-9.]+)'\n",
    "\n",
    "\n",
    "def make_fig(in_file):\n",
    "    df_loss = []\n",
    "    df_auc = []\n",
    "    with open(in_file, 'r') as f:\n",
    "        for line in f:\n",
    "            # loss\n",
    "            match_t = re.search(p_t, line)\n",
    "            match_v = re.search(p_v, line)\n",
    "            assert not (match_t and match_v)\n",
    "            if match_t:\n",
    "                df_loss.append(\n",
    "                    {'epoch': int(match_t.group(1)), 'train_valid': 'training', 'loss': float(match_t.group(2))})\n",
    "                df_auc.append(\n",
    "                    {'epoch': int(match_t.group(1)), 'train_valid': 'training', 'auc': float(match_t.group(3))})\n",
    "            if match_v:\n",
    "                df_loss.append(\n",
    "                    {'epoch': int(match_v.group(1)), 'train_valid': 'validation', 'loss': float(match_v.group(2))})\n",
    "                df_auc.append(\n",
    "                    {'epoch': int(match_v.group(1)), 'train_valid': 'validation', 'auc': float(match_v.group(3))})\n",
    "    df_loss = pd.DataFrame(df_loss)\n",
    "    df_auc = pd.DataFrame(df_auc)\n",
    "\n",
    "    fig_loss=px.line(df_loss, x='epoch', y='loss', color='train_valid')\n",
    "    fig_auc=px.line(df_auc, x='epoch', y='auc', color='train_valid')\n",
    "    return fig_loss, fig_auc"
   ]
  },
  {
   "cell_type": "code",
   "execution_count": null,
   "metadata": {},
   "outputs": [],
   "source": []
  },
  {
   "cell_type": "code",
   "execution_count": null,
   "metadata": {},
   "outputs": [],
   "source": [
    "# # doesn't work, missing lines?\n",
    "\n",
    "# fig = make_subplots(rows=len(logs), cols=2)\n",
    "\n",
    "# for i, (k, v) in enumerate(logs.items()):\n",
    "    \n",
    "#     fig_loss, fig_auc = make_fig(v)\n",
    "    \n",
    "#     fig.add_trace(\n",
    "#         fig_loss.data[0],\n",
    "#         row=i+1, col=1\n",
    "#     )\n",
    "\n",
    "#     fig.add_trace(\n",
    "#         fig_auc.data[0],\n",
    "#         row=i+1, col=2\n",
    "#     )\n",
    "\n",
    "# # fig.update_layout(height=600, width=800, title_text=\"Side By Side Subplots\")\n",
    "# fig.show()"
   ]
  },
  {
   "cell_type": "code",
   "execution_count": null,
   "metadata": {},
   "outputs": [],
   "source": []
  },
  {
   "cell_type": "code",
   "execution_count": null,
   "metadata": {
    "scrolled": false
   },
   "outputs": [],
   "source": [
    "for i, (k, v) in enumerate(logs.items()):\n",
    "    \n",
    "    fig_loss, fig_auc = make_fig(v)\n",
    "    fig_loss.update_layout(title_text=k)\n",
    "    fig_auc.update_layout(title_text=k)\n",
    "    \n",
    "    fig_loss.show()\n",
    "    fig_auc.show()\n",
    "    "
   ]
  },
  {
   "cell_type": "code",
   "execution_count": null,
   "metadata": {},
   "outputs": [],
   "source": []
  }
 ],
 "metadata": {
  "kernelspec": {
   "display_name": "Python 3",
   "language": "python",
   "name": "python3"
  },
  "language_info": {
   "codemirror_mode": {
    "name": "ipython",
    "version": 3
   },
   "file_extension": ".py",
   "mimetype": "text/x-python",
   "name": "python",
   "nbconvert_exporter": "python",
   "pygments_lexer": "ipython3",
   "version": "3.7.6"
  }
 },
 "nbformat": 4,
 "nbformat_minor": 4
}
