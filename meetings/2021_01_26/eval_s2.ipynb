{
 "cells": [
  {
   "cell_type": "code",
   "execution_count": 1,
   "metadata": {},
   "outputs": [],
   "source": [
    "import numpy as np\n",
    "import pandas as pd\n",
    "import plotly.express as px\n",
    "import plotly.figure_factory as ff"
   ]
  },
  {
   "cell_type": "code",
   "execution_count": 19,
   "metadata": {},
   "outputs": [],
   "source": [
    "import networkx as nx\n",
    "import matplotlib.pyplot as plt"
   ]
  },
  {
   "cell_type": "code",
   "execution_count": 2,
   "metadata": {},
   "outputs": [],
   "source": [
    "from functools import reduce\n",
    "from itertools import cycle"
   ]
  },
  {
   "cell_type": "code",
   "execution_count": 3,
   "metadata": {},
   "outputs": [],
   "source": [
    "from model_utils.utils_model import Evaluator"
   ]
  },
  {
   "cell_type": "code",
   "execution_count": 4,
   "metadata": {},
   "outputs": [],
   "source": [
    "import model_utils.utils_s2 as us2 # TODO merge s2 util\n",
    "from model_utils.utils_nn_s2 import predict_wrapper"
   ]
  },
  {
   "cell_type": "code",
   "execution_count": 5,
   "metadata": {},
   "outputs": [],
   "source": [
    "# TODO move to util\n",
    "def stem2db_str(df_stem, seq_len):\n",
    "    bracket_pairs = cycle([('(', ')'), ('[', ']'), ('{', '}')])\n",
    "    \n",
    "    db_str = ['.'] * seq_len\n",
    "    for _, row in df_stem.iterrows():\n",
    "        bb_x = int(row['bb_x'])\n",
    "        bb_y = int(row['bb_y'])\n",
    "        siz = int(row['siz_x'])\n",
    "        siz_y = int(row['siz_y'])\n",
    "        assert siz == siz_y\n",
    "        bracket_pair = next(bracket_pairs)  # py3\n",
    "        for i in range(siz):\n",
    "            db_str[bb_x+i] = bracket_pair[0]\n",
    "            db_str[bb_y-i] = bracket_pair[1]\n",
    "    return ''.join(db_str)"
   ]
  },
  {
   "cell_type": "code",
   "execution_count": 22,
   "metadata": {},
   "outputs": [],
   "source": [
    "def display_ss_graph(df_stem, seq):\n",
    "    G = nx.Graph()\n",
    "    nodes = []\n",
    "    for i, base in enumerate(seq):\n",
    "        nodes.append((i, {\"label\": base}))\n",
    "    G.add_nodes_from(nodes)\n",
    "    # backbone\n",
    "    for i in range(len(seq)-1):\n",
    "        G.add_edge(i, i+1)\n",
    "    # hydrogen bonds\n",
    "    for _, row in df_stem.iterrows():\n",
    "        bb_x = int(row['bb_x'])\n",
    "        bb_y = int(row['bb_y'])\n",
    "        siz = int(row['siz_x'])\n",
    "        siz_y = int(row['siz_y'])\n",
    "        assert siz == siz_y\n",
    "        for i in range(siz):\n",
    "            G.add_edge(bb_x+i,bb_y-i)\n",
    "    return G\n",
    "#     G.add_edge(1,2)\n",
    "#     G.add_edge(1,3)\n",
    "#     nx.draw(G, with_labels=True)\n",
    "#     plt.show()"
   ]
  },
  {
   "cell_type": "code",
   "execution_count": null,
   "metadata": {},
   "outputs": [],
   "source": []
  },
  {
   "cell_type": "code",
   "execution_count": null,
   "metadata": {},
   "outputs": [],
   "source": []
  },
  {
   "cell_type": "code",
   "execution_count": 6,
   "metadata": {},
   "outputs": [
    {
     "name": "stdout",
     "output_type": "stream",
     "text": [
      "Loading S2 model v0.2 with params: in_size 11, d_model 100, N 6, heads 5, n_hid 20\n"
     ]
    }
   ],
   "source": [
    "predictor_s2 = us2.Predictor('v0.2')"
   ]
  },
  {
   "cell_type": "code",
   "execution_count": null,
   "metadata": {},
   "outputs": [],
   "source": []
  },
  {
   "cell_type": "code",
   "execution_count": 7,
   "metadata": {},
   "outputs": [],
   "source": [
    "df = pd.read_pickle('../2021_01_12/data/synthetic_s1_pred_1000_t0p1_k1.pkl.gz')"
   ]
  },
  {
   "cell_type": "code",
   "execution_count": 8,
   "metadata": {},
   "outputs": [
    {
     "name": "stdout",
     "output_type": "stream",
     "text": [
      "Initializing evaluator without predictor\n"
     ]
    }
   ],
   "source": [
    "evaluator = Evaluator(predictor=None)   # using static utils"
   ]
  },
  {
   "cell_type": "code",
   "execution_count": 9,
   "metadata": {},
   "outputs": [
    {
     "data": {
      "text/plain": [
       "ensemble_diversity                                                  0.6\n",
       "free_energy                                                        -2.7\n",
       "len                                                                  17\n",
       "mfe_frequency                                                  0.759655\n",
       "one_idx               ([3, 4, 5, 6, 11, 12, 13, 14], [14, 13, 12, 11...\n",
       "seq                                                   CGUAUCCGCCCGGAUUA\n",
       "bounding_boxes        [((3, 11), (4, 4), stem), ((6, 6), (6, 6), hai...\n",
       "bb_stem               [{'bb_x': 3, 'bb_y': 14, 'siz_x': 4, 'siz_y': ...\n",
       "bb_iloop                                                           None\n",
       "bb_hloop              [{'bb_x': 6, 'bb_y': 11, 'siz_x': 6, 'siz_y': ...\n",
       "Name: 488437, dtype: object"
      ]
     },
     "execution_count": 9,
     "metadata": {},
     "output_type": "execute_result"
    }
   ],
   "source": [
    "# row = df.iloc[0]   # plot fixed\n",
    "\n",
    "\n",
    "# row = df.iloc[1]\n",
    "\n",
    "\n",
    "row = df.iloc[2]\n",
    "row"
   ]
  },
  {
   "cell_type": "code",
   "execution_count": 10,
   "metadata": {},
   "outputs": [
    {
     "name": "stdout",
     "output_type": "stream",
     "text": [
      "df_stem base pair pruning, before: 1, after: 1\n",
      "df_hloop min size pruning, before: 1, after: 1\n"
     ]
    }
   ],
   "source": [
    "seq = row['seq']\n",
    "uniq_stem = pd.DataFrame(row['bb_stem'])\n",
    "uniq_iloop = pd.DataFrame(row['bb_iloop'])\n",
    "uniq_hloop = pd.DataFrame(row['bb_hloop'])\n",
    "df_pred = predict_wrapper(uniq_stem, uniq_iloop, uniq_hloop, discard_ns_stem=True, min_hloop_size=2, seq=seq, m_factor=1, predictor=predictor_s2)"
   ]
  },
  {
   "cell_type": "code",
   "execution_count": 11,
   "metadata": {},
   "outputs": [
    {
     "data": {
      "text/html": [
       "<div>\n",
       "<style scoped>\n",
       "    .dataframe tbody tr th:only-of-type {\n",
       "        vertical-align: middle;\n",
       "    }\n",
       "\n",
       "    .dataframe tbody tr th {\n",
       "        vertical-align: top;\n",
       "    }\n",
       "\n",
       "    .dataframe thead th {\n",
       "        text-align: right;\n",
       "    }\n",
       "</style>\n",
       "<table border=\"1\" class=\"dataframe\">\n",
       "  <thead>\n",
       "    <tr style=\"text-align: right;\">\n",
       "      <th></th>\n",
       "      <th>bb_x</th>\n",
       "      <th>bb_y</th>\n",
       "      <th>siz_x</th>\n",
       "      <th>siz_y</th>\n",
       "      <th>pred</th>\n",
       "      <th>id_bb</th>\n",
       "      <th>bb_type</th>\n",
       "    </tr>\n",
       "  </thead>\n",
       "  <tbody>\n",
       "    <tr>\n",
       "      <th>0</th>\n",
       "      <td>3.0</td>\n",
       "      <td>14.0</td>\n",
       "      <td>4.0</td>\n",
       "      <td>4.0</td>\n",
       "      <td>0.999083</td>\n",
       "      <td>stem_0</td>\n",
       "      <td>stem</td>\n",
       "    </tr>\n",
       "    <tr>\n",
       "      <th>1</th>\n",
       "      <td>6.0</td>\n",
       "      <td>11.0</td>\n",
       "      <td>6.0</td>\n",
       "      <td>6.0</td>\n",
       "      <td>0.998932</td>\n",
       "      <td>hloop_0</td>\n",
       "      <td>hloop</td>\n",
       "    </tr>\n",
       "  </tbody>\n",
       "</table>\n",
       "</div>"
      ],
      "text/plain": [
       "   bb_x  bb_y  siz_x  siz_y      pred    id_bb bb_type\n",
       "0   3.0  14.0    4.0    4.0  0.999083   stem_0    stem\n",
       "1   6.0  11.0    6.0    6.0  0.998932  hloop_0   hloop"
      ]
     },
     "execution_count": 11,
     "metadata": {},
     "output_type": "execute_result"
    }
   ],
   "source": [
    "df_pred"
   ]
  },
  {
   "cell_type": "code",
   "execution_count": 12,
   "metadata": {},
   "outputs": [],
   "source": [
    "df_target_stem, df_target_iloop, df_target_hloop = evaluator.make_target_bb_df(row['bounding_boxes'], convert_tl_to_tr=True)"
   ]
  },
  {
   "cell_type": "code",
   "execution_count": 13,
   "metadata": {},
   "outputs": [
    {
     "data": {
      "text/html": [
       "<div>\n",
       "<style scoped>\n",
       "    .dataframe tbody tr th:only-of-type {\n",
       "        vertical-align: middle;\n",
       "    }\n",
       "\n",
       "    .dataframe tbody tr th {\n",
       "        vertical-align: top;\n",
       "    }\n",
       "\n",
       "    .dataframe thead th {\n",
       "        text-align: right;\n",
       "    }\n",
       "</style>\n",
       "<table border=\"1\" class=\"dataframe\">\n",
       "  <thead>\n",
       "    <tr style=\"text-align: right;\">\n",
       "      <th></th>\n",
       "      <th>bb_x</th>\n",
       "      <th>bb_y</th>\n",
       "      <th>siz_x</th>\n",
       "      <th>siz_y</th>\n",
       "    </tr>\n",
       "  </thead>\n",
       "  <tbody>\n",
       "    <tr>\n",
       "      <th>0</th>\n",
       "      <td>3</td>\n",
       "      <td>14</td>\n",
       "      <td>4</td>\n",
       "      <td>4</td>\n",
       "    </tr>\n",
       "  </tbody>\n",
       "</table>\n",
       "</div>"
      ],
      "text/plain": [
       "   bb_x  bb_y  siz_x  siz_y\n",
       "0     3    14      4      4"
      ]
     },
     "execution_count": 13,
     "metadata": {},
     "output_type": "execute_result"
    }
   ],
   "source": [
    "df_target_stem"
   ]
  },
  {
   "cell_type": "code",
   "execution_count": 14,
   "metadata": {},
   "outputs": [
    {
     "data": {
      "text/plain": [
       "[]"
      ]
     },
     "execution_count": 14,
     "metadata": {},
     "output_type": "execute_result"
    }
   ],
   "source": [
    "df_target_iloop"
   ]
  },
  {
   "cell_type": "code",
   "execution_count": 15,
   "metadata": {},
   "outputs": [
    {
     "data": {
      "text/html": [
       "<div>\n",
       "<style scoped>\n",
       "    .dataframe tbody tr th:only-of-type {\n",
       "        vertical-align: middle;\n",
       "    }\n",
       "\n",
       "    .dataframe tbody tr th {\n",
       "        vertical-align: top;\n",
       "    }\n",
       "\n",
       "    .dataframe thead th {\n",
       "        text-align: right;\n",
       "    }\n",
       "</style>\n",
       "<table border=\"1\" class=\"dataframe\">\n",
       "  <thead>\n",
       "    <tr style=\"text-align: right;\">\n",
       "      <th></th>\n",
       "      <th>bb_x</th>\n",
       "      <th>bb_y</th>\n",
       "      <th>siz_x</th>\n",
       "      <th>siz_y</th>\n",
       "    </tr>\n",
       "  </thead>\n",
       "  <tbody>\n",
       "    <tr>\n",
       "      <th>0</th>\n",
       "      <td>6</td>\n",
       "      <td>11</td>\n",
       "      <td>6</td>\n",
       "      <td>6</td>\n",
       "    </tr>\n",
       "  </tbody>\n",
       "</table>\n",
       "</div>"
      ],
      "text/plain": [
       "   bb_x  bb_y  siz_x  siz_y\n",
       "0     6    11      6      6"
      ]
     },
     "execution_count": 15,
     "metadata": {},
     "output_type": "execute_result"
    }
   ],
   "source": [
    "df_target_hloop"
   ]
  },
  {
   "cell_type": "code",
   "execution_count": 16,
   "metadata": {},
   "outputs": [
    {
     "name": "stdout",
     "output_type": "stream",
     "text": [
      "CGUAUCCGCCCGGAUUA\n",
      "...((((....))))..\n"
     ]
    }
   ],
   "source": [
    "print(seq)\n",
    "db_str_target = stem2db_str(df_target_stem, len(seq))\n",
    "print(db_str_target)"
   ]
  },
  {
   "cell_type": "code",
   "execution_count": 17,
   "metadata": {},
   "outputs": [
    {
     "name": "stdout",
     "output_type": "stream",
     "text": [
      "CGUAUCCGCCCGGAUUA\n",
      "...((((....))))..\n"
     ]
    }
   ],
   "source": [
    "print(seq)\n",
    "db_str_pred = stem2db_str(df_pred[df_pred['bb_type'] == 'stem'], len(seq))\n",
    "print(db_str_pred)\n",
    "# # debug\n",
    "# df_tmp = pd.DataFrame({'idx_0': range(len(seq)), 'idx_1': range(1, len(seq)+1),\n",
    "#                       'base': list(seq), 'db_char': list(db_str_pred)})\n",
    "# df_tmp"
   ]
  },
  {
   "cell_type": "code",
   "execution_count": null,
   "metadata": {},
   "outputs": [],
   "source": []
  },
  {
   "cell_type": "code",
   "execution_count": 23,
   "metadata": {},
   "outputs": [
    {
     "data": {
      "image/png": "[encoded data removed]",
      "text/plain": [
       "<Figure size 432x288 with 1 Axes>"
      ]
     },
     "metadata": {},
     "output_type": "display_data"
    }
   ],
   "source": [
    "G = display_ss_graph(df_pred[df_pred['bb_type'] == 'stem'], seq)\n",
    "nx.draw(G, with_labels=True)\n",
    "#     plt.show()"
   ]
  },
  {
   "cell_type": "code",
   "execution_count": null,
   "metadata": {},
   "outputs": [],
   "source": []
  }
 ],
 "metadata": {
  "kernelspec": {
   "display_name": "Python 3",
   "language": "python",
   "name": "python3"
  },
  "language_info": {
   "codemirror_mode": {
    "name": "ipython",
    "version": 3
   },
   "file_extension": ".py",
   "mimetype": "text/x-python",
   "name": "python",
   "nbconvert_exporter": "python",
   "pygments_lexer": "ipython3",
   "version": "3.7.6"
  }
 },
 "nbformat": 4,
 "nbformat_minor": 4
}
