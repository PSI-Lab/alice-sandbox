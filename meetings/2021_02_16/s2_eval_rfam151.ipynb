{
 "cells": [
  {
   "cell_type": "code",
   "execution_count": null,
   "id": "pressing-training",
   "metadata": {},
   "outputs": [],
   "source": [
    "import pandas as pd\n",
    "from model_utils.util_global_struct import process_bb_old_to_new\n",
    "import model_utils.utils_s2 as us2 # TODO merge s2 util\n",
    "from model_utils.utils_nn_s2 import predict_wrapper, stem2db_str"
   ]
  },
  {
   "cell_type": "code",
   "execution_count": null,
   "id": "fifteen-plastic",
   "metadata": {},
   "outputs": [],
   "source": [
    "import numpy as np\n",
    "import dgutils.pandas as dgp"
   ]
  },
  {
   "cell_type": "code",
   "execution_count": null,
   "id": "loose-applicant",
   "metadata": {},
   "outputs": [],
   "source": [
    "import plotly.express as px"
   ]
  },
  {
   "cell_type": "code",
   "execution_count": null,
   "id": "environmental-consideration",
   "metadata": {},
   "outputs": [],
   "source": []
  },
  {
   "cell_type": "code",
   "execution_count": null,
   "id": "helpful-anaheim",
   "metadata": {},
   "outputs": [],
   "source": [
    "def add_s2_pred(bb_stem, bb_iloop, bb_hloop, seq):\n",
    "    df_pred_stem = pd.DataFrame(bb_stem)\n",
    "    df_pred_iloop = pd.DataFrame(bb_iloop)\n",
    "    df_pred_hloop = pd.DataFrame(bb_hloop)\n",
    "    \n",
    "    df_pred = predict_wrapper(df_pred_stem, df_pred_iloop, df_pred_hloop, \n",
    "                          discard_ns_stem=True, min_hloop_size=2, \n",
    "                          seq=seq, m_factor=1, predictor=predictor_s2)\n",
    "    return df_pred"
   ]
  },
  {
   "cell_type": "code",
   "execution_count": null,
   "id": "confirmed-hayes",
   "metadata": {},
   "outputs": [],
   "source": []
  },
  {
   "cell_type": "code",
   "execution_count": null,
   "id": "precious-stanford",
   "metadata": {},
   "outputs": [],
   "source": [
    "def stem2arr(df_stem, seq_len):\n",
    "    x = np.zeros((seq_len, seq_len))\n",
    "    \n",
    "    for _, row in df_stem.iterrows():\n",
    "        bb_x = int(row['bb_x'])\n",
    "        bb_y = int(row['bb_y'])\n",
    "        siz = int(row['siz_x'])\n",
    "        siz_y = int(row['siz_y'])\n",
    "        assert siz == siz_y\n",
    "        for i in range(siz):\n",
    "            x[bb_x+i, bb_y-i] = 1\n",
    "            x[bb_y-i, bb_x+i] = 1\n",
    "    return x"
   ]
  },
  {
   "cell_type": "code",
   "execution_count": null,
   "id": "european-chase",
   "metadata": {},
   "outputs": [],
   "source": []
  },
  {
   "cell_type": "code",
   "execution_count": null,
   "id": "otherwise-deputy",
   "metadata": {},
   "outputs": [],
   "source": [
    "def calculate_metric(df_stem_pred, df_stem_target, seq_len):\n",
    "    # convert bounding boxes to binary array\n",
    "    arr_pred = stem2arr(df_stem_pred, seq_len)\n",
    "    arr_target = stem2arr(df_stem_target, seq_len)\n",
    "    \n",
    "    # pick upper triangular, and flattern\n",
    "    idx = np.triu_indices(seq_len)\n",
    "    vals_pred = arr_pred[idx]\n",
    "    vals_target = arr_target[idx]\n",
    "    \n",
    "    # compute TP, FP, TN, FN\n",
    "    TP, FP, TN, FN = perf_measure(vals_target, vals_pred)\n",
    "    \n",
    "    # compute sensitivity, ppv, and f1 score\n",
    "    sensitivity = TP/(TP+FN)  # recall\n",
    "    ppv = TP/(TP+FP)  # precision\n",
    "    if sensitivity + ppv == 0:\n",
    "        f1_score = 0\n",
    "    else:\n",
    "        f1_score = 2 * sensitivity * ppv /(sensitivity + ppv)\n",
    "    \n",
    "    return sensitivity, ppv, f1_score\n",
    "    "
   ]
  },
  {
   "cell_type": "code",
   "execution_count": null,
   "id": "chubby-florence",
   "metadata": {},
   "outputs": [],
   "source": [
    "def perf_measure(y_actual, y_hat):\n",
    "    # thanks to https://stackoverflow.com/questions/31324218/scikit-learn-how-to-obtain-true-positive-true-negative-false-positive-and-fal\n",
    "    TP = 0\n",
    "    FP = 0\n",
    "    TN = 0\n",
    "    FN = 0\n",
    "\n",
    "    for i in range(len(y_hat)): \n",
    "        if y_actual[i]==y_hat[i]==1:\n",
    "            TP += 1\n",
    "        if y_hat[i]==1 and y_actual[i]!=y_hat[i]:\n",
    "            FP += 1\n",
    "        if y_actual[i]==y_hat[i]==0:\n",
    "            TN += 1\n",
    "        if y_hat[i]==0 and y_actual[i]!=y_hat[i]:\n",
    "            FN += 1\n",
    "\n",
    "    return TP, FP, TN, FN"
   ]
  },
  {
   "cell_type": "code",
   "execution_count": null,
   "id": "charming-recipient",
   "metadata": {},
   "outputs": [],
   "source": []
  },
  {
   "cell_type": "code",
   "execution_count": null,
   "id": "refined-workshop",
   "metadata": {},
   "outputs": [],
   "source": [
    "predictor_s2 = us2.Predictor('v0.2')"
   ]
  },
  {
   "cell_type": "code",
   "execution_count": null,
   "id": "wanted-weather",
   "metadata": {},
   "outputs": [],
   "source": [
    "df = pd.read_pickle('data/rfam_t0p1_k1.pkl.gz')"
   ]
  },
  {
   "cell_type": "code",
   "execution_count": null,
   "id": "exempt-copying",
   "metadata": {
    "scrolled": true
   },
   "outputs": [],
   "source": [
    "df = dgp.add_column(df, 'df_pred', ['bb_stem', 'bb_iloop', 'bb_hloop', 'seq'], add_s2_pred, pbar=True)"
   ]
  },
  {
   "cell_type": "code",
   "execution_count": null,
   "id": "immediate-relations",
   "metadata": {},
   "outputs": [],
   "source": []
  },
  {
   "cell_type": "code",
   "execution_count": null,
   "id": "executed-front",
   "metadata": {},
   "outputs": [],
   "source": [
    "df_metric = []\n",
    "for _, row in df.iterrows():\n",
    "    seq_len = row['len']\n",
    "    df_pred = row['df_pred']\n",
    "    df_target = process_bb_old_to_new(row['bounding_boxes'])\n",
    "    \n",
    "    df_stem_pred = df_pred[df_pred['bb_type'] == 'stem']\n",
    "    df_stem_target = df_target[df_target['bb_type'] == 'stem']\n",
    "    \n",
    "    sensitivity, ppv, f1_score = calculate_metric(df_stem_pred, df_stem_target, seq_len)\n",
    "    \n",
    "    df_metric.append({\n",
    "        'seq_id': row['seq_id'],\n",
    "        'len': seq_len,\n",
    "        'sensitivity': sensitivity,\n",
    "        'ppv': ppv,\n",
    "        'f1_score': f1_score,\n",
    "    })"
   ]
  },
  {
   "cell_type": "code",
   "execution_count": null,
   "id": "imported-communications",
   "metadata": {},
   "outputs": [],
   "source": [
    "df_metric = pd.DataFrame(df_metric)"
   ]
  },
  {
   "cell_type": "code",
   "execution_count": null,
   "id": "sized-central",
   "metadata": {},
   "outputs": [],
   "source": [
    "px.scatter(df_metric, x='len', y='sensitivity', hover_data=['seq_id', 'f1_score', 'ppv'])"
   ]
  },
  {
   "cell_type": "code",
   "execution_count": null,
   "id": "based-terry",
   "metadata": {},
   "outputs": [],
   "source": [
    "px.scatter(df_metric, x='len', y='f1_score', hover_data=['seq_id', 'sensitivity', 'ppv'])"
   ]
  },
  {
   "cell_type": "code",
   "execution_count": null,
   "id": "mathematical-berlin",
   "metadata": {},
   "outputs": [],
   "source": []
  }
 ],
 "metadata": {
  "kernelspec": {
   "display_name": "Python 3",
   "language": "python",
   "name": "python3"
  },
  "language_info": {
   "codemirror_mode": {
    "name": "ipython",
    "version": 3
   },
   "file_extension": ".py",
   "mimetype": "text/x-python",
   "name": "python",
   "nbconvert_exporter": "python",
   "pygments_lexer": "ipython3",
   "version": "3.7.6"
  }
 },
 "nbformat": 4,
 "nbformat_minor": 5
}
