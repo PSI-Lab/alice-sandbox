{
 "cells": [
  {
   "cell_type": "code",
   "execution_count": 1,
   "metadata": {},
   "outputs": [],
   "source": [
    "import pandas as pd\n",
    "import numpy as np"
   ]
  },
  {
   "cell_type": "code",
   "execution_count": 2,
   "metadata": {},
   "outputs": [
    {
     "name": "stderr",
     "output_type": "stream",
     "text": [
      "/Users/alicegao/anaconda2/envs/dg_work_py2/lib/python2.7/site-packages/pkg_resources/py2_warn.py:19: UserWarning: ************************************************************\n",
      "You are running Setuptools on Python 2, which is no longer\n",
      "supported and\n",
      ">>> SETUPTOOLS WILL STOP WORKING <<<\n",
      "in a subsequent release. Please ensure you are installing\n",
      "Setuptools using pip 9.x or later or pin to `setuptools<45`\n",
      "in your environment.\n",
      "If you have done those things and are still encountering\n",
      "this message, please comment in\n",
      "https://github.com/pypa/setuptools/issues/1458\n",
      "about the steps that led to this unsupported combination.\n",
      "************************************************************\n",
      "  sys.version_info < (3,) and warnings.warn(\"*\" * 60 + msg + \"*\" * 60)\n",
      "/Users/alicegao/anaconda2/envs/dg_work_py2/lib/python2.7/site-packages/tqdm/autonotebook/__init__.py:14: TqdmExperimentalWarning: Using `tqdm.autonotebook.tqdm` in notebook mode. Use `tqdm.tqdm` instead to force console mode (e.g. in jupyter console)\n",
      "  \" (e.g. in jupyter console)\", TqdmExperimentalWarning)\n"
     ]
    }
   ],
   "source": [
    "from dgutils.pandas import add_column"
   ]
  },
  {
   "cell_type": "code",
   "execution_count": 3,
   "metadata": {},
   "outputs": [],
   "source": [
    "# load one of the raw data\n",
    "# note that if loading ExE, \"Check D-cell performance on interaction\" won't work since we'll have no data points\n",
    "# file_name = 'SGA_ExN_NxE.txt'\n",
    "file_name = 'SGA_NxN.txt'\n",
    "\n",
    "df = pd.read_csv('/Users/alicegao/work/psi-lab-sandbox/meetings/2020_02_11/d_cell/data/for_comparison/{}'.format(file_name), sep='\\t')\n",
    "df = df.rename(columns={\n",
    "        'Query Strain ID': 's1',\n",
    "        'Array Strain ID': 's2',\n",
    "        'Query single mutant fitness (SMF)': 'f1',\n",
    "        'Array SMF': 'f2',\n",
    "        'Genetic interaction score (ε)': 'interaction',\n",
    "    'P-value': 'pval',\n",
    "    'Double mutant fitness': 'fd',\n",
    "    'Double mutant fitness standard deviation': 'fstd',\n",
    "    })"
   ]
  },
  {
   "cell_type": "markdown",
   "metadata": {},
   "source": [
    "## Investigate relationship between single KO fitness and double KO fitness"
   ]
  },
  {
   "cell_type": "code",
   "execution_count": 4,
   "metadata": {},
   "outputs": [],
   "source": [
    "df = add_column(df, 'interaction_calculated', ['f1', 'f2', 'fd'],\n",
    "               lambda f1, f2, fd: fd - f1 * f2)"
   ]
  },
  {
   "cell_type": "code",
   "execution_count": 5,
   "metadata": {},
   "outputs": [],
   "source": [
    "# no data point with significant double fitness has a huge difference \n",
    "# between the fitness from the raw dataset and the one computed using above formula\n",
    "assert len(df[((df['interaction'] - df['interaction_calculated']) > 1e-3) & (df['pval'] < 0.05)]) == 0"
   ]
  },
  {
   "cell_type": "code",
   "execution_count": null,
   "metadata": {},
   "outputs": [],
   "source": []
  },
  {
   "cell_type": "markdown",
   "metadata": {},
   "source": [
    "## Check D-cell performance on interaction"
   ]
  },
  {
   "cell_type": "code",
   "execution_count": 6,
   "metadata": {},
   "outputs": [],
   "source": [
    "# growth prediction\n",
    "df_dcell_pred = pd.read_csv('/Users/alicegao/work/psi-lab-sandbox/meetings/2020_02_11/d_cell/data/for_comparison/costonzo_2009_pvalue005_prediction_growth',\n",
    "                           sep='\\t', header=None, names=['g1', 'g2', 'pred'])"
   ]
  },
  {
   "cell_type": "code",
   "execution_count": 7,
   "metadata": {},
   "outputs": [],
   "source": [
    "# de-dup raw data for join\n",
    "\n",
    "def get_gene_id(strain_id):\n",
    "    # extra gene ID from strain ID\n",
    "    gene_id, _ = strain_id.split('_')\n",
    "    return gene_id\n",
    "\n",
    "df = add_column(df, 'g1', ['s1'], get_gene_id)\n",
    "df = add_column(df, 'g2', ['s2'], get_gene_id)\n",
    "# take median of examples with the same gene pair, so that we don't have duplicates\n",
    "df = df[['g1', 'g2', 'interaction', 'fd']].groupby(by=['g1', 'g2'], as_index=False).agg('median')"
   ]
  },
  {
   "cell_type": "code",
   "execution_count": 8,
   "metadata": {},
   "outputs": [],
   "source": [
    "df_dcell_pred = pd.merge(df_dcell_pred, df)  # inner join"
   ]
  },
  {
   "cell_type": "code",
   "execution_count": 9,
   "metadata": {},
   "outputs": [
    {
     "data": {
      "text/plain": [
       "0.026616867348584622"
      ]
     },
     "execution_count": 9,
     "metadata": {},
     "output_type": "execute_result"
    }
   ],
   "source": [
    "df_dcell_pred['pred'].corr(df_dcell_pred['interaction'])"
   ]
  },
  {
   "cell_type": "code",
   "execution_count": 10,
   "metadata": {},
   "outputs": [
    {
     "data": {
      "text/plain": [
       "0.2311667247791089"
      ]
     },
     "execution_count": 10,
     "metadata": {},
     "output_type": "execute_result"
    }
   ],
   "source": [
    "df_dcell_pred['pred'].corr(df_dcell_pred['fd'])"
   ]
  },
  {
   "cell_type": "code",
   "execution_count": 11,
   "metadata": {},
   "outputs": [],
   "source": [
    "# gi prediction\n",
    "df_dcell_pred = pd.read_csv('/Users/alicegao/data/tmp/costonzo_2009_pvalue005_prediction',\n",
    "                           sep='\\t', header=None, names=['g1', 'g2', 'pred'])"
   ]
  },
  {
   "cell_type": "code",
   "execution_count": 12,
   "metadata": {},
   "outputs": [],
   "source": [
    "df_dcell_pred = pd.merge(df_dcell_pred, df)  # inner join"
   ]
  },
  {
   "cell_type": "code",
   "execution_count": 13,
   "metadata": {},
   "outputs": [
    {
     "data": {
      "text/plain": [
       "0.4892228685092307"
      ]
     },
     "execution_count": 13,
     "metadata": {},
     "output_type": "execute_result"
    }
   ],
   "source": [
    "df_dcell_pred['pred'].corr(df_dcell_pred['interaction'])"
   ]
  },
  {
   "cell_type": "code",
   "execution_count": 14,
   "metadata": {},
   "outputs": [
    {
     "data": {
      "text/plain": [
       "0.21512434519724072"
      ]
     },
     "execution_count": 14,
     "metadata": {},
     "output_type": "execute_result"
    }
   ],
   "source": [
    "df_dcell_pred['pred'].corr(df_dcell_pred['fd'])"
   ]
  },
  {
   "cell_type": "code",
   "execution_count": null,
   "metadata": {},
   "outputs": [],
   "source": []
  },
  {
   "cell_type": "markdown",
   "metadata": {},
   "source": [
    "## Check correlation between fitness and interaction in raw data"
   ]
  },
  {
   "cell_type": "code",
   "execution_count": 15,
   "metadata": {},
   "outputs": [
    {
     "data": {
      "text/plain": [
       "0.2743129604320869"
      ]
     },
     "execution_count": 15,
     "metadata": {},
     "output_type": "execute_result"
    }
   ],
   "source": [
    "df['interaction'].corr(df['fd'])"
   ]
  },
  {
   "cell_type": "code",
   "execution_count": null,
   "metadata": {},
   "outputs": [],
   "source": []
  },
  {
   "cell_type": "code",
   "execution_count": null,
   "metadata": {},
   "outputs": [],
   "source": []
  }
 ],
 "metadata": {
  "kernelspec": {
   "display_name": "Python 2",
   "language": "python",
   "name": "python2"
  },
  "language_info": {
   "codemirror_mode": {
    "name": "ipython",
    "version": 2
   },
   "file_extension": ".py",
   "mimetype": "text/x-python",
   "name": "python",
   "nbconvert_exporter": "python",
   "pygments_lexer": "ipython2",
   "version": "2.7.16"
  }
 },
 "nbformat": 4,
 "nbformat_minor": 2
}
