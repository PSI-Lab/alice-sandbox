{
 "cells": [
  {
   "cell_type": "code",
   "execution_count": null,
   "metadata": {},
   "outputs": [],
   "source": [
    "import numpy as np\n",
    "import matplotlib.pyplot as plt\n",
    "import plotly.express as px"
   ]
  },
  {
   "cell_type": "code",
   "execution_count": null,
   "metadata": {},
   "outputs": [],
   "source": [
    "import pandas as pd"
   ]
  },
  {
   "cell_type": "code",
   "execution_count": null,
   "metadata": {},
   "outputs": [],
   "source": [
    "import sys\n",
    "sys.path.insert(0, '../../rna_ss/')\n",
    "from utils import db2pairs\n",
    "from local_struct_utils import one_idx2arr, sort_pairs, LocalStructureParser, make_target"
   ]
  },
  {
   "cell_type": "code",
   "execution_count": null,
   "metadata": {},
   "outputs": [],
   "source": [
    "import plotly.graph_objects as go"
   ]
  },
  {
   "cell_type": "code",
   "execution_count": null,
   "metadata": {},
   "outputs": [],
   "source": []
  },
  {
   "cell_type": "code",
   "execution_count": null,
   "metadata": {},
   "outputs": [],
   "source": [
    "df = pd.read_pickle('data/local_struct_pixel_bb.bp_rna.pkl.gz')"
   ]
  },
  {
   "cell_type": "code",
   "execution_count": null,
   "metadata": {},
   "outputs": [],
   "source": [
    "df.head()"
   ]
  },
  {
   "cell_type": "code",
   "execution_count": null,
   "metadata": {},
   "outputs": [],
   "source": [
    "df.tail()"
   ]
  },
  {
   "cell_type": "code",
   "execution_count": null,
   "metadata": {},
   "outputs": [],
   "source": []
  },
  {
   "cell_type": "code",
   "execution_count": null,
   "metadata": {},
   "outputs": [],
   "source": [
    "idx = 500\n",
    "# idx = 3\n",
    "row = df.iloc[idx]\n",
    "pairs, structure_arr = one_idx2arr(row.one_idx, len(row.seq), remove_lower_triangular=True)\n",
    "pairs = sort_pairs(pairs)\n",
    "parser = LocalStructureParser(pairs)"
   ]
  },
  {
   "cell_type": "code",
   "execution_count": null,
   "metadata": {},
   "outputs": [],
   "source": []
  },
  {
   "cell_type": "code",
   "execution_count": null,
   "metadata": {},
   "outputs": [],
   "source": []
  },
  {
   "cell_type": "code",
   "execution_count": null,
   "metadata": {},
   "outputs": [],
   "source": [
    "df.iloc[idx].seq_id"
   ]
  },
  {
   "cell_type": "code",
   "execution_count": null,
   "metadata": {},
   "outputs": [],
   "source": []
  },
  {
   "cell_type": "code",
   "execution_count": null,
   "metadata": {},
   "outputs": [],
   "source": []
  },
  {
   "cell_type": "code",
   "execution_count": null,
   "metadata": {},
   "outputs": [],
   "source": [
    "# bounding boxes\n",
    "# note that the value used for visualization is 0.5 pixel shifted (and expanded) so that it surrounds the pixels\n",
    "\n",
    "\n",
    "fig = px.imshow(structure_arr)\n",
    "\n",
    "name2color = {\n",
    "    'stem': 'red',\n",
    "    'bulge': 'cyan',\n",
    "    'internal_loop': 'purple',\n",
    "    'pesudo_knot': 'magenta',\n",
    "    'hairpin_loop': 'white',\n",
    "    \n",
    "}\n",
    "\n",
    "for ls in parser.local_structure_bounding_boxes:\n",
    "    (x0, y0), (wx, wy), name = ls\n",
    "    fig.add_shape(\n",
    "        type='rect',\n",
    "        y0=x0-0.5, y1=x0+wx-0.5, x0=y0-0.5, x1=y0+wy-0.5,   # image plot axis is swaped\n",
    "        xref='x', yref='y',\n",
    "        line_color=name2color[name]\n",
    "    )\n",
    "\n",
    "\n",
    "print(df.iloc[idx].seq)\n",
    "\n",
    "fig.update_layout(\n",
    "    title=row.seq_id,\n",
    "    font=dict(\n",
    "        size=12,\n",
    "    )\n",
    ")\n",
    "\n",
    "fig.show()\n"
   ]
  },
  {
   "cell_type": "code",
   "execution_count": null,
   "metadata": {},
   "outputs": [],
   "source": [
    "df.columns"
   ]
  },
  {
   "cell_type": "code",
   "execution_count": null,
   "metadata": {
    "scrolled": false
   },
   "outputs": [],
   "source": [
    "cols_plot = ['target_stem_on', 'target_iloop_on', 'target_hloop_on', 'mask_stem_on',\n",
    "       'mask_iloop_on', 'mask_hloop_on', 'target_stem_location_x',\n",
    "       'target_stem_location_y', 'target_iloop_location_x',\n",
    "       'target_iloop_location_y', 'target_hloop_location_x',\n",
    "       'target_hloop_location_y', 'target_stem_size', 'target_iloop_size_x',\n",
    "       'target_iloop_size_y', 'target_hloop_size', 'mask_stem_location_size',\n",
    "       'mask_iloop_location_size', 'mask_hloop_location_size']\n",
    "for col in cols_plot:\n",
    "\n",
    "    fig = px.imshow(row[col])\n",
    "    fig.update_layout(\n",
    "        title=col,\n",
    "        font=dict(\n",
    "            size=12,\n",
    "        )\n",
    "    )\n",
    "    fig.show()"
   ]
  },
  {
   "cell_type": "code",
   "execution_count": null,
   "metadata": {},
   "outputs": [],
   "source": []
  },
  {
   "cell_type": "code",
   "execution_count": null,
   "metadata": {
    "scrolled": false
   },
   "outputs": [],
   "source": [
    "# todo debug - validate local structure?\n",
    "for ls in parser.local_structure_bounding_boxes:\n",
    "    (x0, y0), (wx, wy), name = ls\n",
    "    print(*ls)\n",
    "    tmp_data = structure_arr[x0:x0+wx, y0:y0+wy]\n",
    "    print(tmp_data)\n",
    "    print('')"
   ]
  },
  {
   "cell_type": "code",
   "execution_count": null,
   "metadata": {},
   "outputs": [],
   "source": []
  },
  {
   "cell_type": "code",
   "execution_count": null,
   "metadata": {},
   "outputs": [],
   "source": []
  }
 ],
 "metadata": {
  "kernelspec": {
   "display_name": "Python 3",
   "language": "python",
   "name": "python3"
  },
  "language_info": {
   "codemirror_mode": {
    "name": "ipython",
    "version": 3
   },
   "file_extension": ".py",
   "mimetype": "text/x-python",
   "name": "python",
   "nbconvert_exporter": "python",
   "pygments_lexer": "ipython3",
   "version": "3.7.6"
  }
 },
 "nbformat": 4,
 "nbformat_minor": 2
}
