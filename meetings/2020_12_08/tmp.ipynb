{
 "cells": [
  {
   "cell_type": "code",
   "execution_count": 1,
   "metadata": {},
   "outputs": [],
   "source": [
    "import pandas as pd\n",
    "import numpy as np"
   ]
  },
  {
   "cell_type": "code",
   "execution_count": 2,
   "metadata": {},
   "outputs": [],
   "source": [
    "from model_utils.utils_s2 import Predictor"
   ]
  },
  {
   "cell_type": "code",
   "execution_count": 3,
   "metadata": {},
   "outputs": [],
   "source": [
    "import dgutils.pandas as dgp"
   ]
  },
  {
   "cell_type": "code",
   "execution_count": 4,
   "metadata": {},
   "outputs": [],
   "source": [
    "predictor = Predictor('result/synthetic_s2_training_2/model_ckpt_ep_12.pth')"
   ]
  },
  {
   "cell_type": "code",
   "execution_count": 5,
   "metadata": {},
   "outputs": [],
   "source": [
    "# toy example?\n",
    "\n",
    "\n",
    "'''\n",
    "   bb_x  bb_y  siz_x  siz_y bb_type  n_proposal  prob_median  n_proposal_norm\n",
    "0     4     9      6      6   hloop          15     0.930053         0.416667\n",
    "1     1    12      4      4    stem          16     0.925148         1.000000\n",
    "2    41    50     10     10   hloop          45     0.992122         0.450000\n",
    "3    38    53      4      4    stem          16     0.994010         1.000000\n",
    "4    36    55      3      3   iloop           9     0.995822         1.000000\n",
    "5    31    60      6      6    stem          36     0.978096         1.000000\n",
    "'''\n",
    "\n",
    "\n",
    "stems = pd.DataFrame([{'bb_x': 1, 'bb_y': 12, 'siz_x': 4, 'siz_y': 4, 'prob_median': 0.93, 'n_proposal_norm': 1.0},\n",
    "                     {'bb_x': 38, 'bb_y': 53, 'siz_x': 4, 'siz_y': 4, 'prob_median': 0.99, 'n_proposal_norm': 1.0},\n",
    "                     {'bb_x': 31, 'bb_y': 60, 'siz_x': 6, 'siz_y': 6, 'prob_median': 0.98, 'n_proposal_norm': 1.0}])\n",
    "\n",
    "iloops = pd.DataFrame([{'bb_x': 36, 'bb_y': 55, 'siz_x': 3, 'siz_y': 3, 'prob_median': 0.99, 'n_proposal_norm': 1.0}])\n",
    "\n",
    "hloops = pd.DataFrame([{'bb_x': 4, 'bb_y': 9, 'siz_x': 6, 'siz_y': 6, 'prob_median': 0.93, 'n_proposal_norm': 0.83},\n",
    "                      {'bb_x': 41, 'bb_y': 50, 'siz_x': 10, 'siz_y': 10, 'prob_median': 0.99, 'n_proposal_norm': 0.9}])\n",
    "\n"
   ]
  },
  {
   "cell_type": "code",
   "execution_count": 6,
   "metadata": {},
   "outputs": [
    {
     "data": {
      "text/plain": [
       "tensor([[[0.8489],\n",
       "         [0.9907],\n",
       "         [0.9960],\n",
       "         [0.9910],\n",
       "         [0.9029],\n",
       "         [0.9904]]], grad_fn=<SigmoidBackward>)"
      ]
     },
     "execution_count": 6,
     "metadata": {},
     "output_type": "execute_result"
    }
   ],
   "source": [
    "predictor.predict(stems, iloops, hloops)"
   ]
  },
  {
   "cell_type": "code",
   "execution_count": null,
   "metadata": {},
   "outputs": [],
   "source": []
  },
  {
   "cell_type": "code",
   "execution_count": 7,
   "metadata": {},
   "outputs": [],
   "source": [
    "def summarize_df(df, hloop=False):\n",
    "    # calculate median prob and n_proposal_norm\n",
    "    \n",
    "    def _tmp(siz_x, siz_y, prob):\n",
    "        prob_median = np.median(prob)\n",
    "        n_proposal_norm = len(prob)/float(siz_x * siz_y)\n",
    "        if hloop:\n",
    "            n_proposal_norm = 2 * n_proposal_norm\n",
    "        return prob_median, n_proposal_norm\n",
    "        \n",
    "    df = dgp.add_columns(df, ['prob_median', 'n_proposal_norm'],\n",
    "                        ['siz_x', 'siz_y', 'prob'], _tmp)\n",
    "    # subset columns\n",
    "    df = df[['bb_x', 'bb_y', 'siz_x', 'siz_y', 'prob_median', 'n_proposal_norm']]\n",
    "    return df"
   ]
  },
  {
   "cell_type": "code",
   "execution_count": null,
   "metadata": {},
   "outputs": [],
   "source": []
  },
  {
   "cell_type": "code",
   "execution_count": 8,
   "metadata": {},
   "outputs": [],
   "source": [
    "df = pd.read_pickle('../2020_11_24/data/rfam151_s1_pruned.pkl.gz')"
   ]
  },
  {
   "cell_type": "code",
   "execution_count": 9,
   "metadata": {},
   "outputs": [],
   "source": [
    "x = df.iloc[4]\n",
    "x = df.iloc[6]"
   ]
  },
  {
   "cell_type": "code",
   "execution_count": 10,
   "metadata": {},
   "outputs": [
    {
     "data": {
      "text/plain": [
       "len                                                              54\n",
       "one_idx           ([1, 2, 3, 4, 5, 6, 8, 9, 10, 11, 12, 28, 29, ...\n",
       "seq               CAAAAGUCUGGGCUAAGCCCACUGAUGAGCCGCUGAAAUGCGGCGA...\n",
       "seq_id                                                    RF00008_B\n",
       "bounding_boxes    [((1, 47), (6, 6), stem), ((8, 16), (5, 5), st...\n",
       "bb_stem           [{'bb_x': 0, 'bb_y': 26, 'siz_x': 2, 'siz_y': ...\n",
       "bb_iloop          [{'bb_x': 1, 'bb_y': 25, 'siz_x': 4, 'siz_y': ...\n",
       "bb_hloop          [{'bb_x': 12, 'bb_y': 16, 'siz_x': 5, 'siz_y':...\n",
       "df_target         [{'bb_x': 1, 'bb_y': 52, 'siz_x': 6, 'siz_y': ...\n",
       "n_bb_found                                                        2\n",
       "Name: 6, dtype: object"
      ]
     },
     "execution_count": 10,
     "metadata": {},
     "output_type": "execute_result"
    }
   ],
   "source": [
    "x"
   ]
  },
  {
   "cell_type": "code",
   "execution_count": 11,
   "metadata": {},
   "outputs": [],
   "source": [
    "stems = summarize_df(pd.DataFrame(x['bb_stem']))\n",
    "iloops = summarize_df(pd.DataFrame(x['bb_iloop']))\n",
    "hloops = summarize_df(pd.DataFrame(x['bb_hloop']), hloop=True)"
   ]
  },
  {
   "cell_type": "code",
   "execution_count": 12,
   "metadata": {},
   "outputs": [
    {
     "data": {
      "text/html": [
       "<div>\n",
       "<style scoped>\n",
       "    .dataframe tbody tr th:only-of-type {\n",
       "        vertical-align: middle;\n",
       "    }\n",
       "\n",
       "    .dataframe tbody tr th {\n",
       "        vertical-align: top;\n",
       "    }\n",
       "\n",
       "    .dataframe thead th {\n",
       "        text-align: right;\n",
       "    }\n",
       "</style>\n",
       "<table border=\"1\" class=\"dataframe\">\n",
       "  <thead>\n",
       "    <tr style=\"text-align: right;\">\n",
       "      <th></th>\n",
       "      <th>bb_x</th>\n",
       "      <th>bb_y</th>\n",
       "      <th>siz_x</th>\n",
       "      <th>siz_y</th>\n",
       "      <th>bb_type</th>\n",
       "    </tr>\n",
       "  </thead>\n",
       "  <tbody>\n",
       "    <tr>\n",
       "      <th>0</th>\n",
       "      <td>1</td>\n",
       "      <td>52</td>\n",
       "      <td>6</td>\n",
       "      <td>6</td>\n",
       "      <td>stem</td>\n",
       "    </tr>\n",
       "    <tr>\n",
       "      <th>1</th>\n",
       "      <td>8</td>\n",
       "      <td>20</td>\n",
       "      <td>5</td>\n",
       "      <td>5</td>\n",
       "      <td>stem</td>\n",
       "    </tr>\n",
       "    <tr>\n",
       "      <th>2</th>\n",
       "      <td>28</td>\n",
       "      <td>43</td>\n",
       "      <td>4</td>\n",
       "      <td>4</td>\n",
       "      <td>stem</td>\n",
       "    </tr>\n",
       "    <tr>\n",
       "      <th>3</th>\n",
       "      <td>12</td>\n",
       "      <td>16</td>\n",
       "      <td>5</td>\n",
       "      <td>5</td>\n",
       "      <td>hloop</td>\n",
       "    </tr>\n",
       "    <tr>\n",
       "      <th>4</th>\n",
       "      <td>31</td>\n",
       "      <td>40</td>\n",
       "      <td>10</td>\n",
       "      <td>10</td>\n",
       "      <td>hloop</td>\n",
       "    </tr>\n",
       "  </tbody>\n",
       "</table>\n",
       "</div>"
      ],
      "text/plain": [
       "   bb_x  bb_y  siz_x  siz_y bb_type\n",
       "0     1    52      6      6    stem\n",
       "1     8    20      5      5    stem\n",
       "2    28    43      4      4    stem\n",
       "3    12    16      5      5   hloop\n",
       "4    31    40     10     10   hloop"
      ]
     },
     "execution_count": 12,
     "metadata": {},
     "output_type": "execute_result"
    }
   ],
   "source": [
    "pd.DataFrame(x['df_target'])"
   ]
  },
  {
   "cell_type": "code",
   "execution_count": 13,
   "metadata": {},
   "outputs": [],
   "source": [
    "pred = predictor.predict(stems, iloops, hloops)\n",
    "pred = pred[0, :, 0].detach().numpy()"
   ]
  },
  {
   "cell_type": "code",
   "execution_count": 14,
   "metadata": {},
   "outputs": [],
   "source": [
    "assert len(pred) == len(stems) + len(iloops) + len(hloops)"
   ]
  },
  {
   "cell_type": "code",
   "execution_count": 15,
   "metadata": {},
   "outputs": [],
   "source": [
    "stems['pred'] = pred[:len(stems)]\n",
    "iloops['pred'] = pred[len(stems):len(stems) + len(iloops)]\n",
    "hloops['pred'] = pred[-len(hloops):]"
   ]
  },
  {
   "cell_type": "code",
   "execution_count": 16,
   "metadata": {},
   "outputs": [
    {
     "data": {
      "text/html": [
       "<div>\n",
       "<style scoped>\n",
       "    .dataframe tbody tr th:only-of-type {\n",
       "        vertical-align: middle;\n",
       "    }\n",
       "\n",
       "    .dataframe tbody tr th {\n",
       "        vertical-align: top;\n",
       "    }\n",
       "\n",
       "    .dataframe thead th {\n",
       "        text-align: right;\n",
       "    }\n",
       "</style>\n",
       "<table border=\"1\" class=\"dataframe\">\n",
       "  <thead>\n",
       "    <tr style=\"text-align: right;\">\n",
       "      <th></th>\n",
       "      <th>bb_x</th>\n",
       "      <th>bb_y</th>\n",
       "      <th>siz_x</th>\n",
       "      <th>siz_y</th>\n",
       "      <th>prob_median</th>\n",
       "      <th>n_proposal_norm</th>\n",
       "      <th>pred</th>\n",
       "    </tr>\n",
       "  </thead>\n",
       "  <tbody>\n",
       "    <tr>\n",
       "      <th>0</th>\n",
       "      <td>0</td>\n",
       "      <td>26</td>\n",
       "      <td>2</td>\n",
       "      <td>2</td>\n",
       "      <td>0.114655</td>\n",
       "      <td>1.000000</td>\n",
       "      <td>0.571613</td>\n",
       "    </tr>\n",
       "    <tr>\n",
       "      <th>1</th>\n",
       "      <td>0</td>\n",
       "      <td>53</td>\n",
       "      <td>7</td>\n",
       "      <td>7</td>\n",
       "      <td>0.721856</td>\n",
       "      <td>1.000000</td>\n",
       "      <td>0.373738</td>\n",
       "    </tr>\n",
       "    <tr>\n",
       "      <th>2</th>\n",
       "      <td>4</td>\n",
       "      <td>22</td>\n",
       "      <td>3</td>\n",
       "      <td>3</td>\n",
       "      <td>0.135244</td>\n",
       "      <td>0.777778</td>\n",
       "      <td>0.460573</td>\n",
       "    </tr>\n",
       "    <tr>\n",
       "      <th>3</th>\n",
       "      <td>5</td>\n",
       "      <td>25</td>\n",
       "      <td>3</td>\n",
       "      <td>3</td>\n",
       "      <td>0.181055</td>\n",
       "      <td>1.000000</td>\n",
       "      <td>0.489539</td>\n",
       "    </tr>\n",
       "    <tr>\n",
       "      <th>4</th>\n",
       "      <td>8</td>\n",
       "      <td>20</td>\n",
       "      <td>5</td>\n",
       "      <td>5</td>\n",
       "      <td>0.648889</td>\n",
       "      <td>0.400000</td>\n",
       "      <td>0.691276</td>\n",
       "    </tr>\n",
       "    <tr>\n",
       "      <th>5</th>\n",
       "      <td>9</td>\n",
       "      <td>19</td>\n",
       "      <td>4</td>\n",
       "      <td>4</td>\n",
       "      <td>0.127608</td>\n",
       "      <td>0.375000</td>\n",
       "      <td>0.148285</td>\n",
       "    </tr>\n",
       "    <tr>\n",
       "      <th>6</th>\n",
       "      <td>11</td>\n",
       "      <td>43</td>\n",
       "      <td>3</td>\n",
       "      <td>3</td>\n",
       "      <td>0.071630</td>\n",
       "      <td>0.555556</td>\n",
       "      <td>0.001648</td>\n",
       "    </tr>\n",
       "    <tr>\n",
       "      <th>7</th>\n",
       "      <td>28</td>\n",
       "      <td>43</td>\n",
       "      <td>5</td>\n",
       "      <td>5</td>\n",
       "      <td>0.874696</td>\n",
       "      <td>1.000000</td>\n",
       "      <td>0.990429</td>\n",
       "    </tr>\n",
       "  </tbody>\n",
       "</table>\n",
       "</div>"
      ],
      "text/plain": [
       "   bb_x  bb_y  siz_x  siz_y  prob_median  n_proposal_norm      pred\n",
       "0     0    26      2      2     0.114655         1.000000  0.571613\n",
       "1     0    53      7      7     0.721856         1.000000  0.373738\n",
       "2     4    22      3      3     0.135244         0.777778  0.460573\n",
       "3     5    25      3      3     0.181055         1.000000  0.489539\n",
       "4     8    20      5      5     0.648889         0.400000  0.691276\n",
       "5     9    19      4      4     0.127608         0.375000  0.148285\n",
       "6    11    43      3      3     0.071630         0.555556  0.001648\n",
       "7    28    43      5      5     0.874696         1.000000  0.990429"
      ]
     },
     "execution_count": 16,
     "metadata": {},
     "output_type": "execute_result"
    }
   ],
   "source": [
    "stems"
   ]
  },
  {
   "cell_type": "code",
   "execution_count": 17,
   "metadata": {},
   "outputs": [
    {
     "data": {
      "text/html": [
       "<div>\n",
       "<style scoped>\n",
       "    .dataframe tbody tr th:only-of-type {\n",
       "        vertical-align: middle;\n",
       "    }\n",
       "\n",
       "    .dataframe tbody tr th {\n",
       "        vertical-align: top;\n",
       "    }\n",
       "\n",
       "    .dataframe thead th {\n",
       "        text-align: right;\n",
       "    }\n",
       "</style>\n",
       "<table border=\"1\" class=\"dataframe\">\n",
       "  <thead>\n",
       "    <tr style=\"text-align: right;\">\n",
       "      <th></th>\n",
       "      <th>bb_x</th>\n",
       "      <th>bb_y</th>\n",
       "      <th>siz_x</th>\n",
       "      <th>siz_y</th>\n",
       "      <th>prob_median</th>\n",
       "      <th>n_proposal_norm</th>\n",
       "      <th>pred</th>\n",
       "    </tr>\n",
       "  </thead>\n",
       "  <tbody>\n",
       "    <tr>\n",
       "      <th>0</th>\n",
       "      <td>1</td>\n",
       "      <td>25</td>\n",
       "      <td>4</td>\n",
       "      <td>4</td>\n",
       "      <td>0.113429</td>\n",
       "      <td>0.375000</td>\n",
       "      <td>0.220247</td>\n",
       "    </tr>\n",
       "    <tr>\n",
       "      <th>1</th>\n",
       "      <td>6</td>\n",
       "      <td>20</td>\n",
       "      <td>4</td>\n",
       "      <td>2</td>\n",
       "      <td>0.163670</td>\n",
       "      <td>0.625000</td>\n",
       "      <td>0.327625</td>\n",
       "    </tr>\n",
       "    <tr>\n",
       "      <th>2</th>\n",
       "      <td>6</td>\n",
       "      <td>47</td>\n",
       "      <td>3</td>\n",
       "      <td>3</td>\n",
       "      <td>0.263365</td>\n",
       "      <td>0.888889</td>\n",
       "      <td>0.005395</td>\n",
       "    </tr>\n",
       "    <tr>\n",
       "      <th>3</th>\n",
       "      <td>6</td>\n",
       "      <td>47</td>\n",
       "      <td>6</td>\n",
       "      <td>5</td>\n",
       "      <td>0.100151</td>\n",
       "      <td>0.200000</td>\n",
       "      <td>0.001614</td>\n",
       "    </tr>\n",
       "    <tr>\n",
       "      <th>4</th>\n",
       "      <td>7</td>\n",
       "      <td>23</td>\n",
       "      <td>2</td>\n",
       "      <td>4</td>\n",
       "      <td>0.220219</td>\n",
       "      <td>0.750000</td>\n",
       "      <td>0.389061</td>\n",
       "    </tr>\n",
       "  </tbody>\n",
       "</table>\n",
       "</div>"
      ],
      "text/plain": [
       "   bb_x  bb_y  siz_x  siz_y  prob_median  n_proposal_norm      pred\n",
       "0     1    25      4      4     0.113429         0.375000  0.220247\n",
       "1     6    20      4      2     0.163670         0.625000  0.327625\n",
       "2     6    47      3      3     0.263365         0.888889  0.005395\n",
       "3     6    47      6      5     0.100151         0.200000  0.001614\n",
       "4     7    23      2      4     0.220219         0.750000  0.389061"
      ]
     },
     "execution_count": 17,
     "metadata": {},
     "output_type": "execute_result"
    }
   ],
   "source": [
    "iloops"
   ]
  },
  {
   "cell_type": "code",
   "execution_count": 18,
   "metadata": {},
   "outputs": [
    {
     "data": {
      "text/html": [
       "<div>\n",
       "<style scoped>\n",
       "    .dataframe tbody tr th:only-of-type {\n",
       "        vertical-align: middle;\n",
       "    }\n",
       "\n",
       "    .dataframe tbody tr th {\n",
       "        vertical-align: top;\n",
       "    }\n",
       "\n",
       "    .dataframe thead th {\n",
       "        text-align: right;\n",
       "    }\n",
       "</style>\n",
       "<table border=\"1\" class=\"dataframe\">\n",
       "  <thead>\n",
       "    <tr style=\"text-align: right;\">\n",
       "      <th></th>\n",
       "      <th>bb_x</th>\n",
       "      <th>bb_y</th>\n",
       "      <th>siz_x</th>\n",
       "      <th>siz_y</th>\n",
       "      <th>prob_median</th>\n",
       "      <th>n_proposal_norm</th>\n",
       "      <th>pred</th>\n",
       "    </tr>\n",
       "  </thead>\n",
       "  <tbody>\n",
       "    <tr>\n",
       "      <th>0</th>\n",
       "      <td>12</td>\n",
       "      <td>16</td>\n",
       "      <td>5</td>\n",
       "      <td>5</td>\n",
       "      <td>0.917434</td>\n",
       "      <td>0.800</td>\n",
       "      <td>0.971985</td>\n",
       "    </tr>\n",
       "    <tr>\n",
       "      <th>1</th>\n",
       "      <td>32</td>\n",
       "      <td>39</td>\n",
       "      <td>8</td>\n",
       "      <td>8</td>\n",
       "      <td>0.899188</td>\n",
       "      <td>0.875</td>\n",
       "      <td>0.994422</td>\n",
       "    </tr>\n",
       "  </tbody>\n",
       "</table>\n",
       "</div>"
      ],
      "text/plain": [
       "   bb_x  bb_y  siz_x  siz_y  prob_median  n_proposal_norm      pred\n",
       "0    12    16      5      5     0.917434            0.800  0.971985\n",
       "1    32    39      8      8     0.899188            0.875  0.994422"
      ]
     },
     "execution_count": 18,
     "metadata": {},
     "output_type": "execute_result"
    }
   ],
   "source": [
    "hloops"
   ]
  },
  {
   "cell_type": "code",
   "execution_count": 19,
   "metadata": {},
   "outputs": [
    {
     "data": {
      "text/plain": [
       "array([0.5716126 , 0.37373847, 0.4605726 , 0.48953927, 0.6912757 ,\n",
       "       0.14828518, 0.00164808, 0.9904288 , 0.2202472 , 0.32762548,\n",
       "       0.00539522, 0.00161387, 0.38906115, 0.9719848 , 0.99442166],\n",
       "      dtype=float32)"
      ]
     },
     "execution_count": 19,
     "metadata": {},
     "output_type": "execute_result"
    }
   ],
   "source": [
    "pred"
   ]
  },
  {
   "cell_type": "code",
   "execution_count": null,
   "metadata": {},
   "outputs": [],
   "source": []
  }
 ],
 "metadata": {
  "kernelspec": {
   "display_name": "Python 3",
   "language": "python",
   "name": "python3"
  },
  "language_info": {
   "codemirror_mode": {
    "name": "ipython",
    "version": 3
   },
   "file_extension": ".py",
   "mimetype": "text/x-python",
   "name": "python",
   "nbconvert_exporter": "python",
   "pygments_lexer": "ipython3",
   "version": "3.7.6"
  }
 },
 "nbformat": 4,
 "nbformat_minor": 4
}
