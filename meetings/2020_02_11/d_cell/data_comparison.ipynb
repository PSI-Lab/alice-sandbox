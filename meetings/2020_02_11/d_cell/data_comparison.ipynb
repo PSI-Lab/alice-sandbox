{
 "cells": [
  {
   "cell_type": "code",
   "execution_count": 1,
   "metadata": {},
   "outputs": [],
   "source": [
    "import pandas as pd"
   ]
  },
  {
   "cell_type": "code",
   "execution_count": 2,
   "metadata": {},
   "outputs": [
    {
     "name": "stderr",
     "output_type": "stream",
     "text": [
      "/Users/alicegao/anaconda2/envs/yeast_d_cell/lib/python3.7/site-packages/genome_kit/data_manager.py:8: TqdmExperimentalWarning: Using `tqdm.autonotebook.tqdm` in notebook mode. Use `tqdm.tqdm` instead to force console mode (e.g. in jupyter console)\n",
      "  from tqdm.autonotebook import tqdm\n"
     ]
    }
   ],
   "source": [
    "from dgutils.pandas import add_column"
   ]
  },
  {
   "cell_type": "code",
   "execution_count": 3,
   "metadata": {},
   "outputs": [
    {
     "name": "stderr",
     "output_type": "stream",
     "text": [
      "/Users/alicegao/anaconda2/envs/yeast_d_cell/lib/python3.7/importlib/_bootstrap.py:219: RuntimeWarning: numpy.ufunc size changed, may indicate binary incompatibility. Expected 192 from C header, got 216 from PyObject\n",
      "  return f(*args, **kwds)\n",
      "/Users/alicegao/anaconda2/envs/yeast_d_cell/lib/python3.7/importlib/_bootstrap.py:219: RuntimeWarning: numpy.ufunc size changed, may indicate binary incompatibility. Expected 192 from C header, got 216 from PyObject\n",
      "  return f(*args, **kwds)\n",
      "/Users/alicegao/anaconda2/envs/yeast_d_cell/lib/python3.7/importlib/_bootstrap.py:219: RuntimeWarning: numpy.ufunc size changed, may indicate binary incompatibility. Expected 192 from C header, got 216 from PyObject\n",
      "  return f(*args, **kwds)\n"
     ]
    },
    {
     "data": {
      "text/html": [
       "        <script type=\"text/javascript\">\n",
       "        window.PlotlyConfig = {MathJaxConfig: 'local'};\n",
       "        if (window.MathJax) {MathJax.Hub.Config({SVG: {font: \"STIX-Web\"}});}\n",
       "        if (typeof require !== 'undefined') {\n",
       "        require.undef(\"plotly\");\n",
       "        requirejs.config({\n",
       "            paths: {\n",
       "                'plotly': ['https://cdn.plot.ly/plotly-latest.min']\n",
       "            }\n",
       "        });\n",
       "        require(['plotly'], function(Plotly) {\n",
       "            window._Plotly = Plotly;\n",
       "        });\n",
       "        }\n",
       "        </script>\n",
       "        "
      ]
     },
     "metadata": {},
     "output_type": "display_data"
    }
   ],
   "source": [
    "import matplotlib.pyplot as plt \n",
    "import seaborn as sns\n",
    "import pandas as pd\n",
    "sns.set(color_codes=True)\n",
    "import cufflinks as cf\n",
    "cf.go_offline()\n",
    "cf.set_config_file(theme='ggplot')"
   ]
  },
  {
   "cell_type": "code",
   "execution_count": 4,
   "metadata": {},
   "outputs": [],
   "source": [
    "from scipy.stats import pearsonr"
   ]
  },
  {
   "cell_type": "code",
   "execution_count": 5,
   "metadata": {},
   "outputs": [],
   "source": [
    "df_pred = pd.read_csv('data/for_comparison/costonzo_2009_pvalue005_prediction_growth', sep='\\t',\n",
    "                     header=None, names=['g1', 'g2', 'pred'])"
   ]
  },
  {
   "cell_type": "code",
   "execution_count": 6,
   "metadata": {},
   "outputs": [],
   "source": [
    "# ExE - no pred pass 0.05 curoff?\n",
    "# df_exe = pd.read_csv('data/for_comparison/SGA_ExE.txt', sep='\\t')[['Query Strain ID', 'Array Strain ID', 'Double mutant fitness']]\n",
    "\n",
    "# # ExN ~500\n",
    "# df_raw = pd.read_csv('data/for_comparison/SGA_ExN_NxE.txt', sep='\\t')[['Query Strain ID', 'Array Strain ID', 'Double mutant fitness']]\n",
    "\n",
    "\n",
    "# NxN 398664 (majority)\n",
    "df_raw = pd.read_csv('data/for_comparison/SGA_NxN.txt', sep='\\t')[['Query Strain ID', 'Array Strain ID', 'Double mutant fitness']]\n"
   ]
  },
  {
   "cell_type": "code",
   "execution_count": 7,
   "metadata": {},
   "outputs": [],
   "source": [
    "# process raw data to extract gene id\n",
    "\n",
    "def _get_gene_id(strain_id):\n",
    "    gene_id, _ = strain_id.split('_')\n",
    "    return gene_id\n",
    "\n",
    "df_raw = add_column(df_raw, 'g1', ['Query Strain ID'], _get_gene_id)\n",
    "df_raw = add_column(df_raw, 'g2', ['Array Strain ID'], _get_gene_id)\n",
    "df_raw.drop(columns=['Query Strain ID', 'Array Strain ID'], inplace=True)\n",
    "df_raw.rename(columns={'Double mutant fitness': 'fitness'}, inplace=True)"
   ]
  },
  {
   "cell_type": "code",
   "execution_count": 8,
   "metadata": {},
   "outputs": [],
   "source": [
    "# make gene id pair a sorted tuple, for joining\n",
    "df_pred = add_column(df_pred, 'gene_pair', ['g1', 'g2'], lambda x, y: tuple(sorted([x, y])))\n",
    "df_raw = add_column(df_raw, 'gene_pair', ['g1', 'g2'], lambda x, y: tuple(sorted([x, y])))\n",
    "df_pred.drop(columns=['g1', 'g2'], inplace=True)\n",
    "df_raw.drop(columns=['g1', 'g2'], inplace=True)"
   ]
  },
  {
   "cell_type": "code",
   "execution_count": 9,
   "metadata": {},
   "outputs": [],
   "source": [
    "# combine duplicates\n",
    "# take median for now\n",
    "df_raw = df_raw.groupby(by='gene_pair', as_index=False).agg('median')"
   ]
  },
  {
   "cell_type": "code",
   "execution_count": 10,
   "metadata": {},
   "outputs": [
    {
     "name": "stdout",
     "output_type": "stream",
     "text": [
      "9292252 413400\n",
      "398664\n"
     ]
    }
   ],
   "source": [
    "# intersection of the two data \n",
    "# (since we didn't load everything: raw is only a subset, pred is p<0.05 only)\n",
    "print(len(df_raw), len(df_pred))\n",
    "df = pd.merge(df_raw, df_pred, on='gene_pair', how='inner')\n",
    "print(len(df))"
   ]
  },
  {
   "cell_type": "code",
   "execution_count": 11,
   "metadata": {},
   "outputs": [
    {
     "data": {
      "text/html": [
       "<div>\n",
       "<style scoped>\n",
       "    .dataframe tbody tr th:only-of-type {\n",
       "        vertical-align: middle;\n",
       "    }\n",
       "\n",
       "    .dataframe tbody tr th {\n",
       "        vertical-align: top;\n",
       "    }\n",
       "\n",
       "    .dataframe thead th {\n",
       "        text-align: right;\n",
       "    }\n",
       "</style>\n",
       "<table border=\"1\" class=\"dataframe\">\n",
       "  <thead>\n",
       "    <tr style=\"text-align: right;\">\n",
       "      <th></th>\n",
       "      <th>gene_pair</th>\n",
       "      <th>fitness</th>\n",
       "      <th>pred</th>\n",
       "    </tr>\n",
       "  </thead>\n",
       "  <tbody>\n",
       "    <tr>\n",
       "      <th>0</th>\n",
       "      <td>(YAL002W, YBL007C)</td>\n",
       "      <td>0.50330</td>\n",
       "      <td>0.538921</td>\n",
       "    </tr>\n",
       "    <tr>\n",
       "      <th>1</th>\n",
       "      <td>(YAL002W, YBL017C)</td>\n",
       "      <td>0.64970</td>\n",
       "      <td>1.057877</td>\n",
       "    </tr>\n",
       "    <tr>\n",
       "      <th>2</th>\n",
       "      <td>(YAL002W, YBL029W)</td>\n",
       "      <td>0.77140</td>\n",
       "      <td>0.740349</td>\n",
       "    </tr>\n",
       "    <tr>\n",
       "      <th>3</th>\n",
       "      <td>(YAL002W, YBL039C)</td>\n",
       "      <td>0.71175</td>\n",
       "      <td>0.736619</td>\n",
       "    </tr>\n",
       "    <tr>\n",
       "      <th>4</th>\n",
       "      <td>(YAL002W, YBR007C)</td>\n",
       "      <td>0.74620</td>\n",
       "      <td>0.724075</td>\n",
       "    </tr>\n",
       "  </tbody>\n",
       "</table>\n",
       "</div>"
      ],
      "text/plain": [
       "            gene_pair  fitness      pred\n",
       "0  (YAL002W, YBL007C)  0.50330  0.538921\n",
       "1  (YAL002W, YBL017C)  0.64970  1.057877\n",
       "2  (YAL002W, YBL029W)  0.77140  0.740349\n",
       "3  (YAL002W, YBL039C)  0.71175  0.736619\n",
       "4  (YAL002W, YBR007C)  0.74620  0.724075"
      ]
     },
     "execution_count": 11,
     "metadata": {},
     "output_type": "execute_result"
    }
   ],
   "source": [
    "df.head()"
   ]
  },
  {
   "cell_type": "code",
   "execution_count": 12,
   "metadata": {},
   "outputs": [
    {
     "data": {
      "text/plain": [
       "(0.23069741373558034, 0.0)"
      ]
     },
     "execution_count": 12,
     "metadata": {},
     "output_type": "execute_result"
    }
   ],
   "source": [
    "pearsonr(df['fitness'], df['pred'])"
   ]
  },
  {
   "cell_type": "code",
   "execution_count": 15,
   "metadata": {},
   "outputs": [],
   "source": [
    "# do not plot if we have too many data points!\n",
    "if len(df) < 10000:\n",
    "    df.iplot(kind='scatter', mode='markers',\n",
    "            x='fitness', y='pred', size=2)"
   ]
  },
  {
   "cell_type": "code",
   "execution_count": null,
   "metadata": {},
   "outputs": [],
   "source": []
  }
 ],
 "metadata": {
  "kernelspec": {
   "display_name": "Python 3",
   "language": "python",
   "name": "python3"
  },
  "language_info": {
   "codemirror_mode": {
    "name": "ipython",
    "version": 3
   },
   "file_extension": ".py",
   "mimetype": "text/x-python",
   "name": "python",
   "nbconvert_exporter": "python",
   "pygments_lexer": "ipython3",
   "version": "3.7.6"
  }
 },
 "nbformat": 4,
 "nbformat_minor": 4
}
