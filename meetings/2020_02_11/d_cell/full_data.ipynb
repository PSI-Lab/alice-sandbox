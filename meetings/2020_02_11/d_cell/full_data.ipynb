{
 "cells": [
  {
   "cell_type": "code",
   "execution_count": 1,
   "metadata": {},
   "outputs": [
    {
     "name": "stderr",
     "output_type": "stream",
     "text": [
      "/Users/alicegao/anaconda2/envs/yeast_d_cell/lib/python3.7/site-packages/genome_kit/data_manager.py:8: TqdmExperimentalWarning: Using `tqdm.autonotebook.tqdm` in notebook mode. Use `tqdm.tqdm` instead to force console mode (e.g. in jupyter console)\n",
      "  from tqdm.autonotebook import tqdm\n"
     ]
    }
   ],
   "source": [
    "import pandas as pd\n",
    "import numpy as np\n",
    "from dgutils.pandas import add_column"
   ]
  },
  {
   "cell_type": "code",
   "execution_count": 2,
   "metadata": {},
   "outputs": [
    {
     "name": "stderr",
     "output_type": "stream",
     "text": [
      "/Users/alicegao/anaconda2/envs/yeast_d_cell/lib/python3.7/importlib/_bootstrap.py:219: RuntimeWarning: numpy.ufunc size changed, may indicate binary incompatibility. Expected 192 from C header, got 216 from PyObject\n",
      "  return f(*args, **kwds)\n",
      "/Users/alicegao/anaconda2/envs/yeast_d_cell/lib/python3.7/importlib/_bootstrap.py:219: RuntimeWarning: numpy.ufunc size changed, may indicate binary incompatibility. Expected 192 from C header, got 216 from PyObject\n",
      "  return f(*args, **kwds)\n",
      "/Users/alicegao/anaconda2/envs/yeast_d_cell/lib/python3.7/importlib/_bootstrap.py:219: RuntimeWarning: numpy.ufunc size changed, may indicate binary incompatibility. Expected 192 from C header, got 216 from PyObject\n",
      "  return f(*args, **kwds)\n"
     ]
    },
    {
     "data": {
      "text/html": [
       "        <script type=\"text/javascript\">\n",
       "        window.PlotlyConfig = {MathJaxConfig: 'local'};\n",
       "        if (window.MathJax) {MathJax.Hub.Config({SVG: {font: \"STIX-Web\"}});}\n",
       "        if (typeof require !== 'undefined') {\n",
       "        require.undef(\"plotly\");\n",
       "        requirejs.config({\n",
       "            paths: {\n",
       "                'plotly': ['https://cdn.plot.ly/plotly-latest.min']\n",
       "            }\n",
       "        });\n",
       "        require(['plotly'], function(Plotly) {\n",
       "            window._Plotly = Plotly;\n",
       "        });\n",
       "        }\n",
       "        </script>\n",
       "        "
      ]
     },
     "metadata": {},
     "output_type": "display_data"
    }
   ],
   "source": [
    "import matplotlib.pyplot as plt \n",
    "import seaborn as sns\n",
    "import pandas as pd\n",
    "sns.set(color_codes=True)\n",
    "import cufflinks as cf\n",
    "cf.go_offline()\n",
    "cf.set_config_file(theme='ggplot')"
   ]
  },
  {
   "cell_type": "code",
   "execution_count": 3,
   "metadata": {},
   "outputs": [],
   "source": [
    "import torch\n",
    "import torch.nn as nn\n",
    "import torch.nn.functional as F"
   ]
  },
  {
   "cell_type": "code",
   "execution_count": 4,
   "metadata": {},
   "outputs": [],
   "source": [
    "from scipy.stats import pearsonr"
   ]
  },
  {
   "cell_type": "code",
   "execution_count": 5,
   "metadata": {},
   "outputs": [],
   "source": [
    "from torch.utils.data import Dataset, DataLoader"
   ]
  },
  {
   "cell_type": "code",
   "execution_count": 6,
   "metadata": {},
   "outputs": [],
   "source": [
    "df_raw = pd.read_csv('data/for_comparison/SGA_ExE.txt', \n",
    "                     sep='\\t')[['Query Strain ID', 'Array Strain ID', \n",
    "                                'Query single mutant fitness (SMF)', 'Array SMF',\n",
    "                                'Double mutant fitness']].rename(columns={\n",
    "    'Query Strain ID': 's1',\n",
    "    'Array Strain ID': 's2',\n",
    "    'Query single mutant fitness (SMF)': 'f1',\n",
    "    'Array SMF': 'f2',\n",
    "    'Double mutant fitness': 'fitness',\n",
    "})\n",
    "\n",
    "def _get_gene_id(strain_id):\n",
    "    gene_id, _ = strain_id.split('_')\n",
    "    return gene_id\n",
    "\n",
    "\n",
    "df_raw = add_column(df_raw, 'g1', ['s1'], _get_gene_id)\n",
    "df_raw = add_column(df_raw, 'g2', ['s2'], _get_gene_id)\n",
    "\n",
    "# df_tr = pd.read_csv('data/training/GO:0006281_training_data_2016_0', \n",
    "#                     header=None, names=['foo', 'g1', 'g2', 'fitness'], sep=' ')\n",
    "# df_ts = pd.read_csv('data/training/GO_0006281_testing_data_2016_0.txt', \n",
    "#                     header=None, names=['foo', 'g1', 'g2', 'fitness'], sep=' ')"
   ]
  },
  {
   "cell_type": "code",
   "execution_count": 7,
   "metadata": {},
   "outputs": [
    {
     "data": {
      "text/plain": [
       "818570"
      ]
     },
     "execution_count": 7,
     "metadata": {},
     "output_type": "execute_result"
    }
   ],
   "source": [
    "len(df_raw)"
   ]
  },
  {
   "cell_type": "code",
   "execution_count": 8,
   "metadata": {},
   "outputs": [
    {
     "data": {
      "text/plain": [
       "418821"
      ]
     },
     "execution_count": 8,
     "metadata": {},
     "output_type": "execute_result"
    }
   ],
   "source": [
    "len(df_raw[['g1', 'g2']].drop_duplicates())"
   ]
  },
  {
   "cell_type": "code",
   "execution_count": 9,
   "metadata": {},
   "outputs": [],
   "source": [
    "df_raw = df_raw[['g1', 'g2', 'fitness']].groupby(by=['g1', 'g2'], as_index=False).agg('median')\n",
    "# TODO merge in f1 and f2"
   ]
  },
  {
   "cell_type": "code",
   "execution_count": 10,
   "metadata": {},
   "outputs": [
    {
     "data": {
      "text/html": [
       "<div>\n",
       "<style scoped>\n",
       "    .dataframe tbody tr th:only-of-type {\n",
       "        vertical-align: middle;\n",
       "    }\n",
       "\n",
       "    .dataframe tbody tr th {\n",
       "        vertical-align: top;\n",
       "    }\n",
       "\n",
       "    .dataframe thead th {\n",
       "        text-align: right;\n",
       "    }\n",
       "</style>\n",
       "<table border=\"1\" class=\"dataframe\">\n",
       "  <thead>\n",
       "    <tr style=\"text-align: right;\">\n",
       "      <th></th>\n",
       "      <th>g1</th>\n",
       "      <th>g2</th>\n",
       "      <th>fitness</th>\n",
       "    </tr>\n",
       "  </thead>\n",
       "  <tbody>\n",
       "    <tr>\n",
       "      <th>0</th>\n",
       "      <td>YAL001C</td>\n",
       "      <td>YBL023C</td>\n",
       "      <td>0.7319</td>\n",
       "    </tr>\n",
       "    <tr>\n",
       "      <th>1</th>\n",
       "      <td>YAL001C</td>\n",
       "      <td>YBL026W</td>\n",
       "      <td>0.4266</td>\n",
       "    </tr>\n",
       "    <tr>\n",
       "      <th>2</th>\n",
       "      <td>YAL001C</td>\n",
       "      <td>YBL034C</td>\n",
       "      <td>0.6661</td>\n",
       "    </tr>\n",
       "    <tr>\n",
       "      <th>3</th>\n",
       "      <td>YAL001C</td>\n",
       "      <td>YBL035C</td>\n",
       "      <td>0.4715</td>\n",
       "    </tr>\n",
       "    <tr>\n",
       "      <th>4</th>\n",
       "      <td>YAL001C</td>\n",
       "      <td>YBL040C</td>\n",
       "      <td>0.6036</td>\n",
       "    </tr>\n",
       "  </tbody>\n",
       "</table>\n",
       "</div>"
      ],
      "text/plain": [
       "        g1       g2  fitness\n",
       "0  YAL001C  YBL023C   0.7319\n",
       "1  YAL001C  YBL026W   0.4266\n",
       "2  YAL001C  YBL034C   0.6661\n",
       "3  YAL001C  YBL035C   0.4715\n",
       "4  YAL001C  YBL040C   0.6036"
      ]
     },
     "execution_count": 10,
     "metadata": {},
     "output_type": "execute_result"
    }
   ],
   "source": [
    "df_raw.head()"
   ]
  },
  {
   "cell_type": "code",
   "execution_count": null,
   "metadata": {},
   "outputs": [],
   "source": []
  },
  {
   "cell_type": "code",
   "execution_count": 11,
   "metadata": {},
   "outputs": [
    {
     "name": "stdout",
     "output_type": "stream",
     "text": [
      "335056\n",
      "855 855 855\n",
      "335056 83765\n"
     ]
    }
   ],
   "source": [
    "# shuffle rows\n",
    "df_raw = df_raw.sample(frac=1).reset_index(drop=True)\n",
    "# subset\n",
    "_n_tr = int(len(df_raw)*0.8)\n",
    "print(_n_tr)\n",
    "df_tr = df_raw[:_n_tr]\n",
    "df_ts = df_raw[_n_tr:]\n",
    "# make sure genes are the same (for now drop rows that are not)\n",
    "genes_tr = set(df_tr.g1.unique().tolist() + df_tr.g2.unique().tolist())\n",
    "genes_ts = set(df_ts.g1.unique().tolist() + df_ts.g2.unique().tolist())\n",
    "genes_intersection = genes_tr.intersection(genes_ts)\n",
    "print(len(genes_tr), len(genes_ts), len(genes_intersection))\n",
    "df_tr = df_tr[df_tr['g1'].isin(genes_intersection)]\n",
    "df_tr = df_tr[df_tr['g2'].isin(genes_intersection)]\n",
    "df_ts = df_ts[df_ts['g1'].isin(genes_intersection)]\n",
    "df_ts = df_ts[df_ts['g2'].isin(genes_intersection)]\n",
    "print(len(df_tr), len(df_ts))"
   ]
  },
  {
   "cell_type": "code",
   "execution_count": null,
   "metadata": {},
   "outputs": [],
   "source": []
  },
  {
   "cell_type": "code",
   "execution_count": 12,
   "metadata": {},
   "outputs": [],
   "source": [
    "# # FIXME for now use all data\n",
    "# # later on subset to tr and ts (make sure both have all genes?)\n",
    "# df_tr = df_raw.copy()\n",
    "# gene_ids = tuple(set(df_raw.g1.tolist() + df_raw.g2.tolist()))\n",
    "# num_genes = len(gene_ids)"
   ]
  },
  {
   "cell_type": "code",
   "execution_count": null,
   "metadata": {},
   "outputs": [],
   "source": []
  },
  {
   "cell_type": "code",
   "execution_count": 13,
   "metadata": {},
   "outputs": [],
   "source": [
    "# encode data\n",
    "# gene_ids = tuple(genes_tr)  # use this to assign a unique index for each gene\n",
    "# num_genes = len(gene_ids)\n",
    "\n",
    "gene_ids = tuple(genes_intersection)\n",
    "num_genes = len(gene_ids)\n",
    "\n",
    "\n",
    "def encode_x(g1, g2, l, gene_ids):\n",
    "    x = np.ones(l)\n",
    "    x[gene_ids.index(g1)] = 0\n",
    "    x[gene_ids.index(g2)] = 0\n",
    "    return x\n",
    "\n",
    "\n",
    "df_tr = add_column(df_tr, 'x', ['g1', 'g2'], lambda g1, g2: encode_x(g1, g2, num_genes, gene_ids))\n",
    "df_ts = add_column(df_ts, 'x', ['g1', 'g2'], lambda g1, g2: encode_x(g1, g2, num_genes, gene_ids))\n"
   ]
  },
  {
   "cell_type": "code",
   "execution_count": 14,
   "metadata": {},
   "outputs": [
    {
     "name": "stdout",
     "output_type": "stream",
     "text": [
      "(335056, 855) (335056,) (83765, 855) (83765,)\n"
     ]
    }
   ],
   "source": [
    "# get data\n",
    "x_tr = np.asarray(df_tr['x'].to_list())\n",
    "y_tr = np.asarray(df_tr['fitness'].to_list())\n",
    "x_ts = np.asarray(df_ts['x'].to_list())\n",
    "y_ts = np.asarray(df_ts['fitness'].to_list())\n",
    "print(x_tr.shape, y_tr.shape, x_ts.shape, y_ts.shape)\n",
    "assert x_tr.shape[0] == y_tr.shape[0]\n",
    "assert x_ts.shape[0] == y_ts.shape[0]\n",
    "# print(x_tr.shape, y_tr.shape)"
   ]
  },
  {
   "cell_type": "code",
   "execution_count": 15,
   "metadata": {},
   "outputs": [],
   "source": [
    "# TODO data pre-preoceesing, y log transformation?"
   ]
  },
  {
   "cell_type": "code",
   "execution_count": 16,
   "metadata": {},
   "outputs": [],
   "source": [
    "# dataset\n",
    "class MyDataSet(Dataset):\n",
    "\n",
    "    def __init__(self, x, y):\n",
    "        assert x.shape[0] == y.shape[0]\n",
    "        self.len = x.shape[0]\n",
    "        self.x = x\n",
    "        # add new axis if needed\n",
    "        if len(y.shape) == 1:\n",
    "            self.y = y[:, np.newaxis]\n",
    "        else:\n",
    "            self.y = y\n",
    "\n",
    "    def __getitem__(self, index):\n",
    "#         return self.x[index, :], self.y[index]\n",
    "        return torch.from_numpy(self.x[index, :]).float(), torch.from_numpy(self.y[index]).float()\n",
    "\n",
    "    def __len__(self):\n",
    "        return self.len"
   ]
  },
  {
   "cell_type": "code",
   "execution_count": 17,
   "metadata": {},
   "outputs": [],
   "source": [
    "# # a fully connected net\n",
    "# class Net(nn.Module):\n",
    "\n",
    "#     def __init__(self, n_in):\n",
    "#         super(Net, self).__init__()\n",
    "#         self.fc1 = nn.Linear(n_in, 10)\n",
    "#         self.fc2 = nn.Linear(10, 1)\n",
    "\n",
    "#     def forward(self, x):\n",
    "#         x = F.relu(self.fc1(x))\n",
    "#         x = self.fc2(x)\n",
    "#         return x"
   ]
  },
  {
   "cell_type": "code",
   "execution_count": 18,
   "metadata": {},
   "outputs": [],
   "source": [
    "model = torch.nn.Sequential(\n",
    "    torch.nn.Linear(num_genes, 20),\n",
    "    torch.nn.ReLU(),\n",
    "    torch.nn.BatchNorm1d(20),\n",
    "    torch.nn.Linear(20, 10),\n",
    "    torch.nn.ReLU(),\n",
    "    torch.nn.BatchNorm1d(10),\n",
    "    torch.nn.Linear(10, 5),\n",
    "    torch.nn.ReLU(),\n",
    "    torch.nn.BatchNorm1d(5),\n",
    "    torch.nn.Linear(5, 1),\n",
    ")\n",
    "\n",
    "# model = torch.nn.Sequential(\n",
    "#     torch.nn.Linear(num_genes, 50),\n",
    "#     torch.nn.ReLU(),\n",
    "#     torch.nn.Linear(50, 1),\n",
    "# )\n"
   ]
  },
  {
   "cell_type": "code",
   "execution_count": 19,
   "metadata": {},
   "outputs": [],
   "source": [
    "data_tr_loader = DataLoader(dataset=MyDataSet(x_tr, y_tr),\n",
    "                         batch_size=200, shuffle=True)\n",
    "data_ts_loader = DataLoader(dataset=MyDataSet(x_ts, y_ts),\n",
    "                         batch_size=1000, shuffle=True)"
   ]
  },
  {
   "cell_type": "code",
   "execution_count": 20,
   "metadata": {},
   "outputs": [],
   "source": [
    "# net = Net(num_genes)\n",
    "# print(net)"
   ]
  },
  {
   "cell_type": "code",
   "execution_count": 21,
   "metadata": {},
   "outputs": [],
   "source": [
    "loss_fn = torch.nn.MSELoss(reduction='mean')"
   ]
  },
  {
   "cell_type": "code",
   "execution_count": 22,
   "metadata": {},
   "outputs": [],
   "source": [
    "learning_rate = 1e-4\n",
    "optimizer = torch.optim.Adam(model.parameters(), lr=learning_rate)"
   ]
  },
  {
   "cell_type": "code",
   "execution_count": 23,
   "metadata": {},
   "outputs": [],
   "source": [
    "device = torch.device(\"cpu\")"
   ]
  },
  {
   "cell_type": "code",
   "execution_count": 24,
   "metadata": {},
   "outputs": [],
   "source": [
    "# net_input = torch.randn(1, 1, 32, 32)\n",
    "# net_output = net(net_input)\n",
    "# target = torch.randn(10)  # a dummy target, for example\n",
    "# target = target.view(1, -1)  # make it the same shape as output\n",
    "# criterion = nn.MSELoss()\n",
    "\n",
    "# loss = criterion(output, target)"
   ]
  },
  {
   "cell_type": "code",
   "execution_count": 25,
   "metadata": {
    "scrolled": true
   },
   "outputs": [
    {
     "name": "stdout",
     "output_type": "stream",
     "text": [
      "0.12660500407218933\n",
      "test:  0.10254660248756409\n",
      "0.01827419176697731\n",
      "test:  0.011689945124089718\n",
      "0.012162568978965282\n",
      "test:  0.009209245443344116\n",
      "0.007521900348365307\n",
      "test:  0.008459134958684444\n",
      "0.01802689954638481\n",
      "test:  0.007901884615421295\n",
      "0.007945054210722446\n",
      "test:  0.008646844886243343\n",
      "0.0057324692606925964\n",
      "test:  0.008103911764919758\n",
      "0.009103002026677132\n",
      "test:  0.00705969100818038\n",
      "0.007744746748358011\n",
      "test:  0.008626988157629967\n",
      "0.0045531392097473145\n",
      "test:  0.007936215959489346\n",
      "0.010128764435648918\n",
      "test:  0.006643206812441349\n",
      "0.0072647640481591225\n",
      "test:  0.007241649087518454\n",
      "0.006579577457159758\n",
      "test:  0.006418229080736637\n",
      "0.008891371078789234\n",
      "test:  0.00853270199149847\n",
      "0.0093677444383502\n",
      "test:  0.007818196900188923\n",
      "0.015886101871728897\n",
      "test:  0.007931433618068695\n",
      "0.0040473854169249535\n",
      "test:  0.008513104170560837\n",
      "0.0054941801354289055\n",
      "test:  0.008878881111741066\n",
      "0.00609562499448657\n",
      "test:  0.006523808930069208\n",
      "0.007434902247041464\n",
      "test:  0.008944330736994743\n",
      "0.0072113764472305775\n",
      "test:  0.007033185567706823\n",
      "0.007224905304610729\n",
      "test:  0.00811295211315155\n",
      "0.006936029065400362\n",
      "test:  0.008237158879637718\n",
      "0.0063675506971776485\n",
      "test:  0.007834931835532188\n",
      "0.007458983454853296\n",
      "test:  0.0073115588165819645\n",
      "0.006169051397591829\n",
      "test:  0.008433184586465359\n",
      "0.01000902522355318\n",
      "test:  0.008116294629871845\n",
      "0.007174312602728605\n",
      "test:  0.006330878473818302\n",
      "0.006013279315084219\n",
      "test:  0.006621357053518295\n",
      "0.00701005756855011\n",
      "test:  0.006880877539515495\n",
      "0.008842411451041698\n",
      "test:  0.00796064455062151\n",
      "0.008845288306474686\n",
      "test:  0.00702640088275075\n",
      "0.015682008117437363\n",
      "test:  0.0074849557131528854\n",
      "0.009346774779260159\n",
      "test:  0.008887087926268578\n",
      "0.011039339937269688\n",
      "test:  0.00813166331499815\n",
      "0.007707569282501936\n",
      "test:  0.007720747496932745\n",
      "0.016264447942376137\n",
      "test:  0.007629845757037401\n",
      "0.009040218777954578\n",
      "test:  0.006619769614189863\n",
      "0.009932123124599457\n",
      "test:  0.007540994323790073\n",
      "0.012329853139817715\n",
      "test:  0.008224750868976116\n",
      "0.008461852557957172\n",
      "test:  0.007564148399978876\n",
      "0.009401797316968441\n",
      "test:  0.006339712999761105\n",
      "0.0058465334586799145\n",
      "test:  0.007309424225240946\n",
      "0.009721056558191776\n",
      "test:  0.0062487926334142685\n",
      "0.012835766188800335\n",
      "test:  0.006935879122465849\n",
      "0.003171008313074708\n",
      "test:  0.00707107363268733\n",
      "0.006490569096058607\n",
      "test:  0.006847563665360212\n",
      "0.0062274751253426075\n",
      "test:  0.0074958777986466885\n",
      "0.010799392126500607\n",
      "test:  0.0076928287744522095\n",
      "0.008058582432568073\n",
      "test:  0.0059583899565041065\n"
     ]
    }
   ],
   "source": [
    "# # inital test performance\n",
    "# with torch.set_grad_enabled(False):\n",
    "#     for xt, yt in data_ts_loader:\n",
    "#         yt_pred = model(xt)\n",
    "#         loss = loss_fn(yt_pred, yt)\n",
    "#         print('initial test: ', loss.item())\n",
    "            \n",
    "for epoch in range(50):\n",
    "    # Training\n",
    "    for x_batch, y_batch in data_tr_loader:\n",
    "        y_batch_pred = model(x_batch)\n",
    "        loss = loss_fn(y_batch_pred, y_batch)\n",
    "#         print(loss.item())\n",
    "        model.zero_grad()\n",
    "        loss.backward()\n",
    "        optimizer.step()\n",
    "    # just print the last one for debugging\n",
    "    print(loss.item())\n",
    "    \n",
    "    # test\n",
    "    with torch.set_grad_enabled(False):\n",
    "#         for xt, yt in data_ts_loader:\n",
    "#             yt_pred = model(xt)\n",
    "#             loss = loss_fn(yt_pred, yt)\n",
    "#             print('test: ', loss.item())\n",
    "        # using the first batch for now - this probably shuffles?\n",
    "        for xt, yt in data_ts_loader:\n",
    "#         xt, yt = data_ts_loader[0]\n",
    "            yt_pred = model(xt)\n",
    "            loss = loss_fn(yt_pred, yt)\n",
    "            print('test: ', loss.item())\n",
    "            break"
   ]
  },
  {
   "cell_type": "code",
   "execution_count": 26,
   "metadata": {},
   "outputs": [
    {
     "data": {
      "text/plain": [
       "<matplotlib.collections.PathCollection at 0x7fa210f75090>"
      ]
     },
     "execution_count": 26,
     "metadata": {},
     "output_type": "execute_result"
    },
    {
     "data": {
      "image/png": "[encoded data removed]",
      "text/plain": [
       "<Figure size 432x288 with 1 Axes>"
      ]
     },
     "metadata": {},
     "output_type": "display_data"
    }
   ],
   "source": [
    "# training mini batch\n",
    "plt.scatter(y_batch.detach().numpy(), y_batch_pred.detach().numpy(), alpha=0.1)"
   ]
  },
  {
   "cell_type": "code",
   "execution_count": 27,
   "metadata": {},
   "outputs": [
    {
     "name": "stdout",
     "output_type": "stream",
     "text": [
      "(array([0.88218486], dtype=float32), array([2.6564404e-19], dtype=float32))\n"
     ]
    }
   ],
   "source": [
    "print(pearsonr(y_batch.detach().numpy(), y_batch_pred.detach().numpy()))"
   ]
  },
  {
   "cell_type": "code",
   "execution_count": 28,
   "metadata": {},
   "outputs": [],
   "source": [
    "# test (larger mini batch)"
   ]
  },
  {
   "cell_type": "code",
   "execution_count": 29,
   "metadata": {},
   "outputs": [
    {
     "data": {
      "text/plain": [
       "<matplotlib.collections.PathCollection at 0x7fa210f75490>"
      ]
     },
     "execution_count": 29,
     "metadata": {},
     "output_type": "execute_result"
    },
    {
     "data": {
      "image/png": "[encoded data removed]",
      "text/plain": [
       "<Figure size 432x288 with 1 Axes>"
      ]
     },
     "metadata": {},
     "output_type": "display_data"
    }
   ],
   "source": [
    "plt.scatter(yt, yt_pred, alpha=0.1)"
   ]
  },
  {
   "cell_type": "code",
   "execution_count": 30,
   "metadata": {},
   "outputs": [
    {
     "name": "stdout",
     "output_type": "stream",
     "text": [
      "(array([0.91477287], dtype=float32), array([0.], dtype=float32))\n"
     ]
    }
   ],
   "source": [
    "print(pearsonr(yt, yt_pred.numpy()))"
   ]
  },
  {
   "cell_type": "code",
   "execution_count": null,
   "metadata": {},
   "outputs": [],
   "source": []
  }
 ],
 "metadata": {
  "kernelspec": {
   "display_name": "Python 3",
   "language": "python",
   "name": "python3"
  },
  "language_info": {
   "codemirror_mode": {
    "name": "ipython",
    "version": 3
   },
   "file_extension": ".py",
   "mimetype": "text/x-python",
   "name": "python",
   "nbconvert_exporter": "python",
   "pygments_lexer": "ipython3",
   "version": "3.7.6"
  }
 },
 "nbformat": 4,
 "nbformat_minor": 4
}
