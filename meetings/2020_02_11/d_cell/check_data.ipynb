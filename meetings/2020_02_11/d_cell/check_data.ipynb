{
 "cells": [
  {
   "cell_type": "code",
   "execution_count": 1,
   "metadata": {},
   "outputs": [
    {
     "name": "stderr",
     "output_type": "stream",
     "text": [
      "/Users/alicegao/anaconda2/envs/yeast_d_cell/lib/python3.7/site-packages/genome_kit/data_manager.py:8: TqdmExperimentalWarning: Using `tqdm.autonotebook.tqdm` in notebook mode. Use `tqdm.tqdm` instead to force console mode (e.g. in jupyter console)\n",
      "  from tqdm.autonotebook import tqdm\n"
     ]
    }
   ],
   "source": [
    "import pandas as pd\n",
    "import numpy as np\n",
    "from dgutils.pandas import add_column"
   ]
  },
  {
   "cell_type": "code",
   "execution_count": 2,
   "metadata": {},
   "outputs": [
    {
     "name": "stderr",
     "output_type": "stream",
     "text": [
      "/Users/alicegao/anaconda2/envs/yeast_d_cell/lib/python3.7/importlib/_bootstrap.py:219: RuntimeWarning: numpy.ufunc size changed, may indicate binary incompatibility. Expected 192 from C header, got 216 from PyObject\n",
      "  return f(*args, **kwds)\n",
      "/Users/alicegao/anaconda2/envs/yeast_d_cell/lib/python3.7/importlib/_bootstrap.py:219: RuntimeWarning: numpy.ufunc size changed, may indicate binary incompatibility. Expected 192 from C header, got 216 from PyObject\n",
      "  return f(*args, **kwds)\n",
      "/Users/alicegao/anaconda2/envs/yeast_d_cell/lib/python3.7/importlib/_bootstrap.py:219: RuntimeWarning: numpy.ufunc size changed, may indicate binary incompatibility. Expected 192 from C header, got 216 from PyObject\n",
      "  return f(*args, **kwds)\n"
     ]
    },
    {
     "data": {
      "text/html": [
       "        <script type=\"text/javascript\">\n",
       "        window.PlotlyConfig = {MathJaxConfig: 'local'};\n",
       "        if (window.MathJax) {MathJax.Hub.Config({SVG: {font: \"STIX-Web\"}});}\n",
       "        if (typeof require !== 'undefined') {\n",
       "        require.undef(\"plotly\");\n",
       "        requirejs.config({\n",
       "            paths: {\n",
       "                'plotly': ['https://cdn.plot.ly/plotly-latest.min']\n",
       "            }\n",
       "        });\n",
       "        require(['plotly'], function(Plotly) {\n",
       "            window._Plotly = Plotly;\n",
       "        });\n",
       "        }\n",
       "        </script>\n",
       "        "
      ]
     },
     "metadata": {},
     "output_type": "display_data"
    }
   ],
   "source": [
    "import matplotlib.pyplot as plt \n",
    "import seaborn as sns\n",
    "import pandas as pd\n",
    "sns.set(color_codes=True)\n",
    "import cufflinks as cf\n",
    "cf.go_offline()\n",
    "cf.set_config_file(theme='ggplot')"
   ]
  },
  {
   "cell_type": "code",
   "execution_count": 3,
   "metadata": {},
   "outputs": [],
   "source": [
    "import torch\n",
    "import torch.nn as nn\n",
    "import torch.nn.functional as F"
   ]
  },
  {
   "cell_type": "code",
   "execution_count": 22,
   "metadata": {},
   "outputs": [],
   "source": [
    "from scipy.stats import pearsonr"
   ]
  },
  {
   "cell_type": "code",
   "execution_count": 4,
   "metadata": {},
   "outputs": [],
   "source": [
    "from torch.utils.data import Dataset, DataLoader"
   ]
  },
  {
   "cell_type": "code",
   "execution_count": 5,
   "metadata": {},
   "outputs": [],
   "source": [
    "df_tr = pd.read_csv('data/training/GO:0006281_training_data_2016_0', \n",
    "                    header=None, names=['foo', 'g1', 'g2', 'fitness'], sep=' ')\n",
    "df_ts = pd.read_csv('data/training/GO_0006281_testing_data_2016_0.txt', \n",
    "                    header=None, names=['foo', 'g1', 'g2', 'fitness'], sep=' ')"
   ]
  },
  {
   "cell_type": "code",
   "execution_count": 6,
   "metadata": {},
   "outputs": [
    {
     "name": "stdout",
     "output_type": "stream",
     "text": [
      "162 162 162 162\n"
     ]
    }
   ],
   "source": [
    "# genes in the tr/ts should be identical\n",
    "genes_tr = set(df_tr.g1.unique().tolist() + df_tr.g2.unique().tolist())\n",
    "genes_ts = set(df_ts.g1.unique().tolist() + df_ts.g2.unique().tolist())\n",
    "print(len(genes_tr), len(genes_ts), len(genes_tr.union(genes_ts)), len(genes_tr.intersection(genes_ts)))\n",
    "assert genes_tr == genes_ts"
   ]
  },
  {
   "cell_type": "code",
   "execution_count": 7,
   "metadata": {},
   "outputs": [
    {
     "name": "stdout",
     "output_type": "stream",
     "text": [
      "0 11651\n"
     ]
    }
   ],
   "source": [
    "# tr and ts should not have the same pairs\n",
    "gene_pairs_intersection = pd.merge(df_tr[['g1', 'g2']].drop_duplicates(), df_ts[['g1', 'g2']].drop_duplicates(),\n",
    "                            on=['g1', 'g2'], how='inner')\n",
    "gene_pairs_union = pd.merge(df_tr[['g1', 'g2']].drop_duplicates(), df_ts[['g1', 'g2']].drop_duplicates(),\n",
    "                            on=['g1', 'g2'], how='outer')\n",
    "print(len(gene_pairs_intersection), len(gene_pairs_union))\n",
    "assert len(gene_pairs_intersection) == 0\n",
    "assert len(gene_pairs_union) == len(df_tr) + len(df_ts)"
   ]
  },
  {
   "cell_type": "code",
   "execution_count": 8,
   "metadata": {},
   "outputs": [],
   "source": [
    "# encode data\n",
    "gene_ids = tuple(genes_tr)  # use this to assign a unique index for each gene\n",
    "num_genes = len(gene_ids)\n",
    "\n",
    "\n",
    "def encode_x(g1, g2, l, gene_ids):\n",
    "    x = np.ones(l)\n",
    "    x[gene_ids.index(g1)] = 0\n",
    "    x[gene_ids.index(g2)] = 0\n",
    "    return x\n",
    "\n",
    "\n",
    "df_tr = add_column(df_tr, 'x', ['g1', 'g2'], lambda g1, g2: encode_x(g1, g2, num_genes, gene_ids))\n",
    "df_ts = add_column(df_ts, 'x', ['g1', 'g2'], lambda g1, g2: encode_x(g1, g2, num_genes, gene_ids))\n"
   ]
  },
  {
   "cell_type": "code",
   "execution_count": 9,
   "metadata": {},
   "outputs": [
    {
     "name": "stdout",
     "output_type": "stream",
     "text": [
      "(8783, 162) (8783,) (2868, 162) (2868,)\n"
     ]
    }
   ],
   "source": [
    "# get data\n",
    "x_tr = np.asarray(df_tr['x'].to_list())\n",
    "y_tr = np.asarray(df_tr['fitness'].to_list())\n",
    "x_ts = np.asarray(df_ts['x'].to_list())\n",
    "y_ts = np.asarray(df_ts['fitness'].to_list())\n",
    "print(x_tr.shape, y_tr.shape, x_ts.shape, y_ts.shape)\n",
    "assert x_tr.shape[0] == y_tr.shape[0]\n",
    "assert x_ts.shape[0] == y_ts.shape[0]"
   ]
  },
  {
   "cell_type": "code",
   "execution_count": 10,
   "metadata": {},
   "outputs": [],
   "source": [
    "# TODO data pre-preoceesing, y log transformation?"
   ]
  },
  {
   "cell_type": "code",
   "execution_count": 11,
   "metadata": {},
   "outputs": [],
   "source": [
    "# dataset\n",
    "class MyDataSet(Dataset):\n",
    "\n",
    "    def __init__(self, x, y):\n",
    "        assert x.shape[0] == y.shape[0]\n",
    "        self.len = x.shape[0]\n",
    "        self.x = x\n",
    "        # add new axis if needed\n",
    "        if len(y.shape) == 1:\n",
    "            self.y = y[:, np.newaxis]\n",
    "        else:\n",
    "            self.y = y\n",
    "\n",
    "    def __getitem__(self, index):\n",
    "#         return self.x[index, :], self.y[index]\n",
    "        return torch.from_numpy(self.x[index, :]).float(), torch.from_numpy(self.y[index]).float()\n",
    "\n",
    "    def __len__(self):\n",
    "        return self.len"
   ]
  },
  {
   "cell_type": "code",
   "execution_count": 12,
   "metadata": {},
   "outputs": [],
   "source": [
    "# # a fully connected net\n",
    "# class Net(nn.Module):\n",
    "\n",
    "#     def __init__(self, n_in):\n",
    "#         super(Net, self).__init__()\n",
    "#         self.fc1 = nn.Linear(n_in, 10)\n",
    "#         self.fc2 = nn.Linear(10, 1)\n",
    "\n",
    "#     def forward(self, x):\n",
    "#         x = F.relu(self.fc1(x))\n",
    "#         x = self.fc2(x)\n",
    "#         return x"
   ]
  },
  {
   "cell_type": "code",
   "execution_count": 13,
   "metadata": {},
   "outputs": [],
   "source": [
    "# model = torch.nn.Sequential(\n",
    "#     torch.nn.Linear(num_genes, 20),\n",
    "#     torch.nn.ReLU(),\n",
    "#     torch.nn.Linear(20, 10),\n",
    "#     torch.nn.ReLU(),\n",
    "#     torch.nn.Linear(10, 5),\n",
    "#     torch.nn.ReLU(),\n",
    "#     torch.nn.Linear(5, 1),\n",
    "# )\n",
    "\n",
    "model = torch.nn.Sequential(\n",
    "    torch.nn.Linear(num_genes, 50),\n",
    "    torch.nn.ReLU(),\n",
    "    torch.nn.Linear(50, 1),\n",
    ")\n"
   ]
  },
  {
   "cell_type": "code",
   "execution_count": 14,
   "metadata": {},
   "outputs": [],
   "source": [
    "data_tr_loader = DataLoader(dataset=MyDataSet(x_tr, y_tr),\n",
    "                         batch_size=200, shuffle=True)\n",
    "data_ts_loader = DataLoader(dataset=MyDataSet(x_ts, y_ts),\n",
    "                         batch_size=1000, shuffle=True)"
   ]
  },
  {
   "cell_type": "code",
   "execution_count": 15,
   "metadata": {},
   "outputs": [],
   "source": [
    "# net = Net(num_genes)\n",
    "# print(net)"
   ]
  },
  {
   "cell_type": "code",
   "execution_count": 16,
   "metadata": {},
   "outputs": [],
   "source": [
    "loss_fn = torch.nn.MSELoss(reduction='mean')"
   ]
  },
  {
   "cell_type": "code",
   "execution_count": 17,
   "metadata": {},
   "outputs": [],
   "source": [
    "learning_rate = 1e-4\n",
    "optimizer = torch.optim.Adam(model.parameters(), lr=learning_rate)"
   ]
  },
  {
   "cell_type": "code",
   "execution_count": 18,
   "metadata": {},
   "outputs": [],
   "source": [
    "device = torch.device(\"cpu\")"
   ]
  },
  {
   "cell_type": "code",
   "execution_count": 19,
   "metadata": {},
   "outputs": [],
   "source": [
    "# net_input = torch.randn(1, 1, 32, 32)\n",
    "# net_output = net(net_input)\n",
    "# target = torch.randn(10)  # a dummy target, for example\n",
    "# target = target.view(1, -1)  # make it the same shape as output\n",
    "# criterion = nn.MSELoss()\n",
    "\n",
    "# loss = criterion(output, target)"
   ]
  },
  {
   "cell_type": "code",
   "execution_count": 20,
   "metadata": {
    "scrolled": true
   },
   "outputs": [
    {
     "name": "stdout",
     "output_type": "stream",
     "text": [
      "initial test:  0.007324103731662035\n",
      "initial test:  0.007087517064064741\n",
      "initial test:  0.0078126210719347\n",
      "0.005207698792219162\n",
      "test:  0.004934019409120083\n",
      "test:  0.008573463186621666\n",
      "test:  0.006235279608517885\n",
      "0.005705941002815962\n",
      "test:  0.007058426737785339\n",
      "test:  0.006896816194057465\n",
      "test:  0.0055523645132780075\n",
      "0.012177868746221066\n",
      "test:  0.005445915274322033\n",
      "test:  0.008009075187146664\n",
      "test:  0.006057180929929018\n",
      "0.0031570401042699814\n",
      "test:  0.005407853052020073\n",
      "test:  0.006652438547462225\n",
      "test:  0.007899366319179535\n",
      "0.00553158251568675\n",
      "test:  0.0069696311838924885\n",
      "test:  0.0066707138903439045\n",
      "test:  0.005765101406723261\n",
      "0.0038081491366028786\n",
      "test:  0.005857149139046669\n",
      "test:  0.005803273990750313\n",
      "test:  0.008238769136369228\n",
      "0.00621518911793828\n",
      "test:  0.007661453448235989\n",
      "test:  0.006473560351878405\n",
      "test:  0.005358393304049969\n",
      "0.010310588404536247\n",
      "test:  0.006290513556450605\n",
      "test:  0.007137334439903498\n",
      "test:  0.005703055299818516\n",
      "0.008169932290911674\n",
      "test:  0.006750251166522503\n",
      "test:  0.005539748817682266\n",
      "test:  0.007168890908360481\n",
      "0.006557316053658724\n",
      "test:  0.006527951452881098\n",
      "test:  0.006959232501685619\n",
      "test:  0.005504613742232323\n",
      "0.005708999931812286\n",
      "test:  0.0068412343971431255\n",
      "test:  0.006485056597739458\n",
      "test:  0.005833607632666826\n",
      "0.006153428927063942\n",
      "test:  0.007097297813743353\n",
      "test:  0.005426672752946615\n",
      "test:  0.007473892532289028\n",
      "0.009196729399263859\n",
      "test:  0.006869427394121885\n",
      "test:  0.005450418684631586\n",
      "test:  0.006884664297103882\n",
      "0.005960200447589159\n",
      "test:  0.006647689267992973\n",
      "test:  0.005700667388737202\n",
      "test:  0.006621900945901871\n",
      "0.0031493569258600473\n",
      "test:  0.005008556414395571\n",
      "test:  0.005542879458516836\n",
      "test:  0.00860623735934496\n",
      "0.008631928823888302\n",
      "test:  0.0058907400816679\n",
      "test:  0.006953055504709482\n",
      "test:  0.006140461191534996\n",
      "0.0044136932119727135\n",
      "test:  0.004751266445964575\n",
      "test:  0.007817165926098824\n",
      "test:  0.006264340132474899\n",
      "0.004079887643456459\n",
      "test:  0.0062167164869606495\n",
      "test:  0.006424935534596443\n",
      "test:  0.006420572753995657\n",
      "0.006541616283357143\n",
      "test:  0.007126205135136843\n",
      "test:  0.005641914904117584\n",
      "test:  0.006735633127391338\n",
      "0.0044553522020578384\n",
      "test:  0.006743866950273514\n",
      "test:  0.004938414320349693\n",
      "test:  0.006997106596827507\n",
      "0.007994458079338074\n",
      "test:  0.007709153927862644\n",
      "test:  0.005852941423654556\n",
      "test:  0.005081216339021921\n",
      "0.0053521860390901566\n",
      "test:  0.006026365794241428\n",
      "test:  0.0061101363971829414\n",
      "test:  0.006449555512517691\n",
      "0.009460369125008583\n",
      "test:  0.005864222999662161\n",
      "test:  0.006157776340842247\n",
      "test:  0.006463536061346531\n",
      "0.003239110577851534\n",
      "test:  0.006633566226810217\n",
      "test:  0.005637486930936575\n",
      "test:  0.006141748279333115\n",
      "0.007058919873088598\n",
      "test:  0.007184423506259918\n",
      "test:  0.006358698010444641\n",
      "test:  0.004736572038382292\n",
      "0.0034905539359897375\n",
      "test:  0.0054300581105053425\n",
      "test:  0.00787530466914177\n",
      "test:  0.0051607973873615265\n",
      "0.003548420500010252\n",
      "test:  0.007251237519085407\n",
      "test:  0.004750101827085018\n",
      "test:  0.006553600076586008\n",
      "0.008744562044739723\n",
      "test:  0.006780396681278944\n",
      "test:  0.005772774573415518\n",
      "test:  0.0056617422960698605\n",
      "0.0068762400187551975\n",
      "test:  0.00653394078835845\n",
      "test:  0.005493442993611097\n",
      "test:  0.00622878223657608\n",
      "0.007135315798223019\n",
      "test:  0.007104529067873955\n",
      "test:  0.006111465860158205\n",
      "test:  0.0048246546648442745\n",
      "0.005753842182457447\n",
      "test:  0.005859869532287121\n",
      "test:  0.005422364454716444\n",
      "test:  0.006980270612984896\n",
      "0.004123833496123552\n",
      "test:  0.006081871688365936\n",
      "test:  0.005629957187920809\n",
      "test:  0.0066896178759634495\n",
      "0.0036189488600939512\n",
      "test:  0.006326829548925161\n",
      "test:  0.005943591240793467\n",
      "test:  0.005792718380689621\n",
      "0.005549211986362934\n",
      "test:  0.006401999853551388\n",
      "test:  0.006239305716007948\n",
      "test:  0.005356943234801292\n",
      "0.0046391114592552185\n",
      "test:  0.0050939349457621574\n",
      "test:  0.005646937061101198\n",
      "test:  0.007494298741221428\n",
      "0.006814172491431236\n",
      "test:  0.006345765665173531\n",
      "test:  0.006836033426225185\n",
      "test:  0.004891963675618172\n",
      "0.007113136351108551\n",
      "test:  0.006216930691152811\n",
      "test:  0.005303783807903528\n",
      "test:  0.006495059467852116\n",
      "0.006330546922981739\n",
      "test:  0.007003539241850376\n",
      "test:  0.004804649390280247\n",
      "test:  0.006135647185146809\n",
      "0.005009850021451712\n",
      "test:  0.006967329885810614\n",
      "test:  0.005676125176250935\n",
      "test:  0.005811183713376522\n",
      "0.0036103634629398584\n",
      "test:  0.005587291903793812\n",
      "test:  0.005061873234808445\n",
      "test:  0.007413903251290321\n",
      "0.005026455502957106\n",
      "test:  0.005747075192630291\n",
      "test:  0.005216039717197418\n",
      "test:  0.007132507860660553\n",
      "0.006577998399734497\n",
      "test:  0.00697376299649477\n",
      "test:  0.006162689067423344\n",
      "test:  0.0045601180754601955\n",
      "0.004772968124598265\n",
      "test:  0.00635373592376709\n",
      "test:  0.005280203185975552\n",
      "test:  0.006711944472044706\n",
      "0.00737912580370903\n",
      "test:  0.0066094836220145226\n",
      "test:  0.0065575167536735535\n",
      "test:  0.004401792772114277\n",
      "0.0037276053335517645\n",
      "test:  0.005891044624149799\n",
      "test:  0.006520350929349661\n",
      "test:  0.006352013908326626\n",
      "0.0030449111945927143\n",
      "test:  0.007392202038317919\n",
      "test:  0.004811213817447424\n",
      "test:  0.005518549587577581\n",
      "0.005653239320963621\n",
      "test:  0.006508295424282551\n",
      "test:  0.005170195829123259\n",
      "test:  0.0060818917118012905\n",
      "0.007153341080993414\n",
      "test:  0.0057060206308960915\n",
      "test:  0.0054761311039328575\n",
      "test:  0.007285717409104109\n",
      "0.006430684123188257\n",
      "test:  0.005716859828680754\n",
      "test:  0.004883673507720232\n",
      "test:  0.007281238678842783\n",
      "0.004227512050420046\n",
      "test:  0.006898046471178532\n",
      "test:  0.004545372910797596\n",
      "test:  0.00648126658052206\n"
     ]
    }
   ],
   "source": [
    "# inital test performance\n",
    "with torch.set_grad_enabled(False):\n",
    "    for xt, yt in data_ts_loader:\n",
    "        yt_pred = model(xt)\n",
    "        loss = loss_fn(yt_pred, yt)\n",
    "        print('initial test: ', loss.item())\n",
    "            \n",
    "for epoch in range(50):\n",
    "    # Training\n",
    "    for x_batch, y_batch in data_tr_loader:\n",
    "        y_batch_pred = model(x_batch)\n",
    "        loss = loss_fn(y_batch_pred, y_batch)\n",
    "#         print(loss.item())\n",
    "        model.zero_grad()\n",
    "        loss.backward()\n",
    "        optimizer.step()\n",
    "    # just print the last one for debugging\n",
    "    print(loss.item())\n",
    "    \n",
    "    # test\n",
    "    with torch.set_grad_enabled(False):\n",
    "        for xt, yt in data_ts_loader:\n",
    "            yt_pred = model(xt)\n",
    "            loss = loss_fn(yt_pred, yt)\n",
    "            print('test: ', loss.item())"
   ]
  },
  {
   "cell_type": "code",
   "execution_count": 24,
   "metadata": {},
   "outputs": [
    {
     "data": {
      "text/plain": [
       "<matplotlib.collections.PathCollection at 0x7ff6e2d1a750>"
      ]
     },
     "execution_count": 24,
     "metadata": {},
     "output_type": "execute_result"
    },
    {
     "data": {
      "image/png": "[encoded data removed]",
      "text/plain": [
       "<Figure size 432x288 with 1 Axes>"
      ]
     },
     "metadata": {},
     "output_type": "display_data"
    }
   ],
   "source": [
    "plt.scatter(yt, yt_pred, alpha=0.1)"
   ]
  },
  {
   "cell_type": "code",
   "execution_count": 23,
   "metadata": {},
   "outputs": [
    {
     "name": "stdout",
     "output_type": "stream",
     "text": [
      "(array([0.20387375], dtype=float32), array([1.3476092e-09], dtype=float32))\n"
     ]
    }
   ],
   "source": [
    "print(pearsonr(yt, yt_pred))"
   ]
  },
  {
   "cell_type": "code",
   "execution_count": null,
   "metadata": {},
   "outputs": [],
   "source": []
  }
 ],
 "metadata": {
  "kernelspec": {
   "display_name": "Python 3",
   "language": "python",
   "name": "python3"
  },
  "language_info": {
   "codemirror_mode": {
    "name": "ipython",
    "version": 3
   },
   "file_extension": ".py",
   "mimetype": "text/x-python",
   "name": "python",
   "nbconvert_exporter": "python",
   "pygments_lexer": "ipython3",
   "version": "3.7.6"
  }
 },
 "nbformat": 4,
 "nbformat_minor": 4
}
