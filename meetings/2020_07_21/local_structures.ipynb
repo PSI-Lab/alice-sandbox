{
 "cells": [
  {
   "cell_type": "code",
   "execution_count": null,
   "metadata": {},
   "outputs": [],
   "source": [
    "import numpy as np\n",
    "import matplotlib.pyplot as plt\n",
    "import plotly.express as px"
   ]
  },
  {
   "cell_type": "code",
   "execution_count": null,
   "metadata": {},
   "outputs": [],
   "source": [
    "import pandas as pd"
   ]
  },
  {
   "cell_type": "code",
   "execution_count": null,
   "metadata": {},
   "outputs": [],
   "source": [
    "import sys\n",
    "sys.path.insert(0, '../../rna_ss/')\n",
    "from utils import db2pairs"
   ]
  },
  {
   "cell_type": "code",
   "execution_count": null,
   "metadata": {},
   "outputs": [],
   "source": [
    "df = pd.read_pickle('../../rna_ss/data_processing/rna_cg/data/rfam.pkl')"
   ]
  },
  {
   "cell_type": "code",
   "execution_count": null,
   "metadata": {},
   "outputs": [],
   "source": [
    "df.head(20)"
   ]
  },
  {
   "cell_type": "code",
   "execution_count": null,
   "metadata": {},
   "outputs": [],
   "source": [
    "# # from http://gtrnadb.ucsc.edu/genomes/eukaryota/Hsapi19/genes/tRNA-Arg-CCT-5-1.html\n",
    "# db_str = '>>>>>>>..>>..>>........<<..<<.>>>>>.......<<<<<.....>>...>>>.......<<<<<<<<<<<<.'\n",
    "# db_str = db_str.replace('>', '(').replace('<', ')')"
   ]
  },
  {
   "cell_type": "code",
   "execution_count": null,
   "metadata": {},
   "outputs": [],
   "source": [
    "# pairs = db2pairs(db_str)"
   ]
  },
  {
   "cell_type": "code",
   "execution_count": null,
   "metadata": {},
   "outputs": [],
   "source": [
    "# print(pairs)"
   ]
  },
  {
   "cell_type": "code",
   "execution_count": null,
   "metadata": {},
   "outputs": [],
   "source": []
  },
  {
   "cell_type": "code",
   "execution_count": null,
   "metadata": {},
   "outputs": [],
   "source": [
    "# x= np.zeros((len(db_str), len(db_str)))\n",
    "# for i, j in pairs:\n",
    "#     x[i, j] =1"
   ]
  },
  {
   "cell_type": "code",
   "execution_count": null,
   "metadata": {},
   "outputs": [],
   "source": [
    "idx = 18\n",
    "tmp_pairs = df.iloc[idx].one_idx\n",
    "# unpack idxes\n",
    "pairs = []\n",
    "for i, j in zip(tmp_pairs[0], tmp_pairs[1]):\n",
    "    pairs.append((i, j))\n",
    "#     pairs.append((i-1, j-1))   # only for PDB? - TODO make all dataset consistent\n",
    "x= np.zeros((df.iloc[idx].len, df.iloc[idx].len))\n",
    "for i, j in pairs:\n",
    "    x[i, j] =1"
   ]
  },
  {
   "cell_type": "code",
   "execution_count": null,
   "metadata": {},
   "outputs": [],
   "source": [
    "plt.imshow(x)\n",
    "plt.colorbar()\n",
    "plt.show()"
   ]
  },
  {
   "cell_type": "code",
   "execution_count": null,
   "metadata": {},
   "outputs": [],
   "source": [
    "px.imshow(x)"
   ]
  },
  {
   "cell_type": "code",
   "execution_count": null,
   "metadata": {},
   "outputs": [],
   "source": []
  },
  {
   "cell_type": "code",
   "execution_count": null,
   "metadata": {},
   "outputs": [],
   "source": [
    "# first sort pairs (i1, j1), (i2, j2), ..., (ik, jk),....\n",
    "# such that ik < jk for all k and ik < ik+1\n",
    "pairs = [(i, j) if i < j else (j, i) for i, j in pairs]\n",
    "pairs = sorted(pairs)"
   ]
  },
  {
   "cell_type": "code",
   "execution_count": null,
   "metadata": {},
   "outputs": [],
   "source": [
    "class Stem(object):\n",
    "    def __init__(self):\n",
    "        self.one_idx = []\n",
    "    \n",
    "    def validate(self, one_idx):\n",
    "        # validate pairs\n",
    "        # no need to validate if empty, or there is only one base pair\n",
    "        if len(one_idx) <= 1:\n",
    "            pass\n",
    "        else:\n",
    "            # make sure it's sorted\n",
    "            assert sorted(one_idx) == one_idx\n",
    "            # make sure every 2 consecutive pairs (ik, jk) & (ik+1, jk+1) satifies ik+1 = ik + 1 and jk+1 = jk - 1\n",
    "            assert all([a[0] + 1 == b[0] and a[1] - 1 == b[1] for a, b in zip(one_idx[:-1], one_idx[1:])])\n",
    "            \n",
    "    def add_pair(self, pair):\n",
    "        assert len(pair) == 2\n",
    "        assert pair[0] < pair[1]\n",
    "        # add to current collection \n",
    "        one_idx = self.one_idx.copy()\n",
    "        one_idx.append(pair)\n",
    "        # sort\n",
    "        one_idx = sorted(one_idx)\n",
    "        # validate\n",
    "        self.validate(one_idx)\n",
    "        # update\n",
    "        self.one_idx = one_idx\n",
    "        \n",
    "    def bounding_box(self):\n",
    "        # return location and size of bounding box\n",
    "        assert self.one_idx == sorted(self.one_idx)\n",
    "        return self.one_idx[0][0], self.one_idx[-1][1], len(self.one_idx)\n",
    "    \n",
    "    def __repr__(self):\n",
    "        return \"Stem location ({0}, {1}) height {2} width {2}\".format(*self.bounding_box())"
   ]
  },
  {
   "cell_type": "code",
   "execution_count": null,
   "metadata": {},
   "outputs": [],
   "source": [
    "class StemCollection(object):\n",
    "    def __init__(self):\n",
    "        self.stems = []\n",
    "        self.current_stem = None\n",
    "        \n",
    "    def new(self):\n",
    "        self.current_stem = Stem()\n",
    "    \n",
    "    def conclude(self):\n",
    "        if len(self.current_stem.one_idx) > 0:\n",
    "            self.stems.append(self.current_stem)\n",
    "        self.current_stem = None\n",
    "    \n",
    "    def is_compatible(self, pair):\n",
    "        # assuming sorted\n",
    "        assert len(pair) == 2\n",
    "        assert pair[0] < pair[1]\n",
    "        if len(self.current_stem.one_idx) == 0:\n",
    "            return True\n",
    "        elif pair[0] == self.current_stem.one_idx[-1][0] + 1 and pair[1] == self.current_stem.one_idx[-1][1] - 1:\n",
    "            return True\n",
    "        else:\n",
    "            return False\n",
    "    \n",
    "    def add_pair(self, pair):\n",
    "        self.current_stem.add_pair(pair)\n",
    "    \n",
    "    def sort(self):\n",
    "        raise NotImplementedError"
   ]
  },
  {
   "cell_type": "code",
   "execution_count": null,
   "metadata": {},
   "outputs": [],
   "source": []
  },
  {
   "cell_type": "code",
   "execution_count": null,
   "metadata": {},
   "outputs": [],
   "source": [
    "# external_loop = [None, None, None, None]\n",
    "# do not consider external loop (non-local, see http://eternawiki.org/wiki/index.php5/External_Loop)\n",
    "\n",
    "\n",
    "# stems only\n",
    "sc = StemCollection()\n",
    "sc.new()\n",
    "for pair in pairs:\n",
    "    if sc.is_compatible(pair):\n",
    "        sc.add_pair(pair)\n",
    "    else:\n",
    "        sc.conclude()\n",
    "        sc.new()\n",
    "        sc.add_pair(pair)\n",
    "sc.conclude()"
   ]
  },
  {
   "cell_type": "code",
   "execution_count": null,
   "metadata": {},
   "outputs": [],
   "source": [
    "sc.stems"
   ]
  },
  {
   "cell_type": "code",
   "execution_count": null,
   "metadata": {},
   "outputs": [],
   "source": [
    "def paired(position, pairs):\n",
    "    paired = False\n",
    "    for pair in pairs:\n",
    "        if position == pair[0] or position == pair[1]:\n",
    "            paired = True\n",
    "    return paired"
   ]
  },
  {
   "cell_type": "code",
   "execution_count": null,
   "metadata": {},
   "outputs": [],
   "source": [
    "l_bulges = []\n",
    "r_bulges = []\n",
    "internal_loops = []\n",
    "hairpin_loops = []\n",
    "\n",
    "# find in-between stem local structures:\n",
    "# bulge\n",
    "# internal loop\n",
    "\n",
    "# TODO sort stem collection\n",
    "\n",
    "for s1, s2 in zip(sc.stems[:-1], sc.stems[1:]):\n",
    "    # make sure these two stems are not fully connected\n",
    "    assert not(s1.one_idx[-1][0] + 1 == s2.one_idx[0][0] and s1.one_idx[-1][1] - 1 == s2.one_idx[0][1])\n",
    "    if s1.one_idx[-1][0] + 1 == s2.one_idx[0][0]:  # i connected\n",
    "        # check if all idxes on the other side are unpaired -> bulge\n",
    "        idxes = range(s2.one_idx[0][1] + 1, s1.one_idx[-1][1])\n",
    "        if all([not paired(i, pairs) for i in idxes]):\n",
    "            r_bulges.append((list(idxes), s1.one_idx[-1][0], s2.one_idx[0][0]))\n",
    "            print(\"bulge(R) {} between stems:\\n{}\\n{}\\n\".format(list(idxes), s1, s2))\n",
    "    elif s1.one_idx[-1][1] - 1 == s2.one_idx[0][1]:  # j connected\n",
    "        # check if all idxes on the other side are unpaired -> bulge\n",
    "        idxes = range(s1.one_idx[-1][0] + 1, s2.one_idx[0][0])\n",
    "        if all([not paired(i, pairs) for i in idxes]):\n",
    "            l_bulges.append((list(idxes), s2.one_idx[0][1], s1.one_idx[-1][1]))\n",
    "            print(\"bulge(R) {} between stems:\\n{}\\n{}\\n\".format(list(idxes), s1, s2))\n",
    "    else:  # neither side connected\n",
    "        # check if all idxes on both sides are unpaired -> internal loop\n",
    "        idxes_i = range(s1.one_idx[-1][0] + 1, s2.one_idx[0][0])\n",
    "        idxes_j = range(s2.one_idx[0][1] + 1, s1.one_idx[-1][1])\n",
    "        if all([not paired(i, pairs) for i in list(idxes_i) + list(idxes_j)]):\n",
    "            internal_loops.append([min(idxes_i), max(idxes_i), min(idxes_j), max(idxes_j)])\n",
    "            print(\"internal loop {} {} between stems:\\n{}\\n{}\\n\".format(list(idxes_i), list(idxes_j), s1, s2))\n",
    "            \n",
    "# find single-stem local structure: \n",
    "# hairpin loop\n",
    "for s in sc.stems:\n",
    "    # check whether the positions enclosed by the stem are unpaired -> hairpin loop\n",
    "    idxes = range(s.one_idx[-1][0] + 1, s.one_idx[-1][1])\n",
    "    if all([not paired(i, pairs) for i in idxes]):\n",
    "        hairpin_loops.append(list(idxes))\n",
    "        print(\"hairpin loop {} within stem:\\n{}\\n\".format(list(idxes), s))"
   ]
  },
  {
   "cell_type": "code",
   "execution_count": null,
   "metadata": {},
   "outputs": [],
   "source": []
  },
  {
   "cell_type": "code",
   "execution_count": null,
   "metadata": {},
   "outputs": [],
   "source": [
    "l_bulges"
   ]
  },
  {
   "cell_type": "code",
   "execution_count": null,
   "metadata": {},
   "outputs": [],
   "source": [
    "r_bulges"
   ]
  },
  {
   "cell_type": "code",
   "execution_count": null,
   "metadata": {},
   "outputs": [],
   "source": [
    "internal_loops"
   ]
  },
  {
   "cell_type": "code",
   "execution_count": null,
   "metadata": {},
   "outputs": [],
   "source": [
    "hairpin_loops"
   ]
  },
  {
   "cell_type": "code",
   "execution_count": null,
   "metadata": {},
   "outputs": [],
   "source": [
    "import plotly.graph_objects as go"
   ]
  },
  {
   "cell_type": "code",
   "execution_count": null,
   "metadata": {},
   "outputs": [],
   "source": []
  },
  {
   "cell_type": "code",
   "execution_count": null,
   "metadata": {},
   "outputs": [],
   "source": [
    "fig = px.imshow(x)\n",
    "\n",
    "# stems\n",
    "for stem in sc.stems:\n",
    "    a, b, w = stem.bounding_box()\n",
    "    fig.add_shape(\n",
    "        type='rect',\n",
    "        y0=a, y1=a+w, x0=b, x1=b+w,\n",
    "        xref='x', yref='y',\n",
    "        line_color='red'\n",
    "    )\n",
    "    \n",
    "\n",
    "# bulges\n",
    "for bulge in l_bulges:\n",
    "    a_s, b1, b2 = bulge\n",
    "    fig.add_shape(\n",
    "        type='rect',\n",
    "        y0=min(a_s), y1=max(a_s), x0=b1, x1=b2,\n",
    "        xref='x', yref='y',\n",
    "        line_color='cyan'\n",
    "    )\n",
    "for bulge in r_bulges:\n",
    "    bs, a1, a2 = bulge\n",
    "    fig.add_shape(\n",
    "        type='rect',\n",
    "        y0=a1, y1=a2, x0=min(bs), x1=max(bs),\n",
    "        xref='x', yref='y',\n",
    "        line_color='cyan'\n",
    "    )\n",
    "\n",
    "\n",
    "# internal loop\n",
    "for a1, a2, b1, b2 in internal_loops:\n",
    "    fig.add_shape(\n",
    "        type='rect',\n",
    "        y0=a1, y1=a2, x0=b1, x1=b2,\n",
    "        xref='x', yref='y',\n",
    "        line_color='purple'\n",
    "    )\n",
    "\n",
    "    \n",
    "# hairpin loop\n",
    "# these are symmetric around the off-diagonal, only need to draw the triangle, but I'm lazy so drawing rectangle instead\n",
    "for idxes in hairpin_loops:\n",
    "    fig.add_shape(\n",
    "        type='rect',\n",
    "        y0=min(idxes), y1=max(idxes), x0=min(idxes), x1=max(idxes),\n",
    "        xref='x', yref='y',\n",
    "        line_color='white'\n",
    "    )\n",
    "\n",
    "fig.show()"
   ]
  },
  {
   "cell_type": "code",
   "execution_count": null,
   "metadata": {},
   "outputs": [],
   "source": []
  },
  {
   "cell_type": "code",
   "execution_count": null,
   "metadata": {},
   "outputs": [],
   "source": []
  },
  {
   "cell_type": "code",
   "execution_count": null,
   "metadata": {},
   "outputs": [],
   "source": []
  },
  {
   "cell_type": "code",
   "execution_count": null,
   "metadata": {},
   "outputs": [],
   "source": []
  },
  {
   "cell_type": "code",
   "execution_count": null,
   "metadata": {},
   "outputs": [],
   "source": [
    "# fig = px.imshow(x)\n",
    "# # fig.add_trace(go.Scatter(x=[20], y=[10], marker=dict(color='red', size=6)))\n",
    "# fig.add_shape(\n",
    "#     type='rect',\n",
    "# #     x0=0, x1=9, y0=98, y1=107,\n",
    "#     y0=0, y1=9, x0=107, x1=116,\n",
    "#     xref='x', yref='y',\n",
    "#     line_color='red'\n",
    "# )\n",
    "# fig.show()"
   ]
  },
  {
   "cell_type": "code",
   "execution_count": null,
   "metadata": {},
   "outputs": [],
   "source": []
  },
  {
   "cell_type": "code",
   "execution_count": null,
   "metadata": {},
   "outputs": [],
   "source": [
    "s1.one_idx"
   ]
  },
  {
   "cell_type": "code",
   "execution_count": null,
   "metadata": {},
   "outputs": [],
   "source": []
  }
 ],
 "metadata": {
  "kernelspec": {
   "display_name": "Python 3",
   "language": "python",
   "name": "python3"
  },
  "language_info": {
   "codemirror_mode": {
    "name": "ipython",
    "version": 3
   },
   "file_extension": ".py",
   "mimetype": "text/x-python",
   "name": "python",
   "nbconvert_exporter": "python",
   "pygments_lexer": "ipython3",
   "version": "3.7.6"
  }
 },
 "nbformat": 4,
 "nbformat_minor": 2
}
